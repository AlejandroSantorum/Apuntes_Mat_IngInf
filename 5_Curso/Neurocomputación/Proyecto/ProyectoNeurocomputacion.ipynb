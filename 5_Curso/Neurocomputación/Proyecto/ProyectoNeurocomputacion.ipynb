{
  "nbformat": 4,
  "nbformat_minor": 0,
  "metadata": {
    "colab": {
      "name": "ProyectoNeuro.ipynb",
      "provenance": [],
      "collapsed_sections": []
    },
    "kernelspec": {
      "name": "python3",
      "display_name": "Python 3"
    },
    "language_info": {
      "name": "python"
    },
    "accelerator": "TPU"
  },
  "cells": [
    {
      "cell_type": "code",
      "metadata": {
        "id": "SiN41hv5ilB-"
      },
      "source": [
        "import time\n",
        "import matplotlib.pyplot as plt\n",
        "import tensorflow as tf"
      ],
      "execution_count": null,
      "outputs": []
    },
    {
      "cell_type": "code",
      "metadata": {
        "colab": {
          "base_uri": "https://localhost:8080/"
        },
        "id": "mVbaxkvHMbHZ",
        "outputId": "eed7bca3-a6cb-4ae9-c603-8351d0a89f52"
      },
      "source": [
        "device_name = tf.test.gpu_device_name()\n",
        "if device_name != '/device:GPU:0':\n",
        "  raise SystemError('GPU device not found')\n",
        "print('Found GPU at: {}'.format(device_name))"
      ],
      "execution_count": null,
      "outputs": [
        {
          "output_type": "stream",
          "text": [
            "Found GPU at: /device:GPU:0\n"
          ],
          "name": "stdout"
        }
      ]
    },
    {
      "cell_type": "code",
      "metadata": {
        "id": "CMYLAVcPUriq"
      },
      "source": [
        "def matrix_mult_cpu(n):\n",
        "  with tf.device('/cpu:0'):\n",
        "    matrix_A = tf.random.normal((n, n))\n",
        "    matrix_B = tf.random.normal((n, n))\n",
        "    return tf.linalg.matmul(matrix_A, matrix_B)\n",
        "\n",
        "def matrix_mult_gpu(n):\n",
        "  with tf.device('/device:GPU:0'):\n",
        "    matrix_A = tf.random.normal((n, n))\n",
        "    matrix_B = tf.random.normal((n, n))\n",
        "    return tf.linalg.matmul(matrix_A, matrix_B)"
      ],
      "execution_count": null,
      "outputs": []
    },
    {
      "cell_type": "code",
      "metadata": {
        "id": "Lr3jSmj-az55"
      },
      "source": [
        "def convolution_cpu(n):\n",
        "  with tf.device('/cpu:0'):\n",
        "    random_image = tf.random.normal((n, 128, 128, 3))\n",
        "    net_cpu = tf.keras.layers.Conv2D(32, 8)(random_image)\n",
        "    return tf.math.reduce_sum(net_cpu)\n",
        "\n",
        "def convolution_gpu(n):\n",
        "  with tf.device('/device:GPU:0'):\n",
        "    random_image = tf.random.normal((n, 128, 128, 3))\n",
        "    net_gpu = tf.keras.layers.Conv2D(32, 8)(random_image)\n",
        "    return tf.math.reduce_sum(net_gpu)"
      ],
      "execution_count": null,
      "outputs": []
    },
    {
      "cell_type": "code",
      "metadata": {
        "id": "ran77SvtVZgl"
      },
      "source": [
        "def run_simulation_matrix_mult(n_list=[50, 100, 500, 1000, 2000, 5000, 7000, 10000], total_reps=10):\n",
        "  cpu_times = []\n",
        "  gpu_times = []\n",
        "  for n in n_list:\n",
        "    cpu_time = 0.0\n",
        "    gpu_time = 0.0\n",
        "    for _ in range(total_reps):\n",
        "      t1 = time.time()\n",
        "      matrix_mult_cpu(n)\n",
        "      t2 = time.time()\n",
        "      cpu_time += t2-t1\n",
        "\n",
        "      t1 = time.time()\n",
        "      matrix_mult_gpu(n)\n",
        "      t2 = time.time()\n",
        "      gpu_time += t2-t1\n",
        "    \n",
        "    cpu_times.append(cpu_time/total_reps)\n",
        "    gpu_times.append(gpu_time/total_reps)\n",
        "  print(cpu_times)\n",
        "  print(gpu_times)\n",
        "  plt.plot(n_list, cpu_times, label='cpu')\n",
        "  plt.plot(n_list, gpu_times, label='gpu')\n",
        "  plt.title('Tiempo de ejecución de multiplicación de matrices')\n",
        "  plt.xlabel('Tamaño matriz')\n",
        "  plt.ylabel('Tiempo (s)')\n",
        "  plt.legend()\n",
        "  plt.show()"
      ],
      "execution_count": null,
      "outputs": []
    },
    {
      "cell_type": "code",
      "metadata": {
        "id": "q5fgUOLmZaYh"
      },
      "source": [
        "def run_simulation_convolutional(n_list=[20, 40, 60, 80, 100, 200], total_reps=10):\n",
        "  cpu_times = []\n",
        "  gpu_times = []\n",
        "  for n in n_list:\n",
        "    cpu_time = 0.0\n",
        "    gpu_time = 0.0\n",
        "    for _ in range(total_reps):\n",
        "      t1 = time.time()\n",
        "      convolution_cpu(n)\n",
        "      t2 = time.time()\n",
        "      cpu_time += t2-t1\n",
        "\n",
        "      t1 = time.time()\n",
        "      convolution_gpu(n)\n",
        "      t2 = time.time()\n",
        "      gpu_time += t2-t1\n",
        "    \n",
        "    cpu_times.append(cpu_time/total_reps)\n",
        "    gpu_times.append(gpu_time/total_reps)\n",
        "  print(cpu_times)\n",
        "  print(gpu_times)\n",
        "  plt.plot(n_list, cpu_times, label='cpu')\n",
        "  plt.plot(n_list, gpu_times, label='gpu')\n",
        "  plt.title('Tiempo de ejecución de convolución')\n",
        "  plt.xlabel('Número de imágenes')\n",
        "  plt.ylabel('Tiempo (s)')\n",
        "  plt.legend()\n",
        "  plt.show()"
      ],
      "execution_count": null,
      "outputs": []
    },
    {
      "cell_type": "code",
      "metadata": {
        "id": "5MgeK2-srnTI",
        "colab": {
          "base_uri": "https://localhost:8080/",
          "height": 331
        },
        "outputId": "6860f590-e989-425b-e76a-c8e5508c22cf"
      },
      "source": [
        "run_simulation_matrix_mult(n_list=[50, 100, 500, 1000, 2000, 5000],total_reps=2)"
      ],
      "execution_count": null,
      "outputs": [
        {
          "output_type": "stream",
          "text": [
            "[0.0010200738906860352, 0.002778172492980957, 0.0148085355758667, 0.05828964710235596, 0.34017980098724365, 3.947255849838257]\n",
            "[0.0005723237991333008, 0.000544428825378418, 0.0004699230194091797, 0.0005807876586914062, 0.0007401704788208008, 0.0007138252258300781]\n"
          ],
          "name": "stdout"
        },
        {
          "output_type": "display_data",
          "data": {
            "image/png": "[encoded data removed]",
            "text/plain": [
              "<Figure size 432x288 with 1 Axes>"
            ]
          },
          "metadata": {
            "tags": [],
            "needs_background": "light"
          }
        }
      ]
    },
    {
      "cell_type": "code",
      "metadata": {
        "id": "k4RvlfYarrDX",
        "colab": {
          "base_uri": "https://localhost:8080/",
          "height": 332
        },
        "outputId": "0ea24525-9dad-4967-9887-c49c88cb576d"
      },
      "source": [
        "run_simulation_convolutional(n_list=[20, 40, 60, 80, 100],total_reps=2)"
      ],
      "execution_count": null,
      "outputs": [
        {
          "output_type": "stream",
          "text": [
            "[0.1040499210357666, 0.20643293857574463, 0.2947070598602295, 0.3910764455795288, 0.5083960294723511]\n",
            "[0.004393339157104492, 0.0063664913177490234, 0.004772305488586426, 0.004526734352111816, 0.0049637556076049805]\n"
          ],
          "name": "stdout"
        },
        {
          "output_type": "display_data",
          "data": {
            "image/png": "[encoded data removed]",
            "text/plain": [
              "<Figure size 432x288 with 1 Axes>"
            ]
          },
          "metadata": {
            "tags": [],
            "needs_background": "light"
          }
        }
      ]
    }
  ]
}