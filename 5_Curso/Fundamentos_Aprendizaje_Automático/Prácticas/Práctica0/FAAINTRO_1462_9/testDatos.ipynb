{
 "cells": [
  {
   "cell_type": "markdown",
   "metadata": {},
   "source": [
    "# Práctica 0: PRÁCTICA DE INTRODUCCIÓN\n",
    "## Alejandro Santorum Varela - alejandro.santorum@estudiante.uam.es\n",
    "## José Manuel Chacón Aguilera - josem.chacon@estudiante.uam.es"
   ]
  },
  {
   "cell_type": "code",
   "execution_count": 1,
   "metadata": {},
   "outputs": [],
   "source": [
    "import pandas as pd\n",
    "import random"
   ]
  },
  {
   "cell_type": "code",
   "execution_count": 2,
   "metadata": {},
   "outputs": [],
   "source": [
    "class Datos:\n",
    "\n",
    "    # TODO: procesar el fichero para asignar correctamente las variables nominalAtributos, datos y diccionarios\n",
    "    def __init__(self, nombreFichero):\n",
    "        # Init attributes\n",
    "        self.datos = None\n",
    "        self.nominalAtributos = None\n",
    "        self.diccionario = None\n",
    "\n",
    "        # reading csv\n",
    "        data_csv = pd.read_csv(nombreFichero, delimiter=',')\n",
    "        # storing data values in 'datos' class variable\n",
    "        self.datos = data_csv.values\n",
    "        \n",
    "        # building 'nominalAtributos' variable: list of boolean values with the same legth as the number of features\n",
    "        # of the dataset (including the class feature). If the feature is a nominal value (string) the variable\n",
    "        # 'nominalAtributos' will contain True, False if the feature is an integer or a real number.\n",
    "        self.nominalAtributos = []\n",
    "        example_row = self.datos[1]\n",
    "        for item in example_row:\n",
    "            if isinstance(item, str): # nominal feature\n",
    "                self.nominalAtributos.append(True)\n",
    "            elif isinstance(item, int) or isinstance(item, float): # integer or real feature\n",
    "                self.nominalAtributos.append(False)\n",
    "            else: # feature neither nominal nor integer nor real\n",
    "                raise ValueError('Tipo de dato diferente a nominal, entero o real')\n",
    "        \n",
    "        # building 'diccionario' variable: list of dictionaries. For each nominal feature a dictionary is built:\n",
    "        # each key will correspond with an unique nominal and its value is the numerical representation of that key/nominal.\n",
    "        self.diccionario = []\n",
    "        ncols = self.datos.shape[1]\n",
    "        for col in range(ncols):\n",
    "            # If the feature is integer type or real type, its dictionary is empty (it doesn't need translation)\n",
    "            if self.nominalAtributos[col] == False:\n",
    "                self.diccionario.append({})\n",
    "            # If the feature is nominal, then we build its translation dictionary to numerical values\n",
    "            else:\n",
    "                col_set = list(set(self.datos[:,col]))   # getting unique nominals\n",
    "                col_set.sort()                      # sorting nominals alphabetically \n",
    "                feature_dict = {}\n",
    "                for i in range(len(col_set)):       \n",
    "                    feature_dict[col_set[i]] = i  # {key: nominal, value: i} (counter)\n",
    "                self.diccionario.append(feature_dict)  # appending new dictionary for that feature\n",
    "        \n",
    "\n",
    "    def extraeDatos(self, idx):\n",
    "        # Se implementara en la practica 1\n",
    "        pass"
   ]
  },
  {
   "cell_type": "markdown",
   "metadata": {},
   "source": [
    "# Test con tic tac toe dataset"
   ]
  },
  {
   "cell_type": "code",
   "execution_count": 3,
   "metadata": {},
   "outputs": [],
   "source": [
    "ttt_Datos = Datos('ConjuntosDatos/tic-tac-toe.data')"
   ]
  },
  {
   "cell_type": "code",
   "execution_count": 4,
   "metadata": {},
   "outputs": [
    {
     "data": {
      "text/html": [
       "<div>\n",
       "<style scoped>\n",
       "    .dataframe tbody tr th:only-of-type {\n",
       "        vertical-align: middle;\n",
       "    }\n",
       "\n",
       "    .dataframe tbody tr th {\n",
       "        vertical-align: top;\n",
       "    }\n",
       "\n",
       "    .dataframe thead th {\n",
       "        text-align: right;\n",
       "    }\n",
       "</style>\n",
       "<table border=\"1\" class=\"dataframe\">\n",
       "  <thead>\n",
       "    <tr style=\"text-align: right;\">\n",
       "      <th></th>\n",
       "      <th>TLeftSq</th>\n",
       "      <th>TMidSq</th>\n",
       "      <th>TRightSq</th>\n",
       "      <th>MLeftSq</th>\n",
       "      <th>MMidSq</th>\n",
       "      <th>MRightSq</th>\n",
       "      <th>BLeftSq</th>\n",
       "      <th>BMidSq</th>\n",
       "      <th>BRightSq</th>\n",
       "      <th>Class</th>\n",
       "    </tr>\n",
       "  </thead>\n",
       "  <tbody>\n",
       "    <tr>\n",
       "      <th>0</th>\n",
       "      <td>x</td>\n",
       "      <td>x</td>\n",
       "      <td>x</td>\n",
       "      <td>x</td>\n",
       "      <td>o</td>\n",
       "      <td>o</td>\n",
       "      <td>x</td>\n",
       "      <td>o</td>\n",
       "      <td>o</td>\n",
       "      <td>positive</td>\n",
       "    </tr>\n",
       "    <tr>\n",
       "      <th>1</th>\n",
       "      <td>x</td>\n",
       "      <td>x</td>\n",
       "      <td>x</td>\n",
       "      <td>x</td>\n",
       "      <td>o</td>\n",
       "      <td>o</td>\n",
       "      <td>o</td>\n",
       "      <td>x</td>\n",
       "      <td>o</td>\n",
       "      <td>positive</td>\n",
       "    </tr>\n",
       "    <tr>\n",
       "      <th>2</th>\n",
       "      <td>x</td>\n",
       "      <td>x</td>\n",
       "      <td>x</td>\n",
       "      <td>x</td>\n",
       "      <td>o</td>\n",
       "      <td>o</td>\n",
       "      <td>o</td>\n",
       "      <td>o</td>\n",
       "      <td>x</td>\n",
       "      <td>positive</td>\n",
       "    </tr>\n",
       "    <tr>\n",
       "      <th>3</th>\n",
       "      <td>x</td>\n",
       "      <td>x</td>\n",
       "      <td>x</td>\n",
       "      <td>x</td>\n",
       "      <td>o</td>\n",
       "      <td>o</td>\n",
       "      <td>o</td>\n",
       "      <td>b</td>\n",
       "      <td>b</td>\n",
       "      <td>positive</td>\n",
       "    </tr>\n",
       "    <tr>\n",
       "      <th>4</th>\n",
       "      <td>x</td>\n",
       "      <td>x</td>\n",
       "      <td>x</td>\n",
       "      <td>x</td>\n",
       "      <td>o</td>\n",
       "      <td>o</td>\n",
       "      <td>b</td>\n",
       "      <td>o</td>\n",
       "      <td>b</td>\n",
       "      <td>positive</td>\n",
       "    </tr>\n",
       "  </tbody>\n",
       "</table>\n",
       "</div>"
      ],
      "text/plain": [
       "  TLeftSq TMidSq TRightSq MLeftSq MMidSq MRightSq BLeftSq BMidSq BRightSq  \\\n",
       "0       x      x        x       x      o        o       x      o        o   \n",
       "1       x      x        x       x      o        o       o      x        o   \n",
       "2       x      x        x       x      o        o       o      o        x   \n",
       "3       x      x        x       x      o        o       o      b        b   \n",
       "4       x      x        x       x      o        o       b      o        b   \n",
       "\n",
       "      Class  \n",
       "0  positive  \n",
       "1  positive  \n",
       "2  positive  \n",
       "3  positive  \n",
       "4  positive  "
      ]
     },
     "execution_count": 4,
     "metadata": {},
     "output_type": "execute_result"
    }
   ],
   "source": [
    "ttt_data_csv = pd.read_csv('ConjuntosDatos/tic-tac-toe.data', delimiter=',')\n",
    "ttt_data_csv.head()"
   ]
  },
  {
   "cell_type": "code",
   "execution_count": 5,
   "metadata": {},
   "outputs": [
    {
     "data": {
      "text/plain": [
       "array([['x', 'x', 'x', 'x', 'o', 'o', 'x', 'o', 'o', 'positive'],\n",
       "       ['x', 'x', 'x', 'x', 'o', 'o', 'o', 'x', 'o', 'positive'],\n",
       "       ['x', 'x', 'x', 'x', 'o', 'o', 'o', 'o', 'x', 'positive'],\n",
       "       ['x', 'x', 'x', 'x', 'o', 'o', 'o', 'b', 'b', 'positive'],\n",
       "       ['x', 'x', 'x', 'x', 'o', 'o', 'b', 'o', 'b', 'positive']],\n",
       "      dtype=object)"
      ]
     },
     "execution_count": 5,
     "metadata": {},
     "output_type": "execute_result"
    }
   ],
   "source": [
    "ttt_data = ttt_data_csv.values\n",
    "ttt_data[:5,]"
   ]
  },
  {
   "cell_type": "code",
   "execution_count": 6,
   "metadata": {},
   "outputs": [
    {
     "name": "stdout",
     "output_type": "stream",
     "text": [
      "958 10\n"
     ]
    }
   ],
   "source": [
    "nrows, ncols = ttt_data.shape\n",
    "print(nrows, ncols)"
   ]
  },
  {
   "cell_type": "markdown",
   "metadata": {},
   "source": [
    "Vamos a comprobar que el atributo 'datos' se ha llenado correctamente comparándolo con el conjunto de datos leído directamente del csv."
   ]
  },
  {
   "cell_type": "code",
   "execution_count": 7,
   "metadata": {},
   "outputs": [],
   "source": [
    "# Escogemos una fila al azar\n",
    "random_row = random.randint(0, nrows-1)"
   ]
  },
  {
   "cell_type": "code",
   "execution_count": 8,
   "metadata": {},
   "outputs": [
    {
     "name": "stdout",
     "output_type": "stream",
     "text": [
      "['x' 'x' 'o' 'o' 'x' 'o' 'o' 'x' 'x' 'positive']\n",
      "['x' 'x' 'o' 'o' 'x' 'o' 'o' 'x' 'x' 'positive']\n",
      "[ True  True  True  True  True  True  True  True  True  True]\n"
     ]
    }
   ],
   "source": [
    "print(ttt_data[random_row])\n",
    "print(ttt_Datos.datos[random_row])\n",
    "print(ttt_data[random_row] == ttt_Datos.datos[random_row])"
   ]
  },
  {
   "cell_type": "markdown",
   "metadata": {},
   "source": [
    "Vamos a comprobar que el atributo 'nominalAtributos' se ha configurado correctamente de forma visual"
   ]
  },
  {
   "cell_type": "code",
   "execution_count": 9,
   "metadata": {},
   "outputs": [
    {
     "data": {
      "text/plain": [
       "array(['x', 'x', 'x', 'x', 'o', 'o', 'o', 'x', 'o', 'positive'],\n",
       "      dtype=object)"
      ]
     },
     "execution_count": 9,
     "metadata": {},
     "output_type": "execute_result"
    }
   ],
   "source": [
    "ttt_data[1]"
   ]
  },
  {
   "cell_type": "code",
   "execution_count": 10,
   "metadata": {},
   "outputs": [
    {
     "data": {
      "text/plain": [
       "[True, True, True, True, True, True, True, True, True, True]"
      ]
     },
     "execution_count": 10,
     "metadata": {},
     "output_type": "execute_result"
    }
   ],
   "source": [
    "ttt_Datos.nominalAtributos"
   ]
  },
  {
   "cell_type": "markdown",
   "metadata": {},
   "source": [
    "Vamos a comprobar la lista de diccionarios del atributo 'diccionario'"
   ]
  },
  {
   "cell_type": "code",
   "execution_count": 11,
   "metadata": {},
   "outputs": [
    {
     "data": {
      "text/plain": [
       "[{'b': 0, 'o': 1, 'x': 2},\n",
       " {'b': 0, 'o': 1, 'x': 2},\n",
       " {'b': 0, 'o': 1, 'x': 2},\n",
       " {'b': 0, 'o': 1, 'x': 2},\n",
       " {'b': 0, 'o': 1, 'x': 2},\n",
       " {'b': 0, 'o': 1, 'x': 2},\n",
       " {'b': 0, 'o': 1, 'x': 2},\n",
       " {'b': 0, 'o': 1, 'x': 2},\n",
       " {'b': 0, 'o': 1, 'x': 2},\n",
       " {'negative': 0, 'positive': 1}]"
      ]
     },
     "execution_count": 11,
     "metadata": {},
     "output_type": "execute_result"
    }
   ],
   "source": [
    "ttt_Datos.diccionario"
   ]
  },
  {
   "cell_type": "markdown",
   "metadata": {},
   "source": [
    "# Test con german dataset"
   ]
  },
  {
   "cell_type": "code",
   "execution_count": 12,
   "metadata": {},
   "outputs": [],
   "source": [
    "ger_Datos = Datos('ConjuntosDatos/german.data')"
   ]
  },
  {
   "cell_type": "code",
   "execution_count": 13,
   "metadata": {},
   "outputs": [
    {
     "data": {
      "text/html": [
       "<div>\n",
       "<style scoped>\n",
       "    .dataframe tbody tr th:only-of-type {\n",
       "        vertical-align: middle;\n",
       "    }\n",
       "\n",
       "    .dataframe tbody tr th {\n",
       "        vertical-align: top;\n",
       "    }\n",
       "\n",
       "    .dataframe thead th {\n",
       "        text-align: right;\n",
       "    }\n",
       "</style>\n",
       "<table border=\"1\" class=\"dataframe\">\n",
       "  <thead>\n",
       "    <tr style=\"text-align: right;\">\n",
       "      <th></th>\n",
       "      <th>A1</th>\n",
       "      <th>A2</th>\n",
       "      <th>A3</th>\n",
       "      <th>A4</th>\n",
       "      <th>A5</th>\n",
       "      <th>A6</th>\n",
       "      <th>A7</th>\n",
       "      <th>A8</th>\n",
       "      <th>A9</th>\n",
       "      <th>A10</th>\n",
       "      <th>...</th>\n",
       "      <th>A12</th>\n",
       "      <th>A13</th>\n",
       "      <th>A14</th>\n",
       "      <th>A15</th>\n",
       "      <th>A16</th>\n",
       "      <th>A17</th>\n",
       "      <th>A18</th>\n",
       "      <th>A19</th>\n",
       "      <th>A20</th>\n",
       "      <th>Class</th>\n",
       "    </tr>\n",
       "  </thead>\n",
       "  <tbody>\n",
       "    <tr>\n",
       "      <th>0</th>\n",
       "      <td>A11</td>\n",
       "      <td>6</td>\n",
       "      <td>A34</td>\n",
       "      <td>A43</td>\n",
       "      <td>1169</td>\n",
       "      <td>A65</td>\n",
       "      <td>A75</td>\n",
       "      <td>4</td>\n",
       "      <td>A93</td>\n",
       "      <td>A101</td>\n",
       "      <td>...</td>\n",
       "      <td>A121</td>\n",
       "      <td>67</td>\n",
       "      <td>A143</td>\n",
       "      <td>A152</td>\n",
       "      <td>2</td>\n",
       "      <td>A173</td>\n",
       "      <td>1</td>\n",
       "      <td>A192</td>\n",
       "      <td>A201</td>\n",
       "      <td>1</td>\n",
       "    </tr>\n",
       "    <tr>\n",
       "      <th>1</th>\n",
       "      <td>A12</td>\n",
       "      <td>48</td>\n",
       "      <td>A32</td>\n",
       "      <td>A43</td>\n",
       "      <td>5951</td>\n",
       "      <td>A61</td>\n",
       "      <td>A73</td>\n",
       "      <td>2</td>\n",
       "      <td>A92</td>\n",
       "      <td>A101</td>\n",
       "      <td>...</td>\n",
       "      <td>A121</td>\n",
       "      <td>22</td>\n",
       "      <td>A143</td>\n",
       "      <td>A152</td>\n",
       "      <td>1</td>\n",
       "      <td>A173</td>\n",
       "      <td>1</td>\n",
       "      <td>A191</td>\n",
       "      <td>A201</td>\n",
       "      <td>2</td>\n",
       "    </tr>\n",
       "    <tr>\n",
       "      <th>2</th>\n",
       "      <td>A14</td>\n",
       "      <td>12</td>\n",
       "      <td>A34</td>\n",
       "      <td>A46</td>\n",
       "      <td>2096</td>\n",
       "      <td>A61</td>\n",
       "      <td>A74</td>\n",
       "      <td>2</td>\n",
       "      <td>A93</td>\n",
       "      <td>A101</td>\n",
       "      <td>...</td>\n",
       "      <td>A121</td>\n",
       "      <td>49</td>\n",
       "      <td>A143</td>\n",
       "      <td>A152</td>\n",
       "      <td>1</td>\n",
       "      <td>A172</td>\n",
       "      <td>2</td>\n",
       "      <td>A191</td>\n",
       "      <td>A201</td>\n",
       "      <td>1</td>\n",
       "    </tr>\n",
       "    <tr>\n",
       "      <th>3</th>\n",
       "      <td>A11</td>\n",
       "      <td>42</td>\n",
       "      <td>A32</td>\n",
       "      <td>A42</td>\n",
       "      <td>7882</td>\n",
       "      <td>A61</td>\n",
       "      <td>A74</td>\n",
       "      <td>2</td>\n",
       "      <td>A93</td>\n",
       "      <td>A103</td>\n",
       "      <td>...</td>\n",
       "      <td>A122</td>\n",
       "      <td>45</td>\n",
       "      <td>A143</td>\n",
       "      <td>A153</td>\n",
       "      <td>1</td>\n",
       "      <td>A173</td>\n",
       "      <td>2</td>\n",
       "      <td>A191</td>\n",
       "      <td>A201</td>\n",
       "      <td>1</td>\n",
       "    </tr>\n",
       "    <tr>\n",
       "      <th>4</th>\n",
       "      <td>A11</td>\n",
       "      <td>24</td>\n",
       "      <td>A33</td>\n",
       "      <td>A40</td>\n",
       "      <td>4870</td>\n",
       "      <td>A61</td>\n",
       "      <td>A73</td>\n",
       "      <td>3</td>\n",
       "      <td>A93</td>\n",
       "      <td>A101</td>\n",
       "      <td>...</td>\n",
       "      <td>A124</td>\n",
       "      <td>53</td>\n",
       "      <td>A143</td>\n",
       "      <td>A153</td>\n",
       "      <td>2</td>\n",
       "      <td>A173</td>\n",
       "      <td>2</td>\n",
       "      <td>A191</td>\n",
       "      <td>A201</td>\n",
       "      <td>2</td>\n",
       "    </tr>\n",
       "  </tbody>\n",
       "</table>\n",
       "<p>5 rows × 21 columns</p>\n",
       "</div>"
      ],
      "text/plain": [
       "    A1  A2   A3   A4    A5   A6   A7  A8   A9   A10  ...   A12 A13   A14  \\\n",
       "0  A11   6  A34  A43  1169  A65  A75   4  A93  A101  ...  A121  67  A143   \n",
       "1  A12  48  A32  A43  5951  A61  A73   2  A92  A101  ...  A121  22  A143   \n",
       "2  A14  12  A34  A46  2096  A61  A74   2  A93  A101  ...  A121  49  A143   \n",
       "3  A11  42  A32  A42  7882  A61  A74   2  A93  A103  ...  A122  45  A143   \n",
       "4  A11  24  A33  A40  4870  A61  A73   3  A93  A101  ...  A124  53  A143   \n",
       "\n",
       "    A15 A16   A17 A18   A19   A20 Class  \n",
       "0  A152   2  A173   1  A192  A201     1  \n",
       "1  A152   1  A173   1  A191  A201     2  \n",
       "2  A152   1  A172   2  A191  A201     1  \n",
       "3  A153   1  A173   2  A191  A201     1  \n",
       "4  A153   2  A173   2  A191  A201     2  \n",
       "\n",
       "[5 rows x 21 columns]"
      ]
     },
     "execution_count": 13,
     "metadata": {},
     "output_type": "execute_result"
    }
   ],
   "source": [
    "ger_data_csv = pd.read_csv('ConjuntosDatos/german.data', delimiter=',')\n",
    "ger_data_csv.head()"
   ]
  },
  {
   "cell_type": "code",
   "execution_count": 14,
   "metadata": {},
   "outputs": [
    {
     "data": {
      "text/plain": [
       "array([['A11', 6, 'A34', 'A43', 1169, 'A65', 'A75', 4, 'A93', 'A101', 4,\n",
       "        'A121', 67, 'A143', 'A152', 2, 'A173', 1, 'A192', 'A201', 1],\n",
       "       ['A12', 48, 'A32', 'A43', 5951, 'A61', 'A73', 2, 'A92', 'A101', 2,\n",
       "        'A121', 22, 'A143', 'A152', 1, 'A173', 1, 'A191', 'A201', 2],\n",
       "       ['A14', 12, 'A34', 'A46', 2096, 'A61', 'A74', 2, 'A93', 'A101', 3,\n",
       "        'A121', 49, 'A143', 'A152', 1, 'A172', 2, 'A191', 'A201', 1],\n",
       "       ['A11', 42, 'A32', 'A42', 7882, 'A61', 'A74', 2, 'A93', 'A103', 4,\n",
       "        'A122', 45, 'A143', 'A153', 1, 'A173', 2, 'A191', 'A201', 1],\n",
       "       ['A11', 24, 'A33', 'A40', 4870, 'A61', 'A73', 3, 'A93', 'A101', 4,\n",
       "        'A124', 53, 'A143', 'A153', 2, 'A173', 2, 'A191', 'A201', 2]],\n",
       "      dtype=object)"
      ]
     },
     "execution_count": 14,
     "metadata": {},
     "output_type": "execute_result"
    }
   ],
   "source": [
    "ger_data = ger_data_csv.values\n",
    "ger_data[:5,]"
   ]
  },
  {
   "cell_type": "code",
   "execution_count": 15,
   "metadata": {},
   "outputs": [
    {
     "name": "stdout",
     "output_type": "stream",
     "text": [
      "1000 21\n"
     ]
    }
   ],
   "source": [
    "nrows_ger, ncols_ger = ger_data.shape\n",
    "print(nrows_ger, ncols_ger)"
   ]
  },
  {
   "cell_type": "markdown",
   "metadata": {},
   "source": [
    "Vamos a comprobar que el atributo 'datos' se ha llenado correctamente comparándolo con el conjunto de datos leído directamente del csv."
   ]
  },
  {
   "cell_type": "code",
   "execution_count": 16,
   "metadata": {},
   "outputs": [],
   "source": [
    "# Escogemos una fila al azar\n",
    "random_row_ger = random.randint(0, nrows_ger-1)"
   ]
  },
  {
   "cell_type": "code",
   "execution_count": 17,
   "metadata": {},
   "outputs": [
    {
     "name": "stdout",
     "output_type": "stream",
     "text": [
      "['A14' 24 'A34' 'A40' 1287 'A64' 'A75' 4 'A92' 'A101' 4 'A121' 37 'A143'\n",
      " 'A152' 2 'A173' 1 'A192' 'A201' 1]\n",
      "['A14' 24 'A34' 'A40' 1287 'A64' 'A75' 4 'A92' 'A101' 4 'A121' 37 'A143'\n",
      " 'A152' 2 'A173' 1 'A192' 'A201' 1]\n",
      "[ True  True  True  True  True  True  True  True  True  True  True  True\n",
      "  True  True  True  True  True  True  True  True  True]\n"
     ]
    }
   ],
   "source": [
    "print(ger_data[random_row_ger])\n",
    "print(ger_Datos.datos[random_row_ger])\n",
    "print(ger_data[random_row_ger] == ger_Datos.datos[random_row_ger])"
   ]
  },
  {
   "cell_type": "markdown",
   "metadata": {},
   "source": [
    "Vamos a comprobar que el atributo 'nominalAtributos' se ha configurado correctamente de forma visual"
   ]
  },
  {
   "cell_type": "code",
   "execution_count": 18,
   "metadata": {},
   "outputs": [
    {
     "data": {
      "text/plain": [
       "array(['A12', 48, 'A32', 'A43', 5951, 'A61', 'A73', 2, 'A92', 'A101', 2,\n",
       "       'A121', 22, 'A143', 'A152', 1, 'A173', 1, 'A191', 'A201', 2],\n",
       "      dtype=object)"
      ]
     },
     "execution_count": 18,
     "metadata": {},
     "output_type": "execute_result"
    }
   ],
   "source": [
    "ger_data[1]"
   ]
  },
  {
   "cell_type": "code",
   "execution_count": 19,
   "metadata": {},
   "outputs": [
    {
     "data": {
      "text/plain": [
       "[True,\n",
       " False,\n",
       " True,\n",
       " True,\n",
       " False,\n",
       " True,\n",
       " True,\n",
       " False,\n",
       " True,\n",
       " True,\n",
       " False,\n",
       " True,\n",
       " False,\n",
       " True,\n",
       " True,\n",
       " False,\n",
       " True,\n",
       " False,\n",
       " True,\n",
       " True,\n",
       " False]"
      ]
     },
     "execution_count": 19,
     "metadata": {},
     "output_type": "execute_result"
    }
   ],
   "source": [
    "ger_Datos.nominalAtributos"
   ]
  },
  {
   "cell_type": "markdown",
   "metadata": {},
   "source": [
    "Vamos a comprobar la lista de diccionarios del atributo 'diccionario'"
   ]
  },
  {
   "cell_type": "code",
   "execution_count": 20,
   "metadata": {},
   "outputs": [
    {
     "data": {
      "text/plain": [
       "[{'A11': 0, 'A12': 1, 'A13': 2, 'A14': 3},\n",
       " {},\n",
       " {'A30': 0, 'A31': 1, 'A32': 2, 'A33': 3, 'A34': 4},\n",
       " {'A40': 0,\n",
       "  'A41': 1,\n",
       "  'A410': 2,\n",
       "  'A42': 3,\n",
       "  'A43': 4,\n",
       "  'A44': 5,\n",
       "  'A45': 6,\n",
       "  'A46': 7,\n",
       "  'A48': 8,\n",
       "  'A49': 9},\n",
       " {},\n",
       " {'A61': 0, 'A62': 1, 'A63': 2, 'A64': 3, 'A65': 4},\n",
       " {'A71': 0, 'A72': 1, 'A73': 2, 'A74': 3, 'A75': 4},\n",
       " {},\n",
       " {'A91': 0, 'A92': 1, 'A93': 2, 'A94': 3},\n",
       " {'A101': 0, 'A102': 1, 'A103': 2},\n",
       " {},\n",
       " {'A121': 0, 'A122': 1, 'A123': 2, 'A124': 3},\n",
       " {},\n",
       " {'A141': 0, 'A142': 1, 'A143': 2},\n",
       " {'A151': 0, 'A152': 1, 'A153': 2},\n",
       " {},\n",
       " {'A171': 0, 'A172': 1, 'A173': 2, 'A174': 3},\n",
       " {},\n",
       " {'A191': 0, 'A192': 1},\n",
       " {'A201': 0, 'A202': 1},\n",
       " {}]"
      ]
     },
     "execution_count": 20,
     "metadata": {},
     "output_type": "execute_result"
    }
   ],
   "source": [
    "ger_Datos.diccionario"
   ]
  },
  {
   "cell_type": "code",
   "execution_count": null,
   "metadata": {},
   "outputs": [],
   "source": []
  }
 ],
 "metadata": {
  "kernelspec": {
   "display_name": "Python 3",
   "language": "python",
   "name": "python3"
  },
  "language_info": {
   "codemirror_mode": {
    "name": "ipython",
    "version": 3
   },
   "file_extension": ".py",
   "mimetype": "text/x-python",
   "name": "python",
   "nbconvert_exporter": "python",
   "pygments_lexer": "ipython3",
   "version": "3.7.3"
  }
 },
 "nbformat": 4,
 "nbformat_minor": 2
}
