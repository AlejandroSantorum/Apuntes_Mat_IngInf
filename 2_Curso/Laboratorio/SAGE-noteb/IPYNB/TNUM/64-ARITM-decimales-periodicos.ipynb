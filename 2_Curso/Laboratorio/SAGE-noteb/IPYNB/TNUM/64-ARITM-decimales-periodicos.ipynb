{
 "cells": [
  {
   "cell_type": "markdown",
   "metadata": {},
   "source": [
    "<p>Queremos obtener la expresi&oacute;n como decimal de una fracci&oacute;n, y la forma m&aacute;s simple es</p>"
   ]
  },
  {
   "cell_type": "code",
   "execution_count": 1,
   "metadata": {},
   "outputs": [],
   "source": [
    "def decimal0(n,d,k):\n",
    "    return (n/d).n(digits=k)"
   ]
  },
  {
   "cell_type": "code",
   "execution_count": 2,
   "metadata": {},
   "outputs": [
    {
     "data": {
      "text/plain": [
       "0.1428571428571428571428571428571428571428571428571428571428571428571428571428571428571428571428571429"
      ]
     },
     "execution_count": 2,
     "metadata": {},
     "output_type": "execute_result"
    }
   ],
   "source": [
    "decimal0(1,7,100)"
   ]
  },
  {
   "cell_type": "markdown",
   "metadata": {},
   "source": [
    "<p>Sin embargo, y aunque sea m&aacute;s complicado, queremos ir obteniendo las cifras una a una con el fin de mantener m&aacute;s control sobre la forma en la que van apareciendo:</p>"
   ]
  },
  {
   "cell_type": "code",
   "execution_count": 3,
   "metadata": {},
   "outputs": [],
   "source": [
    "def decimal(n,d,N):\n",
    "    digitos = \"0123456789\"\n",
    "    decimal= \"0.\"\n",
    "    r = (n%d)/d\n",
    "    for muda in xsrange(N):\n",
    "        r *= 10\n",
    "        k = floor(r)\n",
    "        decimal += digitos[k]\n",
    "        r -= k\n",
    "    return decimal"
   ]
  },
  {
   "cell_type": "code",
   "execution_count": 4,
   "metadata": {},
   "outputs": [
    {
     "data": {
      "text/plain": [
       "'0.1428571428571428571428571428571428571428571428571428571428571428571428571428571428571428571428571428'"
      ]
     },
     "execution_count": 4,
     "metadata": {},
     "output_type": "execute_result"
    }
   ],
   "source": [
    "decimal(1,7,100)"
   ]
  },
  {
   "cell_type": "markdown",
   "metadata": {},
   "source": [
    "<p>Calculadas $100$ cifras decimales de la fracci&oacute;n $1/7$ vemos que el resultado parece peri&oacute;dico&nbsp; con per&iacute;odo $142857$. Ahora queremos separar los decimales no peri&oacute;dicos y el per&iacute;odo:</p>"
   ]
  },
  {
   "cell_type": "code",
   "execution_count": 5,
   "metadata": {},
   "outputs": [],
   "source": [
    "def f(r):\n",
    "    return floor(10*r)"
   ]
  },
  {
   "cell_type": "code",
   "execution_count": 6,
   "metadata": {},
   "outputs": [],
   "source": [
    "def F(r):\n",
    "    return 10*r-f(r)"
   ]
  },
  {
   "cell_type": "code",
   "execution_count": 7,
   "metadata": {},
   "outputs": [],
   "source": [
    "def periodo(r):\n",
    "    '''Suponemos n<d,  n primo con d, y d primo con 10'''\n",
    "    digitos = '0123456789'\n",
    "    n = r.numerator()\n",
    "    d = r.denominator()\n",
    "    des = '['\n",
    "    orbita = []\n",
    "    while d*r not in orbita:\n",
    "        orbita.append(d*r)\n",
    "        des += digitos[f(r)]\n",
    "        r = F(r)\n",
    "    des += \"]\"\n",
    "    return des,orbita"
   ]
  },
  {
   "cell_type": "code",
   "execution_count": 8,
   "metadata": {},
   "outputs": [
    {
     "data": {
      "text/plain": [
       "('[142857]', [1, 3, 2, 6, 4, 5])"
      ]
     },
     "execution_count": 8,
     "metadata": {},
     "output_type": "execute_result"
    }
   ],
   "source": [
    "periodo(1/7)"
   ]
  },
  {
   "cell_type": "code",
   "execution_count": 9,
   "metadata": {},
   "outputs": [],
   "source": [
    "def no_period(r):\n",
    "    '''Suponemos n<d y MCD(d,10)>1'''\n",
    "    digitos = '0123456789'\n",
    "    n = r.numerator()\n",
    "    d = r.denominator()\n",
    "    des = ''\n",
    "    while gcd(10,r.denominator()) > 1:\n",
    "        des += digitos[f(r)]\n",
    "        r = F(r)\n",
    "    return des,r"
   ]
  },
  {
   "cell_type": "code",
   "execution_count": 10,
   "metadata": {},
   "outputs": [],
   "source": [
    "def desarrollo(n,d):\n",
    "    desarr = ''\n",
    "    p_ent = str(n//d)+'.'\n",
    "    n,d = n%d,d\n",
    "    r = (n%d)/d\n",
    "    C,r = no_period(r)\n",
    "    C1,orbita = periodo(r)\n",
    "    return p_ent+C+C1,orbita"
   ]
  },
  {
   "cell_type": "code",
   "execution_count": 11,
   "metadata": {},
   "outputs": [
    {
     "name": "stdout",
     "output_type": "stream",
     "text": [
      "('0.23[7]', [7])\n"
     ]
    }
   ],
   "source": [
    "print desarrollo(107,450)"
   ]
  },
  {
   "cell_type": "code",
   "execution_count": 12,
   "metadata": {},
   "outputs": [
    {
     "name": "stdout",
     "output_type": "stream",
     "text": [
      "('0.[714285]', [5, 1, 3, 2, 6, 4])\n"
     ]
    }
   ],
   "source": [
    "print desarrollo(5,7)"
   ]
  },
  {
   "cell_type": "code",
   "execution_count": 13,
   "metadata": {},
   "outputs": [
    {
     "name": "stdout",
     "output_type": "stream",
     "text": [
      "('0.[546558704453441295]', [135, 115, 162, 138, 145, 215, 174, 11, 110, 112, 132, 85, 109, 102, 32, 73, 236, 137])\n"
     ]
    }
   ],
   "source": [
    "print desarrollo(135,247)"
   ]
  },
  {
   "cell_type": "code",
   "execution_count": 14,
   "metadata": {},
   "outputs": [
    {
     "name": "stdout",
     "output_type": "stream",
     "text": [
      "('5.[465587044534412955]', [115, 162, 138, 145, 215, 174, 11, 110, 112, 132, 85, 109, 102, 32, 73, 236, 137, 135])\n"
     ]
    }
   ],
   "source": [
    "print desarrollo(1350,247)"
   ]
  },
  {
   "cell_type": "code",
   "execution_count": 15,
   "metadata": {},
   "outputs": [
    {
     "data": {
      "text/plain": [
       "1"
      ]
     },
     "execution_count": 15,
     "metadata": {},
     "output_type": "execute_result"
    }
   ],
   "source": [
    "(4/20).numerator()"
   ]
  },
  {
   "cell_type": "code",
   "execution_count": 16,
   "metadata": {},
   "outputs": [
    {
     "name": "stdout",
     "output_type": "stream",
     "text": [
      "('0.[546558704453441295]', [135, 115, 162, 138, 145, 215, 174, 11, 110, 112, 132, 85, 109, 102, 32, 73, 236, 137])\n"
     ]
    }
   ],
   "source": [
    "print desarrollo(135,247)"
   ]
  },
  {
   "cell_type": "code",
   "execution_count": 17,
   "metadata": {},
   "outputs": [
    {
     "name": "stdout",
     "output_type": "stream",
     "text": [
      "('5.[465587044534412955]', [115, 162, 138, 145, 215, 174, 11, 110, 112, 132, 85, 109, 102, 32, 73, 236, 137, 135])\n"
     ]
    }
   ],
   "source": [
    "print desarrollo(1350,247)"
   ]
  }
 ],
 "metadata": {
  "kernelspec": {
   "display_name": "SageMath 8.0",
   "language": "",
   "name": "sagemath"
  },
  "language_info": {
   "codemirror_mode": {
    "name": "ipython",
    "version": 2
   },
   "file_extension": ".py",
   "mimetype": "text/x-python",
   "name": "python",
   "nbconvert_exporter": "python",
   "pygments_lexer": "ipython2",
   "version": "2.7.13"
  }
 },
 "nbformat": 4,
 "nbformat_minor": 1
}
