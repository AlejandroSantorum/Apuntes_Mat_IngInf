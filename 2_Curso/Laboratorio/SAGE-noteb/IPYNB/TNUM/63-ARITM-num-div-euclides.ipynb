{
 "cells": [
  {
   "cell_type": "markdown",
   "metadata": {},
   "source": [
    "<h3>Ejercicio 1</h3>"
   ]
  },
  {
   "cell_type": "code",
   "execution_count": 2,
   "metadata": {
    "collapsed": false
   },
   "outputs": [],
   "source": [
    "def num_div(a,b):\n",
    "    a0,b0 = a,b\n",
    "    contador = 0\n",
    "    if a < b:\n",
    "        return num_div(b,a)\n",
    "    while a%b != 0:\n",
    "        a,b = b,a%b\n",
    "        contador += 1\n",
    "    return contador,a0,b0,b,"
   ]
  },
  {
   "cell_type": "code",
   "execution_count": 2,
   "metadata": {
    "collapsed": false
   },
   "outputs": [
    {
     "name": "stdout",
     "output_type": "stream",
     "text": [
      "CPU times: user 0 ns, sys: 0 ns, total: 0 ns\n",
      "Wall time: 18.8 µs\n"
     ]
    },
    {
     "data": {
      "text/plain": [
       "(3, 134768, 67, 1)"
      ]
     },
     "execution_count": 2,
     "metadata": {},
     "output_type": "execute_result"
    }
   ],
   "source": [
    "%time num_div(134768,67)"
   ]
  },
  {
   "cell_type": "code",
   "execution_count": 3,
   "metadata": {
    "collapsed": false
   },
   "outputs": [
    {
     "name": "stdout",
     "output_type": "stream",
     "text": [
      "CPU times: user 27.6 s, sys: 725 ms, total: 28.4 s\n",
      "Wall time: 28.1 s\n"
     ]
    }
   ],
   "source": [
    "%time L1 = [num_div(a,b) for b in xrange(1,1000) for a in xrange(b+1,10000)]"
   ]
  },
  {
   "cell_type": "code",
   "execution_count": 4,
   "metadata": {
    "collapsed": false
   },
   "outputs": [
    {
     "data": {
      "text/plain": [
       "14"
      ]
     },
     "execution_count": 4,
     "metadata": {},
     "output_type": "execute_result"
    }
   ],
   "source": [
    "max([item[0] for item in L1])"
   ]
  },
  {
   "cell_type": "code",
   "execution_count": 5,
   "metadata": {
    "collapsed": false
   },
   "outputs": [
    {
     "name": "stdout",
     "output_type": "stream",
     "text": [
      "CPU times: user 187 ms, sys: 8.21 ms, total: 195 ms\n",
      "Wall time: 193 ms\n"
     ]
    }
   ],
   "source": [
    "%time L2 = [num_div(a,b) for b in xrange(11,99) for a in xrange(b+1,1000)]"
   ]
  },
  {
   "cell_type": "code",
   "execution_count": 6,
   "metadata": {
    "collapsed": false
   },
   "outputs": [
    {
     "data": {
      "text/plain": [
       "9"
      ]
     },
     "execution_count": 6,
     "metadata": {},
     "output_type": "execute_result"
    }
   ],
   "source": [
    "max([item[0] for item in L2])"
   ]
  },
  {
   "cell_type": "markdown",
   "metadata": {},
   "source": [
    "<p>Definimos una funci&oacute;n que hace lo mismo, pero ahorra RAM ya que no define listas grandes:</p>"
   ]
  },
  {
   "cell_type": "code",
   "execution_count": 7,
   "metadata": {
    "collapsed": false
   },
   "outputs": [],
   "source": [
    "def max_div(N0,N1,N2):\n",
    "    max = 1;\n",
    "    for b in xrange(N0,N1):\n",
    "        for a in xrange(b,N2):\n",
    "            if num_div(a,b)[0] > max:\n",
    "                max = num_div(a,b)[0]\n",
    "    return max"
   ]
  },
  {
   "cell_type": "code",
   "execution_count": 8,
   "metadata": {
    "collapsed": false
   },
   "outputs": [
    {
     "name": "stdout",
     "output_type": "stream",
     "text": [
      "CPU times: user 12.9 s, sys: 165 ms, total: 13.1 s\n",
      "Wall time: 12.9 s\n"
     ]
    },
    {
     "data": {
      "text/plain": [
       "14"
      ]
     },
     "execution_count": 8,
     "metadata": {},
     "output_type": "execute_result"
    }
   ],
   "source": [
    "%time max_div(1,999,5000)"
   ]
  },
  {
   "cell_type": "code",
   "execution_count": 5,
   "metadata": {
    "collapsed": false
   },
   "outputs": [
    {
     "name": "stdout",
     "output_type": "stream",
     "text": [
      "14\n",
      "CPU times: user 12.7 s, sys: 128 ms, total: 12.8 s\n",
      "Wall time: 12.8 s\n"
     ]
    }
   ],
   "source": [
    "%time print max([num_div(a,b)[0] for b in xrange(100,999) for a in xrange(b+1,5000)])"
   ]
  },
  {
   "cell_type": "markdown",
   "metadata": {},
   "source": [
    "Los dos métodos tardan lo mismo, en este rango de valores, pero el segundo debe utilizar menos RAM. Modificamos la función para guardar resultados intermedios."
   ]
  },
  {
   "cell_type": "code",
   "execution_count": 9,
   "metadata": {
    "collapsed": false
   },
   "outputs": [],
   "source": [
    "def max_div2(N0,N1,N2):\n",
    "    max = 1;\n",
    "    L = []\n",
    "    for b in xrange(N0,N1):\n",
    "        for a in xrange(b,N2):\n",
    "            if num_div(a,b)[0] == max:\n",
    "                L.append((num_div(a,b)[1],num_div(a,b)[2]))\n",
    "            elif num_div(a,b)[0] > max:\n",
    "                L = [(num_div(a,b)[1],num_div(a,b)[2])]\n",
    "                max = num_div(a,b)[0]\n",
    "    return max,L"
   ]
  },
  {
   "cell_type": "code",
   "execution_count": 10,
   "metadata": {
    "collapsed": false
   },
   "outputs": [
    {
     "name": "stdout",
     "output_type": "stream",
     "text": [
      "CPU times: user 454 ms, sys: 90.2 ms, total: 545 ms\n",
      "Wall time: 428 ms\n"
     ]
    },
    {
     "data": {
      "text/plain": [
       "(9,\n",
       " [(144, 89),\n",
       "  (233, 89),\n",
       "  (322, 89),\n",
       "  (411, 89),\n",
       "  (500, 89),\n",
       "  (589, 89),\n",
       "  (678, 89),\n",
       "  (767, 89),\n",
       "  (856, 89),\n",
       "  (945, 89)])"
      ]
     },
     "execution_count": 10,
     "metadata": {},
     "output_type": "execute_result"
    }
   ],
   "source": [
    "%time max_div2(10,99,1000)"
   ]
  },
  {
   "cell_type": "code",
   "execution_count": 11,
   "metadata": {
    "collapsed": false
   },
   "outputs": [
    {
     "data": {
      "text/plain": [
       "(9, 233, 89, 1)"
      ]
     },
     "execution_count": 11,
     "metadata": {},
     "output_type": "execute_result"
    }
   ],
   "source": [
    "num_div(233,89)"
   ]
  },
  {
   "cell_type": "code",
   "execution_count": 12,
   "metadata": {
    "collapsed": false
   },
   "outputs": [
    {
     "data": {
      "text/plain": [
       "(9, 322, 89, 1)"
      ]
     },
     "execution_count": 12,
     "metadata": {},
     "output_type": "execute_result"
    }
   ],
   "source": [
    "num_div(322,89)"
   ]
  },
  {
   "cell_type": "code",
   "execution_count": 13,
   "metadata": {
    "collapsed": false
   },
   "outputs": [],
   "source": [
    "def mcd_i2(a,b):\n",
    "    if a < b:\n",
    "        return mcd_i2(b,a)\n",
    "    while a%b != 0:\n",
    "        print a,b,a//b,a%b\n",
    "        a,b = b,a%b\n",
    "    return b"
   ]
  },
  {
   "cell_type": "code",
   "execution_count": 14,
   "metadata": {
    "collapsed": false
   },
   "outputs": [
    {
     "name": "stdout",
     "output_type": "stream",
     "text": [
      "144 89 1 55\n",
      "89 55 1 34\n",
      "55 34 1 21\n",
      "34 21 1 13\n",
      "21 13 1 8\n",
      "13 8 1 5\n",
      "8 5 1 3\n",
      "5 3 1 2\n",
      "3 2 1 1\n"
     ]
    },
    {
     "data": {
      "text/plain": [
       "1"
      ]
     },
     "execution_count": 14,
     "metadata": {},
     "output_type": "execute_result"
    }
   ],
   "source": [
    "mcd_i2(144,89)"
   ]
  },
  {
   "cell_type": "code",
   "execution_count": 15,
   "metadata": {
    "collapsed": false
   },
   "outputs": [
    {
     "name": "stdout",
     "output_type": "stream",
     "text": [
      "233 89 2 55\n",
      "89 55 1 34\n",
      "55 34 1 21\n",
      "34 21 1 13\n",
      "21 13 1 8\n",
      "13 8 1 5\n",
      "8 5 1 3\n",
      "5 3 1 2\n",
      "3 2 1 1\n"
     ]
    },
    {
     "data": {
      "text/plain": [
       "1"
      ]
     },
     "execution_count": 15,
     "metadata": {},
     "output_type": "execute_result"
    }
   ],
   "source": [
    "mcd_i2(233,89)"
   ]
  },
  {
   "cell_type": "code",
   "execution_count": 16,
   "metadata": {
    "collapsed": false
   },
   "outputs": [
    {
     "name": "stdout",
     "output_type": "stream",
     "text": [
      "322 89 3 55\n",
      "89 55 1 34\n",
      "55 34 1 21\n",
      "34 21 1 13\n",
      "21 13 1 8\n",
      "13 8 1 5\n",
      "8 5 1 3\n",
      "5 3 1 2\n",
      "3 2 1 1\n"
     ]
    },
    {
     "data": {
      "text/plain": [
       "1"
      ]
     },
     "execution_count": 16,
     "metadata": {},
     "output_type": "execute_result"
    }
   ],
   "source": [
    "mcd_i2(322,89)"
   ]
  },
  {
   "cell_type": "markdown",
   "metadata": {},
   "source": [
    "<p>&iquest;Cu&aacute;l es nuestra conclusi&oacute;n?</p>"
   ]
  }
 ],
 "metadata": {
  "kernelspec": {
   "display_name": "SageMath 7.3",
   "language": "",
   "name": "sagemath"
  },
  "language_info": {
   "codemirror_mode": {
    "name": "ipython",
    "version": 2
   },
   "file_extension": ".py",
   "mimetype": "text/x-python",
   "name": "python",
   "nbconvert_exporter": "python",
   "pygments_lexer": "ipython2",
   "version": "2.7.10"
  }
 },
 "nbformat": 4,
 "nbformat_minor": 0
}
