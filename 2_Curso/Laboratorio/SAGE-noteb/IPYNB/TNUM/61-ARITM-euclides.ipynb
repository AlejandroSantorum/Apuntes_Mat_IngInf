{
 "cells": [
  {
   "cell_type": "markdown",
   "metadata": {},
   "source": [
    "<h3>Algoritmo de Euclides</h3>"
   ]
  },
  {
   "cell_type": "code",
   "execution_count": 1,
   "metadata": {},
   "outputs": [],
   "source": [
    "def mcd_i(a,b):\n",
    "    if a < b:\n",
    "        return mcd_i(b,a)\n",
    "    while a%b != 0:\n",
    "        a,b = b,a%b\n",
    "    return b"
   ]
  },
  {
   "cell_type": "code",
   "execution_count": 2,
   "metadata": {},
   "outputs": [
    {
     "data": {
      "text/plain": [
       "154"
      ]
     },
     "execution_count": 2,
     "metadata": {},
     "output_type": "execute_result"
    }
   ],
   "source": [
    "mcd_i(2*7*11*31,9*44*7)"
   ]
  },
  {
   "cell_type": "code",
   "execution_count": 3,
   "metadata": {},
   "outputs": [],
   "source": [
    "def mcd_r(a,b):\n",
    "    if a < b:\n",
    "        return mcd_r(b,a)\n",
    "    elif b == 0:\n",
    "        return a\n",
    "    else:\n",
    "        return mcd_r(b,a%b)"
   ]
  },
  {
   "cell_type": "code",
   "execution_count": 4,
   "metadata": {},
   "outputs": [
    {
     "data": {
      "text/plain": [
       "154"
      ]
     },
     "execution_count": 4,
     "metadata": {},
     "output_type": "execute_result"
    }
   ],
   "source": [
    "mcd_r(2*7*11*31,9*44*7)"
   ]
  },
  {
   "cell_type": "markdown",
   "metadata": {},
   "source": [
    "<h3>Teorema de Bezout</h3>"
   ]
  },
  {
   "cell_type": "code",
   "execution_count": 5,
   "metadata": {},
   "outputs": [],
   "source": [
    "def bezout_r(a,b):\n",
    "    if a < b:\n",
    "        y,x = bezout_r(b,a)\n",
    "        return x,y\n",
    "    elif b == 0:\n",
    "        return 1,-1\n",
    "    else:\n",
    "        c = a//b\n",
    "        r = a%b\n",
    "        x,y = bezout_r(b,r)\n",
    "        return y,x-c*y"
   ]
  },
  {
   "cell_type": "code",
   "execution_count": 6,
   "metadata": {},
   "outputs": [
    {
     "data": {
      "text/plain": [
       "(3, -4)"
      ]
     },
     "execution_count": 6,
     "metadata": {},
     "output_type": "execute_result"
    }
   ],
   "source": [
    "bezout_r(3*5,2*5)"
   ]
  },
  {
   "cell_type": "code",
   "execution_count": 7,
   "metadata": {},
   "outputs": [
    {
     "data": {
      "text/plain": [
       "5"
      ]
     },
     "execution_count": 7,
     "metadata": {},
     "output_type": "execute_result"
    }
   ],
   "source": [
    "3*5*3-4*5*2"
   ]
  },
  {
   "cell_type": "code",
   "execution_count": 8,
   "metadata": {},
   "outputs": [
    {
     "name": "stdout",
     "output_type": "stream",
     "text": [
      "CPU times: user 0 ns, sys: 0 ns, total: 0 ns\n",
      "Wall time: 36 µs\n"
     ]
    },
    {
     "data": {
      "text/plain": [
       "(-180629316861549, 645104727607)"
      ]
     },
     "execution_count": 8,
     "metadata": {},
     "output_type": "execute_result"
    }
   ],
   "source": [
    "%time bezout_r(1234567899678,345678998765432)"
   ]
  },
  {
   "cell_type": "code",
   "execution_count": 9,
   "metadata": {},
   "outputs": [],
   "source": [
    "def bezout_i(a,b):\n",
    "    if a < b:\n",
    "        y,x = bezout_i(b,a)\n",
    "        return (x,y)\n",
    "    L = [(a,b,a//b,a%b)]\n",
    "    while a%b != 0:\n",
    "        a,b = b,a%b\n",
    "        L.append((a,b,a//b,a%b))\n",
    "        if a%b == 0:\n",
    "            L.append((b,0,b,0))\n",
    "    ##print L\n",
    "    return procesar(L)"
   ]
  },
  {
   "cell_type": "code",
   "execution_count": 10,
   "metadata": {},
   "outputs": [],
   "source": [
    "def procesar(L):\n",
    "     x,y = 1,-1\n",
    "     while len(L) > 0:\n",
    "         x,y = y,x-(L[-1:][0][2])*y\n",
    "         L = L[:-1]\n",
    "     return (x,y)"
   ]
  },
  {
   "cell_type": "code",
   "execution_count": 11,
   "metadata": {},
   "outputs": [
    {
     "data": {
      "text/plain": [
       "(-13, 19)"
      ]
     },
     "execution_count": 11,
     "metadata": {},
     "output_type": "execute_result"
    }
   ],
   "source": [
    "bezout_i(3*5,2*5)"
   ]
  },
  {
   "cell_type": "code",
   "execution_count": 12,
   "metadata": {},
   "outputs": [
    {
     "data": {
      "text/plain": [
       "-5"
      ]
     },
     "execution_count": 12,
     "metadata": {},
     "output_type": "execute_result"
    }
   ],
   "source": [
    "-13*3*5+19*2*5"
   ]
  },
  {
   "cell_type": "code",
   "execution_count": 13,
   "metadata": {},
   "outputs": [
    {
     "name": "stdout",
     "output_type": "stream",
     "text": [
      "CPU times: user 0 ns, sys: 0 ns, total: 0 ns\n",
      "Wall time: 111 µs\n"
     ]
    },
    {
     "data": {
      "text/plain": [
       "(526308315626981, -1879672627285)"
      ]
     },
     "execution_count": 13,
     "metadata": {},
     "output_type": "execute_result"
    }
   ],
   "source": [
    "%time bezout_i(1234567899678,345678998765432)"
   ]
  },
  {
   "cell_type": "markdown",
   "metadata": {},
   "source": [
    "<p>En esta primera soluci&oacute;n del \"bezout iterativo\" copiamos el procedimiento que realizamos a mano y que se explica en las notas.&nbsp; Hay una soluci&oacute;n iterativa mucho m&aacute;s elegante que utiliza matrices $2\\times 2$. La base del m&eacute;todo, como en las otras soluciones, es la observaci&oacute;n siguiente:</p>\n",
    "<p>Si $a=b\\cdot c_0+r_0$ y sabemos que $mcd(a,b)=d$ y $d=x\\cdot a+y\\cdot b$ entonces</p>\n",
    "<p>$$d=x\\cdot a+y\\cdot b=x\\cdot (b\\cdot c_0+r_0)+y\\cdot b=(x\\cdot c_0+y)b+x\\cdot r_0$$</p>\n",
    "<p>de forma que se pueden obtener los coeficientes de $b$ y $r_0$ en la expresi&oacute;n que da $d$ multiplicando una matriz por los coeficientes de $a$ y $b$:</p>\n",
    "<p>$$\\left(\\begin{array}{r} x^{\\prime}\\\\y^{\\prime}\\end{array}\\right)=\\left(\\begin{array}{rr} c_0&1\\\\1&0\\end{array}\\right)\\cdot \\left(\\begin{array}{r} x\\\\y\\end{array}\\right)$$</p>"
   ]
  },
  {
   "cell_type": "code",
   "execution_count": 34,
   "metadata": {},
   "outputs": [],
   "source": [
    "def bezout_i2(a,b):\n",
    "    M = matrix(ZZ,[[1,0],[0,1]]) #matriz identidad para inicializar M\n",
    "    while a%b != 0:\n",
    "        M = matrix(ZZ,[[a//b,1],[1,0]])*M\n",
    "        a,b = b,a%b\n",
    "    return M.inverse()*matrix(ZZ,[[0,1]]).transpose()"
   ]
  },
  {
   "cell_type": "code",
   "execution_count": 35,
   "metadata": {},
   "outputs": [
    {
     "data": {
      "text/plain": [
       "[-1]\n",
       "[ 6]"
      ]
     },
     "execution_count": 35,
     "metadata": {},
     "output_type": "execute_result"
    }
   ],
   "source": [
    "bezout_i2(385,66)"
   ]
  },
  {
   "cell_type": "code",
   "execution_count": 36,
   "metadata": {},
   "outputs": [
    {
     "data": {
      "text/plain": [
       "True"
      ]
     },
     "execution_count": 36,
     "metadata": {},
     "output_type": "execute_result"
    }
   ],
   "source": [
    "-385+6*66 == mcd_i(385,66)"
   ]
  },
  {
   "cell_type": "code",
   "execution_count": 37,
   "metadata": {},
   "outputs": [
    {
     "data": {
      "text/plain": [
       "(11, -1, 6)"
      ]
     },
     "execution_count": 37,
     "metadata": {},
     "output_type": "execute_result"
    }
   ],
   "source": [
    "xgcd(385,66)"
   ]
  },
  {
   "cell_type": "code",
   "execution_count": 23,
   "metadata": {},
   "outputs": [
    {
     "data": {
      "text/html": [
       "<html><script type=\"math/tex; mode=display\">\\newcommand{\\Bold}[1]{\\mathbf{#1}}\\left(\\begin{array}{rr}\n",
       "0 & 1 \\\\\n",
       "1 & -x\n",
       "\\end{array}\\right)</script></html>"
      ],
      "text/plain": [
       "[ 0  1]\n",
       "[ 1 -x]"
      ]
     },
     "metadata": {},
     "output_type": "display_data"
    }
   ],
   "source": [
    "A = matrix(SR,[[x,1],[1,0]])\n",
    "B = A.inverse()\n",
    "show(B)"
   ]
  },
  {
   "cell_type": "code",
   "execution_count": null,
   "metadata": {
    "collapsed": true
   },
   "outputs": [],
   "source": []
  }
 ],
 "metadata": {
  "kernelspec": {
   "display_name": "SageMath 8.0",
   "language": "",
   "name": "sagemath"
  },
  "language_info": {
   "codemirror_mode": {
    "name": "ipython",
    "version": 2
   },
   "file_extension": ".py",
   "mimetype": "text/x-python",
   "name": "python",
   "nbconvert_exporter": "python",
   "pygments_lexer": "ipython2",
   "version": "2.7.13"
  }
 },
 "nbformat": 4,
 "nbformat_minor": 1
}
