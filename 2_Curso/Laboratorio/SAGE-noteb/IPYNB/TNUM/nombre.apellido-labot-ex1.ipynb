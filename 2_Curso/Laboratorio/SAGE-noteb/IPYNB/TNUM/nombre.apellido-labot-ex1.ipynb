{
 "cells": [
  {
   "cell_type": "markdown",
   "metadata": {},
   "source": [
    "<p><span style=\"color: #ff0000;\">Por favor, antes de empezar el examen cambia el nombre de la hoja (File&gt;Rename worksheet) poniendo en lugar de \"nombre.apellido\" los tuyos tal como aparecen en tu direcci&oacute;n de correo electr&oacute;nico de la UAM. El final del nombre de la hoja, -labot-ex1, dej&aacute;lo como est&aacute;.<br /></span></p>\n",
    "<p><span style=\"color: #ff0000;\">Una vez hayas terminado el examen, salva la hoja (File&gt;Save worksheet to a file....) y d&eacute;jala en la carpeta en tu escritorio con nombre \"ENTREGA......\".</span></p>\n",
    "<h4>&nbsp;Ejercicio1</h4>\n",
    "<p>Decimos que un entero positivo $n$ es <strong>multiplicativamente perfecto</strong> si el producto de todos los divisores de $n$ vale exactamente $n^2.$ El ejemplo m&aacute;s sencillo de un n&uacute;mero multiplicativamente perfecto es el producto $n=p\\cdot q$ de dos primos distintos. Por tanto, existen infinitos enteros multiplicativamente perfectos. Queremos caracterizar los enteros multiplicativamente perfectos.</p>\n",
    "<ol>\n",
    "<li>Primero define una funci&oacute;n de Sage, de nombre $perfecto(n)$,&nbsp; que reciba como argumento un entero $n$ y devuelva $Truo$ o $False$ seg&uacute;n el n&uacute;mero $n$ sea multiplicativamente perfecto o no.</li>\n",
    "<li>Ahora define una funci&oacute;n de Sage, de nombre $perfectos(N)$,&nbsp; que reciba como argumento un entero $N$ y devuelva la lista de todos los enteros multiplicativamente perfectos que pertenecen al intervalo $[1,N].$</li>\n",
    "<li>Usando las listas de enteros multiplicativamente perfectos que puedes obtener con la funci&oacute;n del apartado anterior, produce una conjetura razonable acerca de qu&eacute; enteros son multiplicativamente perfectos. Debes escribir expl&iacute;citamente tu conjetura en una celda de texto.</li>\n",
    "<li>Define una tercera funci&oacute;n, de nombre $comprobar(N)$, que devuelva $True$ si tu conjetura es correcta para enteros positivos menores que $N$, y $False$ si no lo es.</li>\n",
    "<li>Experimenta con valores de $N$ suficientemente grandes para obtener&nbsp; el $N=10^t$ ($t$ entero) m&aacute;s grande tal que tu programa $comprobar(N)$ se ejecuta en menos de un minuto.</li>\n",
    "</ol>\n",
    "<h4>&nbsp;</h4>"
   ]
  },
  {
   "cell_type": "markdown",
   "metadata": {},
   "source": [
    "<h4>Ejercicio 2</h4>\n",
    "<p>En este ejercicio queremos definir funciones para comparar listas de enteros, <strong>salvo el orden de sus elementos</strong>,&nbsp; es decir, diremos que dos listas son <strong>casi-iguales</strong> si tienen la misma longitud y los mismos elementos pero no necesariamente en los mismos lugares. Las funciones que vamos a definir son 'tests' de casi-igualdad de listas.</p>\n",
    "<ol>\n",
    "<li>Primer m&eacute;todo: despu&eacute;s de comparar longitudes, y devolver $False$ si son diferentes, recorrer los elementos de la primera lista comprobando si son elementos de la segunda tambi&eacute;n. Si encontramos un elemento que est&aacute; en la primera lista y no en la segunda es claro que debemos devolver $False$, pero cada vez que encontramos un elemento que est&aacute; en las dos listas &iquest;qu&eacute; debemos hacer? Completa la idea para este m&eacute;todo y&nbsp; define una funci&oacute;n de Sage que lo implemente.</li>\n",
    "<li>Segundo m&eacute;todo:&nbsp; despu&eacute;s de comparar longitudes, y devolver $False$ si son diferentes, ordena las dos listas (puedes usar el m&eacute;todo $sort$ de Sage). Ahora compara las listas ordenadas&nbsp; recorriendo los elementos de la primera y comprobando si es igual al que ocupa el mismo lugar en la segunda.&nbsp; Define una funci&oacute;n de Sage que implemente este m&eacute;todo.</li>\n",
    "</ol>\n",
    "<p>Compara la eficiencia de los dos m&eacute;todos y discute los resultados obtenidos. Debes tener en cuenta que los tiempos obtenidos depender&aacute;n mucho de lo diferentes que sean las listas y debemos esperar que se obtengan tiempos mayores, y es el caso que nos conviene analizar,&nbsp; cuando una de las listas sea una reordenaci&oacute;n de la otra.&nbsp; Para producir una reordenaci&oacute;n aleatoria de una lista $L$ se pueden ejecutar las siguientes&nbsp; instrucciones en una celda</p>\n",
    "<p>$import \\text{ numpy as np}$</p>\n",
    "<p>$L1 = np.random.permutation(L).tolist()$</p>\n",
    "<p>y queda definida la lista $L1$ que es una permutaci&oacute;n aleatoria&nbsp; de la lista $L$.</p>"
   ]
  },
  {
   "cell_type": "markdown",
   "metadata": {},
   "source": [
    "<h4>Ejercicio 3</h4>\n",
    "<p>En este ejercicio estudiamos la existencia de ra&iacute;ces $k$-&eacute;simas en el anillo $\\mathbb{Z}_m$ de clases de restos m&oacute;dulo un entero $m$ . Como es natural,&nbsp; dados elementos&nbsp; $a,b\\in  \\mathbb{Z}_m$, decimos que $a$ es una ra&iacute;z $k$-&eacute;sima de $b$ si $a^k=b$ en $\\mathbb{Z}_m$. Nuestro objetivo es, dado el entero $m$,&nbsp; determinar los valores de $k\\le m$ tales que todos los elementos de $\\mathbb{Z}_m$ tienen una ra&iacute;z $k$-&eacute;sima.</p>\n",
    "<ol>\n",
    "<li>Define una funci&oacute;n de Sage, con nombre $raices(m,k)$, que devuelva $True$ si todas las clases de restos m&oacute;dulo $m$ tienen una ra&iacute;z $k$-&eacute;sima, con $k\\le m$, y $False$ en caso contrario.</li>\n",
    "<li>Aplica la funci&oacute;n $raices(m,k)$ con $m$ primo, por ejemplo $m=23$, y trata de entender (explicita una conjetura) cu&aacute;les son los valores de $k$ para los que se obtiene $True$.&nbsp; Define una nueva funci&oacute;n de Sage, $comprobador(N)$&nbsp; que sirva para comprobar si&nbsp; tu conjetura es cierta para todos los enteros primos&nbsp; del intervalo $[1,N].$ Mediante esta funci&oacute;n comprueba tu conjetura hasta el $N=10^t$ ($t$ entero) m&aacute;s grande tal que la comprobaci&oacute;n tarde menos de un minuto.</li>\n",
    "<li>&nbsp;Si todav&iacute;a tienes tiempo y ganas puedes estudiar el caso de enteros $m$ que son producto de dos primos distintos.</li>\n",
    "</ol>"
   ]
  },
  {
   "cell_type": "code",
   "execution_count": null,
   "metadata": {
    "collapsed": true
   },
   "outputs": [],
   "source": []
  }
 ],
 "metadata": {
  "kernelspec": {
   "display_name": "SageMath 8.0",
   "language": "",
   "name": "sagemath"
  },
  "language_info": {
   "codemirror_mode": {
    "name": "ipython",
    "version": 2
   },
   "file_extension": ".py",
   "mimetype": "text/x-python",
   "name": "python",
   "nbconvert_exporter": "python",
   "pygments_lexer": "ipython2",
   "version": "2.7.13"
  }
 },
 "nbformat": 4,
 "nbformat_minor": 1
}
