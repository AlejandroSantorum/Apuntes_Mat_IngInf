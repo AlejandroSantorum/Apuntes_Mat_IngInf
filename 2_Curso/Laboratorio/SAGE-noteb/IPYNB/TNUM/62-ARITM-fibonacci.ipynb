{
 "cells": [
  {
   "cell_type": "markdown",
   "metadata": {},
   "source": [
    "<h4>Ejercicio 1</h4>\n",
    "<p>C&aacute;lculo de los n&uacute;meros de Fibonacci usando matrices:</p>"
   ]
  },
  {
   "cell_type": "code",
   "execution_count": 1,
   "metadata": {
    "collapsed": true
   },
   "outputs": [],
   "source": [
    "A = matrix(ZZ,[[1,1],[1,0]])"
   ]
  },
  {
   "cell_type": "code",
   "execution_count": 2,
   "metadata": {
    "collapsed": true
   },
   "outputs": [],
   "source": [
    "def potencia(A,n):\n",
    "  k = A.ncols()\n",
    "  if n == 0:\n",
    "      return identity_matrix(k)\n",
    "  elif n%2 == 0:\n",
    "      B = potencia(A,n//2)\n",
    "      return (B*B)\n",
    "  else:\n",
    "      B = potencia(A,(n-1)//2)\n",
    "      return (A*B*B)"
   ]
  },
  {
   "cell_type": "code",
   "execution_count": 3,
   "metadata": {
    "collapsed": true
   },
   "outputs": [],
   "source": [
    "AA = potencia(A,157)"
   ]
  },
  {
   "cell_type": "code",
   "execution_count": 4,
   "metadata": {},
   "outputs": [
    {
     "data": {
      "text/plain": [
       "468340976726457153752543329995929"
      ]
     },
     "execution_count": 4,
     "metadata": {},
     "output_type": "execute_result"
    }
   ],
   "source": [
    "AA[0,0]"
   ]
  },
  {
   "cell_type": "code",
   "execution_count": 5,
   "metadata": {},
   "outputs": [
    {
     "data": {
      "text/plain": [
       "True"
      ]
     },
     "execution_count": 5,
     "metadata": {},
     "output_type": "execute_result"
    }
   ],
   "source": [
    "AA[0,0] == fibonacci(158)"
   ]
  },
  {
   "cell_type": "markdown",
   "metadata": {},
   "source": [
    "<h4>Ejercicio 2</h4>\n",
    "<p>Hay f&oacute;rmulas que permiten calcular el $n$-&eacute;simo n&uacute;mero de Fibonacci $F_n$ sin haber calculado los anteriores. Una tal f&oacute;rmula afirma que</p>\n",
    "<p>$$F_n:=\\frac{\\phi^n-(1-\\phi)^n}{\\sqrt{5}},$$</p>\n",
    "<p>con $\\phi$ el n&uacute;mero &aacute;ureo $\\frac{1+\\sqrt{5}}{2}$. OBSERVA que, aunque la parte derecha de la f&oacute;rmula es una expresi&oacute;n complicada que involucra ra&iacute;ces cuadradas de $5$, la f&oacute;rmula est&aacute; afirmando que el resultado es un n&uacute;mero entero para todo valor de $n$, es decir, que las ra&iacute;ces se van a cancelar al operar.</p>\n",
    "<ol>\n",
    "<li>En SAGE podemos operar de manera exacta (es decir, de forma \"simb&oacute;lica\" como opuesta a \"num&eacute;rica\") con expresiones como $\\phi$. Basta definir la ra&iacute;z cuadrada de $5$ como $sqrt(5)$ y usar las operaciones aritm&eacute;ticas habituales. <span style=\"color: #ff0000;\">Se puede forzar a SAGE a desarrollar (\"quitar los exponentes\")&nbsp; una expresi&oacute;n como $F_n$ usando la funci&oacute;n $expand$. Comprueba que $F_n$ es el n&uacute;mero de Fibonacci $n$-&eacute;simo para $20$ valores de $n$ mayores que $10000$. Estudia la eficiencia de esta f&oacute;rmula como medio para calcular el n&uacute;mero de Fibonacci $n$-&eacute;simo.</span></li>\n",
    "<li><span style=\"color: #ff0000;\">Define una funci&oacute;n $fibonacci\\_num(n,d)$ que devuelva el n&uacute;mero $F_n$ calculado, aproximadamente,&nbsp; como n&uacute;mero real con $d$ d&iacute;gitos de precisi&oacute;n. Estudia la eficiencia de este m&eacute;todo, comparando con el m&eacute;todo del apartado $1$ (siempre para valores de $n$ mayores que $10000$), y los errores que pueden aparecer al usar n&uacute;meros reales con $d$ d&iacute;gitos de precisi&oacute;n. <br /></span></li>\n",
    "</ol>"
   ]
  },
  {
   "cell_type": "code",
   "execution_count": 4,
   "metadata": {
    "collapsed": true
   },
   "outputs": [],
   "source": [
    "phi = (1+sqrt(5))/2"
   ]
  },
  {
   "cell_type": "code",
   "execution_count": 7,
   "metadata": {
    "collapsed": true
   },
   "outputs": [],
   "source": [
    "def F(n):\n",
    "    return expand(((phi^n)-(1-phi)^n)/sqrt(5))"
   ]
  },
  {
   "cell_type": "code",
   "execution_count": 10,
   "metadata": {},
   "outputs": [
    {
     "name": "stdout",
     "output_type": "stream",
     "text": [
      "CPU times: user 6.48 s, sys: 42.5 ms, total: 6.52 s\n",
      "Wall time: 6.32 s\n"
     ]
    }
   ],
   "source": [
    "%time f = F(10000); "
   ]
  },
  {
   "cell_type": "code",
   "execution_count": null,
   "metadata": {
    "collapsed": true
   },
   "outputs": [],
   "source": [
    "del f"
   ]
  },
  {
   "cell_type": "code",
   "execution_count": 11,
   "metadata": {},
   "outputs": [
    {
     "name": "stdout",
     "output_type": "stream",
     "text": [
      "CPU times: user 16.3 s, sys: 160 ms, total: 16.4 s\n",
      "Wall time: 16 s\n"
     ]
    }
   ],
   "source": [
    "%time ff = F(20000)"
   ]
  },
  {
   "cell_type": "code",
   "execution_count": 13,
   "metadata": {
    "collapsed": true
   },
   "outputs": [],
   "source": [
    "del ff"
   ]
  },
  {
   "cell_type": "code",
   "execution_count": 14,
   "metadata": {},
   "outputs": [
    {
     "data": {
      "text/plain": [
       "True"
      ]
     },
     "execution_count": 14,
     "metadata": {},
     "output_type": "execute_result"
    }
   ],
   "source": [
    "all([F(n) == fibonacci(n) for n in xrange(10000,10020)])"
   ]
  },
  {
   "cell_type": "markdown",
   "metadata": {},
   "source": [
    "#### Fibonacci usando números reales"
   ]
  },
  {
   "cell_type": "code",
   "execution_count": 1,
   "metadata": {
    "collapsed": true
   },
   "outputs": [],
   "source": [
    "def fibonacci_num(n,d):\n",
    "    phi2 = ((1+sqrt(5))/2).n(digits=d)\n",
    "    return ((phi2^n-(1-phi2)^n)/(sqrt(5)).n(digits=d)).ceil()"
   ]
  },
  {
   "cell_type": "code",
   "execution_count": 2,
   "metadata": {},
   "outputs": [
    {
     "name": "stdout",
     "output_type": "stream",
     "text": [
      "[31497821971, 51081002696, 82780151259, 134129589411, 216909740670, 352113071905, 568485941663, 922746497216, 1494453664351, 2417200161567, 3915948793214, 6358918758557, 10283457486363, 16659556114104, 26977373338835, 43705648929675, 70820461221982, 114663549105129, 185209132420167, 300697315246128, 486456203480183, 788802786167975, 1274159478020382, 2069559333955013, 3352514904997603, 5413278145930408, 8792181329994635, 14240643848013875, 23032825178008510]\n"
     ]
    }
   ],
   "source": [
    "print [fibonacci_num(1000+k,200)-fibonacci(1000+k) for k in srange(1,30)]"
   ]
  },
  {
   "cell_type": "code",
   "execution_count": 3,
   "metadata": {},
   "outputs": [
    {
     "name": "stdout",
     "output_type": "stream",
     "text": [
      "[0, 0, 0, 0, 0, 0, 0, 0, 0, 0, 0, 0, 0, 0, 0, 0, 0, 0, 0, 0, 0, 0, 0, 0, 0, 0, 0, 0, 0, 0, 0, 0, 0, 0, 0, 0, 0, 0, 0, 0, 0, 0, 0, 0, 0, 0, 0, 0, 0, 0, 0, 0, 0, 0, 0, 0, 0, 0, 0, 0, 0, 0, 0, 0, 0, 0, 0, 0, 0, 0, 0, 0, 0, 0, 0, 0, 0, 0, 0, 0, 0, 0, 0, 0, 0, 0, 0, 0, 0, 0, 0, 0, 0, 0, 0, 0, 0, 0, 0]\n"
     ]
    }
   ],
   "source": [
    "print [fibonacci_num(1000+k,300)-fibonacci(1000+k) for k in srange(1,100)]"
   ]
  },
  {
   "cell_type": "markdown",
   "metadata": {},
   "source": [
    "Hace falta usar una precisión suficiente. "
   ]
  },
  {
   "cell_type": "code",
   "execution_count": 50,
   "metadata": {},
   "outputs": [
    {
     "name": "stdout",
     "output_type": "stream",
     "text": [
      "[-31348260365014917045045270404907938796072844462510306987135351860490222303931811493604497883, 1, 1, 1, 1, 1, 1, 0, 1, 0, 1, 1, 1, 1, 0, 0, 1, 1, 1, 0, 0, 0, 1, 1, 0, 0, 0, 1, 0, 0, 0, 0, 1, 1, 1, 0, 0, 1, 0, 1, 1, 1, 1, 1, 0, 1, 1, 1, 1, 0, 1, 0, 1, 0, 1, 1, 0, 0, 0, 0, 1, 0, 0, 0, 1, 1, 1, 1, 0, 1, 0, 0, 1, 1, 0, 1, 1, 1, 0, 1]\n"
     ]
    }
   ],
   "source": [
    "print [fibonacci_num(10000,100*k)-fibonacci(10000) for k in srange(20,100)]"
   ]
  },
  {
   "cell_type": "code",
   "execution_count": 55,
   "metadata": {},
   "outputs": [
    {
     "name": "stdout",
     "output_type": "stream",
     "text": [
      "[-31348260365014917045045270404907938796072844462510306987135351860490222303931811493604497883, 1, 1, 1, 1, 1, 1, 0, 1, 0, 1, 1, 1, 1, 0, 0, 1, 1, 1, 0, 0, 0, 1, 1, 0, 0, 0, 1, 0, 0, 0, 0, 1, 1, 1, 0, 0, 1, 0, 1, 1, 1, 1, 1, 0, 1, 1, 1, 1, 0, 1, 0, 1, 0, 1, 1, 0, 0, 0, 0, 1, 0, 0, 0, 1, 1, 1, 1, 0, 1, 0, 0, 1, 1, 0, 1, 1, 1, 0, 1, 1, 0, 0, 0, 1, 0, 1, 1, 0, 1, 0, 1, 0, 0, 1, 0, 1, 1, 0, 0, 0, 0, 0, 1, 0, 0, 1, 1, 1, 0, 1, 1, 1, 0, 0, 0, 1, 1, 0, 1, 1, 0, 0, 1, 0, 1, 1, 1, 1, 0, 1, 0, 0, 1, 0, 0, 1, 0, 0, 1, 1, 1, 0, 0, 1, 0, 1, 1, 0, 0, 1, 0, 1, 1, 1, 0, 1, 0, 0, 0, 0, 1, 1, 1, 0, 0, 1, 0, 1, 1, 1, 0, 1, 1, 0, 0, 1, 0, 0, 1, 0, 1, 0, 1, 1, 0, 0, 0, 1, 1, 0, 1, 1, 1, 1, 1, 1, 1, 1, 0, 0, 0, 0, 1, 1, 0, 0, 0, 0, 0, 1, 1, 1, 1, 1, 0, 0, 0, 1, 1, 1, 1, 0, 1, 0, 0, 1, 0, 0, 1, 1, 1, 1, 0, 0, 1, 1, 0, 1, 0, 0, 1, 0, 1, 1, 1, 1, 0, 1, 1, 0, 1, 0, 0, 0, 0, 1, 1, 1, 1, 0, 0, 1, 1, 1, 0, 1, 0, 1, 1, 1, 1, 1, 0, 1, 1, 1, 0, 0, 1, 1, 0, 0, 0, 0, 0, 1, 1, 1, 0, 0, 0, 1, 1, 1, 1, 1, 1, 1, 0, 1, 0, 1, 0, 0, 0, 1, 0, 1, 0, 0, 1, 1, 1, 0, 0, 1, 1, 0, 0, 0, 0, 1, 0, 1, 0, 0, 0, 1, 1, 1, 0, 1, 1, 0, 1, 1, 1, 1, 1, 1, 0, 0, 1, 0, 1, 1, 0, 0, 1, 1, 1, 0, 0, 0, 1, 1, 1, 1, 0, 0, 0, 1, 1, 0, 0, 1, 1, 0, 1, 1, 1, 1, 0, 0, 1, 1, 1, 1, 1, 0, 1, 1, 0, 0, 1, 1, 1, 1, 0, 1, 1, 0, 0, 1, 0, 0, 0, 1, 1, 1, 0, 0, 1, 1, 0, 0, 0, 1, 1, 1, 1, 0, 1, 1, 1, 0, 1, 1, 0, 1, 0, 1, 1, 0, 0, 0, 0, 1, 1, 1, 1, 0, 1, 1, 1, 1, 1, 0, 1, 1, 1, 0, 1, 1, 1, 0, 0, 0, 1, 1, 0, 0, 0, 1, 0, 0, 1, 1, 1, 1, 1, 1, 1, 1, 1, 0, 1, 0, 1, 0, 1, 0, 0, 0, 1, 0, 1, 1, 1]\n"
     ]
    }
   ],
   "source": [
    "print [fibonacci_num(10000,100*k)-fibonacci(10000) for k in srange(20,500)]"
   ]
  },
  {
   "cell_type": "markdown",
   "metadata": {},
   "source": [
    "Vemos un desfase, que puede ser sólo de una unidad, pero que no desaparece al aumentar la precisión. "
   ]
  },
  {
   "cell_type": "code",
   "execution_count": 1,
   "metadata": {
    "collapsed": true
   },
   "outputs": [],
   "source": [
    "def fibonacci_num2(n,d):\n",
    "    phi2 = ((1+sqrt(5))/2).n(digits=d)\n",
    "    return (phi2^n/sqrt(5).n(digits=d)).floor()"
   ]
  },
  {
   "cell_type": "code",
   "execution_count": 53,
   "metadata": {},
   "outputs": [
    {
     "name": "stdout",
     "output_type": "stream",
     "text": [
      "[-31348260365014917045045270404907938796072844462510306987135351860490222303931811493604497883, 0, 0, 0, 0, 0, 0, -1, 0, -1, 0, 0, 0, 0, -1, -1, 0, 0, 0, -1, -1, -1, 0, 0, 0, 0, 0, 0, 0, 0, 0, 0, 0, 0, 0, 0, 0, 0, 0, 0, 0, 0, 0, 0, 0, 0, 0, 0, 0, 0, 0, 0, 0, 0, 0, 0, 0, 0, 0, 0, 0, 0, 0, 0, 0, 0, 0, 0, 0, 0, 0, 0, 0, 0, 0, 0, 0, 0, 0, 0]\n"
     ]
    }
   ],
   "source": [
    "print [fibonacci_num2(10000,100*k)-fibonacci(10000) for k in srange(20,100)]"
   ]
  },
  {
   "cell_type": "code",
   "execution_count": 54,
   "metadata": {},
   "outputs": [
    {
     "name": "stdout",
     "output_type": "stream",
     "text": [
      "[-31348260365014917045045270404907938796072844462510306987135351860490222303931811493604497883, 0, 0, 0, 0, 0, 0, -1, 0, -1, 0, 0, 0, 0, -1, -1, 0, 0, 0, -1, -1, -1, 0, 0, 0, 0, 0, 0, 0, 0, 0, 0, 0, 0, 0, 0, 0, 0, 0, 0, 0, 0, 0, 0, 0, 0, 0, 0, 0, 0, 0, 0, 0, 0, 0, 0, 0, 0, 0, 0, 0, 0, 0, 0, 0, 0, 0, 0, 0, 0, 0, 0, 0, 0, 0, 0, 0, 0, 0, 0, 0, 0, 0, 0, 0, 0, 0, 0, 0, 0, 0, 0, 0, 0, 0, 0, 0, 0, 0, 0, 0, 0, 0, 0, 0, 0, 0, 0, 0, 0, 0, 0, 0, 0, 0, 0, 0, 0, 0, 0, 0, 0, 0, 0, 0, 0, 0, 0, 0, 0, 0, 0, 0, 0, 0, 0, 0, 0, 0, 0, 0, 0, 0, 0, 0, 0, 0, 0, 0, 0, 0, 0, 0, 0, 0, 0, 0, 0, 0, 0, 0, 0, 0, 0, 0, 0, 0, 0, 0, 0, 0, 0, 0, 0, 0, 0, 0, 0, 0, 0, 0, 0, 0, 0, 0, 0, 0, 0, 0, 0, 0, 0, 0, 0, 0, 0, 0, 0, 0, 0, 0, 0, 0, 0, 0, 0, 0, 0, 0, 0, 0, 0, 0, 0, 0, 0, 0, 0, 0, 0, 0, 0, 0, 0, 0, 0, 0, 0, 0, 0, 0, 0, 0, 0, 0, 0, 0, 0, 0, 0, 0, 0, 0, 0, 0, 0, 0, 0, 0, 0, 0, 0, 0, 0, 0, 0, 0, 0, 0, 0, 0, 0, 0, 0, 0, 0, 0, 0, 0, 0, 0, 0, 0, 0, 0, 0, 0, 0, 0, 0, 0, 0, 0, 0, 0, 0, 0, 0, 0, 0, 0, 0, 0, 0, 0, 0, 0, 0, 0, 0, 0, 0, 0, 0, 0, 0, 0, 0, 0, 0, 0, 0, 0, 0, 0, 0, 0, 0, 0, 0, 0, 0, 0, 0, 0, 0, 0, 0, 0, 0, 0, 0, 0, 0, 0, 0, 0, 0, 0, 0, 0, 0, 0, 0, 0, 0, 0, 0, 0, 0, 0, 0, 0, 0, 0, 0, 0, 0, 0, 0, 0, 0, 0, 0, 0, 0, 0, 0, 0, 0, 0, 0, 0, 0, 0, 0, 0, 0, 0, 0, 0, 0, 0, 0, 0, 0, 0, 0, 0, 0, 0, 0, 0, 0, 0, 0, 0, 0, 0, 0, 0, 0, 0, 0, 0, 0, 0, 0, 0, 0, 0, 0, 0, 0, 0, 0, 0, 0, 0, 0, 0, 0, 0, 0, 0, 0, 0, 0, 0, 0, 0, 0, 0, 0, 0, 0, 0, 0, 0, 0, 0, 0, 0, 0, 0, 0, 0, 0, 0, 0, 0, 0, 0, 0, 0, 0, 0, 0, 0, 0, 0, 0, 0, 0, 0, 0, 0, 0, 0, 0, 0, 0, 0, 0, 0, 0, 0, 0, 0, 0]\n"
     ]
    }
   ],
   "source": [
    "print [fibonacci_num2(10000,100*k)-fibonacci(10000) for k in srange(20,500)]"
   ]
  },
  {
   "cell_type": "markdown",
   "metadata": {},
   "source": [
    "Parece que el resultado usando *floor* en lugar de *ceil* es mejor. Una tercera opción es usar *round* que devuelve el entero más próximo."
   ]
  },
  {
   "cell_type": "code",
   "execution_count": 4,
   "metadata": {
    "collapsed": true
   },
   "outputs": [],
   "source": [
    "def fibonacci_num3(n,d):\n",
    "    phi2 = ((1+sqrt(5))/2).n(digits=d)\n",
    "    return (phi2^n/sqrt(5).n(digits=d)).round()"
   ]
  },
  {
   "cell_type": "code",
   "execution_count": 5,
   "metadata": {},
   "outputs": [
    {
     "name": "stdout",
     "output_type": "stream",
     "text": [
      "[-31348260365014917045045270404907938796072844462510306987135351860490222303931811493604497883, 0, 0, 0, 0, 0, 0, 0, 0, 0, 0, 0, 0, 0, 0, 0, 0, 0, 0, 0, 0, 0, 0, 0, 0, 0, 0, 0, 0, 0, 0, 0, 0, 0, 0, 0, 0, 0, 0, 0, 0, 0, 0, 0, 0, 0, 0, 0, 0, 0, 0, 0, 0, 0, 0, 0, 0, 0, 0, 0, 0, 0, 0, 0, 0, 0, 0, 0, 0, 0, 0, 0, 0, 0, 0, 0, 0, 0, 0, 0, 0, 0, 0, 0, 0, 0, 0, 0, 0, 0, 0, 0, 0, 0, 0, 0, 0, 0, 0, 0, 0, 0, 0, 0, 0, 0, 0, 0, 0, 0, 0, 0, 0, 0, 0, 0, 0, 0, 0, 0, 0, 0, 0, 0, 0, 0, 0, 0, 0, 0, 0, 0, 0, 0, 0, 0, 0, 0, 0, 0, 0, 0, 0, 0, 0, 0, 0, 0, 0, 0, 0, 0, 0, 0, 0, 0, 0, 0, 0, 0, 0, 0, 0, 0, 0, 0, 0, 0, 0, 0, 0, 0, 0, 0, 0, 0, 0, 0, 0, 0, 0, 0, 0, 0, 0, 0, 0, 0, 0, 0, 0, 0, 0, 0, 0, 0, 0, 0, 0, 0, 0, 0, 0, 0, 0, 0, 0, 0, 0, 0, 0, 0, 0, 0, 0, 0, 0, 0, 0, 0, 0, 0, 0, 0, 0, 0, 0, 0, 0, 0, 0, 0, 0, 0, 0, 0, 0, 0, 0, 0, 0, 0, 0, 0, 0, 0, 0, 0, 0, 0, 0, 0, 0, 0, 0, 0, 0, 0, 0, 0, 0, 0, 0, 0, 0, 0, 0, 0, 0, 0, 0, 0, 0, 0, 0, 0, 0, 0, 0, 0, 0, 0, 0, 0, 0, 0, 0, 0, 0, 0, 0, 0, 0, 0, 0, 0, 0, 0, 0, 0, 0, 0, 0, 0, 0, 0, 0, 0, 0, 0, 0, 0, 0, 0, 0, 0, 0, 0, 0, 0, 0, 0, 0, 0, 0, 0, 0, 0, 0, 0, 0, 0, 0, 0, 0, 0, 0, 0, 0, 0, 0, 0, 0, 0, 0, 0, 0, 0, 0, 0, 0, 0, 0, 0, 0, 0, 0, 0, 0, 0, 0, 0, 0, 0, 0, 0, 0, 0, 0, 0, 0, 0, 0, 0, 0, 0, 0, 0, 0, 0, 0, 0, 0, 0, 0, 0, 0, 0, 0, 0, 0, 0, 0, 0, 0, 0, 0, 0, 0, 0, 0, 0, 0, 0, 0, 0, 0, 0, 0, 0, 0, 0, 0, 0, 0, 0, 0, 0, 0, 0, 0, 0, 0, 0, 0, 0, 0, 0, 0, 0, 0, 0, 0, 0, 0, 0, 0, 0, 0, 0, 0, 0, 0, 0, 0, 0, 0, 0, 0, 0, 0, 0, 0, 0, 0, 0, 0, 0, 0, 0, 0, 0, 0, 0, 0, 0, 0, 0, 0, 0, 0, 0, 0, 0, 0, 0, 0, 0, 0, 0]\n"
     ]
    }
   ],
   "source": [
    "print [fibonacci_num3(10000,100*k)-fibonacci(10000) for k in srange(20,500)]"
   ]
  },
  {
   "cell_type": "markdown",
   "metadata": {},
   "source": [
    "Usando *round* parece que una vez que se obtiene igualdad para una cierta precisión se mantiene para precisiones mayores."
   ]
  },
  {
   "cell_type": "code",
   "execution_count": 6,
   "metadata": {},
   "outputs": [
    {
     "name": "stdout",
     "output_type": "stream",
     "text": [
      "CPU times: user 412 ms, sys: 127 µs, total: 412 ms\n",
      "Wall time: 413 ms\n"
     ]
    },
    {
     "data": {
      "text/plain": [
       "True"
      ]
     },
     "execution_count": 6,
     "metadata": {},
     "output_type": "execute_result"
    }
   ],
   "source": [
    "%time fibonacci_num3(100000,50000) == fibonacci(100000)"
   ]
  },
  {
   "cell_type": "markdown",
   "metadata": {},
   "source": [
    "<p>El c&aacute;lculo simb&oacute;lico es ciertamente muy lento, y \"parece\" que al aumentar el tama&ntilde;o de los datos crece mucho el tiempo que tarda. En este tipo de problemas de c&aacute;lculo algebraico exacto no es raro que el tiempo que tarda sea exponencial (o incluso doblemente exponencial $e^{e^n}$) como funci&oacute;n del tama&ntilde;o de los datos. NO hay motivo suficiente en los c&aacute;lculos que he hecho para afirmarlo.</p>\n",
    "<p>El m&eacute;todo num&eacute;rico es mucho m&aacute;s eficiente, pero hay que incrementar mucho el n&uacute;mero de decimales en el c&aacute;lculo para obtener una respuesta correcta.&nbsp; El problema es que no sabemos 'a priori' cu&aacute;l es el $d$ que debemos elegir como funci&oacute;n de $n$, y aunque el m&eacute;todo es bastante r&aacute;pido, en cuanto incrementemos mucho el n&uacute;mero de decimales inevitablemente se ralentiza.</p>"
   ]
  },
  {
   "cell_type": "code",
   "execution_count": 21,
   "metadata": {},
   "outputs": [
    {
     "name": "stdout",
     "output_type": "stream",
     "text": [
      "5 loops, best of 3: 245 ms per loop\n"
     ]
    }
   ],
   "source": [
    "timeit('fibonacci_num(100000,40000)')"
   ]
  },
  {
   "cell_type": "code",
   "execution_count": 22,
   "metadata": {},
   "outputs": [
    {
     "name": "stdout",
     "output_type": "stream",
     "text": [
      "5 loops, best of 3: 945 ms per loop\n"
     ]
    }
   ],
   "source": [
    "timeit('fibonacci_num(100000,100000)')"
   ]
  },
  {
   "cell_type": "markdown",
   "metadata": {},
   "source": [
    "<h3>Ejercicio 3</h3>\n",
    "<p>Dado un n&uacute;mero de Fibonacci bastante grande $F_n$ queremos calcular el lugar que ocupa en la sucesi&oacute;n, es decir, <span style=\"color: #ff0000;\">dado un $F_n$ queremos obtener el $n$</span>.</p>\n",
    "<ol>\n",
    "<li><span style=\"color: #ff0000;\">Define, usando la construcci&oacute;n iterativa de la sucesi&oacute;n de Fibonacci,&nbsp; una funci&oacute;n que reciba como argumento&nbsp; $F_n$ y devuelva $n$. </span></li>\n",
    "<li>Cuando $n$ crece, el segundo sumando (de hecho es un \"restando\") en el numerador del $F_n$ del ejercicio anterior tiende a cero.<span style=\"color: #ff0000;\"> Explica el motivo</span>. Entonces, $F_n$ es aproximadamente igual a $\\phi^n/ \\sqrt{5}$,&nbsp; y esto podr&iacute;a servir para calcular $n$ dado un $F_n$ suficientemente grande. <span style=\"color: #ff0000;\">Implementa un tal m&eacute;todo, y estudia su grado de validez comparando los valores de $n$ que produce para variados $F_n$&nbsp; calculados a partir de enes dados.</span></li>\n",
    "</ol>"
   ]
  },
  {
   "cell_type": "code",
   "execution_count": 5,
   "metadata": {
    "collapsed": true
   },
   "outputs": [],
   "source": [
    "def subindice0(F):\n",
    "    p,q=0,1\n",
    "    cont = 0\n",
    "    while p < F:\n",
    "        p,q=q,p+q\n",
    "        cont += 1\n",
    "    return cont"
   ]
  },
  {
   "cell_type": "code",
   "execution_count": 6,
   "metadata": {},
   "outputs": [
    {
     "data": {
      "text/plain": [
       "True"
      ]
     },
     "execution_count": 6,
     "metadata": {},
     "output_type": "execute_result"
    }
   ],
   "source": [
    "fibonacci(subindice0(fibonacci(10000))) == fibonacci(10000)"
   ]
  },
  {
   "cell_type": "code",
   "execution_count": 7,
   "metadata": {},
   "outputs": [
    {
     "data": {
      "text/plain": [
       "-0.618033988749895"
      ]
     },
     "execution_count": 7,
     "metadata": {},
     "output_type": "execute_result"
    }
   ],
   "source": [
    "(1-phi).n()"
   ]
  },
  {
   "cell_type": "code",
   "execution_count": 8,
   "metadata": {},
   "outputs": [
    {
     "data": {
      "text/plain": [
       "0"
      ]
     },
     "execution_count": 8,
     "metadata": {},
     "output_type": "execute_result"
    }
   ],
   "source": [
    "var('n');limit(((1-phi).n())^n,n=oo)"
   ]
  },
  {
   "cell_type": "code",
   "execution_count": 9,
   "metadata": {
    "collapsed": true
   },
   "outputs": [],
   "source": [
    "def subindice(F):\n",
    "    return ((log(F*sqrt(5))/log(phi))).n().ceil()"
   ]
  },
  {
   "cell_type": "code",
   "execution_count": 10,
   "metadata": {},
   "outputs": [
    {
     "data": {
      "text/plain": [
       "10000"
      ]
     },
     "execution_count": 10,
     "metadata": {},
     "output_type": "execute_result"
    }
   ],
   "source": [
    "subindice(fibonacci(10000))"
   ]
  },
  {
   "cell_type": "code",
   "execution_count": 11,
   "metadata": {},
   "outputs": [
    {
     "data": {
      "text/plain": [
       "[True, True, True, True, True, True, True]"
      ]
     },
     "execution_count": 11,
     "metadata": {},
     "output_type": "execute_result"
    }
   ],
   "source": [
    "[subindice(fibonacci(10^k))==10^k for k in srange(2,9)]"
   ]
  },
  {
   "cell_type": "markdown",
   "metadata": {},
   "source": [
    "<p>No parece que haya que aumentar la precisi&oacute;n para obtener resultados correctos para n&uacute;meros de Fibonacci muy grandes. &iquest;Qu&eacute; m&eacute;todo es mejor?</p>"
   ]
  },
  {
   "cell_type": "code",
   "execution_count": 13,
   "metadata": {},
   "outputs": [
    {
     "name": "stdout",
     "output_type": "stream",
     "text": [
      "CPU times: user 4.87 s, sys: 54.6 ms, total: 4.93 s\n",
      "Wall time: 4.85 s\n",
      "CPU times: user 7.26 ms, sys: 0 ns, total: 7.26 ms\n",
      "Wall time: 7.15 ms\n"
     ]
    }
   ],
   "source": [
    "%time sub1 = subindice0(fibonacci(10^6))\n",
    "%time sub2 = subindice(fibonacci(10^6))"
   ]
  },
  {
   "cell_type": "code",
   "execution_count": 14,
   "metadata": {},
   "outputs": [
    {
     "name": "stdout",
     "output_type": "stream",
     "text": [
      "CPU times: user 1.27 s, sys: 12 ms, total: 1.28 s\n",
      "Wall time: 1.29 s\n"
     ]
    }
   ],
   "source": [
    "time sub2 = subindice(fibonacci(10^8))"
   ]
  },
  {
   "cell_type": "markdown",
   "metadata": {
    "collapsed": true
   },
   "source": [
    "## ¿Qué precisión nos conviene usar?"
   ]
  },
  {
   "cell_type": "code",
   "execution_count": 6,
   "metadata": {
    "collapsed": true
   },
   "outputs": [],
   "source": [
    "def precision(N1,N2,d):\n",
    "    cont = 0\n",
    "    L = []\n",
    "    for n in xsrange(N1,N2,7):\n",
    "        while cont < 100:\n",
    "            cont += 1\n",
    "            if fibonacci_num3(n,d) - fibonacci(n) != 0:\n",
    "                cont = 0\n",
    "                d += 100\n",
    "        L.append((n,d))\n",
    "    return L"
   ]
  },
  {
   "cell_type": "code",
   "execution_count": 7,
   "metadata": {},
   "outputs": [
    {
     "name": "stdout",
     "output_type": "stream",
     "text": [
      "CPU times: user 344 ms, sys: 12 ms, total: 356 ms\n",
      "Wall time: 347 ms\n"
     ]
    },
    {
     "data": {
      "text/plain": [
       "[(10000, 2100),\n",
       " (10007, 2100),\n",
       " (10014, 2100),\n",
       " (10021, 2100),\n",
       " (10028, 2100),\n",
       " (10035, 2100),\n",
       " (10042, 2100),\n",
       " (10049, 2100),\n",
       " (10056, 2100),\n",
       " (10063, 2100),\n",
       " (10070, 2100),\n",
       " (10077, 2100),\n",
       " (10084, 2100),\n",
       " (10091, 2100),\n",
       " (10098, 2100)]"
      ]
     },
     "execution_count": 7,
     "metadata": {},
     "output_type": "execute_result"
    }
   ],
   "source": [
    "%time precision(10000,10100,1000)"
   ]
  },
  {
   "cell_type": "code",
   "execution_count": 8,
   "metadata": {},
   "outputs": [
    {
     "name": "stdout",
     "output_type": "stream",
     "text": [
      "CPU times: user 12.2 s, sys: 0 ns, total: 12.2 s\n",
      "Wall time: 12.2 s\n"
     ]
    },
    {
     "data": {
      "text/plain": [
       "[(100000, 21000),\n",
       " (100007, 21000),\n",
       " (100014, 21000),\n",
       " (100021, 21000),\n",
       " (100028, 21000),\n",
       " (100035, 21000),\n",
       " (100042, 21000),\n",
       " (100049, 21000),\n",
       " (100056, 21000),\n",
       " (100063, 21000),\n",
       " (100070, 21000),\n",
       " (100077, 21000),\n",
       " (100084, 21000),\n",
       " (100091, 21000),\n",
       " (100098, 21000),\n",
       " (100105, 21000),\n",
       " (100112, 21000),\n",
       " (100119, 21000),\n",
       " (100126, 21000),\n",
       " (100133, 21000),\n",
       " (100140, 21000),\n",
       " (100147, 21000),\n",
       " (100154, 21000),\n",
       " (100161, 21000),\n",
       " (100168, 21000),\n",
       " (100175, 21000),\n",
       " (100182, 21000),\n",
       " (100189, 21000),\n",
       " (100196, 21000)]"
      ]
     },
     "execution_count": 8,
     "metadata": {},
     "output_type": "execute_result"
    }
   ],
   "source": [
    "%time precision(100000,100200,1000)"
   ]
  },
  {
   "cell_type": "code",
   "execution_count": 8,
   "metadata": {},
   "outputs": [
    {
     "name": "stdout",
     "output_type": "stream",
     "text": [
      "CPU times: user 30.8 s, sys: 56 ms, total: 30.8 s\n",
      "Wall time: 30.8 s\n"
     ]
    },
    {
     "data": {
      "text/plain": [
       "[(112000, 23500),\n",
       " (112007, 23500),\n",
       " (112014, 23500),\n",
       " (112021, 23500),\n",
       " (112028, 23500),\n",
       " (112035, 23500),\n",
       " (112042, 23500),\n",
       " (112049, 23500),\n",
       " (112056, 23500),\n",
       " (112063, 23500),\n",
       " (112070, 23500),\n",
       " (112077, 23500),\n",
       " (112084, 23500),\n",
       " (112091, 23500),\n",
       " (112098, 23500),\n",
       " (112105, 23500),\n",
       " (112112, 23500),\n",
       " (112119, 23500),\n",
       " (112126, 23500),\n",
       " (112133, 23500),\n",
       " (112140, 23500),\n",
       " (112147, 23500),\n",
       " (112154, 23500),\n",
       " (112161, 23500),\n",
       " (112168, 23500),\n",
       " (112175, 23500),\n",
       " (112182, 23500),\n",
       " (112189, 23500),\n",
       " (112196, 23500)]"
      ]
     },
     "execution_count": 8,
     "metadata": {},
     "output_type": "execute_result"
    }
   ],
   "source": [
    "%time precision(112000,112200,1000)"
   ]
  },
  {
   "cell_type": "code",
   "execution_count": 10,
   "metadata": {},
   "outputs": [
    {
     "data": {
      "text/plain": [
       "0"
      ]
     },
     "execution_count": 10,
     "metadata": {},
     "output_type": "execute_result"
    }
   ],
   "source": [
    "fibonacci_num3(112108,112108//4)-fibonacci(112108)"
   ]
  },
  {
   "cell_type": "markdown",
   "metadata": {},
   "source": [
    "Parece posible encontrar cómo depende la precisión necesaria del tamaño de los enteros que usamos como índices (el $n$ tal que calculamos $F_n$). Con estas dos catas parece que la dependencia puede ser del orden $d=n/5$. Para terminar el ejercicio hay que plantear un experimento con un rango más significativo de valores de $n$, y usar gráficas y la función de Sage $find\\_fit$ para obtener conclusiones. Observa que la función $precision$ tiene parámetros  fijos dentro del código que pueden no ser óptimos, y, por tanto, quizá conviene convertirlos en parámetros de la función y experimentar también con ellos.  "
   ]
  },
  {
   "cell_type": "code",
   "execution_count": 10,
   "metadata": {},
   "outputs": [
    {
     "name": "stdout",
     "output_type": "stream",
     "text": [
      "CPU times: user 29.6 s, sys: 236 ms, total: 29.8 s\n",
      "Wall time: 29.4 s\n"
     ]
    },
    {
     "data": {
      "text/plain": [
       "True"
      ]
     },
     "execution_count": 10,
     "metadata": {},
     "output_type": "execute_result"
    }
   ],
   "source": [
    "%time all([fibonacci_num3(k,k//4)==fibonacci(k) for k in xsrange(5000,15000)])"
   ]
  },
  {
   "cell_type": "markdown",
   "metadata": {},
   "source": [
    "Usando $d=k/5$ no funcionó siempre bien, pero con $d=k/4$ vemos que, en este rango, siempre se obtiene que las dos funciones dan el mismo resultado. "
   ]
  },
  {
   "cell_type": "code",
   "execution_count": 12,
   "metadata": {},
   "outputs": [
    {
     "name": "stdout",
     "output_type": "stream",
     "text": [
      "CPU times: user 8 ms, sys: 84 ms, total: 92 ms\n",
      "Wall time: 2min 20s\n"
     ]
    }
   ],
   "source": [
    "nucl = 16\n",
    "\n",
    "def fibonacci_num3(n,d):\n",
    "    phi2 = ((1+sqrt(5))/2).n(digits=d)\n",
    "    return ((phi2^n/sqrt(5)).n(digits=d)).round()\n",
    "\n",
    "\n",
    "\n",
    "def generar_lista(N1,N2,k,nucl):\n",
    "    L = [[] for muda in range(nucl)]\n",
    "    for n in xsrange(N1,N2,k):\n",
    "        r = n%nucl\n",
    "        if L[r] == []:\n",
    "            L[r]=[n]\n",
    "        else:\n",
    "            L[r] += [n]\n",
    "    return L\n",
    "\n",
    "\n",
    "@parallel(nucl)\n",
    "def comprobar(L):\n",
    "    L1 = []\n",
    "    for n in L:\n",
    "        if fibonacci_num3(n,n//4) - fibonacci(n) != 0:\n",
    "                L1.append(n)\n",
    "    return L1\n",
    "\n",
    "L = generar_lista(10**5,10**6,next_prime(1000),nucl)\n",
    "%time LL = list(comprobar([L[j] for j in srange(nucl)]))"
   ]
  },
  {
   "cell_type": "code",
   "execution_count": 17,
   "metadata": {},
   "outputs": [
    {
     "name": "stdout",
     "output_type": "stream",
     "text": [
      "[((([112108, 128252, 144396, 160540, 176684, 192828, 208972, 225116, 241260, 257404, 273548, 289692, 305836, 321980, 338124, 354268, 370412, 386556, 402700, 418844, 434988, 451132, 467276, 483420, 499564, 515708, 531852, 547996, 564140, 580284, 596428, 612572, 628716, 644860, 661004, 677148, 693292, 709436, 725580, 741724, 757868, 774012, 790156, 806300, 822444, 838588, 854732, 870876, 887020, 903164, 919308, 935452, 951596, 967740, 983884],), {}), []), ((([113117, 129261, 145405, 161549, 177693, 193837, 209981, 226125, 242269, 258413, 274557, 290701, 306845, 322989, 339133, 355277, 371421, 387565, 403709, 419853, 435997, 452141, 468285, 484429, 500573, 516717, 532861, 549005, 565149, 581293, 597437, 613581, 629725, 645869, 662013, 678157, 694301, 710445, 726589, 742733, 758877, 775021, 791165, 807309, 823453, 839597, 855741, 871885, 888029, 904173, 920317, 936461, 952605, 968749, 984893],), {}), []), ((([114126, 130270, 146414, 162558, 178702, 194846, 210990, 227134, 243278, 259422, 275566, 291710, 307854, 323998, 340142, 356286, 372430, 388574, 404718, 420862, 437006, 453150, 469294, 485438, 501582, 517726, 533870, 550014, 566158, 582302, 598446, 614590, 630734, 646878, 663022, 679166, 695310, 711454, 727598, 743742, 759886, 776030, 792174, 808318, 824462, 840606, 856750, 872894, 889038, 905182, 921326, 937470, 953614, 969758, 985902],), {}), []), ((([100000, 116144, 132288, 148432, 164576, 180720, 196864, 213008, 229152, 245296, 261440, 277584, 293728, 309872, 326016, 342160, 358304, 374448, 390592, 406736, 422880, 439024, 455168, 471312, 487456, 503600, 519744, 535888, 552032, 568176, 584320, 600464, 616608, 632752, 648896, 665040, 681184, 697328, 713472, 729616, 745760, 761904, 778048, 794192, 810336, 826480, 842624, 858768, 874912, 891056, 907200, 923344, 939488, 955632, 971776, 987920],), {}), []), ((([115135, 131279, 147423, 163567, 179711, 195855, 211999, 228143, 244287, 260431, 276575, 292719, 308863, 325007, 341151, 357295, 373439, 389583, 405727, 421871, 438015, 454159, 470303, 486447, 502591, 518735, 534879, 551023, 567167, 583311, 599455, 615599, 631743, 647887, 664031, 680175, 696319, 712463, 728607, 744751, 760895, 777039, 793183, 809327, 825471, 841615, 857759, 873903, 890047, 906191, 922335, 938479, 954623, 970767, 986911],), {}), []), ((([101009, 117153, 133297, 149441, 165585, 181729, 197873, 214017, 230161, 246305, 262449, 278593, 294737, 310881, 327025, 343169, 359313, 375457, 391601, 407745, 423889, 440033, 456177, 472321, 488465, 504609, 520753, 536897, 553041, 569185, 585329, 601473, 617617, 633761, 649905, 666049, 682193, 698337, 714481, 730625, 746769, 762913, 779057, 795201, 811345, 827489, 843633, 859777, 875921, 892065, 908209, 924353, 940497, 956641, 972785, 988929],), {}), []), ((([102018, 118162, 134306, 150450, 166594, 182738, 198882, 215026, 231170, 247314, 263458, 279602, 295746, 311890, 328034, 344178, 360322, 376466, 392610, 408754, 424898, 441042, 457186, 473330, 489474, 505618, 521762, 537906, 554050, 570194, 586338, 602482, 618626, 634770, 650914, 667058, 683202, 699346, 715490, 731634, 747778, 763922, 780066, 796210, 812354, 828498, 844642, 860786, 876930, 893074, 909218, 925362, 941506, 957650, 973794, 989938],), {}), []), ((([103027, 119171, 135315, 151459, 167603, 183747, 199891, 216035, 232179, 248323, 264467, 280611, 296755, 312899, 329043, 345187, 361331, 377475, 393619, 409763, 425907, 442051, 458195, 474339, 490483, 506627, 522771, 538915, 555059, 571203, 587347, 603491, 619635, 635779, 651923, 668067, 684211, 700355, 716499, 732643, 748787, 764931, 781075, 797219, 813363, 829507, 845651, 861795, 877939, 894083, 910227, 926371, 942515, 958659, 974803, 990947],), {}), []), ((([104036, 120180, 136324, 152468, 168612, 184756, 200900, 217044, 233188, 249332, 265476, 281620, 297764, 313908, 330052, 346196, 362340, 378484, 394628, 410772, 426916, 443060, 459204, 475348, 491492, 507636, 523780, 539924, 556068, 572212, 588356, 604500, 620644, 636788, 652932, 669076, 685220, 701364, 717508, 733652, 749796, 765940, 782084, 798228, 814372, 830516, 846660, 862804, 878948, 895092, 911236, 927380, 943524, 959668, 975812, 991956],), {}), []), ((([105045, 121189, 137333, 153477, 169621, 185765, 201909, 218053, 234197, 250341, 266485, 282629, 298773, 314917, 331061, 347205, 363349, 379493, 395637, 411781, 427925, 444069, 460213, 476357, 492501, 508645, 524789, 540933, 557077, 573221, 589365, 605509, 621653, 637797, 653941, 670085, 686229, 702373, 718517, 734661, 750805, 766949, 783093, 799237, 815381, 831525, 847669, 863813, 879957, 896101, 912245, 928389, 944533, 960677, 976821, 992965],), {}), []), ((([106054, 122198, 138342, 154486, 170630, 186774, 202918, 219062, 235206, 251350, 267494, 283638, 299782, 315926, 332070, 348214, 364358, 380502, 396646, 412790, 428934, 445078, 461222, 477366, 493510, 509654, 525798, 541942, 558086, 574230, 590374, 606518, 622662, 638806, 654950, 671094, 687238, 703382, 719526, 735670, 751814, 767958, 784102, 800246, 816390, 832534, 848678, 864822, 880966, 897110, 913254, 929398, 945542, 961686, 977830, 993974],), {}), []), ((([107063, 123207, 139351, 155495, 171639, 187783, 203927, 220071, 236215, 252359, 268503, 284647, 300791, 316935, 333079, 349223, 365367, 381511, 397655, 413799, 429943, 446087, 462231, 478375, 494519, 510663, 526807, 542951, 559095, 575239, 591383, 607527, 623671, 639815, 655959, 672103, 688247, 704391, 720535, 736679, 752823, 768967, 785111, 801255, 817399, 833543, 849687, 865831, 881975, 898119, 914263, 930407, 946551, 962695, 978839, 994983],), {}), []), ((([108072, 124216, 140360, 156504, 172648, 188792, 204936, 221080, 237224, 253368, 269512, 285656, 301800, 317944, 334088, 350232, 366376, 382520, 398664, 414808, 430952, 447096, 463240, 479384, 495528, 511672, 527816, 543960, 560104, 576248, 592392, 608536, 624680, 640824, 656968, 673112, 689256, 705400, 721544, 737688, 753832, 769976, 786120, 802264, 818408, 834552, 850696, 866840, 882984, 899128, 915272, 931416, 947560, 963704, 979848, 995992],), {}), []), ((([109081, 125225, 141369, 157513, 173657, 189801, 205945, 222089, 238233, 254377, 270521, 286665, 302809, 318953, 335097, 351241, 367385, 383529, 399673, 415817, 431961, 448105, 464249, 480393, 496537, 512681, 528825, 544969, 561113, 577257, 593401, 609545, 625689, 641833, 657977, 674121, 690265, 706409, 722553, 738697, 754841, 770985, 787129, 803273, 819417, 835561, 851705, 867849, 883993, 900137, 916281, 932425, 948569, 964713, 980857, 997001],), {}), []), ((([110090, 126234, 142378, 158522, 174666, 190810, 206954, 223098, 239242, 255386, 271530, 287674, 303818, 319962, 336106, 352250, 368394, 384538, 400682, 416826, 432970, 449114, 465258, 481402, 497546, 513690, 529834, 545978, 562122, 578266, 594410, 610554, 626698, 642842, 658986, 675130, 691274, 707418, 723562, 739706, 755850, 771994, 788138, 804282, 820426, 836570, 852714, 868858, 885002, 901146, 917290, 933434, 949578, 965722, 981866, 998010],), {}), []), ((([111099, 127243, 143387, 159531, 175675, 191819, 207963, 224107, 240251, 256395, 272539, 288683, 304827, 320971, 337115, 353259, 369403, 385547, 401691, 417835, 433979, 450123, 466267, 482411, 498555, 514699, 530843, 546987, 563131, 579275, 595419, 611563, 627707, 643851, 659995, 676139, 692283, 708427, 724571, 740715, 756859, 773003, 789147, 805291, 821435, 837579, 853723, 869867, 886011, 902155, 918299, 934443, 950587, 966731, 982875, 999019],), {}), [])]\n"
     ]
    }
   ],
   "source": [
    "print LL"
   ]
  },
  {
   "cell_type": "code",
   "execution_count": 18,
   "metadata": {},
   "outputs": [
    {
     "name": "stdout",
     "output_type": "stream",
     "text": [
      "((([112108, 128252, 144396, 160540, 176684, 192828, 208972, 225116, 241260, 257404, 273548, 289692, 305836, 321980, 338124, 354268, 370412, 386556, 402700, 418844, 434988, 451132, 467276, 483420, 499564, 515708, 531852, 547996, 564140, 580284, 596428, 612572, 628716, 644860, 661004, 677148, 693292, 709436, 725580, 741724, 757868, 774012, 790156, 806300, 822444, 838588, 854732, 870876, 887020, 903164, 919308, 935452, 951596, 967740, 983884],), {}), [])\n"
     ]
    }
   ],
   "source": [
    "print LL[0]"
   ]
  },
  {
   "cell_type": "code",
   "execution_count": 19,
   "metadata": {},
   "outputs": [
    {
     "name": "stdout",
     "output_type": "stream",
     "text": [
      "[]\n"
     ]
    }
   ],
   "source": [
    "print LL[0][1]"
   ]
  },
  {
   "cell_type": "code",
   "execution_count": 20,
   "metadata": {},
   "outputs": [
    {
     "name": "stdout",
     "output_type": "stream",
     "text": [
      "[]\n",
      "[]\n",
      "[]\n",
      "[]\n",
      "[]\n",
      "[]\n",
      "[]\n",
      "[]\n",
      "[]\n",
      "[]\n",
      "[]\n",
      "[]\n",
      "[]\n",
      "[]\n",
      "[]\n",
      "[]\n"
     ]
    }
   ],
   "source": [
    "for int in srange(16):\n",
    "    print LL[int][1]"
   ]
  },
  {
   "cell_type": "code",
   "execution_count": 24,
   "metadata": {},
   "outputs": [
    {
     "name": "stdout",
     "output_type": "stream",
     "text": [
      "True\n"
     ]
    }
   ],
   "source": [
    "print LL[0][0][0][0] in L"
   ]
  },
  {
   "cell_type": "code",
   "execution_count": 26,
   "metadata": {},
   "outputs": [
    {
     "name": "stdout",
     "output_type": "stream",
     "text": [
      "True\n",
      "True\n",
      "True\n",
      "True\n",
      "True\n",
      "True\n",
      "True\n",
      "True\n",
      "True\n",
      "True\n",
      "True\n",
      "True\n",
      "True\n",
      "True\n",
      "True\n",
      "True\n"
     ]
    }
   ],
   "source": [
    "for int in srange(16):\n",
    "    print LL[int][0][0][0] in L"
   ]
  },
  {
   "cell_type": "markdown",
   "metadata": {},
   "source": [
    "*Parece* que la precisión óptima estaría entre $d/5$ y $d/4$. Se podría afinar más porque *probablemente* algo más de $d/5$ también serviría. "
   ]
  },
  {
   "cell_type": "code",
   "execution_count": null,
   "metadata": {
    "collapsed": true
   },
   "outputs": [],
   "source": []
  }
 ],
 "metadata": {
  "kernelspec": {
   "display_name": "SageMath 8.0",
   "language": "",
   "name": "sagemath"
  },
  "language_info": {
   "codemirror_mode": {
    "name": "ipython",
    "version": 2
   },
   "file_extension": ".py",
   "mimetype": "text/x-python",
   "name": "python",
   "nbconvert_exporter": "python",
   "pygments_lexer": "ipython2",
   "version": "2.7.13"
  }
 },
 "nbformat": 4,
 "nbformat_minor": 1
}
