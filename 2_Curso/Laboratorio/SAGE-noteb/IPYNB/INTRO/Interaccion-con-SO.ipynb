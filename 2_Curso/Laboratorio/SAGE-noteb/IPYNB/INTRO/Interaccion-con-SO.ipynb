{
 "cells": [
  {
   "cell_type": "markdown",
   "metadata": {
    "deletable": true,
    "editable": true
   },
   "source": [
    "Algunos comentarios:\n",
    "\n",
    "1. La parte de este archivo que se refiere a la compresión y descompresión de archivos y directorios es útil en el uso del servidor remoto del Departamento (jupyter.mat.uam.es). Es la forma de subir, o bajar, una gran cantidad de hojas al servidor. Cuando trabajamos en *local* la interacción con el sistema operativo puede ser directa, a través del propio sistema operativo sin uso del navegador.  \n",
    "\n",
    "2. La interacción con el sistema operativo es asunto peligroso. Cuando borramos un archivo o directorio se borra *definitivamente* y es irrecuperable. \n",
    "\n",
    "3. Un servidor de cálculo, como el nuestro (jupyter.mat.uam.es), debe permitir  la ejecución de *código arbitrario* ya que si no la permitiera no sería muy útil.  <span style=\"color:red\">En consecuencia, no es tremendamente difícil conseguir que se ejecute en el servidor *código malicioso*, que podría llegar a perjudicar seriamente al resto de los usuarios. Esperamos que esto ni se intente,  y que todos los usuarios respeten completamente  un **bien de uso común**.</span>\n",
    "\n",
    "\n",
    "\n",
    "#### Navegar por el sistema de archivos"
   ]
  },
  {
   "cell_type": "code",
   "execution_count": 1,
   "metadata": {
    "collapsed": false,
    "deletable": true,
    "editable": true,
    "scrolled": true
   },
   "outputs": [
    {
     "name": "stdout",
     "output_type": "stream",
     "text": [
      "total 60\r\n",
      "drwxrwxr-x 3 rhg rhg  4096 sep  3 12:18 ARCHIVOS\r\n",
      "-rw-rw-r-- 1 rhg rhg    60 sep  3 12:45 hw.c\r\n",
      "-rwxr-x--- 1 rhg rhg 26956 sep  3 14:37 Interaccion-con-SO.ipynb\r\n",
      "-rwxr-x--- 1 rhg rhg  2308 sep  3 14:30 markdown.ipynb\r\n",
      "-r-xr-x--- 1 rhg rhg 18876 ago 18 20:05 primera-clase.ipynb\r\n"
     ]
    }
   ],
   "source": [
    "!ls -l  #Contenido del directorio en el que comenzamos"
   ]
  },
  {
   "cell_type": "code",
   "execution_count": null,
   "metadata": {
    "collapsed": false,
    "deletable": true,
    "editable": true,
    "scrolled": true
   },
   "outputs": [],
   "source": [
    "!pwd #Imprime el directorio en el que estamos"
   ]
  },
  {
   "cell_type": "code",
   "execution_count": null,
   "metadata": {
    "collapsed": false,
    "deletable": true,
    "editable": true,
    "scrolled": true
   },
   "outputs": [],
   "source": [
    "%cd .."
   ]
  },
  {
   "cell_type": "code",
   "execution_count": 4,
   "metadata": {
    "collapsed": false,
    "deletable": true,
    "editable": true,
    "scrolled": true
   },
   "outputs": [
    {
     "name": "stdout",
     "output_type": "stream",
     "text": [
      "total 16\r\n",
      "drwxr-x--- 2 rhg rhg 4096 ene  9  2017 CAVAN\r\n",
      "drwxr-x--- 2 rhg rhg 4096 jul  4 20:39 EFICIENCIA\r\n",
      "drwxr-x--- 4 rhg rhg 4096 sep  3 14:37 INTRO\r\n",
      "drwxr-x--- 2 rhg rhg 4096 sep 10  2016 IPYNB_mios\r\n"
     ]
    }
   ],
   "source": [
    "!ls -l"
   ]
  },
  {
   "cell_type": "code",
   "execution_count": null,
   "metadata": {
    "collapsed": false,
    "deletable": true,
    "editable": true
   },
   "outputs": [],
   "source": [
    "%cd INTRO"
   ]
  },
  {
   "cell_type": "markdown",
   "metadata": {
    "deletable": true,
    "editable": true
   },
   "source": [
    "#### Comprimir directorios"
   ]
  },
  {
   "cell_type": "code",
   "execution_count": 6,
   "metadata": {
    "collapsed": false,
    "deletable": true,
    "editable": true,
    "scrolled": true
   },
   "outputs": [
    {
     "name": "stdout",
     "output_type": "stream",
     "text": [
      "total 60\r\n",
      "drwxrwxr-x 3 rhg rhg  4096 sep  3 12:18 ARCHIVOS\r\n",
      "-rw-rw-r-- 1 rhg rhg    60 sep  3 12:45 hw.c\r\n",
      "-rwxr-x--- 1 rhg rhg 26956 sep  3 14:37 Interaccion-con-SO.ipynb\r\n",
      "-rwxr-x--- 1 rhg rhg  2308 sep  3 14:30 markdown.ipynb\r\n",
      "-r-xr-x--- 1 rhg rhg 18876 ago 18 20:05 primera-clase.ipynb\r\n"
     ]
    }
   ],
   "source": [
    "!ls -l"
   ]
  },
  {
   "cell_type": "code",
   "execution_count": 7,
   "metadata": {
    "collapsed": false,
    "deletable": true,
    "editable": true,
    "scrolled": true
   },
   "outputs": [
    {
     "name": "stdout",
     "output_type": "stream",
     "text": [
      "ARCHIVOS/\r\n",
      "ARCHIVOS/COMPRIMIR/\r\n",
      "ARCHIVOS/COMPRIMIR/lugar.txt\r\n",
      "ARCHIVOS/COMPRIMIR/canta.txt\r\n",
      "ARCHIVOS/tragedy-commons.pdf\r\n"
     ]
    }
   ],
   "source": [
    "!tar --exclude='.*' -cvzf  prueba1.tar.gz ARCHIVOS/ \n",
    "# Creamos el archivo comprimido pruebas.tar.gz\n",
    "# Hay que ejecutar el comando desde el directorio \n",
    "#que contiene al que queremos comprimir\n",
    "#Excluimos los archivos y directorios ocultos \n",
    "#cuyo nombre empieza por un punto"
   ]
  },
  {
   "cell_type": "code",
   "execution_count": 8,
   "metadata": {
    "collapsed": false,
    "deletable": true,
    "editable": true,
    "scrolled": true
   },
   "outputs": [
    {
     "name": "stdout",
     "output_type": "stream",
     "text": [
      "total 1508\r\n",
      "drwxrwxr-x 3 rhg rhg    4096 sep  3 12:18 ARCHIVOS\r\n",
      "-rw-rw-r-- 1 rhg rhg      60 sep  3 12:45 hw.c\r\n",
      "-rwxr-x--- 1 rhg rhg   26956 sep  3 14:37 Interaccion-con-SO.ipynb\r\n",
      "-rwxr-x--- 1 rhg rhg    2308 sep  3 14:30 markdown.ipynb\r\n",
      "-r-xr-x--- 1 rhg rhg   18876 ago 18 20:05 primera-clase.ipynb\r\n",
      "-rw-rw-r-- 1 rhg rhg 1482752 sep  3 14:38 prueba1.tar.gz\r\n"
     ]
    }
   ],
   "source": [
    "!ls -l # Ya tenemos el archivo comprimido que ahora se puede descargar"
   ]
  },
  {
   "cell_type": "code",
   "execution_count": null,
   "metadata": {
    "collapsed": false
   },
   "outputs": [],
   "source": [
    "%cd ~/Desktop/SAGE-noteb/IPYNB/\n",
    "!pwd"
   ]
  },
  {
   "cell_type": "code",
   "execution_count": 10,
   "metadata": {
    "collapsed": false,
    "deletable": true,
    "editable": true
   },
   "outputs": [
    {
     "name": "stdout",
     "output_type": "stream",
     "text": [
      "tar: .: file changed as we read it\r\n"
     ]
    }
   ],
   "source": [
    "!tar --exclude=Todo.tar.gz -czf Todo.tar.gz .\n",
    "#Comprime todo el directorio en el que estamos y el comprimido queda en el nivel superior\n",
    "#Al no tener la opcion v en -czf no muestra la lista de archivos"
   ]
  },
  {
   "cell_type": "code",
   "execution_count": 11,
   "metadata": {
    "collapsed": false,
    "deletable": true,
    "editable": true
   },
   "outputs": [
    {
     "name": "stdout",
     "output_type": "stream",
     "text": [
      "total 6268\r\n",
      "drwxr-x--- 2 rhg rhg    4096 ene  9  2017 CAVAN\r\n",
      "drwxr-x--- 2 rhg rhg    4096 jul  4 20:39 EFICIENCIA\r\n",
      "drwxr-x--- 4 rhg rhg    4096 sep  3 14:38 INTRO\r\n",
      "drwxr-x--- 2 rhg rhg    4096 sep 10  2016 IPYNB_mios\r\n",
      "-rw-rw-r-- 1 rhg rhg 6400571 sep  3 14:38 Todo.tar.gz\r\n"
     ]
    }
   ],
   "source": [
    "!ls -l"
   ]
  },
  {
   "cell_type": "markdown",
   "metadata": {
    "deletable": true,
    "editable": true
   },
   "source": [
    "#### Descomprimir un archivo "
   ]
  },
  {
   "cell_type": "code",
   "execution_count": null,
   "metadata": {
    "collapsed": false
   },
   "outputs": [],
   "source": [
    "%cd INTRO"
   ]
  },
  {
   "cell_type": "code",
   "execution_count": 13,
   "metadata": {
    "collapsed": false,
    "deletable": true,
    "editable": true
   },
   "outputs": [
    {
     "name": "stdout",
     "output_type": "stream",
     "text": [
      "total 1508\r\n",
      "drwxrwxr-x 3 rhg rhg    4096 sep  3 12:18 ARCHIVOS\r\n",
      "-rw-rw-r-- 1 rhg rhg      60 sep  3 12:45 hw.c\r\n",
      "-rwxr-x--- 1 rhg rhg   26956 sep  3 14:37 Interaccion-con-SO.ipynb\r\n",
      "-rwxr-x--- 1 rhg rhg    2308 sep  3 14:30 markdown.ipynb\r\n",
      "-r-xr-x--- 1 rhg rhg   18876 ago 18 20:05 primera-clase.ipynb\r\n",
      "-rw-rw-r-- 1 rhg rhg 1482752 sep  3 14:38 prueba1.tar.gz\r\n"
     ]
    }
   ],
   "source": [
    "!ls -l"
   ]
  },
  {
   "cell_type": "code",
   "execution_count": 14,
   "metadata": {
    "collapsed": false,
    "deletable": true,
    "editable": true,
    "scrolled": true
   },
   "outputs": [
    {
     "name": "stdout",
     "output_type": "stream",
     "text": [
      "ARCHIVOS/\r\n",
      "ARCHIVOS/COMPRIMIR/\r\n",
      "ARCHIVOS/COMPRIMIR/lugar.txt\r\n",
      "ARCHIVOS/COMPRIMIR/canta.txt\r\n",
      "ARCHIVOS/tragedy-commons.pdf\r\n"
     ]
    }
   ],
   "source": [
    "!tar xvzf prueba1.tar.gz\n",
    "#Al descomprimir pruebas.tar.gz sobreescribe el directorio ARCHIVOS"
   ]
  },
  {
   "cell_type": "code",
   "execution_count": 15,
   "metadata": {
    "collapsed": false,
    "deletable": true,
    "editable": true
   },
   "outputs": [
    {
     "name": "stdout",
     "output_type": "stream",
     "text": [
      "total 1504\r\n",
      "-rw-rw-r-- 1 rhg rhg      60 sep  3 12:45 hw.c\r\n",
      "-rwxr-x--- 1 rhg rhg   26956 sep  3 14:37 Interaccion-con-SO.ipynb\r\n",
      "-rwxr-x--- 1 rhg rhg    2308 sep  3 14:30 markdown.ipynb\r\n",
      "-r-xr-x--- 1 rhg rhg   18876 ago 18 20:05 primera-clase.ipynb\r\n",
      "-rw-rw-r-- 1 rhg rhg 1482752 sep  3 14:38 prueba1.tar.gz\r\n"
     ]
    }
   ],
   "source": [
    "!rm -r -f ARCHIVOS\n",
    "!ls -l\n",
    "# MUCHO CUIDADO!!!!! \n",
    "# Se borran archivos y directorios DEFINITIVAMENTE"
   ]
  },
  {
   "cell_type": "code",
   "execution_count": 16,
   "metadata": {
    "collapsed": false,
    "deletable": true,
    "editable": true
   },
   "outputs": [
    {
     "name": "stdout",
     "output_type": "stream",
     "text": [
      "ARCHIVOS/\n",
      "ARCHIVOS/COMPRIMIR/\n",
      "ARCHIVOS/COMPRIMIR/lugar.txt\n",
      "ARCHIVOS/COMPRIMIR/canta.txt\n",
      "ARCHIVOS/tragedy-commons.pdf\n",
      "total 1508\n",
      "drwxrwxr-x 3 rhg rhg    4096 sep  3 12:18 ARCHIVOS\n",
      "-rw-rw-r-- 1 rhg rhg      60 sep  3 12:45 hw.c\n",
      "-rwxr-x--- 1 rhg rhg   26956 sep  3 14:37 Interaccion-con-SO.ipynb\n",
      "-rwxr-x--- 1 rhg rhg    2308 sep  3 14:30 markdown.ipynb\n",
      "-r-xr-x--- 1 rhg rhg   18876 ago 18 20:05 primera-clase.ipynb\n",
      "-rw-rw-r-- 1 rhg rhg 1482752 sep  3 14:38 prueba1.tar.gz\n"
     ]
    }
   ],
   "source": [
    "!tar xvzf prueba1.tar.gz\n",
    "!ls -l\n",
    "# Hemos recuperado el directorio ARCHIVOS a partir del comprimido"
   ]
  },
  {
   "cell_type": "code",
   "execution_count": 17,
   "metadata": {
    "collapsed": false,
    "deletable": true,
    "editable": true
   },
   "outputs": [
    {
     "name": "stdout",
     "output_type": "stream",
     "text": [
      "  adding: ARCHIVOS/ (stored 0%)\n",
      "  adding: ARCHIVOS/COMPRIMIR/ (stored 0%)\n",
      "  adding: ARCHIVOS/COMPRIMIR/lugar.txt (deflated 46%)\n",
      "  adding: ARCHIVOS/COMPRIMIR/canta.txt (deflated 38%)\n",
      "  adding: ARCHIVOS/tragedy-commons.pdf (deflated 4%)\n",
      "total 2960\n",
      "drwxrwxr-x 3 rhg rhg    4096 sep  3 12:18 ARCHIVOS\n",
      "-rw-rw-r-- 1 rhg rhg      60 sep  3 12:45 hw.c\n",
      "-rwxr-x--- 1 rhg rhg   26956 sep  3 14:37 Interaccion-con-SO.ipynb\n",
      "-rwxr-x--- 1 rhg rhg    2308 sep  3 14:30 markdown.ipynb\n",
      "-r-xr-x--- 1 rhg rhg   18876 ago 18 20:05 primera-clase.ipynb\n",
      "-rw-rw-r-- 1 rhg rhg 1482752 sep  3 14:38 prueba1.tar.gz\n",
      "-rw-rw-r-- 1 rhg rhg 1483422 sep  3 14:38 prueba2.zip\n"
     ]
    }
   ],
   "source": [
    "!zip -r prueba2.zip ARCHIVOS\n",
    "!ls -l"
   ]
  },
  {
   "cell_type": "code",
   "execution_count": 18,
   "metadata": {
    "collapsed": false,
    "deletable": true,
    "editable": true
   },
   "outputs": [
    {
     "name": "stdout",
     "output_type": "stream",
     "text": [
      "total 2956\r\n",
      "-rw-rw-r-- 1 rhg rhg      60 sep  3 12:45 hw.c\r\n",
      "-rwxr-x--- 1 rhg rhg   26956 sep  3 14:37 Interaccion-con-SO.ipynb\r\n",
      "-rwxr-x--- 1 rhg rhg    2308 sep  3 14:30 markdown.ipynb\r\n",
      "-r-xr-x--- 1 rhg rhg   18876 ago 18 20:05 primera-clase.ipynb\r\n",
      "-rw-rw-r-- 1 rhg rhg 1482752 sep  3 14:38 prueba1.tar.gz\r\n",
      "-rw-rw-r-- 1 rhg rhg 1483422 sep  3 14:38 prueba2.zip\r\n"
     ]
    }
   ],
   "source": [
    "!rm -r -f ARCHIVOS/\n",
    "!ls -l\n",
    "# MUCHO CUIDADO!!!!! \n",
    "# Se borran archivos y directorios DEFINITIVAMENTE"
   ]
  },
  {
   "cell_type": "code",
   "execution_count": 19,
   "metadata": {
    "collapsed": false,
    "deletable": true,
    "editable": true,
    "scrolled": true
   },
   "outputs": [
    {
     "name": "stdout",
     "output_type": "stream",
     "text": [
      "Archive:  prueba2.zip\n",
      "   creating: ARCHIVOS/\n",
      "   creating: ARCHIVOS/COMPRIMIR/\n",
      "  inflating: ARCHIVOS/COMPRIMIR/lugar.txt  \n",
      "  inflating: ARCHIVOS/COMPRIMIR/canta.txt  \n",
      "  inflating: ARCHIVOS/tragedy-commons.pdf  \n",
      "total 2960\n",
      "drwxrwxr-x 3 rhg rhg    4096 sep  3 12:18 ARCHIVOS\n",
      "-rw-rw-r-- 1 rhg rhg      60 sep  3 12:45 hw.c\n",
      "-rwxr-x--- 1 rhg rhg   26956 sep  3 14:37 Interaccion-con-SO.ipynb\n",
      "-rwxr-x--- 1 rhg rhg    2308 sep  3 14:30 markdown.ipynb\n",
      "-r-xr-x--- 1 rhg rhg   18876 ago 18 20:05 primera-clase.ipynb\n",
      "-rw-rw-r-- 1 rhg rhg 1482752 sep  3 14:38 prueba1.tar.gz\n",
      "-rw-rw-r-- 1 rhg rhg 1483422 sep  3 14:38 prueba2.zip\n"
     ]
    }
   ],
   "source": [
    "!unzip prueba2.zip\n",
    "!ls -l"
   ]
  },
  {
   "cell_type": "code",
   "execution_count": 20,
   "metadata": {
    "collapsed": false,
    "deletable": true,
    "editable": true,
    "scrolled": true
   },
   "outputs": [
    {
     "name": "stdout",
     "output_type": "stream",
     "text": [
      "/home/rhg/ownCloud/SAGE-noteb/IPYNB\n"
     ]
    }
   ],
   "source": [
    "!rm prueba1.tar.gz prueba2.zip \n",
    "%cd ..\n",
    "!rm Todo.tar.gz\n",
    "# MUCHO CUIDADO!!!!! \n",
    "# Se borran archivos y directorios DEFINITIVAMENTE"
   ]
  },
  {
   "cell_type": "markdown",
   "metadata": {
    "deletable": true,
    "editable": true
   },
   "source": [
    "#### Buscar archivos "
   ]
  },
  {
   "cell_type": "code",
   "execution_count": null,
   "metadata": {
    "collapsed": false,
    "deletable": true,
    "editable": true,
    "scrolled": true
   },
   "outputs": [],
   "source": [
    "%cd ~/Desktop/SAGE-noteb/IPYNB/"
   ]
  },
  {
   "cell_type": "code",
   "execution_count": 22,
   "metadata": {
    "collapsed": false,
    "deletable": true,
    "editable": true,
    "scrolled": true
   },
   "outputs": [
    {
     "name": "stdout",
     "output_type": "stream",
     "text": [
      "./INTRO/ARCHIVOS/COMPRIMIR/canta.txt\r\n"
     ]
    }
   ],
   "source": [
    "!find . -iname \"cant*\" \n",
    "#Lista los archivos con nombre que comienza por prueba"
   ]
  },
  {
   "cell_type": "code",
   "execution_count": 23,
   "metadata": {
    "collapsed": false,
    "deletable": true,
    "editable": true,
    "scrolled": true
   },
   "outputs": [
    {
     "name": "stdout",
     "output_type": "stream",
     "text": [
      "./INTRO/ARCHIVOS/COMPRIMIR/canta.txt\r\n",
      "./CAVAN\r\n",
      "./CAVAN/24-CAVAN-raices-reales.ipynb\r\n",
      "./CAVAN/24-CAVAN-raices-reales-sturm.ipynb\r\n",
      "./CAVAN/23-CAVAN-reduccion-gaussiana.ipynb\r\n",
      "./CAVAN/27-CAVAN-tangencias.ipynb\r\n",
      "./CAVAN/22-CAVAN-calculo-s1.ipynb\r\n",
      "./CAVAN/21-CAVAN-graficas.ipynb\r\n"
     ]
    }
   ],
   "source": [
    "!find . -iname \"*an*\" \n",
    "#Lista los archivos con nombre que contiene an"
   ]
  },
  {
   "cell_type": "markdown",
   "metadata": {
    "deletable": true,
    "editable": true
   },
   "source": [
    "#### Buscar dentro de archivos"
   ]
  },
  {
   "cell_type": "code",
   "execution_count": null,
   "metadata": {
    "collapsed": false
   },
   "outputs": [],
   "source": [
    "%cd ~/Desktop/SAGE-noteb/IPYNB/"
   ]
  },
  {
   "cell_type": "code",
   "execution_count": 25,
   "metadata": {
    "collapsed": false,
    "deletable": true,
    "editable": true,
    "scrolled": true
   },
   "outputs": [
    {
     "name": "stdout",
     "output_type": "stream",
     "text": [
      "INTRO/ARCHIVOS/COMPRIMIR/canta.txt:1 Canta, oh diosa, la cólera del Pelida Aquiles; cólera funesta que causó infinitos males\r\n"
     ]
    }
   ],
   "source": [
    "!grep --exclude \".*\" --exclude \"*.ipynb\" -r   \"diosa\" * \n",
    "#Lista los archivos que contienen la palabra (o frase) entre comillas\n",
    "# y cada una de sus apariciones"
   ]
  },
  {
   "cell_type": "code",
   "execution_count": 26,
   "metadata": {
    "collapsed": false,
    "deletable": true,
    "editable": true,
    "scrolled": true
   },
   "outputs": [
    {
     "name": "stdout",
     "output_type": "stream",
     "text": [
      "\u001b[35m\u001b[KINTRO/ARCHIVOS/tragedy-commons.pdf\u001b[m\u001b[K\u001b[36m\u001b[K:\u001b[m\u001b[KThe tragedy of the \u001b[01;31m\u001b[Kcommons\u001b[m\u001b[K develops\n",
      "\u001b[35m\u001b[KINTRO/ARCHIVOS/tragedy-commons.pdf\u001b[m\u001b[K\u001b[36m\u001b[K:\u001b[m\u001b[Kpossible on the \u001b[01;31m\u001b[Kcommons\u001b[m\u001b[K. Such an ar-\n",
      "\u001b[35m\u001b[KINTRO/ARCHIVOS/tragedy-commons.pdf\u001b[m\u001b[K\u001b[36m\u001b[K:\u001b[m\u001b[Kherent logic of the \u001b[01;31m\u001b[Kcommons\u001b[m\u001b[K remorse-\n",
      "\u001b[35m\u001b[KINTRO/ARCHIVOS/tragedy-commons.pdf\u001b[m\u001b[K\u001b[36m\u001b[K:\u001b[m\u001b[Kherdsman sharing a \u001b[01;31m\u001b[Kcommons\u001b[m\u001b[K. Therein\n",
      "\u001b[35m\u001b[KINTRO/ARCHIVOS/tragedy-commons.pdf\u001b[m\u001b[K\u001b[36m\u001b[K:\u001b[m\u001b[Kmons. Freedom in a \u001b[01;31m\u001b[Kcommons\u001b[m\u001b[K brings\n",
      "\u001b[35m\u001b[KINTRO/ARCHIVOS/tragedy-commons.pdf\u001b[m\u001b[K\u001b[36m\u001b[K:\u001b[m\u001b[Kmake the tragedy of the \u001b[01;31m\u001b[Kcommons\u001b[m\u001b[K,\" using the\n",
      "\u001b[35m\u001b[KINTRO/ARCHIVOS/tragedy-commons.pdf\u001b[m\u001b[K\u001b[36m\u001b[K:\u001b[m\u001b[KIn other words,     the \u001b[01;31m\u001b[Kcommons\u001b[m\u001b[K reappears in\n",
      "\u001b[35m\u001b[KINTRO/ARCHIVOS/tragedy-commons.pdf\u001b[m\u001b[K\u001b[36m\u001b[K:\u001b[m\u001b[Kout of the \u001b[01;31m\u001b[Kcommons\u001b[m\u001b[K,          the system at\n",
      "\u001b[35m\u001b[KINTRO/ARCHIVOS/tragedy-commons.pdf\u001b[m\u001b[K\u001b[36m\u001b[K:\u001b[m\u001b[K(10). Using the \u001b[01;31m\u001b[Kcommons\u001b[m\u001b[K as a cesspool\n",
      "\u001b[35m\u001b[KINTRO/ARCHIVOS/tragedy-commons.pdf\u001b[m\u001b[K\u001b[36m\u001b[K:\u001b[m\u001b[K\u001b[01;31m\u001b[Kcommons\u001b[m\u001b[K. (Cynically, we suspect that\n",
      "\u001b[35m\u001b[KINTRO/ARCHIVOS/tragedy-commons.pdf\u001b[m\u001b[K\u001b[36m\u001b[K:\u001b[m\u001b[Kthe \u001b[01;31m\u001b[Kcommons\u001b[m\u001b[K has been understood for\n",
      "\u001b[35m\u001b[KINTRO/ARCHIVOS/tragedy-commons.pdf\u001b[m\u001b[K\u001b[36m\u001b[K:\u001b[m\u001b[Kin special       the \u001b[01;31m\u001b[Kcommons\u001b[m\u001b[K is less than the\n",
      "\u001b[35m\u001b[KINTRO/ARCHIVOS/tragedy-commons.pdf\u001b[m\u001b[K\u001b[36m\u001b[K:\u001b[m\u001b[KThe tragedy of the \u001b[01;31m\u001b[Kcommons\u001b[m\u001b[K as a\n",
      "\u001b[35m\u001b[KINTRO/ARCHIVOS/tragedy-commons.pdf\u001b[m\u001b[K\u001b[36m\u001b[K:\u001b[m\u001b[Kphilosophy of the \u001b[01;31m\u001b[Kcommons\u001b[m\u001b[K.       not readily\n",
      "\u001b[35m\u001b[KINTRO/ARCHIVOS/tragedy-commons.pdf\u001b[m\u001b[K\u001b[36m\u001b[K:\u001b[m\u001b[Kedy of the \u001b[01;31m\u001b[Kcommons\u001b[m\u001b[K as a cesspool must\n",
      "\u001b[35m\u001b[KINTRO/ARCHIVOS/tragedy-commons.pdf\u001b[m\u001b[K\u001b[36m\u001b[K:\u001b[m\u001b[Ktragedy of the \u001b[01;31m\u001b[Kcommons\u001b[m\u001b[K. At present,\n",
      "\u001b[35m\u001b[KINTRO/ARCHIVOS/tragedy-commons.pdf\u001b[m\u001b[K\u001b[36m\u001b[K:\u001b[m\u001b[Kas \u001b[01;31m\u001b[Kcommons\u001b[m\u001b[K or they will be of no value\n",
      "\u001b[35m\u001b[KINTRO/ARCHIVOS/tragedy-commons.pdf\u001b[m\u001b[K\u001b[36m\u001b[K:\u001b[m\u001b[Khave several         aspect of the \u001b[01;31m\u001b[Kcommons\u001b[m\u001b[K.\n",
      "\u001b[35m\u001b[KINTRO/ARCHIVOS/tragedy-commons.pdf\u001b[m\u001b[K\u001b[36m\u001b[K:\u001b[m\u001b[Kequal right to the \u001b[01;31m\u001b[Kcommons\u001b[m\u001b[K is to lock\n",
      "\u001b[35m\u001b[KINTRO/ARCHIVOS/tragedy-commons.pdf\u001b[m\u001b[K\u001b[36m\u001b[K:\u001b[m\u001b[Kto an individual exploiting a \u001b[01;31m\u001b[Kcommons\u001b[m\u001b[K\n",
      "\u001b[35m\u001b[KINTRO/ARCHIVOS/tragedy-commons.pdf\u001b[m\u001b[K\u001b[36m\u001b[K:\u001b[m\u001b[K   The tragedy of the \u001b[01;31m\u001b[Kcommons\u001b[m\u001b[K is in- openly\n",
      "\u001b[35m\u001b[KINTRO/ARCHIVOS/tragedy-commons.pdf\u001b[m\u001b[K\u001b[36m\u001b[K:\u001b[m\u001b[Ka man who is exploiting a \u001b[01;31m\u001b[Kcommons\u001b[m\u001b[K to\n",
      "\u001b[35m\u001b[KINTRO/ARCHIVOS/tragedy-commons.pdf\u001b[m\u001b[K\u001b[36m\u001b[K:\u001b[m\u001b[Kplea more               exploit the \u001b[01;31m\u001b[Kcommons\u001b[m\u001b[K.\"\n",
      "\u001b[35m\u001b[KINTRO/ARCHIVOS/tragedy-commons.pdf\u001b[m\u001b[K\u001b[36m\u001b[K:\u001b[m\u001b[Ktragedy of the \u001b[01;31m\u001b[Kcommons\u001b[m\u001b[K.\n",
      "\u001b[35m\u001b[KINTRO/ARCHIVOS/tragedy-commons.pdf\u001b[m\u001b[K\u001b[36m\u001b[K:\u001b[m\u001b[K\u001b[01;31m\u001b[Kcommons\u001b[m\u001b[K.\n",
      "\u001b[35m\u001b[KINTRO/ARCHIVOS/tragedy-commons.pdf\u001b[m\u001b[K\u001b[36m\u001b[K:\u001b[m\u001b[KAn alternative to the \u001b[01;31m\u001b[Kcommons\u001b[m\u001b[K need\n",
      "\u001b[35m\u001b[KINTRO/ARCHIVOS/tragedy-commons.pdf\u001b[m\u001b[K\u001b[36m\u001b[K:\u001b[m\u001b[Kwere a \u001b[01;31m\u001b[Kcommons\u001b[m\u001b[K. How do we prevent\n",
      "\u001b[35m\u001b[KINTRO/ARCHIVOS/tragedy-commons.pdf\u001b[m\u001b[K\u001b[36m\u001b[K:\u001b[m\u001b[Kto       bank is not a \u001b[01;31m\u001b[Kcommons\u001b[m\u001b[K; we seek the\n",
      "\u001b[35m\u001b[KINTRO/ARCHIVOS/tragedy-commons.pdf\u001b[m\u001b[K\u001b[36m\u001b[K:\u001b[m\u001b[Kkeep it from becoming a \u001b[01;31m\u001b[Kcommons\u001b[m\u001b[K.\n",
      "\u001b[35m\u001b[KINTRO/ARCHIVOS/tragedy-commons.pdf\u001b[m\u001b[K\u001b[36m\u001b[K:\u001b[m\u001b[KTaxing is a good    \u001b[01;31m\u001b[Kcommons\u001b[m\u001b[K is too horrifying\n",
      "\u001b[35m\u001b[KINTRO/ARCHIVOS/tragedy-commons.pdf\u001b[m\u001b[K\u001b[36m\u001b[K:\u001b[m\u001b[Ka free man in a \u001b[01;31m\u001b[Kcommons\u001b[m\u001b[K into acting\n",
      "\u001b[35m\u001b[KINTRO/ARCHIVOS/tragedy-commons.pdf\u001b[m\u001b[K\u001b[36m\u001b[K:\u001b[m\u001b[Kthat     lawing the \u001b[01;31m\u001b[Kcommons\u001b[m\u001b[K in matters of\n",
      "\u001b[35m\u001b[KINTRO/ARCHIVOS/tragedy-commons.pdf\u001b[m\u001b[K\u001b[36m\u001b[K:\u001b[m\u001b[Kof advertising) as the sign   \u001b[01;31m\u001b[Kcommons\u001b[m\u001b[K.\n",
      "\u001b[35m\u001b[KINTRO/ARCHIVOS/tragedy-commons.pdf\u001b[m\u001b[K\u001b[36m\u001b[K:\u001b[m\u001b[Kis this: the \u001b[01;31m\u001b[Kcommons\u001b[m\u001b[K, if justifiable at\n",
      "\u001b[35m\u001b[KINTRO/ARCHIVOS/tragedy-commons.pdf\u001b[m\u001b[K\u001b[36m\u001b[K:\u001b[m\u001b[K\u001b[01;31m\u001b[Kcommons\u001b[m\u001b[K has had to be abandoned in posed\n",
      "\u001b[35m\u001b[KINTRO/ARCHIVOS/tragedy-commons.pdf\u001b[m\u001b[K\u001b[36m\u001b[K:\u001b[m\u001b[Kwe abandoned the \u001b[01;31m\u001b[Kcommons\u001b[m\u001b[K in fill the air. But\n",
      "\u001b[35m\u001b[KINTRO/ARCHIVOS/tragedy-commons.pdf\u001b[m\u001b[K\u001b[36m\u001b[K:\u001b[m\u001b[Kthe logic of the \u001b[01;31m\u001b[Kcommons\u001b[m\u001b[K                World\n",
      "\u001b[35m\u001b[KINTRO/ARCHIVOS/tragedy-commons.pdf\u001b[m\u001b[K\u001b[36m\u001b[K:\u001b[m\u001b[K to close the \u001b[01;31m\u001b[Kcommons\u001b[m\u001b[K to pollution by sity\n",
      "\u001b[35m\u001b[KINTRO/ARCHIVOS/tragedy-commons.pdf\u001b[m\u001b[K\u001b[36m\u001b[K:\u001b[m\u001b[Kof abandoning the \u001b[01;31m\u001b[Kcommons\u001b[m\u001b[K                15.\n",
      "\u001b[35m\u001b[KINTRO/ARCHIVOS/tragedy-commons.pdf\u001b[m\u001b[K\u001b[36m\u001b[K:\u001b[m\u001b[Kthe evils of the \u001b[01;31m\u001b[Kcommons\u001b[m\u001b[K ruin to all. At the\n"
     ]
    }
   ],
   "source": [
    "!pdfgrep -r \"commons\" * \n",
    "#Busca dentro de los PDFs que hay en el directorio y sus subdirectorios  "
   ]
  },
  {
   "cell_type": "markdown",
   "metadata": {
    "deletable": true,
    "editable": true
   },
   "source": [
    "#### Compilar y ejecutar C"
   ]
  },
  {
   "cell_type": "code",
   "execution_count": null,
   "metadata": {
    "collapsed": false
   },
   "outputs": [],
   "source": [
    "!pwd\n",
    "%cd INTRO"
   ]
  },
  {
   "cell_type": "code",
   "execution_count": 28,
   "metadata": {
    "collapsed": false,
    "deletable": true,
    "editable": true,
    "scrolled": true
   },
   "outputs": [
    {
     "name": "stdout",
     "output_type": "stream",
     "text": [
      "Hello World"
     ]
    }
   ],
   "source": [
    "\n",
    "!gcc -o hw1 hw.c\n",
    "!./hw1"
   ]
  },
  {
   "cell_type": "code",
   "execution_count": 29,
   "metadata": {
    "collapsed": true,
    "deletable": true,
    "editable": true,
    "scrolled": true
   },
   "outputs": [],
   "source": [
    "!rm hw1"
   ]
  }
 ],
 "metadata": {
  "kernelspec": {
   "display_name": "Python 2",
   "language": "python",
   "name": "python2"
  },
  "language_info": {
   "codemirror_mode": {
    "name": "ipython",
    "version": 2
   },
   "file_extension": ".py",
   "mimetype": "text/x-python",
   "name": "python",
   "nbconvert_exporter": "python",
   "pygments_lexer": "ipython2",
   "version": "2.7.13"
  }
 },
 "nbformat": 4,
 "nbformat_minor": 2
}
