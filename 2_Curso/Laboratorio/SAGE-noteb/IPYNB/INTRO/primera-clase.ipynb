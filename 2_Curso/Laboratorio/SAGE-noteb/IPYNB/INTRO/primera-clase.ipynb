{
 "cells": [
  {
   "cell_type": "markdown",
   "metadata": {},
   "source": [
    "<h3>FACTORES</h3>"
   ]
  },
  {
   "cell_type": "code",
   "execution_count": 1,
   "metadata": {
    "collapsed": false
   },
   "outputs": [
    {
     "data": {
      "text/plain": [
       "3 * 56713727820156410577229101238628035243"
      ]
     },
     "execution_count": 1,
     "metadata": {},
     "output_type": "execute_result"
    }
   ],
   "source": [
    "factor(2^127+1)"
   ]
  },
  {
   "cell_type": "code",
   "execution_count": 2,
   "metadata": {
    "collapsed": false
   },
   "outputs": [
    {
     "data": {
      "text/plain": [
       "log(170141183460469231731687303715884105729)/log(10) + 1"
      ]
     },
     "execution_count": 2,
     "metadata": {},
     "output_type": "execute_result"
    }
   ],
   "source": [
    "log(2^127+1,base=10)+1"
   ]
  },
  {
   "cell_type": "code",
   "execution_count": 3,
   "metadata": {
    "collapsed": false
   },
   "outputs": [
    {
     "data": {
      "text/plain": [
       "39.2308094493256"
      ]
     },
     "execution_count": 3,
     "metadata": {},
     "output_type": "execute_result"
    }
   ],
   "source": [
    "(log(2^127+1,base=10)+1).n()"
   ]
  },
  {
   "cell_type": "code",
   "execution_count": 4,
   "metadata": {
    "collapsed": false
   },
   "outputs": [
    {
     "data": {
      "text/plain": [
       "39"
      ]
     },
     "execution_count": 4,
     "metadata": {},
     "output_type": "execute_result"
    }
   ],
   "source": [
    "floor((log(2^127+1,base=10)+1).n())"
   ]
  },
  {
   "cell_type": "code",
   "execution_count": 12,
   "metadata": {
    "collapsed": false
   },
   "outputs": [
    {
     "name": "stdout",
     "output_type": "stream",
     "text": [
      "\n"
     ]
    }
   ],
   "source": [
    "def factorizar(N1,N2):\n",
    "    for k in srange(N1,N2):\n",
    "        print k,2^(10*k)+1,floor(log(2^(10*k)+1,base=10).n())+1,factor(2^(10*k)+1)"
   ]
  },
  {
   "cell_type": "code",
   "execution_count": 13,
   "metadata": {
    "collapsed": false
   },
   "outputs": [
    {
     "name": "stdout",
     "output_type": "stream",
     "text": [
      "1 1025 4 5^2 * 41\n",
      "2 1048577 7 17 * 61681\n",
      "3 1073741825 10 5^2 * 13 * 41 * 61 * 1321\n",
      "4 1099511627777 13 257 * 4278255361\n"
     ]
    }
   ],
   "source": [
    "factorizar(1,5)"
   ]
  },
  {
   "cell_type": "code",
   "execution_count": 14,
   "metadata": {
    "collapsed": false
   },
   "outputs": [
    {
     "name": "stdout",
     "output_type": "stream",
     "text": [
      "1 1025 4 5^2 * 41\n",
      "2 1048577 7 17 * 61681\n",
      "3 1073741825 10 5^2 * 13 * 41 * 61 * 1321\n",
      "4 1099511627777 13 257 * 4278255361\n",
      "5 1125899906842625 16 5^3 * 41 * 101 * 8101 * 268501\n",
      "6 1152921504606846977 19 17 * 241 * 61681 * 4562284561\n",
      "7 1180591620717411303425 22 5^2 * 29 * 41 * 113 * 7416361 * 47392381\n",
      "8 1208925819614629174706177 25 65537 * 414721 * 44479210368001\n",
      "9 1237940039285380274899124225 28 5^2 * 13 * 37 * 41 * 61 * 109 * 181 * 1321 * 54001 * 29247661\n",
      "10 1267650600228229401496703205377 31 17 * 401 * 61681 * 340801 * 2787601 * 3173389601\n",
      "11 1298074214633706907132624082305025 34 5^2 * 41 * 397 * 2113 * 415878438361 * 3630105520141\n",
      "12 1329227995784915872903807060280344577 37 97 * 257 * 673 * 394783681 * 4278255361 * 46908728641\n",
      "13 1361129467683753853853498429727072845825 40 5^2 * 41 * 53 * 157 * 521 * 1613 * 51481 * 34110701 * 108140989558681\n",
      "14 1393796574908163946345982392040522594123777 43 17 * 61681 * 15790321 * 84179842077657862011867889681\n",
      "15 1427247692705959881058285969449495136382746625 46 5^3 * 13 * 41 * 61 * 101 * 1201 * 1321 * 8101 * 63901 * 268501 * 13334701 * 1182468601\n",
      "16 1461501637330902918203684832716283019655932542977 49 641 * 3602561 * 6700417 * 94455684953484563055991838558081\n",
      "17 1496577676626844588240573268701473812127674924007425 52 5^2 * 41 * 137 * 953 * 1021 * 4421 * 26317 * 550801 * 23650061 * 7226904352843746841\n",
      "18 1532495540865888858358347027150309183618739122183602177 55 17 * 241 * 433 * 38737 * 61681 * 4562284561 * 168692292721 * 469775495062434961\n",
      "19 1569275433846670190958947355801916604025588861116008628225 58 5^2 * 41 * 229 * 457 * 761 * 54721 * 525313 * 276696631250953741 * 2416923620660807201\n",
      "CPU times: user 160 ms, sys: 12 ms, total: 172 ms\n",
      "Wall time: 171 ms\n"
     ]
    }
   ],
   "source": [
    "time factorizar(1,20)"
   ]
  },
  {
   "cell_type": "code",
   "execution_count": 15,
   "metadata": {
    "collapsed": false
   },
   "outputs": [
    {
     "name": "stdout",
     "output_type": "stream",
     "text": [
      "1 1025 4 5^2 * 41\n",
      "2 1048577 7 17 * 61681\n",
      "3 1073741825 10 5^2 * 13 * 41 * 61 * 1321\n",
      "4 1099511627777 13 257 * 4278255361\n",
      "5 1125899906842625 16 5^3 * 41 * 101 * 8101 * 268501\n",
      "6 1152921504606846977 19 17 * 241 * 61681 * 4562284561\n",
      "7 1180591620717411303425 22 5^2 * 29 * 41 * 113 * 7416361 * 47392381\n",
      "8 1208925819614629174706177 25 65537 * 414721 * 44479210368001\n",
      "9 1237940039285380274899124225 28 5^2 * 13 * 37 * 41 * 61 * 109 * 181 * 1321 * 54001 * 29247661\n",
      "10 1267650600228229401496703205377 31 17 * 401 * 61681 * 340801 * 2787601 * 3173389601\n",
      "11 1298074214633706907132624082305025 34 5^2 * 41 * 397 * 2113 * 415878438361 * 3630105520141\n",
      "12 1329227995784915872903807060280344577 37 97 * 257 * 673 * 394783681 * 4278255361 * 46908728641\n",
      "13 1361129467683753853853498429727072845825 40 5^2 * 41 * 53 * 157 * 521 * 1613 * 51481 * 34110701 * 108140989558681\n",
      "14 1393796574908163946345982392040522594123777 43 17 * 61681 * 15790321 * 84179842077657862011867889681\n",
      "15 1427247692705959881058285969449495136382746625 46 5^3 * 13 * 41 * 61 * 101 * 1201 * 1321 * 8101 * 63901 * 268501 * 13334701 * 1182468601\n",
      "16 1461501637330902918203684832716283019655932542977 49 641 * 3602561 * 6700417 * 94455684953484563055991838558081\n",
      "17 1496577676626844588240573268701473812127674924007425 52 5^2 * 41 * 137 * 953 * 1021 * 4421 * 26317 * 550801 * 23650061 * 7226904352843746841\n",
      "18 1532495540865888858358347027150309183618739122183602177 55 17 * 241 * 433 * 38737 * 61681 * 4562284561 * 168692292721 * 469775495062434961\n",
      "19 1569275433846670190958947355801916604025588861116008628225 58 5^2 * 41 * 229 * 457 * 761 * 54721 * 525313 * 276696631250953741 * 2416923620660807201\n",
      "20 1606938044258990275541962092341162602522202993782792835301377 61 257 * 1601 * 25601 * 82471201 * 4278255361 * 432363203127002885506543172618401\n",
      "21 1645504557321206042154969182557350504982735865633579863348609025 64 5^2 * 13 * 29 * 41 * 61 * 113 * 421 * 1321 * 1429 * 14449 * 7416361 * 47392381 * 146919792181 * 1041815865690181\n",
      "22 1684996666696914987166688442938726917102321526408785780068975640577 67 17 * 353 * 61681 * 109121 * 148721 * 2931542417 * 3404676001 * 11035465708081 * 2546717317681681\n",
      "23 1725436586697640946858688965569256363112777243042596638790631055949825 70 5^2 * 41 * 277 * 461 * 1013 * 1657 * 5981 * 30269 * 15096281 * 1021622741 * 7834788541 * 359006912765190408181\n",
      "24 1766847064778384329583297500742918515827483896875618958121606201292619777 73 193 * 23041 * 65537 * 414721 * 22253377 * 44479210368001 * 14768784307009061644318236958041601\n",
      "25 1809251394333065553493296640760748560207343510400633813116524750123642650625 76 5^4 * 41 * 101 * 7001 * 8101 * 28001 * 96001 * 268501 * 3775501 * 47970133603445383501 * 94291866932171243501\n",
      "26 1852673427797059126777135760139006525652319754650249024631321344126610074238977 79 17 * 42641 * 61681 * 858001 * 5746001 * 308761441 * 2400573761 * 65427463921 * 173308343918874810521923841\n",
      "27 1897137590064188545819787018382342682267975428761855001222473056385648716020711425 82 5^2 * 13 * 37 * 41 * 61 * 109 * 181 * 541 * 1321 * 30241 * 49681 * 54001 * 246241 * 279073 * 29247661 * 165041853060421 * 166242935471754241\n",
      "28 1942668892225729070919461906823518906642406839052139521251812409738904285205208498177 85 257 * 4481 * 5153 * 557761 * 736961 * 4278255361 * 54410972897 * 3421249381705368039830334190046211225116161\n",
      "29 1989292945639146568621528992587283360401824603189390869761855907572637988050133502132225 88 5^2 * 41 * 17401 * 168781 * 107367629 * 536903681 * 244716883381 * 3902095192430070721 * 12004541501954811085302214141\n",
      "CPU times: user 2.5 s, sys: 40 ms, total: 2.54 s\n",
      "Wall time: 2.55 s\n"
     ]
    }
   ],
   "source": [
    "time factorizar(1,30)"
   ]
  },
  {
   "cell_type": "markdown",
   "metadata": {},
   "source": [
    "Tarda bastante en ejecutar $factorizar(1,40)$, y cuando se interrumpe el cálculo se ve que está parado en $2^{35}+1$. Calculamos ese caso concreto: "
   ]
  },
  {
   "cell_type": "code",
   "execution_count": 17,
   "metadata": {
    "collapsed": false
   },
   "outputs": [
    {
     "name": "stdout",
     "output_type": "stream",
     "text": [
      "35 2293498615990071511610820895302086940796564989168281123737588839386922876088484808070018553110125686554625 106 5^3 * 29 * 41 * 101 * 113 * 701 * 8101 * 268501 * 7416361 * 47392381 * 2430065924693517198550322751963101 * 1038213793447841940908293355871461401\n",
      "CPU times: user 2min, sys: 64 ms, total: 2min\n",
      "Wall time: 2min\n"
     ]
    }
   ],
   "source": [
    "time factorizar(35,36)"
   ]
  },
  {
   "cell_type": "code",
   "execution_count": 18,
   "metadata": {
    "collapsed": true
   },
   "outputs": [],
   "source": [
    "n = 268501*7416361*47392381*2430065924693517198550322751963101*1038213793447841940908293355871461401"
   ]
  },
  {
   "cell_type": "code",
   "execution_count": 19,
   "metadata": {
    "collapsed": false
   },
   "outputs": [
    {
     "name": "stdout",
     "output_type": "stream",
     "text": [
      "CPU times: user 2min, sys: 88 ms, total: 2min\n",
      "Wall time: 2min\n"
     ]
    },
    {
     "data": {
      "text/plain": [
       "268501 * 7416361 * 47392381 * 2430065924693517198550322751963101 * 1038213793447841940908293355871461401"
      ]
     },
     "execution_count": 19,
     "metadata": {},
     "output_type": "execute_result"
    }
   ],
   "source": [
    "time factor(n)"
   ]
  },
  {
   "cell_type": "code",
   "execution_count": 20,
   "metadata": {
    "collapsed": true
   },
   "outputs": [],
   "source": [
    "n2 = 2430065924693517198550322751963101*1038213793447841940908293355871461401"
   ]
  },
  {
   "cell_type": "code",
   "execution_count": 21,
   "metadata": {
    "collapsed": false
   },
   "outputs": [
    {
     "name": "stdout",
     "output_type": "stream",
     "text": [
      "CPU times: user 2min, sys: 84 ms, total: 2min\n",
      "Wall time: 2min\n"
     ]
    },
    {
     "data": {
      "text/plain": [
       "2430065924693517198550322751963101 * 1038213793447841940908293355871461401"
      ]
     },
     "execution_count": 21,
     "metadata": {},
     "output_type": "execute_result"
    }
   ],
   "source": [
    "time factor(n2)"
   ]
  },
  {
   "cell_type": "markdown",
   "metadata": {},
   "source": [
    "Vemos que tarda lo mismo en factorizar $2^{35}+1$ que en factorizar el producto $n$ de sus factores mayores que $10000$, o el producto $n2$ de sus dos factores más grandes. "
   ]
  },
  {
   "cell_type": "markdown",
   "metadata": {},
   "source": [
    "<h3>POTENCIAS</h3>\n",
    "<p>&iquest;Es mayor $n^{n+1}$ o $(n+1)^n$?</p>"
   ]
  },
  {
   "cell_type": "code",
   "execution_count": 1,
   "metadata": {
    "collapsed": false
   },
   "outputs": [
    {
     "data": {
      "text/plain": [
       "True"
      ]
     },
     "execution_count": 1,
     "metadata": {},
     "output_type": "execute_result"
    }
   ],
   "source": [
    "50^(51)>51^(50)"
   ]
  },
  {
   "cell_type": "code",
   "execution_count": 2,
   "metadata": {
    "collapsed": false
   },
   "outputs": [
    {
     "data": {
      "text/plain": [
       "[False,\n",
       " True,\n",
       " True,\n",
       " True,\n",
       " True,\n",
       " True,\n",
       " True,\n",
       " True,\n",
       " True,\n",
       " True,\n",
       " True,\n",
       " True,\n",
       " True,\n",
       " True,\n",
       " True,\n",
       " True,\n",
       " True,\n",
       " True,\n",
       " True,\n",
       " True,\n",
       " True,\n",
       " True,\n",
       " True,\n",
       " True,\n",
       " True,\n",
       " True,\n",
       " True,\n",
       " True,\n",
       " True,\n",
       " True,\n",
       " True,\n",
       " True,\n",
       " True,\n",
       " True,\n",
       " True,\n",
       " True,\n",
       " True,\n",
       " True,\n",
       " True,\n",
       " True,\n",
       " True,\n",
       " True,\n",
       " True,\n",
       " True,\n",
       " True,\n",
       " True,\n",
       " True,\n",
       " True,\n",
       " True,\n",
       " True,\n",
       " True,\n",
       " True,\n",
       " True,\n",
       " True,\n",
       " True,\n",
       " True,\n",
       " True,\n",
       " True,\n",
       " True,\n",
       " True,\n",
       " True,\n",
       " True,\n",
       " True,\n",
       " True,\n",
       " True,\n",
       " True,\n",
       " True,\n",
       " True,\n",
       " True,\n",
       " True,\n",
       " True,\n",
       " True,\n",
       " True,\n",
       " True,\n",
       " True,\n",
       " True,\n",
       " True,\n",
       " True,\n",
       " True,\n",
       " True,\n",
       " True,\n",
       " True,\n",
       " True,\n",
       " True,\n",
       " True,\n",
       " True,\n",
       " True,\n",
       " True,\n",
       " True,\n",
       " True,\n",
       " True,\n",
       " True,\n",
       " True,\n",
       " True,\n",
       " True,\n",
       " True,\n",
       " True,\n",
       " True]"
      ]
     },
     "execution_count": 2,
     "metadata": {},
     "output_type": "execute_result"
    }
   ],
   "source": [
    "[n^(n+1)>(n+1)^n for n in srange(2,100)]"
   ]
  },
  {
   "cell_type": "code",
   "execution_count": 3,
   "metadata": {
    "collapsed": false
   },
   "outputs": [
    {
     "name": "stdout",
     "output_type": "stream",
     "text": [
      "CPU times: user 4 ms, sys: 0 ns, total: 4 ms\n",
      "Wall time: 5.77 ms\n"
     ]
    }
   ],
   "source": [
    "time L = [n^(n+1)>(n+1)^n for n in srange(3,1000)]"
   ]
  },
  {
   "cell_type": "code",
   "execution_count": 4,
   "metadata": {
    "collapsed": false
   },
   "outputs": [
    {
     "data": {
      "text/plain": [
       "True"
      ]
     },
     "execution_count": 4,
     "metadata": {},
     "output_type": "execute_result"
    }
   ],
   "source": [
    "all(L)"
   ]
  },
  {
   "cell_type": "code",
   "execution_count": 5,
   "metadata": {
    "collapsed": false
   },
   "outputs": [],
   "source": [
    "L2 = [n^(n+1)-(n+1)^n>(n-3)*n^n for n in srange(3,10)]"
   ]
  },
  {
   "cell_type": "code",
   "execution_count": 6,
   "metadata": {
    "collapsed": false
   },
   "outputs": [
    {
     "data": {
      "text/plain": [
       "[True, True, True, True, True, True, True]"
      ]
     },
     "execution_count": 6,
     "metadata": {},
     "output_type": "execute_result"
    }
   ],
   "source": [
    "L2"
   ]
  },
  {
   "cell_type": "code",
   "execution_count": 7,
   "metadata": {
    "collapsed": false
   },
   "outputs": [
    {
     "name": "stdout",
     "output_type": "stream",
     "text": [
      "CPU times: user 8 ms, sys: 0 ns, total: 8 ms\n",
      "Wall time: 9.05 ms\n"
     ]
    }
   ],
   "source": [
    "time L3 = [n^(n+1)-(n+1)^n>(n-3)*n^n for n in srange(3,1000)]"
   ]
  },
  {
   "cell_type": "code",
   "execution_count": 8,
   "metadata": {
    "collapsed": false
   },
   "outputs": [
    {
     "data": {
      "text/plain": [
       "True"
      ]
     },
     "execution_count": 8,
     "metadata": {},
     "output_type": "execute_result"
    }
   ],
   "source": [
    "all(L3)"
   ]
  },
  {
   "cell_type": "markdown",
   "metadata": {},
   "source": [
    "<h3>CUADRADOS</h3>\n",
    "<p>&iquest;Es cierto que si tenemos $3$ enteros, $x,y,z$, tales que $x^2+y^2=z^2$ NO es posible que ambos $x$ e $y$ sean impares?&iquest;Es cierto que siempre el producto $x\\cdot y\\cdot z$ de tales enteros es m&uacute;ltiplo de $60$?</p>"
   ]
  },
  {
   "cell_type": "code",
   "execution_count": 9,
   "metadata": {
    "collapsed": false
   },
   "outputs": [
    {
     "data": {
      "text/plain": [
       "[]"
      ]
     },
     "execution_count": 9,
     "metadata": {},
     "output_type": "execute_result"
    }
   ],
   "source": [
    "[(x,y) for x in srange(1,100) for y in srange(1,100) if is_square(x^2+y^2) and (x%2==1 and y%2==1)]"
   ]
  },
  {
   "cell_type": "code",
   "execution_count": 10,
   "metadata": {
    "collapsed": false
   },
   "outputs": [
    {
     "data": {
      "text/plain": [
       "[]"
      ]
     },
     "execution_count": 10,
     "metadata": {},
     "output_type": "execute_result"
    }
   ],
   "source": [
    "[(x,y) for x in srange(1,1000) for y in srange(1,1000) if is_square(x^2+y^2) and (x%2==1 and y%2==1)]"
   ]
  },
  {
   "cell_type": "markdown",
   "metadata": {},
   "source": [
    "<h3>Otros ejercicios</h3>\n",
    "\n",
    "<h3>OTROS EJERCICIOS</h3>\n",
    "<ol>\n",
    "<li>&iquest;Qu&eacute; enteros primos $p$ se pueden representar como la suma de dos cuadrados de enteros?&nbsp;</li>\n",
    "<li>&iquest;Cu&aacute;ntos ceros hay al final, por la derecha, en $100!$ (factorial de cien)?&iquest;Y en $365!$?</li>\n",
    "<li>&nbsp;&iquest;Es cierto que la suma $$1!+2!+3!+\\dots+n!$$ no puede ser un cuadrado si $n\\ge 4$?</li>\n",
    "<li>&iquest;Existen grupos de $k$ enteros positivos consecutivos cuya suma sea una potencia de $2$?&iquest;Y si permitimos que sean enteros positivos o negativos?</li>\n",
    "</ol>"
   ]
  },
  {
   "cell_type": "code",
   "execution_count": 22,
   "metadata": {
    "collapsed": true
   },
   "outputs": [],
   "source": [
    "fact"
   ]
  },
  {
   "cell_type": "code",
   "execution_count": null,
   "metadata": {
    "collapsed": true
   },
   "outputs": [],
   "source": []
  }
 ],
 "metadata": {
  "kernelspec": {
   "display_name": "SageMath 7.3",
   "language": "",
   "name": "sagemath"
  },
  "language_info": {
   "codemirror_mode": {
    "name": "ipython",
    "version": 2
   },
   "file_extension": ".py",
   "mimetype": "text/x-python",
   "name": "python",
   "nbconvert_exporter": "python",
   "pygments_lexer": "ipython2",
   "version": "2.7.10"
  }
 },
 "nbformat": 4,
 "nbformat_minor": 0
}
