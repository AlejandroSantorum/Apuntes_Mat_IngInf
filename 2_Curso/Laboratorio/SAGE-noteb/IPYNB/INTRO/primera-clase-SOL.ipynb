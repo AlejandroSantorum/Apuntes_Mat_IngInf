{
 "cells": [
  {
   "cell_type": "markdown",
   "metadata": {
    "deletable": true,
    "editable": true
   },
   "source": [
    "<h3>POTENCIAS</h3>\n",
    "<p>&iquest;Es mayor $n^{n+1}$ o $(n+1)^n$?</p>"
   ]
  },
  {
   "cell_type": "code",
   "execution_count": 1,
   "metadata": {
    "collapsed": false,
    "deletable": true,
    "editable": true
   },
   "outputs": [
    {
     "data": {
      "text/plain": [
       "True"
      ]
     },
     "execution_count": 1,
     "metadata": {},
     "output_type": "execute_result"
    }
   ],
   "source": [
    "50^(51)>51^(50)"
   ]
  },
  {
   "cell_type": "code",
   "execution_count": 2,
   "metadata": {
    "collapsed": false,
    "deletable": true,
    "editable": true
   },
   "outputs": [
    {
     "name": "stdout",
     "output_type": "stream",
     "text": [
      "[False, True, True, True, True, True, True, True, True, True, True, True, True, True, True, True, True, True, True, True, True, True, True, True, True, True, True, True, True, True, True, True, True, True, True, True, True, True, True, True, True, True, True, True, True, True, True, True, True, True, True, True, True, True, True, True, True, True, True, True, True, True, True, True, True, True, True, True, True, True, True, True, True, True, True, True, True, True, True, True, True, True, True, True, True, True, True, True, True, True, True, True, True, True, True, True, True, True]\n"
     ]
    }
   ],
   "source": [
    "print [n^(n+1)>(n+1)^n for n in srange(2,100)]"
   ]
  },
  {
   "cell_type": "code",
   "execution_count": 3,
   "metadata": {
    "collapsed": false,
    "deletable": true,
    "editable": true
   },
   "outputs": [
    {
     "name": "stdout",
     "output_type": "stream",
     "text": [
      "CPU times: user 8 ms, sys: 0 ns, total: 8 ms\n",
      "Wall time: 4.73 ms\n"
     ]
    }
   ],
   "source": [
    "time L = [n^(n+1)>(n+1)^n for n in srange(3,1000)]"
   ]
  },
  {
   "cell_type": "code",
   "execution_count": 4,
   "metadata": {
    "collapsed": false,
    "deletable": true,
    "editable": true
   },
   "outputs": [
    {
     "data": {
      "text/plain": [
       "True"
      ]
     },
     "execution_count": 4,
     "metadata": {},
     "output_type": "execute_result"
    }
   ],
   "source": [
    "all(L)"
   ]
  },
  {
   "cell_type": "code",
   "execution_count": 5,
   "metadata": {
    "collapsed": true,
    "deletable": true,
    "editable": true
   },
   "outputs": [],
   "source": [
    "L2 = [n^(n+1)-(n+1)^n>(n-3)*n^n for n in srange(3,10)]"
   ]
  },
  {
   "cell_type": "code",
   "execution_count": 6,
   "metadata": {
    "collapsed": false,
    "deletable": true,
    "editable": true
   },
   "outputs": [
    {
     "data": {
      "text/plain": [
       "[True, True, True, True, True, True, True]"
      ]
     },
     "execution_count": 6,
     "metadata": {},
     "output_type": "execute_result"
    }
   ],
   "source": [
    "L2"
   ]
  },
  {
   "cell_type": "code",
   "execution_count": 7,
   "metadata": {
    "collapsed": false,
    "deletable": true,
    "editable": true
   },
   "outputs": [
    {
     "name": "stdout",
     "output_type": "stream",
     "text": [
      "CPU times: user 4 ms, sys: 4 ms, total: 8 ms\n",
      "Wall time: 7.91 ms\n"
     ]
    }
   ],
   "source": [
    "time L3 = [n^(n+1)-(n+1)^n>(n-3)*n^n for n in srange(3,1000)]"
   ]
  },
  {
   "cell_type": "code",
   "execution_count": 8,
   "metadata": {
    "collapsed": false,
    "deletable": true,
    "editable": true
   },
   "outputs": [
    {
     "data": {
      "text/plain": [
       "True"
      ]
     },
     "execution_count": 8,
     "metadata": {},
     "output_type": "execute_result"
    }
   ],
   "source": [
    "all(L3)"
   ]
  },
  {
   "cell_type": "markdown",
   "metadata": {
    "deletable": true,
    "editable": true
   },
   "source": [
    "<h3>CUADRADOS</h3>\n",
    "<p>&iquest;Es cierto que si tenemos $3$ enteros, $x,y,z$, tales que $x^2+y^2=z^2$ NO es posible que ambos $x$ e $y$ sean impares?&iquest;Es cierto que siempre el producto $x\\cdot y\\cdot z$ de tales enteros es m&uacute;ltiplo de $60$?</p>"
   ]
  },
  {
   "cell_type": "code",
   "execution_count": 9,
   "metadata": {
    "collapsed": false,
    "deletable": true,
    "editable": true
   },
   "outputs": [
    {
     "name": "stdout",
     "output_type": "stream",
     "text": [
      "CPU times: user 24 ms, sys: 4 ms, total: 28 ms\n",
      "Wall time: 22 ms\n"
     ]
    },
    {
     "data": {
      "text/plain": [
       "[]"
      ]
     },
     "execution_count": 9,
     "metadata": {},
     "output_type": "execute_result"
    }
   ],
   "source": [
    "time [(x,y) for x in srange(1,100) for y in srange(1,100) if is_square(x^2+y^2) and (x%2==1 and y%2==1)]"
   ]
  },
  {
   "cell_type": "code",
   "execution_count": 10,
   "metadata": {
    "collapsed": false,
    "deletable": true,
    "editable": true
   },
   "outputs": [
    {
     "name": "stdout",
     "output_type": "stream",
     "text": [
      "CPU times: user 1.64 s, sys: 144 ms, total: 1.78 s\n",
      "Wall time: 1.64 s\n"
     ]
    },
    {
     "data": {
      "text/plain": [
       "[]"
      ]
     },
     "execution_count": 10,
     "metadata": {},
     "output_type": "execute_result"
    }
   ],
   "source": [
    "time [(x,y) for x in srange(1,1000) for y in srange(1,1000) if is_square(x^2+y^2) and (x%2==1 and y%2==1)]"
   ]
  },
  {
   "cell_type": "markdown",
   "metadata": {},
   "source": [
    "Como obtenemos una lista vacía, hemos comprobado que no es posible que $X$ e $y$ sean ambos impares. ¿Cuál es el motivo? Si ambos fueran impares, la suma de sus cuadrados sería par, luego $z^2$ sería par y, por tanto, $z$ también sería par.  En consecuencia, $4$ sería un divisor de $x^2+y^2$, pero eso es imposible porque $(2m+1)^2+(2n+1)^2$ es, como vemos desarrollando los cuadrados, múltiplo de $2$ pero no de $4$. "
   ]
  },
  {
   "cell_type": "code",
   "execution_count": 11,
   "metadata": {
    "collapsed": false,
    "deletable": true,
    "editable": true
   },
   "outputs": [
    {
     "name": "stdout",
     "output_type": "stream",
     "text": [
      "CPU times: user 1.33 s, sys: 144 ms, total: 1.47 s\n",
      "Wall time: 1.33 s\n"
     ]
    }
   ],
   "source": [
    "def sumacuadrados():\n",
    "    L = []\n",
    "    for x in xsrange(1,1000):\n",
    "        for y in xsrange(1,1000):\n",
    "            zc = x^2+y^2\n",
    "            if is_square(zc):\n",
    "                z = floor(sqrt(zc))\n",
    "                if x*y*z%60 != 0:\n",
    "                    print x,y,z\n",
    "                    break\n",
    "                    break\n",
    "            \n",
    "                    \n",
    "%time sumacuadrados()                "
   ]
  },
  {
   "cell_type": "markdown",
   "metadata": {},
   "source": [
    "Como no se imprime nada, hemos comprobado también la segunda afirmación. Si queremos estudiar el motivo debemos usar la solución de la ecuación. Se sabe, desde la antiguedad, que todas las tripletas $(x,y,z)$ que cumplen $x^2+y^2=z^2$ son múltiplos enteros de las tripletas \n",
    "$$(r^2-s^2,2rs,r^2+s^2)$$\n",
    "con $r$ y $s$ enteros primos entre sí."
   ]
  },
  {
   "cell_type": "code",
   "execution_count": 12,
   "metadata": {
    "collapsed": false
   },
   "outputs": [
    {
     "data": {
      "text/plain": [
       "0"
      ]
     },
     "execution_count": 12,
     "metadata": {},
     "output_type": "execute_result"
    }
   ],
   "source": [
    "## Comprobamos que las tripletas indicadas son soluciones\n",
    "var('r s')\n",
    "expand((r**2-s**2)**2+(2*r*s)**2-(r**2+s**2)**2)"
   ]
  },
  {
   "cell_type": "code",
   "execution_count": 13,
   "metadata": {
    "collapsed": false,
    "deletable": true,
    "editable": true,
    "scrolled": false
   },
   "outputs": [
    {
     "data": {
      "text/plain": [
       "False"
      ]
     },
     "execution_count": 13,
     "metadata": {},
     "output_type": "execute_result"
    }
   ],
   "source": [
    "var('r s')\n",
    "P = (r^2+s^2)*(r^2-s^2)*2*r*s\n",
    "L =[ZZ(P(r=a,s=b))%60 for a in xsrange(100) for b in xsrange(100) if gcd(a,b)==1]\n",
    "any(L)\n",
    "## any(L) con resultado False quiere decir que no hay ningún 1 en la lista"
   ]
  },
  {
   "cell_type": "code",
   "execution_count": 14,
   "metadata": {
    "collapsed": false,
    "deletable": true,
    "editable": true
   },
   "outputs": [
    {
     "data": {
      "text/plain": [
       "2*(r^2 + s^2)*(r + s)*(r - s)*r*s"
      ]
     },
     "execution_count": 14,
     "metadata": {},
     "output_type": "execute_result"
    }
   ],
   "source": [
    "factor(expand(P))"
   ]
  },
  {
   "cell_type": "code",
   "execution_count": 15,
   "metadata": {
    "collapsed": false,
    "deletable": true,
    "editable": true
   },
   "outputs": [],
   "source": [
    "P1 = r^2+s^2\n",
    "P2 = r+s\n",
    "P3 = r-s\n",
    "P4=r*s"
   ]
  },
  {
   "cell_type": "markdown",
   "metadata": {},
   "source": [
    "Para comprobar que $P$ es siempre múltiplo de $60=3\\cdot 4\\cdot5 $ debemos comprobar que para todo $r,s$ una de las cuatro expresiones anteriores es par, otra es múltiplo de $3$ y otra múltiplo de $5$. \n",
    "\n",
    "Por ejemplo, si $r$ es par o $s$ es par es claro que $P4$ es par. Supongamos que ambas son impares, pero entonces $r^2+s^2$ es par. \n",
    "\n",
    "**TERMINAR el ejercicio.**"
   ]
  },
  {
   "cell_type": "markdown",
   "metadata": {
    "deletable": true,
    "editable": true
   },
   "source": [
    "<h3>Otros ejercicios</h3>\n",
    "<ol>\n",
    "<li>&iquest;Qu&eacute; enteros primos $p$ se pueden representar como la suma de dos cuadrados de enteros?&nbsp;</li>\n",
    "<li>&iquest;Cu&aacute;ntos ceros hay al final, por la derecha, en $100!$ (factorial de cien)?&iquest;Y en $365!$?</li>\n",
    "<li>&nbsp;&iquest;Es cierto que la suma $$1!+2!+3!+\\dots+n!$$ no puede ser un cuadrado si $n\\ge 4$?</li>\n",
    "<li>&iquest;Existen grupos de $k$ enteros positivos consecutivos cuya suma sea una potencia de $2$?&iquest;Y si permitimos que sean enteros positivos o negativos?</li>\n",
    "</ol>"
   ]
  },
  {
   "cell_type": "code",
   "execution_count": 16,
   "metadata": {
    "collapsed": false,
    "deletable": true,
    "editable": true
   },
   "outputs": [
    {
     "name": "stdout",
     "output_type": "stream",
     "text": [
      "[2, 5, 17, 37, 5, 13, 29, 53, 13, 73, 17, 41, 97, 29, 41, 61, 89, 37, 61, 53, 113, 73, 89, 113, 97]\n"
     ]
    }
   ],
   "source": [
    "## Ej 1\n",
    "print [x^2+y^2 for x in srange(1,10) for y in srange(1,10) if is_prime(x^2+y^2)]"
   ]
  },
  {
   "cell_type": "markdown",
   "metadata": {},
   "source": [
    "Observando los resultados de be ser claro que todos los primos que aparecen, salvo el $2$,  se forman con un múltiplo de $4$ más uno.  "
   ]
  },
  {
   "cell_type": "code",
   "execution_count": 17,
   "metadata": {
    "collapsed": false,
    "deletable": true,
    "editable": true
   },
   "outputs": [
    {
     "name": "stdout",
     "output_type": "stream",
     "text": [
      "CPU times: user 1.54 s, sys: 80 ms, total: 1.62 s\n",
      "Wall time: 1.55 s\n"
     ]
    },
    {
     "data": {
      "text/plain": [
       "True"
      ]
     },
     "execution_count": 17,
     "metadata": {},
     "output_type": "execute_result"
    }
   ],
   "source": [
    "%time all([(x^2+y^2)%4 for x in srange(1,1000) for y in srange(1,1000) if is_prime(x^2+y^2) and x^2+y^2>2])"
   ]
  },
  {
   "cell_type": "code",
   "execution_count": 18,
   "metadata": {
    "collapsed": false,
    "deletable": true,
    "editable": true
   },
   "outputs": [
    {
     "name": "stdout",
     "output_type": "stream",
     "text": [
      "24\n",
      "93326215443944152681699238856266700490715968264381621468592963895217599993229915608941463976156518286253697920827223758251185210916864000000000000000000000000\n"
     ]
    }
   ],
   "source": [
    "##Ej 2\n",
    "N = factorial(100)\n",
    "k=1\n",
    "while N%10^k==0:\n",
    "    k += 1\n",
    "print k-1\n",
    "print N"
   ]
  },
  {
   "cell_type": "code",
   "execution_count": 19,
   "metadata": {
    "collapsed": false,
    "deletable": true,
    "editable": true
   },
   "outputs": [
    {
     "name": "stdout",
     "output_type": "stream",
     "text": [
      "0\n",
      "1\n",
      "2\n",
      "4\n",
      "CPU times: user 2.16 s, sys: 72 ms, total: 2.24 s\n",
      "Wall time: 2.15 s\n"
     ]
    }
   ],
   "source": [
    "##Ej 3\n",
    "def suma_fact():\n",
    "    for n in xsrange(1000):\n",
    "        if is_square(sum([factorial(j) for j in srange(1,n)])):\n",
    "            print n\n",
    "\n",
    "%time suma_fact()"
   ]
  },
  {
   "cell_type": "code",
   "execution_count": 20,
   "metadata": {
    "collapsed": false,
    "deletable": true,
    "editable": true
   },
   "outputs": [
    {
     "name": "stdout",
     "output_type": "stream",
     "text": [
      "2 1\n",
      "4 3\n",
      "8 7\n",
      "16 15\n",
      "32 31\n",
      "64 63\n",
      "128 127\n",
      "256 255\n",
      "512 511\n",
      "CPU times: user 6.82 s, sys: 412 ms, total: 7.23 s\n",
      "Wall time: 6.83 s\n"
     ]
    }
   ],
   "source": [
    "##Ej 4\n",
    "def suma(n):\n",
    "    return (n*(n+1))//2\n",
    "def is_power_2(n):\n",
    "    L = list(factor(n))\n",
    "    if len(L)==1 and L[0][0]==2:\n",
    "        return True\n",
    "    else:\n",
    "        return False\n",
    "\n",
    "def comprueba():\n",
    "    for n in xsrange(2,1000):\n",
    "        for k in xsrange(1,n):\n",
    "            if is_power_2(suma(n)-suma(k)):\n",
    "                print n,k\n",
    "%time comprueba()   "
   ]
  },
  {
   "cell_type": "markdown",
   "metadata": {
    "collapsed": true,
    "deletable": true,
    "editable": true
   },
   "source": [
    "Si sólo se condideren enteros positivos no se obtiene algo muy interesante. Vemos sumas hasta una potencia de $2$ a la que le restamos la suma hasta el anterior entero. ¿Qué ocurre si admitimos negativos? "
   ]
  }
 ],
 "metadata": {
  "kernelspec": {
   "display_name": "SageMath 8.0",
   "language": "",
   "name": "sagemath"
  },
  "language_info": {
   "codemirror_mode": {
    "name": "ipython",
    "version": 2
   },
   "file_extension": ".py",
   "mimetype": "text/x-python",
   "name": "python",
   "nbconvert_exporter": "python",
   "pygments_lexer": "ipython2",
   "version": "2.7.13"
  }
 },
 "nbformat": 4,
 "nbformat_minor": 1
}
