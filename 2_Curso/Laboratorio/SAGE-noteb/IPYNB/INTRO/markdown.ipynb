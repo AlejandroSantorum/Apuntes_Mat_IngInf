{
 "cells": [
  {
   "cell_type": "markdown",
   "metadata": {
    "deletable": true,
    "editable": true
   },
   "source": [
    "### Markdown básico\n",
    "\n",
    "1. Para ver el código de una celda de texto formateada en **Markdown** basta pinchar dos veces seguidas en ella. para volver a  formatear el texto basta evaluar la celda. \n",
    "2. Para marcar secciones, subsecciones, etc  comenzamos la línea con varias *almohadillas* (#) y continuamos, después de un espacio,  con el título de la sección.  El número de las que usemos determina el tamaño de letra usado en el título.\n",
    "3. Cambiamos a *cursiva*, dentro de una celda de texto de formato **Markdown**, empezando y terminando el texto en cursiva entre asteriscos. De la misma forma si usamos dos asteriscos para abrir y cerrar obtenemos **negrita**.\n",
    "4. Para cambiar de color hay que usar el método *html*: <span style=\"color:red\">Este texto es de color rojo.</span> Se ha obtenido con `<span style=\"color:red\">Este texto es de color rojo.</span>`\n",
    "5. Listas numeradas, como esta en que estamos, se obtienen comenzando la línea con el número, después un punto y un espacio.  \n",
    "6. Dentro del texto podemos escribir fórmulas matemáticas en Latex encerrándolas entre dólares, como  $x^2$. Si usamos dos dólares para abrir la fórmula y dos para cerrar, la fórmula crea una nueva línea y se centra en ella:   $$(e^{x^2})^{\\prime}=2xe^{x^2}.$$\n",
    "7. Más información en esta [página](https://github.com/adam-p/markdown-here/wiki/Markdown-Cheatsheet), que tiene   URL <center>`https://github.com/adam-p/markdown-here/wiki/Markdown-Cheatsheet`.</center>"
   ]
  },
  {
   "cell_type": "code",
   "execution_count": null,
   "metadata": {
    "collapsed": true,
    "deletable": true,
    "editable": true
   },
   "outputs": [],
   "source": []
  }
 ],
 "metadata": {
  "kernelspec": {
   "display_name": "Python 2",
   "language": "python",
   "name": "python2"
  },
  "language_info": {
   "codemirror_mode": {
    "name": "ipython",
    "version": 2
   },
   "file_extension": ".py",
   "mimetype": "text/x-python",
   "name": "python",
   "nbconvert_exporter": "python",
   "pygments_lexer": "ipython2",
   "version": "2.7.13"
  }
 },
 "nbformat": 4,
 "nbformat_minor": 2
}
