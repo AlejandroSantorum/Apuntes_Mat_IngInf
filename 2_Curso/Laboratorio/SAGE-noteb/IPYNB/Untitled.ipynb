{
 "cells": [
  {
   "cell_type": "code",
   "execution_count": 24,
   "metadata": {
    "collapsed": false,
    "deletable": true,
    "editable": true
   },
   "outputs": [
    {
     "name": "stdout",
     "output_type": "stream",
     "text": [
      "[[10, 0], [10, 0], [10, 0], [10, 0], [10, 0], [10, 0], [10, 0], [10, 0], [10, 0], [10, 0], [10, 0]]\n"
     ]
    }
   ],
   "source": [
    "def prueba(n, N):\n",
    "    L = [0]*n\n",
    "    L1 = [L]\n",
    "    for i in srange(N):\n",
    "        L[0] += 1\n",
    "        L1.append(L)\n",
    "    return L1\n",
    "\n",
    "\n",
    "LL = prueba(2,10)\n",
    "print LL\n",
    "\n",
    "\n"
   ]
  },
  {
   "cell_type": "code",
   "execution_count": 31,
   "metadata": {
    "collapsed": false,
    "deletable": true,
    "editable": true
   },
   "outputs": [
    {
     "name": "stdout",
     "output_type": "stream",
     "text": [
      "[[10, 0], (1, 0), (2, 0), (3, 0), (4, 0), (5, 0), (6, 0), (7, 0), (8, 0), (9, 0), (10, 0)]\n"
     ]
    }
   ],
   "source": [
    "#solucion al problema\n",
    "\n",
    "\n",
    "def prueba2(n, N):\n",
    "    L = [0]*n\n",
    "    L1 = [L]\n",
    "    for i in srange(N):\n",
    "        L[0] += 1\n",
    "        L1.append(tuple(L))\n",
    "    return L1\n",
    "\n",
    "\n",
    "LL = prueba2(2,10)\n",
    "print LL"
   ]
  },
  {
   "cell_type": "code",
   "execution_count": null,
   "metadata": {
    "collapsed": true,
    "deletable": true,
    "editable": true
   },
   "outputs": [],
   "source": []
  },
  {
   "cell_type": "code",
   "execution_count": null,
   "metadata": {
    "collapsed": true
   },
   "outputs": [],
   "source": []
  },
  {
   "cell_type": "code",
   "execution_count": null,
   "metadata": {
    "collapsed": true
   },
   "outputs": [],
   "source": []
  }
 ],
 "metadata": {
  "kernelspec": {
   "display_name": "SageMath 8.0",
   "language": "",
   "name": "sagemath"
  },
  "language_info": {
   "codemirror_mode": {
    "name": "ipython",
    "version": 2
   },
   "file_extension": ".py",
   "mimetype": "text/x-python",
   "name": "python",
   "nbconvert_exporter": "python",
   "pygments_lexer": "ipython2",
   "version": "2.7.13"
  }
 },
 "nbformat": 4,
 "nbformat_minor": 2
}
