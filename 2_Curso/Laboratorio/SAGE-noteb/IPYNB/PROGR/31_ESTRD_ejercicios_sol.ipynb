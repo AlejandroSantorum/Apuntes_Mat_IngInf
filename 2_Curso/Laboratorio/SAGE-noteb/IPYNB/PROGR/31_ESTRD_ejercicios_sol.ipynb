{
 "cells": [
  {
   "cell_type": "markdown",
   "metadata": {
    "deletable": true,
    "editable": true
   },
   "source": [
    "<h2>Ejercicio 1</h2>\n",
    "<p>Dada la lista $L=[3,5,6,8,10,12]$, se pide:</p>\n",
    "<ol style=\"list-style-type: lower-alpha;\">\n",
    "<li>averiguar la posición del número $8$;</li>\n",
    "<li>cambiar el valor $8$ por $9$, sin reescribir toda la lista;</li>\n",
    "<li>intercambiar $5$ y $9$;</li>\n",
    "<li>intercambiar cada valor por el que ocupa su posición <em>simétrica</em>, es decir, el primero con el último, el segundo con el penúltimo, ...</li>\n",
    "<li>crear la lista resultante de concatenar a la original, el resultado del apartado anterior.</li>\n",
    "</ol>"
   ]
  },
  {
   "cell_type": "code",
   "execution_count": 2,
   "metadata": {
    "collapsed": false,
    "deletable": true,
    "editable": true
   },
   "outputs": [
    {
     "data": {
      "text/plain": [
       "3"
      ]
     },
     "execution_count": 2,
     "metadata": {},
     "output_type": "execute_result"
    }
   ],
   "source": [
    "L=[3,5,6,8,10,12]\n",
    "L_copia=list(L) ### Interesa guardar una copia para el apartado e.\n",
    "#a\n",
    "j=L.index(8)\n",
    "j"
   ]
  },
  {
   "cell_type": "code",
   "execution_count": 4,
   "metadata": {
    "collapsed": false,
    "deletable": true,
    "editable": true
   },
   "outputs": [
    {
     "data": {
      "text/plain": [
       "[3, 5, 6, 9, 10, 12]"
      ]
     },
     "execution_count": 4,
     "metadata": {},
     "output_type": "execute_result"
    }
   ],
   "source": [
    "#b\n",
    "L[j]=9\n",
    "L"
   ]
  },
  {
   "cell_type": "code",
   "execution_count": 5,
   "metadata": {
    "collapsed": false,
    "deletable": true,
    "editable": true
   },
   "outputs": [
    {
     "data": {
      "text/plain": [
       "[3, 9, 6, 5, 10, 12]"
      ]
     },
     "execution_count": 5,
     "metadata": {},
     "output_type": "execute_result"
    }
   ],
   "source": [
    "#c\n",
    "j,k=L.index(5),L.index(9)\n",
    "L[j],L[k]=9,5\n",
    "L"
   ]
  },
  {
   "cell_type": "code",
   "execution_count": 6,
   "metadata": {
    "collapsed": false,
    "deletable": true,
    "editable": true
   },
   "outputs": [
    {
     "data": {
      "text/plain": [
       "[12, 10, 5, 6, 9, 3]"
      ]
     },
     "execution_count": 6,
     "metadata": {},
     "output_type": "execute_result"
    }
   ],
   "source": [
    "#d\n",
    "L.reverse()\n",
    "L"
   ]
  },
  {
   "cell_type": "code",
   "execution_count": 10,
   "metadata": {
    "collapsed": false,
    "deletable": true,
    "editable": true
   },
   "outputs": [
    {
     "data": {
      "text/plain": [
       "[3, 5, 6, 8, 10, 12, 12, 10, 5, 6, 9, 3]"
      ]
     },
     "execution_count": 10,
     "metadata": {},
     "output_type": "execute_result"
    }
   ],
   "source": [
    "#e\n",
    "LL2=L_copia+L\n",
    "LL2"
   ]
  },
  {
   "cell_type": "markdown",
   "metadata": {
    "deletable": true,
    "editable": true
   },
   "source": [
    "<h2>Ejercicio 2</h2>\n",
    "<p>La orden prime_range(100,1001) genera la lista de los números primos entre 100 y 1000. Se pide, siendo<br />primos=prime_range(100,1001):</p>\n",
    "<ol style=\"list-style-type: lower-alpha;\">\n",
    "<li>averiguar el primo que ocupa la posición central en primos;</li>\n",
    "<li>averiguar la posición, en primos, de 331 y 631;</li>\n",
    "<li>extraer, conociendo las posiciones anteriores, la sublista de primos entre 331 y 631 (ambos incluidos);</li>\n",
    "<li>extraer una sublista de primos que olvide los dos centrales de cada cuatro;</li>\n",
    "<li>(**) extraer una sublista de primos que olvide el tercero de cada tres.<br /><br /></li>\n",
    "</ol>"
   ]
  },
  {
   "cell_type": "code",
   "execution_count": 27,
   "metadata": {
    "collapsed": false,
    "deletable": true,
    "editable": true
   },
   "outputs": [
    {
     "data": {
      "text/plain": []
     },
     "execution_count": 27,
     "metadata": {},
     "output_type": "execute_result"
    }
   ],
   "source": [
    "primos=prime_range(100,1001)"
   ]
  },
  {
   "cell_type": "code",
   "execution_count": 29,
   "metadata": {
    "collapsed": false,
    "deletable": true,
    "editable": true
   },
   "outputs": [
    {
     "data": {
      "text/plain": [
       "(509, True)"
      ]
     },
     "execution_count": 29,
     "metadata": {},
     "output_type": "execute_result"
    }
   ],
   "source": [
    "#2.a\n",
    "L=len(primos)\n",
    "a=primos[L//2]\n",
    "a, len(primos[:L//2])==len(primos[L//2+1:])"
   ]
  },
  {
   "cell_type": "code",
   "execution_count": 30,
   "metadata": {
    "collapsed": false,
    "deletable": true,
    "editable": true
   },
   "outputs": [
    {
     "data": {
      "text/plain": [
       "(41, 89)"
      ]
     },
     "execution_count": 30,
     "metadata": {},
     "output_type": "execute_result"
    }
   ],
   "source": [
    "#2.b\n",
    "p1,p2=331,631\n",
    "a1,a2=primos.index(p1),primos.index(p2)\n",
    "a1,a2"
   ]
  },
  {
   "cell_type": "code",
   "execution_count": 31,
   "metadata": {
    "collapsed": false,
    "deletable": true,
    "editable": true
   },
   "outputs": [
    {
     "data": {
      "text/plain": [
       "[337, 347, 349, 353, 359, 367, 373, 379, 383, 389, 397, 401, 409, 419, 421, 431, 433, 439, 443, 449, 457, 461, 463, 467, 479, 487, 491, 499, 503, 509, 521, 523, 541, 547, 557, 563, 569, 571, 577, 587, 593, 599, 601, 607, 613, 617, 619]"
      ]
     },
     "execution_count": 31,
     "metadata": {},
     "output_type": "execute_result"
    }
   ],
   "source": [
    "#2.c\n",
    "primos[a1+1:a2] ### Si se entiende sin los extremos"
   ]
  },
  {
   "cell_type": "markdown",
   "metadata": {
    "deletable": true,
    "editable": true
   },
   "source": [
    "<p>Para el apartado d podemos entender que se pide:</p>\n",
    "<ul style=\"list-style-type: circle;\">\n",
    "<li>recorrer la lista y decidir conforme al criterio SíNONOSíNONOSíNONO..., o con 0's (para el NO) y 1's (para el Sí): 1001001001... En este caso basta saltar de 3 en 3 y la notación slice nos resuelve.</li>\n",
    "<li>o dividir en bloques de 4 y quitar los dos centrales;  el dibujo es distinto 1001 1001 1001 .... En este caso, basta tomar los restos de la división de cada índice por 4, y quedarnos con los que dan resto 0 o 4.</li>\n",
    "</ul>"
   ]
  },
  {
   "cell_type": "code",
   "execution_count": 32,
   "metadata": {
    "collapsed": false,
    "deletable": true,
    "editable": true
   },
   "outputs": [
    {
     "data": {
      "text/plain": [
       "Una muestra:  [101, 109, 131] [101, 103, 107, 109, 113, 127, 131, 137]\n",
       "Todos:\n",
       "[101, 109, 131, 149, 163, 179, 193, 211, 229, 241, 263, 277, 293, 313, 337, 353, 373, 389, 409, 431, 443, 461, 479, 499, 521, 547, 569, 587, 601, 617, 641, 653, 673, 691, 719, 739, 757, 773, 809, 823, 839, 859, 881, 907, 929, 947, 971, 991]"
      ]
     },
     "execution_count": 32,
     "metadata": {},
     "output_type": "execute_result"
    }
   ],
   "source": [
    "#2.d 100100100100...\n",
    "print 'Una muestra: ', primos[:8:3], primos[:8]\n",
    "print 'Todos:'; primos[::3]"
   ]
  },
  {
   "cell_type": "code",
   "execution_count": 58,
   "metadata": {
    "collapsed": false,
    "deletable": true,
    "editable": true
   },
   "outputs": [
    {
     "data": {
      "text/plain": [
       "[101, 109, 113, 137, 139, 157, 163, 179, 181, 197, 199, 227, 229, 241, 251, 269, 271, 283, 293, 313, 317, 347, 349, 367, 373, 389, 397, 419, 421, 439, 443, 461, 463, 487, 491, 509, 521, 547, 557, 571, 577, 599, 601, 617, 619, 643, 647, 661, 673, 691, 701, 727, 733, 751, 757, 773, 787, 811, 821, 829, 839, 859, 863, 883, 887, 919, 929, 947, 953, 977, 983]"
      ]
     },
     "execution_count": 58,
     "metadata": {},
     "output_type": "execute_result"
    }
   ],
   "source": [
    "#2.d 1001 1001 1001 ...\n",
    "[primos[j] for j in range(len(primos)) if (j%4==0) or (j%4==3)]"
   ]
  },
  {
   "cell_type": "markdown",
   "metadata": {
    "deletable": true,
    "editable": true
   },
   "source": [
    "<p>Para olvidar el tercero de cada tres, hay que trabajar algo más, pues hemos de quedarnos con dos de cada tres. Se pueden pegar todas las sublistas que nos interesan, lo que conlleva un bucle for. A estas alturas es mejor quedarse con los índices múltiplos  congruentes con 0 o 1 módulo 3:</p>"
   ]
  },
  {
   "cell_type": "code",
   "execution_count": 35,
   "metadata": {
    "collapsed": false,
    "deletable": true,
    "editable": true
   },
   "outputs": [
    {
     "data": {
      "text/plain": [
       "[101, 103, 109, 113, 131, 137, 149, 151, 163, 167, 179, 181, 193, 197, 211, 223, 229, 233, 241, 251, 263, 269, 277, 281, 293, 307, 313, 317, 337, 347, 353, 359, 373, 379, 389, 397, 409, 419, 431, 433, 443, 449, 461, 463, 479, 487, 499, 503, 521, 523, 547, 557, 569, 571, 587, 593, 601, 607, 617, 619, 641, 643, 653, 659, 673, 677, 691, 701, 719, 727, 739, 743, 757, 761, 773, 787, 809, 811, 823, 827, 839, 853, 859, 863, 881, 883, 907, 911, 929, 937, 947, 953, 971, 977, 991, 997]"
      ]
     },
     "execution_count": 35,
     "metadata": {},
     "output_type": "execute_result"
    }
   ],
   "source": [
    "#2.e\n",
    "[primos[j] for j in range(len(primos)) if j%3!=2]"
   ]
  },
  {
   "cell_type": "markdown",
   "metadata": {
    "deletable": true,
    "editable": true
   },
   "source": [
    "<h2>Ejercicio 3</h2>\n",
    "<p>Considérese el n úmero $1000!$ (factorial(1000)):</p>\n",
    "<ol style=\"list-style-type: lower-alpha;\">\n",
    "<li>¿en cuántos ceros acaba?</li>\n",
    "<li>¿Se encuentra el número 666 entre sus subcadenas? En caso afirmativo, localizar (encontrar los  índices de) todas las apariciones.</li>\n",
    "<li>Encontrar la subcadena má larga de doses consecutivos. Mostrarla con los dos dígitos que la rodean.</li>\n",
    "</ol>"
   ]
  },
  {
   "cell_type": "code",
   "execution_count": 61,
   "metadata": {
    "collapsed": false,
    "deletable": true,
    "editable": true
   },
   "outputs": [
    {
     "data": {
      "text/plain": []
     },
     "execution_count": 61,
     "metadata": {},
     "output_type": "execute_result"
    }
   ],
   "source": []
  },
  {
   "cell_type": "markdown",
   "metadata": {
    "deletable": true,
    "editable": true
   },
   "source": [
    "<p>El primer apartado se puede resolver numéricamente localizando los múltiplos de $5$, $5^2$, $5^3$, ... que hay en los números del $2$ al $1000$. La potencia máxima es la parte entera del logaritmo en base $5$ de $1000$. Así, el siguiente cuadro nos calcula el número de ceros.</p>"
   ]
  },
  {
   "cell_type": "code",
   "execution_count": 63,
   "metadata": {
    "collapsed": false,
    "deletable": true,
    "editable": true
   },
   "outputs": [
    {
     "data": {
      "text/plain": [
       "249\n",
       "CPU time: 0.00 s,  Wall time: 0.00 s"
      ]
     },
     "execution_count": 63,
     "metadata": {},
     "output_type": "execute_result"
    }
   ],
   "source": [
    "%%time\n",
    "#3.a\n",
    "k=floor(log(10^3,base=5)) ### floor(x) devuelve la parte entera de x\n",
    "sum([floor(10^3/5^j) for j in [1..k]])"
   ]
  },
  {
   "cell_type": "markdown",
   "metadata": {
    "deletable": true,
    "editable": true
   },
   "source": [
    "<p>Pero vamos a resolverlo de otras maneras, menos eficientes, pero que ayudan a ilustrar los métodos y funciones visitados en este capítulo.</p>"
   ]
  },
  {
   "cell_type": "code",
   "execution_count": 65,
   "metadata": {
    "collapsed": false,
    "deletable": true,
    "editable": true
   },
   "outputs": [
    {
     "data": {
      "text/plain": [
       "[249]\n",
       "CPU time: 0.01 s,  Wall time: 0.01 s"
      ]
     },
     "execution_count": 65,
     "metadata": {},
     "output_type": "execute_result"
    }
   ],
   "source": [
    "%%time\n",
    "#3.a Factorizando un entero (tremendo)\n",
    "[q for p,q in factor(factorial(10^3)) if p==5]"
   ]
  },
  {
   "cell_type": "code",
   "execution_count": 12,
   "metadata": {
    "collapsed": false,
    "deletable": true,
    "editable": true
   },
   "outputs": [
    {
     "data": {
      "text/plain": [
       "2000000\n",
       "249\n",
       "CPU time: 0.00 s,  Wall time: 0.00 s"
      ]
     },
     "execution_count": 12,
     "metadata": {},
     "output_type": "execute_result"
    }
   ],
   "source": [
    "%%time\n",
    "#3.a Utilizando una cadena de caracteres\n",
    "numeraco=str(factorial(10^3))\n",
    "m=5 ### Probamos buscar m ceros\n",
    "ceros='0'*m ### m=5 ceros \n",
    "j=numeraco.index(ceros)\n",
    "print numeraco[j-1:j+m+1]\n",
    "len(numeraco[j:])"
   ]
  },
  {
   "cell_type": "markdown",
   "metadata": {
    "deletable": true,
    "editable": true
   },
   "source": [
    "<p>Una última opción es tomar la lista de dígitos y localizar el último dígito no cero. Para utilizar .index(), damos la vuelta a la lista.</p>"
   ]
  },
  {
   "cell_type": "code",
   "execution_count": 66,
   "metadata": {
    "collapsed": false,
    "deletable": true,
    "editable": true
   },
   "outputs": [
    {
     "data": {
      "text/plain": [
       "249\n",
       "CPU time: 0.00 s,  Wall time: 0.00 s"
      ]
     },
     "execution_count": 66,
     "metadata": {},
     "output_type": "execute_result"
    }
   ],
   "source": [
    "%%time\n",
    "#3.a Buscando en la lista de dígitos el último no cero\n",
    "a=list(str(factorial(10^3)))\n",
    "a.reverse()\n",
    "min([a.index(j) for j in list('123456789')])"
   ]
  },
  {
   "cell_type": "code",
   "execution_count": 15,
   "metadata": {
    "collapsed": false,
    "deletable": true,
    "editable": true
   },
   "outputs": [
    {
     "data": {
      "text/plain": [
       "2"
      ]
     },
     "execution_count": 15,
     "metadata": {},
     "output_type": "execute_result"
    }
   ],
   "source": [
    "#3.b\n",
    "numeraco.count('666')"
   ]
  },
  {
   "cell_type": "code",
   "execution_count": 37,
   "metadata": {
    "collapsed": false,
    "deletable": true,
    "editable": true
   },
   "outputs": [
    {
     "data": {
      "text/plain": [
       "'666'\n",
       "'666'"
      ]
     },
     "execution_count": 37,
     "metadata": {},
     "output_type": "execute_result"
    }
   ],
   "source": [
    "a1=numeraco.index('666')\n",
    "a2=numeraco[a1+1:].index('666')\n",
    "numeraco[a1:a1+3]; numeraco[a1+1+a2:a1+1+a2+3]"
   ]
  },
  {
   "cell_type": "code",
   "execution_count": 69,
   "metadata": {
    "collapsed": false,
    "deletable": true,
    "editable": true
   },
   "outputs": [
    {
     "data": {
      "text/plain": [
       "[2, 453, 695, 1662, 1662, -1, -1, -1, -1, -1]\n",
       "5\n",
       "1662 1666\n",
       "0222221"
      ]
     },
     "execution_count": 69,
     "metadata": {},
     "output_type": "execute_result"
    }
   ],
   "source": [
    "#3.c\n",
    "a=[numeraco.find('2'*j) for j in [1..10]]\n",
    "print a\n",
    "numdoses=a.index(-1)\n",
    "print numdoses\n",
    "comienzo=a[numdoses-1]\n",
    "final=comienzo+numdoses-1\n",
    "print comienzo,final\n",
    "print numeraco[comienzo-1:final+2]"
   ]
  },
  {
   "cell_type": "markdown",
   "metadata": {
    "deletable": true,
    "editable": true
   },
   "source": [
    "<h2>Ejercicio 4</h2>\n",
    "<p>Si se aplica la función sum() a una lista numérica, nos devuelve la suma de todos sus elementos. En particular, la composición sum(k.digits()), para k un variable entera, nos devuelve la suma de sus dígitos (en base 10).</p>\n",
    "<ol style=\"list-style-type: lower-alpha;\">\n",
    "<li>Calcular, con la composición sum(k.digits()), la suma de los dígitos del número k=factorial(1000).</li>\n",
    "<li>Calcular la misma suma sin utilizar el método .digits().<br />Sugerencia: considerar la cadena digitos='0123456789', en la que digitos[0]='0', digitos[1]='1', ..., digitos[9]='9'.<br />Sumar los elementos de la lista<br />$$[j ∗ (\\text{ veces que aparece $j$ en $1000!$}) :\\text{ con }j = 1, 2, 3, 4, 5, 6, 7, 8, 9 ]\\,.$$<br /><br /></li>\n",
    "</ol>"
   ]
  },
  {
   "cell_type": "code",
   "execution_count": 39,
   "metadata": {
    "collapsed": false,
    "deletable": true,
    "editable": true
   },
   "outputs": [
    {
     "data": {
      "text/plain": [
       "10539"
      ]
     },
     "execution_count": 39,
     "metadata": {},
     "output_type": "execute_result"
    }
   ],
   "source": [
    "#4.a\n",
    "k=factorial(1000)\n",
    "sum(k.digits())"
   ]
  },
  {
   "cell_type": "code",
   "execution_count": 40,
   "metadata": {
    "collapsed": false,
    "deletable": true,
    "editable": true
   },
   "outputs": [
    {
     "data": {
      "text/plain": [
       "10539"
      ]
     },
     "execution_count": 40,
     "metadata": {},
     "output_type": "execute_result"
    }
   ],
   "source": [
    "#4.b\n",
    "numeraco=str(k)\n",
    "digitos='0123456789'\n",
    "### Recorriendo índices\n",
    "sum([j*numeraco.count(digitos[j]) for j in range(len(digitos))])"
   ]
  },
  {
   "cell_type": "code",
   "execution_count": 42,
   "metadata": {
    "collapsed": false,
    "deletable": true,
    "editable": true
   },
   "outputs": [
    {
     "data": {
      "text/plain": [
       "10539"
      ]
     },
     "execution_count": 42,
     "metadata": {},
     "output_type": "execute_result"
    }
   ],
   "source": [
    "## Recorriendo caracteres\n",
    "sum([digitos.index(j)*numeraco.count(j) for j in digitos])"
   ]
  },
  {
   "cell_type": "markdown",
   "metadata": {
    "deletable": true,
    "editable": true
   },
   "source": [
    "<h2>Ejercicio 5</h2>\n",
    "<p>A partir de la cadena de caracteres</p>"
   ]
  },
  {
   "cell_type": "code",
   "execution_count": 48,
   "metadata": {
    "collapsed": false,
    "deletable": true,
    "editable": true
   },
   "outputs": [
    {
     "data": {
      "text/plain": []
     },
     "execution_count": 48,
     "metadata": {},
     "output_type": "execute_result"
    }
   ],
   "source": [
    "texto='Omnes homines, qui sese student praestare ceteris animalibus, summa ope niti decet ne uitam silentio transeant ueluti pecora, quae natura prona atque uentri oboedientia finxit.'"
   ]
  },
  {
   "cell_type": "markdown",
   "metadata": {
    "deletable": true,
    "editable": true
   },
   "source": [
    "<p><br />extraer la lista de los caracteres del alfabeto utilizados, sin repeticiones, sin distinguir mayúsculas de minúsculas y ordenada alfabéticamente.</p>\n",
    "<p><br />Sugerencia: La composición list(set()) aplicada a una lista, genera una lista con los elementos de la original sin repeticiones, ¿por qué?<br /><br /><br /></p>"
   ]
  },
  {
   "cell_type": "code",
   "execution_count": 46,
   "metadata": {
    "collapsed": false,
    "deletable": true,
    "editable": true
   },
   "outputs": [
    {
     "data": {
      "text/plain": [
       "['a', 'b', 'c', 'd', 'e', 'f', 'h', 'i', 'l', 'm', 'n', 'o', 'p', 'q', 'r', 's', 't', 'u', 'x']"
      ]
     },
     "execution_count": 46,
     "metadata": {},
     "output_type": "execute_result"
    }
   ],
   "source": [
    "letras=set(texto.lower())\n",
    "signos=' ,.'\n",
    "letras=list(letras.difference(signos))\n",
    "letras.sort()\n",
    "letras"
   ]
  },
  {
   "cell_type": "code",
   "execution_count": 50,
   "metadata": {
    "collapsed": false,
    "deletable": true,
    "editable": true
   },
   "outputs": [
    {
     "data": {
      "text/plain": []
     },
     "execution_count": 50,
     "metadata": {},
     "output_type": "execute_result"
    }
   ],
   "source": [
    "frecuencias=dict([(letra,texto.count(letra)) for letra in letras])"
   ]
  },
  {
   "cell_type": "code",
   "execution_count": 51,
   "metadata": {
    "collapsed": false,
    "deletable": true,
    "editable": true
   },
   "outputs": [
    {
     "data": {
      "text/plain": [
       "[('a', 15), ('e', 22), ('i', 16), ('o', 7), ('u', 11)]"
      ]
     },
     "execution_count": 51,
     "metadata": {},
     "output_type": "execute_result"
    }
   ],
   "source": [
    "#Ejemplo-> contabilidad de vocales\n",
    "[(vocal,frecuencias[vocal]) for vocal in 'aeiou']"
   ]
  },
  {
   "cell_type": "markdown",
   "metadata": {
    "deletable": true,
    "editable": true
   },
   "source": [
    "<h2>Ejercicio 6. Máximo común divisor</h2>\n",
    "<p>Sin utilizar los métodos .divisors() ni la función max(), elabora código que, a partir de dos números a y b, calcule:</p>\n",
    "<ul style=\"list-style-type: circle;\">\n",
    "<li>El conjunto $\\text{Div}_a = \\{k\\in\\mathbb N : k|a\\}$</li>\n",
    "<li>El conjunto $\\text{Div}_b = \\{k\\in\\mathbb N : k|b\\}$</li>\n",
    "<li>El conjunto $\\text{Div}_{a,b} = \\{k \\in\\mathbb N : k|a \\text{ y } k|b\\}$.</li>\n",
    "</ul>\n",
    "<p>Una vez se tenga el conjunto de los divisores comunes, encontrar el mayor de ellos.</p>"
   ]
  },
  {
   "cell_type": "code",
   "execution_count": 16,
   "metadata": {
    "collapsed": false,
    "deletable": true,
    "editable": true
   },
   "outputs": [
    {
     "data": {
      "text/plain": [
       "392"
      ]
     },
     "execution_count": 16,
     "metadata": {},
     "output_type": "execute_result"
    }
   ],
   "source": [
    "a,b=2^3*5^3*7^2,7^3*2^4 ###Números para probar\n",
    "Div_a=set([k for k in srange(1,a+1) if a%k==0])\n",
    "Div_b=set([k for k in srange(1,b+1) if b%k==0])\n",
    "Div_ab=Div_a.intersection(Div_b)\n",
    "lDiv_ab=list(Div_ab) ### Pasado a lista...\n",
    "lDiv_ab.sort() ### ...y ordenados (por defecto es de menor a mayor), interesa el último.\n",
    "lDiv_ab[-1]"
   ]
  },
  {
   "cell_type": "markdown",
   "metadata": {
    "deletable": true,
    "editable": true
   },
   "source": [
    "<h2>Ejercicio 7. Mínimo común múltiplo</h2>\n",
    "<p>El mínimo comú múltiplo, $m$, de dos números, $a$ y $b$, es menor o igual que su producto: $m \\le a \\cdot b$. Sin utilizar la función min(), elabora código que, a partir de dos números $a$ y $b$, calcule:</p>\n",
    "<ul style=\"list-style-type: circle;\">\n",
    "<li>El conjunto $\\text{Mult}_{a(b)} = \\{k \\in\\mathbb N : a\\vert k \\text{ y } k \\le a · b\\}$</li>\n",
    "<li>El conjunto $\\text{Mult}_{b(a)} = \\{k \\in\\mathbb N : b\\vert k \\text{ y } k \\le a · b\\}$</li>\n",
    "<li>El conjunto $\\text{Mult}_{a,b} = \\{k \\in\\mathbb N : a\\vert k,\\,b\\vert k \\text{ y } k \\le a · b\\}$</li>\n",
    "</ul>\n",
    "<p>Una vez se tenga este subconjunto de los múltiplos comunes, encontrar el menor de ellos.</p>"
   ]
  },
  {
   "cell_type": "code",
   "execution_count": 52,
   "metadata": {
    "collapsed": false,
    "deletable": true,
    "editable": true
   },
   "outputs": [
    {
     "data": {
      "text/plain": [
       "686000"
      ]
     },
     "execution_count": 52,
     "metadata": {},
     "output_type": "execute_result"
    }
   ],
   "source": [
    "a,b=2^3*5^3*7^2,7^3*2^4 ###Números para probar\n",
    "Mult_a=set([a*j for j in range(1,b+1)])\n",
    "Mult_b=set([b*j for j in range(1,a+1)])\n",
    "Mult_ab=Mult_a.intersection(Mult_b)\n",
    "lMult_ab=list(Mult_ab)\n",
    "lMult_ab.sort()\n",
    "lMult_ab[0]"
   ]
  },
  {
   "cell_type": "code",
   "execution_count": 18,
   "metadata": {
    "collapsed": false,
    "deletable": true,
    "editable": true
   },
   "outputs": [
    {
     "data": {
      "text/plain": [
       "True"
      ]
     },
     "execution_count": 18,
     "metadata": {},
     "output_type": "execute_result"
    }
   ],
   "source": [
    "##Comprobación sencilla\n",
    "lMult_ab[0]*lDiv_ab[-1]==a*b"
   ]
  },
  {
   "cell_type": "markdown",
   "metadata": {
    "deletable": true,
    "editable": true
   },
   "source": [
    "<h2>Ejercicio 8</h2>\n",
    "<p>Dada una lista de números enteros, construye un conjunto con los factores primos de todos los números de la lista.</p>\n",
    "<p><br />Indicación: Usa list(k.factor()) para obtener los factores primos.</p>\n",
    "<p><strong>Nota:</strong> Mejor que la indicación propuesta, usamos la versión con la función factor(): list(factor(k)). El único problema con la propuesta es que los números $k$ a los que aplicar el método .factor() deberían ser enteros de sage, pero los que generamos con randint() no lo son. Bastaría multiplicarlos por $1$.<br /><br /></p>"
   ]
  },
  {
   "cell_type": "code",
   "execution_count": 57,
   "metadata": {
    "collapsed": false,
    "deletable": true,
    "editable": true
   },
   "outputs": [
    {
     "data": {
      "text/plain": []
     },
     "execution_count": 57,
     "metadata": {},
     "output_type": "execute_result"
    }
   ],
   "source": []
  },
  {
   "cell_type": "code",
   "execution_count": 55,
   "metadata": {
    "collapsed": false,
    "deletable": true,
    "editable": true
   },
   "outputs": [
    {
     "data": {
      "text/plain": [
       "set([2, 3, 5, 7, 11, 13, 47])"
      ]
     },
     "execution_count": 55,
     "metadata": {},
     "output_type": "execute_result"
    }
   ],
   "source": [
    "nums=[randint(1,100) for j in xrange(8)] ### Una lista de enteros al azar entre 1 y 100\n",
    "factores=set()\n",
    "for k in nums:\n",
    "    factores.update([p for p,q in list(factor(k))])  ##como no son enteros de sage, usamos factor() y no .factor()\n",
    "factores"
   ]
  },
  {
   "cell_type": "code",
   "execution_count": 70,
   "metadata": {
    "collapsed": false,
    "deletable": true,
    "editable": true
   },
   "outputs": [
    {
     "data": {
      "text/plain": [
       "set([2, 3, 5, 7, 13, 17, 67])"
      ]
     },
     "execution_count": 70,
     "metadata": {},
     "output_type": "execute_result"
    }
   ],
   "source": [
    "##Utilizando la indicación del enunciado. Obsérvese la multiplicación en randint(1,100)*1\n",
    "nums=[randint(1,100)*1 for j in xrange(8)] ### Una lista de enteros al azar entre 1 y 100\n",
    "factores=set()\n",
    "for k in nums:\n",
    "    factores.update([p for p,q in list(k.factor())])  ##como no son enteros de sage, usamos factor() y no .factor()\n",
    "factores"
   ]
  },
  {
   "cell_type": "markdown",
   "metadata": {
    "deletable": true,
    "editable": true
   },
   "source": [
    "<h2>Ejercicio 9</h2>\n",
    "<p>Almacena en un diccionario los pares letra:frecuencia resultantes de hacer el análisis de frecuencias de la cadena del siguiente texto.</p>\n",
    "<p>Utilizar el diccionario para averiguar la frecuencia de cada una de las cinco vocales.</p>"
   ]
  },
  {
   "cell_type": "code",
   "execution_count": 19,
   "metadata": {
    "collapsed": false,
    "deletable": true,
    "editable": true
   },
   "outputs": [
    {
     "data": {
      "text/plain": []
     },
     "execution_count": 19,
     "metadata": {},
     "output_type": "execute_result"
    }
   ],
   "source": [
    "Hamlet='''To be, or not to be: that is the question: Whether ’tis nobler in the mind to suffer The slings and arrows of outrageous fortune, Or to take arms against a sea of troubles, And by opposing end them? To die: to sleep; No more; and by a sleep to say we end The heartache and the thousand natural shocks That flesh is heir to, ’tis a consummation Devoutly to be wish’d. To die, to sleep; To sleep: perchance to dream: ay, there’s the rub; For in that sleep of death what dreams may come When we have shuffled off this mortal coil, Must give us pause: there’s the respect That makes calamity of so long life; For who would bear the whips and scorns of time, The oppressor’s wrong, the proud man’s contumely, The pangs of despised love, the law’s delay, The insolence of office and the spurns That patient merit of the unworthy takes, When he himself might his quietus make With a bare bodkin? who would fardels bear, To grunt and sweat under a weary life, But that the dread of something after death, The undiscover’d country from whose bourn No traveller returns, puzzles the will And makes us rather bear those ills we have Than fly to others that we know not of? Thus conscience does make cowards of us all; And thus the native hue of resolution Is sicklied o’er with the pale cast of thought, And enterprises of great pith and moment With this regard their currents turn awry, And lose the name of action. –Soft you now! The fair Ophelia! Nymph, in thy orisons Be all my sins remember’d.'''"
   ]
  },
  {
   "cell_type": "code",
   "execution_count": 21,
   "metadata": {
    "collapsed": false,
    "deletable": true,
    "editable": true
   },
   "outputs": [
    {
     "data": {
      "text/plain": [
       "['\\x80', '\\x93', '\\x99', '!', ' ', ',', '.', ';', ':', '?', 'A', 'B', 'D', 'F', 'I', 'M', 'O', 'N', 'S', 'b', 'T', 'W', 'a', 'c', '\\xe2', 'e', 'd', 'g', 'f', 'i', 'h', 'k', 'm', 'l', 'o', 'n', 'q', 'p', 's', 'r', 'u', 't', 'w', 'v', 'y', 'z']"
      ]
     },
     "execution_count": 21,
     "metadata": {},
     "output_type": "execute_result"
    }
   ],
   "source": [
    "caracteres=list(set(Hamlet))\n",
    "caracteres"
   ]
  },
  {
   "cell_type": "code",
   "execution_count": 22,
   "metadata": {
    "collapsed": false,
    "deletable": true,
    "editable": true
   },
   "outputs": [
    {
     "data": {
      "text/plain": [
       "[('a', 82), ('e', 146), ('i', 56), ('o', 97), ('u', 41)]"
      ]
     },
     "execution_count": 22,
     "metadata": {},
     "output_type": "execute_result"
    }
   ],
   "source": [
    "veces=[(j,Hamlet.count(j)) for j in caracteres]\n",
    "frecuencias=dict(veces)\n",
    "[(vocal,frecuencias[vocal]) for vocal in 'aeiou']"
   ]
  },
  {
   "cell_type": "markdown",
   "metadata": {
    "deletable": true,
    "editable": true
   },
   "source": [
    "<h2>Ejercicio 10</h2>\n",
    "<p>A partir del diccionario de frecuencias del ejercicio anterior, construir una lista de pares (frecuencia,letra) y ordenarla, en orden creciente de frecuencias.<br /><br /></p>"
   ]
  },
  {
   "cell_type": "code",
   "execution_count": 23,
   "metadata": {
    "collapsed": false,
    "deletable": true,
    "editable": true
   },
   "outputs": [
    {
     "data": {
      "text/plain": [
       "[(1, 'D'), (1, 'I'), (1, 'M'), (1, 'S'), (1, '\\x93'), (2, '!'), (2, 'B'), (2, 'F'), (2, 'O'), (2, 'q'), (2, 'z'), (3, '.'), (3, '?'), (3, 'N'), (5, 'A'), (5, 'W'), (6, ':'), (6, ';'), (8, 'v'), (10, 'k'), (11, '\\x99'), (12, '\\x80'), (12, '\\xe2'), (14, 'g'), (15, 'b'), (17, 'T'), (18, 'y'), (20, ','), (23, 'c'), (24, 'p'), (24, 'w'), (31, 'm'), (34, 'f'), (41, 'u'), (42, 'd'), (44, 'l'), (56, 'i'), (67, 'n'), (71, 'r'), (79, 'h'), (82, 'a'), (87, 's'), (97, 'o'), (103, 't'), (146, 'e'), (275, ' ')]"
      ]
     },
     "execution_count": 23,
     "metadata": {},
     "output_type": "execute_result"
    }
   ],
   "source": [
    "lfrecs=[(frecuencias[letra],letra) for letra in caracteres]\n",
    "lfrecs.sort()\n",
    "lfrecs"
   ]
  },
  {
   "cell_type": "code",
   "execution_count": 26,
   "metadata": {
    "collapsed": false,
    "deletable": true,
    "editable": true
   },
   "outputs": [
    {
     "data": {
      "text/plain": []
     },
     "execution_count": 26,
     "metadata": {},
     "output_type": "execute_result"
    }
   ],
   "source": []
  }
 ],
 "metadata": {
  "kernelspec": {
   "display_name": "SageMath 8.0",
   "language": "",
   "name": "sagemath"
  },
  "language": "python",
  "language_info": {
   "codemirror_mode": {
    "name": "ipython",
    "version": 2
   },
   "file_extension": ".py",
   "mimetype": "text/x-python",
   "name": "python",
   "nbconvert_exporter": "python",
   "pygments_lexer": "ipython2",
   "version": "2.7.13"
  }
 },
 "nbformat": 4,
 "nbformat_minor": 2
}
