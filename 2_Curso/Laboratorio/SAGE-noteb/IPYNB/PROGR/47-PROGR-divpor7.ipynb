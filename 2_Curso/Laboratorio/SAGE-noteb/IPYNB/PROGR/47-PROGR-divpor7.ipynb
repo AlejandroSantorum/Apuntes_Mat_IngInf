{
 "cells": [
  {
   "cell_type": "markdown",
   "metadata": {},
   "source": [
    "<h4>Definici&oacute;n de la funci&oacute;n</h4>\n",
    "<p>Comenzamos definiendo la funci&oacute;n $F$ que vamos a iterar:</p>"
   ]
  },
  {
   "cell_type": "code",
   "execution_count": 1,
   "metadata": {},
   "outputs": [],
   "source": [
    "def F(n):\n",
    "    if n==0:\n",
    "        return 0\n",
    "    else:\n",
    "        L = (n).digits(base=10)\n",
    "        n0 = L[0]\n",
    "        return (((n-n0)//10)-2*n0)"
   ]
  },
  {
   "cell_type": "code",
   "execution_count": 2,
   "metadata": {},
   "outputs": [
    {
     "data": {
      "text/plain": [
       "-14"
      ]
     },
     "execution_count": 2,
     "metadata": {},
     "output_type": "execute_result"
    }
   ],
   "source": [
    "F(49)"
   ]
  },
  {
   "cell_type": "code",
   "execution_count": 3,
   "metadata": {},
   "outputs": [
    {
     "data": {
      "text/plain": [
       "7"
      ]
     },
     "execution_count": 3,
     "metadata": {},
     "output_type": "execute_result"
    }
   ],
   "source": [
    "F(-14)"
   ]
  },
  {
   "cell_type": "markdown",
   "metadata": {},
   "source": [
    "<p>Una definici&oacute;n alternativa podr&iacute;a ser:</p>"
   ]
  },
  {
   "cell_type": "code",
   "execution_count": 4,
   "metadata": {},
   "outputs": [],
   "source": [
    "def F1(n):\n",
    "    if n==0:\n",
    "        return 0\n",
    "    else:\n",
    "        y = n%10\n",
    "        x = n//10\n",
    "        return x-2*y"
   ]
  },
  {
   "cell_type": "markdown",
   "metadata": {},
   "source": [
    "<p>El problema con esta segunda definici&oacute;n de la funci&oacute;n viene de su comportamiento cuando $n$ es negativo:</p>"
   ]
  },
  {
   "cell_type": "code",
   "execution_count": 5,
   "metadata": {},
   "outputs": [
    {
     "data": {
      "text/plain": [
       "-14"
      ]
     },
     "execution_count": 5,
     "metadata": {},
     "output_type": "execute_result"
    }
   ],
   "source": [
    "F1(-14)"
   ]
  },
  {
   "cell_type": "markdown",
   "metadata": {},
   "source": [
    "<p>Vemos que $F$ y $F1$ no son la misma funci&oacute;n, al menos para los negativos. &iquest;Son la misma para $n$ positivo?</p>"
   ]
  },
  {
   "cell_type": "code",
   "execution_count": 6,
   "metadata": {},
   "outputs": [
    {
     "data": {
      "text/plain": [
       "True"
      ]
     },
     "execution_count": 6,
     "metadata": {},
     "output_type": "execute_result"
    }
   ],
   "source": [
    "all([F(n)==F1(n) for n in srange(1000)])"
   ]
  },
  {
   "cell_type": "markdown",
   "metadata": {},
   "source": [
    "<p>No es dif&iacute;cil ver c&oacute;mo aparece ese comportamiento diferente:</p>"
   ]
  },
  {
   "cell_type": "code",
   "execution_count": 7,
   "metadata": {},
   "outputs": [
    {
     "name": "stdout",
     "output_type": "stream",
     "text": [
      "[-4, -1]\n",
      "-1\n",
      "7\n"
     ]
    }
   ],
   "source": [
    "L = (-14).digits(base=10)\n",
    "print L\n",
    "x = (-14-L[0])//10\n",
    "print x\n",
    "print x-2*L[0]"
   ]
  },
  {
   "cell_type": "code",
   "execution_count": 8,
   "metadata": {},
   "outputs": [
    {
     "name": "stdout",
     "output_type": "stream",
     "text": [
      "-2\n",
      "6\n",
      "-14\n"
     ]
    }
   ],
   "source": [
    "print (-14)//10\n",
    "print (-14)%10\n",
    "print ((-14)//10)-2*((-14)%10)"
   ]
  },
  {
   "cell_type": "markdown",
   "metadata": {},
   "source": [
    "<p>Vemos que el problema es que $-14//10$ es $-2$ y queremos que sea &nbsp;$-1$. Al calcular la &oacute;rbita de la funci&oacute;n $F1$ si llegamos a $-14$ se queda ya para siempre en $-14$ y si no se incluye $F(n)=n$ como condici&oacute;n de parada del bucle $while$ se produce un bucle infinito. Adem&aacute;s, como estamos a&ntilde;adiendo los sucesivos valores de $F(n)$ a la lista en la que acumulamos la &oacute;rbita, &nbsp;esa lista crece sin l&iacute;mite y satura la memoria RAM, es decir, no s&oacute;lo el proceso no para sino que cuelga la m&aacute;quina.</p>\n",
    "<h4>&Oacute;rbita</h4>\n",
    "<p>&iquest;Cu&aacute;l debe ser la condici&oacute;n de parada para un while? &nbsp;Estudiamos algunos trozos de &oacute;rbitas, tomando un n&uacute;mero de iteraciones $N$ suficientemente grande , pero no demasiado, es decir, tanteamos cu&aacute;l puede ser un buen valor dependiendo de los valores $ini$ que usamos:&nbsp;</p>"
   ]
  },
  {
   "cell_type": "code",
   "execution_count": 9,
   "metadata": {},
   "outputs": [],
   "source": [
    "def orbita(ini,N,f):\n",
    "    L = [ini]\n",
    "    for _ in srange(N):\n",
    "        ini = f(ini)\n",
    "        L.append(ini)\n",
    "    return L"
   ]
  },
  {
   "cell_type": "code",
   "execution_count": 10,
   "metadata": {},
   "outputs": [
    {
     "name": "stdout",
     "output_type": "stream",
     "text": [
      "[1, -2, 4, -8, 16, -11, 1, -2, 4, -8, 16, -11, 1, -2, 4, -8, 16, -11, 1, -2, 4]\n",
      "[2, -4, 8, -16, 11, -1, 2, -4, 8, -16, 11, -1, 2, -4, 8, -16, 11, -1, 2, -4, 8]\n",
      "[3, -6, 12, -3, 6, -12, 3, -6, 12, -3, 6, -12, 3, -6, 12, -3, 6, -12, 3, -6, 12]\n",
      "[4, -8, 16, -11, 1, -2, 4, -8, 16, -11, 1, -2, 4, -8, 16, -11, 1, -2, 4, -8, 16]\n",
      "[5, -10, -1, 2, -4, 8, -16, 11, -1, 2, -4, 8, -16, 11, -1, 2, -4, 8, -16, 11, -1]\n",
      "[6, -12, 3, -6, 12, -3, 6, -12, 3, -6, 12, -3, 6, -12, 3, -6, 12, -3, 6, -12, 3]\n",
      "[7, -14, 7, -14, 7, -14, 7, -14, 7, -14, 7, -14, 7, -14, 7, -14, 7, -14, 7, -14, 7]\n",
      "[8, -16, 11, -1, 2, -4, 8, -16, 11, -1, 2, -4, 8, -16, 11, -1, 2, -4, 8, -16, 11]\n",
      "[9, -18, 15, -9, 18, -15, 9, -18, 15, -9, 18, -15, 9, -18, 15, -9, 18, -15, 9, -18, 15]\n",
      "[10, 1, -2, 4, -8, 16, -11, 1, -2, 4, -8, 16, -11, 1, -2, 4, -8, 16, -11, 1, -2]\n",
      "[11, -1, 2, -4, 8, -16, 11, -1, 2, -4, 8, -16, 11, -1, 2, -4, 8, -16, 11, -1, 2]\n",
      "[12, -3, 6, -12, 3, -6, 12, -3, 6, -12, 3, -6, 12, -3, 6, -12, 3, -6, 12, -3, 6]\n",
      "[13, -5, 10, 1, -2, 4, -8, 16, -11, 1, -2, 4, -8, 16, -11, 1, -2, 4, -8, 16, -11]\n",
      "[14, -7, 14, -7, 14, -7, 14, -7, 14, -7, 14, -7, 14, -7, 14, -7, 14, -7, 14, -7, 14]\n",
      "[15, -9, 18, -15, 9, -18, 15, -9, 18, -15, 9, -18, 15, -9, 18, -15, 9, -18, 15, -9, 18]\n",
      "[16, -11, 1, -2, 4, -8, 16, -11, 1, -2, 4, -8, 16, -11, 1, -2, 4, -8, 16, -11, 1]\n",
      "[17, -13, 5, -10, -1, 2, -4, 8, -16, 11, -1, 2, -4, 8, -16, 11, -1, 2, -4, 8, -16]\n",
      "[18, -15, 9, -18, 15, -9, 18, -15, 9, -18, 15, -9, 18, -15, 9, -18, 15, -9, 18, -15, 9]\n",
      "[19, -17, 13, -5, 10, 1, -2, 4, -8, 16, -11, 1, -2, 4, -8, 16, -11, 1, -2, 4, -8]\n"
     ]
    }
   ],
   "source": [
    "for item in [orbita(J,20,F) for J in srange(1,20)]:\n",
    "    print(item)"
   ]
  },
  {
   "cell_type": "markdown",
   "metadata": {},
   "source": [
    "<p>Parece claro que al iterar $F$ se obtienen enteros peque&ntilde;os que parecen entrar en ciclos. Hagamos otra prueba con enteros iniciales mayores:</p>"
   ]
  },
  {
   "cell_type": "code",
   "execution_count": 11,
   "metadata": {},
   "outputs": [
    {
     "name": "stdout",
     "output_type": "stream",
     "text": [
      "[1841, 182, 14, -7, 14, -7, 14, -7, 14, -7, 14, -7, 14, -7, 14, -7, 14, -7, 14, -7, 14]\n",
      "[1056, 93, 3, -6, 12, -3, 6, -12, 3, -6, 12, -3, 6, -12, 3, -6, 12, -3, 6, -12, 3]\n",
      "[3868, 370, 37, -11, 1, -2, 4, -8, 16, -11, 1, -2, 4, -8, 16, -11, 1, -2, 4, -8, 16]\n",
      "[3880, 388, 22, -2, 4, -8, 16, -11, 1, -2, 4, -8, 16, -11, 1, -2, 4, -8, 16, -11, 1]\n",
      "[4917, 477, 33, -3, 6, -12, 3, -6, 12, -3, 6, -12, 3, -6, 12, -3, 6, -12, 3, -6, 12]\n",
      "[5595, 549, 36, -9, 18, -15, 9, -18, 15, -9, 18, -15, 9, -18, 15, -9, 18, -15, 9, -18, 15]\n",
      "[6312, 627, 48, -12, 3, -6, 12, -3, 6, -12, 3, -6, 12, -3, 6, -12, 3, -6, 12, -3, 6]\n",
      "[7418, 725, 62, 2, -4, 8, -16, 11, -1, 2, -4, 8, -16, 11, -1, 2, -4, 8, -16, 11, -1]\n",
      "[9795, 969, 78, -9, 18, -15, 9, -18, 15, -9, 18, -15, 9, -18, 15, -9, 18, -15, 9, -18, 15]\n",
      "[9168, 900, 90, 9, -18, 15, -9, 18, -15, 9, -18, 15, -9, 18, -15, 9, -18, 15, -9, 18, -15]\n",
      "[10526, 1040, 104, 2, -4, 8, -16, 11, -1, 2, -4, 8, -16, 11, -1, 2, -4, 8, -16, 11, -1]\n",
      "[11509, 1132, 109, -8, 16, -11, 1, -2, 4, -8, 16, -11, 1, -2, 4, -8, 16, -11, 1, -2, 4]\n",
      "[13837, 1369, 118, -5, 10, 1, -2, 4, -8, 16, -11, 1, -2, 4, -8, 16, -11, 1, -2, 4, -8]\n",
      "[14220, 1422, 138, -3, 6, -12, 3, -6, 12, -3, 6, -12, 3, -6, 12, -3, 6, -12, 3, -6, 12]\n",
      "[14113, 1405, 130, 13, -5, 10, 1, -2, 4, -8, 16, -11, 1, -2, 4, -8, 16, -11, 1, -2, 4]\n",
      "[15131, 1511, 149, -4, 8, -16, 11, -1, 2, -4, 8, -16, 11, -1, 2, -4, 8, -16, 11, -1, 2]\n",
      "[17445, 1734, 165, 6, -12, 3, -6, 12, -3, 6, -12, 3, -6, 12, -3, 6, -12, 3, -6, 12, -3]\n",
      "[17580, 1758, 159, -3, 6, -12, 3, -6, 12, -3, 6, -12, 3, -6, 12, -3, 6, -12, 3, -6, 12]\n",
      "[19440, 1944, 186, 6, -12, 3, -6, 12, -3, 6, -12, 3, -6, 12, -3, 6, -12, 3, -6, 12, -3]\n"
     ]
    }
   ],
   "source": [
    "for item in [orbita(J*1000+randint(-1000,1000),20,F) for J in srange(1,20)]:\n",
    "    print(item)"
   ]
  },
  {
   "cell_type": "markdown",
   "metadata": {},
   "source": [
    "<p>Parece que en cuanto una iteraci&oacute;n tiene un &uacute;nico d&iacute;gito entra en un ciclo. Lo comprobamos:</p>"
   ]
  },
  {
   "cell_type": "code",
   "execution_count": 12,
   "metadata": {},
   "outputs": [
    {
     "name": "stdout",
     "output_type": "stream",
     "text": [
      "[-9, 18, -15, 9, -18, 15, -9, 18, -15, 9, -18, 15, -9, 18, -15, 9, -18, 15, -9, 18, -15]\n",
      "[-8, 16, -11, 1, -2, 4, -8, 16, -11, 1, -2, 4, -8, 16, -11, 1, -2, 4, -8, 16, -11]\n",
      "[-7, 14, -7, 14, -7, 14, -7, 14, -7, 14, -7, 14, -7, 14, -7, 14, -7, 14, -7, 14, -7]\n",
      "[-6, 12, -3, 6, -12, 3, -6, 12, -3, 6, -12, 3, -6, 12, -3, 6, -12, 3, -6, 12, -3]\n",
      "[-5, 10, 1, -2, 4, -8, 16, -11, 1, -2, 4, -8, 16, -11, 1, -2, 4, -8, 16, -11, 1]\n",
      "[-4, 8, -16, 11, -1, 2, -4, 8, -16, 11, -1, 2, -4, 8, -16, 11, -1, 2, -4, 8, -16]\n",
      "[-3, 6, -12, 3, -6, 12, -3, 6, -12, 3, -6, 12, -3, 6, -12, 3, -6, 12, -3, 6, -12]\n",
      "[-2, 4, -8, 16, -11, 1, -2, 4, -8, 16, -11, 1, -2, 4, -8, 16, -11, 1, -2, 4, -8]\n",
      "[-1, 2, -4, 8, -16, 11, -1, 2, -4, 8, -16, 11, -1, 2, -4, 8, -16, 11, -1, 2, -4]\n",
      "[0, 0, 0, 0, 0, 0, 0, 0, 0, 0, 0, 0, 0, 0, 0, 0, 0, 0, 0, 0, 0]\n",
      "[1, -2, 4, -8, 16, -11, 1, -2, 4, -8, 16, -11, 1, -2, 4, -8, 16, -11, 1, -2, 4]\n",
      "[2, -4, 8, -16, 11, -1, 2, -4, 8, -16, 11, -1, 2, -4, 8, -16, 11, -1, 2, -4, 8]\n",
      "[3, -6, 12, -3, 6, -12, 3, -6, 12, -3, 6, -12, 3, -6, 12, -3, 6, -12, 3, -6, 12]\n",
      "[4, -8, 16, -11, 1, -2, 4, -8, 16, -11, 1, -2, 4, -8, 16, -11, 1, -2, 4, -8, 16]\n",
      "[5, -10, -1, 2, -4, 8, -16, 11, -1, 2, -4, 8, -16, 11, -1, 2, -4, 8, -16, 11, -1]\n",
      "[6, -12, 3, -6, 12, -3, 6, -12, 3, -6, 12, -3, 6, -12, 3, -6, 12, -3, 6, -12, 3]\n",
      "[7, -14, 7, -14, 7, -14, 7, -14, 7, -14, 7, -14, 7, -14, 7, -14, 7, -14, 7, -14, 7]\n",
      "[8, -16, 11, -1, 2, -4, 8, -16, 11, -1, 2, -4, 8, -16, 11, -1, 2, -4, 8, -16, 11]\n",
      "[9, -18, 15, -9, 18, -15, 9, -18, 15, -9, 18, -15, 9, -18, 15, -9, 18, -15, 9, -18, 15]\n"
     ]
    }
   ],
   "source": [
    "for item in [orbita(J,20,F) for J in srange(-9,10)]:\n",
    "    print(item)"
   ]
  },
  {
   "cell_type": "markdown",
   "metadata": {},
   "source": [
    "<p>&iquest;Cu&aacute;ntos de estos ciclos hay?</p>\n",
    "<p>&nbsp;</p>\n",
    "<p>Parece que una condici&oacute;n de parada razonable puede ser ``parar cuando se cae en el intervalo $[-9,9]$''. Si no fuera correcta se entrar&iacute;a en bucles infinitos debidos al while.</p>"
   ]
  },
  {
   "cell_type": "code",
   "execution_count": 13,
   "metadata": {},
   "outputs": [],
   "source": [
    "def orbita1(ini,f):\n",
    "    L = []\n",
    "    while not (-10<ini<10):\n",
    "        L.append(ini)\n",
    "        #print L\n",
    "        ini = f(ini)\n",
    "    L.append(ini)\n",
    "    return L[-1]"
   ]
  },
  {
   "cell_type": "markdown",
   "metadata": {},
   "source": [
    "<p>En esta funci&oacute;n no nos interesa toda la &oacute;rbita completa, sino &uacute;nicamente el ciclo final. <span style=\"color: #ff0000;\">&iquest;Es razonable (eficiente) programarla as&iacute;?&nbsp;</span></p>\n",
    "<p>Comprobamos primero que la condici&oacute;n de parada del bucle $while$ es correcta, es decir, que no se entra en bucles infinitos:</p>"
   ]
  },
  {
   "cell_type": "code",
   "execution_count": 14,
   "metadata": {},
   "outputs": [
    {
     "data": {
      "text/plain": [
       "100"
      ]
     },
     "execution_count": 14,
     "metadata": {},
     "output_type": "execute_result"
    }
   ],
   "source": [
    "len([orbita1(n,F) for n in xsrange(100)])"
   ]
  },
  {
   "cell_type": "code",
   "execution_count": 15,
   "metadata": {},
   "outputs": [
    {
     "data": {
      "text/plain": [
       "1000"
      ]
     },
     "execution_count": 15,
     "metadata": {},
     "output_type": "execute_result"
    }
   ],
   "source": [
    "len([orbita1(n,F) for n in xsrange(1000)])"
   ]
  },
  {
   "cell_type": "code",
   "execution_count": 16,
   "metadata": {},
   "outputs": [
    {
     "data": {
      "text/plain": [
       "10000"
      ]
     },
     "execution_count": 16,
     "metadata": {},
     "output_type": "execute_result"
    }
   ],
   "source": [
    "len([orbita1(n,F) for n in xsrange(10000)])"
   ]
  },
  {
   "cell_type": "code",
   "execution_count": 17,
   "metadata": {},
   "outputs": [
    {
     "name": "stdout",
     "output_type": "stream",
     "text": [
      "CPU times: user 14.5 s, sys: 252 ms, total: 14.8 s\n",
      "Wall time: 14.6 s\n"
     ]
    },
    {
     "data": {
      "text/plain": [
       "1000000"
      ]
     },
     "execution_count": 17,
     "metadata": {},
     "output_type": "execute_result"
    }
   ],
   "source": [
    "time len([orbita1(n,F) for n in xsrange(1000000)])"
   ]
  },
  {
   "cell_type": "code",
   "execution_count": 18,
   "metadata": {},
   "outputs": [
    {
     "name": "stdout",
     "output_type": "stream",
     "text": [
      "[(0, 0), (1, 1), (2, 2), (3, 3), (4, 4), (5, 5), (6, 6), (7, 7), (8, 8), (9, 9), (10, 1), (11, -1), (12, -3), (13, -5), (14, -7), (15, -9), (16, 1), (17, 5), (18, 9), (19, -5), (20, 2), (21, 0), (22, -2), (23, -4), (24, -6), (25, -8), (26, -1), (27, 3), (28, 7), (29, -1), (30, 3), (31, 1), (32, -1), (33, -3), (34, -5), (35, -7), (36, -9), (37, 1), (38, 5), (39, 9), (40, 4), (41, 2), (42, 0), (43, -2), (44, -4), (45, -6), (46, -8), (47, -1), (48, 3), (49, 7), (50, 5), (51, 3), (52, 1), (53, -1), (54, -3), (55, -5), (56, -7), (57, -9), (58, 1), (59, 5), (60, 6), (61, 4), (62, 2), (63, 0), (64, -2), (65, -4), (66, -6), (67, -8), (68, -1), (69, 3), (70, 7), (71, 5), (72, 3), (73, 1), (74, -1), (75, -3), (76, -5), (77, -7), (78, -9), (79, 1), (80, 8), (81, 6), (82, 4), (83, 2), (84, 0), (85, -2), (86, -4), (87, -6), (88, -8), (89, -1), (90, 9), (91, 7), (92, 5), (93, 3), (94, 1), (95, -1), (96, -3), (97, -5), (98, -7), (99, -9)]\n"
     ]
    }
   ],
   "source": [
    "print [(n,orbita1(n,F)) for n in xsrange(100)]"
   ]
  },
  {
   "cell_type": "markdown",
   "metadata": {},
   "source": [
    "<p>Observamos que s&oacute;lo los m&uacute;ltiplos de $7$ todos terminan pasando por $-7,0$ o $7$. &nbsp;Comprobamos si esto es cierto:</p>"
   ]
  },
  {
   "cell_type": "code",
   "execution_count": 19,
   "metadata": {},
   "outputs": [],
   "source": [
    "def orbita2(ini,f):\n",
    "    while not((ini == -7)or(ini == 0)or(ini==7)):\n",
    "       ini = f(ini)\n",
    "    return ini"
   ]
  },
  {
   "cell_type": "code",
   "execution_count": 20,
   "metadata": {},
   "outputs": [],
   "source": [
    "OO = [orbita2(n,F) for n in xsrange(10,10000) if n%7 == 0] ##Definimos una variable igual a la lista para no verla"
   ]
  },
  {
   "cell_type": "markdown",
   "metadata": {},
   "source": [
    "<p>Como no ha entrado en un bucle infinito, vemos que<span style=\"color: #ff0000;\"> para todos los m&uacute;ltiplos de $7$ en el intervalo $[10,9999]$ la &oacute;rbita termina en $-7,0$ o $7$.</span> &iquest;C&oacute;mo vemos que ning&uacute;n primo con $7$ tiene &nbsp;esa misma propiedad?</p>"
   ]
  },
  {
   "cell_type": "code",
   "execution_count": 21,
   "metadata": {},
   "outputs": [
    {
     "data": {
      "text/plain": [
       "[7, -14, 7, -14, 7, -14, 7, -14, 7, -14, 7]"
      ]
     },
     "execution_count": 21,
     "metadata": {},
     "output_type": "execute_result"
    }
   ],
   "source": [
    "orbita(7,10,F)"
   ]
  },
  {
   "cell_type": "code",
   "execution_count": 22,
   "metadata": {},
   "outputs": [
    {
     "data": {
      "text/plain": [
       "[-7, 14, -7, 14, -7, 14, -7, 14, -7, 14, -7]"
      ]
     },
     "execution_count": 22,
     "metadata": {},
     "output_type": "execute_result"
    }
   ],
   "source": [
    "orbita(-7,10,F)"
   ]
  },
  {
   "cell_type": "code",
   "execution_count": 23,
   "metadata": {},
   "outputs": [],
   "source": [
    "LL = [orbita1(n,F) for n in xsrange(10,10000) if n%7 != 0]"
   ]
  },
  {
   "cell_type": "code",
   "execution_count": 24,
   "metadata": {},
   "outputs": [
    {
     "data": {
      "text/plain": [
       "False"
      ]
     },
     "execution_count": 24,
     "metadata": {},
     "output_type": "execute_result"
    }
   ],
   "source": [
    "7 in LL;-7 in LL;0 in LL"
   ]
  },
  {
   "cell_type": "markdown",
   "metadata": {},
   "source": [
    "<p>Esto comprueba que los NO m&uacute;ltiplos de $7$ tienen &oacute;rbitas que intersecan el intervalo $[-9,9]$ en enteros diferentes de $-7,0,7.$</p>\n",
    "<p>De hecho, el primer apartado del ejercicio, tal como se enuncia en las notas, ped&iacute;a que se probara que ``$N$ es m&uacute;ltiplo de $7$ si y s&oacute;lo si $F(N)$ tambi&eacute;n lo es''. </p>\n",
    "\n",
    "\n",
    "Si se ha resuelto este primer apartado, el&nbsp;<span style=\"background-color: #ffffff; color: #ff0000;\">si y s&oacute;lo si <span style=\"color: #000000;\">nos garantiza que un primo con $7$ no puede tener en su &oacute;rbita al $-7$, ni al $0$, ni al $7$. &nbsp;Parece claro entonces, que el criterio de divisibilidad por $7$ que estamos buscando debe ser:</span></span></span></span></p>\n",
    "<p style=\"text-align: center;\">``Un entero $n$ es divisible entre $7$ si y s&oacute;lo si la &oacute;rbita de $n$, mediante la iteraci&oacute;n de $F$, interseca al conjunto $\\{-7, 0,7\\}$.''</p>\n",
    "<p style=\"text-align: left;\">Supuesto que se ha demostrado el primer apartado, para terminar la demostraci&oacute;n habr&aacute; que ver que<span style=\"color: #ff0000;\"> todas las &oacute;rbitas intersecan al intervalo $[-9,9]$,</span> afirmaci&oacute;n que hemos comprobado experimentalmente usando la funci&oacute;n $orbita1(n)$.</p>\n",
    "<p style=\"text-align: left;\">Los <span style=\"color: #ff0000;\">dos ejercicios se pueden ver resueltos</span> en el archivo \"multiplos7.pdf\" en la carpeta \"PDFs/PROGR/\".&nbsp;</p>"
   ]
  },
  {
   "cell_type": "code",
   "execution_count": 25,
   "metadata": {},
   "outputs": [
    {
     "name": "stdout",
     "output_type": "stream",
     "text": [
      "[-2, 5, -9, -5, -1, 9, 7, 5, 3, 1, -1, -9, -8, -7, -6, -5, -4, -3, -2, -1, 0, 1, 2, 3, 4, 5, 6, 7, 8, 9, 1, -1, -3, -5, -7, -9, 1, 5, 9, -5, 2, 0, -2, -4, -6, -8, -1, 3, 7, -1, 3, 1, -1, -3, -5, -7, -9, 1, 5, 9, 4, 2, 0, -2, -4, -6, -8, -1, 3, 7, 5, 3, 1, -1, -3, -5, -7, -9, 1, 5, 6, 4, 2, 0, -2, -4, -6, -8, -1, 3, 7, 5, 3, 1, -1, -3, -5, -7, -9, 1, 8, 6, 4, 2, 0, -2, -4, -6, -8, -1, 9, 7, 5, 3, 1, -1, -3, -5, -7, -9, 1, 8, 6, 4, 2, 0, -2, -4, -6, -8, -1, 9, 7, 5, 3, 1, -1, -3, -5, -7, -3, 1, 8, 6, 4, 2, 0, -2, -4, -6, -5, -1, 9, 7, 5, 3, 1, -1, -3, -5, -7, -3, 1, 8, 6, 4, 2, 0, -2, -4, -9, -5, -1, 9, 7, 5, 3, 1, -1, -3, 1, -7, -3, 1, 8, 6, 4, 2, 0, -2, 5, -9, -5, -1, 9, 7, 5, 3, 1, -1, 9, 1, -7, -3, 1, 8, 6, 4, 2, 0, -5, 5, -9, -5, -1, 9, 7, 5, 3, 1, 2]\n"
     ]
    }
   ],
   "source": [
    "print [orbita1(n,F) for n in srange(-20,201)]"
   ]
  },
  {
   "cell_type": "code",
   "execution_count": null,
   "metadata": {
    "collapsed": true
   },
   "outputs": [],
   "source": []
  }
 ],
 "metadata": {
  "kernelspec": {
   "display_name": "SageMath 8.0",
   "language": "",
   "name": "sagemath"
  },
  "language_info": {
   "codemirror_mode": {
    "name": "ipython",
    "version": 2
   },
   "file_extension": ".py",
   "mimetype": "text/x-python",
   "name": "python",
   "nbconvert_exporter": "python",
   "pygments_lexer": "ipython2",
   "version": "2.7.13"
  }
 },
 "nbformat": 4,
 "nbformat_minor": 1
}
