{
 "cells": [
  {
   "cell_type": "markdown",
   "metadata": {},
   "source": [
    "<h4>Potencias</h4>"
   ]
  },
  {
   "cell_type": "code",
   "execution_count": 1,
   "metadata": {},
   "outputs": [],
   "source": [
    "def potencia(a,k):\n",
    "    if k==0:\n",
    "        return 1\n",
    "    elif k %2 == 0:\n",
    "        b = potencia(a,k/2)\n",
    "        return (b*b)\n",
    "    else:\n",
    "        b = potencia(a,(k-1)/2)\n",
    "        return (a*b*b)"
   ]
  },
  {
   "cell_type": "code",
   "execution_count": 2,
   "metadata": {},
   "outputs": [
    {
     "name": "stdout",
     "output_type": "stream",
     "text": [
      "CPU times: user 44.8 s, sys: 2.1 s, total: 46.9 s\n",
      "Wall time: 46.9 s\n"
     ]
    }
   ],
   "source": [
    "%time p=potencia(77,2^30)"
   ]
  },
  {
   "cell_type": "code",
   "execution_count": 3,
   "metadata": {},
   "outputs": [],
   "source": [
    "def potencia_mod(a,k,m):\n",
    "    if k==0:\n",
    "        return 1\n",
    "    elif k%2 == 0:\n",
    "        b = potencia_mod(a,k/2,m)\n",
    "        return (b*b)%m\n",
    "    else:\n",
    "        b = potencia_mod(a,(k-1)/2,m)\n",
    "        return (a*b*b)%m"
   ]
  },
  {
   "cell_type": "code",
   "execution_count": 4,
   "metadata": {},
   "outputs": [
    {
     "name": "stdout",
     "output_type": "stream",
     "text": [
      "CPU times: user 1min 1s, sys: 1.28 s, total: 1min 3s\n",
      "Wall time: 1min 3s\n"
     ]
    }
   ],
   "source": [
    "%time pm = potencia_mod(7777^1234,2^157,10991^987654+1)"
   ]
  },
  {
   "cell_type": "markdown",
   "metadata": {},
   "source": [
    "<h4>Listas binarias</h4>"
   ]
  },
  {
   "cell_type": "code",
   "execution_count": 7,
   "metadata": {},
   "outputs": [],
   "source": [
    "def polinomios(k):\n",
    "    L = []\n",
    "    Lsal = [] \n",
    "    for m in srange(2^k):\n",
    "        L.append(m.digits(base=2,padto=k))\n",
    "    for L1 in L:\n",
    "        Lsal.append(sum([L1[int]*x^int for int in srange(k)]))\n",
    "    return Lsal"
   ]
  },
  {
   "cell_type": "code",
   "execution_count": 8,
   "metadata": {},
   "outputs": [
    {
     "name": "stdout",
     "output_type": "stream",
     "text": [
      "[0, 1, x, x + 1, x^2, x^2 + 1, x^2 + x, x^2 + x + 1]\n"
     ]
    }
   ],
   "source": [
    "print polinomios(3)"
   ]
  },
  {
   "cell_type": "code",
   "execution_count": 9,
   "metadata": {},
   "outputs": [],
   "source": [
    "def polinomios(k,j):\n",
    "    L = []\n",
    "    Lsal = [] \n",
    "    for m in srange(j^k):\n",
    "        L.append(m.digits(base=j,padto=k))\n",
    "    for L1 in L:\n",
    "        Lsal.append(sum([L1[int]*x^int for int in srange(k)]))\n",
    "    return Lsal"
   ]
  },
  {
   "cell_type": "code",
   "execution_count": 10,
   "metadata": {},
   "outputs": [
    {
     "name": "stdout",
     "output_type": "stream",
     "text": [
      "[0, 1, 2, x, x + 1, x + 2, 2*x, 2*x + 1, 2*x + 2, x^2, x^2 + 1, x^2 + 2, x^2 + x, x^2 + x + 1, x^2 + x + 2, x^2 + 2*x, x^2 + 2*x + 1, x^2 + 2*x + 2, 2*x^2, 2*x^2 + 1, 2*x^2 + 2, 2*x^2 + x, 2*x^2 + x + 1, 2*x^2 + x + 2, 2*x^2 + 2*x, 2*x^2 + 2*x + 1, 2*x^2 + 2*x + 2]\n"
     ]
    }
   ],
   "source": [
    "print polinomios(3,3)"
   ]
  },
  {
   "cell_type": "markdown",
   "metadata": {},
   "source": [
    "<h4>Archivos binarios</h4>"
   ]
  },
  {
   "cell_type": "code",
   "execution_count": 11,
   "metadata": {},
   "outputs": [
    {
     "name": "stdout",
     "output_type": "stream",
     "text": [
      "CPU times: user 3.48 s, sys: 88 ms, total: 3.57 s\n",
      "Wall time: 3.52 s\n"
     ]
    }
   ],
   "source": [
    "%time L=[randint(0,1) for _ in srange(1024*1024)] #Generamos una lista de 1048576 bits"
   ]
  },
  {
   "cell_type": "code",
   "execution_count": 12,
   "metadata": {},
   "outputs": [],
   "source": [
    "from string import *\n",
    "\n",
    "def archivo(L):\n",
    "    C = ''\n",
    "    while L != []:\n",
    "        C += (chr(int(join(map(str,L[:8]),sep=''),base=2)))\n",
    "        L = L[8:]\n",
    "    outfile = open(\"prueba-bits\",\"wb\") #Abrimos el archivo para escribir en el\n",
    "    outfile.write(C)                        #Escribimos la cadena C al archivo\n",
    "    outfile.close()                         #Cerramos el archivo"
   ]
  },
  {
   "cell_type": "markdown",
   "metadata": {},
   "source": [
    "<h4>Comentarios:</h4>\n",
    "<ol>\n",
    "<li>El archivo en el que se va a escribir tiene nombre prueba-bits y está en el directorio desde el que hemos arrancado Sage.</li>\n",
    "<li>La l&iacute;nea importante es \\[C += (chr(int(join(map(str,L[:8]),sep=''),base=2))).\\] Analizemos su contenido: \n",
    "<ol>\n",
    "<li>$L[:8]$ corta los primeros ocho bits de $L$.</li>\n",
    "<li>$map(str,L[:8]),sep='')$ convierte la lista de ceros o unos en una lista igual pero con los n&uacute;meros transformados en caracteres (en lugar de $0$ pone $'0'$).</li> \n",
    "<li>&nbsp;$join(map(str,L[:8]),sep='')$ transforma la lista de caracteres individuales en una cadena de caracteres.</li>\n",
    "<li>$int(join(map(str,L[:8]),sep=''),base=2)$ produce el entero decimal que corresponde a la cadena de ceros o unos.</li> \n",
    "<li>Finalmente, $chr(<entero>)$ convierte un entero en el caracter que ocupa en ASCII ese n&uacute;mero de orden.</li>\n",
    "</ol>\n",
    "</ol>"
   ]
  },
  {
   "cell_type": "code",
   "execution_count": 13,
   "metadata": {},
   "outputs": [
    {
     "name": "stdout",
     "output_type": "stream",
     "text": [
      "CPU times: user 3min 9s, sys: 304 ms, total: 3min 10s\n",
      "Wall time: 3min 9s\n"
     ]
    }
   ],
   "source": [
    "%time archivo(L)"
   ]
  },
  {
   "cell_type": "code",
   "execution_count": 14,
   "metadata": {},
   "outputs": [],
   "source": [
    "def leer_archivo():\n",
    "    L = []\n",
    "    infile = open(\"prueba-bits\",\"rb\") #Abrimos el archivo /tmp/prueba-bits para lectura\n",
    "    LL = infile.readlines()                #Leemos cada linea como uno de los elementos de la lista LL\n",
    "    infile.close()\n",
    "    for C in LL:\n",
    "        while C != '':\n",
    "            L1 = ZZ(ord(C[0])).digits(base=2,padto=8)\n",
    "            L1.reverse()\n",
    "            L += L1\n",
    "            C = C[1:]\n",
    "    return L"
   ]
  },
  {
   "cell_type": "markdown",
   "metadata": {},
   "source": [
    "<h4>Comentarios:</h4>\n",
    "<ol>\n",
    "<li>$ord(C[0])$ nos devuelve el n'umero entero que corresponde al primer caracter de la cadena $C$.&nbsp;</li>\n",
    "<li>$ZZ(ord(C[0]))$ lo convierte en un entero de SAGE.&nbsp;</li>\n",
    "<li>$ZZ(ord(C[0])).digits(base=2,padto=8)$ nos devuelve la lista de sus d&iacute;gitos binarios, completada con ceros hasta que haya $8$ ceros o unos.&nbsp;</li>\n",
    "<li>La lista del apartado anterior hay que invertirla porque los d&iacute;gitos est&aacute;n escritos de izquierda a derecha ($[unidades,decenas,...]$).</li>\n",
    "</ol>"
   ]
  },
  {
   "cell_type": "code",
   "execution_count": 15,
   "metadata": {},
   "outputs": [],
   "source": [
    "L1 = leer_archivo()"
   ]
  },
  {
   "cell_type": "code",
   "execution_count": 16,
   "metadata": {},
   "outputs": [
    {
     "data": {
      "text/plain": [
       "True"
      ]
     },
     "execution_count": 16,
     "metadata": {},
     "output_type": "execute_result"
    }
   ],
   "source": [
    "len(L);len(L1);L == L1 # Las dos listas coinciden"
   ]
  },
  {
   "cell_type": "code",
   "execution_count": null,
   "metadata": {
    "collapsed": true
   },
   "outputs": [],
   "source": []
  }
 ],
 "metadata": {
  "kernelspec": {
   "display_name": "SageMath 8.0",
   "language": "",
   "name": "sagemath"
  },
  "language_info": {
   "codemirror_mode": {
    "name": "ipython",
    "version": 2
   },
   "file_extension": ".py",
   "mimetype": "text/x-python",
   "name": "python",
   "nbconvert_exporter": "python",
   "pygments_lexer": "ipython2",
   "version": "2.7.13"
  }
 },
 "nbformat": 4,
 "nbformat_minor": 1
}
