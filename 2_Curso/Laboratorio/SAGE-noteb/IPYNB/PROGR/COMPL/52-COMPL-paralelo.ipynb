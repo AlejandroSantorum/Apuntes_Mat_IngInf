{
 "cells": [
  {
   "cell_type": "code",
   "execution_count": null,
   "metadata": {},
   "outputs": [],
   "source": [
    "def elevar2_m(m):\n",
    "\tL = [randint(0,1000) for i in srange(m*m)]\n",
    "\tM = matrix(ZZ,m,m,L)\n",
    "\treturn M*M\n",
    "\n",
    "%time LL = map(elevar2_m,srange(1,200))"
   ]
  },
  {
   "cell_type": "code",
   "execution_count": null,
   "metadata": {},
   "outputs": [],
   "source": [
    "@parallel(4)\n",
    "def cuadrado(L):\n",
    "\tmap(elevar2_m,L)\n",
    "%time LL = list(cuadrado([srange(1,50),srange(50,100),srange(100,150),srange(150,200)]))"
   ]
  },
  {
   "cell_type": "code",
   "execution_count": null,
   "metadata": {},
   "outputs": [],
   "source": [
    "@parallel(4)\n",
    "def cuadrado(L):\n",
    "\tmap(elevar2_m,L)\n",
    "L1 = [m for m in xrange(1,200) if m%4 == 0]\n",
    "L2 = [m for m in xrange(1,200) if m%4 == 1]\n",
    "L3 = [m for m in xrange(1,200) if m%4 == 2]\n",
    "L4 = [m for m in xrange(1,200) if m%4 == 3]\n",
    "\n",
    "%time LL = list(cuadrado([L1,L2,L3,L4]))"
   ]
  }
 ],
 "metadata": {
  "kernelspec": {
   "display_name": "SageMath 8.0",
   "language": "",
   "name": "sagemath"
  },
  "language_info": {
   "codemirror_mode": {
    "name": "ipython",
    "version": 2
   },
   "file_extension": ".py",
   "mimetype": "text/x-python",
   "name": "python",
   "nbconvert_exporter": "python",
   "pygments_lexer": "ipython2",
   "version": "2.7.13"
  }
 },
 "nbformat": 4,
 "nbformat_minor": 1
}
