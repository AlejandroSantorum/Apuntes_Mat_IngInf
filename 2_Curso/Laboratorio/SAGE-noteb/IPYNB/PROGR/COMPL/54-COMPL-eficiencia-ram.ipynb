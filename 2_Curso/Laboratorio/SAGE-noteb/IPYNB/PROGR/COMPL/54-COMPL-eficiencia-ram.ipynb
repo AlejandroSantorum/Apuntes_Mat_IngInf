{
 "cells": [
  {
   "cell_type": "code",
   "execution_count": 1,
   "metadata": {},
   "outputs": [
    {
     "data": {
      "text/plain": [
       "907.87890625"
      ]
     },
     "execution_count": 1,
     "metadata": {},
     "output_type": "execute_result"
    }
   ],
   "source": [
    "get_memory_usage()"
   ]
  },
  {
   "cell_type": "code",
   "execution_count": 2,
   "metadata": {},
   "outputs": [],
   "source": [
    "def prueba_ram():\n",
    "    import gc # Para poder usar la linea 8\n",
    "    L = [get_memory_usage()]\n",
    "    for n in srange(3,10):\n",
    "        A = \"B\"*10^n #Una cadena de caracteres de longitud 10^n\n",
    "        L.append(get_memory_usage())\n",
    "        del A                           #Borramos A\n",
    "        gc.collect()                    # Recogemos la basura generada por A\n",
    "        L.append(get_memory_usage())\n",
    "    return L"
   ]
  },
  {
   "cell_type": "code",
   "execution_count": 3,
   "metadata": {},
   "outputs": [
    {
     "data": {
      "text/plain": [
       "[907.87890625, 907.87890625, 907.87890625, 907.87890625, 907.87890625, 907.87890625,\n",
       "907.87890625, 908.8359375, 907.87890625, 917.41796875, 907.87890625, 1003.25,\n",
       "907.87890625, 1861.5546875, 907.87890625]"
      ]
     },
     "execution_count": 3,
     "metadata": {},
     "output_type": "execute_result"
    }
   ],
   "source": [
    "prueba_ram()"
   ]
  },
  {
   "cell_type": "markdown",
   "metadata": {},
   "source": [
    "<p>&iquest;Por qu&eacute; inicialmente no se incrementa la memoria RAM en uso?&nbsp; Debe ser que el sistema reserva una cierta cantidad de RAM, aparentemente en esta m&aacute;quina&nbsp; 907 MB,&nbsp; y mientras no necesita superar&nbsp; esa cantidad no vemos aumentos. Una vez que la estructura de datos que estamos construyendo necesita una cantidad de RAM que supera la reservada empezamos a ver los incrementsos en el resultado.</p>\n",
    "<p>Al construir la cadena con longitud $10^9$, la &uacute;ltima, el incremento sobre la memoria reservada es de $953.67578125$ MB, que son $(953.6757812)*1024^2=1.00000153600000*10^9$ bytes, que es lo correcto porque cada caracter ocupa un byte, es decir 8 bits.</p>\n",
    "<p>&nbsp;</p>"
   ]
  },
  {
   "cell_type": "code",
   "execution_count": 4,
   "metadata": {},
   "outputs": [],
   "source": [
    "def prueba_ram2():\n",
    "    import gc\n",
    "    L = [get_memory_usage()]\n",
    "    A1 = [\"ABCDEFGHIJ\"]\n",
    "    for n in srange(3,9):\n",
    "        A = (10^n)*A1      #Ahora A1 es una lista y A tiene 10^n copias de A1\n",
    "        L.append(get_memory_usage())\n",
    "        del A\n",
    "        gc.collect() \n",
    "        L.append(get_memory_usage())\n",
    "    L.append(get_memory_usage())\n",
    "    return L"
   ]
  },
  {
   "cell_type": "code",
   "execution_count": 5,
   "metadata": {},
   "outputs": [
    {
     "data": {
      "text/plain": [
       "[907.8828125, 907.8828125, 907.8828125, 907.8828125, 907.8828125, 908.6484375,\n",
       "907.8828125, 915.515625, 907.8828125, 984.1796875, 907.8828125, 1670.82421875,\n",
       "907.8828125, 907.8828125]"
      ]
     },
     "execution_count": 5,
     "metadata": {},
     "output_type": "execute_result"
    }
   ],
   "source": [
    "prueba_ram2()"
   ]
  },
  {
   "cell_type": "markdown",
   "metadata": {},
   "source": [
    "<p>Es curioso que una lista con $10^8$ veces la cadena \"ABCDEFGHIJ\" parece ocupar menos que la&nbsp; cadena de longitud $10^9$ del primer ejemplo.</p>\n",
    "<h3>Ejercicio</h3>\n",
    "<p>&iquest;C&oacute;mo estimar&iacute;as la cantidad de RAM que utiliza la lista $srange(N)$? Comprueba tu estimaci&oacute;n definiendo, como en los ejemplos anteriores,&nbsp; una funci&oacute;n adecuada.</p>\n",
    "\n",
    "<div id=\"insert_new_cell_before10\" class=\"insert_new_cell\">&nbsp;</div>\n",
    "<div id=\"insert_new_cell_before10\" class=\"insert_new_cell\">&nbsp;</div>"
   ]
  }
 ],
 "metadata": {
  "kernelspec": {
   "display_name": "SageMath 8.0",
   "language": "",
   "name": "sagemath"
  },
  "language_info": {
   "codemirror_mode": {
    "name": "ipython",
    "version": 2
   },
   "file_extension": ".py",
   "mimetype": "text/x-python",
   "name": "python",
   "nbconvert_exporter": "python",
   "pygments_lexer": "ipython2",
   "version": "2.7.13"
  }
 },
 "nbformat": 4,
 "nbformat_minor": 1
}
