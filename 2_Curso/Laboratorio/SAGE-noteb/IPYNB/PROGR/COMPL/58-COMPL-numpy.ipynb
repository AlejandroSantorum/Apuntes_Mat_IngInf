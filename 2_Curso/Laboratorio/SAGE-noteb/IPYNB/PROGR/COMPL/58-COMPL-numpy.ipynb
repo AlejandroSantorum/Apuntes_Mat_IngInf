{
 "cells": [
  {
   "cell_type": "markdown",
   "metadata": {},
   "source": [
    "<p>El objeto de esta hoja es mostrar las mejoras en eficiencia , enormes, que se obtienen al utilizar listas y matrices de numpy en lugar de las habituales de Sage.&nbsp; Esto se debe a que el c&oacute;digo de numpy est&aacute; muy optimizado.</p>\n",
    "<p>Comenzamos generando dos listas de cien millones de n&uacute;meros aleatorios entre cero y uno, calculando el cuadrado de cada&nbsp;&nbsp; elemento&nbsp; y sumando&nbsp; los resultados, primero en la forma normal en Sage y luego usando numpy:</p>"
   ]
  },
  {
   "cell_type": "code",
   "execution_count": 1,
   "metadata": {},
   "outputs": [],
   "source": [
    "def cuad(x):\n",
    "    return x*x\n",
    "def suma_cuadrados():\n",
    "    L = [random() for muda in xsrange(10^7)]\n",
    "    return sum(map(cuad,L))"
   ]
  },
  {
   "cell_type": "code",
   "execution_count": 2,
   "metadata": {},
   "outputs": [
    {
     "name": "stdout",
     "output_type": "stream",
     "text": [
      "CPU times: user 5.63 s, sys: 288 ms, total: 5.92 s\n",
      "Wall time: 5.86 s\n"
     ]
    },
    {
     "data": {
      "text/plain": [
       "3335970.069522956"
      ]
     },
     "execution_count": 2,
     "metadata": {},
     "output_type": "execute_result"
    }
   ],
   "source": [
    "%time suma_cuadrados()"
   ]
  },
  {
   "cell_type": "code",
   "execution_count": 3,
   "metadata": {},
   "outputs": [
    {
     "name": "stdout",
     "output_type": "stream",
     "text": [
      "CPU times: user 108 ms, sys: 12 ms, total: 120 ms\n",
      "Wall time: 122 ms\n",
      "CPU times: user 8 ms, sys: 32 ms, total: 40 ms\n",
      "Wall time: 39.9 ms\n"
     ]
    },
    {
     "data": {
      "text/plain": [
       "3332849.8862028415"
      ]
     },
     "execution_count": 3,
     "metadata": {},
     "output_type": "execute_result"
    }
   ],
   "source": [
    "import numpy as np\n",
    "np.random.seed([763829])\n",
    "%time A = np.random.rand(10000000)\n",
    "%time sum(A*A)"
   ]
  },
  {
   "cell_type": "markdown",
   "metadata": {},
   "source": [
    "<p>Tomamos ahora $10^8$ n&uacute;meros aleatorios todav&iacute;a con tiempos muy bajos:</p>"
   ]
  },
  {
   "cell_type": "code",
   "execution_count": 4,
   "metadata": {},
   "outputs": [
    {
     "name": "stdout",
     "output_type": "stream",
     "text": [
      "CPU times: user 984 ms, sys: 216 ms, total: 1.2 s\n",
      "Wall time: 1.2 s\n",
      "CPU times: user 104 ms, sys: 284 ms, total: 388 ms\n",
      "Wall time: 386 ms\n"
     ]
    },
    {
     "data": {
      "text/plain": [
       "33331946.820565887"
      ]
     },
     "execution_count": 4,
     "metadata": {},
     "output_type": "execute_result"
    }
   ],
   "source": [
    "import numpy as np\n",
    "np.random.seed([763829])\n",
    "%time A = np.random.rand(100000000)\n",
    "%time sum(A*A)"
   ]
  },
  {
   "cell_type": "markdown",
   "metadata": {},
   "source": [
    "<p>Una vez generada la lista del tipo numpy $C$, podemos aplicar una funci&oacute;n, como el logaritmo,&nbsp; a todos los elementos de la lista mediante $log(C)$:</p>"
   ]
  },
  {
   "cell_type": "code",
   "execution_count": 5,
   "metadata": {},
   "outputs": [
    {
     "name": "stdout",
     "output_type": "stream",
     "text": [
      "-100009700.132\n",
      "0.0\n"
     ]
    }
   ],
   "source": [
    "import numpy as np\n",
    "np.random.seed([763829]) \n",
    "C = np.random.rand(100000000)\n",
    "print sum(log(C))\n",
    "print prod(log(C))"
   ]
  },
  {
   "cell_type": "markdown",
   "metadata": {},
   "source": [
    "<p>Pasamos ahora de listas de numpy a matrices de numpy:</p>"
   ]
  },
  {
   "cell_type": "code",
   "execution_count": 6,
   "metadata": {},
   "outputs": [
    {
     "name": "stdout",
     "output_type": "stream",
     "text": [
      "[[ 0.54789441  0.72054232]\n",
      " [ 0.61546796  0.41284761]]\n",
      "[[ 0.743659    0.69225528]\n",
      " [ 0.59130593  0.61391386]]\n"
     ]
    }
   ],
   "source": [
    "A = np.random.rand(2,2) #Una matriz 2x2 con entradas numeros aleatorios\n",
    "print A\n",
    "B = A.dot(A) #B es su cuadrado. El producto de A por B es A.dot(B)\n",
    "print B"
   ]
  },
  {
   "cell_type": "markdown",
   "metadata": {},
   "source": [
    "<p>Queremos elevar una matriz de numpy a un exponente, y para eso usamos la funci&oacute;n recursiva general para elevar a exponentes en anillos:</p>"
   ]
  },
  {
   "cell_type": "code",
   "execution_count": 7,
   "metadata": {},
   "outputs": [],
   "source": [
    "def potencia(A,n):\n",
    "    m = A.shape[0]\n",
    "    if n==0:\n",
    "        return np.identity(m)\n",
    "    elif n%2 == 0:\n",
    "        B = potencia(A,n/2)\n",
    "        return B.dot(B)\n",
    "    else:\n",
    "        B = potencia(A,(n-1)/2)\n",
    "        return A.dot(B.dot(B))"
   ]
  },
  {
   "cell_type": "code",
   "execution_count": 8,
   "metadata": {},
   "outputs": [
    {
     "data": {
      "text/plain": [
       "array([[ 630922.60685662,  616939.23943193],\n",
       "       [ 526972.98289444,  515293.48882875]])"
      ]
     },
     "execution_count": 8,
     "metadata": {},
     "output_type": "execute_result"
    }
   ],
   "source": [
    "potencia(A,100)"
   ]
  },
  {
   "cell_type": "markdown",
   "metadata": {},
   "source": [
    "<p>La notaci&oacute;n $A^n$ no sirve para matrices de numpy, porque para ellas $A*A$ es el producto elemento a elemento, que no es igual al producto de matrices. Es por eso que definimos la funci&oacute;n potencia usando como producro de matrices&nbsp; $A.dot(A)$.</p>"
   ]
  },
  {
   "cell_type": "code",
   "execution_count": 9,
   "metadata": {},
   "outputs": [
    {
     "data": {
      "text/plain": [
       "array([[  7.40776321e-27,   5.83377081e-15],\n",
       "       [  8.32808228e-22,   3.79295049e-39]])"
      ]
     },
     "execution_count": 9,
     "metadata": {},
     "output_type": "execute_result"
    }
   ],
   "source": [
    "A^(100)"
   ]
  },
  {
   "cell_type": "code",
   "execution_count": 10,
   "metadata": {},
   "outputs": [],
   "source": [
    "C = matrix(RR,[[ 0.79881494,0.96851941],[0.90952275,0.89096117]])"
   ]
  },
  {
   "cell_type": "code",
   "execution_count": 11,
   "metadata": {},
   "outputs": [
    {
     "data": {
      "text/plain": [
       "[6.77077042398315e24 7.33831108240865e24]\n",
       "[6.89130316554811e24 7.46894713973031e24]"
      ]
     },
     "execution_count": 11,
     "metadata": {},
     "output_type": "execute_result"
    }
   ],
   "source": [
    "C^(100)"
   ]
  },
  {
   "cell_type": "code",
   "execution_count": 12,
   "metadata": {},
   "outputs": [],
   "source": [
    "import numpy as np\n",
    "D = np.random.rand(500,500)"
   ]
  },
  {
   "cell_type": "code",
   "execution_count": 13,
   "metadata": {},
   "outputs": [
    {
     "name": "stdout",
     "output_type": "stream",
     "text": [
      "CPU times: user 24 ms, sys: 4 ms, total: 28 ms\n",
      "Wall time: 26.7 ms\n"
     ]
    }
   ],
   "source": [
    "%time E = D.dot(D)"
   ]
  },
  {
   "cell_type": "code",
   "execution_count": 14,
   "metadata": {},
   "outputs": [
    {
     "name": "stdout",
     "output_type": "stream",
     "text": [
      "CPU times: user 40 ms, sys: 0 ns, total: 40 ms\n",
      "Wall time: 38.1 ms\n"
     ]
    }
   ],
   "source": [
    "%time E_inv = np.linalg.inv(E)"
   ]
  },
  {
   "cell_type": "markdown",
   "metadata": {},
   "source": [
    "<p>Repetimos ahora los c&aacute;lculos usando una matriz similar pero de Sage, con las operaciones habituales de Sage. Obs&eacute;rvese la diferencia espectacular en los tiempos, debido a que los c&oacute;digos que utiliza numpy est&aacute;n muy optimizados.&nbsp; </p>"
   ]
  },
  {
   "cell_type": "code",
   "execution_count": 15,
   "metadata": {},
   "outputs": [],
   "source": [
    "F = matrix(RR,500,500,[random() for muda in srange(250000)])"
   ]
  },
  {
   "cell_type": "markdown",
   "metadata": {},
   "source": [
    "<p>Su cuadrado:</p>"
   ]
  },
  {
   "cell_type": "code",
   "execution_count": 16,
   "metadata": {},
   "outputs": [
    {
     "name": "stdout",
     "output_type": "stream",
     "text": [
      "CPU times: user 1min 4s, sys: 80 ms, total: 1min 4s\n",
      "Wall time: 1min 4s\n"
     ]
    }
   ],
   "source": [
    "%time G = F*F"
   ]
  },
  {
   "cell_type": "markdown",
   "metadata": {},
   "source": [
    "<p>La inversa del cuadrado de $F$:</p>"
   ]
  },
  {
   "cell_type": "code",
   "execution_count": 17,
   "metadata": {},
   "outputs": [
    {
     "name": "stdout",
     "output_type": "stream",
     "text": [
      "CPU times: user 1min 17s, sys: 16 ms, total: 1min 17s\n",
      "Wall time: 1min 17s\n"
     ]
    }
   ],
   "source": [
    "%time G1=G.inverse()"
   ]
  },
  {
   "cell_type": "code",
   "execution_count": null,
   "metadata": {
    "collapsed": true
   },
   "outputs": [],
   "source": []
  }
 ],
 "metadata": {
  "kernelspec": {
   "display_name": "SageMath 8.0",
   "language": "",
   "name": "sagemath"
  },
  "language_info": {
   "codemirror_mode": {
    "name": "ipython",
    "version": 2
   },
   "file_extension": ".py",
   "mimetype": "text/x-python",
   "name": "python",
   "nbconvert_exporter": "python",
   "pygments_lexer": "ipython2",
   "version": "2.7.13"
  }
 },
 "nbformat": 4,
 "nbformat_minor": 1
}
