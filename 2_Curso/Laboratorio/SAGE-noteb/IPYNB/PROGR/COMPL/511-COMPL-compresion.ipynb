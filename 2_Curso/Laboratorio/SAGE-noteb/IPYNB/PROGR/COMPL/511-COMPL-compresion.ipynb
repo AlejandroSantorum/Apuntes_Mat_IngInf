{
 "cells": [
  {
   "cell_type": "code",
   "execution_count": 1,
   "metadata": {},
   "outputs": [],
   "source": [
    "%%cython\n",
    "\n",
    "cdef extern from 'gsl/gsl_rng.h':\n",
    "   ctypedef struct gsl_rng_type:\n",
    "      pass\n",
    "   ctypedef struct gsl_rng:\n",
    "       pass\n",
    "   gsl_rng_type *gsl_rng_mt19937\n",
    "   gsl_rng *gsl_rng_alloc(gsl_rng_type * T)\n",
    "  \n",
    "cdef gsl_rng *r = gsl_rng_alloc(gsl_rng_mt19937)\n",
    "\n",
    "cdef extern from 'gsl/gsl_randist.h':\n",
    "     long int uniform 'gsl_rng_uniform_int'(gsl_rng * r, unsigned long int n)\n",
    "\n",
    "def bit_aleatorio():\n",
    "    cdef int n\n",
    "    n = uniform(r,2)\n",
    "    return n"
   ]
  },
  {
   "cell_type": "code",
   "execution_count": 2,
   "metadata": {},
   "outputs": [
    {
     "name": "stdout",
     "output_type": "stream",
     "text": [
      "[1, 0, 0, 1, 0, 0, 1, 1, 1, 1]\n"
     ]
    }
   ],
   "source": [
    "print [bit_aleatorio() for muda in range(10)]"
   ]
  },
  {
   "cell_type": "code",
   "execution_count": 3,
   "metadata": {},
   "outputs": [
    {
     "name": "stdout",
     "output_type": "stream",
     "text": [
      "CPU times: user 312 ms, sys: 36 ms, total: 348 ms\n",
      "Wall time: 329 ms\n"
     ]
    }
   ],
   "source": [
    "%time L=[bit_aleatorio() for _ in srange(1024*1024)]"
   ]
  },
  {
   "cell_type": "code",
   "execution_count": 4,
   "metadata": {
    "collapsed": true
   },
   "outputs": [],
   "source": [
    "from string import *\n",
    "\n",
    "def archivo(L):\n",
    "    C = ''\n",
    "    while L != []:\n",
    "        C += (chr(int(join(map(str,L[:8]),sep=''),base=2)))\n",
    "        L = L[8:]\n",
    "    outfile = open(\"prueba-bits\",\"wb\") #Abrimos el archivo para escribir en el\n",
    "    outfile.write(C)                        #Escribimos la cadena C al archivo\n",
    "    outfile.close()                         #Cerramos el archivo"
   ]
  },
  {
   "cell_type": "code",
   "execution_count": 5,
   "metadata": {},
   "outputs": [
    {
     "name": "stdout",
     "output_type": "stream",
     "text": [
      "CPU times: user 4min 24s, sys: 204 ms, total: 4min 24s\n",
      "Wall time: 4min 24s\n"
     ]
    }
   ],
   "source": [
    "%time archivo(L)"
   ]
  },
  {
   "cell_type": "code",
   "execution_count": 6,
   "metadata": {
    "collapsed": true
   },
   "outputs": [],
   "source": [
    "from string import *\n",
    "\n",
    "def archivo2(N,filename):\n",
    "    outfile = open(filename,\"wb\")\n",
    "    for muda in xrange(N):\n",
    "        L = [bit_aleatorio() for _ in range(8)]\n",
    "        C = (chr(int(join(map(str,L),sep=''),base=2)))\n",
    "        outfile.write(C)                        \n",
    "    outfile.close()       "
   ]
  },
  {
   "cell_type": "code",
   "execution_count": 7,
   "metadata": {},
   "outputs": [
    {
     "name": "stdout",
     "output_type": "stream",
     "text": [
      "CPU times: user 552 ms, sys: 0 ns, total: 552 ms\n",
      "Wall time: 552 ms\n"
     ]
    }
   ],
   "source": [
    "%time archivo2(1024*1024//8,\"prueba-bits-3\")"
   ]
  },
  {
   "cell_type": "code",
   "execution_count": 8,
   "metadata": {},
   "outputs": [
    {
     "name": "stdout",
     "output_type": "stream",
     "text": [
      "CPU times: user 2.19 s, sys: 4 ms, total: 2.2 s\n",
      "Wall time: 2.2 s\n"
     ]
    }
   ],
   "source": [
    "%time archivo2(2048*2048//8,\"prueba-bits-4\")"
   ]
  },
  {
   "cell_type": "markdown",
   "metadata": {},
   "source": [
    "## Con distintas probabilidades"
   ]
  },
  {
   "cell_type": "code",
   "execution_count": 9,
   "metadata": {},
   "outputs": [],
   "source": [
    "%%cython\n",
    "\n",
    "cdef extern from 'gsl/gsl_rng.h':\n",
    "   ctypedef struct gsl_rng_type:\n",
    "      pass\n",
    "   ctypedef struct gsl_rng:\n",
    "       pass\n",
    "   gsl_rng_type *gsl_rng_mt19937\n",
    "   gsl_rng *gsl_rng_alloc(gsl_rng_type * T)\n",
    "  \n",
    "cdef gsl_rng *r = gsl_rng_alloc(gsl_rng_mt19937)\n",
    "\n",
    "cdef extern from 'gsl/gsl_randist.h':\n",
    "     double uniform 'gsl_rng_uniform'(gsl_rng * r)\n",
    "\n",
    "def dec_aleatorio():\n",
    "    cdef double n\n",
    "    n = uniform(r)\n",
    "    return n"
   ]
  },
  {
   "cell_type": "code",
   "execution_count": 10,
   "metadata": {},
   "outputs": [
    {
     "name": "stdout",
     "output_type": "stream",
     "text": [
      "[0.999741748906672, 0.16290987539105117, 0.28261780529282987, 0.9472010820172727, 0.23165654274635017, 0.48497361433692276, 0.9574769565369934, 0.7443053431343287, 0.5400436583440751, 0.7399529814720154]\n"
     ]
    }
   ],
   "source": [
    "print [dec_aleatorio() for muda in range(10)]"
   ]
  },
  {
   "cell_type": "code",
   "execution_count": 11,
   "metadata": {
    "collapsed": true
   },
   "outputs": [],
   "source": [
    "def dado_trucado(p):\n",
    "    x = dec_aleatorio()\n",
    "    #print x\n",
    "    if x < p:\n",
    "        return 0\n",
    "    else:\n",
    "        return 1"
   ]
  },
  {
   "cell_type": "code",
   "execution_count": 12,
   "metadata": {
    "collapsed": true
   },
   "outputs": [],
   "source": [
    "from string import *\n",
    "#from os import *\n",
    "\n",
    "\n",
    "def archivo2p(N,p,filename):\n",
    "    outfile = open(filename,\"wb\")\n",
    "    for muda in xrange(N):\n",
    "        L = [dado_trucado(p) for _ in range(8)]\n",
    "        C = (chr(int(join(map(str,L),sep=''),base=2)))\n",
    "        outfile.write(C)  \n",
    "    outfile.close()\n",
    "    \n",
    "    "
   ]
  },
  {
   "cell_type": "code",
   "execution_count": 13,
   "metadata": {},
   "outputs": [],
   "source": [
    "\n",
    "def generar_archivos(n):\n",
    "    L = []\n",
    "    for j in range(0,n+1):\n",
    "        p = (j/n).n()\n",
    "        filename = \"/home/rhg/Desktop/COMPRESION/prueba-bits\"+'-'+str(p)\n",
    "        #print p\n",
    "        #os.chdir(\"/home/rhg/Desktop/COMPRESION/\")\n",
    "        archivo2p(2048*2048//8,p,filename)\n",
    "        os.system(\"tar cvzf %s %s\" %(filename+'.tar.gz',filename))\n",
    "        tam = os.lstat(filename+'.tar.gz').st_size\n",
    "        L.append((p,tam))\n",
    "    return L"
   ]
  },
  {
   "cell_type": "code",
   "execution_count": 14,
   "metadata": {},
   "outputs": [
    {
     "name": "stdout",
     "output_type": "stream",
     "text": [
      "[(0.000000000000000, 671), (0.0500000000000000, 196920), (0.100000000000000, 294186), (0.150000000000000, 360424), (0.200000000000000, 406104), (0.250000000000000, 438138), (0.300000000000000, 468332), (0.350000000000000, 494033), (0.400000000000000, 512381), (0.450000000000000, 523281), (0.500000000000000, 524636), (0.550000000000000, 523296), (0.600000000000000, 512405), (0.650000000000000, 494027), (0.700000000000000, 468100), (0.750000000000000, 438252), (0.800000000000000, 406057), (0.850000000000000, 360491), (0.900000000000000, 294262), (0.950000000000000, 197135), (1.00000000000000, 666)]\n",
      "CPU times: user 2min 21s, sys: 160 ms, total: 2min 21s\n",
      "Wall time: 2min 22s\n"
     ]
    }
   ],
   "source": [
    "%time L = generar_archivos(20);print L"
   ]
  },
  {
   "cell_type": "code",
   "execution_count": 15,
   "metadata": {},
   "outputs": [
    {
     "data": {
      "text/plain": [
       "524288"
      ]
     },
     "execution_count": 15,
     "metadata": {},
     "output_type": "execute_result"
    }
   ],
   "source": [
    "2048*2048//8"
   ]
  },
  {
   "cell_type": "code",
   "execution_count": 16,
   "metadata": {},
   "outputs": [
    {
     "data": {
      "image/png": "[encoded data removed]",
      "text/plain": [
       "Graphics object consisting of 1 graphics primitive"
      ]
     },
     "execution_count": 16,
     "metadata": {},
     "output_type": "execute_result"
    }
   ],
   "source": [
    "points(L)"
   ]
  },
  {
   "cell_type": "code",
   "execution_count": 17,
   "metadata": {},
   "outputs": [
    {
     "name": "stdout",
     "output_type": "stream",
     "text": [
      "{b: 1871727.966979465, c: 80469.54222300767, a: -1871666.4863607015}\n"
     ]
    }
   ],
   "source": [
    "var('a b c x'); model(x) = a*x^2+b*x+c\n",
    "dicc = find_fit(L,model,solution_dict=True);print dicc"
   ]
  },
  {
   "cell_type": "code",
   "execution_count": 18,
   "metadata": {},
   "outputs": [],
   "source": [
    "def solucion(x,dicc):\n",
    "    return dicc[a]*x**2+dicc[b]*x+dicc[c]"
   ]
  },
  {
   "cell_type": "code",
   "execution_count": 19,
   "metadata": {},
   "outputs": [
    {
     "data": {
      "text/plain": [
       "[(0.000000000000000, -79798.5422230077),\n",
       " (0.0500000000000000, 27543.2256439208),\n",
       " (0.100000000000000, 45260.3259426529),\n",
       " (0.150000000000000, 41307.7586731884),\n",
       " (0.200000000000000, 26155.5238355274),\n",
       " (0.250000000000000, 6715.62142966996),\n",
       " (0.300000000000000, -5205.94854438398),\n",
       " (0.350000000000000, -12262.1860866345),\n",
       " (0.400000000000000, -17313.0911970814),\n",
       " (0.450000000000000, -20453.6638757249),\n",
       " (0.500000000000000, -23780.9041225648),\n",
       " (0.550000000000000, -20444.8119376012),\n",
       " (0.600000000000000, -17301.3873208341),\n",
       " (0.650000000000000, -12286.6302722635),\n",
       " (0.700000000000000, -5462.54079188954),\n",
       " (0.750000000000000, 6798.88112028805),\n",
       " (0.800000000000000, 26071.6354642697),\n",
       " (0.850000000000000, 41331.7222400538),\n",
       " (0.900000000000000, 45287.1414476421),\n",
       " (0.950000000000000, 27702.8930870339),\n",
       " (1.00000000000000, -79865.0228417711)]"
      ]
     },
     "execution_count": 19,
     "metadata": {},
     "output_type": "execute_result"
    }
   ],
   "source": [
    "[(item[0],item[1]-solucion(item[0],dicc)) for item in L]"
   ]
  },
  {
   "cell_type": "code",
   "execution_count": 20,
   "metadata": {},
   "outputs": [
    {
     "data": {
      "image/png": "[encoded data removed]",
      "text/plain": [
       "Graphics object consisting of 2 graphics primitives"
      ]
     },
     "execution_count": 20,
     "metadata": {},
     "output_type": "execute_result"
    }
   ],
   "source": [
    "points(L)+plot(dicc[a]*x**2+dicc[b]*x+dicc[c],x,0,1)"
   ]
  },
  {
   "cell_type": "code",
   "execution_count": null,
   "metadata": {
    "collapsed": true
   },
   "outputs": [],
   "source": []
  }
 ],
 "metadata": {
  "kernelspec": {
   "display_name": "SageMath 8.0",
   "language": "",
   "name": "sagemath"
  },
  "language_info": {
   "codemirror_mode": {
    "name": "ipython",
    "version": 2
   },
   "file_extension": ".py",
   "mimetype": "text/x-python",
   "name": "python",
   "nbconvert_exporter": "python",
   "pygments_lexer": "ipython2",
   "version": "2.7.13"
  }
 },
 "nbformat": 4,
 "nbformat_minor": 1
}
