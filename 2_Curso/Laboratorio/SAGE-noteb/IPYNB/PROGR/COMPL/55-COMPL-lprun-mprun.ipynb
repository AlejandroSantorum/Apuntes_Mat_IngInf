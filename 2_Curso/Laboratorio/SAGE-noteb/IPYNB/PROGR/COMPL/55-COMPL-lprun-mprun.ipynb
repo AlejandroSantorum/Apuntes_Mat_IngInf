{
 "cells": [
  {
   "cell_type": "code",
   "execution_count": 1,
   "metadata": {},
   "outputs": [],
   "source": [
    "def cadena(N):\n",
    "    C1 = 'ESTA ES NUESTRA CADENA DE PRUEBA '\n",
    "    C = ''\n",
    "    for j in range(N):\n",
    "        C += C1*100\n",
    "    return C"
   ]
  },
  {
   "cell_type": "code",
   "execution_count": 2,
   "metadata": {},
   "outputs": [
    {
     "name": "stdout",
     "output_type": "stream",
     "text": [
      "CPU times: user 0 ns, sys: 0 ns, total: 0 ns\n",
      "Wall time: 357 µs\n"
     ]
    }
   ],
   "source": [
    "%time C = cadena(10)"
   ]
  },
  {
   "cell_type": "code",
   "execution_count": 3,
   "metadata": {},
   "outputs": [
    {
     "name": "stdout",
     "output_type": "stream",
     "text": [
      "CPU times: user 2.15 s, sys: 1.96 s, total: 4.1 s\n",
      "Wall time: 3.82 s\n"
     ]
    }
   ],
   "source": [
    "%time C = cadena(10^6)"
   ]
  },
  {
   "cell_type": "code",
   "execution_count": 4,
   "metadata": {},
   "outputs": [],
   "source": [
    "%load_ext line_profiler"
   ]
  },
  {
   "cell_type": "code",
   "execution_count": 5,
   "metadata": {},
   "outputs": [
    {
     "name": "stdout",
     "output_type": "stream",
     "text": [
      "\n",
      "*** Profile printout saved to text file u'lprofiler1.txt'. \n"
     ]
    }
   ],
   "source": [
    "%lprun -T lprofiler1.txt -f cadena cadena(10^6)"
   ]
  },
  {
   "cell_type": "code",
   "execution_count": 6,
   "metadata": {
    "collapsed": true
   },
   "outputs": [],
   "source": [
    "%load_ext memory_profiler"
   ]
  },
  {
   "cell_type": "code",
   "execution_count": 7,
   "metadata": {},
   "outputs": [
    {
     "name": "stdout",
     "output_type": "stream",
     "text": [
      "('',)\n",
      "\n",
      "*** Profile printout saved to text file mprofiler1.txt. \n"
     ]
    }
   ],
   "source": [
    "from foo import cadena\n",
    "%mprun -T mprofiler1.txt -f cadena cadena(10^6)"
   ]
  },
  {
   "cell_type": "markdown",
   "metadata": {},
   "source": [
    "#### Otro ejemplo\n",
    "\n",
    "Hay que reiniciar la hoja antes de ejecutar esta parte. Si no se reinicia suma responde con la memoria en uso que incluye la memoria utilizada en lo ejecutado en la parte de arriba. \n",
    "\n"
   ]
  },
  {
   "cell_type": "code",
   "execution_count": 1,
   "metadata": {
    "collapsed": true
   },
   "outputs": [],
   "source": [
    "import numpy as np\n",
    "%load_ext memory_profiler\n",
    "\n",
    "def func(x):\n",
    "    y = x**2.0\n",
    "    z = np.exp(y)\n",
    "    return z"
   ]
  },
  {
   "cell_type": "code",
   "execution_count": 2,
   "metadata": {},
   "outputs": [
    {
     "name": "stdout",
     "output_type": "stream",
     "text": [
      "('',)\n",
      "\n",
      "*** Profile printout saved to text file mprofiler2.txt. \n"
     ]
    }
   ],
   "source": [
    "from foo2 import func\n",
    "\n",
    "A = np.random.randn(1000,1000)\n",
    "%mprun -T mprofiler2.txt -f func func(A)"
   ]
  },
  {
   "cell_type": "code",
   "execution_count": null,
   "metadata": {
    "collapsed": true
   },
   "outputs": [],
   "source": []
  }
 ],
 "metadata": {
  "kernelspec": {
   "display_name": "SageMath 8.0",
   "language": "",
   "name": "sagemath"
  },
  "language_info": {
   "codemirror_mode": {
    "name": "ipython",
    "version": 2
   },
   "file_extension": ".py",
   "mimetype": "text/x-python",
   "name": "python",
   "nbconvert_exporter": "python",
   "pygments_lexer": "ipython2",
   "version": "2.7.13"
  }
 },
 "nbformat": 4,
 "nbformat_minor": 2
}
