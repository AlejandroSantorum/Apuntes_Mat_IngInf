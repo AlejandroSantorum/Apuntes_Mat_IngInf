{
 "cells": [
  {
   "cell_type": "markdown",
   "metadata": {},
   "source": [
    "## Ejercicio 13\n",
    "\n",
    "### Apartado a)\n",
    "\n",
    "Goldbach conjeturó que todo entero compuesto e impar es la suma de un primo y el doble de un cuadrado. Así, por ejemplo, $9=7+2\\cdot 1^2,\\ 15=7+2\\cdot 2^2,\\ 21=3+2\\cdot 3^2,$ etc. Esta conjetura resultó ser falsa. Determina el menor entero que no cumple lo conjeturado por Goldbach.\n",
    "\n",
    " \n",
    " "
   ]
  },
  {
   "cell_type": "code",
   "execution_count": 2,
   "metadata": {
    "collapsed": true
   },
   "outputs": [],
   "source": [
    "def goldbach(N):\n",
    "    testigo = 0\n",
    "    for n in xsrange(2,N):\n",
    "        testigo = 0\n",
    "        if (not is_prime(n)) and (n%2 == 1):\n",
    "            for p in prime_range(2,n):\n",
    "                if (n-p)%2 == 0 and is_square((n-p)//2):\n",
    "                    #L.append(n)\n",
    "                    testigo = 1\n",
    "                    break\n",
    "            if testigo == 0:  \n",
    "                     return n\n",
    "    return testigo"
   ]
  },
  {
   "cell_type": "code",
   "execution_count": 3,
   "metadata": {},
   "outputs": [
    {
     "data": {
      "text/plain": [
       "5777"
      ]
     },
     "execution_count": 3,
     "metadata": {},
     "output_type": "execute_result"
    }
   ],
   "source": [
    "goldbach(10000)"
   ]
  },
  {
   "cell_type": "markdown",
   "metadata": {},
   "source": [
    "### Apartado b)\n",
    "\n",
    "Existen enteros, por ejemplo $145$,  que son iguales a la suma de los factoriales de sus dígitos. Determina **todos** los enteros con esta propiedad. "
   ]
  },
  {
   "cell_type": "code",
   "execution_count": 4,
   "metadata": {
    "collapsed": true
   },
   "outputs": [],
   "source": [
    "def dig_fact(N):\n",
    "    L = []\n",
    "    for n in xsrange(3,N):\n",
    "        L1 = n.digits()\n",
    "        if n == sum(map(factorial,L1)):\n",
    "            L.append(n)\n",
    "    return L"
   ]
  },
  {
   "cell_type": "code",
   "execution_count": 5,
   "metadata": {},
   "outputs": [
    {
     "data": {
      "text/plain": [
       "[145]"
      ]
     },
     "execution_count": 5,
     "metadata": {},
     "output_type": "execute_result"
    }
   ],
   "source": [
    "dig_fact(10**4)"
   ]
  },
  {
   "cell_type": "code",
   "execution_count": 6,
   "metadata": {},
   "outputs": [
    {
     "data": {
      "text/plain": [
       "[145, 40585]"
      ]
     },
     "execution_count": 6,
     "metadata": {},
     "output_type": "execute_result"
    }
   ],
   "source": [
    "dig_fact(10**5)"
   ]
  },
  {
   "cell_type": "code",
   "execution_count": 7,
   "metadata": {},
   "outputs": [
    {
     "name": "stdout",
     "output_type": "stream",
     "text": [
      "CPU times: user 10.9 s, sys: 148 ms, total: 11 s\n",
      "Wall time: 11 s\n"
     ]
    },
    {
     "data": {
      "text/plain": [
       "[145, 40585]"
      ]
     },
     "execution_count": 7,
     "metadata": {},
     "output_type": "execute_result"
    }
   ],
   "source": [
    "%time dig_fact(10**6)"
   ]
  },
  {
   "cell_type": "code",
   "execution_count": 8,
   "metadata": {},
   "outputs": [
    {
     "name": "stdout",
     "output_type": "stream",
     "text": [
      "CPU times: user 1min 55s, sys: 332 ms, total: 1min 56s\n",
      "Wall time: 1min 55s\n"
     ]
    },
    {
     "data": {
      "text/plain": [
       "[145, 40585]"
      ]
     },
     "execution_count": 8,
     "metadata": {},
     "output_type": "execute_result"
    }
   ],
   "source": [
    "%time dig_fact(10**7)"
   ]
  },
  {
   "cell_type": "markdown",
   "metadata": {},
   "source": [
    "Pasar de $10^6$ a $10^7$ no aporta nuevas soluciones, pero para demostrar que no hay otras hay que probar *matemáticamente*  que existe un $N_0$ tal que  no hay soluciones para $N\\ge N_0$. Conseguido ésto, tenemos que calcular las soluciones que pueda haber hasta $N_0$ usando el ordenador.\n",
    "\n",
    "Para en entero de $k$ cifras el valor máximo que puede tener la suma de los factoriales de sus  cifras es $k\\times 9!=k\\cdot 362880$. "
   ]
  },
  {
   "cell_type": "code",
   "execution_count": 9,
   "metadata": {},
   "outputs": [
    {
     "name": "stdout",
     "output_type": "stream",
     "text": [
      "362880\n",
      "2540160\n",
      "2903040\n"
     ]
    }
   ],
   "source": [
    "print factorial(9);print 7*factorial(9);print 8*factorial(9)"
   ]
  },
  {
   "cell_type": "markdown",
   "metadata": {},
   "source": [
    "Ahora, el número de cifras decimales de $k\\times 9!$ es la parte entera por exceso  de $log_{10}(k)+ log_{10}(362880)$ y basta determinar un $k$ tal que $k-1 > log_{10}(k)+ log_{10}(362880)$. "
   ]
  },
  {
   "cell_type": "code",
   "execution_count": 10,
   "metadata": {},
   "outputs": [
    {
     "name": "stdout",
     "output_type": "stream",
     "text": [
      "6.40486107289105\n",
      "6.46285301986874\n"
     ]
    }
   ],
   "source": [
    "print (log(7,base=10)+ log(362880,base=10)).n(); print (log(8,base=10)+ log(362880,base=10)).n()"
   ]
  },
  {
   "cell_type": "markdown",
   "metadata": {},
   "source": [
    "Vemos entonces que para enteros de $8$ o más cifras decimales es imposible que el entero sea igual a la suma de los factoriales de sus cifras, porque la suma de los factoriales de las cifras se escribe con menos cifras decimales que el número. Debemos buscar soluciones hasta $N=10^8$, lo que puede tardar más de $15$ minutos.  "
   ]
  },
  {
   "cell_type": "code",
   "execution_count": 11,
   "metadata": {},
   "outputs": [
    {
     "name": "stdout",
     "output_type": "stream",
     "text": [
      "CPU times: user 20min 41s, sys: 7.33 s, total: 20min 49s\n",
      "Wall time: 20min 41s\n"
     ]
    },
    {
     "data": {
      "text/plain": [
       "[145, 40585]"
      ]
     },
     "execution_count": 11,
     "metadata": {},
     "output_type": "execute_result"
    }
   ],
   "source": [
    "%time dig_fact(10**8)"
   ]
  },
  {
   "cell_type": "markdown",
   "metadata": {},
   "source": [
    "### Apartado c)\n",
    "\n",
    " Determina todas las tripletas de enteros primos de $4$ cifras tales que cumplen las dos condiciones siguientes:\n",
    "    1) Los $3$ enteros están en progresión aritmética, es decir, el segundo menos el primero es igual al tercero menos el segundo.\n",
    "    2) Los tres enteros de la tripleta tienen las mismas cifras y cada cifra aparece el mismo número de veces en cada uno de ellos.\n",
    "    \n",
    "    Por ejemplo, $(1487, 4817, 8147)$ es una de las soluciones.\n",
    " \n"
   ]
  },
  {
   "cell_type": "code",
   "execution_count": 12,
   "metadata": {
    "collapsed": true
   },
   "outputs": [],
   "source": [
    "def primer_intento():\n",
    "    LL = []\n",
    "    L = prime_range(1000,9999)\n",
    "    n = len(L)\n",
    "    for n1 in xsrange(n):\n",
    "        for n2 in xsrange(n1+1,n):\n",
    "            for n3 in xsrange(n2+1,n):\n",
    "                if L[n2]-L[n1]==L[n3]-L[n2]:\n",
    "                    if L[n2].digits() in Permutations(L[n1].digits()) and \\\n",
    "                    L[n3].digits() in Permutations(L[n1].digits()):\n",
    "                        LL.append((L[n1],L[n2],L[n3]))\n",
    "    return LL"
   ]
  },
  {
   "cell_type": "code",
   "execution_count": 13,
   "metadata": {},
   "outputs": [
    {
     "name": "stdout",
     "output_type": "stream",
     "text": [
      "CPU times: user 1min 13s, sys: 8 ms, total: 1min 13s\n",
      "Wall time: 1min 13s\n"
     ]
    },
    {
     "data": {
      "text/plain": [
       "[(1487, 4817, 8147), (2969, 6299, 9629)]"
      ]
     },
     "execution_count": 13,
     "metadata": {},
     "output_type": "execute_result"
    }
   ],
   "source": [
    "%time primer_intento()"
   ]
  },
  {
   "cell_type": "markdown",
   "metadata": {},
   "source": [
    "¿Podemos mejorar el tiempo? Quizá reduciendo el número de bucles anidados"
   ]
  },
  {
   "cell_type": "code",
   "execution_count": 14,
   "metadata": {
    "collapsed": true
   },
   "outputs": [],
   "source": [
    "def segundo_intento():\n",
    "    LL = []\n",
    "    L = prime_range(1000,9999)\n",
    "    n = len(L)\n",
    "    print n\n",
    "    for n1 in xsrange(n):\n",
    "        for k in xsrange(1,n):\n",
    "            if n1+k < n:\n",
    "                r = L[n1+k]-L[n1]\n",
    "                if L[n1+k]+r in L:\n",
    "                    if L[n1+k].digits() in Permutations(L[n1].digits()) and \\\n",
    "                    (L[n1+k]+r).digits() in Permutations(L[n1].digits()):\n",
    "                        LL.append((L[n1],L[n1+k],L[n1+2*k]))\n",
    "    return LL"
   ]
  },
  {
   "cell_type": "code",
   "execution_count": 15,
   "metadata": {},
   "outputs": [
    {
     "name": "stdout",
     "output_type": "stream",
     "text": [
      "1061\n",
      "CPU times: user 13 s, sys: 216 ms, total: 13.3 s\n",
      "Wall time: 13.1 s\n"
     ]
    },
    {
     "data": {
      "text/plain": [
       "[(1487, 4817, 8521), (2969, 6299, 9811)]"
      ]
     },
     "execution_count": 15,
     "metadata": {},
     "output_type": "execute_result"
    }
   ],
   "source": [
    "%time segundo_intento()"
   ]
  },
  {
   "cell_type": "markdown",
   "metadata": {},
   "source": [
    "### Apartado d)\n",
    " \n",
    " Sea $(a,b,c)$ una tripleta de enteros positivos tal que existe un triángulo rectángulo con la longitud de los lados igual a los enteros de la tripleta.  Podemos decir, por ejemplo, que una tal tripleta es **rectangular**. Sea $p$ el perímetro de un tal triángulo. Para $p\\le 1000$ determina el perímetro $p_m$ para el que existe el mayor número de tripletas rectangulares distintas con ese perímetro. \n"
   ]
  },
  {
   "cell_type": "code",
   "execution_count": 16,
   "metadata": {},
   "outputs": [
    {
     "name": "stdout",
     "output_type": "stream",
     "text": [
      "CPU times: user 1min 18s, sys: 24 ms, total: 1min 18s\n",
      "Wall time: 1min 18s\n"
     ]
    },
    {
     "data": {
      "text/plain": [
       "(9, 840)"
      ]
     },
     "execution_count": 16,
     "metadata": {},
     "output_type": "execute_result"
    }
   ],
   "source": [
    "def triangulos(n):\n",
    "    '''n es el perimetro'''\n",
    "    cont = 0\n",
    "    for a in xsrange((n//2)+1):\n",
    "        for b in xsrange(a,n-a):\n",
    "            if n-a-b>0 and a**2+b**2==(n-a-b)**2:\n",
    "                cont += 1\n",
    "    return cont,n\n",
    "\n",
    "def maximo(N):\n",
    "    max = 0\n",
    "    per = 3\n",
    "    for ent in xsrange(3,N):\n",
    "        t,p = triangulos(ent)\n",
    "        if t > max:\n",
    "            max =t\n",
    "            per = p\n",
    "    return max,per\n",
    "\n",
    "%time maximo(1000)"
   ]
  },
  {
   "cell_type": "markdown",
   "metadata": {},
   "source": [
    "Con este planteamiento cada tripleta está ordenada en orden creciente $a<b<c$.  "
   ]
  },
  {
   "cell_type": "markdown",
   "metadata": {},
   "source": [
    "### Apartado e)\n",
    "\n",
    "Un **primo de Mersenne** es un entero primo de la forma $2^p-1$ con $p$ primo. No es difícil ver que si $2^n-1$ es primo, entonces el exponente $n$ debe ser también primo, pero el recíproco es falso. Los primos de Mersenne son los mayores conocidos porque hay criterios de primalidad bastante eficientes para candidatos a ser primo de Mersenne. \n",
    "\n",
    "En 2004 se descubrió un primo muy grande que no es de Mersenne, concretamente se trata de $P:=28433\\times 2^{7830457}+1$. \n",
    "\n",
    "1. Determina el número de cifras decimales de $P$.\n",
    "\n",
    "2. Determina las últimas, por la derecha, diez cifras decimales de $P$.\n",
    "\n",
    "3. Determina las primeras, por la izquierda, diez cifras decimales de $P$. \n",
    "\n",
    "**Se entiende que,  aunque debe ser  posible calcular completamente $P$ en los ordenadores del Laboratorio, debe hacerse este ejercicio sin pasar por ese cálculo. Puede usarse el cálculo completo de $P$ para comprobar el resultado obtenido.**\n"
   ]
  },
  {
   "cell_type": "code",
   "execution_count": 17,
   "metadata": {},
   "outputs": [
    {
     "name": "stdout",
     "output_type": "stream",
     "text": [
      "2357207\n",
      "CPU times: user 0 ns, sys: 0 ns, total: 0 ns\n",
      "Wall time: 416 µs\n"
     ]
    }
   ],
   "source": [
    "## Numero de digitos\n",
    "# P = 28433*2^(7830457)+1\n",
    "\n",
    "logP = log(28433,base=10)+7830457*log(2,base=10)\n",
    "%time print floor(logP)+1"
   ]
  },
  {
   "cell_type": "code",
   "execution_count": 18,
   "metadata": {},
   "outputs": [
    {
     "name": "stdout",
     "output_type": "stream",
     "text": [
      "8739992577\n",
      "CPU times: user 0 ns, sys: 0 ns, total: 0 ns\n",
      "Wall time: 196 µs\n"
     ]
    }
   ],
   "source": [
    "%time print (28433*power_mod(2,7830457,10^10)+1)%10^10"
   ]
  },
  {
   "cell_type": "code",
   "execution_count": 19,
   "metadata": {},
   "outputs": [
    {
     "name": "stdout",
     "output_type": "stream",
     "text": [
      "8739992577\n",
      "CPU times: user 400 ms, sys: 8 ms, total: 408 ms\n",
      "Wall time: 411 ms\n"
     ]
    }
   ],
   "source": [
    "## Comprobamos\n",
    "P = 28433*2^(7830457)+1\n",
    "%time print str(P)[-10:]"
   ]
  },
  {
   "cell_type": "code",
   "execution_count": 20,
   "metadata": {},
   "outputs": [
    {
     "name": "stdout",
     "output_type": "stream",
     "text": [
      "CPU times: user 4 ms, sys: 0 ns, total: 4 ms\n",
      "Wall time: 1.24 ms\n"
     ]
    },
    {
     "data": {
      "text/plain": [
       "2733738636872552"
      ]
     },
     "execution_count": 20,
     "metadata": {},
     "output_type": "execute_result"
    }
   ],
   "source": [
    "def cifra_dom(k,n):\n",
    "    '''Cifra dominante de k^n. Ver 7.5 de las notas del curso'''\n",
    "    return floor(10^((n*log(k,base=10).n())-((n*log(k,base=10).n()).floor())))\n",
    "\n",
    "def m_cifras_dom(m,k,n):\n",
    "    '''m cifras mas dominantes de k^n. Ver 7.5 de las notas del curso'''\n",
    "    return floor(10**m*10^((n*log(k,base=10).n())-((n*log(k,base=10).n()).floor())))\n",
    "\n",
    "%time m_cifras_dom(15,2,7830457)\n"
   ]
  },
  {
   "cell_type": "code",
   "execution_count": 21,
   "metadata": {},
   "outputs": [
    {
     "name": "stdout",
     "output_type": "stream",
     "text": [
      "7772839072\n"
     ]
    }
   ],
   "source": [
    "R = RealField(prec=100)\n",
    "x =R(log(28433,base=10)+7830457*log(2,base=10))\n",
    "print floor(10**9*10^(x-(x.floor())))"
   ]
  },
  {
   "cell_type": "code",
   "execution_count": 22,
   "metadata": {},
   "outputs": [
    {
     "name": "stdout",
     "output_type": "stream",
     "text": [
      "7772839072\n",
      "CPU times: user 404 ms, sys: 4 ms, total: 408 ms\n",
      "Wall time: 407 ms\n"
     ]
    }
   ],
   "source": [
    "## Comprobamos\n",
    "P = 28433*2^(7830457)+1\n",
    "%time print str(P)[:10]"
   ]
  },
  {
   "cell_type": "markdown",
   "metadata": {},
   "source": [
    "### Apartado f)\n",
    "\n",
    "Hay polinomios de grado $2$ que, como $p(x):=x^2+x+41$, toman valores primos para los primeros valores enteros consecutivos de $x$.  El polinomio $p(x)$ indicado toma valores primos para $x=0,1,2,\\dots,39$, pero el valor es compuesto para $x=40$. Entonces, para $p(x)$ se obtiene una sucesión de $40$ primos, que por supuesto **no** son consecutivos,  al evaluarlo en los enteros consecutivos del intervalo $[0,39].$\n",
    "\n",
    "Determina, de entre todos los polinomios de la forma $x^2+ax+b$, con $a$ y $b$ de valor absoluto menor o igual a $1000$, el polinomio que produce el **mayor número de valores primos al evaluarlo en enteros consecutivos** $x=0,1,2,\\dots$. Indica también el número de valores primos obtenido, que será mayor o igual a $40$.  \n",
    "\n",
    " **No se sabe si existen polinomios de grado dos que tomen infinitos valores primos, aunque se conjetura que los hay** (ver https://en.wikipedia.org/wiki/Bunyakovsky_conjecture).\n"
   ]
  },
  {
   "cell_type": "code",
   "execution_count": 23,
   "metadata": {},
   "outputs": [
    {
     "name": "stdout",
     "output_type": "stream",
     "text": [
      "(72, x^2 - 61*x + 971)\n",
      "CPU times: user 1.22 s, sys: 4 ms, total: 1.22 s\n",
      "Wall time: 1.22 s\n"
     ]
    }
   ],
   "source": [
    "def polinimios(N):\n",
    "    R.<x> = ZZ[]\n",
    "    L = prime_range(-N,N)\n",
    "    max = 40\n",
    "    pm = R(x^2+x+41)\n",
    "    for b in L:\n",
    "        for a in xsrange(-N,N):\n",
    "            if is_prime(a+b+1):\n",
    "                p = R(x^2+a*x+b)\n",
    "                n = 0\n",
    "                valor = p(x=n)\n",
    "                while is_prime(valor):\n",
    "                    n += 1\n",
    "                    valor = p(x=n)\n",
    "                if n > max:\n",
    "                    max = n+1\n",
    "                    pm = p\n",
    "    return max,pm\n",
    "  \n",
    "%time print polinimios(10**3)"
   ]
  },
  {
   "cell_type": "code",
   "execution_count": null,
   "metadata": {
    "collapsed": true
   },
   "outputs": [],
   "source": []
  }
 ],
 "metadata": {
  "kernelspec": {
   "display_name": "SageMath 8.0",
   "language": "",
   "name": "sagemath"
  },
  "language_info": {
   "codemirror_mode": {
    "name": "ipython",
    "version": 2
   },
   "file_extension": ".py",
   "mimetype": "text/x-python",
   "name": "python",
   "nbconvert_exporter": "python",
   "pygments_lexer": "ipython2",
   "version": "2.7.13"
  }
 },
 "nbformat": 4,
 "nbformat_minor": 2
}
