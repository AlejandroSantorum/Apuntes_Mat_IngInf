{
 "nbformat": 4, 
 "cells": [
  {
   "execution_count": 1, 
   "cell_type": "code", 
   "source": [
    "randint(-1000,1000)"
   ], 
   "outputs": [
    {
     "output_type": "execute_result", 
     "data": {
      "text/plain": [
       "92"
      ]
     }, 
     "execution_count": 1, 
     "metadata": {}
    }
   ], 
   "metadata": {
    "collapsed": false
   }
  }, 
  {
   "source": [
    "<h3>\"Mergesort\"</h3>"
   ], 
   "cell_type": "markdown", 
   "metadata": {}
  }, 
  {
   "execution_count": 2, 
   "cell_type": "code", 
   "source": [
    "def intercalar(L,L1,L2):\n", 
    "    if len(L1) == 0 or len(L2) == 0:\n", 
    "        return L+L1+L2\n", 
    "    elif L1[0] <= L2[0]:\n", 
    "       L.append(L1[0])\n", 
    "       L1.pop(0)\n", 
    "        #print L,L1,L2\n", 
    "       intercalar(L,L1,L2)\n", 
    "    else:\n", 
    "        L.append(L2[0])\n", 
    "        L2.pop(0)\n", 
    "        #print L,L1,L2\n", 
    "        intercalar(L,L1,L2)\n", 
    "    return L+L1+L2"
   ], 
   "outputs": [], 
   "metadata": {
    "collapsed": false
   }
  }, 
  {
   "execution_count": 3, 
   "cell_type": "code", 
   "source": [
    "intercalar([],[10,11,13],[-6,9,10,12])"
   ], 
   "outputs": [
    {
     "output_type": "execute_result", 
     "data": {
      "text/plain": [
       "[-6, 9, 10, 10, 11, 12, 13]"
      ]
     }, 
     "execution_count": 3, 
     "metadata": {}
    }
   ], 
   "metadata": {
    "collapsed": false
   }
  }, 
  {
   "execution_count": 4, 
   "cell_type": "code", 
   "source": [
    "def mergesort(L):\n", 
    "    n = len(L)\n", 
    "    if n == 0 or n == 1:\n", 
    "        return L\n", 
    "    #elif n == 2:\n", 
    "    #    if L[0] <= L[1]:\n", 
    "     #       return L\n", 
    "    #    else:\n", 
    "     #       return [L[1],L[0]]\n", 
    "    else:\n", 
    "         m = n//2\n", 
    "         return intercalar([],mergesort(L[:m]),mergesort(L[m:]))"
   ], 
   "outputs": [], 
   "metadata": {
    "collapsed": false
   }
  }, 
  {
   "execution_count": 5, 
   "cell_type": "code", 
   "source": [
    "mergesort([2,7,5,1,-1,3])"
   ], 
   "outputs": [
    {
     "output_type": "execute_result", 
     "data": {
      "text/plain": [
       "[-1, 1, 2, 3, 5, 7]"
      ]
     }, 
     "execution_count": 5, 
     "metadata": {}
    }
   ], 
   "metadata": {
    "collapsed": false
   }
  }, 
  {
   "execution_count": 6, 
   "cell_type": "code", 
   "source": [
    "L = [randint(-1000,1000) for _ in srange(800)]\n", 
    "L1 = list(L)\n", 
    "L2 = list(L)\n", 
    "L3 = mergesort(L1)\n", 
    "L2.sort()\n", 
    "L3 == L2\n", 
    "print L3[:10],L2[:10],L[:10]"
   ], 
   "outputs": [
    {
     "output_type": "execute_result", 
     "data": {
      "text/plain": [
       "[-997, -991, -980, -978, -972, -969, -960, -958, -958, -956] [-997, -991, -980, -978,\n", 
       "-972, -969, -960, -958, -958, -956] [-429, -768, -230, 535, -953, 493, -923, 699, 373, 87]"
      ]
     }, 
     "execution_count": 6, 
     "metadata": {}
    }
   ], 
   "metadata": {
    "collapsed": false
   }
  }, 
  {
   "source": [
    "<h3>\"Insertion sort\"</h3>\r\n\r\n<p>En primer lugar definimos una funci&oacute;n para intercambiar un entero con el anterior si &eacute;ste es mayor:</p>"
   ], 
   "cell_type": "markdown", 
   "metadata": {}
  }, 
  {
   "execution_count": 7, 
   "cell_type": "code", 
   "source": [
    "def intercambiar(L,i,j):\n", 
    "    if  L[i] > L[j] and i<j:\n", 
    "        L[i],L[j] = L[j],L[i]\n", 
    "    return L"
   ], 
   "outputs": [], 
   "metadata": {
    "collapsed": false
   }
  }, 
  {
   "execution_count": 8, 
   "cell_type": "code", 
   "source": [
    "intercambiar([1,3,2,1],2,3)"
   ], 
   "outputs": [
    {
     "output_type": "execute_result", 
     "data": {
      "text/plain": [
       "[1, 3, 1, 2]"
      ]
     }, 
     "execution_count": 8, 
     "metadata": {}
    }
   ], 
   "metadata": {
    "collapsed": false
   }
  }, 
  {
   "source": [
    "<p>Para que la lista quede ordenada hay que comparar, como m&aacute;ximo,&nbsp; cada entero, en alg&uacute;n momento del programa, con cada uno de los otros $n-1$, lo que sugiere un bucle doble,&nbsp; con cada uno de $n$ vueltas :</p>"
   ], 
   "cell_type": "markdown", 
   "metadata": {}
  }, 
  {
   "execution_count": 9, 
   "cell_type": "code", 
   "source": [
    "def insertionsort(L):\n", 
    "    n = len(L)\n", 
    "    for i in srange(n):\n", 
    "        for j in srange(n):\n", 
    "             intercambiar(L,i,j)\n", 
    "    return L"
   ], 
   "outputs": [], 
   "metadata": {
    "collapsed": false
   }
  }, 
  {
   "execution_count": 10, 
   "cell_type": "code", 
   "source": [
    "insertionsort([3,1,-7,5,2,0,-1,-2,-3])"
   ], 
   "outputs": [
    {
     "output_type": "execute_result", 
     "data": {
      "text/plain": [
       "[-7, -3, -2, -1, 0, 1, 2, 3, 5]"
      ]
     }, 
     "execution_count": 10, 
     "metadata": {}
    }
   ], 
   "metadata": {
    "collapsed": false
   }
  }, 
  {
   "execution_count": 11, 
   "cell_type": "code", 
   "source": [
    "L = [randint(-1000,1000) for _ in srange(800)]\n", 
    "L1 = list(L)\n", 
    "L2 = list(L)\n", 
    "L3 = insertionsort(L1)\n", 
    "L2.sort()\n", 
    "print L3 == L2\n", 
    "print L3[:10],L2[:10],L[:10]"
   ], 
   "outputs": [
    {
     "output_type": "execute_result", 
     "data": {
      "text/plain": [
       "True\n", 
       "[-1000, -1000, -999, -999, -998, -997, -992, -992, -990, -989] [-1000, -1000, -999, -999,\n", 
       "-998, -997, -992, -992, -990, -989] [-783, 806, -990, -980, -899, -815, -504, 489, -247,\n", 
       "197]"
      ]
     }, 
     "execution_count": 11, 
     "metadata": {}
    }
   ], 
   "metadata": {
    "collapsed": false
   }
  }, 
  {
   "source": [
    "<h3>Comparaci&oacute;n de tiempos</h3>"
   ], 
   "cell_type": "markdown", 
   "metadata": {}
  }, 
  {
   "execution_count": 12, 
   "cell_type": "code", 
   "source": [
    "L = [randint(-1000,1000) for _ in xrange(800)]\n", 
    "L1 = list(L)\n", 
    "L2 = list(L)"
   ], 
   "outputs": [], 
   "metadata": {
    "collapsed": false
   }
  }, 
  {
   "execution_count": 13, 
   "cell_type": "code", 
   "source": [
    "time LL1 = mergesort(L1)"
   ], 
   "outputs": [
    {
     "output_type": "execute_result", 
     "data": {
      "text/plain": [
       "Time: CPU 0.01 s, Wall: 0.01 s"
      ]
     }, 
     "execution_count": 13, 
     "metadata": {}
    }
   ], 
   "metadata": {
    "collapsed": false
   }
  }, 
  {
   "execution_count": 14, 
   "cell_type": "code", 
   "source": [
    "time LL2 = insertionsort(L2)"
   ], 
   "outputs": [
    {
     "output_type": "execute_result", 
     "data": {
      "text/plain": [
       "Time: CPU 0.23 s, Wall: 0.23 s"
      ]
     }, 
     "execution_count": 14, 
     "metadata": {}
    }
   ], 
   "metadata": {
    "collapsed": false
   }
  }, 
  {
   "execution_count": 15, 
   "cell_type": "code", 
   "source": [
    "LL1 == LL2"
   ], 
   "outputs": [
    {
     "output_type": "execute_result", 
     "data": {
      "text/plain": [
       "True"
      ]
     }, 
     "execution_count": 15, 
     "metadata": {}
    }
   ], 
   "metadata": {
    "collapsed": false
   }
  }, 
  {
   "source": [
    "<p>La comparaci&oacute;n de tiempos&nbsp; no se puede hacer m&aacute;s amplia porque el $mergesort$ se encuentra enseguida con el l&iacute;mite en la profundidad de la recursi&oacute;n. De todas formas parece claro, incluso a priori, que es m&aacute;s eficiente que el otro.</p>"
   ], 
   "cell_type": "markdown", 
   "metadata": {}
  }
 ], 
 "metadata": {
  "kernelspec": {
   "display_name": "Sage 6.6", 
   "name": "sage_6_6", 
   "language": "python"
  }
 }, 
 "nbformat_minor": 0
}