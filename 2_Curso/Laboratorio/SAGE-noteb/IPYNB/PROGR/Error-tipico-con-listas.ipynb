{
 "cells": [
  {
   "cell_type": "markdown",
   "metadata": {},
   "source": [
    "## Discusión del error\n",
    "\n",
    "Cuando cambiamos $L$ en la línea L[0] += 1 cambian todas las apariciones de $L$ en el código.  Esto se puede evitar pasando a tuplas, que son inmutables, o copiando la lista antes y después de modificarla. "
   ]
  },
  {
   "cell_type": "code",
   "execution_count": 1,
   "metadata": {
    "collapsed": true
   },
   "outputs": [],
   "source": [
    "def pruebita(n,N):\n",
    "    L = [0]*n\n",
    "    L1 = [L]\n",
    "    for int in xsrange(N):\n",
    "        L[0] += 1\n",
    "        L1.append(L)\n",
    "    return L1\n",
    "    "
   ]
  },
  {
   "cell_type": "code",
   "execution_count": 2,
   "metadata": {},
   "outputs": [
    {
     "data": {
      "text/plain": [
       "[[10, 0],\n",
       " [10, 0],\n",
       " [10, 0],\n",
       " [10, 0],\n",
       " [10, 0],\n",
       " [10, 0],\n",
       " [10, 0],\n",
       " [10, 0],\n",
       " [10, 0],\n",
       " [10, 0],\n",
       " [10, 0]]"
      ]
     },
     "execution_count": 2,
     "metadata": {},
     "output_type": "execute_result"
    }
   ],
   "source": [
    "pruebita(2,10)"
   ]
  },
  {
   "cell_type": "code",
   "execution_count": 3,
   "metadata": {
    "collapsed": true
   },
   "outputs": [],
   "source": [
    "def pruebita2(n,N):\n",
    "    L = [0 for muda in srange(n)]\n",
    "    L1 = [L]\n",
    "    for int in xsrange(N):\n",
    "        print L,L1\n",
    "        L[0] += 1\n",
    "        L1.append(L)\n",
    "    return L1"
   ]
  },
  {
   "cell_type": "code",
   "execution_count": 4,
   "metadata": {},
   "outputs": [
    {
     "name": "stdout",
     "output_type": "stream",
     "text": [
      "[0, 0] [[0, 0]]\n",
      "[1, 0] [[1, 0], [1, 0]]\n",
      "[2, 0] [[2, 0], [2, 0], [2, 0]]\n",
      "[3, 0] [[3, 0], [3, 0], [3, 0], [3, 0]]\n",
      "[4, 0] [[4, 0], [4, 0], [4, 0], [4, 0], [4, 0]]\n",
      "[5, 0] [[5, 0], [5, 0], [5, 0], [5, 0], [5, 0], [5, 0]]\n",
      "[6, 0] [[6, 0], [6, 0], [6, 0], [6, 0], [6, 0], [6, 0], [6, 0]]\n",
      "[7, 0] [[7, 0], [7, 0], [7, 0], [7, 0], [7, 0], [7, 0], [7, 0], [7, 0]]\n",
      "[8, 0] [[8, 0], [8, 0], [8, 0], [8, 0], [8, 0], [8, 0], [8, 0], [8, 0], [8, 0]]\n",
      "[9, 0] [[9, 0], [9, 0], [9, 0], [9, 0], [9, 0], [9, 0], [9, 0], [9, 0], [9, 0], [9, 0]]\n"
     ]
    },
    {
     "data": {
      "text/plain": [
       "[[10, 0],\n",
       " [10, 0],\n",
       " [10, 0],\n",
       " [10, 0],\n",
       " [10, 0],\n",
       " [10, 0],\n",
       " [10, 0],\n",
       " [10, 0],\n",
       " [10, 0],\n",
       " [10, 0],\n",
       " [10, 0]]"
      ]
     },
     "execution_count": 4,
     "metadata": {},
     "output_type": "execute_result"
    }
   ],
   "source": [
    "pruebita2(2,10)"
   ]
  },
  {
   "cell_type": "code",
   "execution_count": 5,
   "metadata": {
    "collapsed": true
   },
   "outputs": [],
   "source": [
    "def pruebita3(n,N):\n",
    "    L = [0 for muda in srange(n)]\n",
    "    L1 = [tuple(L)]\n",
    "    for int in xsrange(N):\n",
    "        print L,L1\n",
    "        L[0] += 1\n",
    "        L1.append(tuple(L))\n",
    "    return L1"
   ]
  },
  {
   "cell_type": "code",
   "execution_count": 6,
   "metadata": {},
   "outputs": [
    {
     "name": "stdout",
     "output_type": "stream",
     "text": [
      "[0, 0] [(0, 0)]\n",
      "[1, 0] [(0, 0), (1, 0)]\n",
      "[2, 0] [(0, 0), (1, 0), (2, 0)]\n",
      "[3, 0] [(0, 0), (1, 0), (2, 0), (3, 0)]\n",
      "[4, 0] [(0, 0), (1, 0), (2, 0), (3, 0), (4, 0)]\n",
      "[5, 0] [(0, 0), (1, 0), (2, 0), (3, 0), (4, 0), (5, 0)]\n",
      "[6, 0] [(0, 0), (1, 0), (2, 0), (3, 0), (4, 0), (5, 0), (6, 0)]\n",
      "[7, 0] [(0, 0), (1, 0), (2, 0), (3, 0), (4, 0), (5, 0), (6, 0), (7, 0)]\n",
      "[8, 0] [(0, 0), (1, 0), (2, 0), (3, 0), (4, 0), (5, 0), (6, 0), (7, 0), (8, 0)]\n",
      "[9, 0] [(0, 0), (1, 0), (2, 0), (3, 0), (4, 0), (5, 0), (6, 0), (7, 0), (8, 0), (9, 0)]\n"
     ]
    },
    {
     "data": {
      "text/plain": [
       "[(0, 0),\n",
       " (1, 0),\n",
       " (2, 0),\n",
       " (3, 0),\n",
       " (4, 0),\n",
       " (5, 0),\n",
       " (6, 0),\n",
       " (7, 0),\n",
       " (8, 0),\n",
       " (9, 0),\n",
       " (10, 0)]"
      ]
     },
     "execution_count": 6,
     "metadata": {},
     "output_type": "execute_result"
    }
   ],
   "source": [
    "pruebita3(2,10)"
   ]
  },
  {
   "cell_type": "code",
   "execution_count": 7,
   "metadata": {},
   "outputs": [],
   "source": [
    "def pruebita4(n,N):\n",
    "    L = [0 for muda in srange(n)]\n",
    "    L1 = []\n",
    "    for int in xsrange(N):\n",
    "        print L,L1\n",
    "        L2 = copy(L)\n",
    "        L2[0] += 1\n",
    "        L1.append(L2)\n",
    "        L = copy(L2)\n",
    "    return L1"
   ]
  },
  {
   "cell_type": "code",
   "execution_count": 8,
   "metadata": {},
   "outputs": [
    {
     "name": "stdout",
     "output_type": "stream",
     "text": [
      "[0, 0] []\n",
      "[1, 0] [[1, 0]]\n",
      "[2, 0] [[1, 0], [2, 0]]\n",
      "[3, 0] [[1, 0], [2, 0], [3, 0]]\n",
      "[4, 0] [[1, 0], [2, 0], [3, 0], [4, 0]]\n",
      "[5, 0] [[1, 0], [2, 0], [3, 0], [4, 0], [5, 0]]\n",
      "[6, 0] [[1, 0], [2, 0], [3, 0], [4, 0], [5, 0], [6, 0]]\n",
      "[7, 0] [[1, 0], [2, 0], [3, 0], [4, 0], [5, 0], [6, 0], [7, 0]]\n",
      "[8, 0] [[1, 0], [2, 0], [3, 0], [4, 0], [5, 0], [6, 0], [7, 0], [8, 0]]\n",
      "[9, 0] [[1, 0], [2, 0], [3, 0], [4, 0], [5, 0], [6, 0], [7, 0], [8, 0], [9, 0]]\n"
     ]
    },
    {
     "data": {
      "text/plain": [
       "[[1, 0],\n",
       " [2, 0],\n",
       " [3, 0],\n",
       " [4, 0],\n",
       " [5, 0],\n",
       " [6, 0],\n",
       " [7, 0],\n",
       " [8, 0],\n",
       " [9, 0],\n",
       " [10, 0]]"
      ]
     },
     "execution_count": 8,
     "metadata": {},
     "output_type": "execute_result"
    }
   ],
   "source": [
    "pruebita4(2,10)"
   ]
  },
  {
   "cell_type": "code",
   "execution_count": 9,
   "metadata": {
    "collapsed": true
   },
   "outputs": [],
   "source": [
    "def pruebita5(n,N):\n",
    "    L1 = [[0]*n]\n",
    "    for int in xsrange(N):\n",
    "        L2 = copy(L1[-1])\n",
    "        L2[0] += 1\n",
    "        L1.append(L2)\n",
    "    return L1"
   ]
  },
  {
   "cell_type": "code",
   "execution_count": 10,
   "metadata": {},
   "outputs": [
    {
     "data": {
      "text/plain": [
       "[[0, 0],\n",
       " [1, 0],\n",
       " [2, 0],\n",
       " [3, 0],\n",
       " [4, 0],\n",
       " [5, 0],\n",
       " [6, 0],\n",
       " [7, 0],\n",
       " [8, 0],\n",
       " [9, 0],\n",
       " [10, 0]]"
      ]
     },
     "execution_count": 10,
     "metadata": {},
     "output_type": "execute_result"
    }
   ],
   "source": [
    "pruebita5(2,10)"
   ]
  },
  {
   "cell_type": "markdown",
   "metadata": {},
   "source": [
    "Si se asigna sin el copy, en la forma L2 = L1[-1], se está cambiando también  en la lista de listas $L1$. El motivo es que $L2$ es una variable que se refiere a las mismas posiciones de memoria que $L1[-1]$, y cualquier cambio hecho sobre $L2$ afecta a $L1$. "
   ]
  },
  {
   "cell_type": "code",
   "execution_count": 11,
   "metadata": {
    "collapsed": true
   },
   "outputs": [],
   "source": [
    "def pruebita6(n,N):\n",
    "    L1 = [[0]*n]\n",
    "    for int in xsrange(N):\n",
    "        L2 = L1[-1]\n",
    "        print L2\n",
    "        L2[0] += 1\n",
    "        print L2\n",
    "        L1.append(L2)\n",
    "        print L1\n",
    "        print (\"====================================\")\n",
    "    return L1"
   ]
  },
  {
   "cell_type": "code",
   "execution_count": 12,
   "metadata": {},
   "outputs": [
    {
     "name": "stdout",
     "output_type": "stream",
     "text": [
      "[0, 0]\n",
      "[1, 0]\n",
      "[[1, 0], [1, 0]]\n",
      "====================================\n",
      "[1, 0]\n",
      "[2, 0]\n",
      "[[2, 0], [2, 0], [2, 0]]\n",
      "====================================\n",
      "[2, 0]\n",
      "[3, 0]\n",
      "[[3, 0], [3, 0], [3, 0], [3, 0]]\n",
      "====================================\n",
      "[3, 0]\n",
      "[4, 0]\n",
      "[[4, 0], [4, 0], [4, 0], [4, 0], [4, 0]]\n",
      "====================================\n",
      "[4, 0]\n",
      "[5, 0]\n",
      "[[5, 0], [5, 0], [5, 0], [5, 0], [5, 0], [5, 0]]\n",
      "====================================\n",
      "[5, 0]\n",
      "[6, 0]\n",
      "[[6, 0], [6, 0], [6, 0], [6, 0], [6, 0], [6, 0], [6, 0]]\n",
      "====================================\n",
      "[6, 0]\n",
      "[7, 0]\n",
      "[[7, 0], [7, 0], [7, 0], [7, 0], [7, 0], [7, 0], [7, 0], [7, 0]]\n",
      "====================================\n",
      "[7, 0]\n",
      "[8, 0]\n",
      "[[8, 0], [8, 0], [8, 0], [8, 0], [8, 0], [8, 0], [8, 0], [8, 0], [8, 0]]\n",
      "====================================\n",
      "[8, 0]\n",
      "[9, 0]\n",
      "[[9, 0], [9, 0], [9, 0], [9, 0], [9, 0], [9, 0], [9, 0], [9, 0], [9, 0], [9, 0]]\n",
      "====================================\n",
      "[9, 0]\n",
      "[10, 0]\n",
      "[[10, 0], [10, 0], [10, 0], [10, 0], [10, 0], [10, 0], [10, 0], [10, 0], [10, 0], [10, 0], [10, 0]]\n",
      "====================================\n"
     ]
    },
    {
     "data": {
      "text/plain": [
       "[[10, 0],\n",
       " [10, 0],\n",
       " [10, 0],\n",
       " [10, 0],\n",
       " [10, 0],\n",
       " [10, 0],\n",
       " [10, 0],\n",
       " [10, 0],\n",
       " [10, 0],\n",
       " [10, 0],\n",
       " [10, 0]]"
      ]
     },
     "execution_count": 12,
     "metadata": {},
     "output_type": "execute_result"
    }
   ],
   "source": [
    "pruebita6(2,10)"
   ]
  },
  {
   "cell_type": "code",
   "execution_count": null,
   "metadata": {
    "collapsed": true
   },
   "outputs": [],
   "source": []
  }
 ],
 "metadata": {
  "kernelspec": {
   "display_name": "SageMath 8.0",
   "language": "",
   "name": "sagemath"
  },
  "language_info": {
   "codemirror_mode": {
    "name": "ipython",
    "version": 2
   },
   "file_extension": ".py",
   "mimetype": "text/x-python",
   "name": "python",
   "nbconvert_exporter": "python",
   "pygments_lexer": "ipython2",
   "version": "2.7.13"
  }
 },
 "nbformat": 4,
 "nbformat_minor": 1
}
