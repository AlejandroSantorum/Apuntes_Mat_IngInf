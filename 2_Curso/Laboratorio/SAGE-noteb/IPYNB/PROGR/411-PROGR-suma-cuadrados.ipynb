{
 "cells": [
  {
   "cell_type": "code",
   "execution_count": 2,
   "metadata": {},
   "outputs": [],
   "source": [
    "def cuadrado(n):\n",
    "    return n*n"
   ]
  },
  {
   "cell_type": "code",
   "execution_count": 3,
   "metadata": {},
   "outputs": [],
   "source": [
    "def F(n):\n",
    "    L = (n).digits()\n",
    "    return sum(map(cuadrado,L))"
   ]
  },
  {
   "cell_type": "code",
   "execution_count": 4,
   "metadata": {},
   "outputs": [
    {
     "data": {
      "text/plain": [
       "5"
      ]
     },
     "execution_count": 4,
     "metadata": {},
     "output_type": "execute_result"
    }
   ],
   "source": [
    "F(102)"
   ]
  },
  {
   "cell_type": "code",
   "execution_count": 5,
   "metadata": {},
   "outputs": [],
   "source": [
    "def orbita0(n,N):\n",
    "    L = [n]\n",
    "    for _ in xsrange(N):\n",
    "        n = F(n)\n",
    "        L.append(n)\n",
    "    return L"
   ]
  },
  {
   "cell_type": "code",
   "execution_count": 6,
   "metadata": {},
   "outputs": [
    {
     "data": {
      "text/plain": [
       "[[150, 26, 40, 16, 37, 58, 89, 145, 42, 20, 4, 16, 37, 58, 89, 145],\n",
       " [151, 27, 53, 34, 25, 29, 85, 89, 145, 42, 20, 4, 16, 37, 58, 89],\n",
       " [152, 30, 9, 81, 65, 61, 37, 58, 89, 145, 42, 20, 4, 16, 37, 58],\n",
       " [153, 35, 34, 25, 29, 85, 89, 145, 42, 20, 4, 16, 37, 58, 89, 145],\n",
       " [154, 42, 20, 4, 16, 37, 58, 89, 145, 42, 20, 4, 16, 37, 58, 89],\n",
       " [155, 51, 26, 40, 16, 37, 58, 89, 145, 42, 20, 4, 16, 37, 58, 89],\n",
       " [156, 62, 40, 16, 37, 58, 89, 145, 42, 20, 4, 16, 37, 58, 89, 145],\n",
       " [157, 75, 74, 65, 61, 37, 58, 89, 145, 42, 20, 4, 16, 37, 58, 89],\n",
       " [158, 90, 81, 65, 61, 37, 58, 89, 145, 42, 20, 4, 16, 37, 58, 89],\n",
       " [159, 107, 50, 25, 29, 85, 89, 145, 42, 20, 4, 16, 37, 58, 89, 145],\n",
       " [160, 37, 58, 89, 145, 42, 20, 4, 16, 37, 58, 89, 145, 42, 20, 4],\n",
       " [161, 38, 73, 58, 89, 145, 42, 20, 4, 16, 37, 58, 89, 145, 42, 20],\n",
       " [162, 41, 17, 50, 25, 29, 85, 89, 145, 42, 20, 4, 16, 37, 58, 89],\n",
       " [163, 46, 52, 29, 85, 89, 145, 42, 20, 4, 16, 37, 58, 89, 145, 42],\n",
       " [164, 53, 34, 25, 29, 85, 89, 145, 42, 20, 4, 16, 37, 58, 89, 145],\n",
       " [165, 62, 40, 16, 37, 58, 89, 145, 42, 20, 4, 16, 37, 58, 89, 145],\n",
       " [166, 73, 58, 89, 145, 42, 20, 4, 16, 37, 58, 89, 145, 42, 20, 4],\n",
       " [167, 86, 100, 1, 1, 1, 1, 1, 1, 1, 1, 1, 1, 1, 1, 1],\n",
       " [168, 101, 2, 4, 16, 37, 58, 89, 145, 42, 20, 4, 16, 37, 58, 89],\n",
       " [169, 118, 66, 72, 53, 34, 25, 29, 85, 89, 145, 42, 20, 4, 16, 37]]"
      ]
     },
     "execution_count": 6,
     "metadata": {},
     "output_type": "execute_result"
    }
   ],
   "source": [
    "[orbita0(n,15) for n in srange(150,170)]"
   ]
  },
  {
   "cell_type": "markdown",
   "metadata": {},
   "source": [
    "<p><span style=\"color: #ff0000;\">Parece que todas las &oacute;rbitas llegan al $4$ o bien al $1$. &iquest;Es &eacute;sto cierto?</span></p>"
   ]
  },
  {
   "cell_type": "code",
   "execution_count": 7,
   "metadata": {},
   "outputs": [],
   "source": [
    "def orbita(n):\n",
    "    L = [n]\n",
    "    while n != 4 and n != 1:\n",
    "        n = F(n)\n",
    "        L.append(n)\n",
    "    return L"
   ]
  },
  {
   "cell_type": "code",
   "execution_count": 8,
   "metadata": {},
   "outputs": [
    {
     "data": {
      "text/plain": [
       "[99, 162, 41, 17, 50, 25, 29, 85, 89, 145, 42, 20, 4]"
      ]
     },
     "execution_count": 8,
     "metadata": {},
     "output_type": "execute_result"
    }
   ],
   "source": [
    "orbita(99)"
   ]
  },
  {
   "cell_type": "code",
   "execution_count": 9,
   "metadata": {},
   "outputs": [
    {
     "data": {
      "text/plain": [
       "Time: CPU 0.55 s, Wall: 0.55 s"
      ]
     },
     "execution_count": 9,
     "metadata": {},
     "output_type": "execute_result"
    }
   ],
   "source": [
    "time L = [len(orbita(n)) for n in xsrange(1,10^4)]"
   ]
  },
  {
   "cell_type": "code",
   "execution_count": 10,
   "metadata": {},
   "outputs": [
    {
     "data": {
      "text/plain": [
       "Time: CPU 5.07 s, Wall: 5.07 s"
      ]
     },
     "execution_count": 10,
     "metadata": {},
     "output_type": "execute_result"
    }
   ],
   "source": [
    "time L = [len(orbita(n)) for n in xsrange(10^4,10^5)]"
   ]
  },
  {
   "cell_type": "code",
   "execution_count": 11,
   "metadata": {},
   "outputs": [
    {
     "data": {
      "text/plain": [
       "Time: CPU 51.59 s, Wall: 51.60 s"
      ]
     },
     "execution_count": 11,
     "metadata": {},
     "output_type": "execute_result"
    }
   ],
   "source": [
    "time L = [len(orbita(n)) for n in xsrange(10^5,10^6)]"
   ]
  },
  {
   "cell_type": "markdown",
   "metadata": {},
   "source": [
    "<p>La diferencia fundamental entre este problema y el de Collatz es que aqu&iacute; la funci&oacute;n tiende a crear una sucesi&oacute;n decreciente de iteraciones, es decir, para casi todos los valores de $n$, se verifica $n>F(n)$. Comprobemos: &nbsp;</p>"
   ]
  },
  {
   "cell_type": "code",
   "execution_count": 12,
   "metadata": {},
   "outputs": [],
   "source": [
    "def buscador(N):\n",
    "    for j in xsrange(5,N):\n",
    "        if F(j)>j:\n",
    "            print j"
   ]
  },
  {
   "cell_type": "code",
   "execution_count": 13,
   "metadata": {},
   "outputs": [
    {
     "data": {
      "text/plain": [
       "5\n",
       "6\n",
       "7\n",
       "8\n",
       "9\n",
       "14\n",
       "15\n",
       "16\n",
       "17\n",
       "18\n",
       "19\n",
       "25\n",
       "26\n",
       "27\n",
       "28\n",
       "29\n",
       "36\n",
       "37\n",
       "38\n",
       "39\n",
       "46\n",
       "47\n",
       "48\n",
       "49\n",
       "56\n",
       "57\n",
       "58\n",
       "59\n",
       "66\n",
       "67\n",
       "68\n",
       "69\n",
       "76\n",
       "77\n",
       "78\n",
       "79\n",
       "85\n",
       "86\n",
       "87\n",
       "88\n",
       "89\n",
       "94\n",
       "95\n",
       "96\n",
       "97\n",
       "98\n",
       "99"
      ]
     },
     "execution_count": 13,
     "metadata": {},
     "output_type": "execute_result"
    }
   ],
   "source": [
    "buscador(10^6)"
   ]
  },
  {
   "cell_type": "markdown",
   "metadata": {},
   "source": [
    "<p>Parece claro que para $n\\ge 100$ se verifica $n>F(n)$, de forma que podemos separar el problema en dos partes:</p>\n",
    "<ol>\n",
    "<li>Si $n\\ge 100$ debemos demostrar que $n>F(n)$. <span style=\"color: #ff0000;\">Puede encontrase una demostraci&oacute;n en el PDF \"sumas-cuadrados.pdf\"</span> en la carpeta \"PDFs/PROGR/\".</li>\n",
    "<li>Para $n\\le 99$ utilizamos el ordenador para ver que todas las &oacute;rbitas llegan al $1$ o al $4$ (&eacute;sto ya est&aacute; comprobado porque la funci&oacute;n $orbita$ no entra en un bucle infinito en el intervalo $[1,99].$</li>\n",
    "</ol>"
   ]
  },
  {
   "cell_type": "code",
   "execution_count": null,
   "metadata": {
    "collapsed": true
   },
   "outputs": [],
   "source": []
  }
 ],
 "metadata": {
  "kernelspec": {
   "display_name": "SageMath 8.0",
   "language": "",
   "name": "sagemath"
  },
  "language_info": {
   "codemirror_mode": {
    "name": "ipython",
    "version": 2
   },
   "file_extension": ".py",
   "mimetype": "text/x-python",
   "name": "python",
   "nbconvert_exporter": "python",
   "pygments_lexer": "ipython2",
   "version": "2.7.13"
  }
 },
 "nbformat": 4,
 "nbformat_minor": 1
}
