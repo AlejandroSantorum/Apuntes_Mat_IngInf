{
 "cells": [
  {
   "cell_type": "markdown",
   "metadata": {},
   "source": [
    "**En estos ejercicios hay que determinar las probabilidades pedidas mediante simulación, pero también es interesante resolver el ejercicio teóricamente y comparar el resultado.**\n",
    "\n",
    "#### Ejercicio 1\n",
    "\n",
    "Supongamos una familia con dos hijos y uno de ellos es un chico. Calcula la probabilidad de que los dos hijos sean chicos."
   ]
  },
  {
   "cell_type": "code",
   "execution_count": null,
   "metadata": {
    "collapsed": true
   },
   "outputs": [],
   "source": []
  },
  {
   "cell_type": "markdown",
   "metadata": {},
   "source": [
    "#### Ejercicio 2\n",
    "\n",
    "Supongamos una familia con dos hijos y el menor es una chica. Calcula la probabilidad de que los dos hijos sean chicas."
   ]
  },
  {
   "cell_type": "code",
   "execution_count": null,
   "metadata": {
    "collapsed": true
   },
   "outputs": [],
   "source": []
  },
  {
   "cell_type": "markdown",
   "metadata": {},
   "source": [
    "#### Ejercicio 3\n",
    "\n",
    "Un juego de azar, con dos jugadores $A$ y $B$, es *justo* si el premio de $A$ por la probabilidad de que $A$ gane es igual al premio de $B$ por la probabilidad de que $B$ gane. Si el juego es justo y se juega un número muy grande de veces es muy probable que los dos jugadores terminen con ganancia prácticamente cero. \n",
    "\n",
    "Supongamos la siguiente  apuesta de casino: se lanza una moneda $1000$ veces y si aparecen $10$ caras seguidas el jugador gana mientras que si no aparecen el casino gana. Si el casino pide que el jugador apueste $1$ euro para poder jugar, ¿cuál debe ser el premio para el jugador si el juego es justo?\n",
    "\n",
    "*Los juegos de azar en los casinos nunca son justos,  ya que si el casino no gana grandes cantidades de dinero, que los jugadores pierden, cerraría.*\n",
    "\n"
   ]
  },
  {
   "cell_type": "code",
   "execution_count": null,
   "metadata": {
    "collapsed": true
   },
   "outputs": [],
   "source": []
  },
  {
   "cell_type": "markdown",
   "metadata": {},
   "source": [
    "#### Ejercicio 4\n",
    "\n",
    "El jugador $A$ lanza un dado y el jugador $B$ dos dados. Si $A$ consigue un número mayor o igual al máximo obtenido por $B$ entonces gana $A$, y en caso contrario gana $B$. ¿Cuál es la probabilidad de que gane $B$?"
   ]
  },
  {
   "cell_type": "code",
   "execution_count": null,
   "metadata": {
    "collapsed": true
   },
   "outputs": [],
   "source": []
  },
  {
   "cell_type": "markdown",
   "metadata": {},
   "source": [
    "#### Ejercicio 5\n",
    "\n",
    "Consideramos el siguiente 'juego': inicialmente hay $n$ jugadores  y en cada fase del juego cada jugador vivo elige **al azar** otro jugador vivo, distinto de sí mismo,  y lo mata.  El juego se repite hasta que queda un único jugador, *el elegido del destino*, o bien ninguno. En principio, es perfectamente posible que el juego se juegue una única vez.\n",
    "\n",
    "1) Estima, con dos cifras decimales 'correctas',  la probabilidad de que, partiendo de  $n=100$ jugadores, haya un superviviente. Como se indicó en clase, entendemos que que son cifras decimales 'correctas' las que no cambian cuando se incrementa suficientemente el número $N$ de 'casos posibles'.\n",
    "\n",
    "2) ¿Qué probabilidad tengo, si decido jugar con otros $99$ jugadores,  de ser yo el *elegido del destino*? Modifica el programa del apartado anterior para estimar la probabilidad y explica el resultado obtenido.\n",
    "\n",
    "3) Ahora queremos estudiar la duración del juego. Para eso debemos  calcular *promedios* de la duración. Define una función *promedio(n,N)* que calcule el promedio y la desviación estándar de la duración con $n$ jugadores iniciales y $N$ repeticiones del juego. Evalúa *promedio(100,10^5)* y comenta los resultados obtenidos.\n",
    "\n",
    "4) Finalmente, estudia la variación de los promedios al variar $n$ entre $10$ y $200$ saltando de $10$ en $10$. Realiza un gráfico de los resultados y analiza la dependencia funcional (el promedio como función de $n$). En este cuarto apartado probablemente tendrás que **elegir con más cuidado un $N$** (el número de repeticiones del juego utilizadas para calcular cada promedio) **adecuado**  dadas las capacidades bastante limitadas de las máquinas que usamos. "
   ]
  },
  {
   "cell_type": "code",
   "execution_count": null,
   "metadata": {
    "collapsed": true
   },
   "outputs": [],
   "source": []
  },
  {
   "cell_type": "markdown",
   "metadata": {},
   "source": [
    "#### Ejercicio 6\n",
    "\n",
    "Estudiamos  un modelo llamado \"perros y pulgas\", o también de las \"urnas de Ehrenfest\".  Este modelo es de gran interés en la Física de sistemas con un gran número de partículas (mecánica estadística). \n",
    "\n",
    "Suponemos dos perros $A$ y $B$ tales que en el instante $t=0$ $A$ tiene $n$ pulgas (numeradas de $0$ a $n-1$) y $B$ ninguna.  Los perros están durmiendo uno al lado del otro y las pulgas pueden saltar de uno a otro sin problema. La regla de evolución del sistema es la siguiente: Si en el instante $t$, $L_A(t)$  y $L_B(t)$ son las listas de pulgas en $A$ y $B$, elegimos un entero aleatorio en el intervalo cerrado  $[0,n-1]$ y la pulga que lleva ese número salta cambiando de perro. Así obtenemos las nuevas listas $L_A(t+1)$  y $L_B(t+1)$ que determinan el estado del sistema en el instante $t+1$ (el tiempo es, como en otros ejemplos que hemos considerado,  discreto $t=0,1,2,3,\\dots$).  \n",
    "\n",
    "A) En primer lugar programa una función $siguiente(n,L_A,L_B)$ que reciba el estado del sistema en un instante  y devuelva el estado en el siguiente. \n",
    "\n",
    "B) Realiza un gráfico que represente, comenzando con $1000$ pulgas en $A$,  la evolución temporal del número de pulgas en $B$.  Debe observarse claramente la estabilización del número de pulgas, y, a partir de ese momento, oscilaciones pequeñas.\n",
    "\n",
    "C) Cambia la función del apartado $A$ por otra,  $siguiente1(n,n_B)$,  que únicamente tenga en cuenta el número de pulgas en el perro $B$, ya que todas las demás están en el perro $A$. A fin de cuentas, ¿qué nos importa cómo se llama la pulga que ha saltado al pasar del instante $t$ al $t+1$? Nos debe bastar con saber cuántas pulgas hay en cada perro, y el comportamiento del sistema debe ser el mismo que con  la versión en el apartado A).  Repite el gráfico del apartado B) y comprueba que se obtiene, esencialmente, el mismo.\n",
    "\n",
    "D) Estudia ahora la siguiente variante del modelo: para pasar del estado $t$ al $t+1$:\n",
    "\n",
    "1) Elegimos aleatoriamente uno de los dos perros. \n",
    "\n",
    "2) Cada perro tiene una probabilidad,  $p_A$ o $p_B$ que no cambia, de que una pulga salte al otro.\n",
    "\n",
    "3) Cuando un perro ha sido elegido en el sorteo realizado en 1) y tiene pulgas, una pulga salta al otro perro con probabilidad  $p_A$, si se trata del perro $A$, o $p_B$ si el elegido es $B$.\n",
    "\n",
    "¿Se estabiliza el número de pulgas en cada perro? A largo plazo, ¿qué se obtiene para el número de pulgas en $B$? La respuesta dependerá de los valores de $p_A$ y $p_B$ utilizados, y para responder se pueden realizar gráficos con diferentes valores de las probablidades.\n"
   ]
  },
  {
   "cell_type": "code",
   "execution_count": null,
   "metadata": {
    "collapsed": true
   },
   "outputs": [],
   "source": []
  },
  {
   "cell_type": "markdown",
   "metadata": {},
   "source": [
    "#### Ejercicio 7\n",
    "\n",
    "Supongamos una baraja de cartas inicialmente ordenada. Conocemos, con absoluta certeza, dónde está cada carta de la baraja. Cuando empezamos a barajar la incertidumbre va aumentando, y queremos estudiar este proceso de \"aumento de incertidumbre\".  Representamos el estado inicial de la baraja de $n$ cartas mediante la lista $srange(n)$, y cualquier estado mediante una reordenación de esta lista.\n",
    "\n",
    "A) Define una función $barajar(L)$ que reciba una lista, que representa un estado de la baraja, y devuelva la lista $L$ barajada una única vez de acuerdo al siguiente algoritmo:\n",
    "    \n",
    "    1) Producimos, aleatoriamente con igual probabilidad de cero o uno,  una lista $LA$  de ceros y unos de longitud $n$. Sea $k$ el número de ceros que hemos obtenido.\n",
    "    \n",
    "    2) Llamemos $L1$ a la sublista de $L$ formada por los primeros $k$ elementos de $L$ y $L2$ al resto de $L$.\n",
    "    \n",
    "    3) Sea $L3$, inicialmente una lista vacía, la lista en la que vamos a guardar la reordenación de la lista $L$. Recorremos la lista $LA$ y cada vez que encontramos un cero pasamos el primer elemento de la lista $L1$ a $L3$, y cada vez que encontramos un $1$ pasamos el primer elemento de $L2$ a $L3$.\n",
    "    \n",
    "    4) Al terminar devolvemos $L3$. Se llama a esta forma de barajar *riffle shuffle*.\n",
    "\n",
    "B) ¿Qué es un estado del sistema en este caso? Podríamos decir que es una permutación de la lista $srange(n)$, pero en nuestra situación de incertidumbre acerca de la ordenación obtenida después de barajar es mejor decir que *un estado del sistema es una distribución de probabilidad sobre el conjunto de las $n!$ reordenaciones de la lista*, y, más concretamente, *una lista de $n!$ reales positivos $p_i$ tales que su suma total es $1$*. \n",
    "\n",
    "En el estado inicial de la baraja podemos suponer que el estado es $[1,0,0,\\dots,0,0]$, y cualquier estado sobre el que no hay incertidumbre tendría un $1$ en algún lugar y el resto serían ceros. En cambio, si barajamos, una o varias veces, y no miramos la ordenación obtenida el estado es una distribución de probabilidad que nos dice cómo de probable es cada reordenación.\n",
    " \n",
    " C) ¿Cómo se mide la cantidad de información? Claude Shannon, creador en 1948 de la teoría de la información, llegó a una solución que ya era conocida en física con el nombre de *entropía*. Concretamente, si $L$ es una lista que representa una distribución de probablidad sobre $N$ objetos, definió su cantidad promedio de información en bits $I(L)$ en la forma\n",
    " $$I(L)=-\\sum_{p_i\\in L}p_ilog_2(p_i),$$\n",
    " de forma que un estado seguro (sin incertidumbre alguna)  tiene una cantidad de información nula.\n",
    " \n",
    " D) Como $n!$ crece bestialmente con $n$, no es posible realizar el experimento que propongo con una baraja real de $52$ cartas. Tomamos entonces $n=7$, y se trata de averiguar, mediante un experimento adecuadamente planeado,    cuántas veces debemos barajar hasta que  el contenido de información del estado  resultante (la incertidumbre) es  máximo. En ese momento podremos decir que *``la baraja ha sido bien barajada''*.\n"
   ]
  },
  {
   "cell_type": "code",
   "execution_count": null,
   "metadata": {
    "collapsed": true
   },
   "outputs": [],
   "source": []
  },
  {
   "cell_type": "markdown",
   "metadata": {},
   "source": [
    "#### Ejercicio 8\n",
    "\n",
    "Hemos visto que es posible estimar el área de un disco unidad *lanzando dardos al cuadrado unidad y contando los que caen dentro del disco*. El mismo procedimiento permite, en principio,  estimar el volumen de la hiperesfera $\\mathbb{B}_n$  de radio $1$ en $\\mathbb{R}^n$ (i.e. el conjunto de puntos de coordenadas $(x_1,x_2,\\dots,x_n)\\in \\mathbb{R}^n$ tales que $x_1^2+x_2^2+\\dots+x_n^2\\le 1$), pero los volúmenes que vamos obteniendo al incrementar $n$ son cada vez más pequeños y bastante pronto obtenemos cero como respuesta. \n",
    "\n",
    "Ésto se debe a que, cuando $n$ es grande, muy pocos dardos caen dentro de la hiperesfera debido a que ocupa muy poco volumen con respecto al volumen, $2^n$,  del hipercubo unidad $[-1,1]^n$. En este ejercicio vemos una manera distinta de *lanzar dardos*, que nos va a asegurar que suficientes caen dentro de la hiperesfera. Denotemos por $V(n)$ el volumen de $\\mathbb{B}_n$, que es lo que  queremos calcular. \n",
    "\n",
    "#### Descripción del método\n",
    "\n",
    "1) El *truco básico* consiste en considerar la hiperesfera de dimensión $n$  dentro del hipercilindro $\\mathbb{C}_n:=\\mathbb{B}_{n-1}\\times [-1,1]$, en lugar de dentro del hipercubo $[-1,1]^n$.  El volumen del hipercilindro es, gracias al teorema de Fubini del cálculo integral, igual al volumen de $\\mathbb{B}_{n-1}$ multiplicado por dos. \n",
    "\n",
    "2) En segundo lugar  observamos que para  obtener puntos aleatorios en el hipercilindro $\\mathbb{C}_n$ basta generar puntos aleatorios $(x_1,x_2,\\dots,x_{n-1})\\in \\mathbb{B}_{n-1}$ en la hiperesfera de dimensión $n-1$ y para cada uno producir un real aleatorio $x_n$ en el intervalo $[-1,1]$. \n",
    "\n",
    "3) Para que esto funcione debemos encontrar una **manera eficiente** de generar puntos aleatorios en la hiperesfera $\\mathbb{B}_{n-1}$,  y el método que vamos a usar se llama de  *cadena de Markov* (una especie de *paseo aleatorio generalizado*):\n",
    "\n",
    "A) El primer punto de la cadena $\\mathbf{x}_0$ es, por ejemplo,  el origen de coordenadas.\n",
    "    \n",
    "B) Para cada punto $\\mathbf{x}_t=(x_1,x_2,\\dots,x_{n-1})\\in \\mathbb{B}_{n-1}$  obtenemos un nuevo punto $\\mathbf{x}_{t+1}$ eligiendo una coordenada al azar, supongamos que hemos obtenido $x_i$,  y un real aleatorio $\\Delta$ en el  intervalo $[-\\delta,\\delta]$. Entonces, cambiamos $x_i$ por $x_i+\\Delta$ en $\\mathbf{x}$ y si todavía estamos dentro de la hiperesfera ese es el nuevo punto $\\mathbf{x}_{t+1}$ en la cadena. Si al hacer el cambio nos vamos fuera de la hiperesfera dejamos $\\mathbf{x}_{t+1}:=\\mathbf{x}_{t}$. \n",
    "\n",
    "C) La cadena $\\{\\mathbf{x}_0,\\mathbf{x}_1,\\dots,\\mathbf{x}_t,\\dots,\\mathbf{x}_N\\}$ es entonces un conjunto de $N+1$ puntos, todos en la hiperesfera $\\mathbb{B}_{n-1}$, y se puede demostrar que, para $N$ suficientemente grande,  están uniformemente distribuidos en la hiperesfera. \n",
    "\n",
    "4) Después de estos preparativos podemos ya plantear el cálculo del volumen  $V(n)$ de la hiperesfera $\\mathbb{B}_n$: \n",
    "\n",
    "Generamos un número muy grande $N$ de puntos en la hiperesfera de dimensión $n-1$, usando el apartado 3),  y para cada uno de ellos vamos calculando un punto en el hipercilindro, como en el apartado 2). Si el punto obtenido en el hipercilindro cae dentro de la hiperesfera  de dimensión $n$, $\\mathbb{B}_n$,  incrementamos un contador, al que por ejemplo hemos llamado *dentro*. \n",
    "\n",
    "La fracción $dentro/N$, calculada después de haber generado $N$ puntos del hipercilindro,   es aproximadamente igual al cociente de volúmenes $V(n)/(2V(n-1))$ (volumen de la hiperesfera dividido por volumen del hipercilindro). \n",
    "\n",
    "Entonces, podemos reducir el cálculo  de $V(n)$ al de $V(n-1)$, el de $V(n-1)$ al de $V(n-2)$, etc., hasta llegar al volumen de la hiperesfera en dimensión $1$ que es igual a dos. \n",
    "\n",
    "\n",
    "\n",
    "#### Ejercicios\n",
    "\n",
    "2.1) Define las funciones necesarias para implementar esta forma, *Monte Carlo con cadenas de Markov*,  de calcular $V(n).$\n",
    "\n",
    "2.2) El volumen exacto de una hiperesfera se puede calcular mediante integrales, y se obtiene una fórmula que se indica en la celda siguiente:\n"
   ]
  },
  {
   "cell_type": "code",
   "execution_count": null,
   "metadata": {
    "collapsed": true
   },
   "outputs": [],
   "source": [
    "def Vol_exacto(dim):\n",
    "    return (pi**(dim/2.0)/gamma(dim/2.0+1.0)).n()"
   ]
  },
  {
   "cell_type": "code",
   "execution_count": null,
   "metadata": {
    "collapsed": true
   },
   "outputs": [],
   "source": []
  },
  {
   "cell_type": "markdown",
   "metadata": {},
   "source": [
    "#### Ejercicio 9\n",
    "\n",
    "<p>Supongamos que para cubrir un puesto de trabajo hay $n$ candidatos que deben <br />ser entrevistados para decidir cu&aacute;l de ellos obtendr&aacute; el puesto. Las <br />condiciones del problema son las siguientes:</p>\n",
    "<ol>\n",
    "<li>El n&uacute;mero $n$ de candidatos es conocido al comenzar el proceso de selecci&oacute;n.</li>\n",
    "<li>Si entrevist&aacute;ramos a todos los candidatos los podr&iacute;amos ordenar de mejor a peor sin empates.&nbsp;</li>\n",
    "<li>Los candidatos son entrevistados de uno en uno y en orden aleatorio, con cada una de las $n!$ posibles ordenaciones elegida con probabilidad $1/n!.$</li>\n",
    "<li>\n",
    "<p>Despu&eacute;s de cada entrevista el candidato es aceptado o rechazado, y esta decisi&oacute;n es irrevocable.</p>\n",
    "</li>\n",
    "<li>\n",
    "<p>La estrategia que utilizamos consiste en entrevistar a un cierto n&uacute;mero $r<n$ de candidatos y elegir al siguiente entrevistado que es mejor que los $r$ primeros. Si no existe elegimos al &uacute;ltimo aunque no ser&aacute; el mejor. &nbsp;Se puede demostrar que esta estrategia es &oacute;ptima.&nbsp;</p>\n",
    "</li>\n",
    "</ol>\n",
    "<p><span style=\"color: #ff0000;\">Define una funci&oacute;n $probabilidad(n,N)$</span> que nos devuelva el valor de $r$ que hace m&aacute;xima la probabilidad de elegir al mejor candidato cuando hay $n$ candidatos y la probabilidad m&aacute;xima obtenida. El segundo par&aacute;metro $N$ es el el n&uacute;mero de vueltas del bucle que usamos para calcular (experimentalmente) las probabilidades, &nbsp;y debe ser suficientemente grande para que las probabilidades tengan, al menos, un par de decimales \"correctos\" y no tan grande que el programa tarde demasiado. Cuando $n$ tiende a infinito, <span style=\"color: #ff0000;\">&iquest;qu&eacute; l&iacute;mite parece tener la probabilidad m&aacute;xima?&nbsp;</span></p>\n",
    "<p>Representamos cada repetici&oacute;n del experimento \"se presentan $n$ candidatos en orden aleatorio\" como una permutaci&oacute;n aleatoria de los enteros $1,2,3,\\dots,n$ y suponemos que $n$ es el mejor y $1$ el peor.&nbsp;</p>"
   ]
  },
  {
   "cell_type": "code",
   "execution_count": null,
   "metadata": {
    "collapsed": true
   },
   "outputs": [],
   "source": []
  },
  {
   "cell_type": "markdown",
   "metadata": {},
   "source": [
    "#### Ejercicio 10\n",
    "\n",
    "Consideramos un tablero infinito (en la pr&aacute;ctica ser&aacute; muy grande porque infinito no lo podemos hacer en el ordenador) bidimensional que representamos mediante los puntos de coordenadas enteras del cuadrado $T_N:=[0,2N]\\times[0,2N]\\subset \\mathbb{R}^2$ . El estado del tablero es entonces una matriz cuadrada de ceros y unos cuyos &iacute;ndices van de $0$ a $2N$. En el instante $t=0$ &nbsp;la &uacute;nica casilla negra es la central correspondiente al punto $(N,N)$. En cada instante de tiempo $t$ llamamos $X_t$ al conjunto de todas las casillas negras en ese instante y $V_t$ al conjunto de todas las casillas blancas que comparten un lado con una casilla negra. &nbsp;Obtenemos $X_{t+1}$ eligiendo al azar una casilla de $V_t$ y cambiando su color a negro.&nbsp;</p>\n",
    "<p>Nos interesa estudiar el aspecto de $X_t$ para $t$ muy grande (por ejemplo, $t=10^5,10^6$). &nbsp;<span style=\"color: #ff0000;\">Define una funci&oacute;n $tablero(t,N)$</span>&nbsp;(teniendo <span style=\"color: #ff0000;\">cuidado</span> de no saturar la RAM) que devuelva un estado&nbsp;$X_t$ del tablero obtenido mediante las reglas indicadas. <span style=\"color: #ff0000;\">Representa gr&aacute;ficamente</span> el tablero devuelto por la funci&oacute;n. El tama&ntilde;o del tablero debe ser suficientemente grande para que quede una zona totalmente blanca cerca del borde del tablero. <span style=\"color: #ff0000;\">Compara las gr&aacute;ficas</span> para $t=100,200,300,1000$ con las que se obtienen para $t$ muy grande, &iquest;qu&eacute; observas?</p>"
   ]
  },
  {
   "cell_type": "code",
   "execution_count": null,
   "metadata": {
    "collapsed": true
   },
   "outputs": [],
   "source": []
  }
 ],
 "metadata": {
  "kernelspec": {
   "display_name": "SageMath 8.0",
   "language": "",
   "name": "sagemath"
  },
  "language_info": {
   "codemirror_mode": {
    "name": "ipython",
    "version": 2
   },
   "file_extension": ".py",
   "mimetype": "text/x-python",
   "name": "python",
   "nbconvert_exporter": "python",
   "pygments_lexer": "ipython2",
   "version": "2.7.13"
  }
 },
 "nbformat": 4,
 "nbformat_minor": 2
}
