{
 "cells": [
  {
   "cell_type": "markdown",
   "metadata": {
    "deletable": true,
    "editable": true
   },
   "source": [
    "<h3>Sin Cython</h3>\n",
    "<p>Este programa genera $N$ enteros aleatorios entre $1$ y $M$, y una vez obtenidos los&nbsp; eleva al cuadrado y devuelve la suma de los cuadrados. Por tanto, calcula el cuadrado de la longitud&nbsp; de un vector aleatorio con coordenadas enteros en el intervalo $[1,M]$.</p>"
   ]
  },
  {
   "cell_type": "code",
   "execution_count": 1,
   "metadata": {
    "collapsed": false,
    "deletable": true,
    "editable": true
   },
   "outputs": [],
   "source": [
    "def cuadrados(N,M):\n",
    "    res = 0\n",
    "    for muda in xrange(N):\n",
    "        x = randint(1,M)\n",
    "        res += x*x\n",
    "    return res"
   ]
  },
  {
   "cell_type": "code",
   "execution_count": 2,
   "metadata": {
    "collapsed": false,
    "deletable": true,
    "editable": true
   },
   "outputs": [
    {
     "name": "stdout",
     "output_type": "stream",
     "text": [
      "CPU times: user 5.61 ms, sys: 263 µs, total: 5.87 ms\n",
      "Wall time: 6.09 ms\n",
      "CPU times: user 44.7 ms, sys: 0 ns, total: 44.7 ms\n",
      "Wall time: 57.6 ms\n",
      "CPU times: user 477 ms, sys: 57.1 ms, total: 534 ms\n",
      "Wall time: 480 ms\n",
      "CPU times: user 4.39 s, sys: 130 ms, total: 4.52 s\n",
      "Wall time: 4.42 s\n",
      "CPU times: user 43.3 s, sys: 403 ms, total: 43.7 s\n",
      "Wall time: 43.4 s\n"
     ]
    }
   ],
   "source": [
    "for n in srange(3,8):\n",
    "    %time A = cuadrados(10^n,10^6)"
   ]
  },
  {
   "cell_type": "markdown",
   "metadata": {
    "deletable": true,
    "editable": true
   },
   "source": [
    "<h3>Con Cython</h3>\n",
    "<p>Mismo c&aacute;lculo:</p>"
   ]
  },
  {
   "cell_type": "code",
   "execution_count": 3,
   "metadata": {
    "collapsed": false,
    "deletable": true,
    "editable": true
   },
   "outputs": [],
   "source": [
    "%%cython\n",
    "import math\n",
    "import random\n",
    "def cuadrados_cy(long long N, long long M):\n",
    "    cdef long long res = 0\n",
    "    cdef long long muda\n",
    "    cdef long long x\n",
    "    for muda in xrange(N):\n",
    "        x = random.randint(1,M)\n",
    "        res += math.pow(x,2)\n",
    "    return res"
   ]
  },
  {
   "cell_type": "code",
   "execution_count": 4,
   "metadata": {
    "collapsed": false,
    "deletable": true,
    "editable": true
   },
   "outputs": [
    {
     "name": "stdout",
     "output_type": "stream",
     "text": [
      "CPU times: user 2.94 ms, sys: 48 µs, total: 2.99 ms\n",
      "Wall time: 2.83 ms\n",
      "CPU times: user 28.7 ms, sys: 34 µs, total: 28.7 ms\n",
      "Wall time: 33.3 ms\n",
      "CPU times: user 259 ms, sys: 24.3 ms, total: 284 ms\n",
      "Wall time: 252 ms\n",
      "CPU times: user 2.47 s, sys: 167 ms, total: 2.64 s\n",
      "Wall time: 2.44 s\n",
      "CPU times: user 22.9 s, sys: 258 ms, total: 23.1 s\n",
      "Wall time: 22.9 s\n"
     ]
    }
   ],
   "source": [
    "for n in srange(3,8):\n",
    "    %time A = cuadrados_cy(10^n,10^6)"
   ]
  },
  {
   "cell_type": "markdown",
   "metadata": {
    "deletable": true,
    "editable": true
   },
   "source": [
    "<h3>Optimizando el c&aacute;lculo de n&uacute;meros aleatorios:</h3>"
   ]
  },
  {
   "cell_type": "code",
   "execution_count": 5,
   "metadata": {
    "collapsed": false,
    "deletable": true,
    "editable": true
   },
   "outputs": [],
   "source": [
    "%%cython\n",
    "\n",
    "cdef extern from 'gsl/gsl_rng.h':\n",
    "   ctypedef struct gsl_rng_type:\n",
    "      pass\n",
    "   ctypedef struct gsl_rng:\n",
    "       pass\n",
    "   gsl_rng_type *gsl_rng_mt19937\n",
    "   gsl_rng *gsl_rng_alloc(gsl_rng_type * T)\n",
    "  \n",
    "cdef gsl_rng *r = gsl_rng_alloc(gsl_rng_mt19937)\n",
    "\n",
    "cdef extern from 'gsl/gsl_randist.h':\n",
    "     long int uniform 'gsl_rng_uniform_int'(gsl_rng * r, unsigned long int n)\n",
    "\n",
    "def main():\n",
    "    cdef int n\n",
    "    n = uniform(r,1000000)\n",
    "    return n\n",
    "\n",
    "cdef long f(long x):\n",
    "    return x**2\n",
    "       \n",
    "import random\n",
    "def cuadrados_cy2(int N):\n",
    "    cdef long res = 0\n",
    "    cdef int muda\n",
    "    for muda in range(N):\n",
    "        res += f(main())\n",
    "    return res"
   ]
  },
  {
   "cell_type": "code",
   "execution_count": 6,
   "metadata": {
    "collapsed": false,
    "deletable": true,
    "editable": true
   },
   "outputs": [
    {
     "name": "stdout",
     "output_type": "stream",
     "text": [
      "CPU times: user 68 µs, sys: 1e+03 ns, total: 69 µs\n",
      "Wall time: 72 µs\n",
      "CPU times: user 568 µs, sys: 0 ns, total: 568 µs\n",
      "Wall time: 511 µs\n",
      "CPU times: user 4.82 ms, sys: 0 ns, total: 4.82 ms\n",
      "Wall time: 4.83 ms\n",
      "CPU times: user 48.1 ms, sys: 0 ns, total: 48.1 ms\n",
      "Wall time: 48.5 ms\n",
      "CPU times: user 479 ms, sys: 0 ns, total: 479 ms\n",
      "Wall time: 479 ms\n"
     ]
    }
   ],
   "source": [
    "for n in srange(3,8):\n",
    "    %time A = cuadrados_cy2(10^n)"
   ]
  },
  {
   "cell_type": "markdown",
   "metadata": {
    "deletable": true,
    "editable": true
   },
   "source": [
    "<h3>Problema similar sin n&uacute;meros aleatorios:</h3>"
   ]
  },
  {
   "cell_type": "code",
   "execution_count": 8,
   "metadata": {
    "collapsed": false,
    "deletable": true,
    "editable": true
   },
   "outputs": [],
   "source": [
    "%%cython\n",
    "def cuadrados_cy3(long long int N):\n",
    "    cdef long long int res = 0\n",
    "    cdef long long int k\n",
    "    for k in range(N):\n",
    "        res += k**2\n",
    "    return res"
   ]
  },
  {
   "cell_type": "code",
   "execution_count": 9,
   "metadata": {
    "collapsed": false,
    "deletable": true,
    "editable": true
   },
   "outputs": [
    {
     "name": "stdout",
     "output_type": "stream",
     "text": [
      "CPU times: user 12 µs, sys: 0 ns, total: 12 µs\n",
      "Wall time: 16.9 µs\n",
      "CPU times: user 16 µs, sys: 1e+03 ns, total: 17 µs\n",
      "Wall time: 20 µs\n",
      "CPU times: user 75 µs, sys: 2 µs, total: 77 µs\n",
      "Wall time: 78 µs\n",
      "CPU times: user 770 µs, sys: 0 ns, total: 770 µs\n",
      "Wall time: 719 µs\n",
      "CPU times: user 7.01 ms, sys: 0 ns, total: 7.01 ms\n",
      "Wall time: 10.2 ms\n"
     ]
    }
   ],
   "source": [
    "for n in srange(3,8):\n",
    "    %time A = cuadrados_cy3(10^n)"
   ]
  },
  {
   "cell_type": "code",
   "execution_count": 10,
   "metadata": {
    "collapsed": false,
    "deletable": true,
    "editable": true
   },
   "outputs": [],
   "source": [
    "def cuadrados5(N):\n",
    "    res = 0\n",
    "    for k in range(N):\n",
    "        res += k**2\n",
    "    return res"
   ]
  },
  {
   "cell_type": "code",
   "execution_count": 11,
   "metadata": {
    "collapsed": false,
    "deletable": true,
    "editable": true
   },
   "outputs": [
    {
     "name": "stdout",
     "output_type": "stream",
     "text": [
      "CPU times: user 643 µs, sys: 0 ns, total: 643 µs\n",
      "Wall time: 487 µs\n",
      "CPU times: user 1.35 ms, sys: 3.95 ms, total: 5.31 ms\n",
      "Wall time: 4.26 ms\n",
      "CPU times: user 25.5 ms, sys: 12 ms, total: 37.4 ms\n",
      "Wall time: 37.4 ms\n",
      "CPU times: user 373 ms, sys: 28.2 ms, total: 402 ms\n",
      "Wall time: 387 ms\n",
      "CPU times: user 3.75 s, sys: 169 ms, total: 3.92 s\n",
      "Wall time: 3.88 s\n"
     ]
    }
   ],
   "source": [
    "for n in srange(3,8):\n",
    "    %time A = cuadrados5(10^n)"
   ]
  },
  {
   "cell_type": "markdown",
   "metadata": {
    "deletable": true,
    "editable": true
   },
   "source": [
    "<p>Hemos comprobado, de dos maneras, que es en la generaci&oacute;n&nbsp; de los n&uacute;meros&nbsp; aleatorios donde Python pasa la mayor parte del tiempo en este c&aacute;lculo. Si optimizamos esa parte, usando una librer&iacute;a en C, o simplemente la suprimimos, el c&aacute;lculo es mucho m&aacute;s r&aacute;pido.&nbsp; Cython pierde much&iacute;sima eficiencia cuando debe ejecutar funciones de Python que son mucho m&aacute;s lentas que las correspondientes funciones en C.</p>"
   ]
  }
 ],
 "metadata": {
  "kernelspec": {
   "display_name": "SageMath 8.0",
   "language": "",
   "name": "sagemath"
  },
  "language_info": {
   "codemirror_mode": {
    "name": "ipython",
    "version": 2
   },
   "file_extension": ".py",
   "mimetype": "text/x-python",
   "name": "python",
   "nbconvert_exporter": "python",
   "pygments_lexer": "ipython2",
   "version": "2.7.13"
  }
 },
 "nbformat": 4,
 "nbformat_minor": 0
}
