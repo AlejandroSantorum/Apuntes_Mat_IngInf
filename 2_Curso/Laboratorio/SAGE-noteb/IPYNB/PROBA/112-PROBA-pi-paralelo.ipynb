{
 "cells": [
  {
   "cell_type": "markdown",
   "metadata": {},
   "source": [
    "<p>C&aacute;lculo aproximado de $\\pi$ contando cuantos puntos aleatorios del  cuadrado $[0,1]\\times[0,1]$, de entre un total de $N$,&nbsp; caen dentro de  la circunferencia de radio unidad,&nbsp; digamos que han caido dentro $N_0$.  El &aacute;rea de un cuarto de circunferencia, $\\pi/4$ es aproximadamente igual  al cociente $N_0/N$:</p>"
   ]
  },
  {
   "cell_type": "code",
   "execution_count": 1,
   "metadata": {
    "collapsed": false
   },
   "outputs": [],
   "source": [
    "def pi(N,rs):\n",
    "    cont = 0\n",
    "    set_random_seed(rs) #Inicializamos el generador de numeros aleatorios\n",
    "    for muda in xsrange(N):\n",
    "        x,y = random(),random() #Coordenadas de un punto aleatorio del cuadrado\n",
    "        if x^2+y^2 <= 1:\n",
    "            cont += 1\n",
    "    return cont"
   ]
  },
  {
   "cell_type": "markdown",
   "metadata": {},
   "source": [
    "<p>Usando un &uacute;nico n&uacute;cleo calcula la aproximaci&oacute;n de $\\pi$ usando $4*10^7$ puntos aleatorios en unos 90 segundos, y el valor de $\\pi$ obtenido tiene 3 cifras decimales correctas.</p>"
   ]
  },
  {
   "cell_type": "code",
   "execution_count": 2,
   "metadata": {
    "collapsed": false
   },
   "outputs": [
    {
     "name": "stdout",
     "output_type": "stream",
     "text": [
      "CPU times: user 1min 10s, sys: 1.24 s, total: 1min 12s\n",
      "Wall time: 1min 10s\n"
     ]
    },
    {
     "data": {
      "text/plain": [
       "31418544"
      ]
     },
     "execution_count": 2,
     "metadata": {},
     "output_type": "execute_result"
    }
   ],
   "source": [
    "time pi(4*10^7,9873223)"
   ]
  },
  {
   "cell_type": "code",
   "execution_count": 3,
   "metadata": {
    "collapsed": false
   },
   "outputs": [
    {
     "data": {
      "text/plain": [
       "3.14185440000000e14"
      ]
     },
     "execution_count": 3,
     "metadata": {},
     "output_type": "execute_result"
    }
   ],
   "source": [
    "((4*31418544)/4*10^7).n()"
   ]
  },
  {
   "cell_type": "markdown",
   "metadata": {},
   "source": [
    "<p>Usando los cuatro n&uacute;cleos (dos n&uacute;cleos reales y cada uno de ellos 2 virtuales), mandamos a cada n&uacute;cleo $10^7$ puntos y obtenemos un tiempo de 54 segundos.</p>"
   ]
  },
  {
   "cell_type": "code",
   "execution_count": 4,
   "metadata": {
    "collapsed": false
   },
   "outputs": [],
   "source": [
    "@parallel(4)\n",
    "def pi_paralelo(N,rs):\n",
    "    cont = 0\n",
    "    set_random_seed(rs)\n",
    "    for muda in xsrange(N):\n",
    "        x,y = random(),random()\n",
    "        if x^2+y^2 <= 1:\n",
    "            cont += 1\n",
    "    return cont"
   ]
  },
  {
   "cell_type": "code",
   "execution_count": 5,
   "metadata": {
    "collapsed": false
   },
   "outputs": [
    {
     "name": "stdout",
     "output_type": "stream",
     "text": [
      "CPU times: user 4 ms, sys: 16 ms, total: 20 ms\n",
      "Wall time: 18.1 s\n"
     ]
    },
    {
     "data": {
      "text/plain": [
       "[(((10000000, 7654), {}), 7854508),\n",
       " (((10000000, 67543), {}), 7855063),\n",
       " (((10000000, 29954), {}), 7854510),\n",
       " (((10000000, 23459), {}), 7853909)]"
      ]
     },
     "execution_count": 5,
     "metadata": {},
     "output_type": "execute_result"
    }
   ],
   "source": [
    "time list(pi_paralelo([(10^7,23459),(10^7,29954),(10^7,7654),(10^7,67543)]))"
   ]
  },
  {
   "cell_type": "code",
   "execution_count": 6,
   "metadata": {
    "collapsed": false
   },
   "outputs": [
    {
     "data": {
      "text/plain": [
       "3.14179900000000"
      ]
     },
     "execution_count": 6,
     "metadata": {},
     "output_type": "execute_result"
    }
   ],
   "source": [
    "pi1 = 4*(7854510+7854508+7855063+7853909)/(4*10^7);(pi1).n()"
   ]
  },
  {
   "cell_type": "markdown",
   "metadata": {},
   "source": [
    "<p>Usando dos n&uacute;cleos el tiempo total es 58 s, y vemos que la&nbsp; ventaja obtenida por usar los n&uacute;cleos virtuales es m&iacute;nima.</p>"
   ]
  },
  {
   "cell_type": "code",
   "execution_count": 7,
   "metadata": {
    "collapsed": false
   },
   "outputs": [],
   "source": [
    "@parallel(2)\n",
    "def pi_paralelo(N,rs):\n",
    "    cont = 0\n",
    "    set_random_seed(rs)\n",
    "    for muda in xsrange(N):\n",
    "        x,y = random(),random()\n",
    "        if x^2+y^2 <= 1:\n",
    "            cont += 1\n",
    "    return cont"
   ]
  },
  {
   "cell_type": "code",
   "execution_count": 8,
   "metadata": {
    "collapsed": false
   },
   "outputs": [
    {
     "name": "stdout",
     "output_type": "stream",
     "text": [
      "CPU times: user 0 ns, sys: 12 ms, total: 12 ms\n",
      "Wall time: 36.2 s\n"
     ]
    },
    {
     "data": {
      "text/plain": [
       "[(((20000000, 23459), {}), 15707559), (((20000000, 29954), {}), 15706709)]"
      ]
     },
     "execution_count": 8,
     "metadata": {},
     "output_type": "execute_result"
    }
   ],
   "source": [
    "time list(pi_paralelo([(2*10^7,23459),(2*10^7,29954)]))"
   ]
  },
  {
   "cell_type": "markdown",
   "metadata": {},
   "source": [
    "<p>&iquest;Mejora la aproximaci&oacute;n de $\\pi$ al aumentar $N$ (el n&uacute;mero de puntos aleatorios que consideramos)?</p>"
   ]
  },
  {
   "cell_type": "code",
   "execution_count": 9,
   "metadata": {
    "collapsed": false
   },
   "outputs": [
    {
     "data": {
      "text/plain": [
       "[789, 7833, 78468, 785370, 7855040, 78536148]"
      ]
     },
     "execution_count": 9,
     "metadata": {},
     "output_type": "execute_result"
    }
   ],
   "source": [
    "[pi(10^k,965452) for k in srange(3,9)]"
   ]
  },
  {
   "cell_type": "markdown",
   "metadata": {},
   "source": [
    "<p>&iquest;Qu&eacute; opinas?</p>"
   ]
  }
 ],
 "metadata": {
  "kernelspec": {
   "display_name": "SageMath 7.3",
   "language": "",
   "name": "sagemath"
  },
  "language_info": {
   "codemirror_mode": {
    "name": "ipython",
    "version": 2
   },
   "file_extension": ".py",
   "mimetype": "text/x-python",
   "name": "python",
   "nbconvert_exporter": "python",
   "pygments_lexer": "ipython2",
   "version": "2.7.10"
  }
 },
 "nbformat": 4,
 "nbformat_minor": 0
}
