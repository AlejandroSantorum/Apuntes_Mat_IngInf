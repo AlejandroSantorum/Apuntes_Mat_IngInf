{
 "cells": [
  {
   "cell_type": "markdown",
   "metadata": {},
   "source": [
    "## 1 PDF-Cap 11-Ej 1.1\n",
    "<p>Construyamos una funci&oacute;n que tire una monera 1000 veces y que cuente las veces que sale cara, definiendo $p$ como la probabilidad de que salga cara (si ponemos p=5/10 ser&aacute; una moneda perfecta y si ponemos otro n&uacute;mero estar&aacute; \"trucada\").</p>"
   ]
  },
  {
   "cell_type": "code",
   "execution_count": 2,
   "metadata": {
    "collapsed": false
   },
   "outputs": [],
   "source": [
    "def moneda(p):\n",
    "    vecescara=0\n",
    "    for tirada in srange(1000):\n",
    "        x=random()\n",
    "        if x<=p:\n",
    "            vecescara=vecescara+1\n",
    "    return vecescara"
   ]
  },
  {
   "cell_type": "code",
   "execution_count": 3,
   "metadata": {
    "collapsed": false
   },
   "outputs": [
    {
     "data": {
      "text/plain": [
       "516"
      ]
     },
     "execution_count": 3,
     "metadata": {},
     "output_type": "execute_result"
    }
   ],
   "source": [
    "moneda(5/10)"
   ]
  },
  {
   "cell_type": "markdown",
   "metadata": {},
   "source": [
    "<p>Como hemos puesto 5/10 sale un n&uacute;mero muy cercano a 500, es decir, la mitad de las veces.</p>"
   ]
  },
  {
   "cell_type": "code",
   "execution_count": 4,
   "metadata": {
    "collapsed": false
   },
   "outputs": [
    {
     "data": {
      "text/plain": [
       "109"
      ]
     },
     "execution_count": 4,
     "metadata": {},
     "output_type": "execute_result"
    }
   ],
   "source": [
    "moneda(1/10)"
   ]
  },
  {
   "cell_type": "markdown",
   "metadata": {},
   "source": [
    "<p>Ahora, una vez construida la funci&oacute;n vayamos a lo que nos pide el ejercicio.</p>"
   ]
  },
  {
   "cell_type": "code",
   "execution_count": 5,
   "metadata": {
    "collapsed": false
   },
   "outputs": [],
   "source": [
    "def pmenosde100(p):\n",
    "    vecesquesalemenosde100=0\n",
    "    for tirada in srange(10000):\n",
    "        if tirada%1000 == 0:\n",
    "            print \"Mil más procesados\"\n",
    "        if moneda(p)<=100:\n",
    "            vecesquesalemenosde100=vecesquesalemenosde100+1\n",
    "    return (vecesquesalemenosde100/10000).n()"
   ]
  },
  {
   "cell_type": "code",
   "execution_count": 5,
   "metadata": {
    "collapsed": false
   },
   "outputs": [
    {
     "name": "stdout",
     "output_type": "stream",
     "text": [
      "Mil más procesados\n",
      "Mil más procesados\n",
      "Mil más procesados\n",
      "Mil más procesados\n",
      "Mil más procesados\n",
      "Mil más procesados\n",
      "Mil más procesados\n",
      "Mil más procesados\n",
      "Mil más procesados\n",
      "Mil más procesados\n",
      "Mil más procesados\n"
     ]
    },
    {
     "ename": "KeyboardInterrupt",
     "evalue": "",
     "output_type": "error",
     "traceback": [
      "\u001b[1;31m---------------------------------------------------------------------------\u001b[0m",
      "\u001b[1;31mKeyboardInterrupt\u001b[0m                         Traceback (most recent call last)",
      "\u001b[1;32m<ipython-input-5-948a7786420e>\u001b[0m in \u001b[0;36m<module>\u001b[1;34m()\u001b[0m\n\u001b[1;32m----> 1\u001b[1;33m \u001b[1;33m[\u001b[0m\u001b[0mpmenosde100\u001b[0m\u001b[1;33m(\u001b[0m\u001b[0mk\u001b[0m\u001b[1;33m/\u001b[0m\u001b[0mInteger\u001b[0m\u001b[1;33m(\u001b[0m\u001b[1;36m10\u001b[0m\u001b[1;33m)\u001b[0m\u001b[1;33m)\u001b[0m \u001b[1;32mfor\u001b[0m \u001b[0mk\u001b[0m \u001b[1;32min\u001b[0m \u001b[0msrange\u001b[0m\u001b[1;33m(\u001b[0m\u001b[0mInteger\u001b[0m\u001b[1;33m(\u001b[0m\u001b[1;36m1\u001b[0m\u001b[1;33m)\u001b[0m\u001b[1;33m,\u001b[0m\u001b[0mInteger\u001b[0m\u001b[1;33m(\u001b[0m\u001b[1;36m10\u001b[0m\u001b[1;33m)\u001b[0m\u001b[1;33m)\u001b[0m\u001b[1;33m]\u001b[0m\u001b[1;33m\u001b[0m\u001b[0m\n\u001b[0m",
      "\u001b[1;32m<ipython-input-4-fa726f14eeb2>\u001b[0m in \u001b[0;36mpmenosde100\u001b[1;34m(p)\u001b[0m\n\u001b[0;32m      4\u001b[0m         \u001b[1;32mif\u001b[0m \u001b[0mtirada\u001b[0m\u001b[1;33m%\u001b[0m\u001b[0mInteger\u001b[0m\u001b[1;33m(\u001b[0m\u001b[1;36m1000\u001b[0m\u001b[1;33m)\u001b[0m \u001b[1;33m==\u001b[0m \u001b[0mInteger\u001b[0m\u001b[1;33m(\u001b[0m\u001b[1;36m0\u001b[0m\u001b[1;33m)\u001b[0m\u001b[1;33m:\u001b[0m\u001b[1;33m\u001b[0m\u001b[0m\n\u001b[0;32m      5\u001b[0m             \u001b[1;32mprint\u001b[0m \u001b[1;34m\"Mil más procesados\"\u001b[0m\u001b[1;33m\u001b[0m\u001b[0m\n\u001b[1;32m----> 6\u001b[1;33m         \u001b[1;32mif\u001b[0m \u001b[0mmoneda\u001b[0m\u001b[1;33m(\u001b[0m\u001b[0mp\u001b[0m\u001b[1;33m)\u001b[0m\u001b[1;33m<=\u001b[0m\u001b[0mInteger\u001b[0m\u001b[1;33m(\u001b[0m\u001b[1;36m100\u001b[0m\u001b[1;33m)\u001b[0m\u001b[1;33m:\u001b[0m\u001b[1;33m\u001b[0m\u001b[0m\n\u001b[0m\u001b[0;32m      7\u001b[0m             \u001b[0mvecesquesalemenosde100\u001b[0m\u001b[1;33m=\u001b[0m\u001b[0mvecesquesalemenosde100\u001b[0m\u001b[1;33m+\u001b[0m\u001b[0mInteger\u001b[0m\u001b[1;33m(\u001b[0m\u001b[1;36m1\u001b[0m\u001b[1;33m)\u001b[0m\u001b[1;33m\u001b[0m\u001b[0m\n\u001b[0;32m      8\u001b[0m     \u001b[1;32mreturn\u001b[0m \u001b[1;33m(\u001b[0m\u001b[0mvecesquesalemenosde100\u001b[0m\u001b[1;33m/\u001b[0m\u001b[0mInteger\u001b[0m\u001b[1;33m(\u001b[0m\u001b[1;36m10000\u001b[0m\u001b[1;33m)\u001b[0m\u001b[1;33m)\u001b[0m\u001b[1;33m.\u001b[0m\u001b[0mn\u001b[0m\u001b[1;33m(\u001b[0m\u001b[1;33m)\u001b[0m\u001b[1;33m\u001b[0m\u001b[0m\n",
      "\u001b[1;32m<ipython-input-1-704b1b27396b>\u001b[0m in \u001b[0;36mmoneda\u001b[1;34m(p)\u001b[0m\n\u001b[0;32m      2\u001b[0m     \u001b[0mvecescara\u001b[0m\u001b[1;33m=\u001b[0m\u001b[0mInteger\u001b[0m\u001b[1;33m(\u001b[0m\u001b[1;36m0\u001b[0m\u001b[1;33m)\u001b[0m\u001b[1;33m\u001b[0m\u001b[0m\n\u001b[0;32m      3\u001b[0m     \u001b[1;32mfor\u001b[0m \u001b[0mtirada\u001b[0m \u001b[1;32min\u001b[0m \u001b[0msrange\u001b[0m\u001b[1;33m(\u001b[0m\u001b[0mInteger\u001b[0m\u001b[1;33m(\u001b[0m\u001b[1;36m1000\u001b[0m\u001b[1;33m)\u001b[0m\u001b[1;33m)\u001b[0m\u001b[1;33m:\u001b[0m\u001b[1;33m\u001b[0m\u001b[0m\n\u001b[1;32m----> 4\u001b[1;33m         \u001b[0mx\u001b[0m\u001b[1;33m=\u001b[0m\u001b[0mrandom\u001b[0m\u001b[1;33m(\u001b[0m\u001b[1;33m)\u001b[0m\u001b[1;33m\u001b[0m\u001b[0m\n\u001b[0m\u001b[0;32m      5\u001b[0m         \u001b[1;32mif\u001b[0m \u001b[0mx\u001b[0m\u001b[1;33m<=\u001b[0m\u001b[0mp\u001b[0m\u001b[1;33m:\u001b[0m\u001b[1;33m\u001b[0m\u001b[0m\n\u001b[0;32m      6\u001b[0m             \u001b[0mvecescara\u001b[0m\u001b[1;33m=\u001b[0m\u001b[0mvecescara\u001b[0m\u001b[1;33m+\u001b[0m\u001b[0mInteger\u001b[0m\u001b[1;33m(\u001b[0m\u001b[1;36m1\u001b[0m\u001b[1;33m)\u001b[0m\u001b[1;33m\u001b[0m\u001b[0m\n",
      "\u001b[1;32msrc/cysignals/signals.pyx\u001b[0m in \u001b[0;36mcysignals.signals.python_check_interrupt (build/src/cysignals/signals.c:2438)\u001b[1;34m()\u001b[0m\n",
      "\u001b[1;32msrc/cysignals/signals.pyx\u001b[0m in \u001b[0;36mcysignals.signals.sig_raise_exception (build/src/cysignals/signals.c:1125)\u001b[1;34m()\u001b[0m\n",
      "\u001b[1;31mKeyboardInterrupt\u001b[0m: "
     ]
    }
   ],
   "source": [
    "[pmenosde100(k/10) for k in srange(1,10)]"
   ]
  },
  {
   "cell_type": "markdown",
   "metadata": {},
   "source": [
    "<p>Con $10000$ repeticiones del experimento de lanzar la moneda $1000$ veces va a tardar demasiado. Hay que bajar ese n&uacute;mero de repeticiones por ejemplo a $1000$. De momento,&nbsp; dejamos $p=0.1$.</p>"
   ]
  },
  {
   "cell_type": "code",
   "execution_count": 6,
   "metadata": {
    "collapsed": false
   },
   "outputs": [
    {
     "name": "stdout",
     "output_type": "stream",
     "text": [
      "Mil más procesados\n",
      "Mil más procesados\n",
      "Mil más procesados\n",
      "Mil más procesados\n",
      "Mil más procesados\n",
      "Mil más procesados\n",
      "Mil más procesados\n",
      "Mil más procesados\n",
      "Mil más procesados\n",
      "Mil más procesados\n"
     ]
    },
    {
     "data": {
      "text/plain": [
       "0.529500000000000"
      ]
     },
     "execution_count": 6,
     "metadata": {},
     "output_type": "execute_result"
    }
   ],
   "source": [
    "pmenosde100(1/10)"
   ]
  },
  {
   "cell_type": "markdown",
   "metadata": {},
   "source": [
    "<p>Veamos la explicaci&oacute;n de este resultado:</p>\n",
    "<p>Calculemos la probabilidad \"te&oacute;rica\" de obtener exactamente $100$ caras en mil lanzamientos. La sucesi&oacute;n de mil lanzamientos se puede representar como una cadena de longitud $1000$ de ceros y unos (cero para cara y uno para cruz). En cada lanzamiento de la moneda la probabilidad de obtener cara es $1/10$ y lanzamientos sucesivos son \"independientes\", el resultado de los anteriores&nbsp; no influye en los que siguen. En estas condiciones, las probabilidades \"se multiplican\", es decir, la probabilidad de obtener dos caras en las primeras dos tiradas es $1/100$.</p>\n",
    "<p>La probabilidad de obtener $100$ caras en las primeras $100$ tiradas es $(1/10)^{100}$, y la probabilidad de que el resto de las $1000$ tiradas sean cruces es $((1/10)^{100})((9/10)^{900})$. Para cada uno de las posibles cadenas de ceros y unos que contienen $100$ ceros y $900$ unos la probabilidad de aparici&oacute;n de esa cadena particular es la misma , e igual a $((1/10)^{100})((9/10)^{900})$.</p>\n",
    "<p>&iquest;Cu&aacute;ntas cadenas hay que contengan $100$ ceros y $900$ unos? Basta elegir las $100$ posiciones en las que colocamos ceros, ya que el resto van a ser unos necesariamente. Una ordenaci&oacute;n tiene todos los ceros al comienzo, y hay $1000!$ reordenaciones de esta primera, pero muchas son iguales, por ejemplo, si intercambiamos el primer cero con el segundo queda la misma cadena. &iquest;Cu&aacute;ntas reordenaciones de la cadena que tiene los cien ceros al principio sigue teniendo los cien ceros al principio? Todas las que permuten los cien primeros ceros entre s&iacute; o los 900 unos entre s&iacute;. El n&uacute;mero de esas reordenaciones es $100!\\times 900!$, de forma que el n&uacute;mero de cadenas con cien ceros y novecientos unos es</p>\n",
    "<p>$$\\binom{1000}{100}:=\\frac{1000!}{100!\\times 900!}.$$</p>\n",
    "<p>Entonces la probabilidad de obtener exactamente $100$ caras es</p>"
   ]
  },
  {
   "cell_type": "code",
   "execution_count": 7,
   "metadata": {
    "collapsed": false
   },
   "outputs": [
    {
     "data": {
      "text/plain": [
       "0.0420167908610854"
      ]
     },
     "execution_count": 7,
     "metadata": {},
     "output_type": "execute_result"
    }
   ],
   "source": [
    "(binomial(1000,100)*(1/10)^100*(9/10)^(1000-100)).n()"
   ]
  },
  {
   "cell_type": "markdown",
   "metadata": {},
   "source": [
    "<p>La probabilidad de obtener \"a lo m&aacute;s $100$ caras\" se obtiene sumando la de obtener $0$ caras con la de obtener $1$ cara, y as&iacute; hasta la de obtener exactamente $100$&nbsp; caras:</p>"
   ]
  },
  {
   "cell_type": "code",
   "execution_count": 8,
   "metadata": {
    "collapsed": false
   },
   "outputs": [
    {
     "data": {
      "text/plain": [
       "0.526599081295165"
      ]
     },
     "execution_count": 8,
     "metadata": {},
     "output_type": "execute_result"
    }
   ],
   "source": [
    "sum([(binomial(1000,n)*(1/10)^n*(9/10)^(1000-n)).n() for n in srange(0,101)])"
   ]
  },
  {
   "cell_type": "code",
   "execution_count": 9,
   "metadata": {
    "collapsed": false
   },
   "outputs": [
    {
     "data": {
      "text/plain": [
       "[1.74787125172265e-46,\n",
       " 1.94207916858072e-44,\n",
       " 1.07785393856230e-42,\n",
       " 3.98406752105621e-41,\n",
       " 1.10336536624807e-39,\n",
       " 2.44211534396239e-38,\n",
       " 4.49982364304181e-37,\n",
       " 7.09972174791041e-36,\n",
       " 9.79169957732644e-35,\n",
       " 1.19918098527257e-33,\n",
       " 1.32043150711680e-32,\n",
       " 1.32043150711680e-31,\n",
       " 1.20917292642455e-30,\n",
       " 1.02107936009184e-29,\n",
       " 7.99845498738610e-29,\n",
       " 5.84183453152792e-28,\n",
       " 3.99597709274653e-27,\n",
       " 2.56996173808012e-26,\n",
       " 1.55942740032886e-25,\n",
       " 8.95530822878914e-25,\n",
       " 4.88064298469008e-24,\n",
       " 2.53070376983930e-23,\n",
       " 1.25129241953165e-22,\n",
       " 5.91190331546840e-22,\n",
       " 2.67404145333918e-21,\n",
       " 1.15993975931513e-20,\n",
       " 4.83308233047970e-20,\n",
       " 1.93721077773137e-19,\n",
       " 7.47978605846279e-19,\n",
       " 2.78557549763442e-18,\n",
       " 1.00177548451964e-17,\n",
       " 3.48287534044462e-17,\n",
       " 1.17184243225376e-16,\n",
       " 3.81933829771596e-16,\n",
       " 1.20696082806906e-15,\n",
       " 3.70134653941180e-15,\n",
       " 1.10240722547296e-14,\n",
       " 3.19135304911691e-14,\n",
       " 8.98617832251341e-14,\n",
       " 2.46287850320738e-13,\n",
       " 6.57451733772859e-13,\n",
       " 1.71044353501882e-12,\n",
       " 4.33945859810330e-12,\n",
       " 1.07421223177854e-11,\n",
       " 2.59601289346481e-11,\n",
       " 6.12787241025274e-11,\n",
       " 1.41355510912835e-10,\n",
       " 3.18801790569372e-10,\n",
       " 7.03282653732898e-10,\n",
       " 1.51819747472499e-9,\n",
       " 3.20845732991880e-9,\n",
       " 6.64059795952694e-9,\n",
       " 1.34656569734852e-8,\n",
       " 2.67619346139705e-8,\n",
       " 5.21472265008850e-8,\n",
       " 9.96591439794691e-8,\n",
       " 1.86860894961505e-7,\n",
       " 3.43853186829747e-7,\n",
       " 6.21175393065999e-7,\n",
       " 1.10197216623008e-6,\n",
       " 1.92028853411575e-6,\n",
       " 3.28792572325829e-6,\n",
       " 5.53290726548304e-6,\n",
       " 9.15320461203367e-6,\n",
       " 0.0000148898484747839,\n",
       " 0.0000238237575596543,\n",
       " 0.0000375003591216781,\n",
       " 0.0000580851333659159,\n",
       " 0.0000885513552784307,\n",
       " 0.000132898330305149,\n",
       " 0.000196394199228720,\n",
       " 0.000285831933149780,\n",
       " 0.000409780657247138,\n",
       " 0.000578807381925943,\n",
       " 0.000805637301869893,\n",
       " 0.00110521502449114,\n",
       " 0.00149462558136595,\n",
       " 0.00199283410848793,\n",
       " 0.00262020780930820,\n",
       " 0.00339779409308321,\n",
       " 0.00434634494406894,\n",
       " 0.00548509924354379,\n",
       " 0.00683036071113380,\n",
       " 0.00839393725946563,\n",
       " 0.0101815350091666,\n",
       " 0.0121912236188191,\n",
       " 0.0144121054408521,\n",
       " 0.0168233261467929,\n",
       " 0.0193935565303307,\n",
       " 0.0220810531281667,\n",
       " 0.0248343696293332,\n",
       " 0.0275937440325925,\n",
       " 0.0302931320357809,\n",
       " 0.0328628003446703,\n",
       " 0.0352323403222411,\n",
       " 0.0373339185169011,\n",
       " 0.0391055512243003,\n",
       " 0.0404941790455527,\n",
       " 0.0414583261656849,\n",
       " 0.0419701573529155,\n",
       " 0.0420167908610854]"
      ]
     },
     "execution_count": 9,
     "metadata": {},
     "output_type": "execute_result"
    }
   ],
   "source": [
    "[(binomial(1000,n)*(1/10)^n*(9/10)^(1000-n)).n() for n in srange(0,101)]"
   ]
  },
  {
   "cell_type": "markdown",
   "metadata": {},
   "source": [
    "<p>Vemos que las cantidades que sumamos s&oacute;lo superan las cent&eacute;simas desde $84$ caras, y</p>"
   ]
  },
  {
   "cell_type": "code",
   "execution_count": 10,
   "metadata": {
    "collapsed": false
   },
   "outputs": [
    {
     "data": {
      "text/plain": [
       "0.488278109405186"
      ]
     },
     "execution_count": 10,
     "metadata": {},
     "output_type": "execute_result"
    }
   ],
   "source": [
    "sum([(binomial(1000,n)*(1/10)^n*(9/10)^(1000-n)).n() for n in srange(84,101)])"
   ]
  },
  {
   "cell_type": "markdown",
   "metadata": {},
   "source": [
    "<p>Aproximadamente, la operaci&oacute;n que hacemos es $5(0.01+0.02+0.03+0.04)=0.5.$</p>"
   ]
  },
  {
   "cell_type": "code",
   "execution_count": 6,
   "metadata": {
    "collapsed": false
   },
   "outputs": [],
   "source": [
    "L = [(binomial(1000,n)*(1/10)^n*(9/10)^(1000-n)).n() for n in srange(0,1001)]"
   ]
  },
  {
   "cell_type": "code",
   "execution_count": 7,
   "metadata": {
    "collapsed": false
   },
   "outputs": [
    {
     "data": {
      "text/plain": [
       "1.00000000000000"
      ]
     },
     "execution_count": 7,
     "metadata": {},
     "output_type": "execute_result"
    }
   ],
   "source": [
    "sum(L)"
   ]
  },
  {
   "cell_type": "code",
   "execution_count": 8,
   "metadata": {
    "collapsed": false
   },
   "outputs": [
    {
     "data": {
      "image/png": "[encoded data removed]",
      "text/plain": [
       "Graphics object consisting of 1 graphics primitive"
      ]
     },
     "metadata": {},
     "output_type": "display_data"
    }
   ],
   "source": [
    "bar_chart(L,width=0.1).show(ymin=0,xmax=200)"
   ]
  },
  {
   "cell_type": "markdown",
   "metadata": {},
   "source": [
    "<p>El $100$ queda, m&aacute;s o menos en el centro de esta \"campana de Gauss\" y la probabilidad de obtener a lo m&aacute;s $100$ caras es la suma de los $101$ primeros elements de la lista $L$, aproximadamente el &aacute;rea bajo la campana situada a la izquierda del cien.</p>\n",
    "\n",
    "## 2 PDF-cap. 11 Ej-1.2\n",
    "<p>Para generar un n&uacute;mero aleatorio en el intervalo [0,1] solo tenemos que utilizar la funci&oacute;n random().</p>"
   ]
  },
  {
   "cell_type": "code",
   "execution_count": 14,
   "metadata": {
    "collapsed": false
   },
   "outputs": [
    {
     "data": {
      "text/plain": [
       "0.4829880359824984"
      ]
     },
     "execution_count": 14,
     "metadata": {},
     "output_type": "execute_result"
    }
   ],
   "source": [
    "random()"
   ]
  },
  {
   "cell_type": "markdown",
   "metadata": {},
   "source": [
    "<p>Si multiplicamos random() por cualquier n&uacute;mero (en particular ser&aacute; la longitud del intervalo, es decir, (b-a)) obtendremos un n&uacute;mero entre 0 y ese n&uacute;mero. Porque random() est&aacute; entre 0 y 1.</p>\n",
    "<p>Si ahora sumamos el comienzo del intervalo \"a\" desplazaremos el n&uacute;mero al azar que estaba entre 0 y (b-a) adentro del intervalo [a,b] porque si x pertenece a (a,b) entonces x+t pertenece a (a+t,b+t).</p>"
   ]
  },
  {
   "cell_type": "code",
   "execution_count": 15,
   "metadata": {
    "collapsed": false
   },
   "outputs": [],
   "source": [
    "aleatorio(a,b)=a+(b-a)*random()"
   ]
  },
  {
   "cell_type": "code",
   "execution_count": 16,
   "metadata": {
    "collapsed": false
   },
   "outputs": [
    {
     "data": {
      "text/plain": [
       "3.193498189170919"
      ]
     },
     "execution_count": 16,
     "metadata": {},
     "output_type": "execute_result"
    }
   ],
   "source": [
    "aleatorio(3,7)"
   ]
  },
  {
   "cell_type": "markdown",
   "metadata": {},
   "source": [
    "## 3 PDF-Cap. 11-Ej 4\n",
    "\n",
    "Queremos comprobar cómo al incrementar el número de dardos que lanzamos obtenemos una mejor aproximación a $\\pi$.\n"
   ]
  },
  {
   "cell_type": "code",
   "execution_count": 1,
   "metadata": {
    "collapsed": false
   },
   "outputs": [],
   "source": [
    "def f(n):\n",
    "    dentro=[]\n",
    "    fuera=[]\n",
    "    for punto in srange(n):\n",
    "        p=[random(),random()]\n",
    "        if (p[0])^2+(p[1])^2<=1:\n",
    "            dentro.append(p)\n",
    "        else:\n",
    "            fuera.append(p)\n",
    "    return ((len(dentro))/n).n()"
   ]
  },
  {
   "cell_type": "code",
   "execution_count": 18,
   "metadata": {
    "collapsed": false
   },
   "outputs": [
    {
     "data": {
      "text/plain": [
       "0.785500000000000"
      ]
     },
     "execution_count": 18,
     "metadata": {},
     "output_type": "execute_result"
    }
   ],
   "source": [
    "f(10000)"
   ]
  },
  {
   "cell_type": "code",
   "execution_count": 19,
   "metadata": {
    "collapsed": false
   },
   "outputs": [],
   "source": [
    "def esbuenaaprox(n):\n",
    "    L=[]\n",
    "    k=1\n",
    "    while k<=n:\n",
    "        L.append(abs((f(k)-(pi/4)).n()))\n",
    "        k=k*10\n",
    "    return L"
   ]
  },
  {
   "cell_type": "code",
   "execution_count": 20,
   "metadata": {
    "collapsed": false
   },
   "outputs": [
    {
     "data": {
      "text/plain": [
       "[0.214601836602552,\n",
       " 0.0146018366025518,\n",
       " 0.0253981633974483,\n",
       " 0.00860183660255176,\n",
       " 0.00930183660255168,\n",
       " 0.000918163397448324,\n",
       " 0.000686836602551755]"
      ]
     },
     "execution_count": 20,
     "metadata": {},
     "output_type": "execute_result"
    }
   ],
   "source": [
    "esbuenaaprox(10^6)"
   ]
  },
  {
   "cell_type": "markdown",
   "metadata": {},
   "source": [
    "<p>Vemos que los errores a medida que avanza el k son menores luego cuantos m&aacute;s puntos elegimos m&aacute;s exacta es nuestra medici&oacute;n (l&oacute;gicamente) y como adem&aacute;s se reduce el error vemos que se aproxima a &pi;/4.</p>\n",
    "<p><strong>Ejercicio</strong>: adaptar este programa para usar los cuatro n&uacute;cleos&nbsp; simult&aacute;neamente, y luego comprobar, usando la potencia de c&aacute;lculo a&ntilde;adida, que la aproximaci&oacute;n a $\\pi$ sigue mejorando cuando seguimos aumentando $n$.</p>\n",
    "\n",
    "## 4 PDF-Cap. 11-11.5.3"
   ]
  },
  {
   "cell_type": "code",
   "execution_count": 21,
   "metadata": {
    "collapsed": false
   },
   "outputs": [],
   "source": [
    "def integrar(f,a,b,M):\n",
    "    L=[]\n",
    "    for k in srange(10000):\n",
    "        (x,y)=(a+(b-a)*random(),M*random())\n",
    "        if y<f(x):\n",
    "            L.append(x)\n",
    "    return ((len(L))/10000)*(b-a)*M.n()"
   ]
  },
  {
   "cell_type": "code",
   "execution_count": 22,
   "metadata": {
    "collapsed": false
   },
   "outputs": [
    {
     "name": "stderr",
     "output_type": "stream",
     "text": [
      "/usr/lib/sagemath/local/lib/python2.7/site-packages/sage/repl/ipython_kernel/__main__.py:1: DeprecationWarning: Substitution using function-call syntax and unnamed arguments is deprecated and will be removed from a future release of Sage; you can use named arguments instead, like EXPR(x=..., y=...)\n",
      "See http://trac.sagemath.org/5930 for details.\n",
      "  from ipykernel.kernelapp import IPKernelApp\n"
     ]
    },
    {
     "data": {
      "text/plain": [
       "3.73760000000000"
      ]
     },
     "execution_count": 22,
     "metadata": {},
     "output_type": "execute_result"
    }
   ],
   "source": [
    "integrar(x^3,1,2,8)"
   ]
  },
  {
   "cell_type": "code",
   "execution_count": 23,
   "metadata": {
    "collapsed": false
   },
   "outputs": [
    {
     "data": {
      "text/plain": [
       "3.75000000000000"
      ]
     },
     "execution_count": 23,
     "metadata": {},
     "output_type": "execute_result"
    }
   ],
   "source": [
    "integrate(x^3,x,1,2).n()"
   ]
  },
  {
   "cell_type": "code",
   "execution_count": null,
   "metadata": {
    "collapsed": true
   },
   "outputs": [],
   "source": []
  }
 ],
 "metadata": {
  "kernelspec": {
   "display_name": "SageMath 7.3",
   "language": "",
   "name": "sagemath"
  },
  "language_info": {
   "codemirror_mode": {
    "name": "ipython",
    "version": 2
   },
   "file_extension": ".py",
   "mimetype": "text/x-python",
   "name": "python",
   "nbconvert_exporter": "python",
   "pygments_lexer": "ipython2",
   "version": "2.7.10"
  }
 },
 "nbformat": 4,
 "nbformat_minor": 0
}
