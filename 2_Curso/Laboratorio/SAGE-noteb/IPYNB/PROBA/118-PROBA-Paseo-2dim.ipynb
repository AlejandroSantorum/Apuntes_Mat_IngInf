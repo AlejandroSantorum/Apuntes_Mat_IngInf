{
 "cells": [
  {
   "cell_type": "markdown",
   "metadata": {
    "deletable": true,
    "editable": true
   },
   "source": [
    "<p>En este ejercicio estudiamos paseos aleatorios en dos dimensiones. El paseante comienza en el origen $(0,0)$ de $\\mathbb{R}^2$ y se mueve por los puntos con coordenadas enteras. En cada momento de tiempo ($t=0,1,2,3,\\dots$) elige aleatoriamente uno de sus cuatro puntos (con coordenadas enteras) vecinos y se desplaza a &eacute;l. El problema que queremos estudiar es la determinaci&oacute;n de la probabilidad de que el paseante vuelva en alg&uacute;n momento al origen. El problema que encontramos es que &nbsp;el tiempo que tarda en volver puede ser astron&oacute;micamente grande y usando el ordenador estamos limitados. Para poder tratar este problema debemos fijar un tiempo m&aacute;ximo de espera $T$ ($10^5$ en el ejemplo de m&aacute;s abajo) , y nos dejaremos convencer de que la probabilidad de retorno es $1$ si vemos que va aumentando al dejar crecer $T$ &nbsp;y parece que se aproxima a $1$.&nbsp;</p>\n",
    "<ol>\n",
    "<li>Estudiar el caso $3$-dimensional de este mismo problema.</li>\n",
    "<li>Estudiar la variante en la que consideramos dos paseantes aleatorios que comienzan en $t=0 $ en el origen $(0,0)$, y queremos estudiar &nbsp;la probabilidad de que se reecuentren (est&eacute;n en el mismo momento de tiempo en el mismo lugar).</li>\n",
    "</ol>"
   ]
  },
  {
   "cell_type": "code",
   "execution_count": 1,
   "metadata": {
    "collapsed": false,
    "deletable": true,
    "editable": true
   },
   "outputs": [],
   "source": [
    "def actualizar(L):\n",
    "    x = randint(1,4)\n",
    "    if x == 1:\n",
    "        L[0] = L[0]+1\n",
    "        return L\n",
    "    elif x == 2:\n",
    "        L[1] = L[1]+1\n",
    "        return L\n",
    "    elif x == 3:\n",
    "        L[0] = L[0]-1\n",
    "        return L\n",
    "    else:\n",
    "        L[1] = L[1]-1\n",
    "        return L"
   ]
  },
  {
   "cell_type": "code",
   "execution_count": 2,
   "metadata": {
    "collapsed": false,
    "deletable": true,
    "editable": true
   },
   "outputs": [],
   "source": [
    "def retorno():\n",
    "    cont = 0\n",
    "    Pini = actualizar([0,0])\n",
    "    while (Pini != [0,0] and cont<= 10^5):\n",
    "        Pini = actualizar(Pini)\n",
    "        cont += 1\n",
    "        #if cont%10000 == 0:\n",
    "            #print cont,Pini\n",
    "    return cont"
   ]
  },
  {
   "cell_type": "code",
   "execution_count": 3,
   "metadata": {
    "collapsed": false,
    "deletable": true,
    "editable": true
   },
   "outputs": [],
   "source": [
    "def probabilidad(N):\n",
    "    contador = 0\n",
    "    for muda in xrange(N):\n",
    "        cont = retorno()\n",
    "        ##print cont\n",
    "        if cont != 10^5+1:\n",
    "            contador += 1\n",
    "        if muda%100 == 0:\n",
    "            print muda\n",
    "    return (contador/N).n()"
   ]
  },
  {
   "cell_type": "code",
   "execution_count": 4,
   "metadata": {
    "collapsed": false,
    "deletable": true,
    "editable": true
   },
   "outputs": [
    {
     "name": "stdout",
     "output_type": "stream",
     "text": [
      "0\n",
      "100\n",
      "200\n",
      "300\n",
      "400\n",
      "500\n",
      "600\n",
      "700\n",
      "800\n",
      "900\n"
     ]
    },
    {
     "data": {
      "text/plain": [
       "0.794000000000000"
      ]
     },
     "execution_count": 4,
     "metadata": {},
     "output_type": "execute_result"
    }
   ],
   "source": [
    "probabilidad(10^3)"
   ]
  }
 ],
 "metadata": {
  "kernelspec": {
   "display_name": "SageMath 8.0",
   "language": "",
   "name": "sagemath"
  },
  "language_info": {
   "codemirror_mode": {
    "name": "ipython",
    "version": 2
   },
   "file_extension": ".py",
   "mimetype": "text/x-python",
   "name": "python",
   "nbconvert_exporter": "python",
   "pygments_lexer": "ipython2",
   "version": "2.7.13"
  }
 },
 "nbformat": 4,
 "nbformat_minor": 0
}
