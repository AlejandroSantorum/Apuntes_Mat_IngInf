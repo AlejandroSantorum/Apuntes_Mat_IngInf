{
 "cells": [
  {
   "cell_type": "code",
   "execution_count": 1,
   "metadata": {
    "collapsed": false
   },
   "outputs": [],
   "source": [
    "alfb = \"ABCDEFGHIJKLMNOPQRSTUVWXYZ\""
   ]
  },
  {
   "cell_type": "code",
   "execution_count": 2,
   "metadata": {
    "collapsed": false
   },
   "outputs": [],
   "source": [
    "L_alfb = list(alfb)"
   ]
  },
  {
   "cell_type": "code",
   "execution_count": 3,
   "metadata": {
    "collapsed": false
   },
   "outputs": [],
   "source": [
    "texto = \"Through the use of abstraction and logical reasoning, mathematics developed from counting, calculation, measurement, and the systematic study of the shapes and motions of physical objects. Practical mathematics has been a human activity for as far back as written records exist. Rigorous arguments first appeared in Greek mathematics, most notably in Euclid's Elements. Mathematics developed at a relatively slow pace until the Renaissance, when mathematical innovations interacting with new scientific discoveries led to a rapid increase in the rate of mathematical discovery that continues to the present day.\""
   ]
  },
  {
   "cell_type": "code",
   "execution_count": 4,
   "metadata": {
    "collapsed": false
   },
   "outputs": [],
   "source": [
    "def ord2(c):\n",
    "    return L_alfb.index(c)"
   ]
  },
  {
   "cell_type": "code",
   "execution_count": 5,
   "metadata": {
    "collapsed": false
   },
   "outputs": [],
   "source": [
    "def chr2(n):\n",
    "    return L_alfb[n]"
   ]
  },
  {
   "cell_type": "code",
   "execution_count": 6,
   "metadata": {
    "collapsed": false
   },
   "outputs": [
    {
     "name": "stdout",
     "output_type": "stream",
     "text": [
      "[0, 1, 2, 3, 4, 5, 6, 7, 8, 9, 10, 11, 12, 13, 14, 15, 16, 17, 18, 19, 20, 21, 22, 23, 24, 25]\n"
     ]
    }
   ],
   "source": [
    "print map(ord2,[x for x in alfb])"
   ]
  },
  {
   "cell_type": "code",
   "execution_count": 7,
   "metadata": {
    "collapsed": false
   },
   "outputs": [
    {
     "name": "stdout",
     "output_type": "stream",
     "text": [
      "['A', 'B', 'C', 'D', 'E', 'F', 'G', 'H', 'I', 'J', 'K', 'L', 'M', 'N', 'O', 'P', 'Q', 'R', 'S', 'T', 'U', 'V', 'W', 'X', 'Y', 'Z']\n"
     ]
    }
   ],
   "source": [
    "print map(chr2,map(ord2,[x for x in alfb]))"
   ]
  },
  {
   "cell_type": "code",
   "execution_count": 8,
   "metadata": {
    "collapsed": false
   },
   "outputs": [],
   "source": [
    "from string import *\n",
    "def limpiar(texto,alfb):\n",
    "    L = map(ord,[x.capitalize() for x in list(texto)])\n",
    "    L1 = [item for item in L if item in map(ord,[x for x in alfb])]\n",
    "    C1 = join(map(chr,L1),sep = \"\")\n",
    "    return C1"
   ]
  },
  {
   "cell_type": "code",
   "execution_count": 9,
   "metadata": {
    "collapsed": false
   },
   "outputs": [
    {
     "data": {
      "text/plain": [
       "'THROUGHTHEUSEOFABSTRACTIONANDLOGICALREASONINGMATHEMATICSDEVELOPEDFROMCOUNTINGCALCULATIONMEASUREMENTANDTHESYSTEMATICSTUDYOFTHESHAPESANDMOTIONSOFPHYSICALOBJECTSPRACTICALMATHEMATICSHASBEENAHUMANACTIVITYFORASFARBACKASWRITTENRECORDSEXISTRIGOROUSARGUMENTSFIRSTAPPEAREDINGREEKMATHEMATICSMOSTNOTABLYINEUCLIDSELEMENTSMATHEMATICSDEVELOPEDATARELATIVELYSLOWPACEUNTILTHERENAISSANCEWHENMATHEMATICALINNOVATIONSINTERACTINGWITHNEWSCIENTIFICDISCOVERIESLEDTOARAPIDINCREASEINTHERATEOFMATHEMATICALDISCOVERYTHATCONTINUESTOTHEPRESENTDAY'"
      ]
     },
     "execution_count": 9,
     "metadata": {},
     "output_type": "execute_result"
    }
   ],
   "source": [
    "texto_l = limpiar(texto,alfb);texto_l"
   ]
  },
  {
   "cell_type": "markdown",
   "metadata": {},
   "source": [
    "<h4>Cifra de Vigenere</h4>\n",
    "<p>Puedes leer sobre este m&eacute;todo de cifrado&nbsp;&nbsp; en <a href=\"http://en.wikipedia.org/wiki/Vigen%C3%A8re_cipher\" target=\"_blank\">Vigenere</a>. Elegida una palabra clave, por ejemplo \"CIRUELA\", el m&eacute;todo para encriptar consiste en, primero, obtener para cada letra de la clave el n&uacute;mero ASCII que le corresponde:</p>"
   ]
  },
  {
   "cell_type": "code",
   "execution_count": 10,
   "metadata": {
    "collapsed": false
   },
   "outputs": [
    {
     "name": "stdout",
     "output_type": "stream",
     "text": [
      "['C', 'I', 'R', 'U', 'E', 'L', 'A']\n"
     ]
    }
   ],
   "source": [
    "L3 = list(\"CIRUELA\");print L3"
   ]
  },
  {
   "cell_type": "code",
   "execution_count": 11,
   "metadata": {
    "collapsed": false
   },
   "outputs": [
    {
     "name": "stdout",
     "output_type": "stream",
     "text": [
      "[2, 8, 17, 20, 4, 11, 0]\n"
     ]
    }
   ],
   "source": [
    "L4 = map(ord2,L3);print L4"
   ]
  },
  {
   "cell_type": "markdown",
   "metadata": {},
   "source": [
    "<p>Llamemos $K$ a la lista de enteros correspondientes a la clave y $m$ a la longitud de la clave, en nuestro ejemplo $7$. Para cada resto m&oacute;dulo $m$, digamos $k$, tenemos un entero $K[k]$.</p>\n",
    "<p>En el segundo paso del m&eacute;todo de Vigenere, cada letra del mensaje, que ocupa una posici&oacute;n digamos $N$ en el mensaje, se encripta de manera diferente seg&uacute;n el valor del resto de dividir $N$ entre $m$. Si el valor de ese resto es $k$, usamos $k$ como clave para encriptarla mediante la cifra de C&eacute;sar.</p>\n",
    "<p>Finalmente, tenemos una lista de enteros, entre $0$ y $25$, y la transformamos en una cadena de caracteres, que son el mensaje encriptado.</p>"
   ]
  },
  {
   "cell_type": "code",
   "execution_count": 12,
   "metadata": {
    "collapsed": false
   },
   "outputs": [],
   "source": [
    "def encriptar_vig(T,C):\n",
    "    '''T y C son cadenas de caracteres, T el texto y C la clave'''\n",
    "    L1 = map(ord2,list(C))\n",
    "    L2 = map(ord2,list(T))\n",
    "    L3 = []\n",
    "    for int in srange(len(L2)):\n",
    "        n = int%len(C)\n",
    "        L3.append(chr2((L2[int]+L1[n])%26))\n",
    "    return join(L3,sep=\"\")"
   ]
  },
  {
   "cell_type": "code",
   "execution_count": 13,
   "metadata": {
    "collapsed": false
   },
   "outputs": [
    {
     "data": {
      "text/plain": [
       "'VPIIYRHVPVOWPOHISMXCAEBZIRLNFTFAMNANZVUWZNKVXGEEHGURNMNSFMMYPZPGLWLSXCQCENMYGEICWYWAVQFHQPAUCIYQPNVIEXXSEUGJNIXAVQTMXFDAWWNLPSJIGYWLNFUFNMZNUWWJLJSKKRFSMJGKKMTCAEBZWEWMCBYYQLTKKJBEDBGMEULFMCVRWXTVKBPZSCAUNRLFLCMIJQVTTVMELINOTLJYBTSVZZASCOWARLKFMGVKMJTRUBRJTPATMUCRRRGMBGEEHGURNMNSOWJNRZTCJCSMYEWKCCHDENMDYRESOIKBIXAVQTMHPVGTFJIOAVIIYPLTKDVFCDLQEGUGPUPBZFXSETMEUMDSCVTYASEPURNLPMCBZWEWIPVFPEEIQVJCREETITNMYGYQKBRPWUKZYREIHQTXMDCQDVLMPSNMUNSLRCXZXMYCTMRMITNVPVLEEEQNDUXSEOIKCGLLFQJWSGETGKBEECQVKCRFEUBFNLPPTMJYREDCG'"
      ]
     },
     "execution_count": 13,
     "metadata": {},
     "output_type": "execute_result"
    }
   ],
   "source": [
    "texto_e = encriptar_vig(texto_l,'CIRUELA');texto_e"
   ]
  },
  {
   "cell_type": "code",
   "execution_count": 14,
   "metadata": {
    "collapsed": false
   },
   "outputs": [],
   "source": [
    "def complementaria(C):\n",
    "    L1 = map(ord2,list(C))\n",
    "    return join(map(chr2,[(26-n)%26 for n in L1]),sep=\"\")"
   ]
  },
  {
   "cell_type": "code",
   "execution_count": 15,
   "metadata": {
    "collapsed": false
   },
   "outputs": [
    {
     "data": {
      "text/plain": [
       "'THROUGHTHEUSEOFABSTRACTIONANDLOGICALREASONINGMATHEMATICSDEVELOPEDFROMCOUNTINGCALCULATIONMEASUREMENTANDTHESYSTEMATICSTUDYOFTHESHAPESANDMOTIONSOFPHYSICALOBJECTSPRACTICALMATHEMATICSHASBEENAHUMANACTIVITYFORASFARBACKASWRITTENRECORDSEXISTRIGOROUSARGUMENTSFIRSTAPPEAREDINGREEKMATHEMATICSMOSTNOTABLYINEUCLIDSELEMENTSMATHEMATICSDEVELOPEDATARELATIVELYSLOWPACEUNTILTHERENAISSANCEWHENMATHEMATICALINNOVATIONSINTERACTINGWITHNEWSCIENTIFICDISCOVERIESLEDTOARAPIDINCREASEINTHERATEOFMATHEMATICALDISCOVERYTHATCONTINUESTOTHEPRESENTDAY'"
      ]
     },
     "execution_count": 15,
     "metadata": {},
     "output_type": "execute_result"
    }
   ],
   "source": [
    "encriptar_vig(encriptar_vig(texto_l,'CIRUELA'),complementaria('CIRUELA'))"
   ]
  },
  {
   "cell_type": "markdown",
   "metadata": {},
   "source": [
    "<h4>Análisis de frecuencias</h4>"
   ]
  },
  {
   "cell_type": "code",
   "execution_count": 16,
   "metadata": {
    "collapsed": false
   },
   "outputs": [],
   "source": [
    "def cortar_texto(texto,nclave):\n",
    "    '''Almacenamos en C una lista con nclave cadenas de caracteres, cada una\n",
    "    contiene la parte del texto que se ha encriptado con la misma clave'''\n",
    "    C=[item for item in texto[:nclave]]\n",
    "    for i in srange(nclave):\n",
    "       for j in srange(len(texto)):\n",
    "            if j%nclave==i:\n",
    "                C[i] += texto[j]\n",
    "            else:\n",
    "                continue\n",
    "    return C"
   ]
  },
  {
   "cell_type": "code",
   "execution_count": 17,
   "metadata": {
    "collapsed": false
   },
   "outputs": [
    {
     "data": {
      "text/plain": [
       "['VVVHEFNKGFGQEVUVUVAJFUKGECKGCKUMVTVWGUTGGOCWNOVGVKQPTCPCPQTYUHQNCTVQOFTQUTC',\n",
       " 'PPPIBTZVUMLCIQCIGQWIUWKKBBKMVBNIMLZAVBMMUWJKMIQTIDEBMVUBVVIQKQDMXMPNIQGVBMG',\n",
       " 'IIVSZFVXRMWECFIEJTWGFWRKZYJERPRJEJZRKRUBRJCCDKTFIVGZETRZFJTKZTVUZRVDKJKKFJ',\n",
       " 'IIOMIAUGNYLNWHYXNMNYNJFMWYBUWZLQLYALMJCGNNSCYBMJYFUFUYNWPCNBYXLNXMLUCWBCNY',\n",
       " 'YYWXRMWEMPSMYQQXIXLWMLSTEQELXSFVIBSKJTREMRMHRIHIPCGXMALEERMRRMMSMIEXGSERLR',\n",
       " 'RRPCLNZENZXYWPPSXFPLZJMCWLDFTCLTNTCFTPRENZYDEXPOLDPSDSPWEEYPEDPLYTESLGEFPE',\n",
       " 'HHOANANHSPCGAANEADSNNSJAMTBMVACTOSOMRARHSTEESAVATLUESEMIIEGWICSRCNEELECEPD']"
      ]
     },
     "execution_count": 17,
     "metadata": {},
     "output_type": "execute_result"
    }
   ],
   "source": [
    "cortado = cortar_texto(texto_e,7);cortado"
   ]
  },
  {
   "cell_type": "code",
   "execution_count": 18,
   "metadata": {
    "collapsed": false
   },
   "outputs": [],
   "source": [
    "def analisis_frec(T):\n",
    "    frecuencias = {}\n",
    "    N = len(T)\n",
    "    for letra in T:\n",
    "        if letra in frecuencias:\n",
    "            frecuencias[letra] += (1/N).n()\n",
    "        else:\n",
    "            frecuencias[letra]=(1/N).n()\n",
    "    return frecuencias"
   ]
  },
  {
   "cell_type": "code",
   "execution_count": 19,
   "metadata": {
    "collapsed": false
   },
   "outputs": [],
   "source": [
    "def invertir(dicc):\n",
    "    dict_inv = {}\n",
    "    for key in dicc:\n",
    "        dict_inv[dicc[key]] = ord2(key)\n",
    "    return dict_inv"
   ]
  },
  {
   "cell_type": "code",
   "execution_count": 20,
   "metadata": {
    "collapsed": false
   },
   "outputs": [],
   "source": [
    "def analisis_frec_compl(T):\n",
    "    dicc = analisis_frec(T)\n",
    "    dicc2 = invertir(dicc)\n",
    "    L = dicc2.items()\n",
    "    L.sort(reverse=True)\n",
    "    return L"
   ]
  },
  {
   "cell_type": "code",
   "execution_count": 21,
   "metadata": {
    "collapsed": false
   },
   "outputs": [
    {
     "data": {
      "text/plain": [
       "[(0.146666666666667, 21),\n",
       " (0.106666666666667, 6),\n",
       " (0.0933333333333333, 19),\n",
       " (0.0800000000000000, 16),\n",
       " (0.0666666666666667, 10),\n",
       " (0.0533333333333333, 5),\n",
       " (0.0400000000000000, 15),\n",
       " (0.0266666666666667, 22),\n",
       " (0.0133333333333333, 24)]"
      ]
     },
     "execution_count": 21,
     "metadata": {},
     "output_type": "execute_result"
    }
   ],
   "source": [
    "FF = analisis_frec_compl(cortado[0]);FF"
   ]
  },
  {
   "cell_type": "code",
   "execution_count": 22,
   "metadata": {
    "collapsed": false
   },
   "outputs": [
    {
     "data": {
      "text/plain": [
       "'V'"
      ]
     },
     "execution_count": 22,
     "metadata": {},
     "output_type": "execute_result"
    }
   ],
   "source": [
    "chr2(21)"
   ]
  },
  {
   "cell_type": "code",
   "execution_count": 23,
   "metadata": {
    "collapsed": false
   },
   "outputs": [
    {
     "data": {
      "text/plain": [
       "'G'"
      ]
     },
     "execution_count": 23,
     "metadata": {},
     "output_type": "execute_result"
    }
   ],
   "source": [
    "chr2(6)"
   ]
  },
  {
   "cell_type": "markdown",
   "metadata": {},
   "source": [
    "<p>Aparece aqu&iacute; un problema: las frecuencias en el texto original, cuando se divide en&nbsp; 7 trozos,&nbsp; no corresponden a las frecuencias naturales en los textos en ingl&eacute;s y, entonces, es la G la que encripta a la E y no la V. Probablemente, eso indica que disponemos de demasiado poco texto. Si desencriptamos suponiendo que la clave consiste en encriptar E como V tendremos, siempre que no aparezca el mismo problema con los otros trozos del texto,&nbsp; una s&eacute;ptima parte de las letras mal.</p>"
   ]
  },
  {
   "cell_type": "code",
   "execution_count": 24,
   "metadata": {
    "collapsed": false
   },
   "outputs": [],
   "source": [
    "def analisis_frec2(T):\n",
    "    dicc = analisis_frec(T)\n",
    "    dicc2 = invertir(dicc)\n",
    "    L = dicc2.items()\n",
    "    L.sort(reverse=True)\n",
    "    return chr2(L[0][1]-4)"
   ]
  },
  {
   "cell_type": "markdown",
   "metadata": {},
   "source": [
    "<p>&iquest;De d&oacute;nde viene el $-4$ de la &uacute;ltima l&iacute;nea?</p>"
   ]
  },
  {
   "cell_type": "code",
   "execution_count": 25,
   "metadata": {
    "collapsed": false
   },
   "outputs": [],
   "source": [
    "def buscar_clave(texto_e,nclave):\n",
    "    cortado = cortar_texto(texto_e,nclave)\n",
    "    clave = ''\n",
    "    for i in srange(nclave):\n",
    "        clave += analisis_frec2(cortado[i])\n",
    "    return clave"
   ]
  },
  {
   "cell_type": "code",
   "execution_count": 26,
   "metadata": {
    "collapsed": false
   },
   "outputs": [
    {
     "data": {
      "text/plain": [
       "'RINJILA'"
      ]
     },
     "execution_count": 26,
     "metadata": {},
     "output_type": "execute_result"
    }
   ],
   "source": [
    "buscar_clave(texto_e,7)"
   ]
  },
  {
   "cell_type": "markdown",
   "metadata": {},
   "source": [
    "<p>Probemos con un texto mucho mayor:</p>"
   ]
  },
  {
   "cell_type": "code",
   "execution_count": 27,
   "metadata": {
    "collapsed": false
   },
   "outputs": [],
   "source": [
    "texto_largo = \"Tell me, O Muse, of that ingenious hero who travelled far and wide after he had sacked the famous town of Troy. Many cities did he visit, and many were the nations with whose manners and customs he was acquainted; moreover he suffered much by sea while trying to save his own life and bring his men safely home; but do what he might he could not save his men, for they perished through their own sheer folly in eating the cattle of the Sun-god Hyperion; so the god prevented them from ever reaching home. Tell me, too, about all these things, oh daughter of Jove, from whatsoever source you may know them. So now all who escaped death in battle or by shipwreck had got safely home except Ulysses, and he, though he was longing to return to his wife and country, was detained by the goddess Calypso, who had got him into a large cave and wanted to marry him. But as years went by, there came a time when the gods settled that he should go back to Ithaca; even then, however, when he was among his own people, his troubles were not yet over; nevertheless all the gods had now begun to pity him except Neptune, who still persecuted him without ceasing and would not let him get home. Now Neptune had gone off to the Ethiopians, who are at the world's end, and lie in two halves, the one looking West and the other East. {1} He had gone there to accept a hecatomb of sheep and oxen, and was enjoying himself at his festival; but the other gods met in the house of Olympian Jove, and the sire of gods and men spoke first. At that moment he was thinking of Aegisthus, who had been killed by Agamemnon's son Orestes; so he said to the other gods: See now, how men lay blame upon us gods for what is after all nothing but their own folly. Look at Aegisthus; he must needs make love to Agamemnon's wife unrighteously and then kill Agamemnon, though he knew it would be the death of him; for I sent Mercury to warn him not to do either of these things, inasmuch as Orestes would be sure to take his revenge when he grew up and wanted to return home. Mercury told him this in all good will but he would not listen, and now he has paid for everything in full. Then Minerva said, Father, son of Saturn, King of kings, it served Aegisthus right, and so it would any one else who does as he did; but Aegisthus is neither here nor there; it is for Ulysses that my heart bleeds, when I think of his sufferings in that lonely sea-girt island, far away, poor man, from all his friends. It is an island covered with forest, in the very middle of the sea, and a goddess lives there, daughter of the magician Atlas, who looks after the bottom of the ocean, and carries the great columns that keep heaven and earth asunder. This daughter of Atlas has got hold of poor unhappy Ulysses, and keeps trying by every kind of blandishment to make him forget his home, so that he is tired of life, and thinks of nothing but how he may once more see the smoke of his own chimneys. You, sir, take no heed of this, and yet when Ulysses was before Troy did he not propitiate you with many a burnt sacrifice? Why then should you keep on being so angry with him? And Jove said, My child, what are you talking about? How can I forget Ulysses than whom there is no more capable man on earth, nor more liberal in his offerings to the immortal gods that live in heaven? Bear in mind, however, that Neptune is still furious with Ulysses for having blinded an eye of Polyphemus king of the Cyclopes. Polyphemus is son to Neptune by the nymph Thoosa, daughter to the sea-king Phorcys; therefore though he will not kill Ulysses outright, he torments him by preventing him from getting home. Still, let us lay our heads together and see how we can help him to return; Neptune will then be pacified, for if we are all of a mind he can hardly stand out against us. And Minerva said, Father, son of Saturn, King of kings, if, then, the gods now mean that Ulysses should get home, we should first send Mercury to the Ogygian island to tell Calypso that we have made up our minds and that he is to return. In the meantime I will go to Ithaca, to put heart into Ulysses' son Telemachus; I will embolden him to call the Achaeans in assembly, and speak out to the suitors of his mother Penelope, who persist in eating up any number of his sheep and oxen; I will also conduct him to Sparta and to Pylos, to see if he can hear anything about the return of his dear father--for this will make people speak well of him. So saying she bound on her glittering golden sandals, imperishable, with which she can fly like the wind over land or sea; she grasped the redoubtable bronze-shod spear, so stout and sturdy and strong, wherewith she quells the ranks of heroes who have displeased her, and down she darted from the topmost summits of Olympus, whereon forthwith she was in Ithaca, at the gateway of Ulysses' house, disguised as a visitor, Mentes, chief of the Taphians, and she held a bronze spear in her hand. There she found the lordly suitors seated on hides of the oxen which they had killed and eaten, and playing draughts in front of the house. Men-servants and pages were bustling about to wait upon them, some mixing wine with water in the mixing-bowls, some cleaning down the tables with wet sponges and laying them out again, and some cutting up great quantities of meat. Telemachus saw her long before any one else did. He was sitting moodily among the suitors thinking about his brave father, and how he would send them flying out of the house, if he were to come to his own again and be honoured as in days gone by. Thus brooding as he sat among them, he caught sight of Minerva and went straight to the gate, for he was vexed that a stranger should be kept waiting for admittance. He took her right hand in his own, and bade her give him her spear. Welcome, said he, to our house, and when you have partaken of food you shall tell us what you have come for. He led the way as he spoke, and Minerva followed him. When they were within he took her spear and set it in the spear-stand against a strong bearing-post along with the many other spears of his unhappy father, and he conducted her to a richly decorated seat under which he threw a cloth of damask. There was a footstool also for her feet,{2} and he set another seat near her for himself, away from the suitors, that she might not be annoyed while eating by their noise and insolence, and that he might ask her more freely about his father. A maid servant then brought them water in a beautiful golden ewer and poured it into a silver basin for them to wash their hands, and she drew a clean table beside them. An upper servant brought them bread, and offered them many good things of what there was in the house, the carver fetched them plates of all manner of meats and set cups of gold by their side, and a manservant brought them wine and poured it out for them. Then the suitors came in and took their places on the benches and seats. {3} Forthwith men servants poured water over their hands, maids went round with the bread-baskets, pages filled the mixing-bowls with wine and water, and they laid their hands upon the good things that were before them. As soon as they had had enough to eat and drink they wanted music and dancing, which are the crowning embellishments of a banquet, so a servant brought a lyre to Phemius, whom they compelled perforce to sing to them. As soon as he touched his lyre and began to sing Telemachus spoke low to Minerva, with his head close to hers that no man might hear. I hope, sir, said he, that you will not be offended with what I am going to say. Singing comes cheap to those who do not pay for it, and all this is done at the cost of one whose bones lie rotting in some wilderness or grinding to powder in the surf. If these men were to see my father come back to Ithaca they would pray for longer legs rather than a longer purse, for money would not serve them; but he, alas, has fallen on an ill fate, and even when people do sometimes say that he is coming, we no longer heed them; we shall never see him again. And now, sir, tell me and tell me true, who you are and where you come from. Tell me of your town and parents, what manner of ship you came in, how your crew brought you to Ithaca, and of what nation they declared themselves to be--for you cannot have come by land. Tell me also truly, for I want to know, are you a stranger to this house, or have you been here in my father's time? In the old days we had many visitors for my father went about much himself. And Minerva answered, I will tell you truly and particularly all about it. I am Mentes, son of Anchialus, and I am King of the Taphians. I have come here with my ship and crew, on a voyage to men of a foreign tongue being bound for Temesa {4} with a cargo of iron, and I shall bring back copper. As for my ship, it lies over yonder off the open country away from the town, in the harbour Rheithron {5} under the wooded mountain Neritum. {6} Our fathers were friends before us, as old Laertes will tell you, if you will go and ask him. They say, however, that he never comes to town now, and lives by himself in the country, faring hardly, with an old woman to look after him and get his dinner for him, when he comes in tired from pottering about his vineyard. They told me your father was at home again, and that was why I came, but it seems the gods are still keeping him back, for he is not dead yet not on the mainland. It is more likely he is on some sea-girt island in mid ocean, or a prisoner among savages who are detaining him against his will. I am no prophet, and know very little about omens, but I speak as it is borne in upon me from heaven, and assure you that he will not be away much longer; for he is a man of such resource that even though he were in chains of iron he would find some means of getting home again. But tell me, and tell me true, can Ulysses really have such a fine looking fellow for a son? You are indeed wonderfully like him about the head and eyes, for we were close friends before he set sail for Troy where the flower of all the Argives went also. Since that time we have never either of us seen the other. My mother, answered Telemachus, tells me I am son to Ulysses, but it is a wise child that knows his own father. Would that I were son to one who had grown old upon his own estates, for, since you ask me, there is no more ill-starred man under heaven than he who they tell me is my father. And Minerva said, There is no fear of your race dying out yet, while Penelope has such a fine son as you are. But tell me, and tell me true, what is the meaning of all this feasting, and who are these people? What is it all about? Have you some banquet, or is there a wedding in the family--for no one seems to be bringing any provisions of his own? And the guests--how atrociously they are behaving; what riot they make over the whole house; it is enough to disgust any respectable person who comes near them. Sir, said Telemachus, as regards your question, so long as my father was here it was well with us and with the house, but the gods in their displeasure have willed it otherwise, and have hidden him away more closely than mortal man was ever yet hidden. I could have borne it better even though he were dead, if he had fallen with his men before Troy, or had died with friends around him when the days of his fighting were done; for then the Achaeans would have built a mound over his ashes, and I should myself have been heir to his renown; but now the storm-winds have spirited him away we know not whither; he is gone without leaving so much as a trace behind him, and I inherit nothing but dismay. Nor does the matter end simply with grief for the loss of my father; heaven has laid sorrows upon me of yet another kind; for the chiefs from all our islands, Dulichium, Same, and the woodland island of Zacynthus, as also all the principal men of Ithaca itself, are eating up my house under the pretext of paying their court to my mother, who will neither point blank say that she will not marry, {7} nor yet bring matters to an end; so they are making havoc of my estate, and before long will do so also with myself. Is that so? exclaimed Minerva, then you do indeed want Ulysses home again. Give him his helmet, shield, and a couple of lances, and if he is the man he was when I first knew him in our house, drinking and making merry, he would soon lay his hands about these rascally suitors, were he to stand once more upon his own threshold. He was then coming from Ephyra, where he had been to beg poison for his arrows from Ilus, son of Mermerus. Ilus feared the ever-living gods and would not give him any, but my father let him have some, for he was very fond of him. If Ulysses is the man he then was these suitors will have a short shrift and a sorry wedding. But there! It rests with heaven to determine whether he is to return, and take his revenge in his own house or no; I would, however, urge you to set about trying to get rid of these suitors at once. Take my advice, call the Achaean heroes in assembly to-morrow morning--lay your case before them, and call heaven to bear you witness. Bid the suitors take themselves off, each to his own place, and if your mother's mind is set on marrying again, let her go back to her father, who will find her a husband and provide her with all the marriage gifts that so dear a daughter may expect. As for yourself, let me prevail upon you to take the best ship you can get, with a crew of twenty men, and go in quest of your father who has so long been missing. Some one may tell you something, or (and people often hear things in this way) some heaven-sent message may direct you. First go to Pylos and ask Nestor; thence go on to Sparta and visit Menelaus, for he got home last of all the Achaeans; if you hear that your father is alive and on his way home, you can put up with the waste these suitors will make for yet another twelve months. If on the other hand you hear of his death, come home at once, celebrate his funeral rites with all due pomp, build a barrow to his memory, and make your mother marry again. Then, having done all this, think it well over in your mind how, by fair means or foul, you may kill these suitors in your own house. You are too old to plead infancy any longer; have you not heard how people are singing Orestes' praises for having killed his father's murderer Aegisthus? You are a fine, smart looking fellow; show your mettle, then, and make yourself a name in story. Now, however, I must go back to my ship and to my crew, who will be impatient if I keep them waiting longer; think the matter over for yourself, and remember what I have said to you. Sir, answered Telemachus, it has been very kind of you to talk to me in this way, as though I were your own son, and I will do all you tell me; I know you want to be getting on with your voyage, but stay a little longer till you have taken a bath and refreshed yourself. I will then give you a present, and you shall go on your way rejoicing; I will give you one of great beauty and value--a keepsake such as only dear friends give to one another. Minerva answered, Do not try to keep me, for I would be on my way at once. As for any present you may be disposed to make me, keep it till I come again, and I will take it home with me. You shall give me a very good one, and I will give you one of no less value in return. With these words she flew away like a bird into the air, but she had given Telemachus courage, and had made him think more than ever about his father. He felt the change, wondered at it, and knew that the stranger had been a god, so he went straight to where the suitors were sitting. Phemius was still singing, and his hearers sat rapt in silence as he told the sad tale of the return from Troy, and the ills Minerva had laid upon the Achaeans. Penelope, daughter of Icarius, heard his song from her room upstairs, and came down by the great staircase, not alone, but attended by two of her handmaids. When she reached the suitors she stood by one of the bearing posts that supported the roof of the cloisters {8} with a staid maiden on either side of her. She held a veil, moreover, before her face, and was weeping bitterly. Phemius, she cried, you know many another feat of gods and heroes, such as poets love to celebrate. Sing the suitors some one of these, and let them drink their wine in silence, but cease this sad tale, for it breaks my sorrowful heart, and reminds me of my lost husband whom I mourn ever without ceasing, and whose name was great over all Hellas and middle Argos. {9} Mother, answered Telemachus, let the bard sing what he has a mind to; bards do not make the ills they sing of; it is Jove, not they, who makes them, and who sends weal or woe upon mankind according to his own good pleasure. This fellow means no harm by singing the ill-fated return of the Danaans, for people always applaud the latest songs most warmly. Make up your mind to it and bear it; Ulysses is not the only man who never came back from Troy, but many another went down as well as he. Go, then, within the house and busy yourself with your daily duties, your loom, your distaff, and the ordering of your servants; for speech is man's matter, and mine above all others {10}--for it is I who am master here. She went wondering back into the house, and laid her son's saying in her heart. Then, going upstairs with her handmaids into her room, she mourned her dear husband till Minerva shed sweet sleep over her eyes. But the suitors were clamorous throughout the covered cloisters {11}, and prayed each one that he might be her bed fellow. Then Telemachus spoke, Shameless, he cried, and insolent suitors, let us feast at our pleasure now, and let there be no brawling, for it is a rare thing to hear a man with such a divine voice as Phemius has; but in the morning meet me in full assembly that I may give you formal notice to depart, and feast at one another's houses, turn and turn about, at your own cost. If on the other hand you choose to persist in spunging upon one man, heaven help me, but Jove shall reckon with you in full, and when you fall in my father's house there shall be no man to avenge you. The suitors bit their lips as they heard him, and marvelled at the boldness of his speech. Then, Antinous, son of Eupeithes, said, The gods seem to have given you lessons in bluster and tall talking; may Jove never grant you to be chief in Ithaca as your father was before you. Telemachus answered, Antinous, do not chide with me, but, god willing, I will be chief too if I can. Is this the worst fate you can think of for me? It is no bad thing to be a chief, for it brings both riches and honour. Still, now that Ulysses is dead there are many great men in Ithaca both old and young, and some other may take the lead among them; nevertheless I will be chief in my own house, and will rule those whom Ulysses has won for me. Then Eurymachus, son of Polybus, answered, It rests with heaven to decide who shall be chief among us, but you shall be master in your own house and over your own possessions; no one while there is a man in Ithaca shall do you violence nor rob you. And now, my good fellow, I want to know about this stranger. What country does he come from? Of what family is he, and where is his estate? Has he brought you news about the return of your father, or was he on business of his own? He seemed a well to do man, but he hurried off so suddenly that he was gone in a moment before we could get to know him. My father is dead and gone, answered Telemachus, and even if some rumour reaches me I put no more faith in it now. My mother does indeed sometimes send for a soothsayer and question him, but I give his prophecyings no heed. As for the stranger, he was Mentes, son of Anchialus, chief of the Taphians, an old friend of my father's. But in his heart he knew that it had been the goddess. The suitors then returned to their singing and dancing until the evening; but when night fell upon their pleasuring they went home to bed each in his own abode. {12} Telemachus's room was high up in a tower {13} that looked on to the outer court; hither, then, he hied, brooding and full of thought. A good old woman, Euryclea, daughter of Ops, the son of Pisenor, went before him with a couple of blazing torches. Laertes had bought her with his own money when she was quite young; he gave the worth of twenty oxen for her, and shewed as much respect to her in his household as he did to his own wedded wife, but he did not take her to his bed for he feared his wife's resentment. {14} She it was who now lighted Telemachus to his room, and she loved him better than any of the other women in the house did, for she had nursed him when he was a baby. He opened the door of his bed room and sat down upon the bed; as he took off his shirt {15} he gave it to the good old woman, who folded it tidily up, and hung it for him over a peg by his bed side, after which she went out, pulled the door to by a silver catch, and drew the bolt home by means of the strap. {16} But Telemachus as he lay covered with a woollen fleece kept thinking all night through of his intended voyage and of the counsel that Minerva had given him.\""
   ]
  },
  {
   "cell_type": "code",
   "execution_count": 28,
   "metadata": {
    "collapsed": false
   },
   "outputs": [],
   "source": [
    "texto_largo_l = limpiar(texto_largo,alfb)"
   ]
  },
  {
   "cell_type": "code",
   "execution_count": 29,
   "metadata": {
    "collapsed": false
   },
   "outputs": [],
   "source": [
    "texto_largo_e = encriptar_vig(texto_largo_l,'CIRUELA');"
   ]
  },
  {
   "cell_type": "code",
   "execution_count": 30,
   "metadata": {
    "collapsed": false
   },
   "outputs": [
    {
     "data": {
      "text/plain": [
       "'CIRUELA'"
      ]
     },
     "execution_count": 30,
     "metadata": {},
     "output_type": "execute_result"
    }
   ],
   "source": [
    "buscar_clave(texto_largo_e,7)"
   ]
  },
  {
   "cell_type": "markdown",
   "metadata": {},
   "source": [
    "<h4>Longitud de la clave</h4>"
   ]
  },
  {
   "cell_type": "code",
   "execution_count": 31,
   "metadata": {
    "collapsed": false
   },
   "outputs": [],
   "source": [
    "def buscar_clave2(texto_e):\n",
    "    for int in srange(3,30):\n",
    "        clave = buscar_clave(texto_largo_e,int)\n",
    "        print clave"
   ]
  },
  {
   "cell_type": "code",
   "execution_count": 32,
   "metadata": {
    "collapsed": false
   },
   "outputs": [
    {
     "name": "stdout",
     "output_type": "stream",
     "text": [
      "EEA\n",
      "EEAE\n",
      "EEAEE\n",
      "EEEAEA\n",
      "CIRUELA\n",
      "EAAEEEEE\n",
      "EEEEEEARA\n",
      "AEELEURAAE\n",
      "EAEAAEAEEEE\n",
      "EREEEEAEALAA\n",
      "AERAEEAREEAEA\n",
      "CIRUELACIRUELA\n",
      "ARAEELAEAEEEEEE\n",
      "LLEEELEEERAEEEEA\n",
      "RAEREEEAAULAAEEEE\n",
      "EHAEELIELLEUEEEARA\n",
      "RAAEAUEEREEELEAIEEA\n",
      "LEAEEUUAAEAAELEERAAH\n",
      "CIRUELACIRUELACIRUELA\n",
      "EAUAEEAALUUEAAILHLREAL\n",
      "AELAAELEUAEUAEAEALRELEA\n",
      "LREUREAERAAAEEEEEUAEALEA\n",
      "LELLUAAAIEERARAHJEEEEAAAE\n",
      "AEIULRAEEULERUALAEELRAEEEL\n",
      "EHEAELAREEHAEEAARALAAIRERLA\n",
      "CIRUELACIRJELACIRUELACIRUELA\n",
      "REERLEARUAEEERLELALAUEAEALEEA\n"
     ]
    }
   ],
   "source": [
    "buscar_clave2(texto_largo_e)"
   ]
  },
  {
   "cell_type": "markdown",
   "metadata": {},
   "source": [
    "<p>&iquest;Qu&eacute; se ve de interesante aqu&iacute;?</p>"
   ]
  }
 ],
 "metadata": {
  "kernelspec": {
   "display_name": "SageMath 7.3",
   "language": "",
   "name": "sagemath"
  },
  "language_info": {
   "codemirror_mode": {
    "name": "ipython",
    "version": 2
   },
   "file_extension": ".py",
   "mimetype": "text/x-python",
   "name": "python",
   "nbconvert_exporter": "python",
   "pygments_lexer": "ipython2",
   "version": "2.7.10"
  }
 },
 "nbformat": 4,
 "nbformat_minor": 0
}
