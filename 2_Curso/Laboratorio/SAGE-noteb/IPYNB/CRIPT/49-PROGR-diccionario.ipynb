{
 "cells": [
  {
   "cell_type": "markdown",
   "metadata": {},
   "source": [
    "<h3>Diccionarios</h3>\n",
    "<p>Disponemos, en $\"PALABRAS2.txt\"$ de una lista de unas 120000 palabras en ingl&eacute;s, y queremos organizar la informaci&oacute;n en un&nbsp; diccionario de SAGE. Como el uso de este diccionario ser&aacute;&nbsp; para averiguar si una palabra pertenece o no al ingl&eacute;s nos conviene usar como claves los posibles grupos de tres letras iniciales y valores listas de palabras que comienzan por esas tres letras de la clave.</p>"
   ]
  },
  {
   "cell_type": "code",
   "execution_count": 1,
   "metadata": {
    "collapsed": false
   },
   "outputs": [],
   "source": [
    "def diccionario():\n",
    "    dicc = {}\n",
    "    infile = open(\"PALABRAS2.txt\",\"r\")\n",
    "    for palabra in infile.readlines():\n",
    "        if dicc.has_key(palabra[:3]):\n",
    "            dicc[palabra[:3]].append(palabra[:-1])\n",
    "        else:\n",
    "            dicc[palabra[:3]]=[palabra[:-1]]\n",
    "    infile.close()\n",
    "    return dicc"
   ]
  },
  {
   "cell_type": "code",
   "execution_count": 2,
   "metadata": {
    "collapsed": false
   },
   "outputs": [],
   "source": [
    "dicc = diccionario()"
   ]
  },
  {
   "cell_type": "code",
   "execution_count": 3,
   "metadata": {
    "collapsed": false
   },
   "outputs": [
    {
     "name": "stdout",
     "output_type": "stream",
     "text": [
      "['GEOCENTRIC', 'GEOCENTRICALLY', 'GEOCENTRICISM', 'GEOCHEMICAL', 'GEOCHEMICALLY', 'GEOCHEMIST', 'GEOCHEMISTRY', 'GEOCHRONOLOGIC', 'GEOCHRONOLOGICAL', 'GEOCHRONOLOGICALLY', 'GEOCHRONOLOGIST', 'GEOCHRONOLOGY', 'GEOCHRONOMETRIC', 'GEOCHRONOMETRY', 'GEODE', \"GEODE'S\", 'GEODES', 'GEODESIC', 'GEODESICS', 'GEODESIST', 'GEODESY', 'GEODETIC', 'GEODETICAL', 'GEODETICALLY', 'GEODUCK', 'GEODYNAMICS', 'GEOFF', \"GEOFF'S\", 'GEOFFREY', \"GEOFFREY'S\", 'GEOGNOSY', 'GEOGRAPHER', \"GEOGRAPHER'S\", 'GEOGRAPHERS', 'GEOGRAPHIC', 'GEOGRAPHICAL', 'GEOGRAPHICALLY', 'GEOGRAPHIES', 'GEOGRAPHY', 'GEOHYDROLOGIC', 'GEOHYDROLOGY', 'GEOID', 'GEOLOGIC', 'GEOLOGICAL', 'GEOLOGIST', \"GEOLOGIST'S\", 'GEOLOGISTS', 'GEOLOGY', 'GEOMAGNETIC', 'GEOMAGNETICALLY', 'GEOMAGNETISM', 'GEOMANCY', 'GEOMANTIC', 'GEOMECHANICS', 'GEOMETER', \"GEOMETER'S\", 'GEOMETERS', 'GEOMETRIC', 'GEOMETRICAL', 'GEOMETRICALLY', 'GEOMETRICIAN', 'GEOMETRID', 'GEOMETRIES', 'GEOMETRY', 'GEOMORPHIC', 'GEOMORPHOLOGICAL', 'GEOMORPHOLOGY', 'GEOPHAGY', 'GEOPHYSICAL', 'GEOPHYSICALLY', 'GEOPHYSICIST', 'GEOPHYSICISTS', 'GEOPHYSICS', 'GEOPHYTE', 'GEOPOLITIC', 'GEOPOLITICAL', 'GEOPOLITICALLY', 'GEOPOLITICIAN', 'GEOPOLITICS', 'GEOPONIC', 'GEOPONICS', 'GEORDIE', 'GEORGE', \"GEORGE'S\", 'GEORGES', 'GEORGETOWN', 'GEORGETTE', 'GEORGIA', 'GEORGIAN', 'GEORGIANS', 'GEORGIC', 'GEOSCIENCE', 'GEOSPHERE', 'GEOSTATIC', 'GEOSTATICS', 'GEOSTRATEGIC', 'GEOSTRATEGIST', 'GEOSTRATEGY', 'GEOSTROPHIC', 'GEOSTROPHICALLY', 'GEOSYNCHRONOUS', 'GEOSYNCLINE', 'GEOTAXIS', 'GEOTECTONIC', 'GEOTHERMAL', 'GEOTHERMALLY', 'GEOTHERMIC', 'GEOTROPIC', 'GEOTROPICALLY', 'GEOTROPISM']\n"
     ]
    }
   ],
   "source": [
    "print dicc[\"GEO\"]"
   ]
  },
  {
   "cell_type": "code",
   "execution_count": 5,
   "metadata": {
    "collapsed": false
   },
   "outputs": [
    {
     "name": "stdout",
     "output_type": "stream",
     "text": [
      "['MAT', \"MAT'S\", 'MATABELE', 'MATABELELAND', 'MATADI', 'MATADOR', 'MATAMOROS', 'MATANZAS', 'MATAPAN', 'MATCH', 'MATCHABLE', 'MATCHBOARD', 'MATCHBOARDING', 'MATCHBOOK', 'MATCHBOX', 'MATCHED', 'MATCHER', 'MATCHERS', 'MATCHES', 'MATCHING', 'MATCHINGS', 'MATCHLESS', 'MATCHLESSLY', 'MATCHLOCK', 'MATCHMAKE', 'MATCHMAKER', \"MATCHMAKER'S\", 'MATCHMAKERS', 'MATCHMAKING', \"MATCHMAKING'S\", 'MATCHMARK', 'MATCHSTICK', 'MATCHWOOD', 'MATE', \"MATE'S\", 'MATED', 'MATELOTE', 'MATEO', \"MATEO'S\", 'MATER', 'MATERFAMILIAS', 'MATERIAL', 'MATERIALISM', \"MATERIALISM'S\", 'MATERIALIST', 'MATERIALISTIC', 'MATERIALISTICALLY', 'MATERIALITY', 'MATERIALLY', 'MATERIALNESS', 'MATERIALS', 'MATERIEL', 'MATERNAL', 'MATERNALLY', 'MATERNITY', 'MATES', 'MATEY', 'MATH', 'MATHEMATIC', 'MATHEMATICAL', 'MATHEMATICALLY', 'MATHEMATICIAN', \"MATHEMATICIAN'S\", 'MATHEMATICIANS', 'MATHEMATICS', 'MATHEWS', 'MATHEWSON', 'MATHIAS', 'MATHIEU', 'MATHIS', 'MATHS', 'MATHURA', 'MATILDA', 'MATINAL', 'MATINEE', 'MATING', 'MATINGS', 'MATINS', 'MATISSE', 'MATISSES', 'MATLO', 'MATLOCK', 'MATO', 'MATOKE', 'MATOPO', 'MATORIN', 'MATOZINHOS', 'MATRASS', 'MATRIARCH', 'MATRIARCHAL', 'MATRIARCHATE', 'MATRIARCHY', 'MATRIC', 'MATRICES', 'MATRICIDAL', 'MATRICIDE', 'MATRICLINOUS', 'MATRICULANT', 'MATRICULATE', 'MATRICULATED', 'MATRICULATES', 'MATRICULATING', 'MATRICULATION', 'MATRILINEAL', 'MATRILINEALLY', 'MATRILOCAL', 'MATRIMONIAL', 'MATRIMONIALLY', 'MATRIMONY', 'MATRIX', 'MATRIXES', 'MATROCLINOUS', 'MATROID', 'MATRON', 'MATRONAGE', 'MATRONLY', 'MATRONYMIC', 'MATS', 'MATSON', \"MATSON'S\", 'MATSU', 'MATSUMOTO', \"MATSUMOTO'S\", 'MATSUYAMA', 'MATT', \"MATT'S\", 'MATTAMORE', 'MATTE', 'MATTED', 'MATTEI', 'MATTER', 'MATTERED', 'MATTERHORN', 'MATTERING', 'MATTERS', 'MATTERY', 'MATTHEW', 'MATTHEWS', 'MATTHIAS', 'MATTIE', 'MATTILA', 'MATTING', 'MATTINS', 'MATTOCK', 'MATTOID', 'MATTRASS', 'MATTRESS', \"MATTRESS'S\", 'MATTRESSES', 'MATTSON', \"MATTSON'S\", 'MATURATE', 'MATURATED', 'MATURATES', 'MATURATING', 'MATURATION', 'MATURATIONAL', 'MATURATIONS', 'MATURATIVE', 'MATURE', 'MATURED', 'MATURELY', 'MATURENESS', 'MATURER', 'MATURES', 'MATURING', 'MATURITIES', 'MATURITY', 'MATUTINAL', 'MATUTINALLY', 'MATZO', 'MATZOON', 'MATZOS']\n"
     ]
    }
   ],
   "source": [
    "print dicc[\"MAT\"]"
   ]
  },
  {
   "cell_type": "code",
   "execution_count": 6,
   "metadata": {
    "collapsed": false
   },
   "outputs": [],
   "source": [
    "def comprueba(C):\n",
    "    if C in dicc[C[:3]]:\n",
    "        return True\n",
    "    else:\n",
    "        return False"
   ]
  },
  {
   "cell_type": "code",
   "execution_count": 7,
   "metadata": {
    "collapsed": false
   },
   "outputs": [
    {
     "name": "stdout",
     "output_type": "stream",
     "text": [
      "CPU times: user 0 ns, sys: 0 ns, total: 0 ns\n",
      "Wall time: 13.1 µs\n"
     ]
    },
    {
     "data": {
      "text/plain": [
       "True"
      ]
     },
     "execution_count": 7,
     "metadata": {},
     "output_type": "execute_result"
    }
   ],
   "source": [
    "time comprueba('GEOMETRY')"
   ]
  },
  {
   "cell_type": "code",
   "execution_count": 8,
   "metadata": {
    "collapsed": false
   },
   "outputs": [
    {
     "name": "stdout",
     "output_type": "stream",
     "text": [
      "CPU times: user 0 ns, sys: 0 ns, total: 0 ns\n",
      "Wall time: 11 µs\n"
     ]
    },
    {
     "data": {
      "text/plain": [
       "False"
      ]
     },
     "execution_count": 8,
     "metadata": {},
     "output_type": "execute_result"
    }
   ],
   "source": [
    "time comprueba('ABCDEFG')"
   ]
  },
  {
   "cell_type": "markdown",
   "metadata": {},
   "source": [
    "<h4>Usando listas</h4>"
   ]
  },
  {
   "cell_type": "code",
   "execution_count": 9,
   "metadata": {
    "collapsed": false
   },
   "outputs": [],
   "source": [
    "def listado():\n",
    "    L = []\n",
    "    infile = open(\"PALABRAS2.txt\",\"r\")\n",
    "    for palabra in infile.readlines():\n",
    "        L.append(palabra[:-1])\n",
    "    return L"
   ]
  },
  {
   "cell_type": "code",
   "execution_count": 10,
   "metadata": {
    "collapsed": false
   },
   "outputs": [],
   "source": [
    "L = listado()"
   ]
  },
  {
   "cell_type": "code",
   "execution_count": 11,
   "metadata": {
    "collapsed": false
   },
   "outputs": [
    {
     "data": {
      "text/plain": [
       "124341"
      ]
     },
     "execution_count": 11,
     "metadata": {},
     "output_type": "execute_result"
    }
   ],
   "source": [
    "len(L)"
   ]
  },
  {
   "cell_type": "code",
   "execution_count": 12,
   "metadata": {
    "collapsed": false
   },
   "outputs": [
    {
     "data": {
      "text/plain": [
       "'ABDOMENS'"
      ]
     },
     "execution_count": 12,
     "metadata": {},
     "output_type": "execute_result"
    }
   ],
   "source": [
    "L[100]"
   ]
  },
  {
   "cell_type": "code",
   "execution_count": 13,
   "metadata": {
    "collapsed": false
   },
   "outputs": [],
   "source": [
    "def comprueba_L(C):\n",
    "    if C in L:\n",
    "        return True\n",
    "    else:\n",
    "        return False"
   ]
  },
  {
   "cell_type": "code",
   "execution_count": 14,
   "metadata": {
    "collapsed": false
   },
   "outputs": [
    {
     "name": "stdout",
     "output_type": "stream",
     "text": [
      "CPU times: user 0 ns, sys: 0 ns, total: 0 ns\n",
      "Wall time: 708 µs\n"
     ]
    },
    {
     "data": {
      "text/plain": [
       "True"
      ]
     },
     "execution_count": 14,
     "metadata": {},
     "output_type": "execute_result"
    }
   ],
   "source": [
    "time comprueba_L('GEOMETRY')"
   ]
  },
  {
   "cell_type": "code",
   "execution_count": 15,
   "metadata": {
    "collapsed": false
   },
   "outputs": [
    {
     "name": "stdout",
     "output_type": "stream",
     "text": [
      "CPU times: user 1.7 ms, sys: 117 µs, total: 1.82 ms\n",
      "Wall time: 1.89 ms\n"
     ]
    },
    {
     "data": {
      "text/plain": [
       "False"
      ]
     },
     "execution_count": 15,
     "metadata": {},
     "output_type": "execute_result"
    }
   ],
   "source": [
    "time comprueba_L('ABCDEFG')"
   ]
  },
  {
   "cell_type": "markdown",
   "metadata": {},
   "source": [
    "<p>Los tiempos que obtenemos son menores para el diccionario, pero conviene  aplicar ambos m&eacute;todos a un texto corto:</p>"
   ]
  },
  {
   "cell_type": "code",
   "execution_count": 16,
   "metadata": {
    "collapsed": false
   },
   "outputs": [],
   "source": [
    "def comprueba_texto(C):\n",
    "    cont = 0\n",
    "    L = C.split()\n",
    "    for palabra in L:\n",
    "        if comprueba(palabra) == True:\n",
    "            cont += 1\n",
    "    return cont"
   ]
  },
  {
   "cell_type": "code",
   "execution_count": 17,
   "metadata": {
    "collapsed": false
   },
   "outputs": [],
   "source": [
    "texto = \"THROUGH THE USE  ABSTRACTION AND LOGICAL REASONING MATHEMATICS DEVELOPED FROM COUNTING CALCULATION MEASUREMENT AND THE SYSTEMATIC STUDY  THE SHAPES AND MOTIONS  PHYSICAL OBJECTS PRACTICAL MATHEMATICS HAS BEEN  HUMAN ACTIVITY FOR  FAR BACK  WRITTEN RECORDS EXIST RIGOROUS ARGUMENTS FIRST APPEARED  GREEK MATHEMATICS MOST NOTABLY  EUCLIDS ELEMENTS MATHEMATICS DEVELOPED  RELATIVELY SLOW PACE UNTIL THE RENAISSANCE WHEN MATHEMATICAL INNOVATIONS INTERACTING WITH NEW SCIENTIFIC DISCOVERIES LED  RAPID INCREASE  THE RATE  MATHEMATICAL DISCOVERY THAT CONTINUES  THE PRESENT DAY\""
   ]
  },
  {
   "cell_type": "code",
   "execution_count": 18,
   "metadata": {
    "collapsed": false
   },
   "outputs": [
    {
     "data": {
      "text/plain": [
       "72\n",
       "Time: CPU 0.00 s, Wall: 0.00 s"
      ]
     },
     "execution_count": 18,
     "metadata": {},
     "output_type": "execute_result"
    }
   ],
   "source": [
    "time comprueba_texto(texto)"
   ]
  },
  {
   "cell_type": "code",
   "execution_count": 18,
   "metadata": {
    "collapsed": false
   },
   "outputs": [],
   "source": [
    "def comprueba_texto2(C):\n",
    "    cont = 0\n",
    "    L = C.split()\n",
    "    for palabra in L:\n",
    "        if comprueba_L(palabra) == True:\n",
    "            cont += 1\n",
    "    return cont"
   ]
  },
  {
   "cell_type": "code",
   "execution_count": 19,
   "metadata": {
    "collapsed": false
   },
   "outputs": [
    {
     "name": "stdout",
     "output_type": "stream",
     "text": [
      "CPU times: user 69 ms, sys: 1.3 ms, total: 70.3 ms\n",
      "Wall time: 182 ms\n"
     ]
    },
    {
     "data": {
      "text/plain": [
       "72"
      ]
     },
     "execution_count": 19,
     "metadata": {},
     "output_type": "execute_result"
    }
   ],
   "source": [
    "time comprueba_texto2(texto)"
   ]
  },
  {
   "cell_type": "markdown",
   "metadata": {},
   "source": [
    "<p>Usando un diccionario seguimos obteniendo resultados mejores. Por supuesto, en una situaci&oacute;n real, con textos mucho m&aacute;s largos, la diferencia en tiempos debe ser  grande.</p>\n",
    "<h4>Versi&oacute;n abstracta</h4>\n",
    "<p>Generamos una lista de $10^6$ enteros aleatorios en el intervalo $[100,10^7]$ que convertimos en cadenas de caracteres (palabras). Enteros aleatorios significa que todos los enteros del intervalo tienen,a priori,&nbsp; la misma probabilidad de aparecer en la lista $L$.</p>"
   ]
  },
  {
   "cell_type": "code",
   "execution_count": 20,
   "metadata": {
    "collapsed": false
   },
   "outputs": [],
   "source": [
    "L = [str(randint(100,10^7)) for muda in srange(10^6)]"
   ]
  },
  {
   "cell_type": "markdown",
   "metadata": {},
   "source": [
    "<h5>Con listas</h5>"
   ]
  },
  {
   "cell_type": "code",
   "execution_count": 21,
   "metadata": {
    "collapsed": false
   },
   "outputs": [],
   "source": [
    "def comprobador(L):\n",
    "    cont = 0\n",
    "    for muda in srange(10^3):\n",
    "        if muda%100 == 0:\n",
    "            print \"Van otros 100\"\n",
    "        if str(randint(1,10^7)) in L:\n",
    "            cont += 1\n",
    "    return cont"
   ]
  },
  {
   "cell_type": "code",
   "execution_count": 22,
   "metadata": {
    "collapsed": false
   },
   "outputs": [
    {
     "name": "stdout",
     "output_type": "stream",
     "text": [
      "Van otros 100\n",
      "Van otros 100\n",
      "Van otros 100\n",
      "Van otros 100\n",
      "Van otros 100\n",
      "Van otros 100\n",
      "Van otros 100\n",
      "Van otros 100\n",
      "Van otros 100\n",
      "Van otros 100\n",
      "CPU times: user 16 s, sys: 465 µs, total: 16 s\n",
      "Wall time: 26 s\n"
     ]
    },
    {
     "data": {
      "text/plain": [
       "97"
      ]
     },
     "execution_count": 22,
     "metadata": {},
     "output_type": "execute_result"
    }
   ],
   "source": [
    "time comprobador(L)"
   ]
  },
  {
   "cell_type": "markdown",
   "metadata": {},
   "source": [
    "<h5>Con diccionarios</h5>"
   ]
  },
  {
   "cell_type": "code",
   "execution_count": 23,
   "metadata": {
    "collapsed": false
   },
   "outputs": [],
   "source": [
    "def diccionario2():\n",
    "    dicc = {}\n",
    "    for palabra in L:\n",
    "        if dicc.has_key(palabra[:3]):\n",
    "            dicc[palabra[:3]].append(palabra[:-1])\n",
    "        else:\n",
    "            dicc[palabra[:3]]=[palabra[:-1]]\n",
    "    \n",
    "    return dicc"
   ]
  },
  {
   "cell_type": "code",
   "execution_count": 24,
   "metadata": {
    "collapsed": false
   },
   "outputs": [],
   "source": [
    "dicc2 = diccionario2()"
   ]
  },
  {
   "cell_type": "code",
   "execution_count": 25,
   "metadata": {
    "collapsed": false
   },
   "outputs": [],
   "source": [
    "def comprueba2(C):\n",
    "    if C in dicc2[C[:3]]:\n",
    "        return True\n",
    "    else:\n",
    "        return False"
   ]
  },
  {
   "cell_type": "code",
   "execution_count": 26,
   "metadata": {
    "collapsed": false
   },
   "outputs": [],
   "source": [
    "def comprobador2():\n",
    "    cont = 0\n",
    "    for muda in srange(10^3):\n",
    "        if muda%100 == 0:\n",
    "            print \"Van otros 100\"\n",
    "        if comprueba2(str(randint(100,10^7))) == True:\n",
    "            cont += 1\n",
    "    return cont"
   ]
  },
  {
   "cell_type": "code",
   "execution_count": 27,
   "metadata": {
    "collapsed": false
   },
   "outputs": [
    {
     "name": "stdout",
     "output_type": "stream",
     "text": [
      "Van otros 100\n",
      "Van otros 100\n",
      "Van otros 100\n",
      "Van otros 100\n",
      "Van otros 100\n",
      "Van otros 100\n",
      "Van otros 100\n",
      "Van otros 100\n",
      "Van otros 100\n",
      "Van otros 100\n",
      "CPU times: user 63 ms, sys: 42 µs, total: 63.1 ms\n",
      "Wall time: 128 ms\n"
     ]
    },
    {
     "data": {
      "text/plain": [
       "49"
      ]
     },
     "execution_count": 27,
     "metadata": {},
     "output_type": "execute_result"
    }
   ],
   "source": [
    "time comprobador2()"
   ]
  },
  {
   "cell_type": "markdown",
   "metadata": {},
   "source": [
    "<p>Vemos la ventaja enorme, cuando la cantidad de informaci&oacute;n a manejar es muy grande,&nbsp; de estructurar la informaci&oacute;n en un diccionario frente a la versi&oacute;n mucho m&aacute;s amorfa de una lista.</p>\n",
    "<p>&Eacute;sto no deber&iacute;a sorprendernos: el diccionario tiene unas $1000$ claves y cada una de ellas tendr&aacute; como valor una lista de alrededor de $1000$ enteros. Una b&uacute;squeda en el diccionario equivale, m&aacute;s o menos,&nbsp; a&nbsp; dos b&uacute;squedas en listas de longitud $1000$,&nbsp; mientras que una b&uacute;squeda en una lista de longitud $10^6$ es mucho m&aacute;s costosa&nbsp; porque en el peor caso hay que recorrer casi toda la lista buscando nuestro entero.</p>"
   ]
  },
  {
   "cell_type": "code",
   "execution_count": 29,
   "metadata": {
    "collapsed": false
   },
   "outputs": [
    {
     "data": {
      "text/plain": [
       "1227"
      ]
     },
     "execution_count": 29,
     "metadata": {},
     "output_type": "execute_result"
    }
   ],
   "source": [
    "max([len(dicc2[key]) for key in dicc2])"
   ]
  },
  {
   "cell_type": "code",
   "execution_count": 30,
   "metadata": {
    "collapsed": false
   },
   "outputs": [
    {
     "data": {
      "text/plain": [
       "1004"
      ]
     },
     "execution_count": 30,
     "metadata": {},
     "output_type": "execute_result"
    }
   ],
   "source": [
    "min([len(dicc2[key]) for key in dicc2])"
   ]
  }
 ],
 "metadata": {
  "kernelspec": {
   "display_name": "SageMath 7.3",
   "language": "",
   "name": "sagemath"
  },
  "language_info": {
   "codemirror_mode": {
    "name": "ipython",
    "version": 2
   },
   "file_extension": ".py",
   "mimetype": "text/x-python",
   "name": "python",
   "nbconvert_exporter": "python",
   "pygments_lexer": "ipython2",
   "version": "2.7.10"
  }
 },
 "nbformat": 4,
 "nbformat_minor": 0
}
