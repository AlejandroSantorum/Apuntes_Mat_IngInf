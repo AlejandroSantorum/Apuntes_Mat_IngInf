{
 "cells": [
  {
   "cell_type": "markdown",
   "metadata": {},
   "source": [
    "<h4>Limpiar un texto de caracteres indeseados</h4>"
   ]
  },
  {
   "cell_type": "code",
   "execution_count": 1,
   "metadata": {
    "collapsed": false
   },
   "outputs": [],
   "source": [
    "alfb = \"ABCDEFGHIJKLMNOPQRSTUVWXYZ\" #Caracteres permitidos"
   ]
  },
  {
   "cell_type": "code",
   "execution_count": 2,
   "metadata": {
    "collapsed": false
   },
   "outputs": [],
   "source": [
    "texto = \"Through the use of abstraction and logical reasoning, mathematics developed from counting, calculation, measurement, and the systematic study of the shapes and motions of physical objects. Practical mathematics has been a human activity for as far back as written records exist. Rigorous arguments first appeared in Greek mathematics, most notably in Euclid's Elements. Mathematics developed at a relatively slow pace until the Renaissance, when mathematical innovations interacting with new scientific discoveries led to a rapid increase in the rate of mathematical discovery that continues to the present day.\""
   ]
  },
  {
   "cell_type": "markdown",
   "metadata": {},
   "source": [
    "<p>La codificaci&oacute;n ASCII representa cada caracter mediante un entero entre $0$ y $255$. Como $256=2^8$, cada uno de esos enteros se representa en binario mediante $8$ bits (ceros o unos), que es igual a $1$ byte. Entonces un texto de $N$ caracteres ocupa en memoria $N$ bytes.&nbsp;La funci&oacute;n $ord$ nos da el entero, en ASCII, que corresponde a un caracter ($ord('A')=65$), mientras que $chr$ es su funci&oacute;n inversa.</p>"
   ]
  },
  {
   "cell_type": "code",
   "execution_count": 3,
   "metadata": {
    "collapsed": false
   },
   "outputs": [
    {
     "name": "stdout",
     "output_type": "stream",
     "text": [
      "[65, 66, 67, 68, 69, 70, 71, 72, 73, 74, 75, 76, 77, 78, 79, 80, 81, 82, 83, 84, 85, 86, 87, 88, 89, 90]\n"
     ]
    }
   ],
   "source": [
    "print map(ord,[x for x in alfb])"
   ]
  },
  {
   "cell_type": "code",
   "execution_count": 4,
   "metadata": {
    "collapsed": false
   },
   "outputs": [
    {
     "name": "stdout",
     "output_type": "stream",
     "text": [
      "['A', 'B', 'C', 'D', 'E', 'F', 'G', 'H', 'I', 'J', 'K', 'L', 'M', 'N', 'O', 'P', 'Q', 'R', 'S', 'T', 'U', 'V', 'W', 'X', 'Y', 'Z']\n"
     ]
    }
   ],
   "source": [
    "print map(chr,map(ord,[x for x in alfb]))  #Comprobamos que chr es la inversa de ord"
   ]
  },
  {
   "cell_type": "code",
   "execution_count": 5,
   "metadata": {
    "collapsed": false
   },
   "outputs": [],
   "source": [
    "from string import * ##Hace falta para que funcione join\n",
    "def limpiar(texto,alfb):\n",
    "    '''Dejamos en el texto solo los caracteres de alf. '''\n",
    "    L = [x.capitalize() for x in list(texto)] #Cambiamos el texto a mayusculas\n",
    "    L1 = [car for car in L if car in alfb]\n",
    "    C1 = join(L1,sep = \"\")\n",
    "    return C1"
   ]
  },
  {
   "cell_type": "code",
   "execution_count": 6,
   "metadata": {
    "collapsed": false
   },
   "outputs": [
    {
     "data": {
      "text/plain": [
       "'THROUGHTHEUSEOFABSTRACTIONANDLOGICALREASONINGMATHEMATICSDEVELOPEDFROMCOUNTINGCALCULATIONMEASUREMENTANDTHESYSTEMATICSTUDYOFTHESHAPESANDMOTIONSOFPHYSICALOBJECTSPRACTICALMATHEMATICSHASBEENAHUMANACTIVITYFORASFARBACKASWRITTENRECORDSEXISTRIGOROUSARGUMENTSFIRSTAPPEAREDINGREEKMATHEMATICSMOSTNOTABLYINEUCLIDSELEMENTSMATHEMATICSDEVELOPEDATARELATIVELYSLOWPACEUNTILTHERENAISSANCEWHENMATHEMATICALINNOVATIONSINTERACTINGWITHNEWSCIENTIFICDISCOVERIESLEDTOARAPIDINCREASEINTHERATEOFMATHEMATICALDISCOVERYTHATCONTINUESTOTHEPRESENTDAY'"
      ]
     },
     "execution_count": 6,
     "metadata": {},
     "output_type": "execute_result"
    }
   ],
   "source": [
    "limpiar(texto,alfb)"
   ]
  },
  {
   "cell_type": "markdown",
   "metadata": {},
   "source": [
    "<h4>Codificaci&oacute;n m&aacute;s adaptada al tama&ntilde;o del alfabeto</h4>\n",
    "\n",
    "<p>En ocasiones, en lugar de usar la codificaci&oacute;n ASCII queremos codificar los caracteres, suponiendo que tenemos $26$ como en $alfb$,&nbsp; mediante enteros del $0$ al $25$. Para eso debemos redefinr las funciones $ord$ y $chr$:</p>"
   ]
  },
  {
   "cell_type": "code",
   "execution_count": 7,
   "metadata": {
    "collapsed": false
   },
   "outputs": [],
   "source": [
    "L_alfb = list(alfb)"
   ]
  },
  {
   "cell_type": "code",
   "execution_count": 8,
   "metadata": {
    "collapsed": false
   },
   "outputs": [],
   "source": [
    "def ord2(c):\n",
    "    return L_alfb.index(c)"
   ]
  },
  {
   "cell_type": "code",
   "execution_count": 9,
   "metadata": {
    "collapsed": false
   },
   "outputs": [],
   "source": [
    "def chr2(n):\n",
    "    return L_alfb[n]"
   ]
  },
  {
   "cell_type": "code",
   "execution_count": 10,
   "metadata": {
    "collapsed": false
   },
   "outputs": [
    {
     "name": "stdout",
     "output_type": "stream",
     "text": [
      "[0, 1, 2, 3, 4, 5, 6, 7, 8, 9, 10, 11, 12, 13, 14, 15, 16, 17, 18, 19, 20, 21, 22, 23, 24, 25]\n"
     ]
    }
   ],
   "source": [
    "print map(ord2,[x for x in alfb])"
   ]
  },
  {
   "cell_type": "code",
   "execution_count": 11,
   "metadata": {
    "collapsed": false
   },
   "outputs": [
    {
     "name": "stdout",
     "output_type": "stream",
     "text": [
      "['A', 'B', 'C', 'D', 'E', 'F', 'G', 'H', 'I', 'J', 'K', 'L', 'M', 'N', 'O', 'P', 'Q', 'R', 'S', 'T', 'U', 'V', 'W', 'X', 'Y', 'Z']\n"
     ]
    }
   ],
   "source": [
    "print map(chr2,map(ord2,[x for x in alfb]))"
   ]
  },
  {
   "cell_type": "markdown",
   "metadata": {},
   "source": [
    "<h4>Una codificaci&oacute;n binaria</h4>\n",
    "<p>En este ejercicio, que se repite y se utiliza en la hoja \"87-CRIPT-mhellman\", codificamos cada letra mediante un entero entre 0 y 25, y luego cada entero como una palabra de 5 bits.</p>"
   ]
  },
  {
   "cell_type": "code",
   "execution_count": 12,
   "metadata": {
    "collapsed": false
   },
   "outputs": [],
   "source": [
    "alfb = \"ABCDEFGHIJKLMNOPQRSTUVWXYZ\""
   ]
  },
  {
   "cell_type": "code",
   "execution_count": 13,
   "metadata": {
    "collapsed": false
   },
   "outputs": [],
   "source": [
    "L_alfb = list(alfb)"
   ]
  },
  {
   "cell_type": "code",
   "execution_count": 14,
   "metadata": {
    "collapsed": false
   },
   "outputs": [],
   "source": [
    "texto = \"Through the use of abstraction and logical reasoning, mathematics developed from counting, calculation, measurement, and the systematic study of the shapes and motions of physical objects. Practical mathematics has been a human activity for as far back as written records exist. Rigorous arguments first appeared in Greek mathematics, most notably in Euclid's Elements. Mathematics developed at a relatively slow pace until the Renaissance, when mathematical innovations interacting with new scientific discoveries led to a rapid increase in the rate of mathematical discovery that continues to the present day.\""
   ]
  },
  {
   "cell_type": "code",
   "execution_count": 15,
   "metadata": {
    "collapsed": false
   },
   "outputs": [],
   "source": [
    "def ord2(c):\n",
    "    return L_alfb.index(c)"
   ]
  },
  {
   "cell_type": "code",
   "execution_count": 16,
   "metadata": {
    "collapsed": false
   },
   "outputs": [],
   "source": [
    "def chr2(n):\n",
    "    return L_alfb[n]"
   ]
  },
  {
   "cell_type": "code",
   "execution_count": 17,
   "metadata": {
    "collapsed": false
   },
   "outputs": [
    {
     "name": "stdout",
     "output_type": "stream",
     "text": [
      "[0, 1, 2, 3, 4, 5, 6, 7, 8, 9, 10, 11, 12, 13, 14, 15, 16, 17, 18, 19, 20, 21, 22, 23, 24, 25]\n"
     ]
    }
   ],
   "source": [
    "print map(ord2,[x for x in alfb])"
   ]
  },
  {
   "cell_type": "code",
   "execution_count": 18,
   "metadata": {
    "collapsed": false
   },
   "outputs": [
    {
     "data": {
      "text/plain": [
       "[1, 1, 1, 0, 0]"
      ]
     },
     "execution_count": 18,
     "metadata": {},
     "output_type": "execute_result"
    }
   ],
   "source": [
    "(7).digits(base=2,padto=5)"
   ]
  },
  {
   "cell_type": "markdown",
   "metadata": {},
   "source": [
    "<p>$Digits$ escribe los d&iacute;gitos de izquierda a derecha. Como nos interesa  el orden inverso en la funci&oacute;n $cadena$, cuarta l&iacute;nea,&nbsp; invertimos el  orden.</p>"
   ]
  },
  {
   "cell_type": "code",
   "execution_count": 19,
   "metadata": {
    "collapsed": false
   },
   "outputs": [],
   "source": [
    "def cadena(L):\n",
    "    '''Convertimos una lista en cadena de caracteres'''\n",
    "    C = ''\n",
    "    L.reverse()\n",
    "    for item in L:\n",
    "        C = C+str(item)\n",
    "    return C"
   ]
  },
  {
   "cell_type": "code",
   "execution_count": 20,
   "metadata": {
    "collapsed": false
   },
   "outputs": [],
   "source": [
    "def bin_2(n):\n",
    "    '''Dado un entero <32 lo convertimos en una cadena de 5 bits'''\n",
    "    return cadena(ZZ(n).digits(base=2,padto=5))"
   ]
  },
  {
   "cell_type": "code",
   "execution_count": 21,
   "metadata": {
    "collapsed": false
   },
   "outputs": [
    {
     "data": {
      "text/plain": [
       "'00111'"
      ]
     },
     "execution_count": 21,
     "metadata": {},
     "output_type": "execute_result"
    }
   ],
   "source": [
    "bin_2(7)"
   ]
  },
  {
   "cell_type": "code",
   "execution_count": 22,
   "metadata": {
    "collapsed": false
   },
   "outputs": [
    {
     "name": "stdout",
     "output_type": "stream",
     "text": [
      "['A', 'B', 'C', 'D', 'E', 'F', 'G', 'H', 'I', 'J', 'K', 'L', 'M', 'N', 'O', 'P', 'Q', 'R', 'S', 'T', 'U', 'V', 'W', 'X', 'Y', 'Z']\n"
     ]
    }
   ],
   "source": [
    "print map(chr2,map(ord2,[x for x in alfb]))"
   ]
  },
  {
   "cell_type": "code",
   "execution_count": 23,
   "metadata": {
    "collapsed": false
   },
   "outputs": [],
   "source": [
    "def limpiar(texto,alfb):\n",
    "    L = map(ord,[x.capitalize() for x in list(texto)])\n",
    "    L1 = [item for item in L if item in map(ord,[x for x in alfb])]\n",
    "    C1 = join(map(chr,L1),sep = \"\")\n",
    "    return C1"
   ]
  },
  {
   "cell_type": "code",
   "execution_count": 24,
   "metadata": {
    "collapsed": false
   },
   "outputs": [
    {
     "data": {
      "text/plain": [
       "'THROUGHTHEUSEOFABSTRACTIONANDLOGICALREASONINGMATHEMATICSDEVELOPEDFROMCOUNTINGCALCULATIONMEASUREMENTANDTHESYSTEMATICSTUDYOFTHESHAPESANDMOTIONSOFPHYSICALOBJECTSPRACTICALMATHEMATICSHASBEENAHUMANACTIVITYFORASFARBACKASWRITTENRECORDSEXISTRIGOROUSARGUMENTSFIRSTAPPEAREDINGREEKMATHEMATICSMOSTNOTABLYINEUCLIDSELEMENTSMATHEMATICSDEVELOPEDATARELATIVELYSLOWPACEUNTILTHERENAISSANCEWHENMATHEMATICALINNOVATIONSINTERACTINGWITHNEWSCIENTIFICDISCOVERIESLEDTOARAPIDINCREASEINTHERATEOFMATHEMATICALDISCOVERYTHATCONTINUESTOTHEPRESENTDAY'"
      ]
     },
     "execution_count": 24,
     "metadata": {},
     "output_type": "execute_result"
    }
   ],
   "source": [
    "texto2 = limpiar(texto,alfb);texto2"
   ]
  },
  {
   "cell_type": "code",
   "execution_count": 25,
   "metadata": {
    "collapsed": false
   },
   "outputs": [
    {
     "name": "stdout",
     "output_type": "stream",
     "text": [
      "[19, 7, 17, 14, 20, 6, 7, 19, 7, 4, 20, 18, 4, 14, 5, 0, 1, 18, 19, 17, 0, 2, 19, 8, 14, 13, 0, 13, 3, 11, 14, 6, 8, 2, 0, 11, 17, 4, 0, 18, 14, 13, 8, 13, 6, 12, 0, 19, 7, 4, 12, 0, 19, 8, 2, 18, 3, 4, 21, 4, 11, 14, 15, 4, 3, 5, 17, 14, 12, 2, 14, 20, 13, 19, 8, 13, 6, 2, 0, 11, 2, 20, 11, 0, 19, 8, 14, 13, 12, 4, 0, 18, 20, 17, 4, 12, 4, 13, 19, 0, 13, 3, 19, 7, 4, 18, 24, 18, 19, 4, 12, 0, 19, 8, 2, 18, 19, 20, 3, 24, 14, 5, 19, 7, 4, 18, 7, 0, 15, 4, 18, 0, 13, 3, 12, 14, 19, 8, 14, 13, 18, 14, 5, 15, 7, 24, 18, 8, 2, 0, 11, 14, 1, 9, 4, 2, 19, 18, 15, 17, 0, 2, 19, 8, 2, 0, 11, 12, 0, 19, 7, 4, 12, 0, 19, 8, 2, 18, 7, 0, 18, 1, 4, 4, 13, 0, 7, 20, 12, 0, 13, 0, 2, 19, 8, 21, 8, 19, 24, 5, 14, 17, 0, 18, 5, 0, 17, 1, 0, 2, 10, 0, 18, 22, 17, 8, 19, 19, 4, 13, 17, 4, 2, 14, 17, 3, 18, 4, 23, 8, 18, 19, 17, 8, 6, 14, 17, 14, 20, 18, 0, 17, 6, 20, 12, 4, 13, 19, 18, 5, 8, 17, 18, 19, 0, 15, 15, 4, 0, 17, 4, 3, 8, 13, 6, 17, 4, 4, 10, 12, 0, 19, 7, 4, 12, 0, 19, 8, 2, 18, 12, 14, 18, 19, 13, 14, 19, 0, 1, 11, 24, 8, 13, 4, 20, 2, 11, 8, 3, 18, 4, 11, 4, 12, 4, 13, 19, 18, 12, 0, 19, 7, 4, 12, 0, 19, 8, 2, 18, 3, 4, 21, 4, 11, 14, 15, 4, 3, 0, 19, 0, 17, 4, 11, 0, 19, 8, 21, 4, 11, 24, 18, 11, 14, 22, 15, 0, 2, 4, 20, 13, 19, 8, 11, 19, 7, 4, 17, 4, 13, 0, 8, 18, 18, 0, 13, 2, 4, 22, 7, 4, 13, 12, 0, 19, 7, 4, 12, 0, 19, 8, 2, 0, 11, 8, 13, 13, 14, 21, 0, 19, 8, 14, 13, 18, 8, 13, 19, 4, 17, 0, 2, 19, 8, 13, 6, 22, 8, 19, 7, 13, 4, 22, 18, 2, 8, 4, 13, 19, 8, 5, 8, 2, 3, 8, 18, 2, 14, 21, 4, 17, 8, 4, 18, 11, 4, 3, 19, 14, 0, 17, 0, 15, 8, 3, 8, 13, 2, 17, 4, 0, 18, 4, 8, 13, 19, 7, 4, 17, 0, 19, 4, 14, 5, 12, 0, 19, 7, 4, 12, 0, 19, 8, 2, 0, 11, 3, 8, 18, 2, 14, 21, 4, 17, 24, 19, 7, 0, 19, 2, 14, 13, 19, 8, 13, 20, 4, 18, 19, 14, 19, 7, 4, 15, 17, 4, 18, 4, 13, 19, 3, 0, 24]\n"
     ]
    }
   ],
   "source": [
    "texto_cod0 = map(ord2,list(texto2));print texto_cod0 #Cambiamos el texto por una lista de enteros entre cero y 26"
   ]
  },
  {
   "cell_type": "code",
   "execution_count": 26,
   "metadata": {
    "collapsed": false
   },
   "outputs": [
    {
     "name": "stdout",
     "output_type": "stream",
     "text": [
      "['10011', '00111', '10001', '01110', '10100', '00110', '00111', '10011', '00111', '00100', '10100', '10010', '00100', '01110', '00101', '00000', '00001', '10010', '10011', '10001', '00000', '00010', '10011', '01000', '01110', '01101', '00000', '01101', '00011', '01011', '01110', '00110', '01000', '00010', '00000', '01011', '10001', '00100', '00000', '10010', '01110', '01101', '01000', '01101', '00110', '01100', '00000', '10011', '00111', '00100', '01100', '00000', '10011', '01000', '00010', '10010', '00011', '00100', '10101', '00100', '01011', '01110', '01111', '00100', '00011', '00101', '10001', '01110', '01100', '00010', '01110', '10100', '01101', '10011', '01000', '01101', '00110', '00010', '00000', '01011', '00010', '10100', '01011', '00000', '10011', '01000', '01110', '01101', '01100', '00100', '00000', '10010', '10100', '10001', '00100', '01100', '00100', '01101', '10011', '00000', '01101', '00011', '10011', '00111', '00100', '10010', '11000', '10010', '10011', '00100', '01100', '00000', '10011', '01000', '00010', '10010', '10011', '10100', '00011', '11000', '01110', '00101', '10011', '00111', '00100', '10010', '00111', '00000', '01111', '00100', '10010', '00000', '01101', '00011', '01100', '01110', '10011', '01000', '01110', '01101', '10010', '01110', '00101', '01111', '00111', '11000', '10010', '01000', '00010', '00000', '01011', '01110', '00001', '01001', '00100', '00010', '10011', '10010', '01111', '10001', '00000', '00010', '10011', '01000', '00010', '00000', '01011', '01100', '00000', '10011', '00111', '00100', '01100', '00000', '10011', '01000', '00010', '10010', '00111', '00000', '10010', '00001', '00100', '00100', '01101', '00000', '00111', '10100', '01100', '00000', '01101', '00000', '00010', '10011', '01000', '10101', '01000', '10011', '11000', '00101', '01110', '10001', '00000', '10010', '00101', '00000', '10001', '00001', '00000', '00010', '01010', '00000', '10010', '10110', '10001', '01000', '10011', '10011', '00100', '01101', '10001', '00100', '00010', '01110', '10001', '00011', '10010', '00100', '10111', '01000', '10010', '10011', '10001', '01000', '00110', '01110', '10001', '01110', '10100', '10010', '00000', '10001', '00110', '10100', '01100', '00100', '01101', '10011', '10010', '00101', '01000', '10001', '10010', '10011', '00000', '01111', '01111', '00100', '00000', '10001', '00100', '00011', '01000', '01101', '00110', '10001', '00100', '00100', '01010', '01100', '00000', '10011', '00111', '00100', '01100', '00000', '10011', '01000', '00010', '10010', '01100', '01110', '10010', '10011', '01101', '01110', '10011', '00000', '00001', '01011', '11000', '01000', '01101', '00100', '10100', '00010', '01011', '01000', '00011', '10010', '00100', '01011', '00100', '01100', '00100', '01101', '10011', '10010', '01100', '00000', '10011', '00111', '00100', '01100', '00000', '10011', '01000', '00010', '10010', '00011', '00100', '10101', '00100', '01011', '01110', '01111', '00100', '00011', '00000', '10011', '00000', '10001', '00100', '01011', '00000', '10011', '01000', '10101', '00100', '01011', '11000', '10010', '01011', '01110', '10110', '01111', '00000', '00010', '00100', '10100', '01101', '10011', '01000', '01011', '10011', '00111', '00100', '10001', '00100', '01101', '00000', '01000', '10010', '10010', '00000', '01101', '00010', '00100', '10110', '00111', '00100', '01101', '01100', '00000', '10011', '00111', '00100', '01100', '00000', '10011', '01000', '00010', '00000', '01011', '01000', '01101', '01101', '01110', '10101', '00000', '10011', '01000', '01110', '01101', '10010', '01000', '01101', '10011', '00100', '10001', '00000', '00010', '10011', '01000', '01101', '00110', '10110', '01000', '10011', '00111', '01101', '00100', '10110', '10010', '00010', '01000', '00100', '01101', '10011', '01000', '00101', '01000', '00010', '00011', '01000', '10010', '00010', '01110', '10101', '00100', '10001', '01000', '00100', '10010', '01011', '00100', '00011', '10011', '01110', '00000', '10001', '00000', '01111', '01000', '00011', '01000', '01101', '00010', '10001', '00100', '00000', '10010', '00100', '01000', '01101', '10011', '00111', '00100', '10001', '00000', '10011', '00100', '01110', '00101', '01100', '00000', '10011', '00111', '00100', '01100', '00000', '10011', '01000', '00010', '00000', '01011', '00011', '01000', '10010', '00010', '01110', '10101', '00100', '10001', '11000', '10011', '00111', '00000', '10011', '00010', '01110', '01101', '10011', '01000', '01101', '10100', '00100', '10010', '10011', '01110', '10011', '00111', '00100', '01111', '10001', '00100', '10010', '00100', '01101', '10011', '00011', '00000', '11000']\n"
     ]
    }
   ],
   "source": [
    "texto_cod1 = map(bin_2,texto_cod0);print texto_cod1 #Codificamos cada uno de esos enteros mediante una palabra de 5 bits"
   ]
  },
  {
   "cell_type": "code",
   "execution_count": 27,
   "metadata": {
    "collapsed": false
   },
   "outputs": [
    {
     "name": "stdout",
     "output_type": "stream",
     "text": [
      "100110011110001011101010000110001111001100111001001010010010001000111000101000000000110010100111000100000000101001101000011100110100000011010001101011011100011001000000100000001011100010010000000100100111001101010000110100110011000000010011001110010001100000001001101000000101001000011001001010100100010110111001111001000001100101100010111001100000100111010100011011001101000011010011000010000000101100010101000101100000100110100001110011010110000100000001001010100100010010001100001000110110011000000110100011100110011100100100101100010010100110010001100000001001101000000101001010011101000001111000011100010110011001110010010010001110000001111001001001000000011010001101100011101001101000011100110110010011100010101111001111100010010010000001000000010110111000001010010010000010100111001001111100010000000010100110100000010000000101101100000001001100111001000110000000100110100000010100100011100000100100000100100001000110100000001111010001100000000110100000000101001101000101010100010011110000010101110100010000010010001010000010001000010000000010010100000010010101101000101000100111001100100011011000100100000100111010001000111001000100101110100010010100111000101000001100111010001011101010010010000001000100110101000110000100011011001110010001010100010001100101001100000011110111100100000001000100100000110100001101001101000100100001000101001100000001001100111001000110000000100110100000010100100110001110100101001101101011101001100000000010101111000010000110100100101000001001011010000001110010001000101100100011000010001101100111001001100000001001100111001000110000000100110100000010100100001100100101010010001011011100111100100000110000010011000001000100100010110000010011010001010100100010111100010010010110111010110011110000000010001001010001101100110100001011100110011100100100010010001101000000100010010100100000001101000100010010110001110010001101011000000010011001110010001100000001001101000000100000001011010000110101101011101010100000100110100001110011011001001000011011001100100100010000000010100110100001101001101011001000100110011101101001001011010010000100100000100011011001101000001010100000010000110100010010000100111010101001001000101000001001001001011001000001110011011100000010001000000111101000000110100001101000101000100100000001001000100010000110110011001110010010001000001001100100011100010101100000001001100111001000110000000100110100000010000000101100011010001001000010011101010100100100011100010011001110000010011000100111001101100110100001101101000010010010100110111010011001110010001111100010010010010001000110110011000110000011000\n"
     ]
    }
   ],
   "source": [
    "texto_cod3 = join(texto_cod1,sep='');print texto_cod3 #Texto codificado como una palabra binaria enorme"
   ]
  },
  {
   "cell_type": "markdown",
   "metadata": {},
   "source": [
    "<p>La funci&oacute;n que codifica ser&iacute;a, resumiendo algunas de las celdas anteriores:</p>"
   ]
  },
  {
   "cell_type": "code",
   "execution_count": 28,
   "metadata": {
    "collapsed": false
   },
   "outputs": [],
   "source": [
    "def cod(texto):\n",
    "    L = map(ord2,list(texto))\n",
    "    L1 = map(bin_2,L)\n",
    "    return join(L1,sep='')"
   ]
  },
  {
   "cell_type": "markdown",
   "metadata": {},
   "source": [
    "<p>Para descodificar:</p>"
   ]
  },
  {
   "cell_type": "code",
   "execution_count": 29,
   "metadata": {
    "collapsed": false
   },
   "outputs": [
    {
     "data": {
      "text/plain": [
       "19"
      ]
     },
     "execution_count": 29,
     "metadata": {},
     "output_type": "execute_result"
    }
   ],
   "source": [
    "ZZ('10011',base=2)"
   ]
  },
  {
   "cell_type": "code",
   "execution_count": 30,
   "metadata": {
    "collapsed": false
   },
   "outputs": [],
   "source": [
    "def descod(C):\n",
    "    C1 = ''\n",
    "    while C != '':\n",
    "        C1 = C1+chr2(ZZ(C[:5],base=2))\n",
    "        C = C[5:]\n",
    "    return C1"
   ]
  },
  {
   "cell_type": "code",
   "execution_count": 31,
   "metadata": {
    "collapsed": false
   },
   "outputs": [
    {
     "data": {
      "text/plain": [
       "'THROUGHTHEUSEOFABSTRACTIONANDLOGICALREASONINGMATHEMATICSDEVELOPEDFROMCOUNTINGCALCULATIONMEASUREMENTANDTHESYSTEMATICSTUDYOFTHESHAPESANDMOTIONSOFPHYSICALOBJECTSPRACTICALMATHEMATICSHASBEENAHUMANACTIVITYFORASFARBACKASWRITTENRECORDSEXISTRIGOROUSARGUMENTSFIRSTAPPEAREDINGREEKMATHEMATICSMOSTNOTABLYINEUCLIDSELEMENTSMATHEMATICSDEVELOPEDATARELATIVELYSLOWPACEUNTILTHERENAISSANCEWHENMATHEMATICALINNOVATIONSINTERACTINGWITHNEWSCIENTIFICDISCOVERIESLEDTOARAPIDINCREASEINTHERATEOFMATHEMATICALDISCOVERYTHATCONTINUESTOTHEPRESENTDAY'"
      ]
     },
     "execution_count": 31,
     "metadata": {},
     "output_type": "execute_result"
    }
   ],
   "source": [
    "descod(texto_cod3)"
   ]
  },
  {
   "cell_type": "code",
   "execution_count": 32,
   "metadata": {
    "collapsed": false
   },
   "outputs": [
    {
     "data": {
      "text/plain": [
       "'THROUGHTHEUSEOFABSTRACTIONANDLOGICALREASONINGMATHEMATICSDEVELOPEDFROMCOUNTINGCALCULATIONMEASUREMENTANDTHESYSTEMATICSTUDYOFTHESHAPESANDMOTIONSOFPHYSICALOBJECTSPRACTICALMATHEMATICSHASBEENAHUMANACTIVITYFORASFARBACKASWRITTENRECORDSEXISTRIGOROUSARGUMENTSFIRSTAPPEAREDINGREEKMATHEMATICSMOSTNOTABLYINEUCLIDSELEMENTSMATHEMATICSDEVELOPEDATARELATIVELYSLOWPACEUNTILTHERENAISSANCEWHENMATHEMATICALINNOVATIONSINTERACTINGWITHNEWSCIENTIFICDISCOVERIESLEDTOARAPIDINCREASEINTHERATEOFMATHEMATICALDISCOVERYTHATCONTINUESTOTHEPRESENTDAY'"
      ]
     },
     "execution_count": 32,
     "metadata": {},
     "output_type": "execute_result"
    }
   ],
   "source": [
    "descod(cod(texto2)) #Parecen funciones inversas"
   ]
  }
 ],
 "metadata": {
  "kernelspec": {
   "display_name": "SageMath 7.3",
   "language": "",
   "name": "sagemath"
  },
  "language_info": {
   "codemirror_mode": {
    "name": "ipython",
    "version": 2
   },
   "file_extension": ".py",
   "mimetype": "text/x-python",
   "name": "python",
   "nbconvert_exporter": "python",
   "pygments_lexer": "ipython2",
   "version": "2.7.10"
  }
 },
 "nbformat": 4,
 "nbformat_minor": 0
}
