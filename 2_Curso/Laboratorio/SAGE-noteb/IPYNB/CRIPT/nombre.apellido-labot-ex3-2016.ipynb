{
 "cells": [
  {
   "cell_type": "markdown",
   "metadata": {
    "deletable": true,
    "editable": true
   },
   "source": [
    "<p><span style=\"color: #ff0000;\">Por favor, antes de empezar el examen cambia el nombre de la hoja (File&gt;Rename worksheet) poniendo en lugar de \"nombre.apellido\" los tuyos tal como aparecen en tu direcci&oacute;n de correo electr&oacute;nico de la UAM. El final del nombre de la hoja, -labot-ex3-2016, dej&aacute;lo como est&aacute;.<br /></span></p>\n",
    "<p><span style=\"color: #ff0000;\">Una vez hayas terminado el examen, salva la hoja (File&gt;Save worksheet to a file....) y d&eacute;jala en la carpeta en tu escritorio que tiene&nbsp; nombre \"ENTREGA......\".</span></p>\n",
    "<h4><span style=\"color: #ff0000;\"><span style=\"color: #000000;\">Ejercicio 1</span><br /></span></h4>\n",
    "<p>(4 puntos) En la carpeta que contiene este archivo  se encuentra el el mismo *PALABRAS2* que se us&oacute; en la hoja 84-CRIPT-matricial-fuerzabruta para romper un sistema criptogr&aacute;fico mediante fuerza bruta.&nbsp; El archivo contiene una lista de palabras, una en cada l&iacute;nea, en ingl&eacute;s. Para hacer este ejercicio debes <span style=\"color: #ff0000;\">definir y ejecutar funciones</span> para responder a la siguiente pregunta:<span style=\"color: #ff0000;\"> &iquest;Cu&aacute;ntas tripletas de letras tienen la propiedad de aparecer al principio (es decir,&nbsp; como tripleta inicial) de todas las palabras de la lista PALABRAS2&nbsp; en que aparecen como tripleta de letras consecutivas en cualquier posici&oacute;n?<span id=\"cell_outer_7\"><span style=\"color: #ff0000;\"> No consideramos palabras en la lista de longitud cuatro o menor.&nbsp;</span></span></span></p>\n",
    "<p>Por ejemplo, en la lista aparece la palabra GEOMETRY y la tripleta MET no es una de las que podemos contar, es decir no contribuye a nuestro contador,&nbsp; porque aparece al menos una vez en una situaci&oacute;n que no es inicio de palabra.&nbsp;</p>\n",
    "<p>Para poder <span style=\"color: #ff0000;\">comprobar que el programa funciona bien</span>, modificarlo para que cada vez que se incremente el contador se a&ntilde;ada la clave a una lista, y luego <span style=\"color: #ff0000;\">efectuar varias comprobaciones convincentes (&iquest;A qu&eacute;n hay que convencer? &iquest;A qu&eacute;n va a ser? Pues a m&iacute;)</span>.</p>"
   ]
  },
  {
   "cell_type": "markdown",
   "metadata": {
    "deletable": true,
    "editable": true
   },
   "source": [
    "<h4>Ejercicio 2</h4>\n",
    "<p>(3 puntos) En este ejercicio hay que programar funciones para <span style=\"color: #ff0000;\">encriptar y desencriptar</span> <span style=\"color: #ff0000;\">(no se excluye</span> que la funci&oacute;n que sirve para encriptar tambi&eacute;n sirva para desencriptar) un texto usando el siguiente sistema cl&aacute;sico:&nbsp; La clave es un entero $d$ y una permutaci&oacute;n $\\pi$ del conjunto $X_d:=\\{1,2,\\dots,d\\}$ (i.e. una funci&oacute;n biyectiva de $X_d$ en $X_d$).&nbsp; Encriptamos dividiendo el texto en bloques de longitud $d$ y encriptando cada bloque colocando la letra que ocupa la posici&oacute;n $i$ en el lugar $\\pi(i)$. <span style=\"color: #ff0000;\">Debes comprobar</span> que funciona utilizando el texto suministrado. <span style=\"color: #ff0000;\">Observa</span> que la longitud del texto debe ser un m&uacute;ltiplo de $d$, y si no lo es debemos poner al final basura hasta que la longitud sea &nbsp;un m&uacute;ltiplo de $d$.&nbsp;</p>\n",
    "<p>En este sistema las frecuencias de las letras en el texto original y en el encriptado son iguales, de forma que no se puede atacar en la misma forma que la cifra de C&eacute;sar o la cifra de permutaci&oacute;n. &iquest;<span style=\"color: #ff0000;\">Qu&eacute; opinas</span> de la seguridad de este m&eacute;todo?</p>"
   ]
  },
  {
   "cell_type": "code",
   "execution_count": 2,
   "metadata": {
    "collapsed": false,
    "deletable": true,
    "editable": true
   },
   "outputs": [],
   "source": [
    "texto = 'THROUGHTHEUSEOFABSTRACTIONANDLOGICALREASONINGMATHEMATICSDEVELOPEDFROMCO\\\n",
    "UNTINGCALCULATIONMEASUREMENTANDTHESYSTEMATICSTUDYOFTHESHAPESANDMOTIONSOF\\\n",
    "PHYSICALOBJECTSPRACTICALMATHEMATICSHASBEENAHUMANACTIVITYFORASFARBACKASWR\\\n",
    "ITTENRECORDSEXISTRIGOROUSARGUMENTSFIRSTAPPEAREDINGREEKMATHEMATICSMOSTNOT\\\n",
    "ABLYINEUCLIDSELEMENTSMATHEMATICSDEVELOPEDATARELATIVELYSLOWPACEUNTILTHERE\\\n",
    "NAISSANCEWHENMATHEMATICALINNOVATIONSINTERACTINGWITHNEWSCIENTIFICDISCOVER\\\n",
    "IESLEDTOARAPIDINCREASEINTHERATEOFMATHEMATICALDISCOVERYTHATCONTINUESTOTHE\\\n",
    "PRESENTDAYZ'"
   ]
  },
  {
   "cell_type": "markdown",
   "metadata": {
    "deletable": true,
    "editable": true
   },
   "source": [
    "<h4>Ejercicio 3</h4>\n",
    "<p>(3 puntos) En este otro ejercicio hay que encriptar, y desencriptar,&nbsp; un texto corto usando una variante de RSA que se explica a continuaci&oacute;n.&nbsp;</p>\n",
    "<ol>\n",
    "<li>En primer lugar <span style=\"color: #ff0000;\">necesitamos una funci&oacute;n, $raiz(c,p)$,</span> que reciba como argumentos un primo $p$ y un entero $0<c<p$ y devuelva una lista con las dos ra&iacute;ces cuadradas de $c$ en $\\mathbb{Z}_p$ si existen o bien una lista vac&iacute;a. Como sabemos, las dos ra&iacute;ces son opuestas una de la otra, es decir, se pueden representar mediante dos enteros positivos que suman $p$.&nbsp; <span style=\"color: #ff0000;\">Programa</span> una tal funci&oacute;n mediante un <span style=\"color: #ff0000;\">m&eacute;todo de fuerza bruta</span>.</li>\n",
    "<li><span style=\"color: #ff0000;\">Necesitamos una segunda funci&oacute;n, $chinodelresto(a,b,p,q)$,&nbsp;</span> que reciba como argumentos dos enteros positivos $a$ y $b$ y dos primos $p$ y $q$, y devuelva un entero $n$ tal que su resto m&oacute;dulo $p$ es igual al de $a$ y su resto m&oacute;dulo $q$ es igual al de $b$ .&nbsp; <span style=\"color: #ff0000;\">Programa</span> una tal funci&oacute;n mediante un <span style=\"color: #ff0000;\">m&eacute;todo de fuerza bruta</span>.</li>\n",
    "<li>Las funciones anteriores se usar&iacute;an para desencriptar, pero para valores grandes de $p$ y $q$ no servir&iacute;an. Sage dispone de funciones eficientes para hacer esto: para calcular las ra&iacute;ces cuadradas de $c$&nbsp; en $\\mathbb{Z}_p$ <span style=\"color: #ff0000;\">usamos la combinaci&oacute;n $R = Integers(p);Lp = R(c).sqrt(all=True)$</span> y $Lp$ ser&iacute;a la misma lista que nos devuelve <span style=\"color: #ff0000;\">$raiz(c,p)$</span>, y para calcular el $n$ que devuelve la funci&oacute;n <span style=\"color: #ff0000;\">$chinodelresto(a,b,p,q)$</span> basta usar la <span style=\"color: #ff0000;\">funci&oacute;n de Sage $crt(a,b,p,q)$ (teorema chino del resto)</span>.<span style=\"color: #ff0000;\"> OBSERVACI&Oacute;N IMPORTANTE: la primera funci&oacute;n devuelve un par de clases de restos y la segunda necesita que sus argumentos sean enteros. Para que la segunda funcione sobre lo que devuelve la primera hay que forzar las clases de restos al anillo de los enteros.&nbsp;</span></li>\n",
    "<li>Convertimos el texto en un entero&nbsp; (codificaci&oacute;n) con el mismo procedimiento que en RSA, con alfabeto de $26$ letras.</li>\n",
    "<li>Elegimos un entero suficientemente grande $n$ que sea el producto de dos primos distintos y bastante distantes. <span style=\"color: #ff0000;\">Este $n$ ser&aacute; la clave p&uacute;blica.</span> &iquest;Cu&aacute;n grande debe ser $n$? Igual que en RSA tiene que ser suficientemente grande para que todos los mensajes posibles de la longitud del que queremos encriptar, supongamos que es $N$,&nbsp; se puedan representar, mediante el paso 3,&nbsp; como un entero $m$ menor que $n$. <span style=\"color: #ff0000;\">No es necesario</span> definir funciones que generen los primos $p$ y $q$ aleatoriamente dentro de rangos grandes (&eacute;sto servir&iacute;a para generar claves seguras) sino que basta con encontrar primos que cumplan las condiciones requeridas en el punto 6.&nbsp;</li>\n",
    "<li><span style=\"color: #ff0000;\">Encriptamos $m$ elev&aacute;ndolo al cuadrado m&oacute;dulo $N$.</span> De la misma forma que en RSA, podemos convertir&nbsp; el entero resultante en texto (descodificaci&oacute;n)&nbsp; de $N+1$ caracteres si hemos tenido cuidado de elegir $n$ entre $26^N$ y $26^{N+1}.$ El texto resultante ser&aacute; el mensaje encriptado.</li>\n",
    "<li>La clave privada est&aacute; formada por los dos factores $(p,q)$ de $n$. Conocidos los dos primos y el mensaje encriptado $m_e:=m^2$, podemos <span style=\"color: #ff0000;\"><span><span style=\"color: #000000;\">calcular las ra&iacute;ces cuadradas</span><span style=\"color: #000000;\"> $a$ y $b$&nbsp;</span> <span style=\"color: #000000;\">de $m_e$ m&oacute;dulo $p$ y $q$ y aplicando la funci&oacute;n del teorema chino del resto recuperar $m$.&nbsp; Hay que tener en cuenta que como $m_e$ tiene dos ra&iacute;ces m&oacute;dulo $p$ y otras dos m&oacute;dulo $q$, en total hay cuatro pares de combinaciones de una ra&iacute;z m&oacute;dulo $p$ y otra m&oacute;dulo $q$, y s&oacute;lo uno de los cuatro posibles $m$ obtenidos es el correcto. &nbsp; Finalmente hay que descodificar los cuatro posibles $m$, como en RSA, para obtener cuatro textos y el que sea legible debe ser el correcto.&nbsp; </span></span></span></li>\n",
    "</ol>"
   ]
  },
  {
   "cell_type": "code",
   "execution_count": 3,
   "metadata": {
    "collapsed": false,
    "deletable": true,
    "editable": true
   },
   "outputs": [],
   "source": [
    "texto = 'ESTEEXAMENESINHUMANOYSILOSENOVENGO'"
   ]
  }
 ],
 "metadata": {
  "kernelspec": {
   "display_name": "Python 2",
   "language": "python",
   "name": "python2"
  },
  "language_info": {
   "codemirror_mode": {
    "name": "ipython",
    "version": 2
   },
   "file_extension": ".py",
   "mimetype": "text/x-python",
   "name": "python",
   "nbconvert_exporter": "python",
   "pygments_lexer": "ipython2",
   "version": "2.7.13"
  }
 },
 "nbformat": 4,
 "nbformat_minor": 0
}
