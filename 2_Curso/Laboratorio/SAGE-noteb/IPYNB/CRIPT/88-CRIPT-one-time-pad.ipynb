{
 "cells": [
  {
   "cell_type": "code",
   "execution_count": 1,
   "metadata": {
    "collapsed": false
   },
   "outputs": [],
   "source": [
    "alf = 'ABCDEFGHIJKLMNOPQRSTUVWXYZ:;,#$@'"
   ]
  },
  {
   "cell_type": "code",
   "execution_count": 2,
   "metadata": {
    "collapsed": false
   },
   "outputs": [
    {
     "data": {
      "text/plain": [
       "32"
      ]
     },
     "execution_count": 2,
     "metadata": {},
     "output_type": "execute_result"
    }
   ],
   "source": [
    "len(alf)"
   ]
  },
  {
   "cell_type": "markdown",
   "metadata": {},
   "source": [
    "<p>&iquest;Por qu&eacute; queremos usar un alfabeto de $32$ letras?</p>"
   ]
  },
  {
   "cell_type": "code",
   "execution_count": 3,
   "metadata": {
    "collapsed": false
   },
   "outputs": [],
   "source": [
    "texto = 'THROUGHTHEUSEOFABSTRACTIONANDLOGICALREASONINGMATHEMATICSDEVELOPEDFROMCO\\\n",
    "UNTINGCALCULATIONMEASUREMENTANDTHESYSTEMATICSTUDYOFTHESHAPESANDMOTIONSOF\\\n",
    "PHYSICALOBJECTSPRACTICALMATHEMATICSHASBEENAHUMANACTIVITYFORASFARBACKASWR\\\n",
    "ITTENRECORDSEXISTRIGOROUSARGUMENTSFIRSTAPPEAREDINGREEKMATHEMATICSMOSTNOT\\\n",
    "ABLYINEUCLIDSELEMENTSMATHEMATICSDEVELOPEDATARELATIVELYSLOWPACEUNTILTHERE\\\n",
    "NAISSANCEWHENMATHEMATICALINNOVATIONSINTERACTINGWITHNEWSCIENTIFICDISCOVER\\\n",
    "IESLEDTOARAPIDINCREASEINTHERATEOFMATHEMATICALDISCOVERYTHATCONTINUESTOTHE\\\n",
    "PRESENTDAY'"
   ]
  },
  {
   "cell_type": "code",
   "execution_count": 4,
   "metadata": {
    "collapsed": false
   },
   "outputs": [
    {
     "data": {
      "text/plain": [
       "513"
      ]
     },
     "execution_count": 4,
     "metadata": {},
     "output_type": "execute_result"
    }
   ],
   "source": [
    "len(texto)"
   ]
  },
  {
   "cell_type": "markdown",
   "metadata": {},
   "source": [
    "<h3>Apartado 1 : generar clave</h3>"
   ]
  },
  {
   "cell_type": "code",
   "execution_count": 5,
   "metadata": {
    "collapsed": false
   },
   "outputs": [],
   "source": [
    "clave = [randint(0,1) for muda in xrange(10^6)]"
   ]
  },
  {
   "cell_type": "code",
   "execution_count": 6,
   "metadata": {
    "collapsed": false
   },
   "outputs": [
    {
     "data": {
      "text/plain": [
       "[49947, 50024, 50120, 49951, 50061, 49883, 49855, 49778, 49949, 49947]"
      ]
     },
     "execution_count": 6,
     "metadata": {},
     "output_type": "execute_result"
    }
   ],
   "source": [
    "[sum(clave[k*10^5:(k+1)*10^5]) for k in srange(10)]"
   ]
  },
  {
   "cell_type": "code",
   "execution_count": 7,
   "metadata": {
    "collapsed": false
   },
   "outputs": [],
   "source": [
    "def cadena(L):\n",
    "    C = ''\n",
    "    for item in L:\n",
    "        C += str(item)\n",
    "    return C"
   ]
  },
  {
   "cell_type": "code",
   "execution_count": 8,
   "metadata": {
    "collapsed": false
   },
   "outputs": [
    {
     "data": {
      "text/plain": [
       "'1110011100'"
      ]
     },
     "execution_count": 8,
     "metadata": {},
     "output_type": "execute_result"
    }
   ],
   "source": [
    "clave_c = cadena(clave);clave_c[0:10]"
   ]
  },
  {
   "cell_type": "markdown",
   "metadata": {},
   "source": [
    "<h3>Apartado 2: Codificar</h3>"
   ]
  },
  {
   "cell_type": "code",
   "execution_count": 9,
   "metadata": {
    "collapsed": false
   },
   "outputs": [],
   "source": [
    "L_alf = list(alf)"
   ]
  },
  {
   "cell_type": "code",
   "execution_count": 10,
   "metadata": {
    "collapsed": false
   },
   "outputs": [],
   "source": [
    "def ord2(c):\n",
    "    return L_alf.index(c)"
   ]
  },
  {
   "cell_type": "code",
   "execution_count": 11,
   "metadata": {
    "collapsed": false
   },
   "outputs": [],
   "source": [
    "def chr2(n):\n",
    "    return L_alf[n]"
   ]
  },
  {
   "cell_type": "code",
   "execution_count": 12,
   "metadata": {
    "collapsed": false
   },
   "outputs": [],
   "source": [
    "def codificar(texto):\n",
    "    texto_c = ''\n",
    "    L = map(ord2,list(texto))\n",
    "    for item in L:\n",
    "        L1 = ZZ(item).digits(base=2,padto=5)\n",
    "        L1.reverse()        ##los digitos estan en el orden contrario al que queremos\n",
    "        texto_c += cadena(L1)\n",
    "    return texto_c"
   ]
  },
  {
   "cell_type": "code",
   "execution_count": 13,
   "metadata": {
    "collapsed": false
   },
   "outputs": [],
   "source": [
    "def descodificar(texto_e):\n",
    "    texto_d = ''\n",
    "    if len(texto_e) == 0:\n",
    "        return texto_d\n",
    "    texto_dp = descodificar(texto_e[5:])\n",
    "    return chr2(ZZ(texto_e[:5],base=2))+texto_dp"
   ]
  },
  {
   "cell_type": "code",
   "execution_count": 14,
   "metadata": {
    "collapsed": false
   },
   "outputs": [
    {
     "data": {
      "text/plain": [
       "'THROUGHTHEUSEOFABSTRACTIONANDLOGICALREASONINGMATHEMATICSDEVELOPEDFROMCOUNTINGCALCULATIONM\n",
       "EASUREMENTANDTHESYSTEMATICSTUDYOFTHESHAPESANDMOTIONSOFPHYSICALOBJECTSPRACTICALMATHEMATICSH\n",
       "ASBEENAHUMANACTIVITYFORASFARBACKASWRITTENRECORDSEXISTRIGOROUSARGUMENTSFIRSTAPPEAREDINGREEK\n",
       "MATHEMATICSMOSTNOTABLYINEUCLIDSELEMENTSMATHEMATICSDEVELOPEDATARELATIVELYSLOWPACEUNTILTHERE\n",
       "NAISSANCEWHENMATHEMATICALINNOVATIONSINTERACTINGWITHNEWSCIENTIFICDISCOVERIESLEDTOARAPIDINCR\n",
       "EASEINTHERATEOFMATHEMATICALDISCOVERYTHATCONTINUESTOTHEPRESENTDAY'"
      ]
     },
     "execution_count": 14,
     "metadata": {},
     "output_type": "execute_result"
    }
   ],
   "source": [
    "descodificar(codificar(texto))"
   ]
  },
  {
   "cell_type": "markdown",
   "metadata": {},
   "source": [
    "<h3>Apartado 3: encriptar</h3>"
   ]
  },
  {
   "cell_type": "code",
   "execution_count": 15,
   "metadata": {
    "collapsed": false
   },
   "outputs": [],
   "source": [
    "def suma_s(c1,c2):\n",
    "    if (c1 == '0' and c2 == '0') or (c1 == '1' and c2 == '1'):\n",
    "        return '0'\n",
    "    else:\n",
    "        return '1'"
   ]
  },
  {
   "cell_type": "code",
   "execution_count": 16,
   "metadata": {
    "collapsed": false
   },
   "outputs": [],
   "source": [
    "def encriptar(texto_c,clave):\n",
    "    texto_e = ''\n",
    "    for int in srange(len(texto_c)):\n",
    "        texto_e += suma_s(texto_c[int],clave[int])\n",
    "    return texto_e"
   ]
  },
  {
   "cell_type": "code",
   "execution_count": 17,
   "metadata": {
    "collapsed": false
   },
   "outputs": [
    {
     "data": {
      "text/plain": [
       "'10011001111000101110101000011000111100110011100100101001001000100011100010100000000011001\n",
       "010011100010000000010100110100001110011010000001101000110101101110001100100000010000000101\n",
       "110001001000000010010011100110101000011010011001100000001001100111001000110000000100110100\n",
       "000010100100001100100101010010001011011100111100100000110010110001011100110000010011101010\n",
       "001101100110100001101001100001000000010110001010100010110000010011010000111001101011000010\n",
       "000000100101010010001001000110000100011011001100000011010001110011001110010010010110001001\n",
       "010011001000110000000100110100000010100101001110100000111100001110001011001100111001001001\n",
       "000111000000111100100100100000001101000110110001110100110100001110011011001001110001010111\n",
       "100111110001001001000000100000001011011100000101001001000001010011100100111110001000000001\n",
       "010011010000001000000010110110000000100110011100100011000000010011010000001010010001110000\n",
       "010010000010010000100011010000000111101000110000000011010000000010100110100010101010001001\n",
       "111000001010111010001000001001000101000001000100001000000001001010000001001010110100010100\n",
       "010011100110010001101100010010000010011101000100011100100010010111010001001010011100010100\n",
       "000110011101000101110101001001000000100010011010100011000010001101100111001000101010001000\n",
       "110010100110000001111011110010000000100010010000011010000110100110100010010000100010100110\n",
       "000000100110011100100011000000010011010000001010010011000111010010100110110101110100110000\n",
       "000001010111100001000011010010010100000100101101000000111001000100010110010001100001000110\n",
       "110011100100110000000100110011100100011000000010011010000001010010000110010010101001000101\n",
       "101110011110010000011000001001100000100010010001011000001001101000101010010001011110001001\n",
       "001011011101011001111000000001000100101000110110011010000101110011001110010010001001000110\n",
       "100000010001001010010000000110100010001001011000111001000110101100000001001100111001000110\n",
       "000000100110100000010000000101101000011010110101110101010000010011010000111001101100100100\n",
       "001101100110010010001000000001010011010000110100110101100100010011001110110100100101101001\n",
       "000010010000010001101100110100000101010000001000011010001001000010011101010100100100010100\n",
       "000100100100101100100000111001101110000001000100000011110100000011010000110100010100010010\n",
       "000000100100010001000011011001100111001001000100000100110010001110001010110000000100110011\n",
       "100100011000000010011010000001000000010110001101000100100001001110101010010010001110001001\n",
       "100111000001001100010011100110110011010000110110100001001001010011011101001100111001000111\n",
       "1100010010010010001000110110011000110000011000'"
      ]
     },
     "execution_count": 17,
     "metadata": {},
     "output_type": "execute_result"
    }
   ],
   "source": [
    "texto_c = codificar(texto);texto_c"
   ]
  },
  {
   "cell_type": "code",
   "execution_count": 18,
   "metadata": {
    "collapsed": false
   },
   "outputs": [
    {
     "data": {
      "text/plain": [
       "'01111110110101010000010101011010101011000100010000001011110110011011100000110111110001010\n",
       "001111011100010000110111110110100011011111000000000000000011010001000011110101110111010101\n",
       "100100011101101101110110001010110010011010100111111110000100110111011110101100000011011101\n",
       "101101101000011110000110101111011000100101010011000010100101101110000001101101110100100111\n",
       "011000100111000111011000000001110101100100100001011011011011001001111111011001111000000010\n",
       "100111101100011010110110001111011101001100110000110010111111110110000000001001110100101100\n",
       "110011111100010000011100010100000010101100100100101100101111100100100100001011111001010000\n",
       "111000100001111010101000110100100010011110110111000000101110011010110100101011111010101001\n",
       "001001101000001001110110111101110110011111110110000101011110010010110101000011011111110110\n",
       "010001101100110001101011011101001000000100110110000011000110010000100000011011011111101110\n",
       "001110010111011101000010110101111000000111010110001001100001110101011100011110110110111001\n",
       "000100011111010000001110101110010001011100000010010111011011111110000110001111101000011100\n",
       "100011100101101100111001010101011110111000101010011010111100000000000000110110101110111001\n",
       "101000110101010101101001110101110011000111110110100101101101000011000101110101100111011001\n",
       "011001100101111010010101011101001100001100011000010011010011010111101101001011011000001000\n",
       "000010110111011000010000111101111011100100010111010010000000111001011100111100111110101100\n",
       "101001110100110111001101110110010110001100000011101111011110111100100100100001010110010011\n",
       "011111011110111000010110010010000011010100110111001100100011010100101100001000101010101010\n",
       "111011100110100101110000010101111001011010101000010111111101101111001110001001111000011101\n",
       "110101111000000100001000100010110100100110101001110011000000010100010011111100101001000110\n",
       "101100011101011011110001111000001100000101101010111001101100110010011111111101111110010111\n",
       "111110100100001101110111111001100101100111110001011100110011011000011111000000110010111001\n",
       "111001101111110011010100101010010001010001110010011100111001100101101001101001111000111011\n",
       "000010110110110110100000100000111111111010010001110100110111000110111010100110101110110111\n",
       "101101100100010110010000001000111100000111100011010101101100000101000000000010010001010011\n",
       "010001011101101101011100010110011001110100111010111010000001000010010101010110010010101100\n",
       "010011101000010100011001011101010011001111011011111011001000010110010010101001100100111001\n",
       "100110110110011010010101011111011101100110110001001110010001101011100101011110001001101110\n",
       "1001101000001100000011011000100010101000001001'"
      ]
     },
     "execution_count": 18,
     "metadata": {},
     "output_type": "execute_result"
    }
   ],
   "source": [
    "texto_en = encriptar(texto_c,clave_c);texto_en"
   ]
  },
  {
   "cell_type": "code",
   "execution_count": 19,
   "metadata": {
    "collapsed": false
   },
   "outputs": [
    {
     "data": {
      "text/plain": [
       "'P;KQKWVMIQF#TOBXYUPOEG@NDPQAAGRB#O#LEO;OYVSNJ@YJXPLAN;NUHQ:$YSUYKLOA;OSOYTR;ADVSILNWJ@WPA\n",
       "FHWGWY$#GMGL@WACOSZT$EDRICWJFS@ESC@FBYQ$VDJCPNYC,::K@KSJUCO;;WP#QV,S:Q;@MRWMNN:ICNQMMQQG;$\n",
       ",OLXILLYDVRGDVOHW;SEPUB:,ROAS#X$DD#BZDS;HFK$,KTLYAANV;TI:VNHLTD#UW:DC#M#SZS$SV:MGGCNGXWS;A\n",
       "QC;WCD;;SF:IBZOPH:ZJ:NZXMWGA###,SIKZG@POCZEDKNZSGUWCFKV;TJOBLZNKC@;PHCPB;V,BBCFUTKOMAUJ@FE\n",
       "NMOW$HQMC:XGZSP@PZP$SDO@TFT,LTGYPQGLTZX,:SURI,TTTFU:PDWC;NUCB@#EOTOG#JV;PNSFSAR,DY:WYFAASF\n",
       "GRO;LRMZ:OXICCKVSKYTUFDF:THW@MQWJKMTTG;GSV$#TMJZDLSXRG#GQMBWEKQJ'"
      ]
     },
     "execution_count": 19,
     "metadata": {},
     "output_type": "execute_result"
    }
   ],
   "source": [
    "descodificar(texto_en)"
   ]
  },
  {
   "cell_type": "code",
   "execution_count": 20,
   "metadata": {
    "collapsed": false
   },
   "outputs": [
    {
     "data": {
      "text/plain": [
       "True"
      ]
     },
     "execution_count": 20,
     "metadata": {},
     "output_type": "execute_result"
    }
   ],
   "source": [
    "encriptar(encriptar(texto_c,clave_c),clave_c)==texto_c"
   ]
  },
  {
   "cell_type": "code",
   "execution_count": 21,
   "metadata": {
    "collapsed": false
   },
   "outputs": [
    {
     "data": {
      "text/plain": [
       "'THROUGHTHEUSEOFABSTRACTIONANDLOGICALREASONINGMATHEMATICSDEVELOPEDFROMCOUNTINGCALCULATIONM\n",
       "EASUREMENTANDTHESYSTEMATICSTUDYOFTHESHAPESANDMOTIONSOFPHYSICALOBJECTSPRACTICALMATHEMATICSH\n",
       "ASBEENAHUMANACTIVITYFORASFARBACKASWRITTENRECORDSEXISTRIGOROUSARGUMENTSFIRSTAPPEAREDINGREEK\n",
       "MATHEMATICSMOSTNOTABLYINEUCLIDSELEMENTSMATHEMATICSDEVELOPEDATARELATIVELYSLOWPACEUNTILTHERE\n",
       "NAISSANCEWHENMATHEMATICALINNOVATIONSINTERACTINGWITHNEWSCIENTIFICDISCOVERIESLEDTOARAPIDINCR\n",
       "EASEINTHERATEOFMATHEMATICALDISCOVERYTHATCONTINUESTOTHEPRESENTDAY'"
      ]
     },
     "execution_count": 21,
     "metadata": {},
     "output_type": "execute_result"
    }
   ],
   "source": [
    "descodificar(encriptar(encriptar(texto_c,clave_c),clave_c))"
   ]
  },
  {
   "cell_type": "markdown",
   "metadata": {},
   "source": [
    "<h3>Apartado 4: Discutir la seguridad del sistema</h3>\n",
    "\n",
    "<p>Este sistema es totalmente seguro siempre que se consiga mantener en secreto la clave, &eacute;sta se haya generado realmente de manera aleatoria y no se reutilice nunca un trozo de la clave ya usado.&nbsp; Pensemos en un ataque por \"fuerza bruta\": Si el mensaje tiene $N$ bits tendr&iacute;amos que probar&nbsp; las $2^N$ posibles claves y, para cada una de ellas, obtendr&iacute;amos un posible mensaje,&nbsp; pero TODOS los&nbsp; mensajes de $N$ bits aparecer&iacute;an&nbsp; y no habr&iacute;a manera de decidir entre ellos. Por ejemplo, para una cierta clave podr&iacute;amos obtener \"ATACAMOS\",&nbsp; pero para otra obtendr&iacute;amos \"RETIRADA\" y el mensaje encriptado no contiene ninguna informaci&oacute;n que nos permita decidir entre los dos.</p>\n",
    "<p>Podemos argumentar tambi&eacute;n lo siguiente:</p>\n",
    "<ol>\n",
    "<li>En el sistema de C&eacute;sar todas las letras se encriptan con la misma clave y el mensaje encriptado contiene todav&iacute;a un mont&oacute;n de informaci&oacute;n, las frecuencias, acerca del mensaje original. El sistema tambi&eacute;n permite un ataque de fuerza bruta y es muy vulnerable.&nbsp;</li>\n",
    "<li>En el sistema de Vigenere las letras cuya posici&oacute;n difiere en $k$ unidades, la longitud de la clave, se encriptan igual. El mensaje encriptado, si es de suficiente longitud, todav&iacute;a contiene suficiente informaci&oacute;n como para que sea posible un an&aacute;lisis de frecuencias.&nbsp; Un ataque por fuerza bruta es posible en teor&iacute;a, pero si la clave es muy larga imposible en la pr&aacute;ctica.</li>\n",
    "<li>El sistema que estamos discutiendo es, esencialmente, como un Vigenere con la longitud de la clave igual a la longitud del texto.&nbsp; Si la clave se genera aleatoriamente, no queda en el mensaje encriptado ninguna informaci&oacute;n de frecuencias relevante. Si la clave se reutiliza el sistema ya es como un Vigenere, con un texto de longitud el doble de la clave,&nbsp; y el mensaje encriptado contiene algo de informaci&oacute;n sobre el original que puede ser utilizada. </li>\n",
    "</ol>\n",
    "\n",
    "<h3>Apartado 5 : Variante</h3>\n",
    "\n",
    "<p>¿Podemos usar una suma llevando, es decir $1+1=10$ en lugar de $1+1=0$? Para que este m&eacute;todo funcione es conveniente que el mensaje encriptado contenga tambi&eacute;n el n&uacute;mero de bits del mensaje original,&nbsp; ya que es posible que el mensaje encriptado sea m&aacute;s largo porque sumamos llevando. Sin embargo, la longitud del mensage encriptado s&oacute;lo puede ser igual a la del mensaje original o un bit mayor, de forma que si no conocemos la longitud del original podemos hacer dos pruebas y ver cu&aacute;l funciona.</p>\n",
    "<p>Como queremos sumar llevando parece mejor efectuar la suma en base 10 en lugar de implementar una suma binaria llevando.</p>"
   ]
  },
  {
   "cell_type": "code",
   "execution_count": 22,
   "metadata": {
    "collapsed": false
   },
   "outputs": [],
   "source": [
    "def encriptar2(texto_c,clave_c):\n",
    "    N1 = ZZ(texto_c,base=2)\n",
    "    N2 = ZZ(clave_c[:len(texto_c)],base=2)\n",
    "    return len(texto_c),cadena((N1+N2).digits(base=2))"
   ]
  },
  {
   "cell_type": "code",
   "execution_count": 23,
   "metadata": {
    "collapsed": false
   },
   "outputs": [],
   "source": [
    "def desencriptar2(texto_e,clave_c):\n",
    "    L = list(texto_e[1])\n",
    "    L.reverse()\n",
    "    N1 = ZZ(join(L,sep=''),base=2)\n",
    "    N2 = ZZ(clave_c[:texto_e[0]],base=2)\n",
    "    C = cadena((N1-N2).digits(base=2,padto=texto_e[0]))\n",
    "    L = list(C)\n",
    "    L.reverse() #Otra vez, digits produce el orden inverso al que queremos\n",
    "    return cadena(L)"
   ]
  },
  {
   "cell_type": "code",
   "execution_count": 24,
   "metadata": {
    "collapsed": false
   },
   "outputs": [
    {
     "data": {
      "text/plain": [
       "True"
      ]
     },
     "execution_count": 24,
     "metadata": {},
     "output_type": "execute_result"
    }
   ],
   "source": [
    "desencriptar2(encriptar2(codificar(texto),clave_c),clave_c)==codificar(texto)"
   ]
  },
  {
   "cell_type": "code",
   "execution_count": 25,
   "metadata": {
    "collapsed": false
   },
   "outputs": [
    {
     "data": {
      "text/plain": [
       "True"
      ]
     },
     "execution_count": 25,
     "metadata": {},
     "output_type": "execute_result"
    }
   ],
   "source": [
    "C = join([alf[randint(0,31)] for j in srange(10^5)],sep='') \n",
    "desencriptar2(encriptar2(codificar(C),clave_c),clave_c)==codificar(C)"
   ]
  }
 ],
 "metadata": {
  "kernelspec": {
   "display_name": "Python 2",
   "language": "python",
   "name": "python2"
  },
  "language_info": {
   "codemirror_mode": {
    "name": "ipython",
    "version": 2
   },
   "file_extension": ".py",
   "mimetype": "text/x-python",
   "name": "python",
   "nbconvert_exporter": "python",
   "pygments_lexer": "ipython2",
   "version": "2.7.10"
  }
 },
 "nbformat": 4,
 "nbformat_minor": 0
}
