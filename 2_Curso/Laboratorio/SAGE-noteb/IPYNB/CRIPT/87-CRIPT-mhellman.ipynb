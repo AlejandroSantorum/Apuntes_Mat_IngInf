{
 "cells": [
  {
   "cell_type": "markdown",
   "metadata": {},
   "source": [
    "<h3>Ejercicios 2 y 3</h3>"
   ]
  },
  {
   "cell_type": "code",
   "execution_count": 1,
   "metadata": {},
   "outputs": [],
   "source": [
    "def is_superincreasing(L):\n",
    "    if len(L) == 1 and L[0] <= 0:\n",
    "        return False\n",
    "    elif len(L) == 1:\n",
    "        return True\n",
    "    elif L[-1:][0] <= sum(L[:-1]):\n",
    "            return False\n",
    "    is_superincreasing(L[:-1])\n",
    "    return True"
   ]
  },
  {
   "cell_type": "code",
   "execution_count": 2,
   "metadata": {},
   "outputs": [
    {
     "data": {
      "text/plain": [
       "False"
      ]
     },
     "execution_count": 2,
     "metadata": {},
     "output_type": "execute_result"
    }
   ],
   "source": [
    "is_superincreasing([1,2,2])"
   ]
  },
  {
   "cell_type": "code",
   "execution_count": 3,
   "metadata": {},
   "outputs": [
    {
     "data": {
      "text/plain": [
       "True"
      ]
     },
     "execution_count": 3,
     "metadata": {},
     "output_type": "execute_result"
    }
   ],
   "source": [
    "is_superincreasing([1,2,5])"
   ]
  },
  {
   "cell_type": "code",
   "execution_count": 4,
   "metadata": {},
   "outputs": [],
   "source": [
    "def superincreasing(n,N):\n",
    "    L = [randint(1,N)]\n",
    "    for cont in srange(n-1):\n",
    "        L.append(randint(sum(L)+1,sum(L)+N))\n",
    "    return L"
   ]
  },
  {
   "cell_type": "code",
   "execution_count": 5,
   "metadata": {},
   "outputs": [
    {
     "data": {
      "text/plain": [
       "True"
      ]
     },
     "execution_count": 5,
     "metadata": {},
     "output_type": "execute_result"
    }
   ],
   "source": [
    "is_superincreasing(superincreasing(5,3))"
   ]
  },
  {
   "cell_type": "code",
   "execution_count": 6,
   "metadata": {},
   "outputs": [
    {
     "data": {
      "text/plain": [
       "True"
      ]
     },
     "execution_count": 6,
     "metadata": {},
     "output_type": "execute_result"
    }
   ],
   "source": [
    "all([is_superincreasing(superincreasing(7,12)) for int in srange(100)])"
   ]
  },
  {
   "cell_type": "markdown",
   "metadata": {},
   "source": [
    "<h3>Ejercicio 5</h3>"
   ]
  },
  {
   "cell_type": "code",
   "execution_count": 7,
   "metadata": {},
   "outputs": [],
   "source": [
    "def listas (K):\n",
    "    L = []\n",
    "    for k in srange(2^K):\n",
    "        L.append(k.digits(base=2,padto=K))\n",
    "    return L"
   ]
  },
  {
   "cell_type": "code",
   "execution_count": 8,
   "metadata": {},
   "outputs": [],
   "source": [
    "def resolver_fb(L,A):\n",
    "    K = len(L)\n",
    "    LL = listas(K)\n",
    "    for lista in LL:\n",
    "        if sum([L[i]*lista[i] for i in srange(K)])==A:\n",
    "            return lista\n",
    "        else:\n",
    "            continue"
   ]
  },
  {
   "cell_type": "code",
   "execution_count": 9,
   "metadata": {},
   "outputs": [
    {
     "name": "stdout",
     "output_type": "stream",
     "text": [
      "[11, 23, 40, 85, 170, 339, 671, 1345, 2693, 5381]\n",
      "CPU times: user 68 ms, sys: 8 ms, total: 76 ms\n",
      "Wall time: 64.2 ms\n"
     ]
    },
    {
     "data": {
      "text/plain": [
       "[1, 1, 1, 0, 1, 0, 1, 1, 1, 1]"
      ]
     },
     "execution_count": 9,
     "metadata": {},
     "output_type": "execute_result"
    }
   ],
   "source": [
    "L = superincreasing(10,12)\n",
    "print L\n",
    "%time resolver_fb(L,sum(L)-L[5]-L[3])"
   ]
  },
  {
   "cell_type": "code",
   "execution_count": 10,
   "metadata": {},
   "outputs": [
    {
     "name": "stdout",
     "output_type": "stream",
     "text": [
      "CPU times: user 1.94 s, sys: 128 ms, total: 2.07 s\n",
      "Wall time: 1.91 s\n"
     ]
    },
    {
     "data": {
      "text/plain": [
       "[1, 1, 1, 0, 1, 0, 1, 1, 1, 1, 1, 1, 1, 1, 1]"
      ]
     },
     "execution_count": 10,
     "metadata": {},
     "output_type": "execute_result"
    }
   ],
   "source": [
    "L = superincreasing(15,12)\n",
    "%time resolver_fb(L,sum(L)-L[5]-L[3])"
   ]
  },
  {
   "cell_type": "code",
   "execution_count": 11,
   "metadata": {},
   "outputs": [],
   "source": [
    "L = superincreasing(20,12)\n",
    "# time resolver_fb(L,sum(L)-L[5]-L[3])"
   ]
  },
  {
   "cell_type": "markdown",
   "metadata": {},
   "source": [
    "<h3>Ejercicio 6</h3>"
   ]
  },
  {
   "cell_type": "code",
   "execution_count": 12,
   "metadata": {},
   "outputs": [],
   "source": [
    "def resolver_r(L,A):\n",
    "    SOL = []\n",
    "    if len(L) == 0:\n",
    "        return SOL\n",
    "    elif A > sum(L):\n",
    "        return []\n",
    "    else:\n",
    "        if A >= L[-1]:\n",
    "            L1 = resolver_r(L[:-1],A-L[-1])\n",
    "            SOL= L1+[1]\n",
    "        else:\n",
    "            L1 = resolver_r(L[:-1],A)\n",
    "            SOL=L1+[0]\n",
    "    return SOL"
   ]
  },
  {
   "cell_type": "code",
   "execution_count": 13,
   "metadata": {},
   "outputs": [
    {
     "name": "stdout",
     "output_type": "stream",
     "text": [
      "[11, 12, 27, 62, 121, 240, 481]\n",
      "CPU times: user 0 ns, sys: 0 ns, total: 0 ns\n",
      "Wall time: 51 µs\n"
     ]
    },
    {
     "data": {
      "text/plain": [
       "[1, 1, 1, 0, 1, 0, 1]"
      ]
     },
     "execution_count": 13,
     "metadata": {},
     "output_type": "execute_result"
    }
   ],
   "source": [
    "L = superincreasing(7,12)\n",
    "print L\n",
    "%time resolver_r(L,sum(L)-L[5]-L[3])"
   ]
  },
  {
   "cell_type": "code",
   "execution_count": 14,
   "metadata": {},
   "outputs": [
    {
     "name": "stdout",
     "output_type": "stream",
     "text": [
      "[6, 14, 23, 47, 91, 182, 375]\n",
      "CPU times: user 0 ns, sys: 0 ns, total: 0 ns\n",
      "Wall time: 50.1 µs\n"
     ]
    },
    {
     "data": {
      "text/plain": [
       "[1, 1, 1, 0, 1, 0, 1]"
      ]
     },
     "execution_count": 14,
     "metadata": {},
     "output_type": "execute_result"
    }
   ],
   "source": [
    "L = superincreasing(7,12)\n",
    "print L\n",
    "%time resolver_r(L,sum(L)-L[5]-L[3])"
   ]
  },
  {
   "cell_type": "code",
   "execution_count": 15,
   "metadata": {},
   "outputs": [
    {
     "name": "stdout",
     "output_type": "stream",
     "text": [
      "CPU times: user 0 ns, sys: 0 ns, total: 0 ns\n",
      "Wall time: 84.2 µs\n"
     ]
    },
    {
     "data": {
      "text/plain": [
       "[1, 1, 1, 0, 1, 0, 1, 1, 1, 1, 1, 1, 1, 1, 1]"
      ]
     },
     "execution_count": 15,
     "metadata": {},
     "output_type": "execute_result"
    }
   ],
   "source": [
    "L = superincreasing(15,12)\n",
    "%time resolver_r(L,sum(L)-L[5]-L[3])"
   ]
  },
  {
   "cell_type": "markdown",
   "metadata": {},
   "source": [
    "<h3>Merkle-Hellman</h3>"
   ]
  },
  {
   "cell_type": "code",
   "execution_count": 16,
   "metadata": {},
   "outputs": [],
   "source": [
    "def generar_clave_privada(N):\n",
    "    L = superincreasing(N,10^3)\n",
    "    m = randint(2*L[-1],2*L[-1]+10^4)\n",
    "    w = next_prime(m^3)\n",
    "    return L,m,w"
   ]
  },
  {
   "cell_type": "code",
   "execution_count": 17,
   "metadata": {},
   "outputs": [],
   "source": [
    "def generar_clave_publica(t):\n",
    "    L = []\n",
    "    for item in t[0]:\n",
    "        L.append(t[2]*item%t[1])\n",
    "    return L"
   ]
  },
  {
   "cell_type": "code",
   "execution_count": 18,
   "metadata": {},
   "outputs": [],
   "source": [
    "def generar_claves(N):\n",
    "    Cpr = generar_clave_privada(N)\n",
    "    return Cpr,generar_clave_publica(Cpr)"
   ]
  },
  {
   "cell_type": "code",
   "execution_count": 19,
   "metadata": {},
   "outputs": [],
   "source": [
    "CL = generar_claves(10)"
   ]
  },
  {
   "cell_type": "code",
   "execution_count": 20,
   "metadata": {},
   "outputs": [],
   "source": [
    "alfb = \"ABCDEFGHIJKLMNOPQRSTUVWXYZ\""
   ]
  },
  {
   "cell_type": "code",
   "execution_count": 21,
   "metadata": {},
   "outputs": [],
   "source": [
    "L_alfb = list(alfb)"
   ]
  },
  {
   "cell_type": "code",
   "execution_count": 22,
   "metadata": {},
   "outputs": [],
   "source": [
    "texto = \"Through the use of abstraction and logical reasoning, mathematics developed from counting, calculation, measurement, and the systematic study of the shapes and motions of physical objects. Practical mathematics has been a human activity for as far back as written records exist. Rigorous arguments first appeared in Greek mathematics, most notably in Euclid's Elements. Mathematics developed at a relatively slow pace until the Renaissance, when mathematical innovations interacting with new scientific discoveries led to a rapid increase in the rate of mathematical discovery that continues to the present day.\""
   ]
  },
  {
   "cell_type": "code",
   "execution_count": 23,
   "metadata": {},
   "outputs": [],
   "source": [
    "def ord2(c):\n",
    "    return L_alfb.index(c)"
   ]
  },
  {
   "cell_type": "code",
   "execution_count": 24,
   "metadata": {},
   "outputs": [],
   "source": [
    "def chr2(n):\n",
    "    return L_alfb[n]"
   ]
  },
  {
   "cell_type": "code",
   "execution_count": 25,
   "metadata": {},
   "outputs": [
    {
     "name": "stdout",
     "output_type": "stream",
     "text": [
      "[0, 1, 2, 3, 4, 5, 6, 7, 8, 9, 10, 11, 12, 13, 14, 15, 16, 17, 18, 19, 20, 21, 22, 23, 24, 25]\n"
     ]
    }
   ],
   "source": [
    "print map(ord2,[x for x in alfb])"
   ]
  },
  {
   "cell_type": "code",
   "execution_count": 26,
   "metadata": {},
   "outputs": [
    {
     "data": {
      "text/plain": [
       "[1, 1, 1, 0, 0]"
      ]
     },
     "execution_count": 26,
     "metadata": {},
     "output_type": "execute_result"
    }
   ],
   "source": [
    "(7).digits(base=2,padto=5)"
   ]
  },
  {
   "cell_type": "code",
   "execution_count": 27,
   "metadata": {},
   "outputs": [],
   "source": [
    "def cadena(L):\n",
    "    C = ''\n",
    "    L.reverse()\n",
    "    for item in L:\n",
    "        C = C+str(item)\n",
    "    return C"
   ]
  },
  {
   "cell_type": "code",
   "execution_count": 28,
   "metadata": {},
   "outputs": [],
   "source": [
    "def bin_2(n):\n",
    "    return cadena(ZZ(n).digits(base=2,padto=5))"
   ]
  },
  {
   "cell_type": "code",
   "execution_count": 29,
   "metadata": {},
   "outputs": [
    {
     "data": {
      "text/plain": [
       "'00111'"
      ]
     },
     "execution_count": 29,
     "metadata": {},
     "output_type": "execute_result"
    }
   ],
   "source": [
    "bin_2(7)"
   ]
  },
  {
   "cell_type": "code",
   "execution_count": 30,
   "metadata": {},
   "outputs": [
    {
     "name": "stdout",
     "output_type": "stream",
     "text": [
      "['A', 'B', 'C', 'D', 'E', 'F', 'G', 'H', 'I', 'J', 'K', 'L', 'M', 'N', 'O', 'P', 'Q', 'R', 'S', 'T', 'U', 'V', 'W', 'X', 'Y', 'Z']\n"
     ]
    }
   ],
   "source": [
    "print map(chr2,map(ord2,[x for x in alfb]))"
   ]
  },
  {
   "cell_type": "code",
   "execution_count": 31,
   "metadata": {},
   "outputs": [],
   "source": [
    "from string import *\n",
    "def limpiar(texto,alfb):\n",
    "    L = map(ord,[x.capitalize() for x in list(texto)])\n",
    "    L1 = [item for item in L if item in map(ord,[x for x in alfb])]\n",
    "    C1 = join(map(chr,L1),sep = \"\")\n",
    "    return C1"
   ]
  },
  {
   "cell_type": "code",
   "execution_count": 32,
   "metadata": {},
   "outputs": [
    {
     "data": {
      "text/plain": [
       "'THROUGHTHEUSEOFABSTRACTIONANDLOGICALREASONINGMATHEMATICSDEVELOPEDFROMCOUNTINGCALCULATIONMEASUREMENTANDTHESYSTEMATICSTUDYOFTHESHAPESANDMOTIONSOFPHYSICALOBJECTSPRACTICALMATHEMATICSHASBEENAHUMANACTIVITYFORASFARBACKASWRITTENRECORDSEXISTRIGOROUSARGUMENTSFIRSTAPPEAREDINGREEKMATHEMATICSMOSTNOTABLYINEUCLIDSELEMENTSMATHEMATICSDEVELOPEDATARELATIVELYSLOWPACEUNTILTHERENAISSANCEWHENMATHEMATICALINNOVATIONSINTERACTINGWITHNEWSCIENTIFICDISCOVERIESLEDTOARAPIDINCREASEINTHERATEOFMATHEMATICALDISCOVERYTHATCONTINUESTOTHEPRESENTDAY'"
      ]
     },
     "execution_count": 32,
     "metadata": {},
     "output_type": "execute_result"
    }
   ],
   "source": [
    "texto2 = limpiar(texto,alfb);texto2"
   ]
  },
  {
   "cell_type": "code",
   "execution_count": 33,
   "metadata": {},
   "outputs": [
    {
     "name": "stdout",
     "output_type": "stream",
     "text": [
      "[19, 7, 17, 14, 20, 6, 7, 19, 7, 4, 20, 18, 4, 14, 5, 0, 1, 18, 19, 17, 0, 2, 19, 8, 14, 13, 0, 13, 3, 11, 14, 6, 8, 2, 0, 11, 17, 4, 0, 18, 14, 13, 8, 13, 6, 12, 0, 19, 7, 4, 12, 0, 19, 8, 2, 18, 3, 4, 21, 4, 11, 14, 15, 4, 3, 5, 17, 14, 12, 2, 14, 20, 13, 19, 8, 13, 6, 2, 0, 11, 2, 20, 11, 0, 19, 8, 14, 13, 12, 4, 0, 18, 20, 17, 4, 12, 4, 13, 19, 0, 13, 3, 19, 7, 4, 18, 24, 18, 19, 4, 12, 0, 19, 8, 2, 18, 19, 20, 3, 24, 14, 5, 19, 7, 4, 18, 7, 0, 15, 4, 18, 0, 13, 3, 12, 14, 19, 8, 14, 13, 18, 14, 5, 15, 7, 24, 18, 8, 2, 0, 11, 14, 1, 9, 4, 2, 19, 18, 15, 17, 0, 2, 19, 8, 2, 0, 11, 12, 0, 19, 7, 4, 12, 0, 19, 8, 2, 18, 7, 0, 18, 1, 4, 4, 13, 0, 7, 20, 12, 0, 13, 0, 2, 19, 8, 21, 8, 19, 24, 5, 14, 17, 0, 18, 5, 0, 17, 1, 0, 2, 10, 0, 18, 22, 17, 8, 19, 19, 4, 13, 17, 4, 2, 14, 17, 3, 18, 4, 23, 8, 18, 19, 17, 8, 6, 14, 17, 14, 20, 18, 0, 17, 6, 20, 12, 4, 13, 19, 18, 5, 8, 17, 18, 19, 0, 15, 15, 4, 0, 17, 4, 3, 8, 13, 6, 17, 4, 4, 10, 12, 0, 19, 7, 4, 12, 0, 19, 8, 2, 18, 12, 14, 18, 19, 13, 14, 19, 0, 1, 11, 24, 8, 13, 4, 20, 2, 11, 8, 3, 18, 4, 11, 4, 12, 4, 13, 19, 18, 12, 0, 19, 7, 4, 12, 0, 19, 8, 2, 18, 3, 4, 21, 4, 11, 14, 15, 4, 3, 0, 19, 0, 17, 4, 11, 0, 19, 8, 21, 4, 11, 24, 18, 11, 14, 22, 15, 0, 2, 4, 20, 13, 19, 8, 11, 19, 7, 4, 17, 4, 13, 0, 8, 18, 18, 0, 13, 2, 4, 22, 7, 4, 13, 12, 0, 19, 7, 4, 12, 0, 19, 8, 2, 0, 11, 8, 13, 13, 14, 21, 0, 19, 8, 14, 13, 18, 8, 13, 19, 4, 17, 0, 2, 19, 8, 13, 6, 22, 8, 19, 7, 13, 4, 22, 18, 2, 8, 4, 13, 19, 8, 5, 8, 2, 3, 8, 18, 2, 14, 21, 4, 17, 8, 4, 18, 11, 4, 3, 19, 14, 0, 17, 0, 15, 8, 3, 8, 13, 2, 17, 4, 0, 18, 4, 8, 13, 19, 7, 4, 17, 0, 19, 4, 14, 5, 12, 0, 19, 7, 4, 12, 0, 19, 8, 2, 0, 11, 3, 8, 18, 2, 14, 21, 4, 17, 24, 19, 7, 0, 19, 2, 14, 13, 19, 8, 13, 20, 4, 18, 19, 14, 19, 7, 4, 15, 17, 4, 18, 4, 13, 19, 3, 0, 24]\n"
     ]
    }
   ],
   "source": [
    "texto_cod0 = map(ord2,list(texto2));print texto_cod0"
   ]
  },
  {
   "cell_type": "code",
   "execution_count": 34,
   "metadata": {},
   "outputs": [
    {
     "name": "stdout",
     "output_type": "stream",
     "text": [
      "['10011', '00111', '10001', '01110', '10100', '00110', '00111', '10011', '00111', '00100', '10100', '10010', '00100', '01110', '00101', '00000', '00001', '10010', '10011', '10001', '00000', '00010', '10011', '01000', '01110', '01101', '00000', '01101', '00011', '01011', '01110', '00110', '01000', '00010', '00000', '01011', '10001', '00100', '00000', '10010', '01110', '01101', '01000', '01101', '00110', '01100', '00000', '10011', '00111', '00100', '01100', '00000', '10011', '01000', '00010', '10010', '00011', '00100', '10101', '00100', '01011', '01110', '01111', '00100', '00011', '00101', '10001', '01110', '01100', '00010', '01110', '10100', '01101', '10011', '01000', '01101', '00110', '00010', '00000', '01011', '00010', '10100', '01011', '00000', '10011', '01000', '01110', '01101', '01100', '00100', '00000', '10010', '10100', '10001', '00100', '01100', '00100', '01101', '10011', '00000', '01101', '00011', '10011', '00111', '00100', '10010', '11000', '10010', '10011', '00100', '01100', '00000', '10011', '01000', '00010', '10010', '10011', '10100', '00011', '11000', '01110', '00101', '10011', '00111', '00100', '10010', '00111', '00000', '01111', '00100', '10010', '00000', '01101', '00011', '01100', '01110', '10011', '01000', '01110', '01101', '10010', '01110', '00101', '01111', '00111', '11000', '10010', '01000', '00010', '00000', '01011', '01110', '00001', '01001', '00100', '00010', '10011', '10010', '01111', '10001', '00000', '00010', '10011', '01000', '00010', '00000', '01011', '01100', '00000', '10011', '00111', '00100', '01100', '00000', '10011', '01000', '00010', '10010', '00111', '00000', '10010', '00001', '00100', '00100', '01101', '00000', '00111', '10100', '01100', '00000', '01101', '00000', '00010', '10011', '01000', '10101', '01000', '10011', '11000', '00101', '01110', '10001', '00000', '10010', '00101', '00000', '10001', '00001', '00000', '00010', '01010', '00000', '10010', '10110', '10001', '01000', '10011', '10011', '00100', '01101', '10001', '00100', '00010', '01110', '10001', '00011', '10010', '00100', '10111', '01000', '10010', '10011', '10001', '01000', '00110', '01110', '10001', '01110', '10100', '10010', '00000', '10001', '00110', '10100', '01100', '00100', '01101', '10011', '10010', '00101', '01000', '10001', '10010', '10011', '00000', '01111', '01111', '00100', '00000', '10001', '00100', '00011', '01000', '01101', '00110', '10001', '00100', '00100', '01010', '01100', '00000', '10011', '00111', '00100', '01100', '00000', '10011', '01000', '00010', '10010', '01100', '01110', '10010', '10011', '01101', '01110', '10011', '00000', '00001', '01011', '11000', '01000', '01101', '00100', '10100', '00010', '01011', '01000', '00011', '10010', '00100', '01011', '00100', '01100', '00100', '01101', '10011', '10010', '01100', '00000', '10011', '00111', '00100', '01100', '00000', '10011', '01000', '00010', '10010', '00011', '00100', '10101', '00100', '01011', '01110', '01111', '00100', '00011', '00000', '10011', '00000', '10001', '00100', '01011', '00000', '10011', '01000', '10101', '00100', '01011', '11000', '10010', '01011', '01110', '10110', '01111', '00000', '00010', '00100', '10100', '01101', '10011', '01000', '01011', '10011', '00111', '00100', '10001', '00100', '01101', '00000', '01000', '10010', '10010', '00000', '01101', '00010', '00100', '10110', '00111', '00100', '01101', '01100', '00000', '10011', '00111', '00100', '01100', '00000', '10011', '01000', '00010', '00000', '01011', '01000', '01101', '01101', '01110', '10101', '00000', '10011', '01000', '01110', '01101', '10010', '01000', '01101', '10011', '00100', '10001', '00000', '00010', '10011', '01000', '01101', '00110', '10110', '01000', '10011', '00111', '01101', '00100', '10110', '10010', '00010', '01000', '00100', '01101', '10011', '01000', '00101', '01000', '00010', '00011', '01000', '10010', '00010', '01110', '10101', '00100', '10001', '01000', '00100', '10010', '01011', '00100', '00011', '10011', '01110', '00000', '10001', '00000', '01111', '01000', '00011', '01000', '01101', '00010', '10001', '00100', '00000', '10010', '00100', '01000', '01101', '10011', '00111', '00100', '10001', '00000', '10011', '00100', '01110', '00101', '01100', '00000', '10011', '00111', '00100', '01100', '00000', '10011', '01000', '00010', '00000', '01011', '00011', '01000', '10010', '00010', '01110', '10101', '00100', '10001', '11000', '10011', '00111', '00000', '10011', '00010', '01110', '01101', '10011', '01000', '01101', '10100', '00100', '10010', '10011', '01110', '10011', '00111', '00100', '01111', '10001', '00100', '10010', '00100', '01101', '10011', '00011', '00000', '11000']\n"
     ]
    }
   ],
   "source": [
    "texto_cod1 = map(bin_2,texto_cod0);print texto_cod1"
   ]
  },
  {
   "cell_type": "code",
   "execution_count": 35,
   "metadata": {},
   "outputs": [
    {
     "data": {
      "text/plain": [
       "'100110011110001011101010000110001111001100111001001010010010001000111000101000000000110010100111000100000000101001101000011100110100000011010001101011011100011001000000100000001011100010010000000100100111001101010000110100110011000000010011001110010001100000001001101000000101001000011001001010100100010110111001111001000001100101100010111001100000100111010100011011001101000011010011000010000000101100010101000101100000100110100001110011010110000100000001001010100100010010001100001000110110011000000110100011100110011100100100101100010010100110010001100000001001101000000101001010011101000001111000011100010110011001110010010010001110000001111001001001000000011010001101100011101001101000011100110110010011100010101111001111100010010010000001000000010110111000001010010010000010100111001001111100010000000010100110100000010000000101101100000001001100111001000110000000100110100000010100100011100000100100000100100001000110100000001111010001100000000110100000000101001101000101010100010011110000010101110100010000010010001010000010001000010000000010010100000010010101101000101000100111001100100011011000100100000100111010001000111001000100101110100010010100111000101000001100111010001011101010010010000001000100110101000110000100011011001110010001010100010001100101001100000011110111100100000001000100100000110100001101001101000100100001000101001100000001001100111001000110000000100110100000010100100110001110100101001101101011101001100000000010101111000010000110100100101000001001011010000001110010001000101100100011000010001101100111001001100000001001100111001000110000000100110100000010100100001100100101010010001011011100111100100000110000010011000001000100100010110000010011010001010100100010111100010010010110111010110011110000000010001001010001101100110100001011100110011100100100010010001101000000100010010100100000001101000100010010110001110010001101011000000010011001110010001100000001001101000000100000001011010000110101101011101010100000100110100001110011011001001000011011001100100100010000000010100110100001101001101011001000100110011101101001001011010010000100100000100011011001101000001010100000010000110100010010000100111010101001001000101000001001001001011001000001110011011100000010001000000111101000000110100001101000101000100100000001001000100010000110110011001110010010001000001001100100011100010101100000001001100111001000110000000100110100000010000000101100011010001001000010011101010100100100011100010011001110000010011000100111001101100110100001101101000010010010100110111010011001110010001111100010010010010001000110110011000110000011000'"
      ]
     },
     "execution_count": 35,
     "metadata": {},
     "output_type": "execute_result"
    }
   ],
   "source": [
    "texto_cod3 = join(texto_cod1,sep='');texto_cod3"
   ]
  },
  {
   "cell_type": "code",
   "execution_count": 36,
   "metadata": {},
   "outputs": [
    {
     "data": {
      "text/plain": [
       "(([701, 1473, 3154, 6210, 12291, 24437, 48611, 97432, 194638, 389398],\n",
       "  785128,\n",
       "  483973293986417189),\n",
       " [25937,\n",
       "  54501,\n",
       "  116698,\n",
       "  229770,\n",
       "  454767,\n",
       "  119041,\n",
       "  228351,\n",
       "  464472,\n",
       "  135454,\n",
       "  275422])"
      ]
     },
     "execution_count": 36,
     "metadata": {},
     "output_type": "execute_result"
    }
   ],
   "source": [
    "CL"
   ]
  },
  {
   "cell_type": "code",
   "execution_count": 37,
   "metadata": {},
   "outputs": [],
   "source": [
    "def encriptar(C,Cpu):\n",
    "    EN = []\n",
    "    r = len(C)%10\n",
    "    C1 = C + '0'*(10-r)\n",
    "    while len(C1) > 0:\n",
    "        C2 = C1[:10]\n",
    "        sum = 0\n",
    "        for i in srange(10):\n",
    "            sum += ZZ(C2[i])*Cpu[i]\n",
    "        EN.append(sum)\n",
    "        C1 = C1[10:]\n",
    "    return EN"
   ]
  },
  {
   "cell_type": "code",
   "execution_count": 38,
   "metadata": {},
   "outputs": [
    {
     "data": {
      "text/plain": [
       "[25937, 54501, 116698, 229770, 454767, 119041, 228351, 464472, 135454, 275422]"
      ]
     },
     "execution_count": 38,
     "metadata": {},
     "output_type": "execute_result"
    }
   ],
   "source": [
    "CL[1]"
   ]
  },
  {
   "cell_type": "code",
   "execution_count": 39,
   "metadata": {},
   "outputs": [
    {
     "name": "stdout",
     "output_type": "stream",
     "text": [
      "[1585822, 1308981, 742561, 1331152, 1265707, 397130, 944975, 571465, 709262, 1104937, 135454, 938825, 1369214, 968245, 1323764, 1000895, 189955, 639227, 945176, 254495, 1369214, 1022746, 1039291, 529917, 1265707, 171199, 938825, 484265, 1149009, 1061874, 1567315, 1320208, 1424431, 1308981, 306653, 984482, 1155883, 1022746, 481922, 639227, 813283, 739038, 938825, 1369214, 635671, 254495, 537098, 809521, 1084943, 710474, 1036842, 1585822, 371193, 334933, 1174946, 171199, 938825, 484265, 1293987, 1031929, 1140863, 1585822, 371193, 801235, 1320208, 255707, 1036842, 999476, 938825, 1369214, 1083984, 1675164, 1148627, 484058, 229770, 1567315, 958540, 252152, 964969, 1250199, 135454, 938825, 229770, 1431861, 529917, 1265707, 171199, 938825, 484265, 801235, 531129, 581170, 625966, 1384748, 171199, 625966, 759687, 913436, 584418, 820332, 795432, 254495, 571465, 756126, 135454, 284271, 974674, 709055, 1240391, 1084943, 945176, 1058047, 891580, 720179, 1055523, 785624, 709055, 1174745, 1308981, 397130, 394463, 929981, 635671, 1155883, 995601, 448964, 785624, 1103699, 1320208, 394463, 527574, 1022746, 740931, 581170, 977094, 529917, 1265707, 171199, 938825, 484265, 999476, 785624, 1454243, 710474, 1093994, 308789, 1090438, 278089, 967389, 939032, 755925, 809521, 1084943, 964969, 171199, 1585822, 809521, 529917, 189955, 666583, 975633, 755925, 1504668, 527574, 529917, 394463, 755925, 529917, 913436, 755925, 334933, 1567315, 1476104, 135454, 700211, 1155883, 693728, 1585822, 511161, 1084943, 228351, 510202, 968245, 694242, 1247753, 1084943, 171199, 1585822, 809521, 529917, 189955, 639227, 1022746, 1454243, 597402, 938825, 1369214, 484058, 1155883, 511161, 135454, 938825, 1225892, 600756, 1585822, 1090438, 626900, 458121, 1084943, 938825, 799816, 640646, 308996, 1058047, 1061874, 709055, 371193, 1203510, 1214454, 400969, 480704, 1084087, 912888, 761420, 945176, 254495, 345049, 1155883, 1265707, 480704, 1174946, 1140863, 171199, 1585822, 809521, 529917, 189955, 639227, 912888, 391161, 1259904, 511161, 610355, 801235, 845928, 1369214, 938825, 1209479, 371193, 1538751, 1585822, 1220397, 945176, 720179, 1155883, 684537, 80438]\n"
     ]
    }
   ],
   "source": [
    "texto_encr = encriptar(texto_cod3,CL[1]);print texto_encr"
   ]
  },
  {
   "cell_type": "code",
   "execution_count": 40,
   "metadata": {},
   "outputs": [
    {
     "data": {
      "text/plain": [
       "([701, 1473, 3154, 6210, 12291, 24437, 48611, 97432, 194638, 389398],\n",
       " 785128,\n",
       " 483973293986417189)"
      ]
     },
     "execution_count": 40,
     "metadata": {},
     "output_type": "execute_result"
    }
   ],
   "source": [
    "CL[0]"
   ]
  },
  {
   "cell_type": "code",
   "execution_count": 41,
   "metadata": {},
   "outputs": [],
   "source": [
    "def cadena(L):\n",
    "    C = ''\n",
    "    for item in L:\n",
    "        C = C+str(item)\n",
    "    return C"
   ]
  },
  {
   "cell_type": "code",
   "execution_count": 42,
   "metadata": {},
   "outputs": [
    {
     "data": {
      "text/plain": [
       "'1001111110'"
      ]
     },
     "execution_count": 42,
     "metadata": {},
     "output_type": "execute_result"
    }
   ],
   "source": [
    "cadena([1, 0, 0, 1, 1, 1, 1, 1, 1, 0])"
   ]
  },
  {
   "cell_type": "code",
   "execution_count": 43,
   "metadata": {},
   "outputs": [],
   "source": [
    "def desencriptar(texto_encr,Cpr):\n",
    "    R = Integers(Cpr[1])\n",
    "    w1 = R(1/Cpr[2])\n",
    "    #print w1\n",
    "    C = ''\n",
    "    for item in texto_encr:\n",
    "        C += join(cadena(resolver_r(Cpr[0],R(w1*item))),sep='')\n",
    "    return C"
   ]
  },
  {
   "cell_type": "code",
   "execution_count": 44,
   "metadata": {},
   "outputs": [
    {
     "data": {
      "text/plain": [
       "True"
      ]
     },
     "execution_count": 44,
     "metadata": {},
     "output_type": "execute_result"
    }
   ],
   "source": [
    "texto_cod3 in desencriptar(texto_encr,CL[0])"
   ]
  },
  {
   "cell_type": "code",
   "execution_count": 45,
   "metadata": {},
   "outputs": [
    {
     "data": {
      "text/plain": [
       "True"
      ]
     },
     "execution_count": 45,
     "metadata": {},
     "output_type": "execute_result"
    }
   ],
   "source": [
    "desencriptar(texto_encr,CL[0])[:-5]==texto_cod3"
   ]
  },
  {
   "cell_type": "code",
   "execution_count": 46,
   "metadata": {},
   "outputs": [
    {
     "data": {
      "text/plain": [
       "19"
      ]
     },
     "execution_count": 46,
     "metadata": {},
     "output_type": "execute_result"
    }
   ],
   "source": [
    "ZZ('10011',base=2)"
   ]
  },
  {
   "cell_type": "code",
   "execution_count": 47,
   "metadata": {},
   "outputs": [],
   "source": [
    "def descod(C):\n",
    "    C1 = ''\n",
    "    while C != '':\n",
    "        C1 = C1+chr2(ZZ(C[:5],base=2))\n",
    "        C = C[5:]\n",
    "    return C1"
   ]
  },
  {
   "cell_type": "code",
   "execution_count": 48,
   "metadata": {},
   "outputs": [
    {
     "data": {
      "text/plain": [
       "'THROUGHTHEUSEOFABSTRACTIONANDLOGICALREASONINGMATHEMATICSDEVELOPEDFROMCOUNTINGCALCULATIONMEASUREMENTANDTHESYSTEMATICSTUDYOFTHESHAPESANDMOTIONSOFPHYSICALOBJECTSPRACTICALMATHEMATICSHASBEENAHUMANACTIVITYFORASFARBACKASWRITTENRECORDSEXISTRIGOROUSARGUMENTSFIRSTAPPEAREDINGREEKMATHEMATICSMOSTNOTABLYINEUCLIDSELEMENTSMATHEMATICSDEVELOPEDATARELATIVELYSLOWPACEUNTILTHERENAISSANCEWHENMATHEMATICALINNOVATIONSINTERACTINGWITHNEWSCIENTIFICDISCOVERIESLEDTOARAPIDINCREASEINTHERATEOFMATHEMATICALDISCOVERYTHATCONTINUESTOTHEPRESENTDAY'"
      ]
     },
     "execution_count": 48,
     "metadata": {},
     "output_type": "execute_result"
    }
   ],
   "source": [
    "descod(desencriptar(texto_encr,CL[0])[:-5])"
   ]
  }
 ],
 "metadata": {
  "kernelspec": {
   "display_name": "SageMath 8.0",
   "language": "",
   "name": "sagemath"
  },
  "language_info": {
   "codemirror_mode": {
    "name": "ipython",
    "version": 2
   },
   "file_extension": ".py",
   "mimetype": "text/x-python",
   "name": "python",
   "nbconvert_exporter": "python",
   "pygments_lexer": "ipython2",
   "version": "2.7.13"
  }
 },
 "nbformat": 4,
 "nbformat_minor": 1
}
