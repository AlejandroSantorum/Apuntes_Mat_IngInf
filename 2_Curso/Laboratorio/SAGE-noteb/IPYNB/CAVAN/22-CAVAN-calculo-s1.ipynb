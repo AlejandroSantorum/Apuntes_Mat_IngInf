{
 "cells": [
  {
   "cell_type": "markdown",
   "metadata": {},
   "source": [
    "<p><a href=\"http://web.uam.es/personal_pdi/ciencias/pangulo/doc/laboratorio/bloqueV.html\" target=\"_blank\">Consulta avanzada</a></p>\n",
    "<h4>L&iacute;mites de funciones o de sucesiones</h4>\n",
    "<p>El m&eacute;todo o funci&oacute;n <span style=\"font-family: courier new,courier;\">limit</span>.</p>"
   ]
  },
  {
   "cell_type": "code",
   "execution_count": 1,
   "metadata": {
    "collapsed": false
   },
   "outputs": [
    {
     "data": {
      "text/plain": [
       "(1, Infinity, -Infinity, +Infinity)"
      ]
     },
     "execution_count": 1,
     "metadata": {},
     "output_type": "execute_result"
    }
   ],
   "source": [
    "f1(x)=sin(x)/x\n",
    "f2(x)=sin(x)/x^2\n",
    "f1(x).limit(x=0), f2(x).limit(x=0), f2(x).limit(x=0,dir='-'), f2(x).limit(x=0,dir='right')"
   ]
  },
  {
   "cell_type": "code",
   "execution_count": 2,
   "metadata": {
    "collapsed": false
   },
   "outputs": [
    {
     "data": {
      "text/plain": [
       "(und, und, und)"
      ]
     },
     "execution_count": 2,
     "metadata": {},
     "output_type": "execute_result"
    }
   ],
   "source": [
    "f3=x*sin(x)\n",
    "f4=x*(5+sin(x))\n",
    "limit(f3,x=oo), limit(f3,x=+infinity), f4.limit(x=+Infinity)"
   ]
  },
  {
   "cell_type": "code",
   "execution_count": 3,
   "metadata": {
    "collapsed": false
   },
   "outputs": [
    {
     "data": {
      "text/plain": [
       "0"
      ]
     },
     "execution_count": 3,
     "metadata": {},
     "output_type": "execute_result"
    }
   ],
   "source": [
    "var('n')\n",
    "a(n)=sqrt(n^2+3)/n^(3/2)\n",
    "limit(a(n),n=+oo)"
   ]
  },
  {
   "cell_type": "markdown",
   "metadata": {},
   "source": [
    "<h4>Suma (simb&oacute;lica) de series</h4>\n",
    "<p>Utilizamos la funci&oacute;n <span style=\"font-family: courier new,courier;\">sum </span>con la sintaxis</p>\n",
    "<p><span style=\"font-family: courier new,courier;\">sum(expresion, indice, valor inicial, valor final)</span></p>\n",
    "<p>en la que el valor final puede ser <span style=\"font-family: courier new,courier;\">+Infinity</span> (o el valor inicial <span style=\"font-family: courier new,courier;\">-Infinity</span>).</p>\n",
    "<p>El resultado puede ser simb&oacute;lico, como el que sigue:</p>"
   ]
  },
  {
   "cell_type": "code",
   "execution_count": 4,
   "metadata": {
    "collapsed": false
   },
   "outputs": [
    {
     "data": {
      "text/plain": [
       "1/6*pi^2"
      ]
     },
     "execution_count": 4,
     "metadata": {},
     "output_type": "execute_result"
    }
   ],
   "source": [
    "var('k')\n",
    "sum(1/k^2, k, 1, +oo)"
   ]
  },
  {
   "cell_type": "code",
   "execution_count": 5,
   "metadata": {
    "collapsed": false
   },
   "outputs": [
    {
     "data": {
      "text/plain": [
       "zeta(3)"
      ]
     },
     "execution_count": 5,
     "metadata": {},
     "output_type": "execute_result"
    }
   ],
   "source": [
    "sum(1/k^3, k, 1, +oo)"
   ]
  },
  {
   "cell_type": "code",
   "execution_count": 6,
   "metadata": {
    "collapsed": false
   },
   "outputs": [
    {
     "data": {
      "text/plain": [
       "100/101"
      ]
     },
     "execution_count": 6,
     "metadata": {},
     "output_type": "execute_result"
    }
   ],
   "source": [
    "sum(1/(k^2+k),k,1,100)"
   ]
  },
  {
   "cell_type": "markdown",
   "metadata": {},
   "source": [
    "<p>Restricciones sobre los par&aacute;metros: la funci&oacute;n <span style=\"font-family: courier new,courier;\">assume. </span>Se utiliza <span style=\"font-family: courier new,courier;\">forget</span> sin argumentos para borrar cualquier hip&oacute;tesis anterior.</p>"
   ]
  },
  {
   "cell_type": "code",
   "execution_count": 7,
   "metadata": {
    "collapsed": false
   },
   "outputs": [
    {
     "ename": "ValueError",
     "evalue": "Computation failed since Maxima requested additional constraints; using the 'assume' command before evaluation *may* help (example of legal syntax is 'assume(abs(a)-1>0)', see `assume?` for more details)\nIs abs(a)-1 positive, negative or zero?",
     "output_type": "error",
     "traceback": [
      "\u001b[1;31m---------------------------------------------------------------------------\u001b[0m",
      "\u001b[1;31mValueError\u001b[0m                                Traceback (most recent call last)",
      "\u001b[1;32m<ipython-input-7-7b699b682c46>\u001b[0m in \u001b[0;36m<module>\u001b[1;34m()\u001b[0m\n\u001b[0;32m      1\u001b[0m \u001b[0mvar\u001b[0m\u001b[1;33m(\u001b[0m\u001b[1;34m'a n'\u001b[0m\u001b[1;33m)\u001b[0m\u001b[1;33m\u001b[0m\u001b[0m\n\u001b[1;32m----> 2\u001b[1;33m \u001b[0msum\u001b[0m\u001b[1;33m(\u001b[0m\u001b[0ma\u001b[0m\u001b[1;33m**\u001b[0m\u001b[0mn\u001b[0m\u001b[1;33m,\u001b[0m \u001b[0mn\u001b[0m\u001b[1;33m,\u001b[0m \u001b[0mInteger\u001b[0m\u001b[1;33m(\u001b[0m\u001b[1;36m1\u001b[0m\u001b[1;33m)\u001b[0m\u001b[1;33m,\u001b[0m \u001b[1;33m+\u001b[0m\u001b[0moo\u001b[0m\u001b[1;33m)\u001b[0m\u001b[1;33m\u001b[0m\u001b[0m\n\u001b[0m",
      "\u001b[1;32m/usr/lib/sagemath/local/lib/python2.7/site-packages/sage/misc/functional.pyc\u001b[0m in \u001b[0;36msymbolic_sum\u001b[1;34m(expression, *args, **kwds)\u001b[0m\n\u001b[0;32m    562\u001b[0m     \"\"\"\n\u001b[0;32m    563\u001b[0m     \u001b[1;32mif\u001b[0m \u001b[0mhasattr\u001b[0m\u001b[1;33m(\u001b[0m\u001b[0mexpression\u001b[0m\u001b[1;33m,\u001b[0m \u001b[1;34m'sum'\u001b[0m\u001b[1;33m)\u001b[0m\u001b[1;33m:\u001b[0m\u001b[1;33m\u001b[0m\u001b[0m\n\u001b[1;32m--> 564\u001b[1;33m         \u001b[1;32mreturn\u001b[0m \u001b[0mexpression\u001b[0m\u001b[1;33m.\u001b[0m\u001b[0msum\u001b[0m\u001b[1;33m(\u001b[0m\u001b[1;33m*\u001b[0m\u001b[0margs\u001b[0m\u001b[1;33m,\u001b[0m \u001b[1;33m**\u001b[0m\u001b[0mkwds\u001b[0m\u001b[1;33m)\u001b[0m\u001b[1;33m\u001b[0m\u001b[0m\n\u001b[0m\u001b[0;32m    565\u001b[0m     \u001b[1;32melif\u001b[0m \u001b[0mlen\u001b[0m\u001b[1;33m(\u001b[0m\u001b[0margs\u001b[0m\u001b[1;33m)\u001b[0m \u001b[1;33m<=\u001b[0m \u001b[1;36m1\u001b[0m\u001b[1;33m:\u001b[0m\u001b[1;33m\u001b[0m\u001b[0m\n\u001b[0;32m    566\u001b[0m         \u001b[1;32mreturn\u001b[0m \u001b[0msum\u001b[0m\u001b[1;33m(\u001b[0m\u001b[0mexpression\u001b[0m\u001b[1;33m,\u001b[0m \u001b[1;33m*\u001b[0m\u001b[0margs\u001b[0m\u001b[1;33m)\u001b[0m\u001b[1;33m\u001b[0m\u001b[0m\n",
      "\u001b[1;32msage/symbolic/expression.pyx\u001b[0m in \u001b[0;36msage.symbolic.expression.Expression.sum (/usr/lib/sagemath//src/build/cythonized/sage/symbolic/expression.cpp:59990)\u001b[1;34m()\u001b[0m\n",
      "\u001b[1;32m/usr/lib/sagemath/local/lib/python2.7/site-packages/sage/calculus/calculus.pyc\u001b[0m in \u001b[0;36msymbolic_sum\u001b[1;34m(expression, v, a, b, algorithm)\u001b[0m\n\u001b[0;32m    582\u001b[0m \u001b[1;33m\u001b[0m\u001b[0m\n\u001b[0;32m    583\u001b[0m     \u001b[1;32mif\u001b[0m \u001b[0malgorithm\u001b[0m \u001b[1;33m==\u001b[0m \u001b[1;34m'maxima'\u001b[0m\u001b[1;33m:\u001b[0m\u001b[1;33m\u001b[0m\u001b[0m\n\u001b[1;32m--> 584\u001b[1;33m         \u001b[1;32mreturn\u001b[0m \u001b[0mmaxima\u001b[0m\u001b[1;33m.\u001b[0m\u001b[0msr_sum\u001b[0m\u001b[1;33m(\u001b[0m\u001b[0mexpression\u001b[0m\u001b[1;33m,\u001b[0m\u001b[0mv\u001b[0m\u001b[1;33m,\u001b[0m\u001b[0ma\u001b[0m\u001b[1;33m,\u001b[0m\u001b[0mb\u001b[0m\u001b[1;33m)\u001b[0m\u001b[1;33m\u001b[0m\u001b[0m\n\u001b[0m\u001b[0;32m    585\u001b[0m \u001b[1;33m\u001b[0m\u001b[0m\n\u001b[0;32m    586\u001b[0m     \u001b[1;32melif\u001b[0m \u001b[0malgorithm\u001b[0m \u001b[1;33m==\u001b[0m \u001b[1;34m'mathematica'\u001b[0m\u001b[1;33m:\u001b[0m\u001b[1;33m\u001b[0m\u001b[0m\n",
      "\u001b[1;32m/usr/lib/sagemath/local/lib/python2.7/site-packages/sage/interfaces/maxima_lib.py\u001b[0m in \u001b[0;36msr_sum\u001b[1;34m(self, *args)\u001b[0m\n\u001b[0;32m    892\u001b[0m                 \u001b[1;32mraise\u001b[0m \u001b[0mValueError\u001b[0m\u001b[1;33m(\u001b[0m\u001b[1;34m\"Sum is divergent.\"\u001b[0m\u001b[1;33m)\u001b[0m\u001b[1;33m\u001b[0m\u001b[0m\n\u001b[0;32m    893\u001b[0m             \u001b[1;32melif\u001b[0m \u001b[1;34m\"Is\"\u001b[0m \u001b[1;32min\u001b[0m \u001b[0ms\u001b[0m\u001b[1;33m:\u001b[0m \u001b[1;31m# Maxima asked for a condition\u001b[0m\u001b[1;33m\u001b[0m\u001b[0m\n\u001b[1;32m--> 894\u001b[1;33m                 \u001b[0mself\u001b[0m\u001b[1;33m.\u001b[0m\u001b[0m_missing_assumption\u001b[0m\u001b[1;33m(\u001b[0m\u001b[0ms\u001b[0m\u001b[1;33m)\u001b[0m\u001b[1;33m\u001b[0m\u001b[0m\n\u001b[0m\u001b[0;32m    895\u001b[0m             \u001b[1;32melse\u001b[0m\u001b[1;33m:\u001b[0m\u001b[1;33m\u001b[0m\u001b[0m\n\u001b[0;32m    896\u001b[0m                 \u001b[1;32mraise\u001b[0m\u001b[1;33m\u001b[0m\u001b[0m\n",
      "\u001b[1;32m/usr/lib/sagemath/local/lib/python2.7/site-packages/sage/interfaces/maxima_lib.py\u001b[0m in \u001b[0;36m_missing_assumption\u001b[1;34m(self, errstr)\u001b[0m\n\u001b[0;32m   1015\u001b[0m              \u001b[1;33m+\u001b[0m \u001b[0merrstr\u001b[0m\u001b[1;33m[\u001b[0m\u001b[0mjj\u001b[0m\u001b[1;33m+\u001b[0m\u001b[1;36m1\u001b[0m\u001b[1;33m:\u001b[0m\u001b[0mk\u001b[0m\u001b[1;33m]\u001b[0m \u001b[1;33m+\u001b[0m\u001b[1;34m\">0)', see `assume?` for more details)\\n\"\u001b[0m \u001b[1;33m+\u001b[0m \u001b[0merrstr\u001b[0m\u001b[1;33m\u001b[0m\u001b[0m\n\u001b[0;32m   1016\u001b[0m         \u001b[0moutstr\u001b[0m \u001b[1;33m=\u001b[0m \u001b[0moutstr\u001b[0m\u001b[1;33m.\u001b[0m\u001b[0mreplace\u001b[0m\u001b[1;33m(\u001b[0m\u001b[1;34m'_SAGE_VAR_'\u001b[0m\u001b[1;33m,\u001b[0m\u001b[1;34m''\u001b[0m\u001b[1;33m)\u001b[0m\u001b[1;33m\u001b[0m\u001b[0m\n\u001b[1;32m-> 1017\u001b[1;33m         \u001b[1;32mraise\u001b[0m \u001b[0mValueError\u001b[0m\u001b[1;33m(\u001b[0m\u001b[0moutstr\u001b[0m\u001b[1;33m)\u001b[0m\u001b[1;33m\u001b[0m\u001b[0m\n\u001b[0m\u001b[0;32m   1018\u001b[0m \u001b[1;33m\u001b[0m\u001b[0m\n\u001b[0;32m   1019\u001b[0m \u001b[1;32mdef\u001b[0m \u001b[0mis_MaximaLibElement\u001b[0m\u001b[1;33m(\u001b[0m\u001b[0mx\u001b[0m\u001b[1;33m)\u001b[0m\u001b[1;33m:\u001b[0m\u001b[1;33m\u001b[0m\u001b[0m\n",
      "\u001b[1;31mValueError\u001b[0m: Computation failed since Maxima requested additional constraints; using the 'assume' command before evaluation *may* help (example of legal syntax is 'assume(abs(a)-1>0)', see `assume?` for more details)\nIs abs(a)-1 positive, negative or zero?"
     ]
    }
   ],
   "source": [
    "var('a n')\n",
    "sum(a^n, n, 1, +oo)"
   ]
  },
  {
   "cell_type": "code",
   "execution_count": 8,
   "metadata": {
    "collapsed": false
   },
   "outputs": [
    {
     "data": {
      "text/plain": [
       "-a/(a - 1)"
      ]
     },
     "execution_count": 8,
     "metadata": {},
     "output_type": "execute_result"
    }
   ],
   "source": [
    "var('a n')\n",
    "forget()\n",
    "assume(abs(a)<1)\n",
    "sum(a^n, n, 1, +oo)"
   ]
  },
  {
   "cell_type": "code",
   "execution_count": 9,
   "metadata": {
    "collapsed": false
   },
   "outputs": [
    {
     "data": {
      "text/plain": [
       "-a/(a - 1)"
      ]
     },
     "execution_count": 9,
     "metadata": {},
     "output_type": "execute_result"
    }
   ],
   "source": [
    "var('a n')\n",
    "sum(a^n, n, 1, +oo)"
   ]
  },
  {
   "cell_type": "markdown",
   "metadata": {},
   "source": [
    "Las dos celdas que siguen son esencialmente equivalentes: tardan lo mismo y producen el mismo resultado. No siempre es así, y, en ocasiones, la segunda puede tardar menos en ejecutarse. "
   ]
  },
  {
   "cell_type": "code",
   "execution_count": 12,
   "metadata": {
    "collapsed": false
   },
   "outputs": [
    {
     "name": "stdout",
     "output_type": "stream",
     "text": [
      "CPU times: user 0 ns, sys: 0 ns, total: 0 ns\n",
      "Wall time: 5.01 µs\n"
     ]
    }
   ],
   "source": [
    "%time\n",
    "var('k')\n",
    "Suma1=sum(1/k,k,1,10000)\n",
    "sum1 = Suma1.n(16)"
   ]
  },
  {
   "cell_type": "code",
   "execution_count": 13,
   "metadata": {
    "collapsed": false
   },
   "outputs": [
    {
     "name": "stdout",
     "output_type": "stream",
     "text": [
      "CPU times: user 0 ns, sys: 0 ns, total: 0 ns\n",
      "Wall time: 5.01 µs\n"
     ]
    }
   ],
   "source": [
    "%time\n",
    "Suma2=0\n",
    "for j in range(1,10001):\n",
    "    Suma2+=1/j\n",
    "sum2 = Suma2.n(16)"
   ]
  },
  {
   "cell_type": "code",
   "execution_count": 14,
   "metadata": {
    "collapsed": false
   },
   "outputs": [
    {
     "data": {
      "text/plain": [
       "True"
      ]
     },
     "execution_count": 14,
     "metadata": {},
     "output_type": "execute_result"
    }
   ],
   "source": [
    "sum1 == sum2"
   ]
  },
  {
   "cell_type": "markdown",
   "metadata": {},
   "source": [
    "<h4>Derivadas</h4>\n",
    "<p>Utilizamos indistintamente <span style=\"font-family: courier new,courier;\">differentiate</span>, <span style=\"font-family: courier new,courier;\">diff</span>, <span style=\"font-family: courier new,courier;\">derivative</span>. Las tres funcionan como m&eacute;todos, las dos &uacute;ltimas tambi&eacute;n se pueden utilizar como funciones.</p>"
   ]
  },
  {
   "cell_type": "code",
   "execution_count": 15,
   "metadata": {
    "collapsed": false
   },
   "outputs": [],
   "source": [
    "fsen(x)=sin(x)"
   ]
  },
  {
   "cell_type": "code",
   "execution_count": 16,
   "metadata": {
    "collapsed": false
   },
   "outputs": [
    {
     "data": {
      "text/plain": [
       "(cos(x), cos(x), cos(x), cos(x), cos(x))"
      ]
     },
     "execution_count": 16,
     "metadata": {},
     "output_type": "execute_result"
    }
   ],
   "source": [
    "fsen(x).derivative(),fsen(x).diff(),fsen(x).differentiate(),derivative(fsen(x)),diff(fsen(x))"
   ]
  },
  {
   "cell_type": "code",
   "execution_count": 17,
   "metadata": {
    "collapsed": false
   },
   "outputs": [
    {
     "data": {
      "text/plain": [
       "(x |--> cos(x), x |--> cos(x), x |--> cos(x), x |--> cos(x), x |--> cos(x))"
      ]
     },
     "execution_count": 17,
     "metadata": {},
     "output_type": "execute_result"
    }
   ],
   "source": [
    "fsen.derivative(),fsen.diff(),fsen.differentiate(),derivative(fsen),diff(fsen)"
   ]
  },
  {
   "cell_type": "markdown",
   "metadata": {},
   "source": [
    "<p>Derivadas de orden superior:</p>"
   ]
  },
  {
   "cell_type": "code",
   "execution_count": 18,
   "metadata": {
    "collapsed": false
   },
   "outputs": [
    {
     "data": {
      "text/plain": [
       "(sin(x), cos(x), -sin(x), -cos(x), sin(x))"
      ]
     },
     "execution_count": 18,
     "metadata": {},
     "output_type": "execute_result"
    }
   ],
   "source": [
    "fsen(x).derivative(0),fsen(x).derivative(),fsen(x).derivative(2),fsen(x).derivative(3),fsen(x).derivative(4)"
   ]
  },
  {
   "cell_type": "markdown",
   "metadata": {},
   "source": [
    "<p>Se pueden utilizar con funciones de varias variables para calcular derivadas parciales</p>"
   ]
  },
  {
   "cell_type": "code",
   "execution_count": 19,
   "metadata": {
    "collapsed": false
   },
   "outputs": [],
   "source": [
    "F(x,y)=x^3*sin(2*y)+y^2*cos(3*x)"
   ]
  },
  {
   "cell_type": "code",
   "execution_count": 20,
   "metadata": {
    "collapsed": false
   },
   "outputs": [
    {
     "data": {
      "text/plain": [
       "(-3*y^2*sin(3*x) + 3*x^2*sin(2*y), 2*x^3*cos(2*y) + 2*y*cos(3*x))"
      ]
     },
     "execution_count": 20,
     "metadata": {},
     "output_type": "execute_result"
    }
   ],
   "source": [
    "F(x,y).diff(x),F(x,y).diff(y)"
   ]
  },
  {
   "cell_type": "code",
   "execution_count": 21,
   "metadata": {
    "collapsed": false
   },
   "outputs": [
    {
     "data": {
      "text/plain": [
       "(6*x^2*cos(2*y) - 6*y*sin(3*x), 6*x^2*cos(2*y) - 6*y*sin(3*x))"
      ]
     },
     "execution_count": 21,
     "metadata": {},
     "output_type": "execute_result"
    }
   ],
   "source": [
    "F(x,y).diff(x,y),F(x,y).diff(y,x)"
   ]
  },
  {
   "cell_type": "markdown",
   "metadata": {},
   "source": [
    "<p>Se puede indicar el n&uacute;mero de veces que se deriva respecto de cada variable:</p>"
   ]
  },
  {
   "cell_type": "code",
   "execution_count": 22,
   "metadata": {
    "collapsed": false
   },
   "outputs": [
    {
     "data": {
      "text/plain": [
       "-48*x*cos(2*y)"
      ]
     },
     "execution_count": 22,
     "metadata": {},
     "output_type": "execute_result"
    }
   ],
   "source": [
    "F(x,y).diff(x,2,y,3)"
   ]
  },
  {
   "cell_type": "markdown",
   "metadata": {},
   "source": [
    "<h4>Ejercicios</h4>\n",
    "<p>Hallar:</p>\n",
    "<p>$$\\text{(a)}\\quad \\frac{d}{dx}\\sin(\\log x)\\qquad\\text{(b)}\\quad\\frac{d}{dx}\\arcsin\\sqrt{x^2-1}\\qquad\\text{(c)}\\quad\\frac{d}{dx}\\tan(x^2+\\log x+\\arctan x)\\qquad\\text{(d)}\\quad\\frac{d}{dx}x^{\\log x}$$</p>"
   ]
  },
  {
   "cell_type": "markdown",
   "metadata": {},
   "source": [
    "<h4>C&aacute;lculo integral</h4>\n",
    "<p>Para calcular la primitiva de una funci&oacute;n definida simb&oacute;licamente podemos utilizar los m&eacute;todos (o funciones) <span style=\"font-family: courier new,courier;\">integral</span> o <span style=\"font-family: courier new,courier;\">integrate</span>. El resultado es <em><span style=\"color: #ff0000;\">una</span></em> sola primitiva; no se indica que el resultado es \"salvo constante aditiva\".</p>"
   ]
  },
  {
   "cell_type": "code",
   "execution_count": 23,
   "metadata": {
    "collapsed": false
   },
   "outputs": [
    {
     "name": "stdout",
     "output_type": "stream",
     "text": [
      "x |--> 1/2*x - 1/4*sin(2*x)\n",
      "x |--> 1/2*x - 1/4*sin(2*x)\n",
      "x |--> 1/2*x - 1/4*sin(2*x)\n",
      "x |--> 1/2*x - 1/4*sin(2*x)\n"
     ]
    }
   ],
   "source": [
    "f1(x)=sin(x)^2\n",
    "print f1.integral(x)\n",
    "print f1.integrate(x)\n",
    "print integrate(f1,x)\n",
    "print integral(f1,x)"
   ]
  },
  {
   "cell_type": "markdown",
   "metadata": {},
   "source": [
    "<p>Observese que efectivamente el programa elige <em><span style=\"color: #ff0000;\">una</span></em> primitiva, ya que al evaluarla se obtiene un valor num&eacute;rico.</p>"
   ]
  },
  {
   "cell_type": "code",
   "execution_count": 24,
   "metadata": {
    "collapsed": false
   },
   "outputs": [
    {
     "data": {
      "text/html": [
       "<html><script type=\"math/tex; mode=display\">\\newcommand{\\Bold}[1]{\\mathbf{#1}}x \\ {\\mapsto}\\ \\frac{10}{11} \\, x^{\\frac{11}{10}} + \\frac{3}{2} \\, x^{\\frac{2}{3}}</script></html>"
      ],
      "text/plain": [
       "x |--> 10/11*x^(11/10) + 3/2*x^(2/3)"
      ]
     },
     "metadata": {},
     "output_type": "display_data"
    },
    {
     "data": {
      "text/plain": [
       "53/22"
      ]
     },
     "execution_count": 24,
     "metadata": {},
     "output_type": "execute_result"
    }
   ],
   "source": [
    "f2(x)=(x^(3/5)+x^(1/6))/sqrt(x)\n",
    "f2i=f2.integral(x)\n",
    "show(f2i)\n",
    "f2i(1)"
   ]
  },
  {
   "cell_type": "markdown",
   "metadata": {},
   "source": [
    "<p>El c&aacute;lculo de una integral definida se obtiene dando los extremos del intervalo de integraci&oacute;n al m&eacute;todo (o funci&oacute;n), pero nos da el valor simb&oacute;lico.</p>"
   ]
  },
  {
   "cell_type": "code",
   "execution_count": 25,
   "metadata": {
    "collapsed": false
   },
   "outputs": [
    {
     "data": {
      "text/plain": [
       "-1/14*cos(7) + 1/6*cos(3) - 2/21"
      ]
     },
     "execution_count": 25,
     "metadata": {},
     "output_type": "execute_result"
    }
   ],
   "source": [
    "f4(x)=sin(2*x)*cos(5*x)\n",
    "f4.integrate(x,0,1)"
   ]
  },
  {
   "cell_type": "markdown",
   "metadata": {},
   "source": [
    "<p>Para obtener la aproximaci&oacute;n num&eacute;rica, tenemos que pedirla</p>"
   ]
  },
  {
   "cell_type": "code",
   "execution_count": 26,
   "metadata": {
    "collapsed": false
   },
   "outputs": [
    {
     "data": {
      "text/plain": [
       "-0.314087005696025"
      ]
     },
     "execution_count": 26,
     "metadata": {},
     "output_type": "execute_result"
    }
   ],
   "source": [
    "f4.integrate(x,0,1).n()"
   ]
  },
  {
   "cell_type": "code",
   "execution_count": 27,
   "metadata": {
    "collapsed": false
   },
   "outputs": [
    {
     "data": {
      "text/plain": [
       "(1/10*pi - 1/16*sqrt(2*sqrt(5) + 10), 0.0763951362851909)"
      ]
     },
     "execution_count": 27,
     "metadata": {},
     "output_type": "execute_result"
    }
   ],
   "source": [
    "integral(sin(x)^2,x,0,pi/5), integral(sin(x)^2,x,0,pi/5).n()"
   ]
  },
  {
   "cell_type": "markdown",
   "metadata": {},
   "source": [
    "<h4>Serie de Taylor</h4>\n",
    "<h4></h4>"
   ]
  },
  {
   "cell_type": "code",
   "execution_count": 28,
   "metadata": {
    "collapsed": false
   },
   "outputs": [],
   "source": [
    "f(x)=(1-cos(x))/x^2"
   ]
  },
  {
   "cell_type": "code",
   "execution_count": 29,
   "metadata": {
    "collapsed": false
   },
   "outputs": [
    {
     "data": {
      "text/plain": [
       "x |--> 1/720*x^4 - 1/24*x^2 + 1/2"
      ]
     },
     "execution_count": 29,
     "metadata": {},
     "output_type": "execute_result"
    }
   ],
   "source": [
    "taylor(f,x,0,5)"
   ]
  },
  {
   "cell_type": "code",
   "execution_count": 27,
   "metadata": {
    "collapsed": false
   },
   "outputs": [
    {
     "data": {
      "text/plain": [
       "x |--> -1/479001600*x^10 + 1/3628800*x^8 - 1/40320*x^6 + 1/720*x^4 - 1/24*x^2 + 1/2"
      ]
     },
     "execution_count": 27,
     "metadata": {},
     "output_type": "execute_result"
    }
   ],
   "source": [
    "taylor(f,x,0,10)"
   ]
  },
  {
   "cell_type": "markdown",
   "metadata": {},
   "source": [
    "<p>Como la funci&oacute;n $f$ es par ($f(x)=f(-x)$ para todo $x$) en su desarrollo de taylor s&oacute;lo aparecen exponentes pares. Nos preguntamos si es cierto que $f(x)\\le \\frac{1}{2}$ para todo $x$:</p>"
   ]
  },
  {
   "cell_type": "code",
   "execution_count": 30,
   "metadata": {
    "collapsed": false
   },
   "outputs": [
    {
     "data": {
      "image/png": "[encoded data removed]",
      "text/plain": [
       "Graphics object consisting of 1 graphics primitive"
      ]
     },
     "execution_count": 30,
     "metadata": {},
     "output_type": "execute_result"
    }
   ],
   "source": [
    "plot(f,-20,20)"
   ]
  },
  {
   "cell_type": "markdown",
   "metadata": {},
   "source": [
    "<p>Como la funci&oacute;n es par s&oacute;lo debemos ocuparnos del semieje $x\\ge 0$. Es claro que la funci&oacute;n se anula para $x=\\pm 2\\pi$ y para $|x|\\ge 2\\pi$ no hay gran problema porque el numerador est&aacute; acotado por $1$ y el denominador es suficientemente grande. Debemos estudiar la funci&oacute;n $f$ en el intervalo $[-2\\pi,2\\pi]$ (o $[0,2\\pi]$).</p>\n",
    "<p>De hecho, para $|x|\\ge\\sqrt{2}$, por la misma raz&oacute;n,&nbsp; ya es imposible que $f(x)$ sea mayor que $1/2$. Nos queda el intervalo $[0,\\sqrt{2}]$), y bastar&iacute;a, por ejemplo, demostrar que $f(x)$ es decreciente en todo el intervalo viendo que su derivada es negativa en todo el intervalo. &iquest;C&oacute;mo podemos usar Sage para ayudarnos a hacer esto?</p>"
   ]
  },
  {
   "cell_type": "markdown",
   "metadata": {},
   "source": [
    "<h4>Gr&aacute;ficas</h4>"
   ]
  },
  {
   "cell_type": "code",
   "execution_count": 31,
   "metadata": {
    "collapsed": false
   },
   "outputs": [
    {
     "data": {
      "text/plain": [
       "x |--> -1/24*x^2 + 1/2"
      ]
     },
     "execution_count": 31,
     "metadata": {},
     "output_type": "execute_result"
    }
   ],
   "source": [
    "T2 = taylor(f,x,0,2); T2"
   ]
  },
  {
   "cell_type": "code",
   "execution_count": 32,
   "metadata": {
    "collapsed": false
   },
   "outputs": [
    {
     "data": {
      "text/plain": [
       "x |--> 1/720*x^4 - 1/24*x^2 + 1/2"
      ]
     },
     "execution_count": 32,
     "metadata": {},
     "output_type": "execute_result"
    }
   ],
   "source": [
    "T4 = taylor(f,x,0,4); T4"
   ]
  },
  {
   "cell_type": "code",
   "execution_count": 33,
   "metadata": {
    "collapsed": false
   },
   "outputs": [
    {
     "data": {
      "image/png": "[encoded data removed]",
      "text/plain": [
       "Graphics object consisting of 3 graphics primitives"
      ]
     },
     "execution_count": 33,
     "metadata": {},
     "output_type": "execute_result"
    }
   ],
   "source": [
    "plot(f,0,2*pi)+plot(T2,0,2*pi,rgbcolor=(0,1,0),legend_label=\"T2\")+plot(T4,0,2*pi,rgbcolor=(1,0,0),legend_label=\"T4\")"
   ]
  },
  {
   "cell_type": "markdown",
   "metadata": {},
   "source": [
    "<p>Vemos claramente que las aproximaciones que da el polinomio de Taylor son locales, buenas cerca del punto en el que derivamos (en este caso $x=0$) y mejoran al aumentar el grado del polinomio (el polinomio $T4$ aproxima mejor que el $T2$).</p>"
   ]
  }
 ],
 "metadata": {
  "kernelspec": {
   "display_name": "SageMath 7.3",
   "language": "",
   "name": "sagemath"
  },
  "language_info": {
   "codemirror_mode": {
    "name": "ipython",
    "version": 2
   },
   "file_extension": ".py",
   "mimetype": "text/x-python",
   "name": "python",
   "nbconvert_exporter": "python",
   "pygments_lexer": "ipython2",
   "version": "2.7.10"
  }
 },
 "nbformat": 4,
 "nbformat_minor": 0
}
