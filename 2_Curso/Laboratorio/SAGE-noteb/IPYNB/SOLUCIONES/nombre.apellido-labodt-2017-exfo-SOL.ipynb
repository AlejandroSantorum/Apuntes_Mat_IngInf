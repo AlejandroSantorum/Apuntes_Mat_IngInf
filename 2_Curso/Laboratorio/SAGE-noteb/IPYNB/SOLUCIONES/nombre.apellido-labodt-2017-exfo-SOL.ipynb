{
 "cells": [
  {
   "cell_type": "markdown",
   "metadata": {},
   "source": [
    "## Ejercicio 1\n",
    "\n",
    "**a)** (1 punto) Goldbach conjeturó que todo entero compuesto e impar es la suma de un primo y el doble de un cuadrado. Así, por ejemplo, $9=7+2\\cdot 1^2,\\ 15=7+2\\cdot 2^2,\\ 21=3+2\\cdot 3^2,$ etc. Esta conjetura resultó ser falsa. Determina el menor entero que no cumple lo conjeturado por Goldbach.\n",
    "\n",
    "**b)** (1 punto) Existen enteros, por ejemplo $145$,  que son iguales a la suma de los factoriales de sus dígitos. Determina **todos** los enteros con esta propiedad. \n",
    "\n",
    "**c)** (1 punto) Determina todas las tripletas de enteros primos de $4$ cifras tales que cumplen las dos condiciones siguientes:\n",
    "    1) Los $3$ enteros están en progresión aritmética, es decir, el segundo menos el primero es igual al tercero menos el segundo.\n",
    "    2) Los tres enteros de la tripleta tienen las mismas cifras y cada cifra aparece el mismo número de veces en cada uno de ellos.\n",
    "    \n",
    "    Por ejemplo, $(1487, 4817, 8147)$ es una de las soluciones.\n",
    " \n",
    "### Apartado a)\n",
    " "
   ]
  },
  {
   "cell_type": "code",
   "execution_count": 1,
   "metadata": {
    "collapsed": true
   },
   "outputs": [],
   "source": [
    "def goldbach(N):\n",
    "    testigo = 0\n",
    "    for n in xsrange(2,N):\n",
    "        testigo = 0\n",
    "        if (not is_prime(n)) and (n%2 == 1):\n",
    "            for p in prime_range(2,n):\n",
    "                if (n-p)%2 == 0 and is_square((n-p)//2):\n",
    "                    #L.append(n)\n",
    "                    testigo = 1\n",
    "                    break\n",
    "            if testigo == 0:  \n",
    "                     return n\n",
    "    return testigo"
   ]
  },
  {
   "cell_type": "code",
   "execution_count": 2,
   "metadata": {},
   "outputs": [
    {
     "data": {
      "text/plain": [
       "5777"
      ]
     },
     "execution_count": 2,
     "metadata": {},
     "output_type": "execute_result"
    }
   ],
   "source": [
    "goldbach(10000)"
   ]
  },
  {
   "cell_type": "markdown",
   "metadata": {},
   "source": [
    "### Apartado b)"
   ]
  },
  {
   "cell_type": "code",
   "execution_count": 3,
   "metadata": {
    "collapsed": true
   },
   "outputs": [],
   "source": [
    "def dig_fact(N):\n",
    "    L = []\n",
    "    for n in xsrange(3,N):\n",
    "        L1 = n.digits()\n",
    "        if n == sum(map(factorial,L1)):\n",
    "            L.append(n)\n",
    "    return L"
   ]
  },
  {
   "cell_type": "code",
   "execution_count": 4,
   "metadata": {},
   "outputs": [
    {
     "data": {
      "text/plain": [
       "[145]"
      ]
     },
     "execution_count": 4,
     "metadata": {},
     "output_type": "execute_result"
    }
   ],
   "source": [
    "dig_fact(10**4)"
   ]
  },
  {
   "cell_type": "code",
   "execution_count": 5,
   "metadata": {},
   "outputs": [
    {
     "data": {
      "text/plain": [
       "[145, 40585]"
      ]
     },
     "execution_count": 5,
     "metadata": {},
     "output_type": "execute_result"
    }
   ],
   "source": [
    "dig_fact(10**5)"
   ]
  },
  {
   "cell_type": "code",
   "execution_count": 6,
   "metadata": {},
   "outputs": [
    {
     "name": "stdout",
     "output_type": "stream",
     "text": [
      "CPU times: user 9.05 s, sys: 292 ms, total: 9.34 s\n",
      "Wall time: 9.05 s\n"
     ]
    },
    {
     "data": {
      "text/plain": [
       "[145, 40585]"
      ]
     },
     "execution_count": 6,
     "metadata": {},
     "output_type": "execute_result"
    }
   ],
   "source": [
    "%time dig_fact(10**6)"
   ]
  },
  {
   "cell_type": "code",
   "execution_count": 7,
   "metadata": {},
   "outputs": [
    {
     "name": "stdout",
     "output_type": "stream",
     "text": [
      "CPU times: user 1min 37s, sys: 1.34 s, total: 1min 39s\n",
      "Wall time: 1min 38s\n"
     ]
    },
    {
     "data": {
      "text/plain": [
       "[145, 40585]"
      ]
     },
     "execution_count": 7,
     "metadata": {},
     "output_type": "execute_result"
    }
   ],
   "source": [
    "%time dig_fact(10**7)"
   ]
  },
  {
   "cell_type": "markdown",
   "metadata": {},
   "source": [
    "Pasar de $10^6$ a $10^7$ no aporta nuevas soluciones, pero para demostrar que no hay otras hay que probar *matemáticamente*  que existe un $N_0$ tal que  no hay soluciones para $N\\ge N_0$. Conseguido ésto, tenemos que calcular las soluciones que pueda haber hasta $N_0$ usando el ordenador.\n",
    "\n",
    "Para en entero de $k$ cifras el valor máximo que puede tener la suma de los factoriales de sus  cifras es $k\\times 9!=k\\cdot 362880$. "
   ]
  },
  {
   "cell_type": "code",
   "execution_count": 8,
   "metadata": {},
   "outputs": [
    {
     "name": "stdout",
     "output_type": "stream",
     "text": [
      "362880\n",
      "2540160\n",
      "2903040\n"
     ]
    }
   ],
   "source": [
    "print factorial(9);print 7*factorial(9);print 8*factorial(9)"
   ]
  },
  {
   "cell_type": "markdown",
   "metadata": {},
   "source": [
    "Ahora, el número de cifras decimales de $k\\times 9!$ es la parte entera por exceso  de $log_{10}(k)+ log_{10}(362880)$ y basta determinar un $k$ tal que $k-1 > log_{10}(k)+ log_{10}(362880)$. "
   ]
  },
  {
   "cell_type": "code",
   "execution_count": 9,
   "metadata": {},
   "outputs": [
    {
     "name": "stdout",
     "output_type": "stream",
     "text": [
      "6.40486107289105\n",
      "6.46285301986874\n"
     ]
    }
   ],
   "source": [
    "print (log(7,base=10)+ log(362880,base=10)).n(); print (log(8,base=10)+ log(362880,base=10)).n()"
   ]
  },
  {
   "cell_type": "markdown",
   "metadata": {},
   "source": [
    "Vemos entonces que para enteros de $8$ o más cifras decimales es imposible que el entero sea igual a la suma de los factoriales de sus cifras, porque la suma de los factoriales de las cifras se escribe con menos cifras decimales que el número. Debemos buscar soluciones hasta $N=10^8$, lo que puede tardar más de $15$ minutos.  "
   ]
  },
  {
   "cell_type": "code",
   "execution_count": 10,
   "metadata": {},
   "outputs": [
    {
     "name": "stdout",
     "output_type": "stream",
     "text": [
      "CPU times: user 17min 18s, sys: 10.4 s, total: 17min 28s\n",
      "Wall time: 17min 19s\n"
     ]
    },
    {
     "data": {
      "text/plain": [
       "[145, 40585]"
      ]
     },
     "execution_count": 10,
     "metadata": {},
     "output_type": "execute_result"
    }
   ],
   "source": [
    "%time dig_fact(10**8)"
   ]
  },
  {
   "cell_type": "markdown",
   "metadata": {},
   "source": [
    "### Apartado c)"
   ]
  },
  {
   "cell_type": "code",
   "execution_count": 11,
   "metadata": {
    "collapsed": true
   },
   "outputs": [],
   "source": [
    "def primer_intento():\n",
    "    LL = []\n",
    "    L = prime_range(1000,9999)\n",
    "    n = len(L)\n",
    "    for n1 in xsrange(n):\n",
    "        for n2 in xsrange(n1+1,n):\n",
    "            for n3 in xsrange(n2+1,n):\n",
    "                if L[n2]-L[n1]==L[n3]-L[n2]:\n",
    "                    if L[n2].digits() in Permutations(L[n1].digits()) and \\\n",
    "                    L[n3].digits() in Permutations(L[n1].digits()):\n",
    "                        LL.append((L[n1],L[n2],L[n3]))\n",
    "    return LL"
   ]
  },
  {
   "cell_type": "code",
   "execution_count": 12,
   "metadata": {},
   "outputs": [
    {
     "name": "stdout",
     "output_type": "stream",
     "text": [
      "CPU times: user 1min 18s, sys: 892 ms, total: 1min 19s\n",
      "Wall time: 1min 18s\n"
     ]
    },
    {
     "data": {
      "text/plain": [
       "[(1487, 4817, 8147), (2969, 6299, 9629)]"
      ]
     },
     "execution_count": 12,
     "metadata": {},
     "output_type": "execute_result"
    }
   ],
   "source": [
    "%time primer_intento()"
   ]
  },
  {
   "cell_type": "markdown",
   "metadata": {},
   "source": [
    "¿Podemos mejorar el tiempo? Quizá reduciendo el número de bucles anidados. "
   ]
  },
  {
   "cell_type": "code",
   "execution_count": 13,
   "metadata": {
    "collapsed": true
   },
   "outputs": [],
   "source": [
    "def segundo_intento():\n",
    "    LL = []\n",
    "    L = prime_range(1000,9999)\n",
    "    n = len(L)\n",
    "    print n\n",
    "    for n1 in xsrange(n):\n",
    "        for k in xsrange(1,n):\n",
    "            if n1+k < n:\n",
    "                r = L[n1+k]-L[n1]\n",
    "                if L[n1+k]+r in L:\n",
    "                    if L[n1+k].digits() in Permutations(L[n1].digits()) and \\\n",
    "                    (L[n1+k]+r).digits() in Permutations(L[n1].digits()):\n",
    "                        LL.append((L[n1],L[n1+k],L[n1+2*k]))\n",
    "    return LL"
   ]
  },
  {
   "cell_type": "code",
   "execution_count": 14,
   "metadata": {},
   "outputs": [
    {
     "name": "stdout",
     "output_type": "stream",
     "text": [
      "1061\n",
      "CPU times: user 13.4 s, sys: 152 ms, total: 13.5 s\n",
      "Wall time: 13.2 s\n"
     ]
    },
    {
     "data": {
      "text/plain": [
       "[(1487, 4817, 8521), (2969, 6299, 9811)]"
      ]
     },
     "execution_count": 14,
     "metadata": {},
     "output_type": "execute_result"
    }
   ],
   "source": [
    "%time segundo_intento()"
   ]
  },
  {
   "cell_type": "markdown",
   "metadata": {},
   "source": [
    "## Ejercicio 2\n",
    "\n",
    "(3 puntos)  ¿Cómo decidimos si un generador de números pseudoaleatorios produce un verdadero comportamiento aleatorio? En principio, no es posible afirmar que una sucesión concreta producida por el generador es, o no es, aleatoria: todas, por muy raras que sean,  son posibles. Lo único que podemos hacer es analizar si el generador produce sucesiones que *a priori* tienen probabilidad muy baja, y si ese es el caso, empezaremos a sospechar que el generador puede no ser *suficientemente aleatorio*. En la práctica, se aplica a las sucesiones producidas por el generador una *batería de tests estadísticos* y para que lo consideremos aceptable debe pasarlos todos.\n",
    "\n",
    "En este ejercicio estudiamos una de esas pruebas, basada en el *número de rachas*. Supongamos que $L$ es una lista de ceros y unos, de longitud $N$, producida por el generador. Una racha es una sublista de elementos consecutivos de $L$ que son todos iguales, todos ceros o todos unos, y tal que el elemento anterior a la racha y el siguiente son los dos diferentes a los de la sublista. Por ejemplo, si $L=[1,1,0,1,1,1,0,0]$ las rachas que tiene $L$ son \n",
    "$[1,1], [0],[1,1,1],[0,0]$, y, por tanto, el número de rachas es $4$. \n",
    "\n",
    "1) Define una función  que calcule el número de rachas en una lista de ceros y unos. \n",
    "\n",
    "2) La teoría nos dice que, para $N$ suficientemente grande, tomaremos $N=1000$,  y suponiendo que el generador de números aleatorios es *bueno*,  la distribución del número de rachas debe tener media $m:=501$ y varianza $v:=(m-1)(m-2)/(N-1)$ (estos valores son los que corresponden a $N=1000$). Comprueba este resultado usando listas de longitud $10^3$ generadas mediante $randint(0,1)$ y calculando el número de rachas $10^4$ veces. \n",
    "\n",
    "3) Además, la teoría dice que la distribución del número de rachas debe ser, para $N$ suficientemente grande, aproximadamente normal. Produce un gráfico del histograma del número de rachas, usando  los datos del apartado $2$. Debe presentar, aproximadamente,  la forma de *campana de Gauss*.\n",
    "\n",
    "4) El test basado en el número de rachas utiliza el resultado del apartado anterior: dada una lista $L$ de longitud $N$  producida por el generador, calculamos su número de rachas $r$  y lo normalizamos en la forma $rn:=(r-m)/\\sqrt{v}.$ Si $\\vert rn \\vert<1.96$ aceptamos que, para este test, la lista es aleatoria con *una confianza* del $95\\%$, y en caso contrario declaramos que $L$ no ha pasado el test.\n",
    "\n",
    " Supongamos una moneda trucada con probabilidad de cara (que representamos como cero, cruz es uno)  $p_k=0.5+k\\cdot 0.01$. Define, y ejecuta,  una función que calcule  el $k$ mínimo tal que una sucesión de ceros y unos de longitud $10^3$ generada con esta moneda trucada no es admitida como aleatoria por el test de rachas. \n",
    " \n",
    " Este $k$ mínimo presenta ciertas oscilaciones cuando repetimos el cálculo. Determina  el valor promedio de $k$ basado en  $1000$   repeticiones del cálculo. \n",
    " \n",
    " "
   ]
  },
  {
   "cell_type": "code",
   "execution_count": 1,
   "metadata": {
    "collapsed": true
   },
   "outputs": [],
   "source": [
    "def bloque(L):\n",
    "    if all(L) or not any(L):\n",
    "        return True\n",
    "    else:\n",
    "        return False\n",
    "\n",
    "\n",
    "\n",
    "def rachas(L,nruns):\n",
    "        #print L,nruns\n",
    "        if L == []:\n",
    "            return nruns\n",
    "        elif bloque(L):\n",
    "            nruns += 1\n",
    "            return nruns\n",
    "        elif len(L) == 2 and L[0]!= L[1]:\n",
    "            nruns += 2\n",
    "            return nruns\n",
    "        else:\n",
    "            b = L[0]\n",
    "            while L[1] == b:\n",
    "                L = L[1:]\n",
    "            nruns += 1\n",
    "            nruns = rachas(L[1:],nruns)\n",
    "            return nruns"
   ]
  },
  {
   "cell_type": "code",
   "execution_count": 2,
   "metadata": {},
   "outputs": [
    {
     "data": {
      "text/plain": [
       "6"
      ]
     },
     "execution_count": 2,
     "metadata": {},
     "output_type": "execute_result"
    }
   ],
   "source": [
    "rachas([1,1,0,0,0,1,0,0,1,0],0)"
   ]
  },
  {
   "cell_type": "markdown",
   "metadata": {},
   "source": [
    "Una versión iterativa, del examen de Juan Riera,  es probablemente más eficiente. Claramente usa menos líneas de código."
   ]
  },
  {
   "cell_type": "code",
   "execution_count": 3,
   "metadata": {
    "collapsed": true
   },
   "outputs": [],
   "source": [
    "def rachas2(L):\n",
    "    rachas = 1\n",
    "    rachaActual = L[0]\n",
    "    for i in L[1:]:\n",
    "        if i != rachaActual:\n",
    "            rachaActual = i\n",
    "            rachas = rachas +1\n",
    "    return rachas"
   ]
  },
  {
   "cell_type": "code",
   "execution_count": 5,
   "metadata": {},
   "outputs": [
    {
     "name": "stdout",
     "output_type": "stream",
     "text": [
      "HE TERMINADO\n"
     ]
    }
   ],
   "source": [
    "## Comprobamos que dan el mismo resultado ##\n",
    "def iguales():\n",
    "    for muda in srange(100):\n",
    "        L = [randint(0,1) for _ in srange(100)]\n",
    "        if rachas(L,0) != rachas2(L):\n",
    "            print \"NO SON IGUALES\"\n",
    "    print \"HE TERMINADO\"\n",
    "    \n",
    "iguales()          "
   ]
  },
  {
   "cell_type": "code",
   "execution_count": 17,
   "metadata": {},
   "outputs": [
    {
     "name": "stdout",
     "output_type": "stream",
     "text": [
      "CPU times: user 1min 21s, sys: 940 ms, total: 1min 22s\n",
      "Wall time: 1min 21s\n",
      "500.277400000000 248.634249240014\n",
      "501.000000000000\n",
      "249.749749749750\n"
     ]
    }
   ],
   "source": [
    "def media_var(n,N):\n",
    "    m = 0\n",
    "    m2 = 0\n",
    "    L1 = []\n",
    "    for _ in xsrange(n):\n",
    "        L = [randint(0,1) for muda in xsrange(N)]\n",
    "        r = rachas(L,0)\n",
    "        L1.append(r)\n",
    "        m += r\n",
    "        m2 += r**2\n",
    "    media = (m/n).n()\n",
    "    var = (m2/n)-media**2\n",
    "    return media,var,L1\n",
    "\n",
    "sys.setrecursionlimit(10000)\n",
    "%time media,var,L = media_var(10000,1000)\n",
    "print media,var\n",
    "\n",
    "##media\n",
    "mu = (501).n() ; print mu\n",
    "## varianza\n",
    "var = (mu-1)*(mu-2)/999; print var"
   ]
  },
  {
   "cell_type": "code",
   "execution_count": 18,
   "metadata": {
    "collapsed": true
   },
   "outputs": [],
   "source": [
    "import matplotlib.pyplot as plt \n",
    "plt.hist(L, bins=1000, facecolor='lightgreen')\n",
    "plt.savefig('Histogram.png')\n",
    "plt.close()\n"
   ]
  },
  {
   "cell_type": "code",
   "execution_count": 19,
   "metadata": {},
   "outputs": [
    {
     "name": "stdout",
     "output_type": "stream",
     "text": [
      "CPU times: user 1min 4s, sys: 668 ms, total: 1min 5s\n",
      "Wall time: 1min 4s\n"
     ]
    },
    {
     "data": {
      "text/plain": [
       "0.575980000000000"
      ]
     },
     "execution_count": 19,
     "metadata": {},
     "output_type": "execute_result"
    }
   ],
   "source": [
    "def moneda(p):\n",
    "    x = random()\n",
    "    if x<p:\n",
    "        return 0\n",
    "    else:\n",
    "        return 1\n",
    "    \n",
    "##media\n",
    "mu = (501).n()\n",
    "## varianza\n",
    "var = (mu-1)*(mu-2)/999\n",
    "    \n",
    "    \n",
    "def stat(L,mu,var):\n",
    "    r = rachas(L,0)\n",
    "    return ((r-mu)/sqrt(var)).n()\n",
    "    \n",
    "def prueba(N,mu,var):\n",
    "    p = 0.5\n",
    "    L = [moneda(p) for muda in xsrange(N)]\n",
    "    s = stat(L,mu,var)\n",
    "    while abs(s)<1.96:\n",
    "        p += 0.01\n",
    "        L = [moneda(p) for muda in xsrange(N)]\n",
    "        s = stat(L,mu,var)\n",
    "    return p\n",
    "\n",
    "#prueba(1000)\n",
    "%time sum([prueba(1000,mu,var) for muda in srange(1000)])/1000\n",
    "\n"
   ]
  },
  {
   "cell_type": "code",
   "execution_count": 20,
   "metadata": {},
   "outputs": [
    {
     "name": "stdout",
     "output_type": "stream",
     "text": [
      "CPU times: user 1min 4s, sys: 676 ms, total: 1min 5s\n",
      "Wall time: 1min 4s\n"
     ]
    },
    {
     "data": {
      "text/plain": [
       "(0.500000000000000, 0.670000000000000, 0.576960000000000)"
      ]
     },
     "execution_count": 20,
     "metadata": {},
     "output_type": "execute_result"
    }
   ],
   "source": [
    "##media\n",
    "mu = (501).n()\n",
    "## varianza\n",
    "var = (mu-1)*(mu-2)/999\n",
    "\n",
    "\n",
    "def promedio(n,N,mu,var):\n",
    "    max = 0.57\n",
    "    min = 0.57\n",
    "    prom = 0.0\n",
    "    for muda in xsrange(n):\n",
    "        p = prueba(N,mu,var)\n",
    "        if p < min:\n",
    "            min = p\n",
    "        if p > max:\n",
    "            max = p\n",
    "        prom += p\n",
    "    return min,max,(prom/n).n()\n",
    "            \n",
    "\n",
    "%time promedio(1000,1000,mu,var)"
   ]
  },
  {
   "cell_type": "markdown",
   "metadata": {},
   "source": [
    "Aunque el eneunciado no lo pide, calcullamos también el promedio junto con los valores máximo y mínimo para $p_k$ alcanzados durante el cálculo. "
   ]
  },
  {
   "cell_type": "markdown",
   "metadata": {},
   "source": [
    "## Ejercicio 3\n",
    "\n",
    "(4 puntos) En este ejercicio estudiamos una solución aproximada del problema del viajante (TSP). Es bien sabido que no se conoce un algoritmo de tiempo polinomial para el problema, pero soluciones suboptimales obtenidas en un tiempo razonable son de gran interés práctico.\n",
    "\n",
    "A) Representaremos las ciudades que va a visitar el viajante como puntos aleatorios en el cuadrado $[0,1]\\times [0,1]$. Define una función $ciudades(n,semilla)$ que devuelva la lista de coordenadas de $n$ puntos aleatorios en el cuadrado. La semilla (*random seed*) la fijamos  para que los resultados sean reproducibles, es decir, con la misma semilla debemos obtener la misma lista de ciudades. \n",
    "\n",
    "B) Un circuito realizado por el viajante corresponde a una reordenación de la lista de ciudades. Entendemos que el viajante empieza en la primera ciudad, y va  a la segunda, entonces a la tercera, etc. Usamos las distancias euclídeas entre puntos del plano para medir la distancia total recorrida después de volver de la última ciudad de la lista a la primera. Define una función $distanciaT(L)$ que reciba una lista de ciudades y devuelva la longitud total del circuito. \n",
    "\n",
    "C) Como el número de permutaciones de una lista de longitud $n$ es $n!$, no podemos generar todas esas permutaciones y buscar directamente la que nos dé el recorrido de menor longitud total. Vamos a generar permutaciones *de una en una* mediante el siguiente procedimiento:\n",
    "\n",
    " i. Partimos de una permutación $L$, que será una lista,  de longitud $n$,  que contiene las  coordenadas de nuestras ciudades (Apartado A). Queremos definir una función de Sage $barajar(L)$. \n",
    "    \n",
    " ii. Con probabilidad $0.2$ elegimos un  entero aleatorio $i$ en el intervalo cerrado $[0,n//2]$, y permutamos la sublista que llega hasta el elemento de índice $i-1$, incluyéndolo,  con el resto. Las dos sublistas no se modifican, únicamente se concatena la primera sublista a continuación de la segunda, y la lista resultante sigue llamándose $L$. A continuación, elegimos un segundo entero aleatorio $j$ en el intervalo cerrado $[0,n//2]$, invertimos el trozo de $L$ que llega hasta el elemento de índice $j-1$, incluyéndolo, y la concatenamos con el resto de $L$. Devolvemos la lista resultante. \n",
    "    \n",
    " iii. Con probabilidad $0.4$ permutamos dos elementos elegidos aleatoriamente y dejamos igual el resto de la lista. Devolvemos la lista resultante.\n",
    "    \n",
    " iv. Con probabilidad $0.4$ quitamos un elemento, elegido aleatoriamente, del lugar que ocupa y lo insertamos  en un lugar elegido aleatoriamente. Devolvemos la lista resultante.\n",
    "   \n",
    " Después de haber ejecutado una de las alternativas (ii,iii o iv), hemos obtenido una permutación de la lista inicial $L$. Hay que entender que aproximadamente el $20\\%$   de las veces que ejecutamos $barajar(L)$ se debe utilizar el método $ii$, el $40\\%$ de las veces el método $iii$, etc.\n",
    " \n",
    "D) En primer lugar intentamos encontrar una solución de TSP comezando con $L = ciudades(20,54321)$ y ejecutando $L = barajar(L)$ un número prefijado $N$ de veces. Para cada ordenación obtenida calculamos la longitud total y nos vamos quedando con las ordenaciones que obtienen longitud menor que la mejor que teníamos. Después de haber reordenado la lista un número $N$, suficientemente grande, de veces tenemos una solución aproximada. \n",
    "Define una función $TSP0(L,N)$ que devuelva la longitud mínima obtenida y el circuito de esa longitud. Realiza un gráfico del circuito obtenido. \n",
    "\n",
    "E) Ahora utilizamos un algoritmo para minimizar funciones que se conoce con el nombre de *simulated annealing*, y es una variante de Monte Carlo. \n",
    "\n",
    "1. El método tiene un parámetro $\\beta$, que inicialmente vale $1.0$, y que vamos a ir incrementando poco a poco. Además hay un contador $n\\_acept$ que vale $0$ inicialmente.  Queremos definir una función $TSP(L,beta,N)$ con $L$ la lista de ciudades y $N$ el número de vueltas del bucle que va a realizar los cálculos. \n",
    "2. Definimos una variable $long\\_i$ que contiene la longitud total del circuito inicial $L$ del viajante. Copiamos en una nueva variable $mejor$ el valor de $long\\_i$ y en una variable $L_mejor$ la lista de ciudades inicial $L$. \n",
    "    \n",
    "3. Dentro de cada vuelta del bucle tenemos:\n",
    "    \n",
    "    i. Cada vez que el contador $n\\_acept$ llega a $100$ lo reseteamos a cero e incrementamos $beta$ mediante $beta \\ *= 1.005$.\n",
    "    \n",
    "    ii. Reordenamos la lista usando $L\\_n=barajar(L)$ y calculamos su longitud total, que almacenamos en la variable $long\\_n$. \n",
    "    \n",
    "    iii. Generamos un número aleatorio $\\eta$ uniforme en el intervalo $[0,1]$ y calculamos $e:=e^{-beta(long\\_n- long\\_i))}$. Si $\\eta<e$ aceptamos la reordenación, lo que significa que aumentamos el contador $n\\_acept$ en una unidad, copiamos la lista de ciudades $L\\_n$ sobre la lista $L$, la longitud nueva $long\\_n$ en la variable $long\\_i$,  comprobamos si $long\\_i$ es menor que $mejor$ y si lo es ponemos $long\\_i$ en $mejor$ y copiamos la lista $L\\_n$ en la variable $L\\_mejor$. \n",
    "\n",
    "4. Cuando termina el bucle devolvemos $mejor$ y $L\\_mejor$. \n",
    "\n",
    "5. Como el bucle, con los $N$ que utilizaremos,  puede tardar unos $90$ segundos, conviene imprimir cada  $10^4$ vueltas el valor en ese momento de la variable $mejor$. \n",
    "\n",
    "F) Una vez que tengas la función $TSP(L,beta,N)$, ejecuta $SOL = TSP(ciudades(20,54321),1.0,1000000)$ y utiliza la lista devuelta por $TSP$ para realizar un gráfico del circuito.  Calcula también $SOL0 = TSP0(ciudades(20,54321),1000000)$  (Apartado D) y compara los resultados.\n"
   ]
  },
  {
   "cell_type": "code",
   "execution_count": 21,
   "metadata": {},
   "outputs": [
    {
     "data": {
      "text/plain": [
       "10.564435518706462"
      ]
     },
     "execution_count": 21,
     "metadata": {},
     "output_type": "execute_result"
    }
   ],
   "source": [
    "### Funciones auxiliares\n",
    "def dist(x, y):\n",
    "    return sqrt((x[0] - y[0])** 2+(x[1] - y[1])** 2)\n",
    "\n",
    "def longitud_circuito(ciudades):\n",
    "    N = len(ciudades)\n",
    "    return sum(dist(ciudades[k + 1], ciudades[k]) for k in range(N - 1)) + dist(ciudades[0], ciudades[N - 1])\n",
    "\n",
    "def ciudades(N,seed):\n",
    "    set_random_seed(seed)\n",
    "    L_ciudades = [(random(), random()) for i in range(N)]\n",
    "    set_random_seed()\n",
    "    return L_ciudades\n",
    "\n",
    "longitud_circuito(ciudades(20,54321))"
   ]
  },
  {
   "cell_type": "code",
   "execution_count": 22,
   "metadata": {},
   "outputs": [
    {
     "data": {
      "text/plain": [
       "[(0.30281839969534374, 0.12782026627595044),\n",
       " (0.5806191223106226, 0.8541589273863629),\n",
       " (0.37150483415207536, 0.002803103398419604),\n",
       " (0.5611077494763981, 0.7607953487321404),\n",
       " (0.6789620525421641, 0.37013053152376774),\n",
       " (0.809199142003773, 0.8564013459428749),\n",
       " (0.5011469462517265, 0.12957096901639797),\n",
       " (0.42166148024888495, 0.6202119335782863),\n",
       " (0.7726187837311405, 0.36934196144750053),\n",
       " (0.8583053284765633, 0.25512880445932107),\n",
       " (0.4274377490049903, 0.6170969514505988),\n",
       " (0.382406504468071, 0.24690010422726982),\n",
       " (0.27632720136008593, 0.29683026416331737),\n",
       " (0.13605293345073388, 0.8455714183930992),\n",
       " (0.6729204343584412, 0.5161533176953698),\n",
       " (0.9077811984206944, 0.5062727930362295),\n",
       " (0.26570697328292314, 0.07069912626072938),\n",
       " (0.6644774297069042, 0.5790140304587919),\n",
       " (0.37912582123204674, 0.8671148723295999),\n",
       " (0.10619563347229932, 0.8743394163751478)]"
      ]
     },
     "execution_count": 22,
     "metadata": {},
     "output_type": "execute_result"
    }
   ],
   "source": [
    "def barajar(ciudades):\n",
    "    N = len(ciudades)\n",
    "    p = random()\n",
    "    if p  < 0.2:\n",
    "        i = randint(0, N // 2)\n",
    "        ciudades = ciudades[i:] + ciudades[:i]\n",
    "        i = randint(0, N // 2)\n",
    "        a = ciudades[:i]\n",
    "        a.reverse()\n",
    "        ciudades_n =  a + ciudades[i:]\n",
    "    elif p < 0.6:\n",
    "        ciudades_n = ciudades[:]\n",
    "        i = randint(1, N - 1)\n",
    "        a = ciudades_n.pop(i)\n",
    "        j = randint(1, N - 2)\n",
    "        ciudades_n.insert(j, a)\n",
    "    else:\n",
    "        ciudades_n = ciudades[:]\n",
    "        i = randint(1, N - 1)\n",
    "        j = randint(1, N - 1)\n",
    "        ciudades_n[i] = ciudades[j]\n",
    "        ciudades_n[j] = ciudades[i]\n",
    "    return ciudades_n\n",
    "\n",
    "barajar(ciudades(20,54321))"
   ]
  },
  {
   "cell_type": "code",
   "execution_count": 23,
   "metadata": {},
   "outputs": [
    {
     "name": "stdout",
     "output_type": "stream",
     "text": [
      "10.4126932975\n",
      "3.65163050529\n",
      "3.65163050529\n",
      "3.65163050529\n",
      "3.65163050529\n",
      "3.65163050529\n",
      "3.65163050529\n",
      "3.65163050529\n",
      "3.65163050529\n",
      "3.65163050529\n",
      "3.65163050529\n",
      "3.65163050529\n",
      "3.65163050529\n",
      "3.65163050529\n",
      "3.65163050529\n",
      "3.65163050529\n",
      "3.65163050529\n",
      "3.65163050529\n",
      "3.65163050529\n",
      "3.65163050529\n",
      "3.65163050529\n",
      "3.65163050529\n",
      "3.65163050529\n",
      "3.65163050529\n",
      "3.65163050529\n",
      "3.65163050529\n",
      "3.65163050529\n",
      "3.65163050529\n",
      "3.65163050529\n",
      "3.65163050529\n",
      "3.65163050529\n",
      "3.65163050529\n",
      "3.65163050529\n",
      "3.65163050529\n",
      "3.65163050529\n",
      "3.65163050529\n",
      "3.65163050529\n",
      "3.65163050529\n",
      "3.65163050529\n",
      "3.65163050529\n",
      "3.65163050529\n",
      "3.65163050529\n",
      "3.65163050529\n",
      "3.65163050529\n",
      "3.65163050529\n",
      "3.65163050529\n",
      "3.65163050529\n",
      "3.65163050529\n",
      "3.65163050529\n",
      "3.65163050529\n",
      "3.65163050529\n",
      "3.65163050529\n",
      "3.65163050529\n",
      "3.65163050529\n",
      "3.65163050529\n",
      "3.65163050529\n",
      "3.65163050529\n",
      "3.65163050529\n",
      "3.65163050529\n",
      "3.65163050529\n",
      "3.65163050529\n",
      "3.65163050529\n",
      "3.65163050529\n",
      "3.65163050529\n",
      "3.65163050529\n",
      "3.65163050529\n",
      "3.65163050529\n",
      "3.65163050529\n",
      "3.65163050529\n",
      "3.65163050529\n",
      "3.65163050529\n",
      "3.65163050529\n",
      "3.65163050529\n",
      "3.65163050529\n",
      "3.65163050529\n",
      "3.65163050529\n",
      "3.65163050529\n",
      "3.65163050529\n",
      "3.65163050529\n",
      "3.65163050529\n",
      "3.65163050529\n",
      "3.65163050529\n",
      "3.65163050529\n",
      "3.65163050529\n",
      "3.65163050529\n",
      "3.65163050529\n",
      "3.65163050529\n",
      "3.65163050529\n",
      "3.65163050529\n",
      "3.65163050529\n",
      "3.65163050529\n",
      "3.65163050529\n",
      "3.65163050529\n",
      "3.65163050529\n",
      "3.65163050529\n",
      "3.65163050529\n",
      "3.65163050529\n",
      "3.65163050529\n",
      "3.65163050529\n",
      "3.65163050529\n",
      "CPU times: user 1min 16s, sys: 11.5 s, total: 1min 27s\n",
      "Wall time: 1min 17s\n",
      "3.65163050529\n"
     ]
    },
    {
     "data": {
      "image/png": "[encoded data removed]",
      "text/plain": [
       "Graphics object consisting of 3 graphics primitives"
      ]
     },
     "execution_count": 23,
     "metadata": {},
     "output_type": "execute_result"
    }
   ],
   "source": [
    "def TSP0(ciudades,N):\n",
    "    longi = longitud_circuito(ciudades)\n",
    "    for muda in xsrange(N):\n",
    "        ciudades_n = barajar(ciudades)\n",
    "        if longitud_circuito(ciudades_n) < longi:\n",
    "            longi,ciudades = longitud_circuito(ciudades_n),ciudades_n\n",
    "        if muda%10^4 == 0:\n",
    "            print longi\n",
    "    return longi,ciudades\n",
    "  \n",
    "\n",
    "%time SOL0 = TSP0(ciudades(20,54321),10**6)\n",
    "print SOL0[0]\n",
    "line(SOL0[1])+line([SOL0[1][0],SOL0[1][-1]])+points(SOL0[1],color='red')"
   ]
  },
  {
   "cell_type": "code",
   "execution_count": 24,
   "metadata": {},
   "outputs": [
    {
     "name": "stdout",
     "output_type": "stream",
     "text": [
      "25.4593769685\n",
      "5.86558700724\n",
      "5.86558700724\n",
      "5.84879393827\n",
      "5.84879393827\n",
      "5.84879393827\n",
      "5.84879393827\n",
      "5.84879393827\n",
      "5.84879393827\n",
      "5.84879393827\n",
      "5.84879393827\n",
      "5.84879393827\n",
      "5.84879393827\n",
      "5.84879393827\n",
      "5.84879393827\n",
      "5.84879393827\n",
      "5.84879393827\n",
      "5.84879393827\n",
      "5.84879393827\n",
      "5.84879393827\n",
      "5.84879393827\n",
      "5.84879393827\n",
      "5.84879393827\n",
      "5.84879393827\n",
      "5.84879393827\n",
      "5.84879393827\n",
      "5.84879393827\n",
      "5.84879393827\n",
      "5.84879393827\n",
      "5.84879393827\n",
      "5.84879393827\n",
      "5.84879393827\n",
      "5.84879393827\n",
      "5.84879393827\n",
      "5.84879393827\n",
      "5.84879393827\n",
      "5.84879393827\n",
      "5.84879393827\n",
      "5.84879393827\n",
      "5.84879393827\n",
      "5.84879393827\n",
      "5.84879393827\n",
      "5.84879393827\n",
      "5.84879393827\n",
      "5.84879393827\n",
      "5.84879393827\n",
      "5.84879393827\n",
      "5.84879393827\n",
      "5.84879393827\n",
      "5.84879393827\n",
      "5.84879393827\n",
      "5.84879393827\n",
      "5.84879393827\n",
      "5.84879393827\n",
      "5.84879393827\n",
      "5.84879393827\n",
      "5.84879393827\n",
      "5.84879393827\n",
      "5.84879393827\n",
      "5.84879393827\n",
      "5.84879393827\n",
      "5.84879393827\n",
      "5.84879393827\n",
      "5.84879393827\n",
      "5.84879393827\n",
      "5.84879393827\n",
      "5.84879393827\n",
      "5.84879393827\n",
      "5.84879393827\n",
      "5.84879393827\n",
      "5.84879393827\n",
      "5.84879393827\n",
      "5.84879393827\n",
      "5.84879393827\n",
      "5.84879393827\n",
      "5.84879393827\n",
      "5.84879393827\n",
      "5.84879393827\n",
      "5.84879393827\n",
      "5.84879393827\n",
      "5.84879393827\n",
      "5.84879393827\n",
      "5.84879393827\n",
      "5.84879393827\n",
      "5.84879393827\n",
      "5.84879393827\n",
      "5.84879393827\n",
      "5.84879393827\n",
      "5.84879393827\n",
      "5.84879393827\n",
      "5.84879393827\n",
      "5.84879393827\n",
      "5.84879393827\n",
      "5.84879393827\n",
      "5.84879393827\n",
      "5.84879393827\n",
      "5.84879393827\n",
      "5.84879393827\n",
      "5.84879393827\n",
      "5.84879393827\n",
      "CPU times: user 2min 36s, sys: 12.5 s, total: 2min 48s\n",
      "Wall time: 2min 37s\n",
      "5.84879393827\n"
     ]
    },
    {
     "data": {
      "image/png": "[encoded data removed]",
      "text/plain": [
       "Graphics object consisting of 3 graphics primitives"
      ]
     },
     "execution_count": 24,
     "metadata": {},
     "output_type": "execute_result"
    }
   ],
   "source": [
    "%time SOL0b = TSP0(ciudades(50,7654321),10**6)\n",
    "print SOL0b[0]\n",
    "line(SOL0b[1])+line([SOL0b[1][0],SOL0b[1][-1]])+points(SOL0b[1],color='red')"
   ]
  },
  {
   "cell_type": "markdown",
   "metadata": {},
   "source": [
    "### Annealing"
   ]
  },
  {
   "cell_type": "code",
   "execution_count": 25,
   "metadata": {
    "collapsed": true
   },
   "outputs": [],
   "source": [
    "def TSP(ciudades,beta,N):\n",
    "    longi = longitud_circuito(ciudades)\n",
    "    mejor = longi\n",
    "    n_accept = 0\n",
    "    for step in xsrange(N):\n",
    "            if n_accept == 100:\n",
    "                beta *=  1.005\n",
    "                n_accept = 0\n",
    "            ciudades_n = barajar(ciudades)\n",
    "            longn = longitud_circuito(ciudades_n)\n",
    "            if random() < exp(- beta * (longn - longi)):\n",
    "                n_accept += 1\n",
    "                ciudades = ciudades_n[:]\n",
    "                longi = longn\n",
    "                if longi < mejor:\n",
    "                    mejor = longi\n",
    "                    ciudades_m = ciudades_n[:]\n",
    "            if step % 100000 == 0:\n",
    "                print mejor, step, 1.0/beta\n",
    "    return mejor,ciudades_m"
   ]
  },
  {
   "cell_type": "code",
   "execution_count": 26,
   "metadata": {},
   "outputs": [
    {
     "name": "stdout",
     "output_type": "stream",
     "text": [
      "10.3074347517 0 1.00000000000000\n",
      "3.91251915724 100000 0.112529127264047\n",
      "3.61226450768 200000 0.0527258468285252\n",
      "3.61226450768 300000 0.0309211014539839\n",
      "3.61226450768 400000 0.0192521434433054\n",
      "3.61226450768 500000 0.0123509280717022\n",
      "3.61226450768 600000 0.00808321895985099\n",
      "3.61226450768 700000 0.00536991336591171\n",
      "3.61226450768 800000 0.00358522385068714\n",
      "3.61226450768 900000 0.00241767209659229\n",
      "CPU times: user 1min 26s, sys: 1.83 s, total: 1min 28s\n",
      "Wall time: 1min 26s\n",
      "3.61226450768\n"
     ]
    },
    {
     "data": {
      "image/png": "[encoded data removed]",
      "text/plain": [
       "Graphics object consisting of 3 graphics primitives"
      ]
     },
     "execution_count": 26,
     "metadata": {},
     "output_type": "execute_result"
    }
   ],
   "source": [
    "%time SOL = TSP(ciudades(20,54321),1.0,1000000)\n",
    "print SOL[0]\n",
    "line(SOL[1])+line([SOL[1][0],SOL[1][-1]])+points(SOL[1],color='red')"
   ]
  },
  {
   "cell_type": "code",
   "execution_count": 27,
   "metadata": {},
   "outputs": [
    {
     "name": "stdout",
     "output_type": "stream",
     "text": [
      "25.6003395802 0 1.00000000000000\n",
      "9.28210045793 100000 0.124954599693821\n",
      "6.49053663083 200000 0.0714748628706373\n",
      "5.79440313455 300000 0.0499110704495262\n",
      "5.70958668924 400000 0.0383173628186805\n",
      "5.46730111529 500000 0.0307672651283422\n",
      "5.46730111529 600000 0.0252026625034570\n",
      "5.42689688866 700000 0.0207477026504198\n",
      "5.42689688866 800000 0.0172514550215650\n",
      "5.42689688866 900000 0.0144160907307409\n",
      "CPU times: user 2min 49s, sys: 2.9 s, total: 2min 52s\n",
      "Wall time: 2min 49s\n",
      "5.42689688866\n"
     ]
    },
    {
     "data": {
      "image/png": "[encoded data removed]",
      "text/plain": [
       "Graphics object consisting of 3 graphics primitives"
      ]
     },
     "execution_count": 27,
     "metadata": {},
     "output_type": "execute_result"
    }
   ],
   "source": [
    "%time SOLb = TSP(ciudades(50,7654321),1.0,1000000)\n",
    "print SOLb[0]\n",
    "line(SOLb[1])+line([SOLb[1][0],SOLb[1][-1]])+points(SOLb[1],color='red')"
   ]
  },
  {
   "cell_type": "markdown",
   "metadata": {},
   "source": [
    "En los dos casos (con $20$ ciudades y con $50$ ciudades), el *annealing* funciona un poco mejor, pero esta mejora no  parece muy impresionante.  "
   ]
  },
  {
   "cell_type": "code",
   "execution_count": null,
   "metadata": {
    "collapsed": true
   },
   "outputs": [],
   "source": []
  }
 ],
 "metadata": {
  "kernelspec": {
   "display_name": "SageMath 8.0",
   "language": "",
   "name": "sagemath"
  },
  "language_info": {
   "codemirror_mode": {
    "name": "ipython",
    "version": 2
   },
   "file_extension": ".py",
   "mimetype": "text/x-python",
   "name": "python",
   "nbconvert_exporter": "python",
   "pygments_lexer": "ipython2",
   "version": "2.7.13"
  }
 },
 "nbformat": 4,
 "nbformat_minor": 1
}
