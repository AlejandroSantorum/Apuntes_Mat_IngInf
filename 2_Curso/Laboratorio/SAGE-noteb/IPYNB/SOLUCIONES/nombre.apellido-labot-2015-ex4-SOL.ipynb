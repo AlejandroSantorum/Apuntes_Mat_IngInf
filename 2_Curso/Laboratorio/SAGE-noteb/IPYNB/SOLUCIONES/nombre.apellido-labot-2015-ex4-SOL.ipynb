{
 "cells": [
  {
   "cell_type": "markdown",
   "metadata": {},
   "source": [
    "<p><span style=\"color: #ff0000; font-size: medium;\">CALIFICACI&Oacute;N: <br /></span></p>\n",
    "<p><span style=\"color: #ff0000; font-size: medium;\">Por favor, empieza cambiando $nombre.apellido$ en el nombre de esta hoja por los tuyos, tal como aparecen en tu direcci&oacute;n de correo eletr&oacute;nico de la UAM, y deja el resto del nombre como est&aacute;.&nbsp;</span></p>\n",
    "<p><span style=\"color: #ff0000; font-size: medium;\">Debes intentar programar tus funciones de forma que no saturen la RAM del ordenador con valores razonablemente grandes de sus par&aacute;metros. Si con los valores que se indican en los enunciados no te funciona puedes reducirlos.&nbsp;</span></p>\n",
    "<p><span style=\"color: #ff0000; font-size: medium;\">Recuerda que debes entregar esta hoja de SAGE, con tus respuestas, en la carpeta $ENTREGA\\_examen\\_nombre.apellido-labot-ex4$ que est&aacute; en el escritorio de la cuenta que utilizas para el examen. Para guardar la hoja, una vez terminado el examen, utiliza el men&uacute; \"FILE&gt;Save worksheet to a File....\"</span></p>\n",
    "<h4>Ejercicio 1</h4>\n",
    "<p><span style=\"color: #ff0000;\"><span style=\"color: #000000;\">(3 puntos)</span> Calcula, experimentalmente,</span> la probabilidad de que al lanzar dos dados se obtenga una suma de &nbsp;puntos de al menos $10$ y adem&aacute;s, lanzado un tercer dado, la suma total de los puntos alcance al menos $15$ &nbsp;puntos. No es dif&iacute;cil resolver &nbsp;este ejercicio de manera exacta, y puedes hacerlo <span style=\"color: #ff0000;\">(es opcional)</span> como comprobaci&oacute;n <span style=\"color: #ff0000;\">escribiendo la respuesta</span> en el reverso de la hoja con la contrase&ntilde;a.</p>"
   ]
  },
  {
   "cell_type": "code",
   "execution_count": 1,
   "metadata": {
    "collapsed": true
   },
   "outputs": [],
   "source": [
    "def prob(N):\n",
    "    cont = 0\n",
    "    for muda in xsrange(N):\n",
    "        x = randint(1,6)\n",
    "        y = randint(1,6)\n",
    "        if x+y >= 10:\n",
    "            z = randint(1,6)\n",
    "            if x+y+z >= 15:\n",
    "                cont += 1\n",
    "    return (cont/N).n()"
   ]
  },
  {
   "cell_type": "code",
   "execution_count": 2,
   "metadata": {},
   "outputs": [
    {
     "data": {
      "text/plain": [
       "0.0741300000000000"
      ]
     },
     "execution_count": 2,
     "metadata": {},
     "output_type": "execute_result"
    }
   ],
   "source": [
    "prob(10^5)"
   ]
  },
  {
   "cell_type": "markdown",
   "metadata": {},
   "source": [
    "<h4>Ejercicio 2</h4>\n",
    "<p>(6 puntos) En algunos sistemas criptogr&aacute;ficos, en particular en RSA, utilizamos como clave p&uacute;blica el producto de dos primos muy grandes. Decimos que un entero es <strong><span style=\"color: #000000;\">semiprimo</span></strong> si su factorizaci&oacute;n consiste en dos primos, diferentes o iguales &nbsp;(es decir, son enteros de la forma $n=p.q$ o bien &nbsp;$n=p^2$ con $p$ y $q$ primos).&nbsp;</p>\n",
    "<ol>\n",
    "<li><span style=\"color: #ff0000;\">Define</span> una funci&oacute;n $semip1(R)$ que cuente el n&uacute;mero de semiprimos en el intervalo $[1,R]$. Podemos decir que la <strong>densidad de los semiprimos</strong> en el intervalo&nbsp;&nbsp;$[1,R]$ es&nbsp;&nbsp;$semip1(R)/R$, que tambi&eacute;n podemos interpretar como<strong> la probabilidad de que un entero elegido al azar en el intervalo&nbsp;$[1,R]$ sea semiprimo</strong>.</li>\n",
    "<li><span style=\"color: #ff0000;\">&nbsp;Calcula</span> la densidad y el tiempo de c&aacute;lculo de la funci&oacute;n anterior &nbsp;con $R=10^4,10^5,10^6,10^7$. En este &uacute;ltimo caso el c&aacute;lculo puede durar del orden de $200$ segundos, y si tarda mucho m&aacute;s puedes reducir el valor de $R$ , por ejemplo a la mitad . <span style=\"color: #ff0000;\">&iquest;C&oacute;mo depende el tiempo de $R$?</span></li>\n",
    "<li>Los tiempos obtenidos en el apartado anterior nos parecen demasiado altos y decidimos probar a calcular la densidad &nbsp;eligiendo al azar un n&uacute;mero $N$ de enteros en el intervalo&nbsp;$[1,R]$ y contando cu&aacute;ntos son semiprimos. Para los valores de $R$ del apartado anterior, calcula tiempos y densidades mediante una <span style=\"color: #ff0000;\">funci&oacute;n $semip2(R,N)$ que debes definir</span>, &nbsp;y estudia c&oacute;mo conseguir una buena aproximaci&oacute;n a la densidad sin hacer $N$ demasiado grande. Es claro que si $N$ est&aacute; pr&oacute;ximo a $R$ las dos funciones hacen casi lo mismo y tardar&aacute;n tiempos similares, y lo que queremos es, por ejemplo, calcular dos cifras decimales correctas de la densidad con el \"m&iacute;nimo\" $N$, lo que va a hacer que el tiempo sea tambi&eacute;n \"m&iacute;nimo\". <span style=\"color: #ff0000; background-color: #ffffff;\">No se trata de calcular con toda precisi&oacute;n un $N$ m&iacute;nimo</span> (no tendr&iacute;a mucho sentido porque cada vez que ejecutamos la funci&oacute;n obtenemos resultados diferentes) sino de obtener una idea correcta del orden de magnitud &nbsp;del $N$ m&iacute;nimo, en funci&oacute;n de $R$, &nbsp;con el que conseguimos la precisi&oacute;n deseada. &nbsp; &nbsp;</li>\n",
    "</ol>"
   ]
  },
  {
   "cell_type": "code",
   "execution_count": 3,
   "metadata": {
    "collapsed": true
   },
   "outputs": [],
   "source": [
    "def semip1(R):\n",
    "    cont = 0\n",
    "    for int in xsrange(1,R):\n",
    "        L = list(factor(int))\n",
    "        if (len(L)==2 and L[0][1]==1 and L[1][1]==1) or (len(L)==1 and L[0][1]==2):\n",
    "            cont += 1\n",
    "    return cont"
   ]
  },
  {
   "cell_type": "code",
   "execution_count": 4,
   "metadata": {},
   "outputs": [
    {
     "data": {
      "text/plain": [
       "2625\n",
       "Time: CPU 0.19 s, Wall: 0.31 s"
      ]
     },
     "execution_count": 4,
     "metadata": {},
     "output_type": "execute_result"
    }
   ],
   "source": [
    "time semip1(10^4)"
   ]
  },
  {
   "cell_type": "code",
   "execution_count": 5,
   "metadata": {},
   "outputs": [
    {
     "data": {
      "text/plain": [
       "23378\n",
       "Time: CPU 1.94 s, Wall: 1.95 s"
      ]
     },
     "execution_count": 5,
     "metadata": {},
     "output_type": "execute_result"
    }
   ],
   "source": [
    "time semip1(10^5)"
   ]
  },
  {
   "cell_type": "code",
   "execution_count": 6,
   "metadata": {},
   "outputs": [
    {
     "data": {
      "text/plain": [
       "210035\n",
       "Time: CPU 19.84 s, Wall: 19.84 s"
      ]
     },
     "execution_count": 6,
     "metadata": {},
     "output_type": "execute_result"
    }
   ],
   "source": [
    "time semip1(10^6)"
   ]
  },
  {
   "cell_type": "code",
   "execution_count": 7,
   "metadata": {},
   "outputs": [
    {
     "data": {
      "text/plain": [
       "1904324\n",
       "Time: CPU 203.76 s, Wall: 203.83 s"
      ]
     },
     "execution_count": 7,
     "metadata": {},
     "output_type": "execute_result"
    }
   ],
   "source": [
    "time semip1(10^7)"
   ]
  },
  {
   "cell_type": "markdown",
   "metadata": {},
   "source": [
    "<p>Se observa que al multiplicar por $10$ el trabajo se multiplica por $10$ el tiempo. Esto parece querer decir que con estos valores de $R$, no muy altos, la factorizaci&oacute;n de enteros mucho m&ccedil;&aacute;s grandes no tarda m&aacute;s y el tiempo se multiplica por diez porque hay que tratar $10$ veces m&aacute;s enteros. &nbsp; La relaci&oacute;n entre el tiempo y $R$ parece ser lineal en este rango de valores ($R\\le 10^7$).</p>"
   ]
  },
  {
   "cell_type": "code",
   "execution_count": 8,
   "metadata": {
    "collapsed": true
   },
   "outputs": [],
   "source": [
    "def semip2(R,N):\n",
    "    cont = 0\n",
    "    for muda in xsrange(N):\n",
    "        int = randint(1,R)\n",
    "        L = list(factor(int))\n",
    "        if (len(L)==2 and L[0][1]==1 and L[1][1]==1) or (len(L)==1 and L[0][1]==2):\n",
    "            cont += 1\n",
    "    return cont"
   ]
  },
  {
   "cell_type": "code",
   "execution_count": 9,
   "metadata": {},
   "outputs": [
    {
     "data": {
      "text/plain": [
       "220\n",
       "Time: CPU 0.03 s, Wall: 0.03 s"
      ]
     },
     "execution_count": 9,
     "metadata": {},
     "output_type": "execute_result"
    }
   ],
   "source": [
    "time semip2(10^6,10^3)"
   ]
  },
  {
   "cell_type": "code",
   "execution_count": 10,
   "metadata": {},
   "outputs": [
    {
     "data": {
      "text/plain": [
       "2149\n",
       "Time: CPU 0.27 s, Wall: 0.28 s"
      ]
     },
     "execution_count": 10,
     "metadata": {},
     "output_type": "execute_result"
    }
   ],
   "source": [
    "time semip2(10^6,10^4)"
   ]
  },
  {
   "cell_type": "code",
   "execution_count": 11,
   "metadata": {},
   "outputs": [
    {
     "data": {
      "text/plain": [
       "21248\n",
       "Time: CPU 2.66 s, Wall: 2.67 s"
      ]
     },
     "execution_count": 11,
     "metadata": {},
     "output_type": "execute_result"
    }
   ],
   "source": [
    "time semip2(10^6,10^5)"
   ]
  },
  {
   "cell_type": "markdown",
   "metadata": {},
   "source": [
    "<p>Vemos que con $R=10^6$ y $N=10^4$ ya se obtienen $2$ decimales correctos de la densidad, y el resultado no mejora si subimos $N$ a $10^5$.&nbsp;</p>"
   ]
  },
  {
   "cell_type": "code",
   "execution_count": 12,
   "metadata": {},
   "outputs": [
    {
     "data": {
      "text/plain": [
       "1902\n",
       "Time: CPU 0.28 s, Wall: 0.28 s"
      ]
     },
     "execution_count": 12,
     "metadata": {},
     "output_type": "execute_result"
    }
   ],
   "source": [
    "time semip2(10^7,10^4)"
   ]
  },
  {
   "cell_type": "code",
   "execution_count": 13,
   "metadata": {},
   "outputs": [
    {
     "data": {
      "text/plain": [
       "19013\n",
       "Time: CPU 2.75 s, Wall: 2.76 s"
      ]
     },
     "execution_count": 13,
     "metadata": {},
     "output_type": "execute_result"
    }
   ],
   "source": [
    "time semip2(10^7,10^5)"
   ]
  },
  {
   "cell_type": "markdown",
   "metadata": {},
   "source": [
    "<p>Con $R=10^7$ y $N=10^4$ ya obtenemos $3$ decimales correctos en un tiempo de menos de $3$ d'ecimas de segundo. No mejora al aumentar $N$ a 10^5$.&nbsp;</p>\n",
    "\n",
    "<h4>Ejercicio 3</h4>\n",
    "<p>(6 puntos) Supongamos que para cubrir un puesto de trabajo hay $n$ candidatos que deben <br />ser entrevistados para decidir cu&aacute;l de ellos obtendr&aacute; el puesto. Las <br />condiciones del problema son las siguientes:</p>\n",
    "<ol>\n",
    "<li>El n&uacute;mero $n$ de candidatos es conocido al comenzar el proceso de&nbsp;<br />selecci&oacute;n.</li>\n",
    "<li>Si entrevist&aacute;ramos a todos los candidatos los podr&iacute;amos ordenar&nbsp;<br />de mejor a peor sin empates.&nbsp;</li>\n",
    "<li>Los candidatos son entrevistados de uno en uno y en orden aleatorio, con&nbsp;<br />cada una de las $n!$ posibles ordenaciones elegida con probabilidad $1/n!.$</li>\n",
    "<li>\n",
    "<p>Despu&eacute;s de cada entrevista el candidato es aceptado o rechazado, y&nbsp;<br />esta decisi&oacute;n es irrevocable.</p>\n",
    "</li>\n",
    "<li>\n",
    "<p>La estrategia que utilizamos consiste en entrevistar a un cierto&nbsp;<br />n&uacute;mero $r&lt;n$ de candidatos y elegir al siguiente entrevistado que es mejor que&nbsp;<br />los $r$ primeros. Si no existe elegimos al &uacute;ltimo aunque no ser&aacute; el mejor. &nbsp;Se puede demostrar que esta estrategia es &oacute;ptima.&nbsp;</p>\n",
    "</li>\n",
    "</ol>\n",
    "<p><span style=\"color: #ff0000;\">Define una funci&oacute;n $probabilidad(n,N)$</span> que nos devuelva el valor de $r$ que hace m&aacute;xima la probabilidad de elegir al mejor candidato cuando hay $n$ candidatos y la probabilidad m&aacute;xima obtenida. El segundo par&aacute;metro $N$ es el el n&uacute;mero de vueltas del bucle que usamos para calcular (experimentalmente) las probabilidades, &nbsp;y debe ser suficientemente grande para que las probabilidades tengan, al menos, un par de decimales \"correctos\" y no tan grande que el programa tarde demasiado. Cuando $n$ tiende a infinito, <span style=\"color: #ff0000;\">&iquest;qu&eacute; l&iacute;mite parece tener la probabilidad m&aacute;xima?&nbsp;</span></p>\n",
    "<p>Representamos cada repetici&oacute;n del experimento \"se presentan $n$ candidatos en orden aleatorio\" como una permutaci&oacute;n aleatoria de los enteros $1,2,3,\\dots,n$ y suponemos que $n$ es el mejor y $1$ el peor.&nbsp;</p>"
   ]
  },
  {
   "cell_type": "code",
   "execution_count": 14,
   "metadata": {
    "collapsed": true
   },
   "outputs": [],
   "source": [
    "def muestra0(n):\n",
    "    X = Permutations(n)\n",
    "    x = randint(0,factorial(n)-1)\n",
    "    return X[x]"
   ]
  },
  {
   "cell_type": "code",
   "execution_count": 15,
   "metadata": {
    "collapsed": true
   },
   "outputs": [],
   "source": [
    "def muestra(n):\n",
    "    return Permutations(n).random_element()"
   ]
  },
  {
   "cell_type": "code",
   "execution_count": 16,
   "metadata": {},
   "outputs": [
    {
     "data": {
      "text/plain": [
       "Time: CPU 36.34 s, Wall: 36.37 s"
      ]
     },
     "execution_count": 16,
     "metadata": {},
     "output_type": "execute_result"
    }
   ],
   "source": [
    "time P1 = muestra0(10)"
   ]
  },
  {
   "cell_type": "code",
   "execution_count": 17,
   "metadata": {},
   "outputs": [
    {
     "data": {
      "text/plain": [
       "Time: CPU 0.00 s, Wall: 0.00 s"
      ]
     },
     "execution_count": 17,
     "metadata": {},
     "output_type": "execute_result"
    }
   ],
   "source": [
    "time P2 = muestra(10)"
   ]
  },
  {
   "cell_type": "code",
   "execution_count": 18,
   "metadata": {},
   "outputs": [
    {
     "data": {
      "text/plain": [
       "^C"
      ]
     },
     "execution_count": 18,
     "metadata": {},
     "output_type": "execute_result"
    },
    {
     "name": "stderr",
     "output_type": "stream",
     "text": [
      "Traceback (most recent call last):\n",
      "  File \"<stdin>\", line 1, in <module>\n",
      "  File \"_sage_input_15.py\", line 10, in <module>\n",
      "    exec compile(u'open(\"___code___.py\",\"w\").write(\"# -*- coding: utf-8 -*-\\\\n\" + _support\n",
      "_.preparse_worksheet_cell(base64.b64decode(\"dGltZSBQMSA9IG11ZXN0cmEwKDIwKQ==\"),globals())+\n",
      "\"\\\\n\"); execfile(os.path.abspath(\"___code___.py\"))' + '\\n', '', 'single')\n",
      "  File \"\", line 1, in <module>\n",
      "\n",
      "  File \"/tmp/tmpPp31RT/___code___.py\", line 3, in <module>\n",
      "    exec compile(u'__time__=misc.cputime(); __wall__=misc.walltime(); P1 =\n",
      "muestra0(_sage_const_20 ); print \"Time: CPU %.2f s, Wall: %.2f s\"%(misc.cputime(__time__),\n",
      "misc.walltime(__wall__))' + '\\n', '', 'single')\n",
      "  File \"\", line 1, in <module>\n",
      "\n",
      "  File \"/tmp/tmpr6cdmq/___code___.py\", line 6, in muestra0\n",
      "    return X[x]\n",
      "  File \"sage/structure/parent.pyx\", line 1566, in sage.structure.parent.Parent.__getitem__\n",
      "(build/cythonized/sage/structure/parent.c:12201)\n",
      "  File \"/usr/lib/sagemath/local/lib/python2.7/site-\n",
      "packages/sage/categories/finite_enumerated_sets.py\", line 341, in list\n",
      "    self._list = self._list_from_iterator()\n",
      "  File \"/usr/lib/sagemath/local/lib/python2.7/site-\n",
      "packages/sage/categories/finite_enumerated_sets.py\", line 169, in _list_from_iterator\n",
      "    return [x for x in self]\n",
      "  File \"/usr/lib/sagemath/local/lib/python2.7/site-packages/sage/combinat/permutation.py\",\n",
      "line 5790, in __iter__\n",
      "    yield self.element_class(self, p)\n",
      "  File \"sage/misc/classcall_metaclass.pyx\", line 351, in\n",
      "sage.misc.classcall_metaclass.ClasscallMetaclass.__call__\n",
      "(build/cythonized/sage/misc/classcall_metaclass.c:1194)\n",
      "  File \"/usr/lib/sagemath/local/lib/python2.7/site-packages/sage/combinat/permutation.py\",\n",
      "line 584, in __init__\n",
      "    try:\n",
      "  File \"sage/ext/c_lib.pyx\", line 176, in sage.ext.c_lib.sage_python_check_interrupt\n",
      "(build/cythonized/sage/ext/c_lib.c:1683)\n",
      "  File \"sage/ext/c_lib.pyx\", line 73, in sage.ext.c_lib.sig_raise_exception\n",
      "(build/cythonized/sage/ext/c_lib.c:769)\n",
      "KeyboardInterrupt\n",
      "__SAGE__"
     ]
    }
   ],
   "source": [
    "time P1 = muestra0(20)"
   ]
  },
  {
   "cell_type": "markdown",
   "metadata": {},
   "source": [
    "<p>Esta &uacute;ltima tarda demasiado. parece claro que la mejor forma de elegir una permutaci&oacute;n aleatoria es usando el m&eacute;todo $random_element().$</p>"
   ]
  },
  {
   "cell_type": "code",
   "execution_count": 19,
   "metadata": {},
   "outputs": [
    {
     "data": {
      "text/plain": [
       "Time: CPU 0.00 s, Wall: 0.00 s"
      ]
     },
     "execution_count": 19,
     "metadata": {},
     "output_type": "execute_result"
    }
   ],
   "source": [
    "time P2 = muestra(20)"
   ]
  },
  {
   "cell_type": "code",
   "execution_count": 20,
   "metadata": {},
   "outputs": [
    {
     "data": {
      "text/plain": [
       "[8, 6, 4, 1, 2, 5, 9, 3, 7]\n",
       "[8, 6, 4, 1]\n",
       "[2, 5, 9, 3, 7]"
      ]
     },
     "execution_count": 20,
     "metadata": {},
     "output_type": "execute_result"
    }
   ],
   "source": [
    "L = muestra(9);L;L[:4];L[4:]"
   ]
  },
  {
   "cell_type": "code",
   "execution_count": 21,
   "metadata": {
    "collapsed": true
   },
   "outputs": [],
   "source": [
    "def prob0(n,r,N):\n",
    "    cont = 0\n",
    "    for muda in xsrange(N):\n",
    "            L = muestra(n)\n",
    "            M = max(L[:r])\n",
    "            CH = L[-1] \n",
    "            for item in L[r:]:\n",
    "                if item > M:\n",
    "                    CH = item\n",
    "                    break\n",
    "            if CH == n:\n",
    "                cont += 1\n",
    "    return (cont/N).n()"
   ]
  },
  {
   "cell_type": "code",
   "execution_count": 22,
   "metadata": {
    "collapsed": true
   },
   "outputs": [],
   "source": [
    "def probabilidad(n,N):\n",
    "    max = (0,1)\n",
    "    for r in srange(2,n):\n",
    "        p = prob0(n,r,N)\n",
    "        if p > max[0]:\n",
    "            max = (p,r)\n",
    "    return max"
   ]
  },
  {
   "cell_type": "code",
   "execution_count": 23,
   "metadata": {},
   "outputs": [
    {
     "data": {
      "text/plain": [
       "(0.439000000000000, 2)\n",
       "Time: CPU 0.06 s, Wall: 0.06 s"
      ]
     },
     "execution_count": 23,
     "metadata": {},
     "output_type": "execute_result"
    }
   ],
   "source": [
    "time probabilidad(6,10^3)"
   ]
  },
  {
   "cell_type": "code",
   "execution_count": 24,
   "metadata": {},
   "outputs": [
    {
     "data": {
      "text/plain": [
       "(0.399000000000000, 3)\n",
       "Time: CPU 0.13 s, Wall: 0.13 s"
      ]
     },
     "execution_count": 24,
     "metadata": {},
     "output_type": "execute_result"
    }
   ],
   "source": [
    "time probabilidad(10,10^3)"
   ]
  },
  {
   "cell_type": "code",
   "execution_count": 25,
   "metadata": {},
   "outputs": [
    {
     "data": {
      "text/plain": [
       "[(0.410000000000000, 4),\n",
       " (0.389000000000000, 6),\n",
       " (0.396000000000000, 11),\n",
       " (0.388000000000000, 13),\n",
       " (0.397000000000000, 18),\n",
       " (0.391000000000000, 22),\n",
       " (0.397000000000000, 23),\n",
       " (0.392000000000000, 41),\n",
       " (0.386000000000000, 37)]"
      ]
     },
     "execution_count": 25,
     "metadata": {},
     "output_type": "execute_result"
    }
   ],
   "source": [
    "[probabilidad(10*k,10^3) for k in srange(1,10)]"
   ]
  },
  {
   "cell_type": "code",
   "execution_count": 26,
   "metadata": {},
   "outputs": [
    {
     "data": {
      "text/plain": [
       "[(0.397900000000000, 3),\n",
       " (0.389600000000000, 7),\n",
       " (0.381700000000000, 11),\n",
       " (0.381000000000000, 12),\n",
       " (0.376900000000000, 20),\n",
       " (0.379800000000000, 23),\n",
       " (0.380400000000000, 28),\n",
       " (0.376800000000000, 24),\n",
       " (0.376000000000000, 36)]"
      ]
     },
     "execution_count": 26,
     "metadata": {},
     "output_type": "execute_result"
    }
   ],
   "source": [
    "[probabilidad(10*k,10^4) for k in srange(1,10)]"
   ]
  },
  {
   "cell_type": "markdown",
   "metadata": {},
   "source": [
    "<p>Observamos que hay oscilaciones en el $r$ que produce la probabilidad m&aacute;xima. Esto parece querer decir que para esos valores, quiz&aacute; demasiado bajos de $N$, hay oscilaciones en los valores de $r$ obtenidos y la probabilidad calculada quiz&aacute; no es muy precisa. Parece claro que &nbsp;los valores de la probabilidad, en el l&iacute;mite cuando $n$ crece, van a estar en el rango $0.37\\pm 0.01$, pero no hemos obtenido una justificaci&oacute;n suficiente para esta afirmaci&oacute;n. Probablemente hay que tratar de mejorar el c&oacute;digo para poder llegar m&aacute;s lejos ($N$ y $n$ mayores).</p>\n",
    "\n",
    "<h4>Ejercicio 4</h4>\n",
    "<p>(5 puntos) Consideramos un tablero infinito (en la pr&aacute;ctica ser&aacute; muy grande porque infinito no lo podemos hacer en el ordenador) bidimensional que representamos mediante los puntos de coordenadas enteras del cuadrado $T_N:=[0,2N]\\times&nbsp;[0,2N]\\subset \\mathbb{R}^2$ . El estado del tablero es entonces una matriz cuadrada de ceros y unos cuyos &iacute;ndices van de $0$ a $2N$. En el instante $t=0$ &nbsp;la &uacute;nica casilla negra es la central correspondiente al punto $(N,N)$. En cada instante de tiempo $t$ llamamos $X_t$ al conjunto de todas las casillas negras en ese instante y $V_t$ al conjunto de todas las casillas blancas que comparten un lado con una casilla negra. &nbsp;Obtenemos $X_{t+1}$ eligiendo al azar una casilla de $V_t$ y cambiando su color a negro.&nbsp;</p>\n",
    "<p>Nos interesa estudiar el aspecto de $X_t$ para $t$ muy grande (por ejemplo, $t=10^5,10^6$). &nbsp;<span style=\"color: #ff0000;\">Define una funci&oacute;n $tablero(t,N)$</span>&nbsp;(teniendo <span style=\"color: #ff0000;\">cuidado</span> de no saturar la RAM) que devuelva un estado&nbsp;$X_t$ del tablero obtenido mediante las reglas indicadas. <span style=\"color: #ff0000;\">Representa gr&aacute;ficamente</span> el tablero devuelto por la funci&oacute;n. El tama&ntilde;o del tablero debe ser suficientemente grande para que quede una zona totalmente blanca cerca del borde del tablero. <span style=\"color: #ff0000;\">Compara las gr&aacute;ficas</span> para $t=100,200,300,1000$ con las que se obtienen para $t$ muy grande, &iquest;qu&eacute; observas?</p>"
   ]
  },
  {
   "cell_type": "code",
   "execution_count": 27,
   "metadata": {
    "collapsed": true
   },
   "outputs": [],
   "source": [
    "def inicial(N):\n",
    "    M = matrix(ZZ,2*N+1,[1]*(2*N+1)^2)\n",
    "    M[N,N]=0\n",
    "    return M"
   ]
  },
  {
   "cell_type": "code",
   "execution_count": 28,
   "metadata": {
    "collapsed": true
   },
   "outputs": [],
   "source": [
    "def vecinos((a,b)):\n",
    "    return [(a,b+1),(a,b-1),(a-1,b),(a+1,b)]"
   ]
  },
  {
   "cell_type": "code",
   "execution_count": 29,
   "metadata": {},
   "outputs": [
    {
     "data": {
      "text/plain": [
       "[1 1 1 1 1]\n",
       "[1 1 1 1 1]\n",
       "[1 1 0 1 1]\n",
       "[1 1 1 1 1]\n",
       "[1 1 1 1 1]"
      ]
     },
     "execution_count": 29,
     "metadata": {},
     "output_type": "execute_result"
    }
   ],
   "source": [
    "inicial(2)"
   ]
  },
  {
   "cell_type": "code",
   "execution_count": 30,
   "metadata": {
    "collapsed": true
   },
   "outputs": [],
   "source": [
    "def actualizar_tablero(T,V):\n",
    "    n = randint(0,len(V)-1)\n",
    "    (a,b) = V[n]\n",
    "    T[a,b] = 0\n",
    "    for (c,d) in vecinos(V[n]):\n",
    "        if T[c,d] == 1:\n",
    "            V.append((c,d))\n",
    "    V.pop(n)\n",
    "    return T,V"
   ]
  },
  {
   "cell_type": "code",
   "execution_count": 31,
   "metadata": {
    "collapsed": true
   },
   "outputs": [],
   "source": [
    "def tablero(t,N):\n",
    "    T = inicial(N)\n",
    "    V = vecinos((N,N))\n",
    "    for muda in srange(t):\n",
    "        T,V = actualizar_tablero(T,V)\n",
    "    return T"
   ]
  },
  {
   "cell_type": "code",
   "execution_count": 32,
   "metadata": {
    "collapsed": true
   },
   "outputs": [],
   "source": [
    "matrix_plot(tablero(100,40))"
   ]
  },
  {
   "cell_type": "code",
   "execution_count": 33,
   "metadata": {
    "collapsed": true
   },
   "outputs": [],
   "source": [
    "matrix_plot(tablero(200,40))"
   ]
  },
  {
   "cell_type": "code",
   "execution_count": 34,
   "metadata": {
    "collapsed": true
   },
   "outputs": [],
   "source": [
    "matrix_plot(tablero(300,40))"
   ]
  },
  {
   "cell_type": "code",
   "execution_count": 35,
   "metadata": {
    "collapsed": true
   },
   "outputs": [],
   "source": [
    "matrix_plot(tablero(1000,40))"
   ]
  },
  {
   "cell_type": "code",
   "execution_count": 36,
   "metadata": {},
   "outputs": [
    {
     "data": {
      "text/plain": [
       "Time: CPU 3.97 s, Wall: 3.97 s"
      ]
     },
     "execution_count": 36,
     "metadata": {},
     "output_type": "execute_result"
    }
   ],
   "source": [
    "time matrix_plot(tablero(10^5,2000))"
   ]
  },
  {
   "cell_type": "code",
   "execution_count": 37,
   "metadata": {},
   "outputs": [
    {
     "data": {
      "text/plain": [
       "Time: CPU 8.67 s, Wall: 8.67 s"
      ]
     },
     "execution_count": 37,
     "metadata": {},
     "output_type": "execute_result"
    }
   ],
   "source": [
    "time matrix_plot(tablero(10^6,2000))"
   ]
  },
  {
   "cell_type": "markdown",
   "metadata": {},
   "source": [
    "<p>Lo esencial en la funci&oacute;n $actualiza\\_tablero$ es que la nueva listta de vecinos de un cuadrado que pasa a ser negro se calcula quitando &eacute;ste &uacute;ltimo de la lista y a&ntilde;adiendo los vecinos que no son ya negros. Es &eacute;sto lo que hace posible ejecutar el c&oacute;digo para valores de $t$ tan grandes. Se observa que para $t$ muy grande la zona negra tiende a un disco, es decir, aunque se genera de forma aleatoria, a largo plazo alcanza una regularidad enorme. &nbsp;</p>"
   ]
  }
 ],
 "metadata": {
  "kernelspec": {
   "display_name": "SageMath 8.0",
   "language": "",
   "name": "sagemath"
  },
  "language_info": {
   "codemirror_mode": {
    "name": "ipython",
    "version": 2
   },
   "file_extension": ".py",
   "mimetype": "text/x-python",
   "name": "python",
   "nbconvert_exporter": "python",
   "pygments_lexer": "ipython2",
   "version": "2.7.13"
  }
 },
 "nbformat": 4,
 "nbformat_minor": 1
}
