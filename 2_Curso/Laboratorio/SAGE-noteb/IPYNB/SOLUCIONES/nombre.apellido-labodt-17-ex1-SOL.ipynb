{
 "cells": [
  {
   "cell_type": "markdown",
   "metadata": {},
   "source": [
    "1) Antes que nada, lee cuidadosamente estas instrucciones y las que aparecen en la hoja con la contraseña. \n",
    "\n",
    "2) Cambia el nombre de este archivo sustituyendo \"nombre.apellido\" por los tuyos, tal como aparecen en tu dirección de correo electrónico de la UAM.\n",
    "\n",
    "3) Este archivo debe quedar en la carpeta \"ENTREGA...\" que está en el escritorio de tu cuenta de examen. Lo mejor es que esté en esa carpeta desde el comienzo del examen.\n",
    "\n",
    "4) Recuerda que hay que deshabilitar el salvapantallas al comenzar el examen, tal como está indicado en la hoja con la contraseña. \n",
    "\n",
    "COMENTARIOS:\n",
    "\n",
    "1. \n",
    "\n",
    "\n",
    "CALIFICACIÓN:\n"
   ]
  },
  {
   "cell_type": "code",
   "execution_count": null,
   "metadata": {
    "collapsed": true
   },
   "outputs": [],
   "source": []
  },
  {
   "cell_type": "markdown",
   "metadata": {},
   "source": [
    "#### Ejercicio 1\n",
    "\n",
    "Un elemento $e$ en un anillo $R$ se dice que es **idempotente** si cumple $e^2=e$, es decir, $e$ es una raíz del polinomio $x^2-x$. En este ejercicio vamos a estudiar los elementos idempotentes en los anillos de clases de restos $\\mathbb{Z}_m$, de enteros módulo $m$, y más concretamente, el número de idempotentes en función de $m$.  \n",
    "\n",
    "Los idempotentes nos interesan porque están asociados a descomposiciones del anillo $R$ como producto cartesiano de dos subanillos, $R=R_1\\times R_2$, pero esa es otra historia. \n",
    "\n",
    "1. (2 puntos) Define una función de Sage, $H(m)$, que devuelva el número de idempotentes del anillo $\\mathbb{Z}_m$.\n",
    "\n",
    "2. (2 puntos) Experimenta con la función,  formula una hipótesis sobre su valor en función de $m$ y compruébala hasta donde sea posible.\n",
    "\n",
    "En todos los casos conviene  utilizar, al principio, valores modestos de $m$  observando los tiempos que se obtienen e incrementando  los valores de $m$ con *cierta prudencia*.\n",
    "\n",
    "\n"
   ]
  },
  {
   "cell_type": "code",
   "execution_count": 1,
   "metadata": {},
   "outputs": [
    {
     "name": "stdout",
     "output_type": "stream",
     "text": [
      "[([(2, 1)], 2), ([(3, 1)], 2), ([(2, 2)], 2), ([(5, 1)], 2), ([(2, 1), (3, 1)], 4), ([(7, 1)], 2), ([(2, 3)], 2), ([(3, 2)], 2), ([(2, 1), (5, 1)], 4), ([(11, 1)], 2), ([(2, 2), (3, 1)], 4), ([(13, 1)], 2), ([(2, 1), (7, 1)], 4), ([(3, 1), (5, 1)], 4), ([(2, 4)], 2), ([(17, 1)], 2), ([(2, 1), (3, 2)], 4), ([(19, 1)], 2), ([(2, 2), (5, 1)], 4), ([(3, 1), (7, 1)], 4), ([(2, 1), (11, 1)], 4), ([(23, 1)], 2), ([(2, 3), (3, 1)], 4), ([(5, 2)], 2), ([(2, 1), (13, 1)], 4), ([(3, 3)], 2), ([(2, 2), (7, 1)], 4), ([(29, 1)], 2), ([(2, 1), (3, 1), (5, 1)], 8), ([(31, 1)], 2), ([(2, 5)], 2), ([(3, 1), (11, 1)], 4), ([(2, 1), (17, 1)], 4), ([(5, 1), (7, 1)], 4), ([(2, 2), (3, 2)], 4), ([(37, 1)], 2), ([(2, 1), (19, 1)], 4), ([(3, 1), (13, 1)], 4), ([(2, 3), (5, 1)], 4), ([(41, 1)], 2), ([(2, 1), (3, 1), (7, 1)], 8), ([(43, 1)], 2), ([(2, 2), (11, 1)], 4), ([(3, 2), (5, 1)], 4), ([(2, 1), (23, 1)], 4), ([(47, 1)], 2), ([(2, 4), (3, 1)], 4), ([(7, 2)], 2), ([(2, 1), (5, 2)], 4), ([(3, 1), (17, 1)], 4), ([(2, 2), (13, 1)], 4), ([(53, 1)], 2), ([(2, 1), (3, 3)], 4), ([(5, 1), (11, 1)], 4), ([(2, 3), (7, 1)], 4), ([(3, 1), (19, 1)], 4), ([(2, 1), (29, 1)], 4), ([(59, 1)], 2), ([(2, 2), (3, 1), (5, 1)], 8), ([(61, 1)], 2), ([(2, 1), (31, 1)], 4), ([(3, 2), (7, 1)], 4), ([(2, 6)], 2), ([(5, 1), (13, 1)], 4), ([(2, 1), (3, 1), (11, 1)], 8), ([(67, 1)], 2), ([(2, 2), (17, 1)], 4), ([(3, 1), (23, 1)], 4), ([(2, 1), (5, 1), (7, 1)], 8), ([(71, 1)], 2), ([(2, 3), (3, 2)], 4), ([(73, 1)], 2), ([(2, 1), (37, 1)], 4), ([(3, 1), (5, 2)], 4), ([(2, 2), (19, 1)], 4), ([(7, 1), (11, 1)], 4), ([(2, 1), (3, 1), (13, 1)], 8), ([(79, 1)], 2), ([(2, 4), (5, 1)], 4), ([(3, 4)], 2), ([(2, 1), (41, 1)], 4), ([(83, 1)], 2), ([(2, 2), (3, 1), (7, 1)], 8), ([(5, 1), (17, 1)], 4), ([(2, 1), (43, 1)], 4), ([(3, 1), (29, 1)], 4), ([(2, 3), (11, 1)], 4), ([(89, 1)], 2), ([(2, 1), (3, 2), (5, 1)], 8), ([(7, 1), (13, 1)], 4), ([(2, 2), (23, 1)], 4), ([(3, 1), (31, 1)], 4), ([(2, 1), (47, 1)], 4), ([(5, 1), (19, 1)], 4), ([(2, 5), (3, 1)], 4), ([(97, 1)], 2), ([(2, 1), (7, 2)], 4), ([(3, 2), (11, 1)], 4)]\n"
     ]
    }
   ],
   "source": [
    "def H(m):\n",
    "    R = Integers(m)\n",
    "    cont = 0\n",
    "    for k in R:\n",
    "        if R(k*k-k)==R(0):\n",
    "            cont += 1\n",
    "    return cont\n",
    "\n",
    "print [(list(factor(m)),H(m)) for m in xsrange(2,100)]"
   ]
  },
  {
   "cell_type": "markdown",
   "metadata": {},
   "source": [
    "Vemos que el número de soluciones parece depender del número de primos que aparecen en la factorización de $m$. Concretamente parece ser $H(m)=2^p$ con $p$ el número de primos. Cuando $m$ es primo, $\\mathbb{Z}_m$ es un cuerpo y la ecuación $x^2-x$ tiene como únicas soluciones $x=0,1$."
   ]
  },
  {
   "cell_type": "code",
   "execution_count": 4,
   "metadata": {},
   "outputs": [
    {
     "data": {
      "text/plain": [
       "[]"
      ]
     },
     "execution_count": 4,
     "metadata": {},
     "output_type": "execute_result"
    }
   ],
   "source": [
    "def comprobador(N):\n",
    "    L = []\n",
    "    for m in xsrange(2,N):\n",
    "        if H(m) != 2**len(list(factor(m))):\n",
    "            L.append(m)\n",
    "    return L\n",
    "\n",
    "comprobador(1000)      "
   ]
  },
  {
   "cell_type": "code",
   "execution_count": 5,
   "metadata": {},
   "outputs": [
    {
     "name": "stdout",
     "output_type": "stream",
     "text": [
      "CPU times: user 59.8 s, sys: 804 ms, total: 1min\n",
      "Wall time: 59.8 s\n"
     ]
    },
    {
     "data": {
      "text/plain": [
       "[]"
      ]
     },
     "execution_count": 5,
     "metadata": {},
     "output_type": "execute_result"
    }
   ],
   "source": [
    "%time comprobador(10000)      "
   ]
  },
  {
   "cell_type": "markdown",
   "metadata": {},
   "source": [
    "#### Ejercicio 2\n",
    "\n",
    "En el ejercicio anterior hemos visto que un polinomio puede tener distintos números de raíces en $\\mathbb{Z}_m$ dependiendo del valor de $m$. Ahora, dado $m$ nos preguntamos cuál es el **el mayor número de raíces**,  en $\\mathbb{Z}_m$,  que puede tener un polinomio de grado $2$ mónico (i.e. $x^2+ax+b$) con coeficientes en $\\mathbb{Z}_m$. \n",
    "\n",
    "1. (2 puntos) Define una función de Sage, $maximo(m)$, que calcule y devuelva el máximo indicado. Esta función va  a calcular el máximo calculando el número de raíces para cada polinomio, es decir, mediante fuerza bruta, y conviene intentar que cada parte del código sea lo más eficiente que sea posible.  \n",
    "\n",
    "2. (1 punto) Calcula los máximos **para valores de $m$ pequeños**. Como consecuencia de tus resultados enuncia conjeturas sobre el número máximo de raíces en los casos  en los que parezca que hay un comportamiento definido.\n",
    "\n",
    "3. (1 punto) Estima, razonadamente,  los tiempos que tardará el ordenador en calcular el máximo para $m=15$, $m=91$ y $m=851$."
   ]
  },
  {
   "cell_type": "code",
   "execution_count": 7,
   "metadata": {
    "collapsed": true
   },
   "outputs": [],
   "source": [
    "def polinomios(k,j):\n",
    "    L = []\n",
    "    Lsal = [] \n",
    "    for m in srange(j^k):\n",
    "        L.append(m.digits(base=j,padto=k))\n",
    "    for L1 in L:\n",
    "        pol = sum([L1[int]*x^int for int in srange(k)])+x^k\n",
    "        Lsal.append(pol)\n",
    "    return Lsal\n",
    "\n",
    "\n",
    "def maximo(m):\n",
    "    max = 2\n",
    "    L = polinomios(2,m)\n",
    "    R = Integers(m)\n",
    "    maxpol = x\n",
    "    for f in L:\n",
    "        cont = 0\n",
    "        for k in R:\n",
    "            if R(f(x=k))==R(0):\n",
    "                cont += 1\n",
    "        if cont > max:\n",
    "            max = cont\n",
    "            maxpol = f\n",
    "    return max,maxpol\n"
   ]
  },
  {
   "cell_type": "code",
   "execution_count": 8,
   "metadata": {},
   "outputs": [
    {
     "name": "stdout",
     "output_type": "stream",
     "text": [
      "CPU times: user 52 ms, sys: 4 ms, total: 56 ms\n",
      "Wall time: 55.9 ms\n"
     ]
    },
    {
     "data": {
      "text/plain": [
       "(4, x^2 + x)"
      ]
     },
     "execution_count": 8,
     "metadata": {},
     "output_type": "execute_result"
    }
   ],
   "source": [
    "%time maximo(2*3)"
   ]
  },
  {
   "cell_type": "code",
   "execution_count": 9,
   "metadata": {},
   "outputs": [
    {
     "name": "stdout",
     "output_type": "stream",
     "text": [
      "[(2, x), (4, x^2 + 7), (4, x^2), (8, x^2 + 28), (8, x^2)]\n",
      "CPU times: user 26.4 s, sys: 32 ms, total: 26.4 s\n",
      "Wall time: 26.4 s\n"
     ]
    }
   ],
   "source": [
    "%time L = [maximo(2**n) for n in srange(2,7)]; print L"
   ]
  },
  {
   "cell_type": "code",
   "execution_count": 10,
   "metadata": {},
   "outputs": [
    {
     "name": "stdout",
     "output_type": "stream",
     "text": [
      "[(3, x^2), (6, x^2 + 18), (9, x^2)]\n",
      "CPU times: user 47.9 s, sys: 28 ms, total: 47.9 s\n",
      "Wall time: 47.9 s\n"
     ]
    }
   ],
   "source": [
    "%time L1 = [maximo(3**n) for n in srange(2,5)]; print L1"
   ]
  },
  {
   "cell_type": "code",
   "execution_count": 11,
   "metadata": {},
   "outputs": [
    {
     "name": "stdout",
     "output_type": "stream",
     "text": [
      "CPU times: user 3.03 s, sys: 72 ms, total: 3.1 s\n",
      "Wall time: 2.97 s\n"
     ]
    },
    {
     "data": {
      "text/plain": [
       "(8, x^2 + x)"
      ]
     },
     "execution_count": 11,
     "metadata": {},
     "output_type": "execute_result"
    }
   ],
   "source": [
    "%time maximo(2*3*5)"
   ]
  },
  {
   "cell_type": "markdown",
   "metadata": {},
   "source": [
    "Parece factible que para valores de $m$ que son productos de primos distintos, exponentes todos iguales a $1$,  el número máximo de raíces en $\\mathbb{Z}_m$ sea $2^p$ con $p$ el número de primos. \n",
    "\n",
    "#### Estimaciones\n",
    "\n",
    "Podemos obtener el tiempo que tarda el ordenador para calcular el número de raíces de un polinomio dado y multiplicarlo por en número de polinomios de grado $2$ que hay para ese valor de $m$. "
   ]
  },
  {
   "cell_type": "code",
   "execution_count": 27,
   "metadata": {},
   "outputs": [
    {
     "name": "stdout",
     "output_type": "stream",
     "text": [
      "100 loops, best of 3: 1.81 ms per loop\n"
     ]
    }
   ],
   "source": [
    "def raices(m,f):\n",
    "    R = Integers(m)\n",
    "    L = []\n",
    "    for k in R:\n",
    "        if R(f(x=k))==R(0):\n",
    "            L.append(x-k)\n",
    "    return L\n",
    "\n",
    "%timeit raices(15,x^2+3*x+11)"
   ]
  },
  {
   "cell_type": "code",
   "execution_count": 28,
   "metadata": {},
   "outputs": [
    {
     "data": {
      "text/plain": [
       "0.407250000000000"
      ]
     },
     "execution_count": 28,
     "metadata": {},
     "output_type": "execute_result"
    }
   ],
   "source": [
    "0.00181*15*15"
   ]
  },
  {
   "cell_type": "code",
   "execution_count": 25,
   "metadata": {},
   "outputs": [
    {
     "name": "stdout",
     "output_type": "stream",
     "text": [
      "100 loops, best of 3: 8.42 ms per loop\n"
     ]
    }
   ],
   "source": [
    "%timeit raices(91,x^2+73*x+23)"
   ]
  },
  {
   "cell_type": "code",
   "execution_count": 29,
   "metadata": {},
   "outputs": [
    {
     "data": {
      "text/plain": [
       "69.7260200000000"
      ]
     },
     "execution_count": 29,
     "metadata": {},
     "output_type": "execute_result"
    }
   ],
   "source": [
    "0.00842*91*91"
   ]
  },
  {
   "cell_type": "code",
   "execution_count": 24,
   "metadata": {},
   "outputs": [
    {
     "name": "stdout",
     "output_type": "stream",
     "text": [
      "10 loops, best of 3: 79 ms per loop\n"
     ]
    }
   ],
   "source": [
    "%timeit raices(851,x^2+737*x+239)"
   ]
  },
  {
   "cell_type": "code",
   "execution_count": 30,
   "metadata": {},
   "outputs": [
    {
     "data": {
      "text/plain": [
       "57211.8790000000"
      ]
     },
     "execution_count": 30,
     "metadata": {},
     "output_type": "execute_result"
    }
   ],
   "source": [
    "0.079*851*851"
   ]
  },
  {
   "cell_type": "code",
   "execution_count": 31,
   "metadata": {},
   "outputs": [
    {
     "name": "stdout",
     "output_type": "stream",
     "text": [
      "CPU times: user 452 ms, sys: 0 ns, total: 452 ms\n",
      "Wall time: 449 ms\n"
     ]
    },
    {
     "data": {
      "text/plain": [
       "(4, x^2 + 11)"
      ]
     },
     "execution_count": 31,
     "metadata": {},
     "output_type": "execute_result"
    }
   ],
   "source": [
    "%time maximo(15)"
   ]
  },
  {
   "cell_type": "code",
   "execution_count": 32,
   "metadata": {},
   "outputs": [
    {
     "name": "stdout",
     "output_type": "stream",
     "text": [
      "CPU times: user 1min 8s, sys: 2.31 s, total: 1min 10s\n",
      "Wall time: 1min 7s\n"
     ]
    },
    {
     "data": {
      "text/plain": [
       "(4, x^2 + 3)"
      ]
     },
     "execution_count": 32,
     "metadata": {},
     "output_type": "execute_result"
    }
   ],
   "source": [
    "%time maximo(91)"
   ]
  },
  {
   "cell_type": "markdown",
   "metadata": {},
   "source": [
    "Nuestras estimaciones son buenas porque el tiempo que se tarda en buscar las raíces evaluando el polinomio en tyodas las posibles raíces no depende mucho del polinomio. Para el tercer caso necesitaríamos $57000$ segundos para ejecutar la función, pero"
   ]
  },
  {
   "cell_type": "code",
   "execution_count": 33,
   "metadata": {},
   "outputs": [
    {
     "data": {
      "text/plain": [
       "15.8333333333333"
      ]
     },
     "execution_count": 33,
     "metadata": {},
     "output_type": "execute_result"
    }
   ],
   "source": [
    "(57000/3600).n()"
   ]
  },
  {
   "cell_type": "markdown",
   "metadata": {},
   "source": [
    "#### Ejercicio 3\n",
    "\n",
    "(2 puntos) Cuando el entero $m$ es primo, un polinomio de grado $2$ con coeficientes en $\\mathbb{Z}_m$ tiene como máximo dos raíces en  $\\mathbb{Z}_m$, pero hemos visto en los ejercicios anteriores que cuando $m$ no es primo un polinomio de grado $2$ puede tener más de dos raíces en $\\mathbb{Z}_m$. ¿Cómo es ésto posible? ¿Por qué la demostración que funciona para $m$ primo no lo hace para $m$ compuesto?\n",
    "\n",
    "Para responder a esta pregunta debes entender dónde exactamente falla la demostración  que vale cuando $m$ es primo y mostrar mediante ejemplos, que recomiendo generar en el ordenador,  que ese fallo es lo que produce la sobreabundancia  de raíces. \n",
    "\n",
    "\n"
   ]
  },
  {
   "cell_type": "markdown",
   "metadata": {
    "collapsed": true
   },
   "source": [
    "La demostración tiene dos ingredientes:\n",
    "\n",
    "1. Si $\\alpha$ es una raíz del polinomio $p(x)$ entonces $p(x)$ se puede dividir entre el polinomio mónico $x-\\alpha$ y el resto es cero. Entonces cada raíz produce un factor. Esta parte no depende de que los coeficientes están en un cuerpo. \n",
    "\n",
    "2. Como por cada raíz que encontramos aparece un factor de $p(x)$ la única manera de que pueda haber más raíces que el grado del polinomio es que  el polinomio admita distintas factorizaciones, como producto de factores de la forma $x-\\alpha.$ Debe fallar la unicidad de la factorización en el anillo de polinomios $\\mathbb{Z}_m[x].$"
   ]
  },
  {
   "cell_type": "code",
   "execution_count": 12,
   "metadata": {},
   "outputs": [
    {
     "name": "stdout",
     "output_type": "stream",
     "text": [
      "CPU times: user 8 ms, sys: 0 ns, total: 8 ms\n",
      "Wall time: 6.44 ms\n"
     ]
    },
    {
     "data": {
      "text/plain": [
       "[x, x + 25, x + 21, x + 16, x + 15, x + 10, x + 6, x + 1]"
      ]
     },
     "execution_count": 12,
     "metadata": {},
     "output_type": "execute_result"
    }
   ],
   "source": [
    "def factores(m,f):\n",
    "    R = Integers(m)\n",
    "    L = []\n",
    "    for k in R:\n",
    "        if R(f(x=k))==R(0):\n",
    "            L.append(x-k)\n",
    "    return L\n",
    "%time factores(30,x^2+x)"
   ]
  },
  {
   "cell_type": "code",
   "execution_count": 13,
   "metadata": {},
   "outputs": [
    {
     "data": {
      "text/plain": [
       "[(x, x + 1), (x + 25, x + 6), (x + 21, x + 10), (x + 16, x + 15)]"
      ]
     },
     "execution_count": 13,
     "metadata": {},
     "output_type": "execute_result"
    }
   ],
   "source": [
    "def productos(m,f):\n",
    "    L = factores(m,f)\n",
    "    L1 =[]\n",
    "    N = len(L)\n",
    "    for i in srange(N):\n",
    "        for j in srange(i+1,N):\n",
    "            if expand(L[i]*L[j])==f:\n",
    "                L1.append((L[i],L[j]))\n",
    "    return L1\n",
    "\n",
    "productos(30,x^2+x)"
   ]
  },
  {
   "cell_type": "markdown",
   "metadata": {},
   "source": [
    "En la primera función calculamos las raíces y generamos los factores de la forma $x$ menos una raíz. En la segunda calculamos los productos de dos factores cuyo producto sea igual al polinomio que estamos estudiando. Vemos que hay cuatro formas distintas de factorizar $x^2+x$ en $\\mathbb{Z}_{30}[x].$\n",
    "\n",
    "#### Código más eficiente para el apartado 2\n",
    "En lugar de generar todos los polinomios y  probar todas las posibles raíces de cada polinomio podemos usar que el producto de las raíces es, para el polinomio $x^2+ax+b$, ifgual a $b$ y su suma  es $-a$. Esto es cierto aunque $\\mathbb{Z}_m$ no sea un cuerpo. \n"
   ]
  },
  {
   "cell_type": "code",
   "execution_count": 21,
   "metadata": {},
   "outputs": [
    {
     "name": "stdout",
     "output_type": "stream",
     "text": [
      "CPU times: user 1.54 s, sys: 212 ms, total: 1.75 s\n",
      "Wall time: 1.52 s\n"
     ]
    },
    {
     "data": {
      "text/plain": [
       "8"
      ]
     },
     "execution_count": 21,
     "metadata": {},
     "output_type": "execute_result"
    }
   ],
   "source": [
    "def raices2(m,a,b):\n",
    "    R = Integers(m)\n",
    "    cont = 0\n",
    "    for i in srange(m):\n",
    "        for j in srange(i,m):\n",
    "            if R(i*j)==R(b) and R(i+j)==R(-a):\n",
    "                cont += 2 #Hemos encontrado dos raíces##\n",
    "    return cont\n",
    "\n",
    "\n",
    "def maximo2(m):\n",
    "    max = 2\n",
    "    for a in srange(m):\n",
    "        for b in srange(m):\n",
    "            nr = raices2(m,a,b)\n",
    "            if nr>max:\n",
    "                max=nr\n",
    "    return max\n",
    "\n",
    "%time maximo2(30)\n",
    "\n"
   ]
  },
  {
   "cell_type": "code",
   "execution_count": 22,
   "metadata": {},
   "outputs": [
    {
     "name": "stdout",
     "output_type": "stream",
     "text": [
      "CPU times: user 45 s, sys: 964 ms, total: 46 s\n",
      "Wall time: 44.7 s\n"
     ]
    },
    {
     "data": {
      "text/plain": [
       "4"
      ]
     },
     "execution_count": 22,
     "metadata": {},
     "output_type": "execute_result"
    }
   ],
   "source": [
    "%time maximo2(91)"
   ]
  },
  {
   "cell_type": "code",
   "execution_count": null,
   "metadata": {
    "collapsed": true
   },
   "outputs": [],
   "source": []
  }
 ],
 "metadata": {
  "kernelspec": {
   "display_name": "SageMath 8.0",
   "language": "",
   "name": "sagemath"
  },
  "language_info": {
   "codemirror_mode": {
    "name": "ipython",
    "version": 2
   },
   "file_extension": ".py",
   "mimetype": "text/x-python",
   "name": "python",
   "nbconvert_exporter": "python",
   "pygments_lexer": "ipython2",
   "version": "2.7.13"
  }
 },
 "nbformat": 4,
 "nbformat_minor": 2
}
