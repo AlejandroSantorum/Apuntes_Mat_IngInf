{
 "cells": [
  {
   "cell_type": "markdown",
   "metadata": {},
   "source": [
    "#### Método de bisección"
   ]
  },
  {
   "cell_type": "code",
   "execution_count": 1,
   "metadata": {},
   "outputs": [],
   "source": [
    "def subint(f,a,b):\n",
    "    if f(x=a)*f(x=b) > 0:\n",
    "        return \"ERROR: el intervalo no sirve para aplicar Bolzano\"\n",
    "    else:\n",
    "        if f(x=a)*f(x=(a+b)/2) < 0:\n",
    "            return a,(a+b)/2\n",
    "        elif f(x=(a+b)/2)*f(x=b) < 0:\n",
    "            return (a+b)/2,b\n",
    "        elif f(x=(a+b)/2)== 0:\n",
    "            return \"f tiene un cero en: %s\" %str((a+b)/2)\n",
    "        else:\n",
    "            return \"ERROR\""
   ]
  },
  {
   "cell_type": "code",
   "execution_count": 2,
   "metadata": {},
   "outputs": [],
   "source": [
    "f(x)=x^2+0.0000001*x-1"
   ]
  },
  {
   "cell_type": "code",
   "execution_count": 3,
   "metadata": {},
   "outputs": [
    {
     "data": {
      "text/plain": [
       "(0.000000000000000, 1.00000000000000)"
      ]
     },
     "execution_count": 3,
     "metadata": {},
     "output_type": "execute_result"
    }
   ],
   "source": [
    "subint(f,0.0,2.0)"
   ]
  },
  {
   "cell_type": "code",
   "execution_count": 4,
   "metadata": {},
   "outputs": [],
   "source": [
    "def iterador(f,a,b,e):\n",
    "    while abs(a-b) > e:\n",
    "        a,b = subint(f,a,b)\n",
    "    return a,b,abs(a-b)"
   ]
  },
  {
   "cell_type": "code",
   "execution_count": 5,
   "metadata": {},
   "outputs": [
    {
     "data": {
      "text/plain": [
       "(0.999999949708581, 0.999999950639904, 9.31322574615479e-10)"
      ]
     },
     "execution_count": 5,
     "metadata": {},
     "output_type": "execute_result"
    }
   ],
   "source": [
    "iterador(f,0.0,2.0,0.000000001)"
   ]
  },
  {
   "cell_type": "code",
   "execution_count": 6,
   "metadata": {},
   "outputs": [
    {
     "data": {
      "text/plain": [
       "(0.999999950000001, 0.999999950000002, 8.88178419700125e-16)"
      ]
     },
     "execution_count": 6,
     "metadata": {},
     "output_type": "execute_result"
    }
   ],
   "source": [
    "iterador(f,0.0,2.0,0.000000000000001)"
   ]
  },
  {
   "cell_type": "markdown",
   "metadata": {},
   "source": [
    "#### Método de Newton"
   ]
  },
  {
   "cell_type": "code",
   "execution_count": 19,
   "metadata": {},
   "outputs": [
    {
     "data": {
      "text/plain": [
       "0.999999950000001279866342195036259197804296206599354160718656076012322841961577069014310836791992187500000000000000000000000000000000000000000000000000000000000000000000000000000000000000000000000000000000000000000000000000000000000000000000000000000000000000000000000000000000000000000000000000000000"
      ]
     },
     "execution_count": 19,
     "metadata": {},
     "output_type": "execute_result"
    }
   ],
   "source": [
    "f(x)=x^2+0.0000001*x-1\n",
    "\n",
    "def newton(f,x0,epsilon,N,precision):\n",
    "        f1 = diff(f,x)\n",
    "        R = RealField(prec=precision)\n",
    "        x0 = R(x0)\n",
    "        for muda in xsrange(N):\n",
    "               x0 = x0-R(f(x=x0)/f1(x=x0))\n",
    "               if abs(f(x=x0))< epsilon:\n",
    "                   return x0\n",
    "        return \"No hemos conseguido la precisión prefijada\"\n",
    "                   \n",
    "\n",
    "\n",
    "newton(f,2.0,10^(-20),10^20,1000)\n"
   ]
  },
  {
   "cell_type": "code",
   "execution_count": 12,
   "metadata": {
    "collapsed": true
   },
   "outputs": [],
   "source": [
    "g(x)=exp(x)-17"
   ]
  },
  {
   "cell_type": "code",
   "execution_count": 20,
   "metadata": {},
   "outputs": [
    {
     "data": {
      "text/plain": [
       "3.94583165744370938381260154984375968358289028185609601208786496123323326110946376551961764892678368370354618210159550570169145527876031154386586170211540634565778292367688654587870763827669344068862363500228658753396511294640508358125497161923400247411535929836070855205544512443500805956325399440095e-43"
      ]
     },
     "execution_count": 20,
     "metadata": {},
     "output_type": "execute_result"
    }
   ],
   "source": [
    "newton(g,2.0,10^(-20),10^20,1000)-log(17).n(prec=1000)"
   ]
  },
  {
   "cell_type": "code",
   "execution_count": 21,
   "metadata": {},
   "outputs": [
    {
     "data": {
      "text/plain": [
       "7.78479373444248535775416555954244964051784962879633049821278835387291746587158033104445545649145463153674964338264470053724649466969905166808345247366713603794259655627308559769878714866724457905413023309494183861129200638692600612170060991727179569852340579058802170999037304659786400018147178167770e-86"
      ]
     },
     "execution_count": 21,
     "metadata": {},
     "output_type": "execute_result"
    }
   ],
   "source": [
    "newton(g,2.0,10^(-50),10^20,1000)-log(17).n(prec=10000)"
   ]
  },
  {
   "cell_type": "code",
   "execution_count": null,
   "metadata": {
    "collapsed": true
   },
   "outputs": [],
   "source": []
  }
 ],
 "metadata": {
  "kernelspec": {
   "display_name": "SageMath 8.0",
   "language": "",
   "name": "sagemath"
  },
  "language_info": {
   "codemirror_mode": {
    "name": "ipython",
    "version": 2
   },
   "file_extension": ".py",
   "mimetype": "text/x-python",
   "name": "python",
   "nbconvert_exporter": "python",
   "pygments_lexer": "ipython2",
   "version": "2.7.13"
  }
 },
 "nbformat": 4,
 "nbformat_minor": 1
}
