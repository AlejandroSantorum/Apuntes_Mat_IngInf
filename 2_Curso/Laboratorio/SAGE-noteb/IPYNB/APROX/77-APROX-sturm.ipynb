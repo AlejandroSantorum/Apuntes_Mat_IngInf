{
 "cells": [
  {
   "cell_type": "markdown",
   "metadata": {},
   "source": [
    "**Teorema de Sturm:** $p_0(x)$ un polinomio con coeficientes reales, $p_1(x)$ su derivada. Dividimos $p_0(x)$ entre $p_1(x)$ y llamamos $p_2(x)$ al resto cambiado de signo. A continuación,  dividimos $p_1(x)$ entre $p_2(x)$ y llamamos $p_3(x)$ al resto cambiado de signo. Continuamos dividiendo  $p_2(x)$ entre $p_3(x)$ y llamamos $p_4(x)$ al resto cambiado de signo. Continuamos haciendo esto hasta que obtenemos un resto cero. \n",
    "Supongamos que el último resto no nulo es $-p_m(x)$, y decimos que la lista de polinomios $[p_0(x),p_1(x),\\dots,p_m(x)]$ es la **sucesión de Sturm** de $p_0(x)$.\n",
    "\n",
    "Dado un real $a$ llamamos $\\sigma(a)$ al número de cambios de signo en la sucesión $[p_0(a),p_1(a),\\dots,p_m(a)]$. Si alguno de los números de la sucesión fuera cero lo quitamos para contar los cambios d esigno.\n",
    "\n",
    "**TEOREMA**: el número de raíces reales distintas de $p_0(x)$, contadas sin multiplicidades,  en un intervalo $[a,b)$ es $\\sigma(a)-\\sigma(b)$. Si $p_m(x)$ es una constante, entonces todas las raíces de $p_0(x)$ son simples."
   ]
  },
  {
   "cell_type": "code",
   "execution_count": 1,
   "metadata": {
    "collapsed": true
   },
   "outputs": [],
   "source": [
    "R.<x> = PolynomialRing(QQ)\n",
    "p0 = x^4-4*x^3+4*x^2-10"
   ]
  },
  {
   "cell_type": "code",
   "execution_count": 2,
   "metadata": {
    "collapsed": true
   },
   "outputs": [],
   "source": [
    "p1 = diff(p0,x)"
   ]
  },
  {
   "cell_type": "code",
   "execution_count": 3,
   "metadata": {},
   "outputs": [
    {
     "data": {
      "text/plain": [
       "1"
      ]
     },
     "execution_count": 3,
     "metadata": {},
     "output_type": "execute_result"
    }
   ],
   "source": [
    "gcd(p0,p1)"
   ]
  },
  {
   "cell_type": "code",
   "execution_count": 4,
   "metadata": {
    "collapsed": true
   },
   "outputs": [],
   "source": [
    "c1,r1 = p0.quo_rem(p1);p2=-r1"
   ]
  },
  {
   "cell_type": "code",
   "execution_count": 5,
   "metadata": {
    "collapsed": true
   },
   "outputs": [],
   "source": [
    "c2,r2 = p1.quo_rem(p2);p3=-r2"
   ]
  },
  {
   "cell_type": "code",
   "execution_count": 6,
   "metadata": {
    "collapsed": true
   },
   "outputs": [],
   "source": [
    "c3,r3 = p2.quo_rem(p3);p4=-r3"
   ]
  },
  {
   "cell_type": "code",
   "execution_count": 7,
   "metadata": {},
   "outputs": [
    {
     "name": "stdout",
     "output_type": "stream",
     "text": [
      "(x^4 - 4*x^3 + 4*x^2 - 10, 4*x^3 - 12*x^2 + 8*x, x^2 - 2*x + 10, 40*x - 40, -9)\n"
     ]
    }
   ],
   "source": [
    "print (p0,p1,p2,p3,p4)"
   ]
  },
  {
   "cell_type": "code",
   "execution_count": 8,
   "metadata": {},
   "outputs": [
    {
     "data": {
      "image/png": "[encoded data removed]",
      "text/plain": [
       "Graphics object consisting of 1 graphics primitive"
      ]
     },
     "execution_count": 8,
     "metadata": {},
     "output_type": "execute_result"
    }
   ],
   "source": [
    "plot(SR(p0),x,-5,5,ymax=50,ymin=-10)"
   ]
  },
  {
   "cell_type": "code",
   "execution_count": 9,
   "metadata": {},
   "outputs": [
    {
     "data": {
      "text/plain": [
       "[566, -480, 34, -200, -9]"
      ]
     },
     "execution_count": 9,
     "metadata": {},
     "output_type": "execute_result"
    }
   ],
   "source": [
    "[p0(x=-4),p1(x=-4),p2(x=-4),p3(x=-4),p4(x=-4)]"
   ]
  },
  {
   "cell_type": "code",
   "execution_count": 10,
   "metadata": {},
   "outputs": [
    {
     "data": {
      "text/plain": [
       "[54, 96, 18, 120, -9]"
      ]
     },
     "execution_count": 10,
     "metadata": {},
     "output_type": "execute_result"
    }
   ],
   "source": [
    "[p0(x=4),p1(x=4),p2(x=4),p3(x=4),p4(x=4)]"
   ]
  },
  {
   "cell_type": "markdown",
   "metadata": {},
   "source": [
    "En la primera hay 3 cambios de signo y el la segunda 1. Según el teorema de Sturm el número de raíces simples en el intervalo es $3-1=2$. En este caso podemos calcular el número de raíces reales de otra manera."
   ]
  },
  {
   "cell_type": "code",
   "execution_count": 11,
   "metadata": {},
   "outputs": [
    {
     "data": {
      "text/plain": [
       "x^4 - 4*x^3 + 4*x^2 - 10"
      ]
     },
     "execution_count": 11,
     "metadata": {},
     "output_type": "execute_result"
    }
   ],
   "source": [
    "factor(p0)"
   ]
  },
  {
   "cell_type": "code",
   "execution_count": 12,
   "metadata": {},
   "outputs": [
    {
     "data": {
      "text/plain": [
       "(4) * (x - 2) * (x - 1) * x"
      ]
     },
     "execution_count": 12,
     "metadata": {},
     "output_type": "execute_result"
    }
   ],
   "source": [
    "factor(p1)"
   ]
  },
  {
   "cell_type": "markdown",
   "metadata": {},
   "source": [
    "Como tiene mínimos locales en $x=0$ y $x=2$ y un máximo en $x=1$ basta ver que el valor del polinomio en el máximo es menor que cero para, teniendo en cuenta que es un polinomio de grado par, concluir que la forma de la gráfica de $p0(x)$ es la obtenida más arriba. \n",
    "\n",
    "Podemos ver que en el intervalo $[1,4]$ hay una raíz, porque $\\sigma(1)$ es $2$, los ceros no cuentan, y $\\sigma(4)$ es $1$."
   ]
  },
  {
   "cell_type": "code",
   "execution_count": 13,
   "metadata": {},
   "outputs": [
    {
     "data": {
      "text/plain": [
       "[-9, 0, 9, 0, -9]"
      ]
     },
     "execution_count": 13,
     "metadata": {},
     "output_type": "execute_result"
    }
   ],
   "source": [
    "[p0(x=1),p1(x=1),p2(x=1),p3(x=1),p4(x=1)]"
   ]
  },
  {
   "cell_type": "code",
   "execution_count": 14,
   "metadata": {},
   "outputs": [
    {
     "data": {
      "text/plain": [
       "[54, 96, 18, 120, -9]"
      ]
     },
     "execution_count": 14,
     "metadata": {},
     "output_type": "execute_result"
    }
   ],
   "source": [
    "[p0(x=4),p1(x=4),p2(x=4),p3(x=4),p4(x=4)]"
   ]
  },
  {
   "cell_type": "code",
   "execution_count": null,
   "metadata": {
    "collapsed": true
   },
   "outputs": [],
   "source": []
  }
 ],
 "metadata": {
  "kernelspec": {
   "display_name": "SageMath 8.0",
   "language": "",
   "name": "sagemath"
  },
  "language_info": {
   "codemirror_mode": {
    "name": "ipython",
    "version": 2
   },
   "file_extension": ".py",
   "mimetype": "text/x-python",
   "name": "python",
   "nbconvert_exporter": "python",
   "pygments_lexer": "ipython2",
   "version": "2.7.13"
  }
 },
 "nbformat": 4,
 "nbformat_minor": 2
}
