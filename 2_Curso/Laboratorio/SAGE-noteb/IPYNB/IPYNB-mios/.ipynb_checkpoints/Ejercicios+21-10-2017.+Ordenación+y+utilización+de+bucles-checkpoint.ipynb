{
 "cells": [
  {
   "cell_type": "markdown",
   "metadata": {
    "deletable": true,
    "editable": true
   },
   "source": [
    "## ALEJANDRO SANTORUM VARELA  - Ordenación+bucles - Ejercicios 21/10/2017"
   ]
  },
  {
   "cell_type": "markdown",
   "metadata": {
    "deletable": true,
    "editable": true
   },
   "source": [
    "EJERCICIO DE ORDENACION UTILIZANDO INSERTSORT:"
   ]
  },
  {
   "cell_type": "code",
   "execution_count": 42,
   "metadata": {
    "collapsed": false,
    "deletable": true,
    "editable": true
   },
   "outputs": [
    {
     "name": "stdout",
     "output_type": "stream",
     "text": [
      "[1, 3, 5, 7, 8, 9, 34, 43, 45, 56, 59, 83]\n",
      " \n"
     ]
    }
   ],
   "source": [
    "def intercambiar(L, i, j):\n",
    "    if i<j and L[j]<L[i]:\n",
    "        a = L[i]\n",
    "        L[i] = L[j]\n",
    "        L[j] = a\n",
    "    return L\n",
    "\n",
    "def ordenarIS(L):\n",
    "    longitud = len(L)\n",
    "    for i in xsrange(0, longitud):\n",
    "        for j in xsrange(i+1, longitud):\n",
    "            L = intercambiar(L, i, j)\n",
    "            \n",
    "    return L\n",
    "\n",
    "\n",
    "#comprobamos que las funciones funcionan\n",
    "\n",
    "L = [8, 83, 59, 3, 5, 7, 1, 34, 43, 56, 9, 45]\n",
    "LL = list()\n",
    "\n",
    "LL = ordenarIS(L)\n",
    "print(LL)\n",
    "print(\" \")"
   ]
  },
  {
   "cell_type": "markdown",
   "metadata": {
    "deletable": true,
    "editable": true
   },
   "source": [
    "EJERCICIO DE ORDENACIÓN UTILIZANDO MERGESORT"
   ]
  },
  {
   "cell_type": "code",
   "execution_count": 10,
   "metadata": {
    "collapsed": false,
    "deletable": true,
    "editable": true
   },
   "outputs": [
    {
     "name": "stdout",
     "output_type": "stream",
     "text": [
      "[1, 2, 3, 4, 7, 8, 9]\n",
      " \n"
     ]
    }
   ],
   "source": [
    "def intercalar(L, L1, L2):\n",
    "    l1 = len(L1)\n",
    "    l2 = len(L2)\n",
    "    \n",
    "    if l1==0 or l2==0: #comprobación de parada\n",
    "        return L+L1+L2\n",
    "    \n",
    "\n",
    "    if L1[0]<=L2[0]:\n",
    "        a = L1.pop(0)\n",
    "        L.append(a)\n",
    "        intercalar(L, L1, L2)\n",
    "        \n",
    "    else:\n",
    "        b = L2.pop(0)\n",
    "        L.append(b)\n",
    "        intercalar(L, L1, L2)\n",
    "    return L+L1+L2\n",
    "        \n",
    "\n",
    "def ordenarMS(L):\n",
    "    l = len(L)\n",
    "    if l==0 or l==1:\n",
    "        return L\n",
    "    \n",
    "    L1 = list()\n",
    "    L2 = list()\n",
    "    m = floor(l/2)\n",
    "    \n",
    "    for i in xsrange(0, m):\n",
    "        a = L.pop(0)\n",
    "        L1.append(a)\n",
    "        \n",
    "    for i in xsrange(m, l):\n",
    "        b = L.pop(0)\n",
    "        L2.append(b)\n",
    "        \n",
    "    L3 = ordenarMS(L1)\n",
    "    L4 = ordenarMS(L2)\n",
    "    \n",
    "    return intercalar([], L3, L4)\n",
    "\n",
    "\n",
    "#comprobamos que las funciones funcionan\n",
    "\n",
    "L = [8,3,7,9,4,2,1]\n",
    "LL = list()\n",
    "\n",
    "LL = ordenarMS(L)\n",
    "print(LL)\n",
    "print(\" \")\n",
    "        "
   ]
  },
  {
   "cell_type": "code",
   "execution_count": 9,
   "metadata": {
    "collapsed": false,
    "deletable": true,
    "editable": true,
    "scrolled": true
   },
   "outputs": [
    {
     "name": "stdout",
     "output_type": "stream",
     "text": [
      "[2, 3]\n"
     ]
    }
   ],
   "source": [
    "def intercalar(L, L1, L2):\n",
    "    longitud1 = len(L1)\n",
    "    longitud2 = len(L2)\n",
    "    \n",
    "    if longitud1==0 or longitud2 == 0:\n",
    "        LLL = L+L1+L2\n",
    "        return LLL\n",
    "    \n",
    "    elif L1[0]<=L2[0]:\n",
    "        L.append(L1[0])\n",
    "        L1.pop(0)\n",
    "        intercalar(L, L1, L2)\n",
    "        \n",
    "    else:\n",
    "        L.append(L2[0])\n",
    "        L2.pop(0)\n",
    "        intercalar(L, L1, L2)\n",
    "    return L+L1+L2\n",
    "        \n",
    "#PROGRAMA        \n",
    "L1=[3]\n",
    "L2=[2]\n",
    "\n",
    "L = intercalar([], L1, L2)\n",
    "print(L)"
   ]
  },
  {
   "cell_type": "markdown",
   "metadata": {
    "deletable": true,
    "editable": true
   },
   "source": [
    "EJERCICIO DE ORDENACIÓN UTILIZANDO MERGESORT"
   ]
  },
  {
   "cell_type": "code",
   "execution_count": 71,
   "metadata": {
    "collapsed": false,
    "deletable": true,
    "editable": true
   },
   "outputs": [
    {
     "name": "stdout",
     "output_type": "stream",
     "text": [
      "a) Lista ordenada con 20 números aleatorios entre -100 y 100:\n",
      "[-88, -57, -54, -32, -4, 15, 26, 36, 36, 43, 51, 52, 55, 56, 57, 60, 79, 82, 82, 90]\n"
     ]
    }
   ],
   "source": [
    "def ordenarQS(L):\n",
    "    l = len(L)\n",
    "    \n",
    "    if l<=1:\n",
    "        return L\n",
    "    \n",
    "    L1 = list()\n",
    "    L2 = list()\n",
    "    L3 = list()\n",
    "    \n",
    "    pivot = L[0]\n",
    "    \n",
    "    for i in xsrange(0, l):\n",
    "        if L[i] < pivot:\n",
    "            L1.append(L[i])\n",
    "            \n",
    "        elif L[i] > pivot:\n",
    "            L2.append(L[i])\n",
    "        \n",
    "        elif L[i] == pivot:\n",
    "            L3.append(L[i])\n",
    "            \n",
    "    M1 = ordenarQS(L1)\n",
    "    M2 = ordenarQS(L2)\n",
    "    \n",
    "    LR = M1+L3+M2\n",
    "    return LR\n",
    "\n",
    "\n",
    "\n",
    "#PROGRAMA\n",
    "L = [randint(-100, 100) for i in xsrange(0, 20)]\n",
    "\n",
    "LL = ordenarQS(L)\n",
    "print(\"a) Lista ordenada con 20 números aleatorios entre -100 y 100:\")\n",
    "print(LL)\n",
    "print(\" \")\n",
    "    \n",
    "    \n",
    "    "
   ]
  },
  {
   "cell_type": "code",
   "execution_count": 11,
   "metadata": {
    "collapsed": false,
    "deletable": true,
    "editable": true
   },
   "outputs": [
    {
     "name": "stdout",
     "output_type": "stream",
     "text": [
      "CPU times: user 28 ms, sys: 0 ns, total: 28 ms\n",
      "Wall time: 28.6 ms\n"
     ]
    }
   ],
   "source": [
    "def ordenarQS(L):\n",
    "    l = len(L)\n",
    "    \n",
    "    if l<=1:\n",
    "        return L\n",
    "    \n",
    "    L1 = list()\n",
    "    L2 = list()\n",
    "    L3 = list()\n",
    "    \n",
    "    pivot = L[0]\n",
    "    \n",
    "    for i in xsrange(0, l):\n",
    "        if L[i] < pivot:\n",
    "            L1.append(L[i])\n",
    "            \n",
    "        elif L[i] > pivot:\n",
    "            L2.append(L[i])\n",
    "        \n",
    "        elif L[i] == pivot:\n",
    "            L3.append(L[i])\n",
    "            \n",
    "    M1 = ordenarQS(L1)\n",
    "    M2 = ordenarQS(L2)\n",
    "    \n",
    "    LR = M1+L3+M2\n",
    "    return LR\n",
    "\n",
    "\n",
    "#programa:\n",
    "L = [randint(-1000000, 1000000) for i in xsrange(0, 100000)]\n",
    "\n",
    "%time L.sort()\n"
   ]
  },
  {
   "cell_type": "code",
   "execution_count": null,
   "metadata": {
    "collapsed": true,
    "deletable": true,
    "editable": true
   },
   "outputs": [],
   "source": []
  },
  {
   "cell_type": "code",
   "execution_count": null,
   "metadata": {
    "collapsed": true,
    "deletable": true,
    "editable": true
   },
   "outputs": [],
   "source": []
  }
 ],
 "metadata": {
  "kernelspec": {
   "display_name": "SageMath 8.0",
   "language": "",
   "name": "sagemath"
  },
  "language_info": {
   "codemirror_mode": {
    "name": "ipython",
    "version": 2
   },
   "file_extension": ".py",
   "mimetype": "text/x-python",
   "name": "python",
   "nbconvert_exporter": "python",
   "pygments_lexer": "ipython2",
   "version": "2.7.13"
  }
 },
 "nbformat": 4,
 "nbformat_minor": 2
}
