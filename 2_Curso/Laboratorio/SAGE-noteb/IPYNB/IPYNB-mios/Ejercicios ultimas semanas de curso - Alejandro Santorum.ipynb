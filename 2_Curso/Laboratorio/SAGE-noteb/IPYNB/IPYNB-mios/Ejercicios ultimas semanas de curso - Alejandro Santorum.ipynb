{
 "cells": [
  {
   "cell_type": "markdown",
   "metadata": {},
   "source": [
    "<b>Enteros de Carmichael</b>"
   ]
  },
  {
   "cell_type": "code",
   "execution_count": 1,
   "metadata": {
    "collapsed": true
   },
   "outputs": [],
   "source": [
    "def enterosCarmichael(N):\n",
    "    L = []\n",
    "    for k in xsrange(1, N):\n",
    "        if is_prime(k): # k tiene que ser compuesto\n",
    "            continue\n",
    "        flag = 0\n",
    "        for a in xsrange(k):\n",
    "            if(gcd(a, k)!=1): # para todo coprimo. Si no es coprimo ni lo intentamos\n",
    "                continue\n",
    "            aux = power_mod(a, k-1, k)\n",
    "            if(aux!=1):\n",
    "                flag = 1\n",
    "        if(flag==0):\n",
    "            L.append(k)\n",
    "    return L"
   ]
  },
  {
   "cell_type": "code",
   "execution_count": 2,
   "metadata": {},
   "outputs": [
    {
     "name": "stdout",
     "output_type": "stream",
     "text": [
      "CPU times: user 26.4 s, sys: 428 ms, total: 26.8 s\n",
      "Wall time: 26.4 s\n"
     ]
    },
    {
     "data": {
      "text/plain": [
       "[561, 1105, 1729, 2465, 2821]"
      ]
     },
     "execution_count": 2,
     "metadata": {},
     "output_type": "execute_result"
    }
   ],
   "source": [
    "%time enterosCarmichael(3000)"
   ]
  },
  {
   "cell_type": "markdown",
   "metadata": {},
   "source": [
    "Tal y como podemos ver en el tiempo necesitado para la ejecución para $N = 3000$ la función no es muy eficiente. No se me ha ocurrido una mejor implementación. Necesitamos dos bucles, uno para percorrer los posibles valores de $n$ y otro para comprobar que <b>para todo</b> coprimo con n, se cumple la condición de enteros de Carmichael.\n",
    "\n",
    "Podemos comprobar en wikipedia que la lista resultante es la lista de enteros de Carmichael entre $1$ y $3000$."
   ]
  },
  {
   "cell_type": "markdown",
   "metadata": {},
   "source": [
    "<b>Miller-Rabin</b>"
   ]
  },
  {
   "cell_type": "code",
   "execution_count": 3,
   "metadata": {
    "collapsed": true
   },
   "outputs": [],
   "source": [
    "def obtenerSD(n):\n",
    "    s = 0\n",
    "    aux = n-1\n",
    "    while aux%2==0:\n",
    "        s = s+1\n",
    "        aux = aux//2\n",
    "    return s, aux"
   ]
  },
  {
   "cell_type": "code",
   "execution_count": 4,
   "metadata": {},
   "outputs": [
    {
     "data": {
      "text/plain": [
       "(6, 5)"
      ]
     },
     "execution_count": 4,
     "metadata": {},
     "output_type": "execute_result"
    }
   ],
   "source": [
    "obtenerSD(64*5+1) "
   ]
  },
  {
   "cell_type": "code",
   "execution_count": 5,
   "metadata": {
    "collapsed": true
   },
   "outputs": [],
   "source": [
    "def condicion1(a,d,n):\n",
    "    if power_mod(a, d, n)==1:\n",
    "        return True\n",
    "    return False"
   ]
  },
  {
   "cell_type": "code",
   "execution_count": 6,
   "metadata": {
    "collapsed": true
   },
   "outputs": [],
   "source": [
    "def condicion2(a,s,d,n):\n",
    "    for r in xsrange(s):\n",
    "        if (power_mod(a,(2**r)*d,n)+1)%n == 0:\n",
    "            return True\n",
    "    return False"
   ]
  },
  {
   "cell_type": "code",
   "execution_count": 7,
   "metadata": {
    "collapsed": true
   },
   "outputs": [],
   "source": [
    "def testigo(a,n): #suponemos en este momento que a es coprimo con n\n",
    "    s,d = obtenerSD(n)\n",
    "    if condicion1(a,d,n)==False and condicion2(a,s,d,n)==False:\n",
    "        return True # TESTIGO ==> n COMPUESTO\n",
    "    else:\n",
    "        return False # NO ES TESTIGO ==> n PUEDE ser primo"
   ]
  },
  {
   "cell_type": "code",
   "execution_count": 8,
   "metadata": {
    "collapsed": true
   },
   "outputs": [],
   "source": [
    "def miller_rabin1(n,t): # p = probabilidad de que sea compuesto\n",
    "    for i in xsrange(1,t+1):\n",
    "        a = randint(1, n-1)\n",
    "        if(gcd(a,n)!=1): #deben ser coprimos\n",
    "            continue\n",
    "        if testigo(a,n):\n",
    "            return True #COMPUESTO\n",
    "    return False # probable primo"
   ]
  },
  {
   "cell_type": "code",
   "execution_count": 9,
   "metadata": {},
   "outputs": [
    {
     "data": {
      "text/plain": [
       "False"
      ]
     },
     "execution_count": 9,
     "metadata": {},
     "output_type": "execute_result"
    }
   ],
   "source": [
    "miller_rabin1(nth_prime(100), 10) #False==probablemente primo"
   ]
  },
  {
   "cell_type": "code",
   "execution_count": 10,
   "metadata": {},
   "outputs": [
    {
     "data": {
      "text/plain": [
       "False"
      ]
     },
     "execution_count": 10,
     "metadata": {},
     "output_type": "execute_result"
    }
   ],
   "source": [
    "miller_rabin1(nth_prime(1456888), 10) #False==probablemente primo"
   ]
  },
  {
   "cell_type": "code",
   "execution_count": 11,
   "metadata": {},
   "outputs": [
    {
     "data": {
      "text/plain": [
       "True"
      ]
     },
     "execution_count": 11,
     "metadata": {},
     "output_type": "execute_result"
    }
   ],
   "source": [
    "miller_rabin1(345*654, 4) "
   ]
  },
  {
   "cell_type": "code",
   "execution_count": 12,
   "metadata": {},
   "outputs": [
    {
     "name": "stdout",
     "output_type": "stream",
     "text": [
      "CPU times: user 0 ns, sys: 0 ns, total: 0 ns\n",
      "Wall time: 287 µs\n"
     ]
    },
    {
     "data": {
      "text/plain": [
       "True"
      ]
     },
     "execution_count": 12,
     "metadata": {},
     "output_type": "execute_result"
    }
   ],
   "source": [
    "producto_primos_grande = nth_prime(123456789)*nth_prime(98765432)\n",
    "%time miller_rabin1(producto_primos_grande, 20)"
   ]
  },
  {
   "cell_type": "markdown",
   "metadata": {
    "collapsed": true
   },
   "source": [
    "El algoritmo comprueba correctamente que el producto de dos primos muy grandes es realmente un número compuesto. Quizá haya algunos casos en los que prediga que es probabilisticamente primo, pero es una probabilidad bastante baja."
   ]
  },
  {
   "cell_type": "markdown",
   "metadata": {},
   "source": [
    "<b>Pollard $p-1$</b>"
   ]
  },
  {
   "cell_type": "code",
   "execution_count": 2,
   "metadata": {
    "collapsed": true
   },
   "outputs": [],
   "source": [
    "def calcularM(B,n):\n",
    "    primos_menores_B = prime_range(B+1)\n",
    "    M = 1;\n",
    "    for item in primos_menores_B:\n",
    "        M = M * (item**((log(B, base=item).n()).ceil()))\n",
    "    return M"
   ]
  },
  {
   "cell_type": "code",
   "execution_count": 3,
   "metadata": {
    "collapsed": true
   },
   "outputs": [],
   "source": [
    "def pollard(B, n): #suponemos a ya coprimo con n\n",
    "    M = calcularM(B,n)\n",
    "    \n",
    "    for i in xsrange(100):\n",
    "        a = randint(2, 1000)\n",
    "        if gcd(a,n)==1:\n",
    "            aux = power_mod(a,M,n)-1\n",
    "            res = gcd(aux,n)\n",
    "            if res>1 and res<n:\n",
    "                return res\n",
    "    return -1"
   ]
  },
  {
   "cell_type": "code",
   "execution_count": 4,
   "metadata": {
    "collapsed": true
   },
   "outputs": [],
   "source": [
    "def calcular_pollard(Binicial, n, maxIter):\n",
    "    nIter = 0\n",
    "    B = Binicial\n",
    "    while nIter < maxIter:\n",
    "        aux = pollard(B,n)\n",
    "        if aux!=-1:\n",
    "            return aux\n",
    "        nIter = nIter + 1\n",
    "        B += 100\n",
    "    return -1"
   ]
  },
  {
   "cell_type": "code",
   "execution_count": 5,
   "metadata": {},
   "outputs": [
    {
     "data": {
      "text/plain": [
       "17123"
      ]
     },
     "execution_count": 5,
     "metadata": {},
     "output_type": "execute_result"
    }
   ],
   "source": [
    "prod_primos = nth_prime(1974)*nth_prime(13826755) #cogemos un ejemplo de las ojas de ejercicios\n",
    "calcular_pollard(10, prod_primos, 1000)"
   ]
  },
  {
   "cell_type": "markdown",
   "metadata": {},
   "source": [
    "Cogiendo un ejemplo de la hoja de ejercicios, podemos ver que el resultado coincide"
   ]
  },
  {
   "cell_type": "code",
   "execution_count": 13,
   "metadata": {
    "collapsed": true
   },
   "outputs": [],
   "source": [
    "def prueba_sencilla():\n",
    "    for k in xsrange(1,6):\n",
    "        product1 = nth_prime(999*10*k)\n",
    "        product2 = nth_prime(555*5**k)\n",
    "        product = product1*product2\n",
    "        print \"Primo 1 = \"+str(product1)\n",
    "        print \"Primo 2 = \"+str(product2)\n",
    "        print \"Resultado de aplicar pollard = \"+str(calcular_pollard(5*k, product, 10000))"
   ]
  },
  {
   "cell_type": "code",
   "execution_count": 14,
   "metadata": {},
   "outputs": [
    {
     "name": "stdout",
     "output_type": "stream",
     "text": [
      "Primo 1 = 104659\n",
      "Primo 2 = 25147\n",
      "Resultado de aplicar pollard = 25147\n",
      "Primo 1 = 224491\n",
      "Primo 2 = 150299\n",
      "Resultado de aplicar pollard = 224491\n",
      "Primo 1 = 349927\n",
      "Primo 2 = 874009\n",
      "Resultado de aplicar pollard = 874009\n",
      "Primo 1 = 479371\n",
      "Primo 2 = 4975111\n",
      "Resultado de aplicar pollard = 479371\n",
      "Primo 1 = 611213\n",
      "Primo 2 = 27879287\n",
      "Resultado de aplicar pollard = 611213\n",
      "CPU times: user 992 ms, sys: 92 ms, total: 1.08 s\n",
      "Wall time: 963 ms\n"
     ]
    }
   ],
   "source": [
    "%time prueba_sencilla()"
   ]
  },
  {
   "cell_type": "markdown",
   "metadata": {
    "collapsed": true
   },
   "source": [
    "Vemos que los resultados son satisfactorios, y en un tiempo bastante bueno. No obstante, no hemos utilizamos primos demasiado grandes, en ese caso el algoritmo podría funcionar muy ineficientemente. Recordemos que factorizar no es un algoritmo sencillo."
   ]
  },
  {
   "cell_type": "markdown",
   "metadata": {},
   "source": [
    "<b>El juego de la vida</b>"
   ]
  },
  {
   "cell_type": "markdown",
   "metadata": {},
   "source": [
    "Vamos a hacer la implementación del juego de la vida con las reglas descritas en los apuntes de clase."
   ]
  },
  {
   "cell_type": "code",
   "execution_count": 37,
   "metadata": {
    "collapsed": true
   },
   "outputs": [],
   "source": [
    "def lista_vecinos(tam, p): #esperamos el tamaño tam*tam y un punto (x,y) de la matriz\n",
    "    L = []\n",
    "    L.append(((p[0]+1)%tam,(p[1]+1)%tam))\n",
    "    L.append(((p[0])%tam,(p[1]+1)%tam))\n",
    "    L.append(((p[0]-1)%tam,(p[1]+1)%tam))\n",
    "    L.append(((p[0]-1)%tam,(p[1])%tam))\n",
    "    L.append(((p[0]-1)%tam,(p[1]-1)%tam))\n",
    "    L.append(((p[0])%tam,(p[1]-1)%tam))\n",
    "    L.append(((p[0]+1)%tam,(p[1]-1)%tam))\n",
    "    L.append(((p[0]+1)%tam,(p[1])%tam))\n",
    "    return L"
   ]
  },
  {
   "cell_type": "code",
   "execution_count": 38,
   "metadata": {
    "collapsed": true
   },
   "outputs": [],
   "source": [
    "def copiar_matriz(M, tam):\n",
    "    copia = []\n",
    "    for i in xsrange(tam):\n",
    "        copia.append(copy(M[i]))\n",
    "    return copia"
   ]
  },
  {
   "cell_type": "code",
   "execution_count": 74,
   "metadata": {
    "collapsed": true
   },
   "outputs": [],
   "source": [
    "def vecinos_vivos(M, x, y, tam):\n",
    "    cont = 0\n",
    "    vecinos = lista_vecinos(tam, (x,y))\n",
    "    for j in xsrange(len(vecinos)):\n",
    "        cont = cont + M[vecinos[j][0]][vecinos[j][1]]\n",
    "    return cont"
   ]
  },
  {
   "cell_type": "code",
   "execution_count": 75,
   "metadata": {},
   "outputs": [
    {
     "name": "stdout",
     "output_type": "stream",
     "text": [
      "[[1, 0, 0], [0, 0, 0], [0, 0, 0]]\n",
      "0\n",
      "1\n",
      "1\n",
      "1\n",
      "1\n",
      "1\n",
      "1\n",
      "1\n",
      "1\n"
     ]
    }
   ],
   "source": [
    "TEST = [[1,0,0], [0,0,0], [0,0,0]]\n",
    "TEST[0][0] = 1\n",
    "print TEST\n",
    "for i in xsrange(3):\n",
    "    for k in xsrange(3):\n",
    "        print vecinos_vivos(TEST, i, k, 3)"
   ]
  },
  {
   "cell_type": "code",
   "execution_count": 76,
   "metadata": {
    "collapsed": true
   },
   "outputs": [],
   "source": [
    "def evolucion_puntual(M, copia, x, y, tam):\n",
    "    n_vivos = vecinos_vivos(M, x, y, tam)\n",
    "    if M[x][y]==1 and n_vivos < 2:\n",
    "        copia[x][y] = 0\n",
    "    elif M[x][y]==1 and n_vivos > 3:\n",
    "        copia[x][y] = 0\n",
    "    elif M[x][y]==0 and n_vivos==3:\n",
    "        copia[x][y] = 1\n",
    "    return copia"
   ]
  },
  {
   "cell_type": "code",
   "execution_count": 77,
   "metadata": {
    "collapsed": true
   },
   "outputs": [],
   "source": [
    "def evolucion_poblacion(M, tam): # M es una lista de listas, solo en el ultimo momento la transformaremos en matriz\n",
    "    C = copiar_matriz(M, tam)\n",
    "    for x in xsrange(tam):\n",
    "        for y in xsrange(tam):\n",
    "            C = evolucion_puntual(M, C, x, y, tam)\n",
    "    return C"
   ]
  },
  {
   "cell_type": "code",
   "execution_count": 78,
   "metadata": {
    "collapsed": true
   },
   "outputs": [],
   "source": [
    "def fases_de_evolucion(M, tam, nEvol):\n",
    "    for k in xsrange(nEvol):\n",
    "        M = evolucion_poblacion(M, tam)\n",
    "    return M"
   ]
  },
  {
   "cell_type": "code",
   "execution_count": 82,
   "metadata": {},
   "outputs": [
    {
     "name": "stdout",
     "output_type": "stream",
     "text": [
      "Matriz antes de ser evolucionada por el juego de la vida:\n",
      "[1 1 0 1 0]\n",
      "[0 0 0 1 0]\n",
      "[1 0 1 0 1]\n",
      "[0 1 1 0 1]\n",
      "[0 1 0 0 1]\n",
      "Matriz despues de la evolucion:\n",
      "[0 1 0 1 0]\n",
      "[0 0 1 0 1]\n",
      "[0 1 1 0 0]\n",
      "[0 1 0 0 0]\n",
      "[1 0 0 1 1]\n"
     ]
    }
   ],
   "source": [
    "M = [[1, 1, 0, 1, 0], [0, 0, 0, 1, 0], [1, 0, 1, 0, 1], [0, 1, 1, 0, 1], [0, 1, 0, 0, 1]]\n",
    "print \"Matriz antes de ser evolucionada por el juego de la vida:\"\n",
    "print matrix(M)\n",
    "M1 = fases_de_evolucion(M, 5, 6)\n",
    "print \"Matriz despues de la evolucion:\"\n",
    "print matrix(M1)\n"
   ]
  },
  {
   "cell_type": "code",
   "execution_count": 83,
   "metadata": {},
   "outputs": [
    {
     "data": {
      "image/png": "[encoded data removed]",
      "text/plain": [
       "Graphics object consisting of 1 graphics primitive"
      ]
     },
     "execution_count": 83,
     "metadata": {},
     "output_type": "execute_result"
    }
   ],
   "source": [
    "matrix_plot(M)"
   ]
  },
  {
   "cell_type": "code",
   "execution_count": 84,
   "metadata": {},
   "outputs": [
    {
     "data": {
      "image/png": "[encoded data removed]",
      "text/plain": [
       "Graphics object consisting of 1 graphics primitive"
      ]
     },
     "execution_count": 84,
     "metadata": {},
     "output_type": "execute_result"
    }
   ],
   "source": [
    "matrix_plot(M1)"
   ]
  },
  {
   "cell_type": "code",
   "execution_count": 88,
   "metadata": {},
   "outputs": [
    {
     "name": "stdout",
     "output_type": "stream",
     "text": [
      "CPU times: user 14 s, sys: 128 ms, total: 14.2 s\n",
      "Wall time: 14 s\n"
     ]
    }
   ],
   "source": [
    "matriz = [[0]*100]\n",
    "for j in xsrange(99):\n",
    "    matriz.append(copy(matriz[0]))\n",
    "for j in xsrange(100):\n",
    "    for k in xsrange(100):\n",
    "        matriz[j][k] = randint(0,1)\n",
    "        \n",
    "%time matriz1 = fases_de_evolucion(matriz, 100, 30)\n"
   ]
  },
  {
   "cell_type": "code",
   "execution_count": 89,
   "metadata": {},
   "outputs": [
    {
     "data": {
      "image/png": "[encoded data removed]",
      "text/plain": [
       "Graphics object consisting of 1 graphics primitive"
      ]
     },
     "execution_count": 89,
     "metadata": {},
     "output_type": "execute_result"
    }
   ],
   "source": [
    "matrix_plot(matriz)"
   ]
  },
  {
   "cell_type": "code",
   "execution_count": 91,
   "metadata": {},
   "outputs": [
    {
     "data": {
      "image/png": "[encoded data removed]",
      "text/plain": [
       "Graphics object consisting of 1 graphics primitive"
      ]
     },
     "execution_count": 91,
     "metadata": {},
     "output_type": "execute_result"
    }
   ],
   "source": [
    "matrix_plot(matriz1)"
   ]
  },
  {
   "cell_type": "markdown",
   "metadata": {},
   "source": [
    "Si vamos a la página del juego de la vida de Conway no es difícil ver que las evoluciones de las distintas especies se reducen a pequeñas poblaciones dispersas por la matriz hasta que se estancan en un ciclo. No podemos estar seguros de que esta sea la apariencia final de nuestra matriz de ejemplo, puesto que no hemos mejorado la implementación con python, numpy ni con la representación temporal de matrices, cosa que se podría hacer un futuro si estuviésemos muy necesitados de ello. "
   ]
  },
  {
   "cell_type": "markdown",
   "metadata": {},
   "source": [
    "<b>Automátas celulares 1-dimensionales</b>"
   ]
  },
  {
   "cell_type": "code",
   "execution_count": 4,
   "metadata": {
    "collapsed": true
   },
   "outputs": [],
   "source": [
    "def vecinos(k, L):\n",
    "    a = L[k]\n",
    "    ant = L[(k-1)%len(L)]\n",
    "    sig = L[(k+1)%len(L)]\n",
    "    t = (ant, a, sig)\n",
    "    return t"
   ]
  },
  {
   "cell_type": "code",
   "execution_count": 6,
   "metadata": {},
   "outputs": [
    {
     "data": {
      "text/plain": [
       "(5, 6, 1)"
      ]
     },
     "execution_count": 6,
     "metadata": {},
     "output_type": "execute_result"
    }
   ],
   "source": [
    "L1aux = [1, 2, 3, 4, 5, 6]\n",
    "vecinos(5, L1aux)"
   ]
  },
  {
   "cell_type": "code",
   "execution_count": 9,
   "metadata": {},
   "outputs": [],
   "source": [
    "def listaB(k):\n",
    "    return k.digits(2, padto=8)"
   ]
  },
  {
   "cell_type": "code",
   "execution_count": 10,
   "metadata": {},
   "outputs": [
    {
     "data": {
      "text/plain": [
       "[1, 1, 1, 1, 1, 1, 1, 1]"
      ]
     },
     "execution_count": 10,
     "metadata": {},
     "output_type": "execute_result"
    }
   ],
   "source": [
    "listaB(255)"
   ]
  },
  {
   "cell_type": "code",
   "execution_count": 11,
   "metadata": {
    "collapsed": true
   },
   "outputs": [],
   "source": [
    "def diccionarioD(k):\n",
    "    D = {}\n",
    "    T = [(0,0,0),(1,0,0),(0,1,0),(1,1,0),(0,0,1),(1,0,1),(0,1,1),(1,1,1)]\n",
    "    B = listaB(k)\n",
    "    for i in xsrange(8):\n",
    "        D[T[i]] = B[i]\n",
    "    return D"
   ]
  },
  {
   "cell_type": "code",
   "execution_count": 47,
   "metadata": {},
   "outputs": [
    {
     "name": "stdout",
     "output_type": "stream",
     "text": [
      "{(1, 1, 0): 0, (0, 1, 1): 1, (1, 0, 0): 0, (0, 0, 1): 0, (1, 0, 1): 1, (0, 0, 0): 0, (0, 1, 0): 1, (1, 1, 1): 0}\n",
      "1\n"
     ]
    }
   ],
   "source": [
    "Daux = diccionarioD(100)\n",
    "print Daux\n",
    "print Daux[(0,1,0)]"
   ]
  },
  {
   "cell_type": "code",
   "execution_count": 17,
   "metadata": {},
   "outputs": [],
   "source": [
    "def siguiente(L, k):\n",
    "    L2 = copy(L)\n",
    "    D = diccionarioD(k)\n",
    "    i = randint(0, len(L)-1)\n",
    "    t = vecinos(i, L)\n",
    "    L2[i] = D[t]\n",
    "    return L2"
   ]
  },
  {
   "cell_type": "code",
   "execution_count": 20,
   "metadata": {},
   "outputs": [
    {
     "data": {
      "text/plain": [
       "[1, 0, 1, 0, 1, 0, 1, 1, 1, 0, 1, 0, 1, 0]"
      ]
     },
     "execution_count": 20,
     "metadata": {},
     "output_type": "execute_result"
    }
   ],
   "source": [
    "L_test_siguiente = [1,0,1,0,1,0,1,0,1,0,1,0,1,0]\n",
    "siguiente(L_test_siguiente, 100)"
   ]
  },
  {
   "cell_type": "code",
   "execution_count": 32,
   "metadata": {
    "collapsed": true
   },
   "outputs": [],
   "source": [
    "def evolucion(L, k, N):\n",
    "    L2 = []\n",
    "    aux = copy(L)\n",
    "    L2.append(aux)\n",
    "    for j in xsrange(N):\n",
    "        aux = siguiente(aux, k)\n",
    "        L2.append(aux)\n",
    "    return L2"
   ]
  },
  {
   "cell_type": "code",
   "execution_count": 49,
   "metadata": {},
   "outputs": [
    {
     "data": {
      "image/png": "[encoded data removed]",
      "text/plain": [
       "Graphics object consisting of 1 graphics primitive"
      ]
     },
     "execution_count": 49,
     "metadata": {},
     "output_type": "execute_result"
    }
   ],
   "source": [
    "L_test_evol = [0, 1, 0, 1, 0, 1, 0, 1, 0, 1, 0, 1]\n",
    "L_test_evol = evolucion(L_test_evol, 100, 10)\n",
    "M_test = matrix(L_test_evol)\n",
    "matrix_plot(M_test)"
   ]
  },
  {
   "cell_type": "code",
   "execution_count": 50,
   "metadata": {
    "collapsed": true
   },
   "outputs": [],
   "source": [
    "def crear_lista_prueba():\n",
    "    L = []\n",
    "    for i in xsrange(128):\n",
    "        L.append(0)\n",
    "    L.append(1)\n",
    "    for i in xsrange(128):\n",
    "        L.append(0)\n",
    "    return L"
   ]
  },
  {
   "cell_type": "code",
   "execution_count": 54,
   "metadata": {},
   "outputs": [
    {
     "data": {
      "image/png": "[encoded data removed]",
      "text/plain": [
       "Graphics object consisting of 1 graphics primitive"
      ]
     },
     "execution_count": 54,
     "metadata": {},
     "output_type": "execute_result"
    }
   ],
   "source": [
    "L18 = crear_lista_prueba()\n",
    "M18 = matrix(evolucion(L18, 18, 256))\n",
    "matrix_plot(M18)"
   ]
  },
  {
   "cell_type": "code",
   "execution_count": 58,
   "metadata": {},
   "outputs": [
    {
     "data": {
      "image/png": "[encoded data removed]",
      "text/plain": [
       "Graphics object consisting of 1 graphics primitive"
      ]
     },
     "execution_count": 58,
     "metadata": {},
     "output_type": "execute_result"
    }
   ],
   "source": [
    "L30 = crear_lista_prueba()\n",
    "M30 = matrix(evolucion(L30, 30, 256))\n",
    "matrix_plot(M30)"
   ]
  },
  {
   "cell_type": "code",
   "execution_count": 59,
   "metadata": {},
   "outputs": [
    {
     "data": {
      "image/png": "[encoded data removed]",
      "text/plain": [
       "Graphics object consisting of 1 graphics primitive"
      ]
     },
     "execution_count": 59,
     "metadata": {},
     "output_type": "execute_result"
    }
   ],
   "source": [
    "L50 = crear_lista_prueba()\n",
    "M50 = matrix(evolucion(L50, 50, 256))\n",
    "matrix_plot(M50)"
   ]
  },
  {
   "cell_type": "code",
   "execution_count": 63,
   "metadata": {},
   "outputs": [
    {
     "data": {
      "image/png": "[encoded data removed]",
      "text/plain": [
       "Graphics object consisting of 1 graphics primitive"
      ]
     },
     "execution_count": 63,
     "metadata": {},
     "output_type": "execute_result"
    }
   ],
   "source": [
    "L110 = crear_lista_prueba()\n",
    "M110 = matrix(evolucion(L110, 110, 256))\n",
    "matrix_plot(M110)"
   ]
  },
  {
   "cell_type": "markdown",
   "metadata": {},
   "source": [
    "Desconozco si hay algún error, porque la pinta que tienen estas matrices no parece muy interesante. Quizá provenga (si lo hay) de que $i$ en la función $siguiente$ se escoge de forma aleatoria entre cualquier índice de la lista y, como nuestra lista inicial está repleta de ceros, va a tocar repetidas veces un elemento que, junto con sus vecinos, forman la 3-tupla $(0,0,0)$ y en los números planteados en el enunciado $18, 30, 50, 110$ todos tienen una representación binaria cuyo bit más significativo es el $0$, que es el valor de la clave $(0,0,0)$ en el diccionario. Todo esto se puede solucionar cambiando la forma de escoger $i$ (forma que no se especificaba en el enunciado y se ha adoptado la que me parecía más lógica), o cambiando la lista inicial y ponerle unos cuantos unos más."
   ]
  },
  {
   "cell_type": "code",
   "execution_count": 65,
   "metadata": {},
   "outputs": [
    {
     "name": "stdout",
     "output_type": "stream",
     "text": [
      "[0, 1, 0, 0, 1, 0, 0, 0]\n",
      "[0, 1, 1, 1, 1, 0, 0, 0]\n",
      "[0, 1, 0, 0, 1, 1, 0, 0]\n",
      "[0, 1, 1, 1, 0, 1, 1, 0]\n"
     ]
    }
   ],
   "source": [
    "print 18.digits(2, padto=8)\n",
    "print 30.digits(2, padto=8)\n",
    "print 50.digits(2, padto=8)\n",
    "print 110.digits(2, padto=8)"
   ]
  },
  {
   "cell_type": "code",
   "execution_count": 78,
   "metadata": {},
   "outputs": [
    {
     "data": {
      "text/plain": [
       "[1, 0, 1, 1, 0, 1, 1, 1]"
      ]
     },
     "execution_count": 78,
     "metadata": {},
     "output_type": "execute_result"
    }
   ],
   "source": [
    "237.digits(2,padto=8)"
   ]
  },
  {
   "cell_type": "code",
   "execution_count": 79,
   "metadata": {},
   "outputs": [
    {
     "data": {
      "image/png": "[encoded data removed]",
      "text/plain": [
       "Graphics object consisting of 1 graphics primitive"
      ]
     },
     "execution_count": 79,
     "metadata": {},
     "output_type": "execute_result"
    }
   ],
   "source": [
    "L237 = crear_lista_prueba()\n",
    "M237 = matrix(evolucion(L237, 237, 256))\n",
    "matrix_plot(M237)"
   ]
  },
  {
   "cell_type": "markdown",
   "metadata": {},
   "source": [
    "Escogiendo un $k$ cuya escritura en binario (8bits) tiene de bit más siginificativo un $1$, podemos ver que la evolución cambia por completo."
   ]
  },
  {
   "cell_type": "markdown",
   "metadata": {},
   "source": [
    "<b>Percolación</b>"
   ]
  },
  {
   "cell_type": "code",
   "execution_count": 81,
   "metadata": {
    "collapsed": true
   },
   "outputs": [],
   "source": [
    "def nodos_vecinos(punto):\n",
    "    L = []\n",
    "    L.append((punto[0]+1, punto[1]))\n",
    "    L.append((punto[0], punto[1]+1))\n",
    "    L.append((punto[0]-1, punto[1]))\n",
    "    L.append((punto[0], punto[1]-1))\n",
    "    return L"
   ]
  },
  {
   "cell_type": "code",
   "execution_count": 88,
   "metadata": {
    "collapsed": true
   },
   "outputs": [],
   "source": [
    "def siguiente_perc(visitados, alcanzados, p):\n",
    "    alcanzados2 = []\n",
    "    for item in alcanzados:\n",
    "        vecinos = nodos_vecinos(item)\n",
    "        for vec in vecinos:\n",
    "            a = random()\n",
    "            if (a<=p) and (vec not in visitados):\n",
    "                visitados.append(vec)\n",
    "                alcanzados2.append(vec)\n",
    "    return visitados, alcanzados2"
   ]
  },
  {
   "cell_type": "code",
   "execution_count": 89,
   "metadata": {},
   "outputs": [
    {
     "name": "stdout",
     "output_type": "stream",
     "text": [
      "[(0, 0), (0, 1), (0, -1)]\n",
      "[(0, 1), (0, -1)]\n"
     ]
    }
   ],
   "source": [
    "test_sig_per = siguiente_perc([(0,0)], [(0,0)], 0.5)\n",
    "print test_sig_per[0]\n",
    "print test_sig_per[1]"
   ]
  },
  {
   "cell_type": "code",
   "execution_count": 90,
   "metadata": {
    "collapsed": true
   },
   "outputs": [],
   "source": [
    "def evolucion_perc(punto_inicial, p, N):\n",
    "    visitados = [punto_inicial]\n",
    "    alcanzados = [punto_inicial]\n",
    "    for j in xsrange(N):\n",
    "        visitados, alcanzados = siguiente_perc(visitados, alcanzados, p)\n",
    "    return visitados"
   ]
  },
  {
   "cell_type": "code",
   "execution_count": 96,
   "metadata": {
    "collapsed": true
   },
   "outputs": [],
   "source": [
    "def build_matriz_percolacion(visitados, tam):\n",
    "    M = matrix(ZZ,2*tam+1,2*tam+1,0)\n",
    "    for item in visitados:\n",
    "        if (-tam<item[0]<tam) and (-tam<item[1]<tam):\n",
    "            M[item[0]+tam,item[1]+tam] = 1\n",
    "    return M"
   ]
  },
  {
   "cell_type": "code",
   "execution_count": 99,
   "metadata": {},
   "outputs": [
    {
     "data": {
      "image/png": "[encoded data removed]",
      "text/plain": [
       "Graphics object consisting of 1 graphics primitive"
      ]
     },
     "execution_count": 99,
     "metadata": {},
     "output_type": "execute_result"
    }
   ],
   "source": [
    "visit = evolucion_perc((0,0), 0.6, 100)\n",
    "Mperc = build_matriz_percolacion(visit, 20)\n",
    "matrix_plot(Mperc)"
   ]
  },
  {
   "cell_type": "markdown",
   "metadata": {},
   "source": [
    "Con una probabilidad de $0.6$ está claro que esto diverge."
   ]
  },
  {
   "cell_type": "code",
   "execution_count": 101,
   "metadata": {},
   "outputs": [
    {
     "data": {
      "image/png": "[encoded data removed]",
      "text/plain": [
       "Graphics object consisting of 1 graphics primitive"
      ]
     },
     "execution_count": 101,
     "metadata": {},
     "output_type": "execute_result"
    }
   ],
   "source": [
    "visit2 = evolucion_perc((0,0), 0.46, 100)\n",
    "Mperc2 = build_matriz_percolacion(visit2, 20)\n",
    "matrix_plot(Mperc2)"
   ]
  },
  {
   "cell_type": "markdown",
   "metadata": {},
   "source": [
    "Por el contrario, con una probabilidad inferior al $0.5$ ya podemos percibir que avanza mucho más lento y que llegará un punto en el que se estanque"
   ]
  },
  {
   "cell_type": "code",
   "execution_count": null,
   "metadata": {
    "collapsed": true
   },
   "outputs": [],
   "source": []
  }
 ],
 "metadata": {
  "kernelspec": {
   "display_name": "SageMath 8.0",
   "language": "",
   "name": "sagemath"
  },
  "language_info": {
   "codemirror_mode": {
    "name": "ipython",
    "version": 2
   },
   "file_extension": ".py",
   "mimetype": "text/x-python",
   "name": "python",
   "nbconvert_exporter": "python",
   "pygments_lexer": "ipython2",
   "version": "2.7.13"
  }
 },
 "nbformat": 4,
 "nbformat_minor": 2
}
