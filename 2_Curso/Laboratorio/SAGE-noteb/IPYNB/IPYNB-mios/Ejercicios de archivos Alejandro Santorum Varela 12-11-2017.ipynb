{
 "cells": [
  {
   "cell_type": "markdown",
   "metadata": {
    "collapsed": true
   },
   "source": [
    "Ejercicios de archivos - ALEJANDRO SANTORUM VARELA - 12/11/2017"
   ]
  },
  {
   "cell_type": "code",
   "execution_count": 25,
   "metadata": {},
   "outputs": [],
   "source": [
    "from string import *\n",
    "\n",
    "def archivo_equiprobable(N):\n",
    "    L=[randint(0,1) for _ in srange(2^N)]\n",
    "    \n",
    "    cad = ''\n",
    "    while L != []:\n",
    "        cad += (chr(int(join(map(str,L[:8]),sep=''),base=2)))\n",
    "        L = L[8:]\n",
    "    outfile = open(\"archivo_binario\",\"wb\") #Abrimos el archivo para escribir en el\n",
    "    outfile.write(cad)                        #Escribimos la cadena C al archivo\n",
    "    outfile.close()                         #Cerramos el archivo"
   ]
  },
  {
   "cell_type": "code",
   "execution_count": 26,
   "metadata": {
    "collapsed": true
   },
   "outputs": [],
   "source": [
    "archivo_equiprobable(4)"
   ]
  },
  {
   "cell_type": "code",
   "execution_count": 27,
   "metadata": {
    "collapsed": true
   },
   "outputs": [],
   "source": [
    "def archivo_Pprobable(N, p, name):\n",
    "    L=[]\n",
    "    for i in srange(0, 2^N):\n",
    "        a = random()\n",
    "        if a > p:\n",
    "            L.append(0)\n",
    "        elif a <= p:\n",
    "            L.append(1)\n",
    "            \n",
    "    cad = ''\n",
    "    while L != []:\n",
    "        cad += (chr(int(join(map(str,L[:8]),sep=''),base=2)))\n",
    "        L = L[8:]\n",
    "    fname = \"archivo_binario_Pprobable_\"+str(name)\n",
    "    outfile = open(fname ,\"wb\") #Abrimos el archivo para escribir en el\n",
    "    outfile.write(cad)                        #Escribimos la cadena C al archivo\n",
    "    outfile.close()                         #Cerramos el archivo\n",
    "    "
   ]
  },
  {
   "cell_type": "code",
   "execution_count": null,
   "metadata": {
    "collapsed": true
   },
   "outputs": [],
   "source": [
    "for j in xsrange(0, 21):\n",
    "    m = j*0.05\n",
    "    archivo_Pprobable(10, m, m)"
   ]
  }
 ],
 "metadata": {
  "kernelspec": {
   "display_name": "SageMath 8.0",
   "language": "",
   "name": "sagemath"
  },
  "language_info": {
   "codemirror_mode": {
    "name": "ipython",
    "version": 2
   },
   "file_extension": ".py",
   "mimetype": "text/x-python",
   "name": "python",
   "nbconvert_exporter": "python",
   "pygments_lexer": "ipython2",
   "version": "2.7.13"
  }
 },
 "nbformat": 4,
 "nbformat_minor": 2
}
