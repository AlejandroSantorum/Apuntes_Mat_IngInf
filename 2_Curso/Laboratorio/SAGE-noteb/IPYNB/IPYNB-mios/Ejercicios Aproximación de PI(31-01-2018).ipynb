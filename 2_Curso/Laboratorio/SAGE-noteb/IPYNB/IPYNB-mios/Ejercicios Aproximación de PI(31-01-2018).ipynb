{
 "cells": [
  {
   "cell_type": "markdown",
   "metadata": {},
   "source": [
    "EULER - Implementa en Sage ambas formas de aproximar π (sumando (7.1) para x = 1 y sumando los valores que se obtienen para x = a y x = b) y compara la eﬁciencia de los dos metodos."
   ]
  },
  {
   "cell_type": "code",
   "execution_count": 2,
   "metadata": {
    "collapsed": true
   },
   "outputs": [],
   "source": [
    "def arcotangente(x, N):\n",
    "    res = 0\n",
    "    for k in xsrange(0, N+1):\n",
    "        res = res + ((-1)^k * ((x^(2*k+1))/(2*k+1)))\n",
    "    return res\n",
    "    "
   ]
  },
  {
   "cell_type": "code",
   "execution_count": 3,
   "metadata": {
    "collapsed": true
   },
   "outputs": [],
   "source": [
    "def valor_aprox_pi(res):\n",
    "    return 4*res"
   ]
  },
  {
   "cell_type": "code",
   "execution_count": 4,
   "metadata": {
    "collapsed": true
   },
   "outputs": [],
   "source": [
    "def metodo(x, N):\n",
    "    res1 = arcotangente(x, N)\n",
    "    final_res = valor_aprox_pi(res1)\n",
    "    return final_res"
   ]
  },
  {
   "cell_type": "code",
   "execution_count": 15,
   "metadata": {},
   "outputs": [
    {
     "data": {
      "text/plain": [
       "3.1416926435905432135"
      ]
     },
     "execution_count": 15,
     "metadata": {},
     "output_type": "execute_result"
    }
   ],
   "source": [
    "metodo(1,10000).n(digits=20)"
   ]
  },
  {
   "cell_type": "code",
   "execution_count": 14,
   "metadata": {},
   "outputs": [
    {
     "data": {
      "text/plain": [
       "3.1416026534897939885"
      ]
     },
     "execution_count": 14,
     "metadata": {},
     "output_type": "execute_result"
    }
   ],
   "source": [
    "metodo(1,100000).n(digits=20)"
   ]
  },
  {
   "cell_type": "markdown",
   "metadata": {
    "collapsed": true
   },
   "source": [
    "Se puede ver que avanza bastante lento usando $x=1$. Vamos a probar ahora para $x = arctan(1/2)$ y $x = arctan(1/3)$"
   ]
  },
  {
   "cell_type": "code",
   "execution_count": 25,
   "metadata": {},
   "outputs": [
    {
     "data": {
      "text/plain": [
       "1.7365805606736720270"
      ]
     },
     "execution_count": 25,
     "metadata": {},
     "output_type": "execute_result"
    }
   ],
   "source": [
    "metodo(arctan(1/2),10000).n(digits=20)"
   ]
  },
  {
   "cell_type": "code",
   "execution_count": 26,
   "metadata": {},
   "outputs": [
    {
     "data": {
      "text/plain": [
       "1.2451603407475466701"
      ]
     },
     "execution_count": 26,
     "metadata": {},
     "output_type": "execute_result"
    }
   ],
   "source": [
    "metodo(arctan(1/3),10000).n(digits=20)"
   ]
  },
  {
   "cell_type": "code",
   "execution_count": 27,
   "metadata": {},
   "outputs": [
    {
     "data": {
      "text/plain": [
       "2.6630950001134154544"
      ]
     },
     "execution_count": 27,
     "metadata": {},
     "output_type": "execute_result"
    }
   ],
   "source": [
    "metodo((arctan(1/3)+arctan(1/2)),10000).n(digits=20)"
   ]
  },
  {
   "cell_type": "markdown",
   "metadata": {},
   "source": [
    "Aparentemente, utilizando $x = arctan(1/2)$ ó $x = arctan(1/3)$ la sucesión 7.1 no se aproxima a π/4 más rápido que para $x = 1$. Debe haber un error en el enunciado del ejercicio."
   ]
  },
  {
   "cell_type": "markdown",
   "metadata": {},
   "source": [
    "RAMANUJAN - Utilizando la serie de Ramanujan para obtener un valor aproximado de π."
   ]
  },
  {
   "cell_type": "code",
   "execution_count": 28,
   "metadata": {
    "collapsed": true
   },
   "outputs": [],
   "source": [
    "def suma(N):\n",
    "    res = 0\n",
    "    for n in xsrange(0, N+1):\n",
    "        res = res + ((((factorial(2*n))^3)*(42*n+5))/(((factorial(n))^6)*(16^(3*n+1))))\n",
    "    return res"
   ]
  },
  {
   "cell_type": "code",
   "execution_count": 46,
   "metadata": {},
   "outputs": [
    {
     "data": {
      "text/plain": [
       "3.141592653589793238481499918418880291757413015426532073472331243939759606891435417188322632153988965"
      ]
     },
     "execution_count": 46,
     "metadata": {},
     "output_type": "execute_result"
    }
   ],
   "source": [
    "(1/suma(10)).n(digits=100)"
   ]
  },
  {
   "cell_type": "code",
   "execution_count": 47,
   "metadata": {},
   "outputs": [
    {
     "data": {
      "text/plain": [
       "3.141592653589793238462643383279502884197169399375105820974944592307816406286208998628034825342117068"
      ]
     },
     "execution_count": 47,
     "metadata": {},
     "output_type": "execute_result"
    }
   ],
   "source": [
    "(1/suma(100)).n(digits=100)"
   ]
  },
  {
   "cell_type": "code",
   "execution_count": 48,
   "metadata": {},
   "outputs": [
    {
     "data": {
      "text/plain": [
       "3.141592653589793238462643383279502884197169399375105820974944592307816406286208998628034825342117068"
      ]
     },
     "execution_count": 48,
     "metadata": {},
     "output_type": "execute_result"
    }
   ],
   "source": [
    "pi.n(digits=100)"
   ]
  },
  {
   "cell_type": "markdown",
   "metadata": {},
   "source": [
    "No es difícil ver que su aproximación es bastante buena, y cuanto más crece N mejor es la aproximación. Vamos a intentar estimar cuantas cifras correctas de pi son calculadas dependiendo del valor de N."
   ]
  },
  {
   "cell_type": "code",
   "execution_count": 78,
   "metadata": {},
   "outputs": [],
   "source": [
    "def n_cifras_correctas(N):\n",
    "    cpi = str(pi.n(digits=500))\n",
    "    res = (1/suma(N)).n(digits=500)\n",
    "    cap = str(res)\n",
    "    \n",
    "    ncc=0\n",
    "    for i in xsrange(0, 501):\n",
    "        if(cpi[i] != cap[i]):\n",
    "            break\n",
    "        ncc += 1\n",
    "    return ncc\n",
    "    \n",
    "    "
   ]
  },
  {
   "cell_type": "code",
   "execution_count": 79,
   "metadata": {},
   "outputs": [
    {
     "data": {
      "text/plain": [
       "21"
      ]
     },
     "execution_count": 79,
     "metadata": {},
     "output_type": "execute_result"
    }
   ],
   "source": [
    "n_cifras_correctas(10)"
   ]
  },
  {
   "cell_type": "code",
   "execution_count": 80,
   "metadata": {
    "collapsed": true
   },
   "outputs": [],
   "source": [
    "def lista_pares(N):\n",
    "    L1 = [N, N+10, N+20, N+30, N+40, N+50, N+60, N+70, N+80, N+90, N+100, N+110, N+120, N+130, N+140, N+150, N+160, N+170, N+180, N+190, N+200]\n",
    "    L2 = [0,0,0,0,0,0,0,0,0,0,0,0,0,0,0,0,0,0,0,0,0]\n",
    "    for i in xsrange(0,21):\n",
    "        L2[i] = n_cifras_correctas(L1[i])\n",
    "    LR = zip(L1, L2)\n",
    "    return LR"
   ]
  },
  {
   "cell_type": "code",
   "execution_count": 81,
   "metadata": {},
   "outputs": [
    {
     "data": {
      "text/plain": [
       "[(0, 2),\n",
       " (10, 21),\n",
       " (20, 38),\n",
       " (30, 57),\n",
       " (40, 75),\n",
       " (50, 94),\n",
       " (60, 112),\n",
       " (70, 129),\n",
       " (80, 147),\n",
       " (90, 166),\n",
       " (100, 184),\n",
       " (110, 202),\n",
       " (120, 220),\n",
       " (130, 238),\n",
       " (140, 256),\n",
       " (150, 274),\n",
       " (160, 293),\n",
       " (170, 310),\n",
       " (180, 328),\n",
       " (190, 347),\n",
       " (200, 365)]"
      ]
     },
     "execution_count": 81,
     "metadata": {},
     "output_type": "execute_result"
    }
   ],
   "source": [
    "L = lista_pares(0) #el primer elemento de cada tupla es N y el segundo el numero de cifras correctas\n",
    "L"
   ]
  },
  {
   "cell_type": "markdown",
   "metadata": {},
   "source": [
    "Se puede observar que cada vez que aumentamos N en diez unidades, el numero de cifras correctas aumenta entre 17 y 19 unidades, lo cual es bastante."
   ]
  },
  {
   "cell_type": "markdown",
   "metadata": {},
   "source": [
    "CHUDNOVSKY - Utilizaremos ahora la serie de Chudnovsky para calcular el valor aproximado de π."
   ]
  },
  {
   "cell_type": "code",
   "execution_count": 100,
   "metadata": {
    "collapsed": true
   },
   "outputs": [],
   "source": [
    "def suma_chud(N):\n",
    "    res = 0\n",
    "    for n in xsrange(0, N+1):\n",
    "        a = ((-1)^n * factorial(6*n))\n",
    "        b = 545140134*n + 13591409\n",
    "        c = (factorial(3*n)*(factorial(n)^3))\n",
    "        d = (640320^(3*n))\n",
    "        res = res + ((a*b)/(c*d))\n",
    "    return res"
   ]
  },
  {
   "cell_type": "code",
   "execution_count": 101,
   "metadata": {
    "collapsed": true
   },
   "outputs": [],
   "source": [
    "def lim_chud(N):\n",
    "    return ((426880*sqrt(10005))/suma_chud(N))"
   ]
  },
  {
   "cell_type": "code",
   "execution_count": 102,
   "metadata": {},
   "outputs": [
    {
     "data": {
      "text/plain": [
       "3.1415926535897932384626433832795028841971693993751058209749445923078164062862089986280348253421170679821480865132823066470938446095505822317253594081284811174502841027019385211055596446229489549303819644288109756659334461284756482337867831652712019091456485669234603486104543266482133936072602491412737245870066063155881748815209209628292540917153643678925903600113305305488204665213841469519415116094330572703657595919530921861173819326117931051185480744623799627495673518857527248912279381830119491"
      ]
     },
     "execution_count": 102,
     "metadata": {},
     "output_type": "execute_result"
    }
   ],
   "source": [
    "lim_chud(1000).n(digits=500)"
   ]
  },
  {
   "cell_type": "code",
   "execution_count": 109,
   "metadata": {
    "collapsed": true
   },
   "outputs": [],
   "source": [
    "def n_cifras_correctas_chud(N, prec):\n",
    "    cpi = str(pi.n(digits=prec))\n",
    "    res = lim_chud(N).n(digits=prec)\n",
    "    cap = str(res)\n",
    "    \n",
    "    ncc=0\n",
    "    for i in xsrange(0, prec+1):\n",
    "        if(cpi[i] != cap[i]):\n",
    "            break\n",
    "        ncc += 1\n",
    "    return ncc"
   ]
  },
  {
   "cell_type": "code",
   "execution_count": 110,
   "metadata": {},
   "outputs": [
    {
     "data": {
      "text/plain": [
       "157"
      ]
     },
     "execution_count": 110,
     "metadata": {},
     "output_type": "execute_result"
    }
   ],
   "source": [
    "n_cifras_correctas_chud(10, 1000)"
   ]
  },
  {
   "cell_type": "code",
   "execution_count": 113,
   "metadata": {
    "collapsed": true
   },
   "outputs": [],
   "source": [
    "def lista_pares_chud(N, prec):\n",
    "    L1 = [N, N+10, N+20, N+30, N+40, N+50, N+60, N+70, N+80, N+90, N+100]\n",
    "    L2 = [0,0,0,0,0,0,0,0,0,0,0]\n",
    "    for i in xsrange(0,11):\n",
    "        L2[i] = n_cifras_correctas_chud(L1[i], prec)\n",
    "    LR = zip(L1, L2)\n",
    "    return LR"
   ]
  },
  {
   "cell_type": "code",
   "execution_count": 114,
   "metadata": {},
   "outputs": [
    {
     "data": {
      "text/plain": [
       "[(0, 15),\n",
       " (10, 157),\n",
       " (20, 298),\n",
       " (30, 441),\n",
       " (40, 582),\n",
       " (50, 724),\n",
       " (60, 866),\n",
       " (70, 1001),\n",
       " (80, 1001),\n",
       " (90, 1001),\n",
       " (100, 1001)]"
      ]
     },
     "execution_count": 114,
     "metadata": {},
     "output_type": "execute_result"
    }
   ],
   "source": [
    "L = lista_pares_chud(0, 1000)\n",
    "L"
   ]
  },
  {
   "cell_type": "markdown",
   "metadata": {},
   "source": [
    "Podemos concluir con que la serie de Chudnovsky converge mucho mas rapido a π que la serie de Ramanujan, debido a que consigue un mayor numero de cifras correctas mucho antes."
   ]
  },
  {
   "cell_type": "markdown",
   "metadata": {},
   "source": [
    "RABINOWITZ Y WAGON - Como ya hemos venido haciendo, utilizaremos la serie de Rabinowitz y Wagon para aproximar el valor de π."
   ]
  },
  {
   "cell_type": "code",
   "execution_count": 116,
   "metadata": {
    "collapsed": true
   },
   "outputs": [],
   "source": [
    "def suma_rw(N):\n",
    "    res = 0\n",
    "    for n in xsrange(0, N+1):\n",
    "        a = factorial(n)^2\n",
    "        b = 2^(n+1)\n",
    "        c = factorial(2*n+1)\n",
    "        res = res + ((a*b)/c)\n",
    "    return res"
   ]
  },
  {
   "cell_type": "code",
   "execution_count": 119,
   "metadata": {},
   "outputs": [
    {
     "data": {
      "text/plain": [
       "3.141592653589793238462643383279364936660458427026500456998497942672160248294453737543876425666412116"
      ]
     },
     "execution_count": 119,
     "metadata": {},
     "output_type": "execute_result"
    }
   ],
   "source": [
    "suma_rw(100).n(digits=100)"
   ]
  },
  {
   "cell_type": "code",
   "execution_count": 125,
   "metadata": {
    "collapsed": true
   },
   "outputs": [],
   "source": [
    "def n_cifras_correctas_rw(N, prec):\n",
    "    cpi = str(pi.n(digits=prec))\n",
    "    res = suma_rw(N).n(digits=prec)\n",
    "    cap = str(res)\n",
    "    \n",
    "    ncc=0\n",
    "    for i in xsrange(0, prec+1):\n",
    "        if(cpi[i] != cap[i]):\n",
    "            break\n",
    "        ncc += 1\n",
    "    return ncc"
   ]
  },
  {
   "cell_type": "code",
   "execution_count": 128,
   "metadata": {},
   "outputs": [
    {
     "data": {
      "text/plain": [
       "32"
      ]
     },
     "execution_count": 128,
     "metadata": {},
     "output_type": "execute_result"
    }
   ],
   "source": [
    "n_cifras_correctas_rw(100, 100)"
   ]
  },
  {
   "cell_type": "code",
   "execution_count": 132,
   "metadata": {
    "collapsed": true
   },
   "outputs": [],
   "source": [
    "def lista_pares_rw(N, prec):\n",
    "    L1 = [N, N+10, N+20, N+30, N+40, N+50, N+60, N+70, N+80, N+90, N+100, N+110, N+120, N+130, N+140, N+150, N+160, N+170, N+180, N+190, N+200]\n",
    "    L2 = [0,0,0,0,0,0,0,0,0,0,0,0,0,0,0,0,0,0,0,0,0]\n",
    "    for i in xsrange(0,21):\n",
    "        L2[i] = n_cifras_correctas_rw(L1[i], prec)\n",
    "    LR = zip(L1, L2)\n",
    "    return LR"
   ]
  },
  {
   "cell_type": "code",
   "execution_count": 133,
   "metadata": {},
   "outputs": [
    {
     "data": {
      "text/plain": [
       "[(0, 0),\n",
       " (10, 5),\n",
       " (20, 8),\n",
       " (30, 11),\n",
       " (40, 14),\n",
       " (50, 17),\n",
       " (60, 20),\n",
       " (70, 23),\n",
       " (80, 26),\n",
       " (90, 29),\n",
       " (100, 32),\n",
       " (110, 35),\n",
       " (120, 38),\n",
       " (130, 41),\n",
       " (140, 44),\n",
       " (150, 47),\n",
       " (160, 50),\n",
       " (170, 53),\n",
       " (180, 56),\n",
       " (190, 59),\n",
       " (200, 63)]"
      ]
     },
     "execution_count": 133,
     "metadata": {},
     "output_type": "execute_result"
    }
   ],
   "source": [
    "L = lista_pares_rw(0, 1000)\n",
    "L"
   ]
  },
  {
   "cell_type": "markdown",
   "metadata": {},
   "source": [
    "Despues de analizar la serie de Rabinowitz y Wagon podemos sostener que es la peor en comparacion con las series de Ramanujan y Chudnovsky."
   ]
  }
 ],
 "metadata": {
  "kernelspec": {
   "display_name": "SageMath 8.0",
   "language": "",
   "name": "sagemath"
  }
 },
 "nbformat": 4,
 "nbformat_minor": 2
}
