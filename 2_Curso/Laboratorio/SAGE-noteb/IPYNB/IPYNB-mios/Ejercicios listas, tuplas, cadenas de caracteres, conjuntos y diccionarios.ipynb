{
 "cells": [
  {
   "cell_type": "markdown",
   "metadata": {},
   "source": [
    "## ALEJANDRO SANTORUM VARELA - EJERCICIOS LISTAS, TUPLAS, CADENAS DE CARACTERES, CONJUNTOS Y DICCIONARIOS"
   ]
  },
  {
   "cell_type": "markdown",
   "metadata": {},
   "source": [
    "EJERCICIO 1 - Dada la lista $L = [3,5,6,8,10,12]$ se pide:\n",
    "a) Averiguar la posición del número 8.\n",
    "b) Cambiar el valor 8 por el 9 sin reescribir toda la lista.\n",
    "c) Intercambiar el 5 y el 9.\n",
    "d) Intercambian cada valor por el que ocupa su posición simétrica, es decir, dar la vuelta a la lista.\n",
    "e) Crear la lista resultante de concatenar a la original con el resultado anterior."
   ]
  },
  {
   "cell_type": "code",
   "execution_count": 1,
   "metadata": {},
   "outputs": [
    {
     "name": "stdout",
     "output_type": "stream",
     "text": [
      "posicion del 8: \n",
      "3\n",
      " \n",
      "Lista apartado b:\n",
      "[3, 5, 6, 9, 10, 12]\n",
      " \n",
      "Lista apartado c: \n",
      "[3, 9, 6, 5, 10, 12]\n",
      " \n",
      "Lista apartado d:\n",
      "[12, 10, 5, 6, 9, 3]\n",
      " \n",
      "Lista apartado e: \n",
      "[3, 5, 6, 8, 10, 12, 12, 10, 5, 6, 9, 3]\n"
     ]
    }
   ],
   "source": [
    "L = [3,5,6,8,10,12]\n",
    "LL = list(L)\n",
    "a = L.index(8)\n",
    "print(\"posicion del 8: \")\n",
    "print(a)\n",
    "print(\" \")\n",
    "L[a] = 9\n",
    "print(\"Lista apartado b:\")\n",
    "print(L)\n",
    "print(\" \")\n",
    "cinco = L.index(5)\n",
    "nueve = L.index(9)\n",
    "L[cinco] = 9\n",
    "L[nueve] = 5\n",
    "print(\"Lista apartado c: \")\n",
    "print(L)\n",
    "print(\" \")\n",
    "L.reverse()\n",
    "print(\"Lista apartado d:\")\n",
    "print(L)\n",
    "print(\" \")\n",
    "print(\"Lista apartado e: \")\n",
    "print(LL + L)"
   ]
  },
  {
   "cell_type": "markdown",
   "metadata": {},
   "source": [
    "EJERCICIO 2 - La orden prime_range(100, 1001) genera la lista de números primos entre 100 y 1000.\n",
    "Se pide, siendo primos=prime_range(100, 1001):\n",
    "a) Averiguar el primo que ocupa la posición central en primos.\n",
    "b) Averiguar la posición, en primos, de 331 y 631.\n",
    "c) Extraer, conociendo las posiciones anteriores, la sublista de primos entre 331 y 631 (ambos incluidos).\n",
    "d) Extraer una sublista de primos que olvide los dos centrales de cada cuatro.\n",
    "e) Extraer una sublista de primos que olvide el tercero de cada tres."
   ]
  },
  {
   "cell_type": "code",
   "execution_count": 2,
   "metadata": {},
   "outputs": [
    {
     "name": "stdout",
     "output_type": "stream",
     "text": [
      "a) Primo que ocupa la posicion central: \n",
      "509\n",
      " \n",
      "b) La posición de 331 y de 631, respectivamente es:\n",
      "(41, 89)\n",
      " \n",
      "c) Sublista desde 331 a 631: \n",
      "[331, 337, 347, 349, 353, 359, 367, 373, 379, 383, 389, 397, 401, 409, 419, 421, 431, 433, 439, 443, 449, 457, 461, 463, 467, 479, 487, 491, 499, 503, 509, 521, 523, 541, 547, 557, 563, 569, 571, 577, 587, 593, 599, 601, 607, 613, 617, 619, 631]\n",
      " \n"
     ]
    }
   ],
   "source": [
    "L = prime_range(100, 1001)\n",
    "a = len(L)\n",
    "pos = floor(a/2)\n",
    "primo_central = L[pos]\n",
    "print(\"a) Primo que ocupa la posicion central: \")\n",
    "print(primo_central)\n",
    "print(\" \")\n",
    "pos_331 = L.index(331)\n",
    "pos_631 = L.index(631)\n",
    "print(\"b) La posición de 331 y de 631, respectivamente es:\")\n",
    "print(pos_331, pos_631)\n",
    "print(\" \")\n",
    "subL = L[pos_331:pos_631+1]\n",
    "print(\"c) Sublista desde 331 a 631: \")\n",
    "print(subL)\n",
    "print(\" \")\n",
    "\n"
   ]
  },
  {
   "cell_type": "markdown",
   "metadata": {},
   "source": [
    "EJERCICIO 3 - Considérese el número $1000!$ (factorial(1000)):\n",
    "a) ¿En cuantos ceros acaba?\n",
    "b) ¿Se encuentra el número 666 entre sus subcadenas? En caso afirmativo, localizar (encontrar los índices de) todas las apariciones.\n",
    "c) Encontrar la subcadena más larga de doses consecutivos. Mostrarla con los dos dígitos que la rodean."
   ]
  },
  {
   "cell_type": "code",
   "execution_count": 3,
   "metadata": {},
   "outputs": [
    {
     "name": "stdout",
     "output_type": "stream",
     "text": [
      "a) El número de ceros que acaba es:\n",
      "249\n",
      " \n",
      "b) Sí que aparece el 666 entre sus subcadenas y estos son sus índices (menos el -1):\n",
      "123\n",
      "383\n",
      "-1\n",
      " \n",
      "c.1) El mayor número de doses consecutivos es:\n",
      "5\n",
      " \n"
     ]
    }
   ],
   "source": [
    "N = factorial(1000)\n",
    "\n",
    "#primer apartado\n",
    "L = list(factor(N))\n",
    "for a,b in L:\n",
    "    if a == 5:\n",
    "        print(\"a) El número de ceros que acaba es:\")\n",
    "        print(b)\n",
    "        print(\" \")\n",
    "        \n",
    "#segundo apartado\n",
    "C = str(N)\n",
    "a = C.find('666')\n",
    "if a != -1:\n",
    "    print(\"b) Sí que aparece el 666 entre sus subcadenas y estos son sus índices (menos el -1):\")\n",
    "    print(a)\n",
    "    while a != -1:\n",
    "        a = C.find('666', a+1)\n",
    "        print(a)\n",
    "else: \n",
    "    print(\"b) No aparece 666 entre sus subcadenas\")\n",
    "    \n",
    "print(\" \")\n",
    "\n",
    "\n",
    "#tercer apartado\n",
    "a=0                            \n",
    "cont=0\n",
    "maxi = 0\n",
    "N = factorial(1000)\n",
    "C = str(N)\n",
    "longitud = len(C)\n",
    "\n",
    "while a<longitud:          #programa 1 - calculamos el mayor número de doses consecutivos\n",
    "    if C[a] == '2':\n",
    "        cont = cont+1\n",
    "        a=a+1\n",
    "    else:\n",
    "        if cont > maxi:\n",
    "            maxi = cont\n",
    "        a=a+1\n",
    "        cont = 0\n",
    "        \n",
    "print(\"c.1) El mayor número de doses consecutivos es:\")#Esta información nos permite \n",
    "                                                    #mostrar la cadena de doses más larga\n",
    "print(maxi)\n",
    "print(\" \")"
   ]
  },
  {
   "cell_type": "code",
   "execution_count": 4,
   "metadata": {},
   "outputs": [
    {
     "name": "stdout",
     "output_type": "stream",
     "text": [
      "c.2) La cadena de doses más larga mostrada con los dígitos que la rodean es: \n",
      "0222221\n",
      " \n"
     ]
    }
   ],
   "source": [
    "#continuación del tercer apartado\n",
    "N = factorial(1000)\n",
    "C = str(N)\n",
    "a = C.find('22222') #Introducir tantos doses como el apartado c.1 anterior indica.\n",
    "print(\"c.2) La cadena de doses más larga mostrada con los dígitos que la rodean es: \")\n",
    "print(C[a-1:a+6])\n",
    "print(\" \")"
   ]
  },
  {
   "cell_type": "markdown",
   "metadata": {},
   "source": [
    "EJERCICIO 4 - Si se aplica la función sum() a una lista numérica, nos devuelve la suma de sus elementos. En particular, la composición sum(k.digits()), para un k variable entero, nos devuelve la suma de sus dígitos (en base 10).\n",
    "a) Calcular, con la composición sum(k.digits()), la suma de los dígitos del número k=factorial(1000).\n",
    "b) Calcular lo misma suma sin utilizar el método .digits(). Sugerencia: con siderar la cadena digitos='0123456789', en la que dígitos[0]='0', dígitos[1]='1', ..., dígitos[9]='9'. Sumar los elementos de la lista [j ∗( veces que aparece j en 1000!) : con j = 1,2,3,4,5,6,7,8,9.]\n"
   ]
  },
  {
   "cell_type": "code",
   "execution_count": 5,
   "metadata": {},
   "outputs": [
    {
     "name": "stdout",
     "output_type": "stream",
     "text": [
      "a) La suma de los dígitos de 1000! utilizando .digits() es:\n",
      "10539\n",
      " \n",
      "La suma total de sus dígitos por un método alternativo a .digits() es: \n",
      "10539\n",
      " \n"
     ]
    }
   ],
   "source": [
    "n = factorial(1000)\n",
    "C = str(n)\n",
    "\n",
    "#primer apartado\n",
    "sum1 = sum(n.digits())\n",
    "print(\"a) La suma de los dígitos de 1000! utilizando .digits() es:\")\n",
    "print(sum1)\n",
    "print(\" \")\n",
    "\n",
    "#segundo apartado\n",
    "a = 0\n",
    "sum2 = 0\n",
    "longitud = len(C)\n",
    "\n",
    "while a<longitud:\n",
    "    if C[a] == '1':\n",
    "        sum2 = sum2+1\n",
    "    elif C[a] == '2':\n",
    "        sum2 = sum2+2\n",
    "    elif C[a] == '3':\n",
    "        sum2 = sum2+3\n",
    "    elif C[a] == '4':\n",
    "        sum2 = sum2+4\n",
    "    elif C[a] == '5':\n",
    "        sum2 = sum2+5\n",
    "    elif C[a] == '6':\n",
    "        sum2 = sum2+6\n",
    "    elif C[a] == '7':\n",
    "        sum2 = sum2+7\n",
    "    elif C[a] == '8':\n",
    "        sum2 = sum2+8\n",
    "    elif C[a] == '9':\n",
    "        sum2 = sum2+9\n",
    "    a=a+1\n",
    "    \n",
    "print(\"La suma total de sus dígitos por un método alternativo a .digits() es: \")\n",
    "print(sum2)\n",
    "print(\" \")"
   ]
  },
  {
   "cell_type": "markdown",
   "metadata": {
    "collapsed": true
   },
   "source": [
    "EJERCICIO 5 - A partir de la cadena de caracteres texto='Omnes homines, qui sese student praestare ceteris animalibus, summa ope niti decet ne uitam silentio transeant ueluti pecora, quae natura prona atque uentri oboedientia finxit.' extraer la lista de los caracteres del alfabeto utilizados, sin repeticiones, sin distinguir mayúsculas de minúsculas y ordenada alfabéticamente. "
   ]
  },
  {
   "cell_type": "code",
   "execution_count": 6,
   "metadata": {},
   "outputs": [
    {
     "name": "stdout",
     "output_type": "stream",
     "text": [
      "lista requerida:\n",
      "['a', 'b', 'c', 'd', 'e', 'f', 'h', 'i', 'l', 'm', 'n', 'o', 'p', 'q', 'r', 's', 't', 'u', 'x']\n",
      " \n"
     ]
    }
   ],
   "source": [
    "str = 'Omnes homines, qui sese student praestare ceteris animalibus, summa ope niti decet ne uitam silentio transeant ueluti pecora, quae natura prona atque uentri oboedientia finxit'\n",
    "A = set(str)\n",
    "L = list(A)\n",
    "L.sort()\n",
    "LL = L[3:]\n",
    "print(\"lista requerida:\")\n",
    "print(LL)\n",
    "print(\" \")"
   ]
  },
  {
   "cell_type": "markdown",
   "metadata": {},
   "source": [
    "EJERCICIO 6 - Sin utilizar los métodos .divisors() ni la función max(), elabora código que, a partir de dos números a y b, calcule: a) El conjunto Diva = {k ∈N : k|a} b) El conjunto Divb = {k ∈N : k|b} c) El conjunto Diva,b = {k ∈N : k|a y k|b}."
   ]
  },
  {
   "cell_type": "code",
   "execution_count": 7,
   "metadata": {},
   "outputs": [
    {
     "name": "stdout",
     "output_type": "stream",
     "text": [
      "a) Divisores de a: \n",
      "set([1, 5, 25])\n",
      " \n",
      "b) Divisores de b: \n",
      "set([1, 2, 3, 5, 6, 10, 15, 30])\n",
      " \n",
      "c) Divisores de a y de b: \n",
      "set([1, 5])\n",
      " \n"
     ]
    }
   ],
   "source": [
    "a = 25 #es un ejemplo, puede cambiar el número\n",
    "b = 30 #es un ejemplo, puede cambiar el número\n",
    "\n",
    "Diva = set()\n",
    "Divb = set()\n",
    "Divab = set()\n",
    "\n",
    "i=1\n",
    "j=1\n",
    "k=1\n",
    "\n",
    "while i<=a:\n",
    "    if a%i == 0:\n",
    "        Diva.add(i)\n",
    "    i=i+1\n",
    "\n",
    "print(\"a) Divisores de a: \")\n",
    "print(Diva)\n",
    "print(\" \")\n",
    "\n",
    "while j<=b:\n",
    "    if b%j == 0:\n",
    "        Divb.add(j)\n",
    "    j=j+1\n",
    "\n",
    "print(\"b) Divisores de b: \")\n",
    "print(Divb)\n",
    "print(\" \")\n",
    "\n",
    "if a<=b:\n",
    "    minimo = a\n",
    "else:\n",
    "    minimo = b\n",
    "    \n",
    "while k<=minimo:\n",
    "    if (a%k == 0 and b%k == 0):\n",
    "        Divab.add(k)\n",
    "    k=k+1\n",
    "\n",
    "print(\"c) Divisores de a y de b: \")\n",
    "print(Divab)\n",
    "print(\" \")"
   ]
  },
  {
   "cell_type": "markdown",
   "metadata": {
    "collapsed": true
   },
   "source": [
    "EJERCICIO 7 - El mínimo común múltiplo, m, de dos números es menor o igual que su producto $m<=a*b$. Sin utilizar la función min(), elabora el código que, a partir de dos números a y b, calcule:\n",
    "a) El conjunto $Mult_{a(b)} = \\left\\{k \\in \\mathbb{N} : a|k\\space y \\space k<a*b\\right\\}$\n",
    "b) El conjunto $Mult_{b(a)} = \\left\\{k \\in \\mathbb{N} : b|k\\space y \\space k<a*b\\right\\}$\n",
    "c) El conjunto $Mult_{a,b} = \\left\\{k \\in \\mathbb{N} : a|k , b|k\\space y \\space k<a*b\\right\\}$"
   ]
  },
  {
   "cell_type": "code",
   "execution_count": 8,
   "metadata": {},
   "outputs": [
    {
     "name": "stdout",
     "output_type": "stream",
     "text": [
      "a)\n",
      "Conjunto MultA(B): \n",
      "set([10, 5, 15])\n",
      "Mínimo de MultA(B): \n",
      "5\n",
      " \n",
      "b)\n",
      "Conjunto MultB(A): \n",
      "set([9, 3, 12, 6, 15])\n",
      "Mínimo de MultB(A): \n",
      "3\n",
      " \n",
      "c)\n",
      "Conjunto MultA,B: \n",
      "set([15])\n",
      "Mínimo de MultA,B: \n",
      "15\n",
      " \n"
     ]
    }
   ],
   "source": [
    "a = 5 #es un ejemplo, puede cambiar el número\n",
    "b = 3 #es un ejemplo, puede cambiar el número\n",
    "\n",
    "Mult1 = set()\n",
    "Mult2 = set()\n",
    "Mult3 = set()\n",
    "\n",
    "i=1\n",
    "j=1\n",
    "k=1\n",
    "\n",
    "while i<=a*b:\n",
    "    if i%a == 0:\n",
    "        Mult1.add(i)\n",
    "    i=i+1\n",
    "\n",
    "A=list(Mult1)\n",
    "A.sort()\n",
    "mina = A[0]\n",
    "AA = set(A)\n",
    "print(\"a)\")\n",
    "print(\"Conjunto MultA(B): \")\n",
    "print(AA)\n",
    "print(\"Mínimo de MultA(B): \")\n",
    "print(mina)\n",
    "print(\" \")\n",
    "\n",
    "while j<=a*b:\n",
    "    if j%b == 0:\n",
    "        Mult2.add(j)\n",
    "    j=j+1\n",
    "    \n",
    "B=list(Mult2)\n",
    "B.sort()\n",
    "minb = B[0]\n",
    "BB = set(B)\n",
    "print(\"b)\")\n",
    "print(\"Conjunto MultB(A): \")\n",
    "print(BB)\n",
    "print(\"Mínimo de MultB(A): \")\n",
    "print(minb)\n",
    "print(\" \")\n",
    "\n",
    "while k<=a*b:\n",
    "    if (k%a == 0 and k%b == 0):\n",
    "        Mult3.add(k)\n",
    "    k=k+1\n",
    "    \n",
    "C=list(Mult3)\n",
    "C.sort()\n",
    "minc = C[0]\n",
    "CC = set(C)\n",
    "print(\"c)\")\n",
    "print(\"Conjunto MultA,B: \")\n",
    "print(CC)\n",
    "print(\"Mínimo de MultA,B: \")\n",
    "print(minc)\n",
    "print(\" \")"
   ]
  },
  {
   "cell_type": "markdown",
   "metadata": {},
   "source": [
    "EJERCICIO 8 - Dada una lista de números enteros, construye un conjunto con los factores primos de todos los números de la lista."
   ]
  },
  {
   "cell_type": "code",
   "execution_count": 9,
   "metadata": {},
   "outputs": [
    {
     "name": "stdout",
     "output_type": "stream",
     "text": [
      "set([2, 3, 5, 7, 43, 13, 17, 19, 29, 31])\n"
     ]
    }
   ],
   "source": [
    "L = [2,3,5,6,7,8,8,10,12,20,21,25,27,403,345,45,65,54] #lista cualquiera\n",
    "l = len(L) \n",
    "\n",
    "C = set()\n",
    "\n",
    "i=0\n",
    "j=0\n",
    "while i<l:\n",
    "    a = L[i]\n",
    "    LL = list(a.factor()) #para cada elemento de la lista \n",
    "                          #hayamos su descomposición factorial\n",
    "    ll = len(LL)\n",
    "    while j<ll:\n",
    "        b=LL[j][0] #en la tupla, escogemos el factor y no su multiplicidad\n",
    "        C.add(b)\n",
    "        j=j+1\n",
    "    i=i+1\n",
    "    j=0\n",
    "\n",
    "print(C)\n"
   ]
  }
 ],
 "metadata": {
  "kernelspec": {
   "display_name": "SageMath 8.0",
   "language": "",
   "name": "sagemath"
  },
  "language_info": {
   "codemirror_mode": {
    "name": "ipython",
    "version": 2
   },
   "file_extension": ".py",
   "mimetype": "text/x-python",
   "name": "python",
   "nbconvert_exporter": "python",
   "pygments_lexer": "ipython2",
   "version": "2.7.13"
  }
 },
 "nbformat": 4,
 "nbformat_minor": 2
}
