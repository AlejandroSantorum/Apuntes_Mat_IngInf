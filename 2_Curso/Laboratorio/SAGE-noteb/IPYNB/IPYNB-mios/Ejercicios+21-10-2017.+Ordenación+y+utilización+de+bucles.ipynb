{
 "cells": [
  {
   "cell_type": "markdown",
   "metadata": {},
   "source": [
    "## ALEJANDRO SANTORUM VARELA  - Ordenación+bucles - Ejercicios 21/10/2017"
   ]
  },
  {
   "cell_type": "markdown",
   "metadata": {},
   "source": [
    "EJERCICIO DE ORDENACION UTILIZANDO INSERTSORT:"
   ]
  },
  {
   "cell_type": "code",
   "execution_count": 42,
   "metadata": {},
   "outputs": [
    {
     "name": "stdout",
     "output_type": "stream",
     "text": [
      "[1, 3, 5, 7, 8, 9, 34, 43, 45, 56, 59, 83]\n",
      " \n"
     ]
    }
   ],
   "source": [
    "def intercambiar(L, i, j):\n",
    "    if i<j and L[j]<L[i]:\n",
    "        a = L[i]\n",
    "        L[i] = L[j]\n",
    "        L[j] = a\n",
    "    return L\n",
    "\n",
    "def ordenarIS(L):\n",
    "    longitud = len(L)\n",
    "    for i in xsrange(0, longitud):\n",
    "        for j in xsrange(i+1, longitud):\n",
    "            L = intercambiar(L, i, j)\n",
    "            \n",
    "    return L\n",
    "\n",
    "\n",
    "#comprobamos que las funciones funcionan\n",
    "\n",
    "L = [8, 83, 59, 3, 5, 7, 1, 34, 43, 56, 9, 45]\n",
    "LL = list()\n",
    "\n",
    "LL = ordenarIS(L)\n",
    "print(LL)\n",
    "print(\" \")"
   ]
  },
  {
   "cell_type": "markdown",
   "metadata": {},
   "source": [
    "EJERCICIO DE ORDENACIÓN UTILIZANDO MERGESORT"
   ]
  },
  {
   "cell_type": "code",
   "execution_count": 30,
   "metadata": {},
   "outputs": [
    {
     "ename": "TypeError",
     "evalue": "object of type 'NoneType' has no len()",
     "output_type": "error",
     "traceback": [
      "\u001b[0;31m---------------------------------------------------------------------------\u001b[0m",
      "\u001b[0;31mTypeError\u001b[0m                                 Traceback (most recent call last)",
      "\u001b[0;32m<ipython-input-30-67667e53edcc>\u001b[0m in \u001b[0;36m<module>\u001b[0;34m()\u001b[0m\n\u001b[1;32m     46\u001b[0m \u001b[0mLL\u001b[0m \u001b[0;34m=\u001b[0m \u001b[0mlist\u001b[0m\u001b[0;34m(\u001b[0m\u001b[0;34m)\u001b[0m\u001b[0;34m\u001b[0m\u001b[0m\n\u001b[1;32m     47\u001b[0m \u001b[0;34m\u001b[0m\u001b[0m\n\u001b[0;32m---> 48\u001b[0;31m \u001b[0mLL\u001b[0m \u001b[0;34m=\u001b[0m \u001b[0mordenarMS\u001b[0m\u001b[0;34m(\u001b[0m\u001b[0mL\u001b[0m\u001b[0;34m)\u001b[0m\u001b[0;34m\u001b[0m\u001b[0m\n\u001b[0m\u001b[1;32m     49\u001b[0m \u001b[0;32mprint\u001b[0m\u001b[0;34m(\u001b[0m\u001b[0mLL\u001b[0m\u001b[0;34m)\u001b[0m\u001b[0;34m\u001b[0m\u001b[0m\n\u001b[1;32m     50\u001b[0m \u001b[0;32mprint\u001b[0m\u001b[0;34m(\u001b[0m\u001b[0;34m\" \"\u001b[0m\u001b[0;34m)\u001b[0m\u001b[0;34m\u001b[0m\u001b[0m\n",
      "\u001b[0;32m<ipython-input-30-67667e53edcc>\u001b[0m in \u001b[0;36mordenarMS\u001b[0;34m(L)\u001b[0m\n\u001b[1;32m     35\u001b[0m         \u001b[0mL2\u001b[0m\u001b[0;34m.\u001b[0m\u001b[0mappend\u001b[0m\u001b[0;34m(\u001b[0m\u001b[0mb\u001b[0m\u001b[0;34m)\u001b[0m\u001b[0;34m\u001b[0m\u001b[0m\n\u001b[1;32m     36\u001b[0m \u001b[0;34m\u001b[0m\u001b[0m\n\u001b[0;32m---> 37\u001b[0;31m     \u001b[0mL3\u001b[0m \u001b[0;34m=\u001b[0m \u001b[0mordenarMS\u001b[0m\u001b[0;34m(\u001b[0m\u001b[0mL1\u001b[0m\u001b[0;34m)\u001b[0m\u001b[0;34m\u001b[0m\u001b[0m\n\u001b[0m\u001b[1;32m     38\u001b[0m     \u001b[0mL4\u001b[0m \u001b[0;34m=\u001b[0m \u001b[0mordenarMS\u001b[0m\u001b[0;34m(\u001b[0m\u001b[0mL2\u001b[0m\u001b[0;34m)\u001b[0m\u001b[0;34m\u001b[0m\u001b[0m\n\u001b[1;32m     39\u001b[0m \u001b[0;34m\u001b[0m\u001b[0m\n",
      "\u001b[0;32m<ipython-input-30-67667e53edcc>\u001b[0m in \u001b[0;36mordenarMS\u001b[0;34m(L)\u001b[0m\n\u001b[1;32m     38\u001b[0m     \u001b[0mL4\u001b[0m \u001b[0;34m=\u001b[0m \u001b[0mordenarMS\u001b[0m\u001b[0;34m(\u001b[0m\u001b[0mL2\u001b[0m\u001b[0;34m)\u001b[0m\u001b[0;34m\u001b[0m\u001b[0m\n\u001b[1;32m     39\u001b[0m \u001b[0;34m\u001b[0m\u001b[0m\n\u001b[0;32m---> 40\u001b[0;31m     \u001b[0;32mreturn\u001b[0m \u001b[0mintercalar\u001b[0m\u001b[0;34m(\u001b[0m\u001b[0;34m[\u001b[0m\u001b[0;34m]\u001b[0m\u001b[0;34m,\u001b[0m \u001b[0mL3\u001b[0m\u001b[0;34m,\u001b[0m \u001b[0mL4\u001b[0m\u001b[0;34m)\u001b[0m\u001b[0;34m\u001b[0m\u001b[0m\n\u001b[0m\u001b[1;32m     41\u001b[0m \u001b[0;34m\u001b[0m\u001b[0m\n\u001b[1;32m     42\u001b[0m \u001b[0;34m\u001b[0m\u001b[0m\n",
      "\u001b[0;32m<ipython-input-30-67667e53edcc>\u001b[0m in \u001b[0;36mintercalar\u001b[0;34m(L, L1, L2)\u001b[0m\n\u001b[1;32m      1\u001b[0m \u001b[0;32mdef\u001b[0m \u001b[0mintercalar\u001b[0m\u001b[0;34m(\u001b[0m\u001b[0mL\u001b[0m\u001b[0;34m,\u001b[0m \u001b[0mL1\u001b[0m\u001b[0;34m,\u001b[0m \u001b[0mL2\u001b[0m\u001b[0;34m)\u001b[0m\u001b[0;34m:\u001b[0m\u001b[0;34m\u001b[0m\u001b[0m\n\u001b[1;32m      2\u001b[0m     \u001b[0ml1\u001b[0m \u001b[0;34m=\u001b[0m \u001b[0mlen\u001b[0m\u001b[0;34m(\u001b[0m\u001b[0mL1\u001b[0m\u001b[0;34m)\u001b[0m\u001b[0;34m\u001b[0m\u001b[0m\n\u001b[0;32m----> 3\u001b[0;31m     \u001b[0ml2\u001b[0m \u001b[0;34m=\u001b[0m \u001b[0mlen\u001b[0m\u001b[0;34m(\u001b[0m\u001b[0mL2\u001b[0m\u001b[0;34m)\u001b[0m\u001b[0;34m\u001b[0m\u001b[0m\n\u001b[0m\u001b[1;32m      4\u001b[0m \u001b[0;34m\u001b[0m\u001b[0m\n\u001b[1;32m      5\u001b[0m     \u001b[0;32mif\u001b[0m\u001b[0;34m(\u001b[0m\u001b[0ml1\u001b[0m\u001b[0;34m==\u001b[0m\u001b[0mInteger\u001b[0m\u001b[0;34m(\u001b[0m\u001b[0;36m0\u001b[0m\u001b[0;34m)\u001b[0m \u001b[0;32mor\u001b[0m \u001b[0ml2\u001b[0m\u001b[0;34m==\u001b[0m\u001b[0mInteger\u001b[0m\u001b[0;34m(\u001b[0m\u001b[0;36m0\u001b[0m\u001b[0;34m)\u001b[0m\u001b[0;34m)\u001b[0m\u001b[0;34m:\u001b[0m \u001b[0;31m#comprobación de parada\u001b[0m\u001b[0;34m\u001b[0m\u001b[0m\n",
      "\u001b[0;31mTypeError\u001b[0m: object of type 'NoneType' has no len()"
     ]
    }
   ],
   "source": [
    "def intercalar(L, L1, L2):\n",
    "    l1 = len(L1)\n",
    "    l2 = len(L2)\n",
    "    \n",
    "    if l1==0 or l2==0: #comprobación de parada\n",
    "        return L+L1+L2\n",
    "    \n",
    "\n",
    "    if L1[0]<=L2[0]:\n",
    "        a = L1.pop(0)\n",
    "        L.append(a)\n",
    "        intercalar(L, L1, L2)\n",
    "        \n",
    "    else:\n",
    "        b = L2.pop(0)\n",
    "        L.append(b)\n",
    "        intercalar(L, L1, L2)\n",
    "        \n",
    "\n",
    "def ordenarMS(L):\n",
    "    l = len(L)\n",
    "    if l==0 or l==1:\n",
    "        return L\n",
    "    \n",
    "    L1 = list()\n",
    "    L2 = list()\n",
    "    m = floor(l/2)\n",
    "    \n",
    "    for i in xsrange(0, m):\n",
    "        a = L.pop(0)\n",
    "        L1.append(a)\n",
    "        \n",
    "    for i in xsrange(m, l):\n",
    "        b = L.pop(0)\n",
    "        L2.append(b)\n",
    "        \n",
    "    L3 = ordenarMS(L1)\n",
    "    L4 = ordenarMS(L2)\n",
    "    \n",
    "    return intercalar([], L3, L4)\n",
    "\n",
    "\n",
    "#comprobamos que las funciones funcionan\n",
    "\n",
    "L = [8,3,7,9,4,2,1]\n",
    "LL = list()\n",
    "\n",
    "LL = ordenarMS(L)\n",
    "print(LL)\n",
    "print(\" \")\n",
    "        "
   ]
  },
  {
   "cell_type": "code",
   "execution_count": 52,
   "metadata": {},
   "outputs": [
    {
     "name": "stdout",
     "output_type": "stream",
     "text": [
      "[3]\n",
      "[2]\n",
      "1\n",
      "[3]\n",
      "[]\n",
      "0\n",
      "[2, 3]\n",
      "None\n"
     ]
    }
   ],
   "source": [
    "def intercalar(L, L1, L2):\n",
    "    print(L1)\n",
    "    print(L2)\n",
    "    longitud1 = len(L1)\n",
    "    longitud2 = len(L2)\n",
    "    print(longitud2)\n",
    "    \n",
    "    if longitud1==0: #comprobación de parada\n",
    "        LLL = L+L2\n",
    "        print(LLL)\n",
    "        return LLL\n",
    "    if longitud2==0:\n",
    "        LLL = L+L1\n",
    "        print(LLL)\n",
    "        return LLL #----------------------\n",
    "\n",
    "    \n",
    "    if L1[0]<=L2[0]:\n",
    "        a = L1.pop(0)\n",
    "        L.append(a)\n",
    "        intercalar(L, L1, L2)\n",
    "        \n",
    "    else:\n",
    "        b = L2.pop(0)\n",
    "        L.append(b)\n",
    "        intercalar(L, L1, L2)\n",
    "        \n",
    "        \n",
    "#PROGRAMA        \n",
    "L1=[3]\n",
    "L2=[2]\n",
    "\n",
    "L = intercalar([], L1, L2)\n",
    "print(L)"
   ]
  },
  {
   "cell_type": "markdown",
   "metadata": {},
   "source": [
    "EJERCICIO DE ORDENACIÓN UTILIZANDO MERGESORT"
   ]
  },
  {
   "cell_type": "code",
   "execution_count": 71,
   "metadata": {},
   "outputs": [
    {
     "name": "stdout",
     "output_type": "stream",
     "text": [
      "a) Lista ordenada con 20 números aleatorios entre -100 y 100:\n",
      "[-88, -57, -54, -32, -4, 15, 26, 36, 36, 43, 51, 52, 55, 56, 57, 60, 79, 82, 82, 90]\n"
     ]
    }
   ],
   "source": [
    "def ordenarQS(L):\n",
    "    l = len(L)\n",
    "    \n",
    "    if l<=1:\n",
    "        return L\n",
    "    \n",
    "    L1 = list()\n",
    "    L2 = list()\n",
    "    L3 = list()\n",
    "    \n",
    "    pivot = L[0]\n",
    "    \n",
    "    for i in xsrange(0, l):\n",
    "        if L[i] < pivot:\n",
    "            L1.append(L[i])\n",
    "            \n",
    "        elif L[i] > pivot:\n",
    "            L2.append(L[i])\n",
    "        \n",
    "        elif L[i] == pivot:\n",
    "            L3.append(L[i])\n",
    "            \n",
    "    M1 = ordenarQS(L1)\n",
    "    M2 = ordenarQS(L2)\n",
    "    \n",
    "    LR = M1+L3+M2\n",
    "    return LR\n",
    "\n",
    "\n",
    "\n",
    "#PROGRAMA\n",
    "L = [randint(-100, 100) for i in xsrange(0, 20)]\n",
    "\n",
    "LL = ordenarQS(L)\n",
    "print(\"a) Lista ordenada con 20 números aleatorios entre -100 y 100:\")\n",
    "print(LL)\n",
    "print(\" \")\n",
    "    \n",
    "    \n",
    "    "
   ]
  },
  {
   "cell_type": "code",
   "execution_count": 87,
   "metadata": {},
   "outputs": [
    {
     "ename": "SyntaxError",
     "evalue": "invalid syntax (<ipython-input-87-a36d8574cad5>, line 33)",
     "output_type": "error",
     "traceback": [
      "\u001b[0;36m  File \u001b[0;32m\"<ipython-input-87-a36d8574cad5>\"\u001b[0;36m, line \u001b[0;32m33\u001b[0m\n\u001b[0;31m    time L.sort()\u001b[0m\n\u001b[0m         ^\u001b[0m\n\u001b[0;31mSyntaxError\u001b[0m\u001b[0;31m:\u001b[0m invalid syntax\n"
     ]
    }
   ],
   "source": [
    "def ordenarQS(L):\n",
    "    l = len(L)\n",
    "    \n",
    "    if l<=1:\n",
    "        return L\n",
    "    \n",
    "    L1 = list()\n",
    "    L2 = list()\n",
    "    L3 = list()\n",
    "    \n",
    "    pivot = L[0]\n",
    "    \n",
    "    for i in xsrange(0, l):\n",
    "        if L[i] < pivot:\n",
    "            L1.append(L[i])\n",
    "            \n",
    "        elif L[i] > pivot:\n",
    "            L2.append(L[i])\n",
    "        \n",
    "        elif L[i] == pivot:\n",
    "            L3.append(L[i])\n",
    "            \n",
    "    M1 = ordenarQS(L1)\n",
    "    M2 = ordenarQS(L2)\n",
    "    \n",
    "    LR = M1+L3+M2\n",
    "    return LR\n",
    "\n",
    "\n",
    "#programa:\n",
    "L = [randint(-1000000, 1000000) for i in xsrange(0, 100000)]\n",
    "\n",
    "time L.sort()\n"
   ]
  },
  {
   "cell_type": "code",
   "execution_count": null,
   "metadata": {
    "collapsed": true
   },
   "outputs": [],
   "source": []
  },
  {
   "cell_type": "code",
   "execution_count": null,
   "metadata": {
    "collapsed": true
   },
   "outputs": [],
   "source": []
  }
 ],
 "metadata": {
  "kernelspec": {
   "display_name": "SageMath 8.0",
   "language": "",
   "name": "sagemath"
  },
  "language_info": {
   "codemirror_mode": {
    "name": "ipython",
    "version": 2
   },
   "file_extension": ".py",
   "mimetype": "text/x-python",
   "name": "python",
   "nbconvert_exporter": "python",
   "pygments_lexer": "ipython2",
   "version": "2.7.13"
  }
 },
 "nbformat": 4,
 "nbformat_minor": 2
}
