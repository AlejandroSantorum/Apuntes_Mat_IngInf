{
 "cells": [
  {
   "cell_type": "markdown",
   "metadata": {},
   "source": [
    "# EJERCICIOS Laboratorio.pdf - Alejandro Santorum"
   ]
  },
  {
   "cell_type": "markdown",
   "metadata": {},
   "source": [
    "EJERCICIO 1 - Demuestra por inducción sobre $n \\in \\mathbb{N}$ las afirmaciones siguientes:"
   ]
  },
  {
   "cell_type": "markdown",
   "metadata": {},
   "source": [
    "1. $1^2 + 2^2 + ... + n^2 = \\frac{n(n+1)(2n+1)}{6}$"
   ]
  },
  {
   "cell_type": "code",
   "execution_count": 1,
   "metadata": {},
   "outputs": [
    {
     "data": {
      "text/plain": [
       "[True, True, True, True, True, True, True, True, True, True]"
      ]
     },
     "execution_count": 1,
     "metadata": {},
     "output_type": "execute_result"
    }
   ],
   "source": [
    "[(sum(k^2 for k in srange (1, n+1))) == ((n*(n+1)*((2*n)+1))/6)\n",
    " for n in srange(10, 20)]\n",
    "#incrementar el valor de n en el for para comprobar un mayor rango de números"
   ]
  },
  {
   "cell_type": "markdown",
   "metadata": {},
   "source": [
    "2.$\\frac{1}{1*2} + \\frac{1}{2*3} + ... + \\frac{1}{n(n+1)} = \\frac{n}{n+1} , \\forall n >= 1$"
   ]
  },
  {
   "cell_type": "code",
   "execution_count": 2,
   "metadata": {},
   "outputs": [
    {
     "data": {
      "text/plain": [
       "[True, True, True, True, True, True, True, True, True]"
      ]
     },
     "execution_count": 2,
     "metadata": {},
     "output_type": "execute_result"
    }
   ],
   "source": [
    "[(sum(1/(k*(k+1)) for k in srange (1, n+1)))  == (n/(n+1)) for n in srange(1, 10)]\n",
    "#incrementar el valor de n en el for para comprobar un mayor rango de números"
   ]
  },
  {
   "cell_type": "markdown",
   "metadata": {},
   "source": [
    "3.$1*1! + 2*2! + ... + n*n! = (n-1)! - 1$"
   ]
  },
  {
   "cell_type": "code",
   "execution_count": 3,
   "metadata": {},
   "outputs": [
    {
     "data": {
      "text/plain": [
       "[True, True, True, True, True, True, True, True, True]"
      ]
     },
     "execution_count": 3,
     "metadata": {},
     "output_type": "execute_result"
    }
   ],
   "source": [
    "[(sum(k*factorial(k) for k in srange (1, n+1))) == (factorial(n+1) - 1)\n",
    " for n in srange (1, 10)]\n",
    "#incrementar el valor de n en el for para comprobar un mayor rango de números"
   ]
  },
  {
   "cell_type": "markdown",
   "metadata": {},
   "source": [
    "4.$\\frac{1}{2} + \\frac{2}{2^2} + \\frac{3}{2^3} + ... + \\frac{n}{2^n} = 2 - \\frac{n+2}{2^n}$"
   ]
  },
  {
   "cell_type": "code",
   "execution_count": 4,
   "metadata": {},
   "outputs": [
    {
     "data": {
      "text/plain": [
       "[True, True, True, True, True, True, True, True, True]"
      ]
     },
     "execution_count": 4,
     "metadata": {},
     "output_type": "execute_result"
    }
   ],
   "source": [
    "[(sum(k/(2^k) for k in srange (1, n+1))) == (2-((n+2)/(2^n)))\n",
    " for n in srange (1, 10)]\n",
    "#incrementar el valor de n en el for para comprobar un mayor rango de números"
   ]
  },
  {
   "cell_type": "markdown",
   "metadata": {},
   "source": [
    "5.$(1+q)(1+q^2)(1+q^4) ... (1+q^{2^n}) = \\frac{1-q^{2^{n+1}}}{1-q}$"
   ]
  },
  {
   "cell_type": "code",
   "execution_count": 5,
   "metadata": {
    "scrolled": true
   },
   "outputs": [
    {
     "data": {
      "text/plain": [
       "[True, True, True, True, True, True, True, True, True, True, True, True]"
      ]
     },
     "execution_count": 5,
     "metadata": {},
     "output_type": "execute_result"
    }
   ],
   "source": [
    "[(mul(1+(q^(2^k)) for k in srange(0,n+1))) == ((1-(q^(2^(n+1))))/(1-q))\n",
    " for n in srange (1, 5) for q in srange (2, 5)]\n",
    "#incrementar el valor de n y el de q(NUNCA IGUAL A 1)\n",
    "#para comprobar un mayor rango de números"
   ]
  },
  {
   "cell_type": "markdown",
   "metadata": {},
   "source": [
    "EJERCICIO 3 - Demostrar por inducción la fórmula para la suma de los n primeros cubos: $$1^3 + 2^3 + ... + n^3 = \\frac{(n+1)^2n^2}{4}$$"
   ]
  },
  {
   "cell_type": "code",
   "execution_count": 6,
   "metadata": {},
   "outputs": [
    {
     "data": {
      "text/plain": [
       "[True, True, True, True, True, True, True, True, True]"
      ]
     },
     "execution_count": 6,
     "metadata": {},
     "output_type": "execute_result"
    }
   ],
   "source": [
    "[(sum(k^3 for k in srange(1, n+1))) == ((((n+1)^2)*(n^2))/4) for n in srange (1,10)]\n",
    "#incrementar el valor de n en el for para comprobar un mayor rango de números"
   ]
  },
  {
   "cell_type": "markdown",
   "metadata": {},
   "source": [
    "EJERCICIO 4 - Estudiar el límite de las siguientes sucesiones:"
   ]
  },
  {
   "cell_type": "markdown",
   "metadata": {},
   "source": [
    "a) $\\left\\lbrace\\frac{n^2}{n+2}\\right\\rbrace$"
   ]
  },
  {
   "cell_type": "code",
   "execution_count": 7,
   "metadata": {},
   "outputs": [
    {
     "data": {
      "text/plain": [
       "n |--> +Infinity"
      ]
     },
     "execution_count": 7,
     "metadata": {},
     "output_type": "execute_result"
    }
   ],
   "source": [
    "var('n')\n",
    "l(n) = (n^2)/(n+2)\n",
    "l.limit(n = infinity)"
   ]
  },
  {
   "cell_type": "markdown",
   "metadata": {},
   "source": [
    "b) $\\left\\lbrace\\frac{n^3}{n^3 + 2n + 1}\\right\\rbrace$"
   ]
  },
  {
   "cell_type": "code",
   "execution_count": 8,
   "metadata": {},
   "outputs": [
    {
     "data": {
      "text/plain": [
       "n |--> 1"
      ]
     },
     "execution_count": 8,
     "metadata": {},
     "output_type": "execute_result"
    }
   ],
   "source": [
    "var('n')\n",
    "l(n) = (n^3)/(n^3 + 2*n + 1)\n",
    "l.limit(n = infinity)"
   ]
  },
  {
   "cell_type": "markdown",
   "metadata": {
    "collapsed": true
   },
   "source": [
    "c) $\\left\\lbrace\\frac{n}{n^2 - n -4}\\right\\rbrace$"
   ]
  },
  {
   "cell_type": "code",
   "execution_count": 9,
   "metadata": {},
   "outputs": [
    {
     "data": {
      "text/plain": [
       "n |--> 0"
      ]
     },
     "execution_count": 9,
     "metadata": {},
     "output_type": "execute_result"
    }
   ],
   "source": [
    "var('n')\n",
    "l(n)=(n)/(n^2 -n -4)\n",
    "l.limit(n = infinity)"
   ]
  },
  {
   "cell_type": "markdown",
   "metadata": {},
   "source": [
    "d) $\\left\\lbrace\\frac{\\sqrt{2n^2-1}}{n + 2}\\right\\rbrace$"
   ]
  },
  {
   "cell_type": "code",
   "execution_count": 10,
   "metadata": {},
   "outputs": [
    {
     "data": {
      "text/plain": [
       "n |--> sqrt(2)"
      ]
     },
     "execution_count": 10,
     "metadata": {},
     "output_type": "execute_result"
    }
   ],
   "source": [
    "var('n')\n",
    "l(n)=(sqrt(2*(n^2)-1))/(n+2)\n",
    "l.limit(n = infinity)"
   ]
  },
  {
   "cell_type": "markdown",
   "metadata": {},
   "source": [
    "e) $\\left\\lbrace\\frac{\\sqrt{n^3+2n}+n}{n^2 + 2}\\right\\rbrace$"
   ]
  },
  {
   "cell_type": "code",
   "execution_count": 11,
   "metadata": {},
   "outputs": [
    {
     "data": {
      "text/plain": [
       "n |--> 0"
      ]
     },
     "execution_count": 11,
     "metadata": {},
     "output_type": "execute_result"
    }
   ],
   "source": [
    "var('n')\n",
    "l(n)=(sqrt(n^3+2*n)+n)/(n^2+2)\n",
    "l.limit(n = infinity)"
   ]
  },
  {
   "cell_type": "markdown",
   "metadata": {},
   "source": [
    "f) $\\left\\lbrace\\frac{\\sqrt{n+1}+n^2}{\\sqrt{n + 2}}\\right\\rbrace$"
   ]
  },
  {
   "cell_type": "code",
   "execution_count": 12,
   "metadata": {},
   "outputs": [
    {
     "data": {
      "text/plain": [
       "n |--> +Infinity"
      ]
     },
     "execution_count": 12,
     "metadata": {},
     "output_type": "execute_result"
    }
   ],
   "source": [
    "var('n')\n",
    "l(n)=(sqrt(n+1)+n^2)/(sqrt(n+2))\n",
    "l.limit(n = infinity)"
   ]
  },
  {
   "cell_type": "markdown",
   "metadata": {},
   "source": [
    "g) $\\left\\lbrace\\frac{(-1)^nn^2}{n^2+2}\\right\\rbrace$"
   ]
  },
  {
   "cell_type": "code",
   "execution_count": 13,
   "metadata": {},
   "outputs": [
    {
     "data": {
      "text/plain": [
       "n |--> ind"
      ]
     },
     "execution_count": 13,
     "metadata": {},
     "output_type": "execute_result"
    }
   ],
   "source": [
    "var('n')\n",
    "l(n)=(((-1)^n)*n^2)/(n^2+2)\n",
    "l.limit(n = infinity)"
   ]
  },
  {
   "cell_type": "markdown",
   "metadata": {},
   "source": [
    "h) $\\left\\lbrace\\frac{n+(-1)^n}{n}\\right\\rbrace$"
   ]
  },
  {
   "cell_type": "code",
   "execution_count": 14,
   "metadata": {},
   "outputs": [
    {
     "data": {
      "text/plain": [
       "n |--> 1"
      ]
     },
     "execution_count": 14,
     "metadata": {},
     "output_type": "execute_result"
    }
   ],
   "source": [
    "var('n')\n",
    "l(n)=(n+(-1)^n)/(n)\n",
    "l.limit(n = infinity)"
   ]
  },
  {
   "cell_type": "markdown",
   "metadata": {},
   "source": [
    "i) $\\left\\lbrace(\\frac{2}{3})^n\\right\\rbrace$"
   ]
  },
  {
   "cell_type": "code",
   "execution_count": 15,
   "metadata": {},
   "outputs": [
    {
     "data": {
      "text/plain": [
       "n |--> 0"
      ]
     },
     "execution_count": 15,
     "metadata": {},
     "output_type": "execute_result"
    }
   ],
   "source": [
    "var('n')\n",
    "l(n)=(2/3)^n\n",
    "l.limit(n = infinity)"
   ]
  },
  {
   "cell_type": "markdown",
   "metadata": {},
   "source": [
    "j) $\\left\\lbrace(\\frac{5}{3}^n)\\right\\rbrace$"
   ]
  },
  {
   "cell_type": "code",
   "execution_count": 16,
   "metadata": {},
   "outputs": [
    {
     "data": {
      "text/plain": [
       "n |--> +Infinity"
      ]
     },
     "execution_count": 16,
     "metadata": {},
     "output_type": "execute_result"
    }
   ],
   "source": [
    "var('n')\n",
    "l(n)=(5/3)^n\n",
    "l.limit(n = infinity)"
   ]
  },
  {
   "cell_type": "markdown",
   "metadata": {},
   "source": [
    "k) $\\left\\lbrace\\frac{2^n}{4^n+1}\\right\\rbrace$"
   ]
  },
  {
   "cell_type": "code",
   "execution_count": 17,
   "metadata": {},
   "outputs": [
    {
     "data": {
      "text/plain": [
       "n |--> 0"
      ]
     },
     "execution_count": 17,
     "metadata": {},
     "output_type": "execute_result"
    }
   ],
   "source": [
    "var('n')\n",
    "l(n) = (2^n)/(4^n+1)\n",
    "l.limit(n = infinity)"
   ]
  },
  {
   "cell_type": "markdown",
   "metadata": {},
   "source": [
    "l) $\\left\\lbrace\\frac{3^n+(-2)^n}{3^{n+1}+(-2)^{n+1}}\\right\\rbrace$"
   ]
  },
  {
   "cell_type": "code",
   "execution_count": 18,
   "metadata": {},
   "outputs": [
    {
     "data": {
      "text/plain": [
       "n |--> 1/3"
      ]
     },
     "execution_count": 18,
     "metadata": {},
     "output_type": "execute_result"
    }
   ],
   "source": [
    "var('n')\n",
    "l(n) = (3^n+(-2)^n)/(3^(n+1)+(-2)^(n+1))\n",
    "l.limit(n = infinity)"
   ]
  },
  {
   "cell_type": "markdown",
   "metadata": {},
   "source": [
    "m) $\\left\\lbrace\\frac{n}{n+1}-\\frac{n+1}{n}\\right\\rbrace$"
   ]
  },
  {
   "cell_type": "code",
   "execution_count": 19,
   "metadata": {},
   "outputs": [
    {
     "data": {
      "text/plain": [
       "n |--> 0"
      ]
     },
     "execution_count": 19,
     "metadata": {},
     "output_type": "execute_result"
    }
   ],
   "source": [
    "var('n')\n",
    "l(n) = ((n)/(n + 1) - (n+1)/n)\n",
    "l.limit(n = infinity)"
   ]
  },
  {
   "cell_type": "markdown",
   "metadata": {},
   "source": [
    "n) $\\left\\lbrace\\sqrt{n+1}-\\sqrt{n}\\right\\rbrace$"
   ]
  },
  {
   "cell_type": "code",
   "execution_count": 20,
   "metadata": {},
   "outputs": [
    {
     "data": {
      "text/plain": [
       "n |--> 0"
      ]
     },
     "execution_count": 20,
     "metadata": {},
     "output_type": "execute_result"
    }
   ],
   "source": [
    "var('n')\n",
    "l(n) = (sqrt(n+1)-sqrt(n))\n",
    "l.limit(n = infinity)"
   ]
  },
  {
   "cell_type": "markdown",
   "metadata": {},
   "source": [
    "ñ) $\\left\\lbrace\\frac{1}{n^2}+\\frac{2}{n^2}+...+\\frac{n}{n^2}\\right\\rbrace$"
   ]
  },
  {
   "cell_type": "markdown",
   "metadata": {},
   "source": [
    "EJERCICIO 5 - Calcular, si existen, los límites de las sucesiones que tienen como término general:"
   ]
  },
  {
   "cell_type": "markdown",
   "metadata": {
    "collapsed": true
   },
   "source": [
    "a) $a_{n} = (\\frac{n^2+1}{n^2})^{2n^2-3}$"
   ]
  },
  {
   "cell_type": "code",
   "execution_count": 21,
   "metadata": {},
   "outputs": [
    {
     "data": {
      "text/plain": [
       "n |--> 0"
      ]
     },
     "execution_count": 21,
     "metadata": {},
     "output_type": "execute_result"
    }
   ],
   "source": [
    "var('n')\n",
    "l(n) = ((n^2+1)/(n^2)^(2*n^2-3))\n",
    "l.limit(n = infinity)"
   ]
  },
  {
   "cell_type": "markdown",
   "metadata": {},
   "source": [
    "b) $b_{n} = (\\frac{n^2-1}{n^2})^{2n^2-3}$"
   ]
  },
  {
   "cell_type": "code",
   "execution_count": 22,
   "metadata": {},
   "outputs": [
    {
     "data": {
      "text/plain": [
       "n |--> 0"
      ]
     },
     "execution_count": 22,
     "metadata": {},
     "output_type": "execute_result"
    }
   ],
   "source": [
    "var('n')\n",
    "l(n) = ((n^2-1)/(n^2)^(2*n^2-3))\n",
    "l.limit(n = infinity)"
   ]
  },
  {
   "cell_type": "markdown",
   "metadata": {},
   "source": [
    "c) $c_{n} = a_{n}+\\frac{1}{b_{n}}$"
   ]
  },
  {
   "cell_type": "code",
   "execution_count": 23,
   "metadata": {},
   "outputs": [
    {
     "data": {
      "text/plain": [
       "n |--> +Infinity"
      ]
     },
     "execution_count": 23,
     "metadata": {},
     "output_type": "execute_result"
    }
   ],
   "source": [
    "var('n')\n",
    "f(n) = ((n^2+1)/(n^2)^(2*n^2-3))\n",
    "g(n) = ((n^2-1)/(n^2)^(2*n^2-3))\n",
    "l(n) = f(n)+(1/g(n))\n",
    "l.limit(n = infinity)"
   ]
  }
 ],
 "metadata": {
  "kernelspec": {
   "display_name": "SageMath 8.0",
   "language": "",
   "name": "sagemath"
  },
  "language_info": {
   "codemirror_mode": {
    "name": "ipython",
    "version": 2
   },
   "file_extension": ".py",
   "mimetype": "text/x-python",
   "name": "python",
   "nbconvert_exporter": "python",
   "pygments_lexer": "ipython2",
   "version": "2.7.13"
  }
 },
 "nbformat": 4,
 "nbformat_minor": 2
}
