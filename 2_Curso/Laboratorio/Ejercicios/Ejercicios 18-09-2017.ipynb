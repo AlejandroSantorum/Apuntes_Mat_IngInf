{
 "cells": [
  {
   "cell_type": "markdown",
   "metadata": {},
   "source": [
    "## ALEJANDRO SANTORUM VARELA - Ejercicios 18/09/2017"
   ]
  },
  {
   "cell_type": "markdown",
   "metadata": {},
   "source": [
    "¿Es cierto que si tenemos 3 enteros, x, y, z, tales que x^2 + y^2 = z^2 NO es posible que ambos x e y sean impares?"
   ]
  },
  {
   "cell_type": "code",
   "execution_count": 1,
   "metadata": {},
   "outputs": [
    {
     "data": {
      "text/plain": [
       "[]"
      ]
     },
     "execution_count": 1,
     "metadata": {},
     "output_type": "execute_result"
    }
   ],
   "source": [
    "[(x,y) for x in srange(1,100) for y in srange(1,100) if is_square(x^2+y^2) and (x%2==1 and y%2==1)]\n",
    "#La salida será una lista vacía sea cual sea el renga de x e y."
   ]
  },
  {
   "cell_type": "markdown",
   "metadata": {},
   "source": [
    "¿Es cierto que siempre el producto x*y*z de tales enteros es múltiplo de 60?"
   ]
  },
  {
   "cell_type": "code",
   "execution_count": 8,
   "metadata": {},
   "outputs": [
    {
     "data": {
      "text/plain": [
       "[True, True, True, True]"
      ]
     },
     "execution_count": 8,
     "metadata": {},
     "output_type": "execute_result"
    }
   ],
   "source": [
    "[((x*y*(x^2+y^2))%60 == 0) for x in srange(1,10) for y in srange(1,10) if is_square(x^2+y^2)]\n",
    "#Aumente los rangos para una lista mayor, pero sin ni un solo False."
   ]
  },
  {
   "cell_type": "markdown",
   "metadata": {},
   "source": [
    "EJERCICIO 1 - ¿Qué enteros primos p se pueden representar como la suma de dos cuadrados de enteros? "
   ]
  },
  {
   "cell_type": "code",
   "execution_count": 26,
   "metadata": {},
   "outputs": [
    {
     "data": {
      "text/plain": [
       "[2,\n",
       " 5,\n",
       " 17,\n",
       " 37,\n",
       " 5,\n",
       " 13,\n",
       " 29,\n",
       " 53,\n",
       " 13,\n",
       " 73,\n",
       " 17,\n",
       " 41,\n",
       " 97,\n",
       " 29,\n",
       " 41,\n",
       " 61,\n",
       " 89,\n",
       " 37,\n",
       " 61,\n",
       " 53,\n",
       " 113,\n",
       " 73,\n",
       " 89,\n",
       " 113,\n",
       " 97]"
      ]
     },
     "execution_count": 26,
     "metadata": {},
     "output_type": "execute_result"
    }
   ],
   "source": [
    "[(x^2 + y^2) for x in srange(1,10) for y in srange(1,10) if is_prime(x^2 + y^2)]\n",
    "#Aumente los rangos de x e y para obtener una salida con más datos (mayor tiempo de procesamiento)."
   ]
  },
  {
   "cell_type": "markdown",
   "metadata": {},
   "source": [
    "EJERCICIO 2 - ¿Cuántos ceros hay al final, por la derecha, en 100! (factorial de cien)?¿Y en 365!?"
   ]
  },
  {
   "cell_type": "code",
   "execution_count": 21,
   "metadata": {},
   "outputs": [
    {
     "name": "stdout",
     "output_type": "stream",
     "text": [
      "24\n"
     ]
    }
   ],
   "source": [
    "n = factorial(100) #cambiar 100 por 365 y el resultado será 89\n",
    "k = 0\n",
    "while(n%(5^k) == 0): #mientras la división de nuestro factorial entre 5 tenga como resto 0 nuestro contador se incrementará \n",
    "    k = k+1\n",
    "print(k-1) "
   ]
  },
  {
   "cell_type": "markdown",
   "metadata": {},
   "source": [
    "EJERCICIO 3 - ¿Es cierto que la suma 1! + 2! + 3! + ... + n! no puede ser un cuadrado si n>=4?"
   ]
  },
  {
   "cell_type": "code",
   "execution_count": 20,
   "metadata": {},
   "outputs": [
    {
     "data": {
      "text/plain": [
       "[]"
      ]
     },
     "execution_count": 20,
     "metadata": {},
     "output_type": "execute_result"
    }
   ],
   "source": [
    "[sum(factorial(k) for k in srange (1,n+1)) for n in srange (4,100) if is_square(sum(factorial(k) for k in srange (1,n+1)))]\n",
    "#La salida será una lista vacía sea cual sea el rango de n."
   ]
  },
  {
   "cell_type": "markdown",
   "metadata": {},
   "source": [
    "EJERCICIO 4.1 - ¿Existen grupos de K enteros positivos consecutivos cuya suma sea una potencia de 2?"
   ]
  },
  {
   "cell_type": "code",
   "execution_count": 22,
   "metadata": {},
   "outputs": [
    {
     "data": {
      "text/plain": [
       "[[1], [2], [4], [8], [16], [32], [64], [128], [256], [512]]"
      ]
     },
     "execution_count": 22,
     "metadata": {},
     "output_type": "execute_result"
    }
   ],
   "source": [
    "[[n+i for i in srange (0, m)] for n in srange (1, 1000) for m in srange (1, 10) if is_power_of_two(sum([n+i for i in srange (0, m)]))]"
   ]
  },
  {
   "cell_type": "markdown",
   "metadata": {},
   "source": [
    "EJERCICIO 4.2 - ¿Y si permitimos que sean enteros positivos o negativos?"
   ]
  },
  {
   "cell_type": "code",
   "execution_count": 25,
   "metadata": {},
   "outputs": [
    {
     "data": {
      "text/plain": [
       "[[-7, -6, -5, -4, -3, -2, -1, 0, 1, 2, 3, 4, 5, 6, 7, 8],\n",
       " [-3, -2, -1, 0, 1, 2, 3, 4],\n",
       " [-1, 0, 1, 2],\n",
       " [0, 1],\n",
       " [1],\n",
       " [2],\n",
       " [4],\n",
       " [8],\n",
       " [16],\n",
       " [32],\n",
       " [64],\n",
       " [128],\n",
       " [256],\n",
       " [512]]"
      ]
     },
     "execution_count": 25,
     "metadata": {},
     "output_type": "execute_result"
    }
   ],
   "source": [
    "[[n+i for i in srange (0, m)] for n in srange (-1000, 1000) for m in srange (1, 20) if is_power_of_two(sum([n+i for i in srange (0, m)]))]\n"
   ]
  }
 ],
 "metadata": {
  "kernelspec": {
   "display_name": "SageMath 8.0",
   "language": "",
   "name": "sagemath"
  },
  "language_info": {
   "codemirror_mode": {
    "name": "ipython",
    "version": 2
   },
   "file_extension": ".py",
   "mimetype": "text/x-python",
   "name": "python",
   "nbconvert_exporter": "python",
   "pygments_lexer": "ipython2",
   "version": "2.7.13"
  }
 },
 "nbformat": 4,
 "nbformat_minor": 2
}
