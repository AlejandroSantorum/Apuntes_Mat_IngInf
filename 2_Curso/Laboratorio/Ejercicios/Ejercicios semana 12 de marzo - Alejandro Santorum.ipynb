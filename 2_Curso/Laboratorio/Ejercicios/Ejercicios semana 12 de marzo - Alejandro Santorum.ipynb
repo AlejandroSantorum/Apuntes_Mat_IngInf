{
 "cells": [
  {
   "cell_type": "markdown",
   "metadata": {},
   "source": [
    "<h1>Alejandro Santorum Varela - 17/03/2018</h1>"
   ]
  },
  {
   "cell_type": "markdown",
   "metadata": {},
   "source": [
    "<h1>EJERCICIO 1</h1>"
   ]
  },
  {
   "cell_type": "markdown",
   "metadata": {},
   "source": [
    "<b> Apartado 1</b>"
   ]
  },
  {
   "cell_type": "markdown",
   "metadata": {},
   "source": [
    "Programamos una funcion que escoge un numero al azar entre 0 y 1. Después si x es menor que <b>prob0</b> (la probabilidad que le hemos asignado al cero) la funcion devuelve cero, y uno en el caso contrario. Por lo tanto hay una probabilidad <b>prob0</b> de que salga <b>0</b> y <b>1 - prob0</b> de que sea <b>1</b>"
   ]
  },
  {
   "cell_type": "code",
   "execution_count": 25,
   "metadata": {
    "collapsed": true
   },
   "outputs": [],
   "source": [
    "def moneda_trucada(prob0):\n",
    "    x = random()\n",
    "    if x <= prob0:\n",
    "        return 0\n",
    "    else:\n",
    "        return 1"
   ]
  },
  {
   "cell_type": "code",
   "execution_count": 26,
   "metadata": {},
   "outputs": [
    {
     "data": {
      "text/plain": [
       "66520"
      ]
     },
     "execution_count": 26,
     "metadata": {},
     "output_type": "execute_result"
    }
   ],
   "source": [
    "([moneda_trucada(1/3) for n in srange(10**5)]).count(1)"
   ]
  },
  {
   "cell_type": "markdown",
   "metadata": {},
   "source": [
    "Se puede ver que de 10000 lanzamientos se han obtenido 66520 unos, que es prácticamente 2/3 de 10000, como cabía esperar porque le hemos asignado una probabilidad de 1/3 al cero."
   ]
  },
  {
   "cell_type": "markdown",
   "metadata": {},
   "source": [
    "A continuacion programamos una funcion que recibe el número de lanzamientos a realizar (número de veces que se llama a la función anterior) y la probabilidad de que el lanzamiento de como resultado 0 (y 1-prob0 como resultado 1)."
   ]
  },
  {
   "cell_type": "code",
   "execution_count": 27,
   "metadata": {
    "collapsed": true
   },
   "outputs": [],
   "source": [
    "def lanzamientos(nLanza, prob0):\n",
    "    count = 0;\n",
    "    for i in xsrange(0, nLanza):\n",
    "        if moneda_trucada(prob0)==0:\n",
    "            count += 1\n",
    "    return count"
   ]
  },
  {
   "cell_type": "code",
   "execution_count": 28,
   "metadata": {},
   "outputs": [
    {
     "name": "stdout",
     "output_type": "stream",
     "text": [
      "99.8830000000000\n"
     ]
    }
   ],
   "source": [
    "L = [lanzamientos(1000, 1/10) for i in xsrange(1000)]\n",
    "media = sum(L)/len(L)\n",
    "print media.n()"
   ]
  },
  {
   "cell_type": "markdown",
   "metadata": {},
   "source": [
    "Hemos realizado 1000 lanzamientos 1000 veces, con 1/10 de posibilidades de que saliera el cero (el cero y el uno lo podemos considerar cara o cruz independientemente). El resultado es una media de 99.88 veces que ha salido el cero, lo cual era lo esperado."
   ]
  },
  {
   "cell_type": "code",
   "execution_count": 31,
   "metadata": {
    "collapsed": true
   },
   "outputs": [],
   "source": [
    "def function(nVeces, nLanza):\n",
    "    LT = list()\n",
    "    for k in xsrange(1, 10):\n",
    "        L = [lanzamientos(nLanza, k*1/10) for i in xsrange(nVeces)]\n",
    "        media = sum(L)/len(L)\n",
    "        LT.append((k*1/10, media.n()))\n",
    "    return LT"
   ]
  },
  {
   "cell_type": "code",
   "execution_count": 32,
   "metadata": {},
   "outputs": [
    {
     "data": {
      "text/plain": [
       "[(1/10, 99.5020000000000),\n",
       " (1/5, 200.026000000000),\n",
       " (3/10, 300.350000000000),\n",
       " (2/5, 399.415000000000),\n",
       " (1/2, 500.380000000000),\n",
       " (3/5, 599.815000000000),\n",
       " (7/10, 699.763000000000),\n",
       " (4/5, 799.836000000000),\n",
       " (9/10, 899.930000000000)]"
      ]
     },
     "execution_count": 32,
     "metadata": {},
     "output_type": "execute_result"
    }
   ],
   "source": [
    "function(1000, 1000)"
   ]
  },
  {
   "cell_type": "markdown",
   "metadata": {},
   "source": [
    "<b>Apartado 2</b>"
   ]
  },
  {
   "cell_type": "markdown",
   "metadata": {},
   "source": [
    "A continuación se muestra una función que devuelve números aleatorios entre a y b, ambos inclusive. "
   ]
  },
  {
   "cell_type": "code",
   "execution_count": 35,
   "metadata": {
    "collapsed": true
   },
   "outputs": [],
   "source": [
    "def aleatorio(a, b):\n",
    "    return (a+(b-a)*random())"
   ]
  },
  {
   "cell_type": "code",
   "execution_count": 36,
   "metadata": {},
   "outputs": [
    {
     "name": "stdout",
     "output_type": "stream",
     "text": [
      "[6.954032601787269, 9.890927197079826, 6.4521696544769815, 9.922604965607938, 9.139117386798496, 9.254322954782896, 9.29331829214065, 6.208115319153453, 5.604545125894175, 9.724788998536265]\n"
     ]
    }
   ],
   "source": [
    "Q = [aleatorio(5, 10) for i in xsrange(10)]\n",
    "print Q"
   ]
  },
  {
   "cell_type": "markdown",
   "metadata": {},
   "source": [
    "<b>Apartado 3</b>"
   ]
  },
  {
   "cell_type": "markdown",
   "metadata": {},
   "source": [
    "La continuación que sigue tiene el objetivo de contar el número de lanzamientos que se deben realizar para que un jugador con <b>euros</b> Euros se arruine, considerando que el casino tiene dinero infinito. Es obvio que el jugador tarde o temprano se arruina, ya que es el que tiene dinero finito."
   ]
  },
  {
   "cell_type": "code",
   "execution_count": 37,
   "metadata": {
    "collapsed": true
   },
   "outputs": [],
   "source": [
    "def cuantoTardaEnArruinarse(euros):\n",
    "    count = 0\n",
    "    while(1):\n",
    "        x = moneda_trucada(1/2)\n",
    "        count += 1\n",
    "        if x == 0:\n",
    "            euros -= 1\n",
    "            if euros==0:\n",
    "                return count\n",
    "        else:\n",
    "            euros += 1"
   ]
  },
  {
   "cell_type": "code",
   "execution_count": 38,
   "metadata": {},
   "outputs": [
    {
     "name": "stdout",
     "output_type": "stream",
     "text": [
      "[21262, 70270, 92276, 6648, 13708, 7960, 42740, 15806, 633432, 11420]\n"
     ]
    }
   ],
   "source": [
    "W = [cuantoTardaEnArruinarse(100) for i in xsrange(10)]\n",
    "print W"
   ]
  },
  {
   "cell_type": "markdown",
   "metadata": {},
   "source": [
    "Suponiendo que el jugador decide retirarse cuando le quede la mitad o cuando alcance el doble de su dinero inicial, calcularemos la probabilidad de \"ganar\", que es duplicar su dinero."
   ]
  },
  {
   "cell_type": "markdown",
   "metadata": {},
   "source": [
    "La siguiente función simula un \"Juego\", es decir, recibe la cantidad inicial del jugador y realiza lanzamientos, dandole un euro si el jugador acierta o quitándoselo en caso contrario, hasta que el jugador gana (duplica su dinero) devolviendo 1 o pierde (alcanza la mitad de su dinero inicial) devolviendo 0."
   ]
  },
  {
   "cell_type": "code",
   "execution_count": 40,
   "metadata": {},
   "outputs": [],
   "source": [
    "def juego(euros):\n",
    "    ini = euros\n",
    "    while(1):\n",
    "        x = moneda_trucada(1/2)\n",
    "        if x==0:\n",
    "            euros -= 1\n",
    "            if euros == (ini//2):\n",
    "                return 0\n",
    "        else:\n",
    "            euros += 1\n",
    "            if euros == 2*ini:\n",
    "                return 1"
   ]
  },
  {
   "cell_type": "markdown",
   "metadata": {},
   "source": [
    "Por ultimo, la siguiente función realiza <b>N</b> juegos con un dinero inicial de <b>euros</b> y devuelve la suma de las veces que el jugador ganó, dividido entre el número de partidas."
   ]
  },
  {
   "cell_type": "code",
   "execution_count": 41,
   "metadata": {
    "collapsed": true
   },
   "outputs": [],
   "source": [
    "def probJuego(N, euros):\n",
    "    count = 0\n",
    "    for i in xsrange(N):\n",
    "        if juego(euros)==1:\n",
    "            count += 1\n",
    "    return (count/N).n()"
   ]
  },
  {
   "cell_type": "code",
   "execution_count": 43,
   "metadata": {},
   "outputs": [
    {
     "name": "stdout",
     "output_type": "stream",
     "text": [
      "CPU times: user 3min, sys: 908 ms, total: 3min 1s\n",
      "Wall time: 2min 59s\n"
     ]
    },
    {
     "data": {
      "text/plain": [
       "0.336400000000000"
      ]
     },
     "execution_count": 43,
     "metadata": {},
     "output_type": "execute_result"
    }
   ],
   "source": [
    "%time probJuego(10000, 100)"
   ]
  },
  {
   "cell_type": "markdown",
   "metadata": {
    "collapsed": true
   },
   "source": [
    "Se puede ver que gana al rededor de 1/3 de las partidas, lo cual es claramente NO rentable."
   ]
  }
 ],
 "metadata": {
  "kernelspec": {
   "display_name": "SageMath 8.0",
   "language": "",
   "name": "sagemath"
  },
  "language_info": {
   "codemirror_mode": {
    "name": "ipython",
    "version": 2
   },
   "file_extension": ".py",
   "mimetype": "text/x-python",
   "name": "python",
   "nbconvert_exporter": "python",
   "pygments_lexer": "ipython2",
   "version": "2.7.13"
  }
 },
 "nbformat": 4,
 "nbformat_minor": 2
}
