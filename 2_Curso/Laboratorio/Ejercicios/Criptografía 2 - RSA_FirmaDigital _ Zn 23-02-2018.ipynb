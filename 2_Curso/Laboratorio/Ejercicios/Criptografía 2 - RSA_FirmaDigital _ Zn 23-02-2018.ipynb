{
 "cells": [
  {
   "cell_type": "markdown",
   "metadata": {},
   "source": [
    "<b>EJERCICIO 3</b> - Utilizando RSA para comunicarse con el profesor"
   ]
  },
  {
   "cell_type": "code",
   "execution_count": 51,
   "metadata": {},
   "outputs": [
    {
     "name": "stdout",
     "output_type": "stream",
     "text": [
      "340282366920938463463374607431768211507\n",
      "340282366920938463463374607431768211537\n"
     ]
    }
   ],
   "source": [
    "p1 = next_prime(sqrt(16^64))\n",
    "p2 = next_prime(p1)\n",
    "\n",
    "if((p1*p2)>(16^64) and (p1*p2)<(16^65)):\n",
    "    print p1\n",
    "    print p2"
   ]
  },
  {
   "cell_type": "code",
   "execution_count": 17,
   "metadata": {},
   "outputs": [
    {
     "data": {
      "text/plain": [
       "115792089237316195423570985008687907898187257099204441216623032188906533556259"
      ]
     },
     "execution_count": 17,
     "metadata": {},
     "output_type": "execute_result"
    }
   ],
   "source": [
    "p1*p2 #esta será mi clave privada"
   ]
  },
  {
   "cell_type": "code",
   "execution_count": 18,
   "metadata": {
    "collapsed": true
   },
   "outputs": [],
   "source": [
    "n = p1 * p2"
   ]
  },
  {
   "cell_type": "code",
   "execution_count": 19,
   "metadata": {},
   "outputs": [
    {
     "data": {
      "text/plain": [
       "115792089237316195423570985008687907897506692365362564289696282974042997133216"
      ]
     },
     "execution_count": 19,
     "metadata": {},
     "output_type": "execute_result"
    }
   ],
   "source": [
    "phi = (p1-1)*(p2-1)\n",
    "phi"
   ]
  },
  {
   "cell_type": "code",
   "execution_count": 27,
   "metadata": {},
   "outputs": [
    {
     "data": {
      "text/plain": [
       "11"
      ]
     },
     "execution_count": 27,
     "metadata": {},
     "output_type": "execute_result"
    }
   ],
   "source": [
    "for i in xsrange (7, phi):\n",
    "    if(gcd(i, phi) == 1):\n",
    "        break\n",
    "e = i\n",
    "e"
   ]
  },
  {
   "cell_type": "code",
   "execution_count": 28,
   "metadata": {},
   "outputs": [
    {
     "data": {
      "text/plain": [
       "(1,\n",
       " 10526553567028745038506453182607991627046062942305687662699662088549363375747,\n",
       " -1)"
      ]
     },
     "execution_count": 28,
     "metadata": {},
     "output_type": "execute_result"
    }
   ],
   "source": [
    "EX = xgcd(11, phi)\n",
    "EX"
   ]
  },
  {
   "cell_type": "markdown",
   "metadata": {},
   "source": [
    "Tenemos de clave pública la tupla (115792089237316195423570985008687907898187257099204441216623032188906533556259, 11) y de clave privada 10526553567028745038506453182607991627046062942305687662699662088549363375747"
   ]
  },
  {
   "cell_type": "code",
   "execution_count": 40,
   "metadata": {
    "collapsed": true
   },
   "outputs": [],
   "source": [
    "alfb = \"0123456789ABCDEFG\""
   ]
  },
  {
   "cell_type": "code",
   "execution_count": 41,
   "metadata": {},
   "outputs": [
    {
     "name": "stdout",
     "output_type": "stream",
     "text": [
      "['0', '1', '2', '3', '4', '5', '6', '7', '8', '9', 'A', 'B', 'C', 'D', 'E', 'F', 'G']\n"
     ]
    }
   ],
   "source": [
    "L_alfb = list(alfb)\n",
    "print L_alfb"
   ]
  },
  {
   "cell_type": "code",
   "execution_count": 42,
   "metadata": {
    "collapsed": true
   },
   "outputs": [],
   "source": [
    "def ord2(c):\n",
    "    return L_alfb.index(c)"
   ]
  },
  {
   "cell_type": "code",
   "execution_count": 49,
   "metadata": {},
   "outputs": [
    {
     "data": {
      "text/plain": [
       "10"
      ]
     },
     "execution_count": 49,
     "metadata": {},
     "output_type": "execute_result"
    }
   ],
   "source": [
    "ord2('A')"
   ]
  },
  {
   "cell_type": "code",
   "execution_count": 45,
   "metadata": {
    "collapsed": true
   },
   "outputs": [],
   "source": [
    "def chr2(n):\n",
    "    return L_alfb[n]"
   ]
  },
  {
   "cell_type": "code",
   "execution_count": 46,
   "metadata": {},
   "outputs": [
    {
     "data": {
      "text/plain": [
       "'A'"
      ]
     },
     "execution_count": 46,
     "metadata": {},
     "output_type": "execute_result"
    }
   ],
   "source": [
    "chr2(10)"
   ]
  },
  {
   "cell_type": "code",
   "execution_count": 50,
   "metadata": {
    "collapsed": true
   },
   "outputs": [],
   "source": [
    "C = \"115792089237316195423570985008687907898187257099204441216623032188906533556259 11\"\n"
   ]
  },
  {
   "cell_type": "markdown",
   "metadata": {},
   "source": [
    "Llegado este momento es cuando me doy de cuenta de que había que utilizar el sistema de ecriptacion Firma Digital, en lugar de RSA, ya que el tamaño de palabra es mayor que 64 digitos. Se dejará esta ejercicio a medias aquí, el cual será ehcho de nuevo una vez se haya explicado Firma Digital la proxima semana."
   ]
  },
  {
   "cell_type": "markdown",
   "metadata": {},
   "source": [
    "<b>EJERCICIO 9</b>"
   ]
  },
  {
   "cell_type": "code",
   "execution_count": 55,
   "metadata": {
    "collapsed": true
   },
   "outputs": [],
   "source": [
    "def lista_coprimos(n): \n",
    "    L = list()\n",
    "    for i in xsrange(2, n):\n",
    "        if gcd(i, n)==1:\n",
    "            L.append(i)\n",
    "    return L"
   ]
  },
  {
   "cell_type": "code",
   "execution_count": 56,
   "metadata": {},
   "outputs": [
    {
     "name": "stdout",
     "output_type": "stream",
     "text": [
      "[2, 4, 7, 8, 11, 13, 14]\n",
      "[]\n"
     ]
    }
   ],
   "source": [
    "print lista_coprimos(15)\n",
    "print lista_coprimos(2)"
   ]
  },
  {
   "cell_type": "code",
   "execution_count": 57,
   "metadata": {
    "collapsed": true
   },
   "outputs": [],
   "source": [
    "def generador(p):\n",
    "    if is_prime(p):\n",
    "        LC = lista_coprimos(p);\n",
    "        a = randint(0, len(LC)-1)\n",
    "        return LC[a]\n",
    "    else:\n",
    "        return \"p no es primo\""
   ]
  },
  {
   "cell_type": "code",
   "execution_count": 59,
   "metadata": {},
   "outputs": [
    {
     "name": "stdout",
     "output_type": "stream",
     "text": [
      "2\n",
      "p no es primo\n"
     ]
    }
   ],
   "source": [
    "print generador(3)\n",
    "print generador(6)"
   ]
  },
  {
   "cell_type": "code",
   "execution_count": 12,
   "metadata": {
    "collapsed": true
   },
   "outputs": [],
   "source": [
    "def lista_iguales(L1, L2):\n",
    "    if len(L1) != len(L2):\n",
    "        return False\n",
    "\n",
    "    A1 = copy(L1)\n",
    "    A2 = copy(L2)\n",
    "    for item in A1:\n",
    "        if item not in A2:\n",
    "            return False\n",
    "        else:\n",
    "            A1[A1.index(item)] = -1\n",
    "            A2[A2.index(item)] = -1\n",
    "    return True"
   ]
  },
  {
   "cell_type": "code",
   "execution_count": 13,
   "metadata": {},
   "outputs": [
    {
     "name": "stdout",
     "output_type": "stream",
     "text": [
      "True\n",
      "False\n",
      "False\n",
      "True\n"
     ]
    }
   ],
   "source": [
    "L1 = [1, 2, 3, 5, 4]\n",
    "L2 = [5, 3, 4, 2, 1]\n",
    "print lista_iguales(L1, L2)\n",
    "L3 = [1, 1, 2, 2, 2]\n",
    "L4 = [2, 2, 1, 1, 1]\n",
    "print lista_iguales(L3, L4)\n",
    "L5 = [1, 2, 3, 5, 4]\n",
    "L6 = [5, 3, 4, 2, 11]\n",
    "print lista_iguales(L5, L6)\n",
    "L7 = []\n",
    "L8 = []\n",
    "print lista_iguales(L7, L8)"
   ]
  },
  {
   "cell_type": "code",
   "execution_count": 14,
   "metadata": {
    "collapsed": true
   },
   "outputs": [],
   "source": [
    "def es_generador(g, n):\n",
    "    LC = lista_coprimos(n)\n",
    "    L = list()\n",
    "    i=1\n",
    "    while(1):\n",
    "        x = ((g^i)%n)\n",
    "        if x not in L and x!= 1:\n",
    "            L.append(x)\n",
    "            i += 1\n",
    "        else:\n",
    "            break\n",
    "    if lista_iguales(LC, L):\n",
    "        return True\n",
    "    else:\n",
    "        return False"
   ]
  },
  {
   "cell_type": "code",
   "execution_count": 15,
   "metadata": {},
   "outputs": [
    {
     "name": "stdout",
     "output_type": "stream",
     "text": [
      "False\n",
      "True\n"
     ]
    }
   ],
   "source": [
    "print es_generador(6, 8)\n",
    "print es_generador(3, 7)"
   ]
  },
  {
   "cell_type": "code",
   "execution_count": 16,
   "metadata": {
    "collapsed": true
   },
   "outputs": [],
   "source": [
    "def es_ciclico(n):\n",
    "    if n==2: #caso especional\n",
    "        return True\n",
    "    for i in xsrange (2,n):\n",
    "        if es_generador(i, n):\n",
    "            return True\n",
    "    return False"
   ]
  },
  {
   "cell_type": "code",
   "execution_count": 17,
   "metadata": {},
   "outputs": [
    {
     "name": "stdout",
     "output_type": "stream",
     "text": [
      "False\n",
      "True\n"
     ]
    }
   ],
   "source": [
    "print es_ciclico(8)\n",
    "print es_ciclico(11)"
   ]
  },
  {
   "cell_type": "code",
   "execution_count": 18,
   "metadata": {},
   "outputs": [
    {
     "name": "stdout",
     "output_type": "stream",
     "text": [
      "(2, True, 2)\n",
      "(3, True, 3)\n",
      "(4, True, 2^2)\n",
      "(5, True, 5)\n",
      "(6, True, 2 * 3)\n",
      "(7, True, 7)\n",
      "(8, False, 2^3)\n",
      "(9, True, 3^2)\n",
      "(10, True, 2 * 5)\n",
      "(11, True, 11)\n",
      "(12, False, 2^2 * 3)\n",
      "(13, True, 13)\n",
      "(14, True, 2 * 7)\n",
      "(15, False, 3 * 5)\n",
      "(16, False, 2^4)\n",
      "(17, True, 17)\n",
      "(18, True, 2 * 3^2)\n",
      "(19, True, 19)\n",
      "(20, False, 2^2 * 5)\n",
      "(21, False, 3 * 7)\n",
      "(22, True, 2 * 11)\n",
      "(23, True, 23)\n",
      "(24, False, 2^3 * 3)\n",
      "(25, True, 5^2)\n",
      "(26, True, 2 * 13)\n",
      "(27, True, 3^3)\n",
      "(28, False, 2^2 * 7)\n",
      "(29, True, 29)\n",
      "(30, False, 2 * 3 * 5)\n",
      "(31, True, 31)\n",
      "(32, False, 2^5)\n",
      "(33, False, 3 * 11)\n",
      "(34, True, 2 * 17)\n",
      "(35, False, 5 * 7)\n",
      "(36, False, 2^2 * 3^2)\n",
      "(37, True, 37)\n",
      "(38, True, 2 * 19)\n",
      "(39, False, 3 * 13)\n",
      "(40, False, 2^3 * 5)\n",
      "(41, True, 41)\n",
      "(42, False, 2 * 3 * 7)\n",
      "(43, True, 43)\n",
      "(44, False, 2^2 * 11)\n",
      "(45, False, 3^2 * 5)\n",
      "(46, True, 2 * 23)\n",
      "(47, True, 47)\n",
      "(48, False, 2^4 * 3)\n",
      "(49, True, 7^2)\n",
      "(50, True, 2 * 5^2)\n",
      "(51, False, 3 * 17)\n",
      "(52, False, 2^2 * 13)\n",
      "(53, True, 53)\n",
      "(54, True, 2 * 3^3)\n",
      "(55, False, 5 * 11)\n",
      "(56, False, 2^3 * 7)\n",
      "(57, False, 3 * 19)\n",
      "(58, True, 2 * 29)\n",
      "(59, True, 59)\n",
      "(60, False, 2^2 * 3 * 5)\n",
      "(61, True, 61)\n",
      "(62, True, 2 * 31)\n",
      "(63, False, 3^2 * 7)\n",
      "(64, False, 2^6)\n",
      "(65, False, 5 * 13)\n",
      "(66, False, 2 * 3 * 11)\n",
      "(67, True, 67)\n",
      "(68, False, 2^2 * 17)\n",
      "(69, False, 3 * 23)\n",
      "(70, False, 2 * 5 * 7)\n",
      "(71, True, 71)\n",
      "(72, False, 2^3 * 3^2)\n",
      "(73, True, 73)\n",
      "(74, True, 2 * 37)\n",
      "(75, False, 3 * 5^2)\n",
      "(76, False, 2^2 * 19)\n",
      "(77, False, 7 * 11)\n",
      "(78, False, 2 * 3 * 13)\n",
      "(79, True, 79)\n",
      "(80, False, 2^4 * 5)\n",
      "(81, True, 3^4)\n",
      "(82, True, 2 * 41)\n",
      "(83, True, 83)\n",
      "(84, False, 2^2 * 3 * 7)\n",
      "(85, False, 5 * 17)\n",
      "(86, True, 2 * 43)\n",
      "(87, False, 3 * 29)\n",
      "(88, False, 2^3 * 11)\n",
      "(89, True, 89)\n",
      "(90, False, 2 * 3^2 * 5)\n",
      "(91, False, 7 * 13)\n",
      "(92, False, 2^2 * 23)\n",
      "(93, False, 3 * 31)\n",
      "(94, True, 2 * 47)\n",
      "(95, False, 5 * 19)\n",
      "(96, False, 2^5 * 3)\n",
      "(97, True, 97)\n",
      "(98, True, 2 * 7^2)\n",
      "(99, False, 3^2 * 11)\n",
      "(100, False, 2^2 * 5^2)\n"
     ]
    }
   ],
   "source": [
    "for i in xsrange(2, 101):\n",
    "    print (i, es_ciclico(i), factor(i))"
   ]
  },
  {
   "cell_type": "code",
   "execution_count": 19,
   "metadata": {
    "collapsed": true
   },
   "outputs": [],
   "source": [
    "def conjetura(n):\n",
    "    #casos especional es n==4 porque su único coprimo es el 3 y es 3 genera Z4 = 3.\n",
    "    if n==4: \n",
    "        return True\n",
    "    \n",
    "    if is_prime(n):\n",
    "        return True\n",
    "    \n",
    "    if is_power_of_two(n):\n",
    "        return False\n",
    "    \n",
    "    L = list(n.factor())\n",
    "    if len(L)==1: #si es potencia de un primo != 2 --> TRUE\n",
    "        return True\n",
    "    if L[0][0] == 2 and L[0][1] == 1 and len(L) == 2:\n",
    "        return True\n",
    "    return False"
   ]
  },
  {
   "cell_type": "code",
   "execution_count": 20,
   "metadata": {},
   "outputs": [
    {
     "name": "stdout",
     "output_type": "stream",
     "text": [
      "(2, True, True)\n",
      "(3, True, True)\n",
      "(4, True, True)\n",
      "(5, True, True)\n",
      "(6, True, True)\n",
      "(7, True, True)\n",
      "(8, False, False)\n",
      "(9, True, True)\n",
      "(10, True, True)\n",
      "(11, True, True)\n",
      "(12, False, False)\n",
      "(13, True, True)\n",
      "(14, True, True)\n",
      "(15, False, False)\n",
      "(16, False, False)\n",
      "(17, True, True)\n",
      "(18, True, True)\n",
      "(19, True, True)\n",
      "(20, False, False)\n",
      "(21, False, False)\n",
      "(22, True, True)\n",
      "(23, True, True)\n",
      "(24, False, False)\n",
      "(25, True, True)\n",
      "(26, True, True)\n",
      "(27, True, True)\n",
      "(28, False, False)\n",
      "(29, True, True)\n",
      "(30, False, False)\n",
      "(31, True, True)\n",
      "(32, False, False)\n",
      "(33, False, False)\n",
      "(34, True, True)\n",
      "(35, False, False)\n",
      "(36, False, False)\n",
      "(37, True, True)\n",
      "(38, True, True)\n",
      "(39, False, False)\n",
      "(40, False, False)\n",
      "(41, True, True)\n",
      "(42, False, False)\n",
      "(43, True, True)\n",
      "(44, False, False)\n",
      "(45, False, False)\n",
      "(46, True, True)\n",
      "(47, True, True)\n",
      "(48, False, False)\n",
      "(49, True, True)\n",
      "(50, True, True)\n",
      "(51, False, False)\n",
      "(52, False, False)\n",
      "(53, True, True)\n",
      "(54, True, True)\n",
      "(55, False, False)\n",
      "(56, False, False)\n",
      "(57, False, False)\n",
      "(58, True, True)\n",
      "(59, True, True)\n",
      "(60, False, False)\n",
      "(61, True, True)\n",
      "(62, True, True)\n",
      "(63, False, False)\n",
      "(64, False, False)\n",
      "(65, False, False)\n",
      "(66, False, False)\n",
      "(67, True, True)\n",
      "(68, False, False)\n",
      "(69, False, False)\n",
      "(70, False, False)\n",
      "(71, True, True)\n",
      "(72, False, False)\n",
      "(73, True, True)\n",
      "(74, True, True)\n",
      "(75, False, False)\n",
      "(76, False, False)\n",
      "(77, False, False)\n",
      "(78, False, False)\n",
      "(79, True, True)\n",
      "(80, False, False)\n",
      "(81, True, True)\n",
      "(82, True, True)\n",
      "(83, True, True)\n",
      "(84, False, False)\n",
      "(85, False, False)\n",
      "(86, True, True)\n",
      "(87, False, False)\n",
      "(88, False, False)\n",
      "(89, True, True)\n",
      "(90, False, False)\n",
      "(91, False, False)\n",
      "(92, False, False)\n",
      "(93, False, False)\n",
      "(94, True, True)\n",
      "(95, False, False)\n",
      "(96, False, False)\n",
      "(97, True, True)\n",
      "(98, True, True)\n",
      "(99, False, False)\n",
      "(100, False, False)\n"
     ]
    }
   ],
   "source": [
    "for i in xsrange(2, 101):\n",
    "    print (i, es_ciclico(i), conjetura(i))"
   ]
  },
  {
   "cell_type": "markdown",
   "metadata": {},
   "source": [
    "Según esto nuestra conjetura es correcta. Esta conjetura consiste en que n es cíclico si es primo; y aparte, si es una potencia única de un primo distinto de dos (por ejemplo 27=3^3), o si en su factorización solo aparecen dos primos y uno de ellos es un 2 con multiplicidad 1."
   ]
  },
  {
   "cell_type": "markdown",
   "metadata": {
    "collapsed": true
   },
   "source": [
    "<b>EJERCICIO 10</b>"
   ]
  },
  {
   "cell_type": "code",
   "execution_count": 75,
   "metadata": {},
   "outputs": [
    {
     "name": "stdout",
     "output_type": "stream",
     "text": [
      "7919\n"
     ]
    }
   ],
   "source": [
    "p = nth_prime(1000)\n",
    "print p"
   ]
  },
  {
   "cell_type": "code",
   "execution_count": 76,
   "metadata": {},
   "outputs": [
    {
     "name": "stdout",
     "output_type": "stream",
     "text": [
      "6574\n"
     ]
    }
   ],
   "source": [
    "a = randint(1, p-2) #nos da igual\n",
    "print a"
   ]
  },
  {
   "cell_type": "code",
   "execution_count": 80,
   "metadata": {},
   "outputs": [
    {
     "name": "stdout",
     "output_type": "stream",
     "text": [
      "True\n",
      "1132\n",
      "2769\n"
     ]
    }
   ],
   "source": [
    "g = generador(p)\n",
    "print es_generador(g, p)\n",
    "A = (g**a)%p\n",
    "print g; print A"
   ]
  },
  {
   "cell_type": "code",
   "execution_count": 81,
   "metadata": {
    "collapsed": true
   },
   "outputs": [],
   "source": [
    "def encripta(p, g, A, m):\n",
    "    b = randint(1, p-2)\n",
    "    B = (g**b)%p\n",
    "    c = ((A**b)*m)%p\n",
    "    return B,c"
   ]
  },
  {
   "cell_type": "code",
   "execution_count": 83,
   "metadata": {
    "collapsed": true
   },
   "outputs": [],
   "source": [
    "def desencripta(p, a, B, c):\n",
    "    x = p-1-a\n",
    "    m = ((B**x)*c)%p\n",
    "    return m"
   ]
  },
  {
   "cell_type": "code",
   "execution_count": 84,
   "metadata": {},
   "outputs": [
    {
     "name": "stdout",
     "output_type": "stream",
     "text": [
      "p = 7919\n",
      "g = 1132\n",
      "A = 2769\n",
      "M antes = 4962\n",
      "B = 780\n",
      "c = 5809\n"
     ]
    }
   ],
   "source": [
    "m_antes = randint(p//2, p-2)\n",
    "\n",
    "print \"p = \"+str(p)\n",
    "print \"g = \"+str(g)\n",
    "print \"A = \"+str(A)\n",
    "print \"M antes = \"+str(m_antes)\n",
    "\n",
    "B, c = encripta(p, g, A, m_antes%p)\n",
    "print \"B = \"+str(B)\n",
    "print \"c = \"+str(c)"
   ]
  },
  {
   "cell_type": "code",
   "execution_count": 85,
   "metadata": {},
   "outputs": [
    {
     "name": "stdout",
     "output_type": "stream",
     "text": [
      "p = 7919\n",
      "a = 6574\n",
      "B = 780\n",
      "c = 5809\n",
      "M antes = 4962\n",
      "M despues = 4962\n"
     ]
    },
    {
     "data": {
      "text/plain": [
       "True"
      ]
     },
     "execution_count": 85,
     "metadata": {},
     "output_type": "execute_result"
    }
   ],
   "source": [
    "print \"p = \"+str(p)\n",
    "print \"a = \"+str(a)\n",
    "print \"B = \"+str(B)\n",
    "print \"c = \"+str(c)\n",
    "\n",
    "m_despues = desencripta(p, a, B, c)\n",
    "\n",
    "print \"M antes = \"+str(m_antes)\n",
    "print \"M despues = \"+str(m_despues)\n",
    "m_antes == m_despues"
   ]
  },
  {
   "cell_type": "markdown",
   "metadata": {},
   "source": [
    "Muy buenas noticias, se ha realizado la encriptacion y la desencriptacion con exito"
   ]
  },
  {
   "cell_type": "code",
   "execution_count": null,
   "metadata": {
    "collapsed": true
   },
   "outputs": [],
   "source": []
  }
 ],
 "metadata": {
  "kernelspec": {
   "display_name": "SageMath 8.0",
   "language": "",
   "name": "sagemath"
  },
  "language_info": {
   "codemirror_mode": {
    "name": "ipython",
    "version": 2
   },
   "file_extension": ".py",
   "mimetype": "text/x-python",
   "name": "python",
   "nbconvert_exporter": "python",
   "pygments_lexer": "ipython2",
   "version": "2.7.13"
  }
 },
 "nbformat": 4,
 "nbformat_minor": 2
}
