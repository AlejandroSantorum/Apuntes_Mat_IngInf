{
 "cells": [
  {
   "cell_type": "markdown",
   "metadata": {},
   "source": [
    "EJERCICIO 6 - Comenzamos creando dos diccionarios, uno que a partir de las letras te devuelva los números; y otro que a partir del número te devuelva su letra."
   ]
  },
  {
   "cell_type": "code",
   "execution_count": 80,
   "metadata": {
    "collapsed": true
   },
   "outputs": [],
   "source": [
    "diccLetras = {'a':0, 'b':1, 'c':2, 'd':3, 'e':4, 'f':5, 'g':6, 'h':7, 'i':8, 'j':9, 'k':10, 'l':11, 'm':12, 'n':13, 'o':14, 'p':15, 'q':16, 'r':17, 's':18, 't':19, 'u':20, 'v':21, 'w':22, 'x':23, 'y':24, 'z':25, ' ':26}"
   ]
  },
  {
   "cell_type": "code",
   "execution_count": 81,
   "metadata": {},
   "outputs": [],
   "source": [
    "diccNum = {0:'a', 1:'b', 2:'c', 3:'d', 4:'e', 5:'f', 6:'g',7:'h', 8:'i', 9:'j', 10: 'k',11: 'l',12: 'm',13: 'n',14: 'o',15: 'p',16: 'q',17: 'r',18: 's',19: 't',20: 'u',21: 'v',22: 'w',23: 'x',24: 'y',25: 'z', 26:' '}"
   ]
  },
  {
   "cell_type": "code",
   "execution_count": 82,
   "metadata": {},
   "outputs": [],
   "source": [
    "def autoclave_cod(T, clave):\n",
    "    L = list(T)\n",
    "    L[0] = diccNum[(diccLetras[clave]+diccLetras[L[0]])%27]\n",
    "    for i in xrange (1, len(L)):\n",
    "        L[i] = diccNum[(diccLetras[T[i-1]]+diccLetras[L[i]])%27]\n",
    "    S = ''.join(L)\n",
    "    return S"
   ]
  },
  {
   "cell_type": "code",
   "execution_count": 83,
   "metadata": {},
   "outputs": [
    {
     "data": {
      "text/plain": [
       "'zttccrvq froceqdpkkldrnchvvgjvn  klsrsjvwrchdkl struh'"
      ]
     },
     "execution_count": 83,
     "metadata": {},
     "output_type": "execute_result"
    }
   ],
   "source": [
    "string = \"atacaremos por el lado derecho a las tres de la tarde\"\n",
    "S = autoclave_cod(string, 'z')\n",
    "S"
   ]
  },
  {
   "cell_type": "markdown",
   "metadata": {},
   "source": [
    "Vemos que la codificación es bastante buena, no se tiene ni idea de lo que quiere decir."
   ]
  },
  {
   "cell_type": "code",
   "execution_count": 84,
   "metadata": {
    "collapsed": true
   },
   "outputs": [],
   "source": [
    "def autoclave_decod(T, clave):\n",
    "    L = list(T)\n",
    "    L[0] = diccNum[(diccLetras[L[0]]-diccLetras[clave])%27]\n",
    "    for i in xrange (1, len(L)):\n",
    "        L[i] = diccNum[(diccLetras[L[i]]-diccLetras[L[i-1]])%27]\n",
    "    S = ''.join(L)\n",
    "    return S"
   ]
  },
  {
   "cell_type": "code",
   "execution_count": 85,
   "metadata": {},
   "outputs": [
    {
     "data": {
      "text/plain": [
       "'atacaremos por el lado derecho a las tres de la tarde'"
      ]
     },
     "execution_count": 85,
     "metadata": {},
     "output_type": "execute_result"
    }
   ],
   "source": [
    "SD = autoclave_decod(S, 'z')\n",
    "SD"
   ]
  },
  {
   "cell_type": "markdown",
   "metadata": {},
   "source": [
    "La decodificación funciona a la perfección."
   ]
  },
  {
   "cell_type": "markdown",
   "metadata": {},
   "source": [
    "---------------------------------------------------------------------"
   ]
  },
  {
   "cell_type": "markdown",
   "metadata": {},
   "source": [
    "EJERCICIO 8 - Vamos a programar una función que busca esos números primeros cuyo producto no se pueda factorizar en menos de 30 minutos (en la máquina que se utilice la función). Como es lógico, no se va a comprobar si correcto funcionamiento, pero el código, es lo suficientemente simple como para ver si está bien o mal."
   ]
  },
  {
   "cell_type": "code",
   "execution_count": 87,
   "metadata": {
    "collapsed": true
   },
   "outputs": [],
   "source": [
    "from time import time\n",
    "\n",
    "def search_unfactable_product():\n",
    "    m = 1000\n",
    "    \n",
    "    while(exe_time < 1800): #30 minutos = 1800 segundos\n",
    "        \n",
    "        p1 = nth_prime(m)\n",
    "        p2 = nth_prime(m+1)\n",
    "        \n",
    "        ini_time = time() #devuelve el tiempo en segundos\n",
    "        n = factor(p1*p2)\n",
    "        fin_time = time()\n",
    "        \n",
    "        exe_time = fin_time - ini_time\n",
    "        m += 1\n",
    "    \n",
    "    return p1, p2"
   ]
  },
  {
   "cell_type": "code",
   "execution_count": null,
   "metadata": {
    "collapsed": true
   },
   "outputs": [],
   "source": []
  }
 ],
 "metadata": {
  "kernelspec": {
   "display_name": "SageMath 8.0",
   "language": "",
   "name": "sagemath"
  },
  "language_info": {
   "codemirror_mode": {
    "name": "ipython",
    "version": 2
   },
   "file_extension": ".py",
   "mimetype": "text/x-python",
   "name": "python",
   "nbconvert_exporter": "python",
   "pygments_lexer": "ipython2",
   "version": "2.7.13"
  }
 },
 "nbformat": 4,
 "nbformat_minor": 2
}
