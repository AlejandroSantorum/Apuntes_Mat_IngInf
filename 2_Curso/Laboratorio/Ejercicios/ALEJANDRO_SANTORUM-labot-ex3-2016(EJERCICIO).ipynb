{
 "cells": [
  {
   "cell_type": "markdown",
   "metadata": {},
   "source": [
    "<p><span style=\"color: #ff0000;\">Por favor, antes de empezar el examen cambia el nombre de la hoja (File&gt;Rename worksheet) poniendo en lugar de \"nombre.apellido\" los tuyos tal como aparecen en tu direcci&oacute;n de correo electr&oacute;nico de la UAM. El final del nombre de la hoja, -labot-ex3-2016, dej&aacute;lo como est&aacute;.<br /></span></p>\n",
    "<p><span style=\"color: #ff0000;\">Una vez hayas terminado el examen, salva la hoja (File&gt;Save worksheet to a file....) y d&eacute;jala en la carpeta en tu escritorio que tiene&nbsp; nombre \"ENTREGA......\".</span></p>\n",
    "<h4><span style=\"color: #ff0000;\"><span style=\"color: #000000;\">Ejercicio 1</span><br /></span></h4>\n",
    "<p>(4 puntos) En la carpeta que contiene este archivo  se encuentra el el mismo *PALABRAS2* que se us&oacute; en la hoja 84-CRIPT-matricial-fuerzabruta para romper un sistema criptogr&aacute;fico mediante fuerza bruta.&nbsp; El archivo contiene una lista de palabras, una en cada l&iacute;nea, en ingl&eacute;s. Para hacer este ejercicio debes <span style=\"color: #ff0000;\">definir y ejecutar funciones</span> para responder a la siguiente pregunta:<span style=\"color: #ff0000;\"> &iquest;Cu&aacute;ntas tripletas de letras tienen la propiedad de aparecer al principio (es decir,&nbsp; como tripleta inicial) de todas las palabras de la lista PALABRAS2&nbsp; en que aparecen como tripleta de letras consecutivas en cualquier posici&oacute;n?<span id=\"cell_outer_7\"><span style=\"color: #ff0000;\"> No consideramos palabras en la lista de longitud cuatro o menor.&nbsp;</span></span></span></p>\n",
    "<p>Por ejemplo, en la lista aparece la palabra GEOMETRY y la tripleta MET no es una de las que podemos contar, es decir no contribuye a nuestro contador,&nbsp; porque aparece al menos una vez en una situaci&oacute;n que no es inicio de palabra.&nbsp;</p>\n",
    "<p>Para poder <span style=\"color: #ff0000;\">comprobar que el programa funciona bien</span>, modificarlo para que cada vez que se incremente el contador se a&ntilde;ada la clave a una lista, y luego <span style=\"color: #ff0000;\">efectuar varias comprobaciones convincentes (&iquest;A qu&eacute;n hay que convencer? &iquest;A qu&eacute;n va a ser? Pues a m&iacute;)</span>.</p>"
   ]
  },
  {
   "cell_type": "code",
   "execution_count": 1,
   "metadata": {
    "collapsed": true
   },
   "outputs": [],
   "source": [
    "def diccionario(L):\n",
    "    dicc = {}\n",
    "    infile = open(\"PALABRAS2.txt\",\"r\")\n",
    "    for palabra in infile.readlines():\n",
    "        if len(palabra[:-1])<5:\n",
    "            '''Despreciamos palabras de 4 o menos caracteres.'''\n",
    "            continue\n",
    "        elif dicc.has_key(palabra[:3]):\n",
    "           dicc[palabra[:3]].append(palabra[:-1])\n",
    "        else:\n",
    "            dicc[palabra[:3]]=[palabra[:-1]]\n",
    "    for palabra in L:\n",
    "        '''Este bucle es para añadir al diccionario unas pocas\n",
    "            palabras que podrían faltar. NO es importante'''\n",
    "        dicc[palabra]=[palabra]\n",
    "    infile.close()\n",
    "    return dicc"
   ]
  },
  {
   "cell_type": "code",
   "execution_count": 7,
   "metadata": {
    "collapsed": true
   },
   "outputs": [],
   "source": [
    "dicc=diccionario([]) #obtenemos el diccionario"
   ]
  },
  {
   "cell_type": "code",
   "execution_count": 9,
   "metadata": {
    "collapsed": true
   },
   "outputs": [],
   "source": [
    "keys = dicc.keys() #obtenemos las claves (que son las tripletas a comprobar)"
   ]
  },
  {
   "cell_type": "code",
   "execution_count": 11,
   "metadata": {
    "collapsed": true
   },
   "outputs": [],
   "source": [
    "values = dicc.values() # obtenemos los valores.\n",
    "                       # para cada clave, hay una lista de palabras que empiezan por esa clave"
   ]
  },
  {
   "cell_type": "code",
   "execution_count": 45,
   "metadata": {
    "collapsed": true
   },
   "outputs": [],
   "source": [
    "# Función que dada una tripleta, determina si está repetida\n",
    "# en otra parte de la palabra que no sea la inicial\n",
    "# devuelve False si está la tripleta presente en otra parte de la palabra\n",
    "# devuelve True de lo contrario.\n",
    "def tripletaValida(tri, palabra):\n",
    "    i = 1\n",
    "    l = len(palabra)\n",
    "    while(1):\n",
    "        j = i+3\n",
    "        if(j > l):\n",
    "            return True\n",
    "        if palabra[i:j] == tri:\n",
    "            return False\n",
    "        else:\n",
    "            i += 1\n",
    "            continue"
   ]
  },
  {
   "cell_type": "code",
   "execution_count": 63,
   "metadata": {
    "collapsed": true
   },
   "outputs": [],
   "source": [
    "# Cada clave (tripleta inicial), es evaluada con la funcion anterior\n",
    "# con cada palabra del diccionario.\n",
    "def contador(keys, values):\n",
    "    cont = 0\n",
    "    L = list()\n",
    "    for key in keys:\n",
    "        flag = 1\n",
    "        for value in values:\n",
    "            for unit in value:\n",
    "                if tripletaValida(key, unit)==False:\n",
    "                    flag = 0\n",
    "                    break\n",
    "                    \n",
    "            if flag == 0:\n",
    "                break\n",
    "        \n",
    "        if flag != 0:\n",
    "            L.append(key)\n",
    "            cont += 1\n",
    "        \n",
    "    return cont, L"
   ]
  },
  {
   "cell_type": "code",
   "execution_count": 73,
   "metadata": {},
   "outputs": [
    {
     "name": "stdout",
     "output_type": "stream",
     "text": [
      "CPU times: user 1min 19s, sys: 124 ms, total: 1min 19s\n",
      "Wall time: 1min 41s\n",
      "Número de tripletas que cumplen lo especificado: 292\n",
      "['NYQ', 'KYM', 'KYT', 'BYZ', 'BYW', 'BYP', 'BYG', 'MAO', 'BEJ', 'BEW', 'VLA', 'VLT', 'OXP', 'FJO', 'WHU', 'JIU', 'JIS', 'ZIZ', 'JIP', 'VMS', 'JOP', 'JOT', 'JOV', 'JOW', 'JOA', 'JOD', 'JOF', 'JAX', 'JAF', 'JAD', 'AFG', 'NUZ', 'XCV', 'SNY', 'WYV', 'WYC', 'WYO', 'WYM', 'WYL', 'WYK', 'ECB', 'ECZ', 'EUO', 'EUH', 'YAO', 'TUX', 'EVZ', 'UNQ', 'IMD', 'POZ', 'UNV', 'CYZ', 'FYL', 'CYG', 'POH', 'FYZ', 'CWM', 'VYB', 'CLV', 'PAO', 'WEF', 'WEM', 'UJJ', 'WEX', 'RYU', 'BUX', 'BUP', 'MOQ', 'PIX', 'SRB', 'MYN', 'TJI', 'JAG', 'EBC', 'SUW', 'SUQ', 'SUZ', 'TEQ', 'MCB', 'MCP', 'FIP', 'FIU', 'VAX', 'FIF', 'FIJ', 'VAQ', 'FIM', 'WUS', 'WUT', 'WUC', 'WUH', 'UVU', 'DOH', 'PUE', 'PUZ', 'PUV', 'YEO', 'KUW', 'HRV', 'KAF', 'ZWI', 'KUI', 'KUH', 'KUE', 'OJI', 'CZA', 'XUT', 'CLX', 'CLW', 'ZEP', 'ZEU', 'UUC', 'JYL', 'SWU', 'AJM', 'QAD', 'QAI', 'YEK', 'SYE', 'SYK', 'SYZ', 'FOV', 'FOP', 'FOY', 'FOB', 'FOM', 'FOK', 'SAZ', 'JOG', 'DIJ', 'XXX', 'JAU', 'JAE', 'FSF', 'LYK', 'COZ', 'PEQ', 'PEJ', 'PYU', 'ZUC', 'ZUG', 'ZUI', 'IBM', 'USG', 'AZN', 'AZR', 'IQB', 'WAA', 'SIX', 'YUC', 'JIF', 'GIZ', 'JIH', 'GUG', 'GUZ', 'HUH', 'HUX', 'HUZ', 'JHA', 'JHE', 'YID', 'SND', 'QUM', 'CAX', 'DYU', 'DYO', 'VAW', 'PYX', 'PYT', 'PYK', 'SZI', 'SZO', 'LUZ', 'KEK', 'ZAY', 'DZA', 'YAF', 'MZU', 'ZAF', 'TUQ', 'ZHU', 'ZAP', 'JUJ', \"D'A\", 'ZOD', \"D'E\", \"D'O\", \"O'N\", 'VUI', 'GWY', 'QES', 'HYK', 'FAZ', 'FAV', 'FAF', 'UHU', 'PIQ', 'SMR', 'DOY', 'ZLA', 'DEJ', 'UPK', 'UPG', 'UPD', 'KUF', 'KUB', 'KUA', 'GDY', 'ZAQ', 'WRU', 'KOZ', 'FTP', 'IGD', \"O'H\", \"O'C\", \"O'B\", 'SMY', 'UXB', 'JEQ', 'JEZ', 'JEF', 'JED', 'JEJ', 'JEH', 'JEO', 'JEL', 'BAA', 'HIJ', 'ABJ', 'ABK', 'ABV', 'BHI', 'TOQ', 'VIJ', 'TYB', 'VIY', 'FUZ', 'FUB', 'FUJ', 'FUK', 'CEZ', 'CSN', 'WOD', 'WOA', 'MUO', 'MUH', 'MUJ', 'DUH', 'DUY', 'BIY', 'BIW', 'BIP', 'IZN', 'IZT', 'IZV', 'CUX', 'MCN', 'MCM', 'MCL', 'MCK', 'MCG', 'MCF', 'MCD', 'MCC', 'MCQ', 'EXM', 'EXS', 'EXQ', 'EXX', \"L'V\", 'JUX', 'KIZ', 'KIO', 'KIG', 'CRW', 'OXN', 'IEY', 'OBM', 'OBV', 'CDC', 'VYV', 'QIN', 'KHR', 'QIB', 'OSR', 'OSF', 'VOJ', 'CUV', 'CUZ', 'FEZ', 'WIK', 'UZB']\n"
     ]
    }
   ],
   "source": [
    "%time cont, L = contador(keys, values)\n",
    "print (\"Número de tripletas que cumplen lo especificado: \"+str(cont))\n",
    "print L"
   ]
  },
  {
   "cell_type": "code",
   "execution_count": 75,
   "metadata": {
    "collapsed": true
   },
   "outputs": [],
   "source": [
    "def buscadorContraejemplo(keys, values):\n",
    "    cont = 0\n",
    "    L = list()\n",
    "    for key in keys:\n",
    "        flag = 1\n",
    "        for value in values:\n",
    "            for unit in value:\n",
    "                if tripletaValida(key, unit)==False:\n",
    "                    flag = 0\n",
    "                    L.append([key, unit])\n",
    "                    cont += 1\n",
    "                    break\n",
    "            if flag == 0:\n",
    "                break\n",
    "    return cont, L"
   ]
  },
  {
   "cell_type": "markdown",
   "metadata": {},
   "source": [
    "Vamos a utilizar la función anterior para buscar un contraejemplo para cada tripleta que no cumpla lo especificado"
   ]
  },
  {
   "cell_type": "code",
   "execution_count": 76,
   "metadata": {},
   "outputs": [
    {
     "name": "stdout",
     "output_type": "stream",
     "text": [
      "CPU times: user 1min 15s, sys: 268 ms, total: 1min 15s\n",
      "Wall time: 1min 15s\n",
      "Número de tripletas que no cumplen lo especificado: 3133\n",
      "[['AGO', 'OCTAGON'], ['AGN', 'SPHAGNOUS'], ['AGM', 'NYSTAGMIC'], ['AGL', 'MAGLEMOSIAN'], ['OCR', 'NOMOCRACY'], ['AGI', 'NYCTAGINACEOUS'], ['AGH', 'MAGHREB'], ['AGG', 'MACROAGGREGATE'], ['NYS', 'TENNYSON'], ['AGE', 'AGIOTAGE'], ['AGA', 'MADAGASCAR'], ['YUZ', 'SOYUZ'], ['NYN', 'BONYNGE'], ['NYO', 'RUNYON'], [\"MA'\", \"MAMMA'S\"], ['NYM', 'MATRONYMIC'], ['AGW', 'BAGWASH'], ['NYC', 'ONYCHOPHORAN'], ['AGU', 'MAGUEY'], ['NYA', 'BUNYAN'], ['AGR', 'MAGRITTE'], ['NYE', 'ERINYES'], ['SPY', 'COUNTERSPY'], ['OCU', 'NOCUOUS'], ['KYO', 'TOKYO'], ['KYN', 'NORDKYN'], ['KYL', 'CLUNKYLY'], ['KYA', 'BRICKYARD'], ['SIT', 'MARCASITE'], ['SPU', 'LONGSPUR'], ['SPH', 'MAGNETOSPHERE'], ['BWA', 'SUBWAY'], ['SPL', 'EARSPLITTING'], ['SPO', 'SPOILSPORT'], ['KYR', 'VALKYRIE'], ['KRE', 'CHECKREIN'], ['PIB', 'EPIBLAST'], ['KYU', 'RYUKYU'], ['OCT', 'NOCTAMBULATION'], ['IXI', 'PROLIXITY'], ['BYT', 'GIGABYTE'], ['BYR', 'LABYRINTH'], ['BYS', 'BABYSAT'], ['BYN', 'CHUBBYNESS'], ['BYL', 'BABYLON'], ['BYI', 'LOBBYING'], ['BYD', 'ABYDOS'], ['BYE', 'LOBBYER'], ['OXI', 'NOXIOUS'], ['IXT', 'BETWIXT'], ['MAQ', 'PRIMAQUINE'], ['MAP', 'UNMAPPED'], ['MAS', 'MARTINMAS'], ['MAR', 'SITZMARK'], ['MAU', 'ESQUIMAU'], ['MAT', 'MATHEMATIC'], ['MAW', 'ADAMAWA'], ['MAV', 'DEMAVEND'], ['MAY', 'PUTUMAYO'], ['MAX', 'PROCLIMAX'], ['JUB', 'LJUBLJANA'], ['YUK', 'RYUKYU'], ['ERF', 'MASTERFUL'], ['SNI', 'JACKSNIPE'], ['MAA', 'UJAMAA'], ['MAC', 'GRIMACE'], ['MAB', 'NONCONFORMABLE'], ['MAE', 'PRIMAEVAL'], ['MAD', 'NOMAD'], ['MAG', 'MAMAGUY'], ['MAF', 'PERMAFROST'], ['MAI', 'MAULMAIN'], ['MAH', 'MACMAHON'], ['MAK', 'MAPMAKER'], ['MAJ', 'THINGAMAJIG'], ['MAM', 'DRAMAMINE'], ['MAL', 'MARMALADE'], ['MAN', 'NYMPHOMANIA'], ['EVI', 'AGGRIEVING'], ['BEH', 'KOKOBEH'], ['BEI', 'WELLBEING'], ['BEN', 'GRABEN'], ['BEO', 'GIBEON'], ['BEL', 'MATABELE'], ['EVO', 'MACROEVOLUTION'], ['BEB', 'CUBEB'], ['BEC', 'BEIDERBECKE'], ['BEA', 'MACCABEAN'], ['BEF', 'RUBEFACIENT'], ['BEG', 'SCANDERBEG'], ['BED', 'GRABBED'], ['BEE', 'MACCABEES'], ['BEZ', 'EMBEZZLE'], ['BEX', 'SUBEXPRESSION'], ['BEY', 'MANGABEY'], ['BER', 'OCTOBER'], ['BES', 'JIBES'], ['BEP', 'SUBEPIDERMAL'], ['BEQ', 'SUBEQUATORIAL'], ['BEV', 'COURBEVOIE'], ['BET', 'MACBETH'], ['BEU', 'MAUBEUGE'], ['VLI', 'LIVLIHOOD'], ['TTY', 'SPOTTY'], ['SNE', 'AGELESSNESS'], ['OXT', 'FOXTAIL'], ['YUG', 'KALIYUGA'], ['PEW', 'CHIPPEWA'], ['GRU', 'MAGRUDER'], ['GRY', 'AGRYPNOTIC'], ['GRE', 'AGGREGATE'], ['GRA', 'AGGRADATION'], ['GRO', 'AGGRO'], ['WOR', 'SPLEENWORT'], ['GRI', 'AGGRIEVE'], ['NOL', 'KREMLINOLOGIST'], ['NOM', 'AGNOMEN'], ['NON', 'AGAMEMNON'], ['NOO', 'CHATTANOOGA'], ['NOH', 'CYANOHYDRIN'], ['NOI', 'SPHENOID'], ['NOD', 'SPHENODON'], ['NOE', 'APNOEA'], ['NOF', 'SPINOFF'], ['NOG', 'AGGLUTINOGEN'], ['NOA', 'IMMUNOASSAY'], ['NOB', 'GRENOBLE'], ['NOC', 'GREENOCK'], ['OXO', 'PARAOXON'], ['NOX', 'KNOXVILLE'], ['NOY', 'ANNOY'], ['NOZ', 'SPINOZA'], ['NOT', 'AGRYPNOTIC'], ['NOU', 'SPHAGNOUS'], ['NOV', 'JOVANOVICH'], ['NOW', 'MALINOWSKI'], ['NOP', 'SPHENOPSID'], ['SPR', 'MAINSPRING'], ['NOR', 'NYNORSK'], ['NOS', 'AGNOSTIC'], ['TOM', 'SPLENECTOMY'], ['EIS', 'KREISKY'], ['ZIR', 'WAZIRISTAN'], ['CTE', 'SPHINCTER'], ['OXF', 'FOXFIRE'], ['HYE', 'ISOHYET'], ['WHE', 'NOWHENCE'], ['LOD', 'SPLODGE'], ['SPI', 'GRASPING'], ['WHO', 'CHOWHOUND'], ['WHI', 'BEWHISKER'], ['ZIS', 'SPINOZISM'], ['OXA', 'CHIONODOXA'], ['WHY', 'FORWHY'], ['ZIP', 'MARZIPAM'], ['UNI', 'MANCUNIAN'], ['SPA', 'BEDSPACES'], ['AID', \"MAID'S\"], ['EDA', 'BEDABBLE'], ['ORZ', 'POMORZE'], ['EDG', 'KNOWLEDGE'], ['EDD', 'BEDDABLE'], ['EDE', 'MAXILLIPEDE'], ['ORV', 'DISPORVES'], ['ORW', 'NORWALK'], ['ORT', 'SPLEENWORT'], ['EDI', 'OCTANEDIOIC'], ['ORR', 'SPORRAN'], ['HYR', 'GRANOPHYRE'], ['ORP', 'UNINCORPORATED'], ['EDM', 'BEDMATE'], ['ORN', 'MATTERHORN'], ['EDS', 'BEDSIDE'], ['ORL', 'MANDORLA'], ['ORM', 'MALCONFORMATION'], ['ORJ', 'DOORJAMB'], ['EDW', 'BEDWARMER'], ['EDU', 'BEDUIN'], ['ORF', 'NORFOLK'], ['ORG', 'NORGE'], ['ORD', 'OCTACHORD'], ['ORE', 'SPLORE'], ['ORB', 'CHEMISORB'], ['ORC', 'MAJORCA'], ['AIG', 'MAIGRE'], ['ORA', 'AGORA'], ['JIG', 'REJIG'], ['UKU', 'MALUKU'], ['JID', 'MASJID'], ['UKI', 'SUKIYAKI'], ['JIB', 'OJIBWA'], ['UKA', 'YUKAWA'], ['ONI', 'AGONIC'], ['KHA', 'MARKHAM'], ['ONL', 'MATRONLY'], ['ONC', 'NONCALCAREOUS'], ['ONA', 'AGITATIONAL'], ['ONG', 'AGELONG'], ['OND', 'SPONDAIC'], ['ONE', 'AGONE'], ['ONY', 'AGONY'], ['ONR', 'MASONRY'], ['ONS', 'AGITATIONS'], ['ONW', 'NONWHITE'], ['ONT', 'SPHENODONT'], ['RZE', 'MANGELWURZEL'], ['OWL', 'MARROWLESS'], ['OWN', 'SPLASHDOWN'], ['GIG', 'WHIRLIGIG'], ['JIT', 'JIUJITSU'], ['OWE', 'MARLOWE'], ['PNE', 'GRAPNEL'], ['GIO', 'AGIOS'], ['JOR', 'MARJORAM'], ['JOS', 'CHAPAREJOS'], ['JOU', 'ADJOURN'], ['SAC', 'MASACCIO'], ['JOY', 'LOVEJOY'], ['PRO', 'AGITPROP'], ['PRI', 'MAINSPRING'], ['SAF', 'SASSAFRAS'], ['SAE', 'BURSAE'], ['SAD', 'TSADE'], ['PRU', 'SPRUCE'], ['JOB', 'STOCKJOBBER'], ['JOC', 'OUTJOCKEY'], ['ISR', 'DISRAELI'], ['JOH', 'DEMIJOHN'], ['JOI', 'NONJOINDER'], ['JOK', 'DJOKJAKARTA'], ['JOL', 'MAJOLICA'], ['SAV', 'PASSAVANT'], ['JON', 'MAHJONG'], ['SAT', 'SPOSATO'], ['CHA', 'SPLEUCHAN'], ['ZIT', 'ZIZITH'], ['ISP', 'NONDISPERSIVE'], ['JAZ', 'HEDJAZ'], ['CHE', 'SPLOTCHED'], ['JAY', 'POPINJAY'], ['JAV', 'REYKJAVIK'], ['CHI', 'MASOCHISM'], ['CHK', 'MAKHACHKALA'], ['CHL', 'MARCHLAND'], ['JAS', 'RAJASTHAN'], ['JAP', 'JIPIJAPA'], ['CHO', 'SPOROTRICHOSIS'], ['JAN', 'PANJANDRUM'], ['ZIG', 'LEIPZIG'], ['CHR', 'MACHREE'], ['JAM', 'BENJAMIN'], ['CHT', 'MAASTRICHT'], ['CHU', 'KREMENCHUG'], ['JAH', 'MAHARAJAH'], ['JAI', 'UJJAIN'], ['CHY', 'SPLOTCHY'], ['IST', 'AGONIST'], ['JAB', 'BEJABERS'], ['JAC', 'NONADJACENT'], ['APY', 'MASSOTHERAPY'], ['APR', 'MALAPROP'], ['APS', 'PROLAPSE'], ['APP', 'MAPPABLE'], ['SNA', 'WHIPPERSNAPPER'], ['ISI', 'MAXISINGLE'], ['APT', 'MALADAPT'], ['APU', 'MAPUTO'], ['APH', 'AGORAPHOBIA'], ['API', 'GRAPIER'], ['APN', 'GRAPNEL'], ['APO', 'JAPONICA'], ['APL', 'MAPLE'], ['SNO', 'FRESNO'], ['ISO', 'MADISON'], ['APA', 'AGAPANTHUS'], ['APE', 'AGAPE'], ['MAZ', 'ORMAZD'], ['YSA', 'CHRYSALID'], ['YSE', 'CHRYSELEPHANTINE'], ['RYE', 'GRAMARYE'], ['YUP', 'LAYUP'], ['YSS', 'BYSSINOSIS'], ['YOH', 'CRYOHYDRATE'], ['SNU', 'CANDLESNUFFER'], ['AFL', 'TETRAFLUORIDE'], ['AFO', 'PARAFORMALDEHYDE'], ['AFI', 'MAFIA'], ['AFE', 'MAFEKING'], ['AFF', 'AGRAFFE'], ['AFA', 'SAFAR'], ['YUR', 'RYURIK'], ['AFT', 'GRAFT'], ['AFR', 'SAFRANIN'], ['NUT', 'MACRONUTRIENT'], ['WYS', 'POWYS'], ['KNO', 'UNACKNOWLEDGED'], ['TSO', 'MATSON'], ['RYA', 'MARRYAT'], ['PEC', 'BESPECTACLED'], ['WYE', 'BOWYER'], ['WYA', 'BOWYANGS'], ['WYN', 'WELWYN'], ['NUN', 'NONUNIFORM'], ['ECE', 'MASTERPIECE'], ['ECD', 'SYNECDOCHE'], ['ECC', 'BECCAFICO'], ['NUO', 'TENUOUS'], ['ECO', 'MACROECONOMIC'], ['BEM', 'SUBEMPLOYED'], ['ECK', 'BEIDERBECKE'], ['NUL', 'AGRANULOCYTOSIS'], ['ECH', 'MARRAKECH'], ['ECU', 'MACROMOLECULAR'], ['ECT', 'SPLENECTOMY'], ['ECS', 'PARSECS'], ['EVA', 'BELIEVABILITY'], ['EUM', 'MAUSOLEUM'], ['EUL', 'BEULAH'], ['EUN', 'WHEREUNTO'], ['EUK', 'LEUKAS'], ['YAU', 'NOYAU'], ['EUD', 'SUBINFEUD'], ['EUG', 'MAUBEUGE'], ['NUI', 'TENUIS'], ['YAQ', 'GUAYAQUIL'], ['YAP', 'MAYAPPLE'], ['EUC', 'SPLEUCHAN'], ['EVE', 'AGGRIEVE'], ['YAM', 'MATSUYAMA'], ['NUF', 'MANUFACTORY'], ['YAN', 'NYANJA'], ['EUX', 'MONTEUX'], ['YAK', 'MAYAKOVSKI'], ['EUT', 'KREUTZER'], ['TSA', 'SITSANG'], ['EUP', 'MAKEUP'], ['EUS', 'MASSEUSE'], ['EUR', 'MASSEUR'], ['TUY', 'STUYVESANT'], ['NUE', 'MANUEL'], ['TUP', 'OCTUPLE'], ['NUB', 'MANUBRIUM'], ['TUR', 'AGRICULTURAL'], ['TUS', 'SITUS'], ['TUT', 'MATUTINAL'], ['TUV', 'LIETUVA'], ['TUI', 'MAUPERTUIS'], ['TUL', 'SITULA'], ['TUM', 'AGERATUM'], ['TUN', 'BEHISTUN'], ['VAH', 'HALVAH'], ['TUA', 'SITUATE'], ['TUB', 'BESTUBBLE'], ['NUA', 'MANUAL'], ['TUD', 'MAGNITUDE'], ['TUE', 'SPIRITUEL'], ['TUF', 'GREENSTUFF'], ['TUG', 'PORTUGAL'], ['UNP', 'GUNPAPER'], ['ZIO', 'MARENZIO'], ['IMB', 'MARIMBA'], ['TSW', 'SPORTSWEAR'], ['UNT', 'MARABUNTA'], ['SLO', 'BUSLOAD'], ['CYS', 'SPOROCYST'], ['CYR', 'SCYROS'], ['CYP', 'SCYPHIFORM'], ['POX', 'CHICKENPOX'], ['CYT', 'AGRANULOCYTOSIS'], ['POV', 'STOPOVER'], ['POT', \"SPOT'S\"], ['POU', 'SPOUSAL'], ['POR', 'SPOILSPORT'], ['POS', 'SPOSATO'], ['EVU', 'PREVUE'], ['CYC', 'NONCYCLIC'], ['CYB', 'PSILOCYBIN'], ['CYA', 'ISOCYANATE'], ['POM', 'APPOMATTOX'], ['POK', 'SPOKANE'], ['CYD', 'THUCYDIDES'], ['POG', 'PROSOPOGRAPHICAL'], ['POD', 'SPODE'], ['POE', 'PROSOPOPOEIA'], ['POB', 'MARSIPOBRANCH'], ['CYN', 'APOCYNACEOUS'], ['CYM', 'POLICYMAKER'], ['CYL', 'OCTADECYL'], ['ZIM', 'AZIMUTH'], ['IMM', 'AGLIMMER'], ['YIP', 'BUNYIP'], ['YUM', 'FAYUM'], ['UNA', 'MAUNA'], ['BOG', 'TURBOGENERATOR'], ['PAP', 'NOTEPAPER'], ['PAR', 'MAMPARA'], ['PAS', 'BYPASS'], ['PAT', 'BYPATH'], ['PAU', 'MAGNETOPAUSE'], ['PAV', 'SPAVIN'], ['PAW', 'SPAWN'], ['PAX', 'HAPAX'], ['PAY', 'NONPAYMENT'], ['URO', 'MAUROIS'], ['UNH', 'JOTUNHEIM'], ['PAB', 'MAPPABLE'], ['PAC', 'BEDSPACES'], ['PAD', 'SPADA'], ['PAE', 'SPAEING'], ['PAG', 'SPAGHETTI'], ['PAH', 'SPAHI'], ['NIB', 'UNIBUS'], ['PAK', 'SPAKE'], ['PAL', 'NOPAL'], ['PAN', 'AGAPANTHUS'], ['UNK', 'SPUNK'], [\"WE'\", \"LOWE'S\"], ['UNL', 'SUNLAMP'], ['UNM', 'KUNMING'], ['AWO', 'SEAWORTHINESS'], ['AWN', 'SPAWN'], ['AWL', 'SPRAWL'], ['AWK', 'MAWKIN'], ['UNN', 'CHUNNEL'], ['AWI', 'MALAWI'], ['AWH', 'HAWHAW'], ['AWF', 'UNLAWFUL'], ['AWE', 'WHIPSAWED'], ['UXM', 'FLUXMETER'], ['AWA', 'MASSAWA'], ['VAN', 'MAIDSERVANT'], ['WEB', 'SPIDERWEB'], ['WEA', 'SPORTSWEAR'], ['WEE', 'AGUEWEED'], ['OMB', 'BEACHCOMB'], ['UJU', 'JIUJUTSU'], ['WEI', 'MAKEWEIGHT'], ['WEH', 'JAHWEH'], ['WEN', 'OWENS'], ['WEL', 'SITWELL'], ['WES', 'NORTHWEST'], ['WER', 'MAYFLOWER'], ['UJI', 'JIUJITSU'], ['WET', 'BELLWETHER'], ['WEY', 'STOWEY'], ['UJA', 'HALLELUJAH'], ['OIN', 'MACEDOINE'], ['OIL', 'SPOIL'], ['OME', 'AGNOMEN'], ['IHR', 'MIHRAB'], ['OID', 'SPHENOID'], ['NAB', 'AGGLUTINABILITY'], ['SOI', 'MASSASOIT'], ['OIS', 'MAUROIS'], ['OIR', 'BEAUVOIR'], ['AEP', 'CHAMAEPHYTE'], ['AES', 'MAESTOSO'], ['AER', 'CHAERONEA'], ['AET', 'MAETERLINCK'], ['TOG', 'OCTOGENARIAN'], ['DMI', 'MALADMINISTER'], ['OMN', 'BUXOMNESS'], ['AEC', 'MAECENAS'], ['NAC', 'NYCTAGINACEOUS'], ['AED', 'PROPAEDEUTIC'], ['AEG', 'JAEGER'], ['AEO', 'PAEON'], ['AEN', 'MAENAD'], ['BUZ', 'ABUZZ'], ['BUY', 'OVERBUY'], ['BUR', 'MARBURG'], ['BUS', 'AGRIBUSINESS'], ['BUT', 'MALDISTRIBUTE'], ['BUJ', 'MBUJIMAYI'], ['BUK', 'KABUKI'], ['BUI', 'IMBUING'], ['BUN', 'MARABUNTA'], ['BUO', 'SHABUOTH'], ['BUL', 'JUBBULPORE'], ['BUM', 'STUMBLEBUM'], ['BUB', 'BEELZEBUB'], ['BUC', 'CHLORAMBUCIL'], ['BUF', 'SUBUFD'], ['BUG', 'BEDBUG'], ['BUD', 'OMBUDSMAN'], ['BUE', 'IMBUE'], ['MOZ', 'HOMOZYGOSIS'], ['MOY', 'DORMOY'], ['MOX', 'FLUMMOX'], ['PSO', 'MONOPSONY'], ['MOS', 'MARMOSET'], ['MOR', 'MARMOREAL'], ['MOP', 'BELMOPAN'], ['MOW', 'TOMOWA'], ['MOV', 'NONREMOVABLE'], ['MOU', 'SPUMOUS'], ['MOT', 'OCULOMOTOR'], ['MOK', 'NONSMOKER'], ['KYP', 'SKYPHOI'], ['MOI', 'SPHYGMOID'], ['MOH', 'ALMOHADE'], ['MOO', 'CHAULMOOGRA'], ['MON', 'AGRIMONY'], ['MOM', 'SPHYGMOMANOMETER'], ['MOL', 'MARMOLADA'], ['MOC', 'MAMMOCK'], ['MOB', 'PNEUMOBACILLUS'], ['MOA', 'CHEMOAUTOTROPHIC'], ['MOG', 'AGAMOGENESIS'], ['MOF', 'BROMOFORM'], ['MOE', 'HOMOEROTIC'], ['MOD', 'UNIMODAL'], ['ETR', 'SPHYGMOMANOMETRIC'], ['MYR', 'TOMMYROT'], ['ETU', 'MANSUETUDE'], ['ETZ', 'TETZEL'], ['ETY', 'SNIPPETY'], ['PIE', 'MASTERPIECE'], ['ETC', 'KRETCHMER'], ['ETA', 'MARKETABILITY'], ['ETE', 'AGAMETE'], ['ETH', 'OCTYLPHENYLETHER'], ['ETI', 'SPLENETIC'], ['VYI', 'SAVVYING'], ['PRY', 'SPRYER'], ['VRE', 'CHEVRETTE'], ['VRI', 'BAHUVRIHI'], ['VRO', 'CHEVROLET'], ['YRE', 'GRANOPHYRE'], ['PIP', 'PARALLELEPIPED'], ['PIR', 'SPIRACLE'], ['PIT', 'SPITAL'], ['PIU', 'MARSUPIUM'], ['LOB', 'SLOBBER'], ['LOC', 'AGALLOCH'], ['LOA', 'WORKLOAD'], ['LOF', 'PRIBILOF'], ['LOG', 'AGRIOLOGY'], ['LOE', 'KYLOE'], ['LOK', 'MOLOKAI'], ['LOH', 'CYCLOHEPTATRIENYL'], ['LOI', 'OCTOPLOID'], ['LON', 'AGELONG'], ['LOO', 'ONLOOK'], ['LOL', 'MAILLOL'], ['LOM', 'AGGLOMERATE'], ['LOR', 'SPLORE'], ['LOS', 'BYELOSTOK'], ['LOP', 'NYCTALOPIA'], ['LOQ', 'MAGNILOQUENCE'], ['LOV', 'BYELOVO'], ['LOW', 'AGLOW'], ['LOT', 'SPLOTCH'], ['LOU', 'MACROCEPHALOUS'], ['LOZ', 'HOLOZOIC'], ['LOX', 'ISOALLOXAZINE'], ['LOY', 'ZIRCALLOY'], ['NAI', 'AGNAIL'], ['KWA', 'GRIKWA'], ['VAL', 'OCTAVALENT'], ['KWE', 'WORKWEEK'], ['NAN', 'MAGNANIMITY'], ['EBE', 'MACEBEARER'], ['EBB', \"WEBB'S\"], ['EBL', 'NOSEBLEED'], ['EBO', 'BEBOP'], ['EBU', 'MAGDEBURG'], ['EBR', 'MALEBRANCHE'], ['NIR', 'UNIRAMOUS'], ['NAO', 'MARIANAO'], ['DRY', 'BENADRYL'], ['ZYG', 'MONOZYGOTIC'], ['ZYM', 'PROENZYME'], ['DRU', 'CHONDRULE'], ['DRI', 'SPOONDRIFT'], ['DRO', 'SPLENDROUS'], ['NIS', 'AGONIST'], ['DRA', 'OCTAHEDRA'], ['NAL', 'AGITATIONAL'], ['DRE', 'MADRE'], ['OHM', 'BEERBOHM'], ['OHI', 'PROHIBIT'], ['UIG', 'GUIGNOL'], ['IOT', 'AGIOTAGE'], ['IOS', 'AGIOS'], ['UIN', 'MAROQUIN'], ['ION', 'AGNATION'], ['IOL', 'AGRIOLOGY'], ['UIT', 'GRAPEFRUIT'], ['IOD', 'APERIODIC'], ['IOC', 'MANIOC'], ['REW', 'BESHREW'], ['RET', 'KRETCHMER'], ['NAR', 'OCTOCENTENARY'], ['NAS', 'NYCTINASTY'], ['GOM', 'SPHINGOMYELIN'], ['REC', 'GRECIAN'], ['VAR', 'NOVARA'], ['PTO', 'GRAPTOLITE'], ['SCL', 'MASCLE'], ['SCO', 'MASCON'], ['REA', 'OCREA'], ['SCI', 'NONSCIENTIFIC'], ['SCH', 'MARASCHINO'], ['PTI', 'MAGNETOOPTIC'], ['SCE', 'SPUMESCENT'], ['REF', 'KREFELD'], ['PTE', 'MACROPTEROUS'], ['SCA', 'AGUASCALIENTES'], ['PTA', 'MALADAPTATION'], ['SCY', 'HYOSCYAMINE'], ['PTY', 'NONEMPTY'], ['SCU', 'MASCULINE'], ['MNE', 'GRIMNESS'], ['SCR', 'MANUSCRIPT'], ['UXO', 'BUXOM'], ['WHA', 'SPARROWHAWK'], ['AVU', 'GRAVURE'], ['AVL', 'PAVLODAR'], ['AVO', 'OCTAVO'], ['AVI', 'OCTAVIA'], ['AVE', 'AGAVE'], ['AVA', 'AGGRAVATE'], ['SUG', 'INSUGENTLY'], ['SUF', 'INSUFFERABLE'], ['SUE', 'MANSUETE'], ['SUD', 'TRANSUDATE'], ['SUC', 'NONESUCH'], ['SUB', 'CHASUBLE'], ['SUA', 'UNASSUAGEABLE'], ['SUO', 'SENSUOSITY'], ['SUN', 'WHITSUN'], ['NAT', 'AGNATE'], ['SUL', 'GROSSULAR'], ['SUK', 'ADSUKI'], ['SUI', 'NONSUIT'], ['SUH', 'MUTSUHITO'], ['SUV', 'VESUVIAN'], ['SUT', 'BASUTOLAND'], ['SUS', 'BYSSUS'], ['SUR', 'MASURIA'], ['GOT', 'MAGGOT'], ['YQU', 'NYQUIST'], ['TEH', 'WHITEHALL'], ['TEI', 'MATTEI'], ['TEK', 'KOHOUTEK'], ['TEL', 'AGGREGATELY'], ['TEM', 'MACROSYSTEM'], ['TEN', 'AGGREGATENESS'], ['TEO', 'MATEO'], ['NAU', 'MANAUS'], ['TEA', 'MANTEAU'], ['TEB', 'NOTEBOOK'], ['TEC', 'MASTECTOMIES'], ['TED', 'AGITATED'], ['TEE', 'MARKETEER'], ['TEF', 'GRATEFUL'], ['TEG', 'MANTEGNA'], ['TEX', 'POSTEXILIAN'], ['TEY', 'MATEY'], ['TEZ', 'MONTEZUMA'], ['TEP', 'NOTEPAPER'], ['TER', 'AGLITTER'], ['TES', 'AGITATES'], ['TET', 'OCTET'], ['TEU', 'PROSATEUR'], ['TEV', 'MONTEVERDI'], ['TEW', 'AGATEWARE'], ['DNE', 'AGEDNESS'], ['ADU', 'MADURA'], ['ADR', 'MADRAS'], ['ADS', 'MADSEN'], ['ADP', 'TADPOLE'], ['DNI', 'GRANDNIECE'], ['ADY', 'MACREADY'], ['ADD', 'MADDALENA'], ['ADE', 'AGGRADE'], ['ADA', 'AGGRADATION'], ['ADN', 'MADNESS'], ['ADO', 'MATADOR'], ['ADL', 'MADLY'], ['ADM', 'MADMAN'], ['ADJ', 'MALADJUST'], ['ADK', 'SZABADKA'], ['ADH', 'MADHOUSE'], ['ADI', 'AGADIR'], ['BRY', 'POSTEMBRYONAL'], ['BRU', 'MASHARBRUM'], ['MCH', 'KAMCHATKA'], ['MWA', 'FIRMWARE'], ['BRO', 'PIBROCH'], ['BRI', 'OCTOBRIST'], ['BRE', 'MACABRE'], ['BRA', 'MARSIPOBRANCH'], ['TWA', 'BELTWAY'], ['MWE', 'BANTAMWEIGHT'], ['TWE', 'SITWELL'], ['DEO', 'CHLAMYDEOUS'], ['TWO', 'BENTWOOD'], ['NAY', 'PANAY'], ['EAL', 'MARMOREAL'], ['EAN', 'MARMOREAN'], ['EAG', 'BELEAGUER'], ['EAS', 'MALFEASANCE'], ['EAR', 'SPORTSWEAR'], ['EAT', 'MAGNETOSHEATH'], ['EAV', 'BEAVER'], ['HOF', 'NORDHOFF'], ['HOG', 'MAHOGANY'], ['HOD', 'WHODUNIT'], ['HOE', 'WHOEVER'], ['HOB', 'AGORAPHOBIA'], ['HOC', 'ORTHOCEPHALIC'], ['ESQ', 'GROTESQUE'], ['HOA', 'CHOANOCYTE'], ['HON', 'MARATHON'], ['HOO', 'MAIDENHOOD'], ['HOL', 'NYMPHOLEPSY'], ['HOM', 'NYMPHOMANIA'], ['HOK', 'CHOKE'], ['HOH', 'ORTHOHYDROGEN'], ['HOI', 'CHOICE'], ['HOV', 'BEETHOVEN'], ['HOW', 'NOHOW'], ['HOT', 'GRAPESHOT'], ['ESD', 'BETHESDA'], ['HOR', 'SPORANGIOPHORE'], ['HOS', 'SPOROTRICHOSIS'], ['HOP', 'BELLHOP'], ['ORS', 'AGITATORS'], ['ESO', 'BESOM'], ['ESM', 'SPOKESMAN'], ['ESK', 'SNAKESKIN'], ['KLY', 'PRICKLY'], ['HOX', 'ETHOXIDE'], ['HOY', 'HOBBLEDEHOY'], ['YGE', 'APOPHYGE'], ['VEC', 'EVECTION'], ['EOC', 'PROTEOCLASTIC'], ['EOB', 'PALAEOBOTANY'], ['EOG', 'BEOGRAD'], ['RYD', 'EVERYDAY'], ['EOH', 'GEOHYDROLOGIC'], ['OYS', 'BELLBOYS'], ['EON', 'WHEREON'], ['EOL', 'MALLEOLUS'], ['EOS', 'PROTEOSE'], ['EOZ', 'PALAEOZOIC'], ['AMF', 'CHAMFER'], ['RYS', 'GRYSBOK'], ['URE', 'AGRICULTURE'], ['FIR', 'SPITFIRE'], ['FIS', 'SNIFFISH'], ['VAI', 'BEAUVAIS'], ['FIV', 'SPOILFIVE'], ['FIT', 'BENEFIT'], ['FIZ', 'HAFIZ'], ['VAC', 'MALVACEOUS'], ['FIX', 'AFFIX'], ['VAA', 'TRANSVAAL'], ['VAG', 'UNINVAGINATED'], ['VAD', 'EVADABLE'], ['FIB', 'INFIBULATE'], ['FIC', 'MAGNIFIC'], ['FIA', 'MAFIA'], ['FIG', 'NONFIGURATIVE'], ['FID', 'NONCONFIDENCE'], ['FIE', 'MASEFIELD'], ['VAS', 'MALVASIA'], ['VAP', 'EVAPORABLE'], ['FIN', 'SNIFFINESS'], ['FIO', 'MAFIOSI'], ['FIL', 'SNIFFILY'], ['WUR', 'MANGELWURZEL'], ['WUP', 'SCREWUP'], ['ORY', 'MASTICATORY'], ['WUN', 'SWUNG'], ['WUL', 'KYNEWULF'], ['ORU', 'SPORULATE'], ['EDO', 'MACEDOINE'], ['ORO', 'NYORO'], ['URA', 'AGRICULTURAL'], ['UVA', 'BEAUVAIS'], ['UVE', 'MAUVE'], ['ORK', 'MASTERWORK'], ['ORI', 'SPONSORIAL'], ['RWA', 'NORWALK'], ['INY', 'GRAINY'], ['INT', 'SPLINT'], ['INU', 'SPINULE'], ['INV', 'NONINVERTIBLE'], ['INW', 'SATINWOOD'], ['INP', 'SATINPOD'], ['INQ', 'PROPINQUITY'], ['INR', 'SPINRAD'], ['INS', 'AGGLUTININS'], ['INL', 'MAUDLINLY'], ['INM', 'MARTINMAS'], ['INN', 'BEGINNER'], ['INO', 'AGGLUTINOGEN'], ['INH', 'MATOZINHOS'], ['INI', 'AGOSTINI'], ['INJ', 'UNINJECTABLE'], ['INK', 'MALINKE'], ['IND', 'MASTERMIND'], ['INE', 'AGRIBUSINESS'], ['INF', 'MAINFRAME'], ['ING', 'AGING'], ['INA', 'AGMINATE'], ['INB', 'MAINBRACE'], ['INC', 'AGINCOURT'], ['GLI', 'AGLIMMER'], ['DOI', 'MACEDOINE'], ['DON', 'SPHENODON'], ['DOO', 'APELDOORN'], ['DOL', 'MANDOLA'], ['DOM', 'MARTYRDOM'], ['AKS', 'BEAKS'], ['AKR', 'BAKRA'], ['DOA', 'IODOAMINO'], ['DOF', 'IODOFORM'], ['AKV', 'OAKVILLE'], ['AKU', 'MAKURDI'], ['AKT', 'BREAKTHROUGH'], ['AKK', 'MAKKAH'], ['GLY', 'SPORTINGLY'], ['AKI', 'MAPMAKING'], ['AKH', 'MAKHACHKALA'], ['AKM', 'OAKMONT'], ['DOR', 'SPLENDOROUS'], ['AKB', 'BREAKBONE'], ['DOP', 'CHORDOPHONE'], ['DOV', 'ORDOVICIAN'], ['DOW', 'SPLASHDOWN'], ['AKE', 'SPLAKE'], ['DOU', 'OCTOPODOUS'], ['URM', 'TURMERIC'], ['UPR', 'BUPRESTID'], ['IBA', 'PROPIONIBACTERIA'], ['AUC', 'MAUCERI'], ['AUB', 'MAUBEUGE'], ['AUE', 'SCHONGAUER'], ['AUD', 'MARAUD'], ['AUG', 'MASSASAUGA'], ['AUK', 'PEWAUKEE'], ['AUL', 'MAULANA'], ['AUN', 'MAUNA'], ['AUS', 'MAUSER'], ['AUR', 'MAUREEN'], ['AUT', 'BEAUT'], ['AUV', 'MAUVE'], ['AUX', 'MARGAUX'], ['PUL', 'MANIPULABILITY'], ['PUM', 'SPUME'], ['PUN', 'SPUNK'], ['PUI', 'IMPUISSANCE'], ['PUK', 'SEPPUKU'], ['PUD', 'SPUDDED'], ['PUF', 'POWDERPUFF'], ['PUG', 'SPUGGY'], ['PUB', 'UNPUBLISHED'], ['PUC', 'PREPUCE'], ['OBN', 'JOBNAME'], ['PUT', 'SPUTA'], ['PUP', 'INTEPUPILLARY'], ['PUR', \"SPUR'S\"], ['PUS', 'OCTOPUS'], ['BAV', 'SUBAVERAGE'], ['BAW', 'SUMBAWA'], ['BAT', 'MASBATE'], ['BAU', 'SUBAUDIBLE'], ['BAR', 'MALABAR'], ['BAS', 'MAEBASHI'], ['ERR', 'MACKERRAS'], ['ERS', 'AGERS'], ['KOA', 'SKOAL'], ['KOC', 'LEUKOCYTE'], ['KOB', 'KOKOBEH'], ['BAZ', 'CHABAZITE'], ['ERY', 'SPHERY'], ['ERZ', 'BERZELIUS'], ['BAY', 'KOBAYASHI'], ['BAF', 'ABAFT'], ['BAG', 'MAILBAG'], ['BAD', 'MARIENBAD'], ['BAE', 'SCARABAEID'], ['BAB', 'PROBABILISM'], ['BAC', 'SPLASHBACK'], ['ERB', 'MALHERBE'], ['ERC', 'BERCEUSE'], ['ERL', 'MASTERLINESS'], ['ERM', 'MASTERMIND'], ['ERN', 'MATERNAL'], ['BAM', 'COCHABAMBA'], ['BAJ', 'SOERABAJA'], ['BAK', 'SUNBAKE'], ['BAH', 'JUBBAH'], ['BAI', 'BEARBAITING'], ['KNI', 'JACKKNIFE'], ['KUN', 'BAKUNIN'], ['STD', 'POSTDATE'], ['STE', 'SITOSTEROL'], ['KNE', 'GREENSICKNESS'], ['STA', 'NYSTAGMIC'], ['HAD', 'MASHHAD'], ['STO', 'AGROSTOLOGY'], ['STH', 'MASTHEAD'], ['STI', 'AGONISTIC'], ['STU', 'MASTURBATE'], ['STR', 'BYSTREET'], ['PRE', 'MARPRELATE'], ['KUM', 'BUNKUM'], ['KNA', 'KNICKKNACK'], ['STY', 'NYCTINASTY'], ['ONO', 'AGRONOMIC'], ['LID', 'NYMPHALID'], ['LIE', 'AGUASCALIENTES'], ['LIF', 'MALIFEROUS'], ['LIG', 'SPOTLIGHT'], ['OKE', 'SPOKE'], ['LIA', 'SPOLIATE'], ['LIB', 'MALIBU'], ['LIC', 'SPLICE'], ['LIL', 'CHILLILY'], ['LIM', 'AGLIMMER'], ['LIN', 'KYLIN'], ['LIO', 'OCTILLION'], ['NEL', 'MASCULINELY'], ['MRI', 'KYMRIC'], ['LIK', 'SPORTSMANLIKE'], ['LIT', 'AGLITTER'], ['LIV', 'BELIVE'], ['LIP', 'MAXILLIPED'], ['LIQ', 'APPLIQUE'], ['LIR', 'SUBDELIRIUM'], ['LIS', 'AGRICULTURALIST'], ['LIX', 'KYLIX'], ['ZIL', 'WHEEZILY'], ['LIZ', 'BELIZE'], ['NEK', 'ROOINEK'], ['KNU', 'LOCKNUT'], ['NEH', 'STONEHENGE'], ['NED', 'SPURNED'], ['KUT', 'MAKUTA'], ['NIK', 'SPUTNIK'], ['KUS', 'HOKUSAI'], ['KUR', 'MAKURDI'], ['HRO', 'NONSYNCHRONOUS'], ['NEA', 'MARTINEAU'], ['HRA', 'SPHRAGISTICS'], ['KAC', 'BACKACHE'], ['KAB', 'MASKABLE'], ['KAA', 'AFRIKAANS'], ['KAG', 'UNPACKAGE'], ['KAD', 'WORKADAY'], ['KAK', 'KANKAKEE'], ['KAJ', 'KINKAJOU'], ['KAI', 'MOLOKAI'], ['KAH', 'MAKKAH'], ['KAO', 'TAKAO'], ['KAN', 'SPOKANE'], ['KAM', 'HACKAMORE'], ['KAL', 'MAKALU'], ['KAS', 'UKASE'], ['KAR', 'MAKARIOS'], ['KAP', 'CHINKAPIN'], ['KAW', 'YUKAWA'], ['KAV', 'VLADIKAVKAZ'], ['KAU', 'MANUKAU'], ['KAT', 'CHEAPSKATE'], ['RHA', 'EVERHART'], ['KAZ', 'VLADIKAVKAZ'], ['KAY', 'MACKAY'], ['RHE', 'MANNERHEIM'], ['NIA', 'NYMPHOMANIA'], ['NIF', 'SNIFF'], ['KOK', 'KUSKOKWIM'], ['NID', 'SNIDE'], ['NEW', 'AGNEW'], ['NIE', 'AGONIES'], ['NIZ', 'MANIZALES'], ['NEU', 'NONEUCLIDEAN'], ['NUD', 'MANUDUCTION'], ['UGL', 'SNUGLY'], ['NER', 'SPURNER'], ['UGA', 'MASSASAUGA'], ['NES', 'AGNES'], ['SYP', 'SISYPHEAN'], ['NEP', 'GRANDNEPHEW'], ['UGR', 'MAUGRE'], ['ENA', 'OCTOCENTENARY'], ['ENC', 'AGENCIES'], ['END', 'AGENDA'], ['ENE', 'AGGREGATENESS'], ['ENF', 'SPLEENFUL'], ['ENG', 'MARENGO'], ['ENH', 'MAIDENHAIR'], ['ENI', 'AGGLUTINOGENIC'], ['ENJ', 'BENJAMIN'], ['ENK', 'CHERENKOV'], ['ENL', 'MAIDENLINESS'], ['ENM', 'ERLENMEYER'], ['ENN', 'OCTENNIAL'], ['ENO', 'SPHENODON'], ['ENP', 'GREENPEACE'], ['ENQ', 'PALENQUE'], ['ENR', 'GREENROOM'], ['ENS', 'MARTENS'], ['ENT', 'AGENT'], ['ENU', 'BENUE'], ['ENV', 'GREENVILLE'], ['ENW', 'SPLEENWORT'], ['OXE', 'MAILBOXES'], ['ENZ', 'MARENZIO'], ['NIP', 'SNIPE'], ['OXB', 'BOXBOARD'], ['OXC', 'COXCOMB'], ['NIV', 'SNIVEL'], ['SUP', 'MARSUPIAL'], ['OMD', 'COMDEX'], ['NIT', 'KYANITE'], ['CZE', 'ECZEMA'], ['ATE', 'AGNATE'], ['ATB', 'SCATBACK'], ['ATC', 'MATCH'], ['ATA', 'MATABELE'], ['ISS', 'MASINISSA'], ['ATO', 'AGITATO'], ['ATL', 'IXTACCIHUATL'], ['ATM', 'MAHATMA'], ['ATK', 'KAMCHATKA'], ['ATH', 'AGATHA'], ['ATI', 'AGNATIC'], ['ISK', 'KREISKY'], ['ATW', 'WHEATWORM'], ['ATT', 'SPLATTER'], ['ATU', 'AGERATUM'], ['ATR', 'MARIOLATRY'], ['ISN', 'EISNER'], ['ISM', 'AGNOSTICISM'], ['ISL', 'KREISLER'], ['ISC', 'EVISCERATE'], ['ISA', 'MARQUISATE'], ['ISE', 'MARKETWISE'], ['ATY', 'MALATYA'], ['SEW', 'GREASEWOOD'], ['SEV', 'PERSEVERANCE'], ['SEU', 'MASSEUR'], ['SET', 'MASSACHUSET'], ['SES', 'SPOUSES'], ['SER', 'MASER'], ['SEQ', 'NONSEQUENCED'], ['SEP', 'GREASEPAINT'], ['SEY', 'MASSEY'], ['SEX', 'UNISEX'], ['SEG', 'NONSEGREGATED'], ['SEF', 'MASEFIELD'], ['SEE', 'MAHSEER'], ['SED', 'BYPASSED'], ['SEC', 'NONINTERSECTING'], ['SEB', 'NOSEBAG'], ['SEA', 'MARSHALSEA'], ['SEO', 'GRISEOFULVIN'], ['SEN', 'MASSENET'], ['SEM', 'BESSEMER'], ['SEL', 'MADEMOISELLE'], ['SEI', 'MARSEILLAISE'], ['IMA', 'MAXIMA'], ['FRA', 'MAINFRAME'], ['CLO', 'BECLOUD'], ['CLI', 'MATRICLINOUS'], ['FRE', 'MANFRED'], ['IMI', 'MAXIMILIAN'], ['CLE', 'MASCLE'], ['FRI', 'BELFRIES'], ['FRO', 'BEACHFRONT'], ['CLA', 'NOMENCLATOR'], ['IMP', 'MALIMPRINTED'], ['IMR', 'PRIMRDIUM'], ['CLY', 'SPORADICLY'], ['FRU', 'GRAPEFRUIT'], ['CLU', 'MALOCCLUSION'], ['FRY', 'BELFRY'], ['ZEB', 'BEELZEBUB'], ['ZEC', 'CZECH'], ['ZEA', 'GRAZEABLE'], ['ZEF', 'PRIZEFIGHT'], ['ZED', 'BENZEDRINE'], ['ZEE', 'CHIMPANZEE'], ['ZEI', 'CRUZEIRO'], ['ZEN', 'BENZENE'], ['ZEO', 'AZEOTROPIC'], ['ZEL', 'MAAZEL'], ['ZEM', 'CHERNOZEM'], ['ZER', 'KREUTZER'], ['ZES', 'MAIZES'], ['ZET', 'VANZETTI'], ['SWI', 'BEESWING'], ['ADV', 'UNADVENTUROUS'], ['UNJ', 'PANMUNJOM'], ['SWO', 'SPOKESWOMAN'], ['SWA', 'BEESWAX'], ['SWE', 'SPORTSWEAR'], ['GYA', 'MAGYAR'], ['GYN', 'PROTOGYNOUS'], ['GYM', 'CLERGYMAN'], ['GYR', 'SPIROGYRA'], ['GYP', 'EGYPT'], ['DHO', 'MADHOUSE'], ['GOL', 'MARIGOLD'], ['GOO', 'BURGOO'], ['GON', 'AGONE'], ['GOI', 'ONGOING'], ['GOE', 'CHURCHGOER'], ['GOD', 'PAGODA'], ['GOG', 'MAGOG'], ['GOF', 'CHICHAGOF'], ['GOA', 'CHICAGOAN'], ['DHA', 'BEHINDHAND'], ['GOB', 'LONGOBARD'], ['GOY', 'BURGOYNE'], ['GOU', 'AGOUTI'], ['AJA', 'MAHARAJA'], ['GOW', 'HOOSEGOW'], ['GOV', 'MALGOVERNMENT'], ['GOP', 'MASTIGOPHORAN'], ['GOS', 'AGOSTINI'], ['GOR', 'AGORA'], ['PEY', 'POMPEY'], ['NRO', 'MANROPE'], ['UDO', 'EUDOXUS'], ['UDM', 'LOUDMOUTH'], ['QAT', 'MASQAT'], ['QAB', 'AQABA'], ['RIZ', 'GRIZZLE'], ['RIY', 'TERIYAKI'], ['RIV', 'MARIVAUX'], ['RIT', 'SPHALERITE'], ['HSI', 'BEACHSIDE'], ['RIS', 'AGRICULTURIST'], ['RIP', 'AGRIPPA'], ['RIN', 'SPURRING'], ['RIO', 'AGRIOLOGY'], ['RIL', 'MARILYN'], ['RIM', 'AGRIMONY'], ['RIJ', 'MARIJUANA'], ['RIK', 'GRIKWA'], ['RIF', 'SPOONDRIFT'], ['RIG', 'AGRIGENTO'], ['RID', 'MADRID'], ['RIE', 'AGGRIEVE'], ['RIB', 'AGRIBUSINESS'], ['RIC', 'AGARIC'], ['RIA', 'AGRARIAN'], ['HAH', 'PARASHAH'], ['HAI', 'MAIDENHAIR'], ['HAK', 'KHAKASS'], ['HAL', 'NYMPHAL'], ['HAM', 'MARIEHAMN'], ['HAN', 'SPLEUCHAN'], ['HAO', \"CHAO'S\"], ['HAA', 'SPRINGHAAS'], ['HAB', 'MATCHABLE'], ['HAC', 'MAKHACHKALA'], ['EQU', 'MANNEQUIN'], ['HAE', 'NYMPHAEACEOUS'], ['HAF', 'CHAFE'], ['HAG', 'SPHAGNOUS'], ['XIP', 'TAXIPLANE'], ['HAY', 'MAHAYANA'], ['HAZ', 'BENGHAZI'], ['HAP', 'MAYHAP'], ['HAR', 'MASHARBRUM'], ['HAS', 'AGHAST'], ['HAT', 'MATRIARCHATE'], ['HAU', 'BELLINGSHAUSEN'], ['HAV', 'SPOKESHAVE'], ['HAW', 'TOMAHAWK'], ['SYC', 'ORTHOPSYCHIATRIC'], ['LXV', 'CLXVI'], ['YEM', 'NYEMAN'], ['YEL', 'SPHINGOMYELIN'], ['MIX', 'APOMIXIS'], ['YEC', 'EMBRYECTOMY'], ['SYN', 'NONSYNCHRONOUS'], ['SYM', 'PARASYMPATHETIC'], ['SYL', 'OCTOSYLLABIC'], ['SYS', 'MACROSYSTEM'], ['SYR', 'ASSYRIA'], ['MIZ', 'SAMIZDAT'], ['MEL', 'MAMELON'], ['YES', 'MAYEST'], ['YER', 'NYERERE'], ['XEN', 'EUXENITE'], ['SAP', 'CHESAPEAKE'], ['YEV', 'MAKEYEVKA'], ['EME', 'AGREEMENT'], ['EMD', 'NOVEMDECILLION'], ['EMA', 'NYEMAN'], ['EMC', 'TLEMCEN'], ['EMB', 'NOVEMBER'], ['EMM', 'MAREMMA'], ['EMO', 'MADEMOISELLE'], ['EMI', 'MAGNETOCHEMISTRY'], ['EMU', 'MALEMUTE'], ['EMP', 'BENEMPT'], ['MIR', 'BESMIRCH'], ['MIT', 'MARMITE'], ['YPR', 'BYPRODUCT'], ['FOT', 'FYLFOT'], ['FOU', 'BEFOUL'], ['FOW', 'MOORFOWL'], ['XER', 'SUFFIXER'], ['FOR', 'MALCONFORMATION'], ['FOS', 'MACROFOSSIL'], ['FOX', 'SULFOXIDE'], ['FOD', 'EISTEDDFOD'], ['FOE', 'DEFOE'], ['FOG', 'BEFOG'], ['FOA', 'STYROFOAM'], ['FOC', 'LOCOFOCO'], ['FOL', 'MANIFOLD'], ['FON', 'GRIFFON'], ['FOO', 'SPLAYFOOT'], ['LJU', 'SELJUK'], ['FOI', 'COUNTERFOIL'], ['POO', 'SPOOF'], ['SAM', 'CHEONGSAM'], ['KOO', 'CHILKOOT'], ['SAL', 'NYASALAND'], ['SAB', 'NONREIMBURSABLE'], ['SAA', 'KURSAAL'], ['POL', 'SPOLIATE'], ['ILF', 'SPOILFIVE'], ['COP', 'SNIPERSCOPE'], ['COS', 'MARCOS'], ['ILE', 'AGILE'], ['COU', 'AGINCOURT'], ['COT', 'MASCOT'], ['COW', 'ECOWAS'], ['COV', 'BUCOVINA'], ['COY', 'COCOYAM'], ['COX', 'PRINCOX'], ['ILL', 'SPOONBILL'], ['ILM', 'MAILMAN'], ['PEP', 'EUPEPSIA'], ['ILK', 'CHILKOOT'], ['PER', 'SPOKESPERSON'], ['ILI', 'AGILITY'], ['COA', 'MAILCOACH'], ['PEM', 'APOPEMPTIC'], ['COC', 'SPITCHCOCK'], ['COB', 'JACOB'], ['COE', 'LOCOES'], ['COD', 'TOMCOD'], ['COG', 'ONCOGENE'], ['COF', 'LOCOFOCO'], ['COI', 'HYRACOID'], ['COH', 'INTERCOHORT'], ['COK', 'PHARMACOKINETIC'], ['PEG', 'UNPEG'], ['COM', 'SITCOM'], ['COL', 'AGRICOLA'], ['COO', 'NONCOOPERATION'], ['CON', 'MASCON'], ['SAY', 'YSAYE'], ['SAX', 'TRANSAXLE'], ['WAN', 'BWANA'], ['WAM', 'SWAMI'], ['TWI', 'MARKETWISE'], ['WAK', 'AWAKE'], ['WAJ', 'KWAJALEIN'], ['WAI', 'BEWAIL'], ['WAH', 'SWAHILI'], ['WAG', 'CHINWAG'], ['WAF', 'LUFTWAFFE'], ['WAC', 'GREYWACKE'], ['WAB', 'NONRENEWABLE'], ['UTA', 'SPUTA'], ['SAS', 'MASSASAUGA'], ['WAZ', 'KWAZULU'], ['WAY', 'AGWAY'], ['SAR', 'MASARYK'], ['WAV', 'HANDWAVING'], ['WAU', 'PEWAUKEE'], ['WAT', 'GROUNDWATER'], ['WAS', 'WHITEWASH'], ['WAR', 'AGATEWARE'], ['WAP', 'SWAPPABLE'], ['RUI', 'GRAPEFRUIT'], ['RUN', 'GRUNDHEBER'], ['RUL', 'SPHERULE'], ['RUM', 'MASHARBRUM'], ['OES', 'MANIFESTOES'], ['OER', 'EVILDOER'], ['RUF', 'GRUFF'], ['RUG', 'GRUGRU'], ['OEU', 'INDOEUROPEAN'], ['RUE', 'GRUEL'], ['OEI', 'PROSOPOPOEIA'], ['RUY', 'GRUYERE'], ['OEN', 'MACROENCEPHALY'], ['OEM', 'PROEM'], ['OEC', 'MACROECONOMIC'], ['RUS', 'BYELORUSSIAN'], ['RUP', 'NORTHRUP'], ['RUW', 'THRUWAY'], ['RUT', 'BEIRUT'], ['OED', 'MANIFESTOED'], ['DIL', 'GREEDILY'], ['DIM', 'OXIDIMETRY'], ['DIN', 'SPUDDING'], ['DIO', 'OCTANEDIOIC'], ['DIH', 'HARDIHOOD'], ['DIK', 'BENEDIKT'], ['DID', 'SPLENDID'], ['DIE', 'MALADIES'], ['DIF', 'SPLENDIFEROUS'], ['DIG', 'BENDIGO'], ['DIA', 'EDWARDIAN'], ['DIB', 'MANDIBLE'], ['DIC', 'SPHEROIDICITY'], ['AIM', 'MAIMED'], ['AIL', 'AGNAIL'], ['GNA', 'AGNAIL'], ['DIX', 'BENDIX'], ['DIY', 'KADIYEVKA'], ['DIZ', 'BEDIZEN'], ['GNE', 'AGNES'], ['DIT', 'MASTOIDITIS'], ['DIU', 'CTENIDIUM'], ['DIV', 'MALDIVE'], ['DIP', 'ADIPIC'], ['GNO', 'AGNOMEN'], ['DIR', 'AGADIR'], ['DIS', 'MARDIS'], ['PET', 'SNIPPET'], ['XXV', 'XXXVI'], ['JAW', 'LOCKJAW'], ['XXI', 'XXXII'], ['UTG', 'NUTGALL'], ['UTE', 'SPOUTED'], ['JAR', 'KAJAR'], ['IRR', 'BESTIRRING'], ['UTI', 'AGOUTI'], ['IRT', 'SPIRT'], ['UTO', 'MAPUTO'], ['IRV', 'NIRVANA'], ['IRW', 'CHAIRWOMAN'], ['UTR', 'MACRONUTRIENT'], ['IRI', 'SPIRILLUM'], ['IRK', 'SPIRKETTING'], ['UTT', 'SPUTTER'], ['IRO', 'GRIDIRON'], ['IRA', 'MADEIRA'], ['IRB', 'CHAIRBORNE'], ['IRE', 'MAGUIRE'], ['URU', 'EURUS'], ['JAL', 'KWAJALEIN'], ['ZIE', 'MACKENZIE'], ['ZIB', 'ZANZIBAR'], ['JAK', 'JOKJAKARTA'], ['BOX', 'MATCHBOX'], ['COQ', 'MONOCOQUE'], ['BOZ', 'REBOZO'], ['NAA', 'CANAAN'], ['NAG', 'MATRONAGE'], ['NAD', 'MARINADE'], ['EPY', 'ORTHOEPY'], ['BOP', 'BEBOP'], ['NAK', 'MANAKIN'], ['BOR', 'MARIBOR'], ['BOS', 'MAMBOS'], ['BOT', 'GREENBOTTLE'], ['EPS', 'NYMPHOLEPSY'], ['EPP', 'SCHLEPP'], ['BOW', 'SADDLEBOW'], ['BOH', 'BEERBOHM'], ['EPO', 'MADREPORE'], ['NAP', 'NONAPPEARANCE'], ['COR', 'NONRECORDING'], ['BOL', 'TOMBOLA'], ['BOM', 'FIREBOMB'], ['EPH', 'MACROCEPHALIC'], ['EPI', 'MANTLEPIECE'], ['NAZ', 'SNAZZIER'], ['BOA', 'SPLASHBOARD'], ['BOB', 'NABOB'], ['EPE', 'MAKEPEACE'], ['BOD', 'NOBODIES'], ['BOE', 'TURBOELECTRIC'], ['BOF', 'TURBOFAN'], ['EPA', 'BEPAINT'], ['LYT', 'NONANALYTIC'], ['LYU', 'CHELYUSKIN'], ['LYR', 'BULLYRAG'], ['LYS', 'PNEUMATOLYSIS'], ['LYD', 'EUROCLYDON'], ['LYE', 'BUTTERFLYER'], ['LYA', 'BELLYACHE'], ['ILO', 'MATRILOCAL'], ['LYL', 'FLYLEAF'], ['LYM', 'TERPOLYMER'], ['LYN', 'MARILYN'], ['LYO', 'APOLLYON'], ['LYI', 'BELLYING'], ['SVI', 'BELTSVILLE'], ['SVE', 'GROSVENOR'], ['UNS', 'NOUNS'], ['PES', 'SNIPES'], ['PEL', 'GRAPPELLI'], ['PEN', 'PROPENAMIDE'], ['PEO', 'SPOKESPEOPLE'], ['PEH', 'TEMPEH'], ['PYR', 'MANNOPYRANOSYL'], ['PEI', 'AGAPEIC'], ['FLY', 'MAYFLY'], ['PYS', 'PEPYS'], ['KLE', 'MACKLE'], ['PEK', 'POPEK'], ['FLU', 'MAGNETOFLUIDMECHANIC'], ['ESU', 'NONESUCH'], ['FLI', 'SNIFFLING'], ['PED', 'MAPPED'], ['YAH', 'GUNYAH'], ['EST', 'AGRESTAL'], ['FLO', 'MAYFLOWER'], ['PEE', 'GROUNDSPEED'], ['FLA', 'NONFLAMMABLE'], ['ESS', 'AGGREGATENESS'], ['FLE', 'SNIFFLE'], ['KLA', 'PARKLAND'], ['PYH', 'COPYHOLD'], ['SFO', 'BERESFORD'], ['ESP', 'SPOKESPEOPLE'], ['PEA', 'MAKEPEACE'], ['PEB', 'PALPEBRAL'], ['ILY', 'SPUNKILY'], ['TRI', 'SPHYGMOMANOMETRIC'], ['KLO', 'WORKLOAD'], ['TRO', 'NYCTITROPISM'], ['TRA', 'MATRASS'], ['TRE', 'BYSTREET'], ['PEV', 'GRAPEVINE'], ['KLI', 'MACKLIN'], ['TRY', 'AGENTRY'], ['SAK', 'CHRISSAKE'], ['TRU', 'MACROINSTRUCTION'], ['KLU', 'HAKLUYT'], ['ESE', 'MARCHESE'], ['HOU', 'MADHOUSE'], ['ESC', 'SPUMESCENT'], ['ESB', 'JOHANNESBURG'], ['TUC', 'UNTUCK'], ['ESA', 'MARCHESA'], ['SAI', 'MASAI'], ['ZUK', 'SUZUKI'], ['URS', 'SPURS'], ['ZUL', 'KWAZULU'], ['ODY', 'MACRODYNAMIC'], ['TCH', 'SPLOTCH'], ['SPE', 'SPOKESPEOPLE'], ['ODI', 'GRANODIORITE'], ['ODO', 'SPHENODON'], ['ODA', 'OCTOPODAN'], ['ESH', 'SPOKESHAVE'], ['ODD', 'NODDED'], ['ODE', 'SPODE'], ['ELK', 'WHELK'], ['ELI', 'SPHINGOMYELIN'], ['ELO', 'AGELONG'], ['ELL', 'SITELLA'], ['ELM', 'BELMONDO'], ['ELB', 'MANDELBROT'], ['ELA', 'BYELAW'], ['ELF', 'MANTELSHELF'], ['ELG', 'BELGA'], ['ELD', 'KREFELD'], ['ELE', 'AGELESS'], ['ELY', 'AGILELY'], ['ELR', 'ETHELRED'], ['ELS', 'MARVELS'], ['ELV', 'BELVEDERE'], ['ELW', 'MANGELWURZEL'], ['ELT', 'MANTELTREE'], ['ELU', 'MAMELUKE'], ['LEA', 'AGLEAM'], ['LEB', 'MALEBRANCHE'], ['LEC', 'MAPLECREST'], ['LED', 'SPOILED'], ['LEE', 'SPLEEN'], ['LEF', 'MALEFACTION'], ['LEG', 'SPINDLELEGS'], ['LEH', 'BETHLEHEM'], ['LEI', 'MADELEINE'], ['LEK', 'TELEKINESIS'], ['LEL', 'AGILELY'], ['LEM', 'MAGLEMOSIAN'], ['LEN', 'AGREEABLENESS'], ['LEO', 'MACLEOD'], ['LEP', 'NYMPHOLEPSY'], ['LER', 'SPHALERITE'], ['LES', 'AGELESS'], ['LET', 'AGLET'], ['LEU', 'SPLEUCHAN'], ['LEV', 'MALEVICH'], ['LEW', 'NOBLEWOMAN'], ['LEX', 'UNIPLEX'], ['LEY', 'AGLEY'], ['OZZ', 'NOZZLE'], ['AZI', 'MAGAZINE'], ['USE', 'SPOUSE'], ['UFO', 'BEAUFORT'], ['USC', 'MAJUSCULAR'], ['AZO', 'CHIMBORAZO'], ['IQU', 'MARTINIQUE'], ['AZA', 'GRAZABLE'], ['AZB', 'KAZBEK'], ['AZE', 'AGAZE'], ['USI', 'AGRIBUSINESS'], ['USH', 'KYUSHU'], ['USU', 'BUSUUTI'], ['NIC', 'AGONIC'], ['USS', 'BYELORUSSIAN'], ['USR', 'BUSRA'], ['USQ', 'SUSQUEHANNA'], ['USP', 'EUSPORANGIATE'], ['AZT', 'OBRAZTSOVA'], ['AZU', 'MAZUMA'], ['SGR', 'GROSGRAIN'], ['ICK', 'MAULSTICK'], ['ICI', 'AGNOSTICISM'], ['ICH', 'SPOROTRICHOSIS'], ['ICO', 'AGRICOLA'], ['ROR', 'NONJUROR'], ['ICA', 'AGONISTICAL'], ['ICE', 'SPLICE'], ['CNO', 'PYCNOGONID'], ['ICT', 'MAGNETOSTRICTION'], ['PFA', 'CHAPFALLEN'], ['PFE', 'KAPFENBERG'], ['ROS', 'AGROSE'], ['PFI', 'PUPFISH'], ['PFO', 'SHEEPFOLD'], ['SIS', 'AGENESIS'], ['SIR', 'GRANDSIRE'], ['SIQ', 'PHYSIQUE'], ['SIP', 'MARSIPOBRANCH'], ['SIW', 'WYSIWYG'], ['SIV', 'AGGRESSIVE'], ['RYO', 'PROCARYOTE'], ['SIZ', 'UNPREEMPHASIZED'], ['SIC', 'OXIDASIC'], ['SIB', 'NONEXTENSIBLE'], ['SIA', 'BYELORUSSIAN'], ['SIG', 'NONSIGNIFICANT'], ['SIF', 'MASSIF'], ['SIE', 'MAWSIE'], ['SID', 'SPHENOPSID'], ['SIK', 'ALSIKE'], ['SIH', 'WUSIH'], ['SIO', 'AGGRESSION'], ['SIN', 'AGRIBUSINESS'], ['SIM', 'MACROSIMULATION'], ['SIL', 'MARSILIUS'], ['TAT', 'AGITATE'], ['TAU', 'CHAUTAUQUA'], ['TAV', 'OCTAVALENT'], ['TAW', 'CHOCTAW'], ['TAP', 'MATAPAN'], ['TAR', 'SITAR'], ['TAS', 'MALTASE'], ['TAX', 'CHEMOTAXIS'], ['TAY', 'MAINSTAY'], ['TAZ', 'PENTAZOCINE'], ['TAD', 'OCTAD'], ['TAE', 'NABATAEAN'], ['TAF', 'STAFF'], ['TAG', 'AGIOTAGE'], ['TAA', 'BATAAN'], ['TAB', 'SPOTTABLE'], ['TAC', 'OCTACHORD'], ['TAL', 'AGARTALA'], ['TAM', 'OCTAMEROUS'], ['TAN', 'SPONTANEITY'], ['TAO', 'CHINGTAO'], ['TAH', 'OCTAHEDRA'], ['TAI', 'MARITAIN'], ['TAJ', 'NETAJI'], ['ROV', 'MANGROVE'], ['GIV', 'TERGIVERSATE'], ['GIU', 'SPORANGIUM'], ['GIT', 'AGITATE'], ['GIS', 'AGIST'], ['GIR', 'BEGIRD'], ['GIP', 'SERGIPE'], ['JIN', 'BEIJING'], ['RYB', 'CHARYBDIS'], ['JIL', 'TRUJILLO'], ['JIM', 'PANJIM'], ['DJA', 'NONADJACENT'], ['GIF', 'STRIGIFORM'], ['GIE', 'AGGIE'], ['GID', 'SPHINGID'], ['DJE', 'ADJECT'], ['GIB', 'UNINTELLIGIBILITY'], ['GIA', 'SPORANGIAL'], ['DJI', 'HADJI'], ['GIN', 'AGINCOURT'], ['GIM', 'RISORGIMENTO'], ['GIL', 'AGILE'], ['ROW', 'MARROW'], ['DJO', 'ADJOIN'], ['AHA', 'MAHABHARATA'], ['AHE', 'OCTAHEDRA'], ['AHI', 'MAHICAN'], ['AHO', 'MACMAHON'], ['AHM', 'BRAHMA'], ['AHR', 'MAHRATTA'], ['RUB', \"GRUB'S\"], ['AHV', 'JAHVEH'], ['AHW', 'JAHWEH'], ['AHU', 'SACAHUISTE'], ['XYL', 'PROTOXYLEM'], ['GUB', 'LUGUBRIOUS'], ['GUA', 'AGUASCALIENTES'], ['GUF', 'ARGUFIER'], ['GUE', 'AGUEWEED'], ['GUD', 'GIELGUD'], ['GUJ', 'KRAGUJEVAC'], ['GUI', 'AGUISH'], ['GUH', 'KIESELGUHR'], ['GUN', 'BEGUN'], ['GUM', 'BEGUM'], ['GUL', 'AGULHAS'], ['GUS', 'MAGUS'], ['GUR', 'MAIDUGURI'], ['GUP', 'CHANDRAGUPTA'], ['POP', 'JOYPOP'], ['RUD', 'MAGRUDER'], ['GUT', 'ORANGUTAN'], ['GUY', 'MAMAGUY'], ['TSU', 'MATSU'], ['HUD', 'CHUDSKOYE'], ['HUE', 'DONAHUE'], ['HUF', 'CHUFA'], ['HUG', 'KREMENCHUG'], ['HUA', 'IXTACCIHUATL'], ['HUB', 'CHUBB'], ['HUC', 'CHUCK'], ['HUL', 'SPATHULATE'], ['HUM', 'NONHUMAN'], ['HUN', 'MANHUNT'], ['HUT', 'CHUTE'], ['HUP', 'CHUPATTI'], ['HUR', 'MATHURA'], ['HUS', 'AGAPANTHUS'], ['XHO', 'FOXHOLE'], ['HUY', 'SCHUYLER'], ['VOI', 'MALVOISIE'], ['BLY', 'AGREEABLY'], ['SYB', 'BUSYBODY'], ['BLU', 'NABLUS'], ['RUR', 'MACRURAN'], ['BLO', 'NONBLOCKING'], ['BLI', 'MARBLING'], ['BLE', 'AGREEABLE'], ['BLA', 'SPONGIOBLAST'], ['REZ', 'BEREZINA'], ['REX', 'DREXEL'], ['REY', 'SPURREY'], ['EKI', 'MAFEKING'], ['RER', 'NYERERE'], ['RES', 'AGGRESS'], ['REP', 'KREPLACH'], ['REQ', 'INFREQUENCE'], ['REV', 'WHEREVER'], ['EKB', 'CHEEKBONE'], ['EKA', 'EUREKA'], ['REU', 'KREUTZER'], ['REJ', 'CHAPAREJOS'], ['REK', 'EUREKA'], ['REH', 'BEFOREHAND'], ['REI', 'KREISKY'], ['REN', 'MASCARENE'], ['REO', 'NONCALCAREOUS'], ['REL', 'MARPRELATE'], ['REM', 'KREMENCHUG'], ['REB', 'KREBS'], ['RUC', 'MACROINSTRUCTION'], ['EKT', 'TEKTITE'], ['EKS', 'GREEKS'], ['REG', 'AGGREGATE'], ['RED', 'SPURRED'], ['REE', 'AGREE'], ['OUJ', 'MOUJIK'], ['OUI', 'BEDOUIN'], ['OUN', 'AGROUND'], ['OUB', 'UNTROUBLED'], ['OUA', 'JOUAL'], ['OUG', 'MARLBOROUGH'], ['OUE', 'PIRHOUETTE'], ['OUZ', 'BOUZOUKI'], ['AIT', 'MAITLAND'], ['OUS', 'NYMPHAEACEOUS'], ['OUR', 'AGINCOURT'], ['OUV', 'NOUVEAU'], ['OUT', 'AGOUTI'], ['YIE', 'UNYIELDED'], ['VER', 'MAVERICK'], ['VES', 'AGGRIEVES'], ['YIN', 'SPYING'], ['VEX', 'CONVEX'], ['VEG', 'WAVEGUIDE'], ['VED', 'AGGRIEVED'], ['VEE', 'LEVEE'], ['VEB', 'LOVEBIRD'], ['AIS', 'MARSEILLAISE'], ['VEA', 'NOUVEAU'], ['VEN', 'AGGRESSIVENESS'], ['VEL', 'AGGREGATIVELY'], ['AIR', 'MAYFAIR'], ['VEH', 'JAHVEH'], ['VEI', 'UNVEIL'], ['QUA', 'MARQUAND'], ['AIN', 'AGAIN'], ['QUE', 'MAQUETTE'], ['QUI', 'NYQUIST'], ['SYD', 'CLEPSYDRA'], ['QUO', 'TURQUOIS'], ['IBI', 'NONDEDUCTIBILITY'], ['CAY', 'MARACAY'], ['AIK', 'MAIKOP'], ['CAS', 'SPORTSCAST'], ['CAR', 'SPOROCARP'], ['CAP', 'MADCAP'], ['CAW', 'MACAW'], ['IBE', 'BERIBERI'], ['CAU', 'MACAU'], ['CAT', 'MASTICATE'], ['CAK', 'BEEFCAKE'], ['CAJ', 'CARCAJOU'], ['CAI', 'MARACAIBO'], ['CAH', 'SACAHUISTE'], ['CAN', 'MARACANDA'], ['CAM', 'BECAME'], ['CAL', 'AGONISTICAL'], ['CAC', 'MACACO'], ['CAB', 'MACABRE'], ['IBR', 'PIBROCH'], ['IBS', 'SPARERIBS'], ['CAG', 'MASCAGNI'], ['CAF', 'BECCAFICO'], ['CAE', 'SPICAE'], ['CAD', 'MACADAM'], ['LHA', 'AGULHAS'], ['DYT', 'ADYTUM'], ['VAM', 'GRAVAMEN'], ['DYS', 'EDDYSTONE'], ['DYL', 'SPONDYLITIS'], ['DYN', 'MACRODYNAMIC'], ['DYI', 'EDDYING'], ['DYK', 'VANDYKE'], ['DYE', 'GOODYEAR'], ['DYF', 'CANDYFLOSS'], ['ZAI', 'STANZAIC'], ['DYA', 'BERDYAYEV'], ['DYB', 'PANDYBAT'], ['PON', 'SPONDAIC'], ['VOR', 'GRAMINIVOROUS'], ['SOD', 'PROSODIC'], ['OGY', 'AGRIOLOGY'], ['SOG', 'NOSOGRAPHY'], ['SOF', 'UNISOFT'], ['OGR', 'KYMOGRAPH'], ['OGL', 'PROGLOTTID'], ['UDA', 'BERMUDA'], ['OGI', 'AGROBIOLOGICAL'], ['OGH', 'MOGHUL'], ['UDD', 'SPUDDED'], ['OGE', 'AGGLUTINOGEN'], ['OGD', 'FOGDOG'], ['UDI', 'MARAUDING'], ['OGA', 'MACROGAMETE'], ['SOK', 'ASOKA'], ['OGB', 'BOGBEAN'], ['MIH', 'HEMIHEDRAL'], ['MIK', 'KAMIKAZE'], ['SOJ', 'RESOJET'], ['MIM', 'PARASYMPATHOMIMETIC'], ['MIL', 'MATERFAMILIAS'], ['MIO', 'PROTHALAMION'], ['MIN', 'AGMINATE'], ['MIA', 'MACADAMIA'], ['SOM', 'BESOM'], ['MIC', 'NYSTAGMIC'], ['MIE', 'MASTECTOMIES'], ['MID', 'PROPENAMIDE'], ['MIG', 'PRIMIGRAVIDA'], ['MIF', 'MAMMIFEROUS'], ['GHE', 'SPRINGHEAD'], ['LUS', 'MARCELLUS'], ['GHA', 'AGHAST'], ['MIQ', 'CHIMIQUE'], ['MIS', 'AGRONOMIST'], ['GHO', 'SPRINGHOUSE'], ['GHI', 'MALPIGHI'], ['SAW', 'MASSAWA'], ['SOP', 'WORKSOP'], ['VAV', 'AKVAVIT'], ['SOS', 'CHRYSOSTOM'], ['AOU', 'YAOUNDE'], ['SOR', 'AGGRESSOR'], ['AOS', 'CHAOS'], ['AOR', 'MAORI'], ['VAU', 'MARIVAUX'], ['AYM', 'NONPAYMENT'], ['AYL', 'GRAYLING'], ['URG', 'SPURGE'], ['SOW', 'HALESOWEN'], ['URB', 'MASTURBATE'], ['URC', 'CHRISTCHURCH'], ['AYE', 'SPLAYED'], ['AYD', 'MAYDAY'], ['URN', 'SPURN'], ['SOV', 'BERIOSOVA'], ['AYA', 'MAYAKOVSKI'], ['URI', 'AGRICULTURIST'], ['AYC', 'JAYCEE'], ['URT', 'AGINCOURT'], ['SOY', 'PADUASOY'], ['URQ', 'TURQUOIS'], ['MBU', 'NONREIMBURSABLE'], ['AYU', 'GUAYULE'], ['SAU', 'MASSASAUGA'], ['AYR', 'PAYROLL'], ['SOZ', 'ISOZYME'], ['IPE', 'MAXILLIPED'], ['IPH', 'CTESIPHON'], ['OVU', 'MONOVULAR'], ['IPO', 'MARIPOSA'], ['IPR', 'UNIPROCESSOR'], ['IPS', 'SNIPS'], ['PYL', 'PROPYL'], ['PYO', 'AEPYORNIS'], ['PYA', 'SHIPYARD'], ['PYC', 'COPYCAT'], ['PYD', 'COPYDESK'], ['PYE', 'PROKOPYEVSK'], ['PYG', 'SPYGLASS'], ['NGA', 'MARTINGALE'], ['NGO', 'SPHINGOMYELIN'], ['NGU', 'OCTANGULAR'], ['NGW', 'SPRINGWOOD'], ['ISH', 'AGUISH'], ['KSH', 'BERKSHIRE'], ['SZC', 'BYDGOSZCZ'], ['SZA', 'TISZA'], ['SZE', 'NAGYSZEBEN'], ['SZY', 'KASPSZYK'], ['UTH', 'BELLMOUTH'], ['SHR', 'BESHREW'], ['SHT', 'MAHARASHTRA'], ['SHU', 'KYUSHU'], ['SHY', 'SPLASHY'], ['YTT', 'LYTTA'], ['SHA', 'SPOKESHAVE'], ['SHC', 'TURISHCHEVA'], ['SHE', 'SPLASHED'], ['SHI', 'SPLASHIER'], ['UTM', 'NUTMEG'], ['SHL', 'AGUISHLY'], ['SHM', 'MARSHMALLOW'], ['SHO', 'MANSHOLT'], ['XVI', 'KNOXVILLE'], ['OVI', 'MARKOVIAN'], ['TBI', 'FROSTBITE'], ['LUP', 'CLUPEID'], ['LUR', 'SPLURGE'], ['ECL', 'BECLOUD'], ['LUT', 'AGGLUTINABILITY'], ['LUX', 'BENELUX'], ['LUA', 'EVALUABLE'], ['LUB', 'INSALUBRIOUS'], ['LUC', 'BERTOLUCCI'], ['LUD', 'POSTLUDE'], ['LUE', 'UNINFLUENCED'], ['LUF', 'FLUFF'], ['LUG', 'BELUGA'], ['LUI', 'MAGNETOFLUIDMECHANIC'], ['LUK', 'MAMELUKE'], ['LUL', 'UNICELLULAR'], ['LUM', 'BELLUM'], ['LUN', 'BERGLUND'], ['TLA', 'MAITLAND'], ['TLE', 'SPURTLE'], ['TLI', 'SPOTLIGHT'], ['SYT', 'PUSSYTOES'], ['KEN', 'SPOKEN'], ['KEM', 'SNAKEMOUTH'], ['KEL', 'BERKELEIAN'], ['KEI', 'TRANSKEI'], ['KEG', 'TUSKEGEE'], ['KEF', 'MAKEFAST'], ['KEE', 'BEEKEEPER'], ['KED', 'SPOKED'], ['KEC', 'MARRAKECH'], ['KEB', 'MAKEBATE'], ['KEA', 'MAKEABLE'], ['KEY', 'MACKEY'], ['KEW', 'MAKEWEIGHT'], ['KEV', 'MARKEVITCH'], ['KET', 'MARKET'], ['KES', 'SPOKES'], ['KER', 'MAPMAKER'], ['KEP', 'MAKEPEACE'], ['NYL', 'OCTYLPHENYLETHER'], ['ZSI', 'FITZSIMMONS'], ['UCC', 'BERTOLUCCI'], ['UCA', 'MANDUCATE'], ['YAT', 'MARRYAT'], ['YAW', 'JAYAWARDENA'], ['SUM', 'MATSUMOTO'], ['EJE', 'BEJEWEL'], ['EJA', 'BEJABERS'], ['YAS', 'NYASA'], ['EUB', 'STEUBEN'], ['SFU', 'SPOONSFUL'], ['VAT', 'AGGRAVATE'], ['OTH', 'MASSOTHERAPY'], ['OTI', 'AGRYPNOTIC'], ['OTO', 'OCULOMOTOR'], ['OTA', 'AGIOTAGE'], ['OTR', 'SPOROTRICHOSIS'], ['OTT', 'SPOTTABLE'], ['OTW', 'NOTWITHSTANDING'], ['AXS', 'FLAXSEED'], ['DZE', 'ORJONIKIDZE'], ['BOY', 'BELLBOY'], ['DZI', 'GODZILLA'], ['DZH', 'ORDZHONIKIDZE'], ['DZO', 'GADZOOKS'], ['DZU', 'ADZUKI'], ['AXE', 'HOAXED'], ['VIB', 'MULTIVIBRATOR'], ['AXI', 'MAXILLA'], ['AXO', 'CYTOTAXONOMY'], ['AXL', 'TRANSAXLE'], ['AXM', 'FLAXMAN'], ['NAE', 'UNAESTHETIC'], ['YAC', 'BELLYACHE'], ['YAB', 'CHELYABINSK'], ['NAH', 'SAVANNAH'], ['IAM', 'PRONUNCIAMENTO'], ['IAN', 'AGRARIAN'], ['OFF', 'NORDHOFF'], ['EPR', 'GREASEPROOF'], ['BOU', 'MARABOU'], ['BOV', 'SUBOVATE'], ['OFT', 'UNISOFT'], ['IAT', 'SPOLIATE'], ['NAM', 'BYNAME'], ['IAP', 'PRIAPIC'], ['ZAN', 'BYZANTINE'], ['PHI', 'AGRAPHIA'], ['ZAM', 'MOZAMBIQUE'], ['PHO', 'AGORAPHOBIA'], ['PHN', 'DAPHNE'], ['BOI', 'POTBOIL'], ['ZAG', 'ZIGZAG'], ['PHA', 'NYMPHA'], ['ZAB', 'GRAZABLE'], ['ZAC', 'KAZACHOK'], ['PHE', 'NYMPHET'], ['ZAA', 'BAZAAR'], ['PHY', 'SPHYGMIC'], ['BOK', 'GRYSBOK'], ['ZAZ', 'AZAZEL'], ['NAV', 'UNAVAILABILITY'], ['YEN', 'MAYEN'], ['ZAR', 'BELSHAZZAR'], ['ZAS', 'MATANZAS'], ['NAW', 'MACKINAW'], ['SKU', 'KEWASKUM'], ['BON', 'MARROWBONE'], ['SKR', 'MUSKRAT'], ['BOO', 'MATCHBOOK'], ['SKY', 'KREISKY'], ['SKE', 'MASKED'], ['SKA', 'MASKABLE'], ['YEA', 'LONGYEARBYEN'], ['SKO', 'CHUDSKOYE'], ['ERE', 'NYERERE'], ['SKI', 'MASKING'], ['NAX', 'CHRONAXIE'], ['GES', 'SPHINGES'], ['GER', 'AGERATUM'], ['BOC', 'TURBOCAR'], ['GEW', 'EDGEWATER'], ['JUG', 'UNIJUGATE'], ['JUD', 'UNPREJUDICED'], ['GET', 'BEGET'], ['GEZ', 'ALAGEZ'], ['GEY', 'ORANGEY'], ['JUI', 'VERJUICE'], ['JUN', 'MAJUNGA'], ['JUL', 'BANJUL'], ['JUM', 'BUJUMBURA'], ['GEC', 'STAGECOACH'], ['GEB', 'PAGEBOY'], ['GEA', 'MARRIAGEABILITY'], ['GEG', 'AGEGROUP'], ['GEF', 'CHANGEFUL'], ['GEE', \"AGEE'S\"], ['GED', 'AGEDLY'], ['GEI', 'AGEING'], ['GEH', 'EDGEHILL'], ['GEO', 'PROTOGEOMETRIC'], ['GEN', 'AGGLUTINOGEN'], ['GEM', 'MANAGEMENT'], ['GEL', 'AGELESS'], ['ZOA', 'SPOROZOAN'], ['ZOB', 'AZOBENZENE'], ['ZOE', 'PIEZOELECTRIC'], ['ZOF', 'BENZOFURAN'], ['ZOH', 'TRAPEZOHEDRON'], ['ZON', 'MANZONI'], ['ZOO', 'MATZOON'], ['ZOR', 'BUITENZORG'], ['ZOS', 'MATZOS'], ['ZOU', 'BASHIBAZOUK'], ['ZOY', 'BENZOYL'], ['AND', 'NYASALAND'], ['ANE', 'SPOKANE'], ['ANF', 'MANFRED'], ['ANG', 'SITSANG'], ['ANA', 'BWANA'], ['ANB', 'BEANBAG'], ['ANC', 'SPLANCHNIC'], ['ANL', 'SPORTSMANLIKE'], ['ANN', 'MARIANNE'], ['ANO', 'SPHYGMOMANOMETER'], ['ANH', 'MAARIANHAMINA'], ['ANI', 'NYMPHOMANIA'], ['ANJ', 'NYANJA'], ['ANK', 'MANKIND'], ['ANT', 'AGAPANTHUS'], ['ANU', 'AGRANULOCYTOSIS'], ['ANV', 'MANVILLE'], ['ANS', 'SPORTSMANSHIP'], ['YUL', 'GUAYULE'], ['ANX', 'MANXMAN'], ['ANY', 'MAHOGANY'], ['ANZ', 'NYANZA'], ['GWE', 'CHIGWELL'], ['VUE', 'PREVUE'], ['GWA', 'AGWAY'], ['VUL', 'EVULSION'], ['TME', 'MALADJUSTMENT'], [\"O'D\", \"WHO'D\"], ['NJO', 'NONJOINDER'], ['HWA', 'NORTHWARD'], [\"HE'\", \"SCYTHE'S\"], ['SOL', 'MAUSOLEUM'], ['TSH', 'ONITSHA'], ['HET', 'NYMPHET'], ['HEU', 'ORPHEUS'], ['HEV', 'BERDICHEV'], ['HEW', 'MATHEWS'], ['HEP', 'CYCLOHEPTATRIENYL'], ['HER', 'SPHERAL'], ['HES', 'SPLASHES'], ['WAL', 'BESTOWAL'], ['LYC', 'MOLLYCODDLE'], ['HEX', 'CYCLOHEXANE'], ['HEY', 'WHEYFACE'], ['HEZ', 'NATCHEZ'], ['KRU', 'NKRUMAH'], ['HED', 'SPLASHED'], ['HEE', 'MAINSHEET'], ['HEF', \"CHEF'S\"], ['HEG', 'APOPHTHEGM'], ['HEA', 'MASTHEAD'], ['HEB', 'BEERSHEBA'], ['HEC', 'PROPHECIES'], ['HEL', 'MACHEL'], ['HEM', 'MATHEMATIC'], ['HEN', 'SPHENE'], ['KRA', 'BUCKRA'], ['TSI', 'TSOTSI'], ['HEI', 'MANNERHEIM'], ['HEJ', 'CHEJU'], ['HEK', 'CHEKHOV'], ['SON', 'KYONGSONG'], ['UHL', 'GUHLEMAN'], ['HYA', 'MADHYA'], ['HYB', 'MONOHYBRID'], ['EIR', 'MADEIRA'], ['HYD', 'MAGNETOHYDRODYNAMIC'], ['EIT', 'SPONTANEITY'], ['HYG', 'SPHYGMIC'], ['HYI', 'ATROPHYING'], ['HYL', 'SPOROPHYLL'], ['HYM', 'PROSENCHYMA'], ['HYN', 'ORNITHORHYNCHUS'], ['HYO', 'POLYPHYODONT'], ['HYP', 'POSTHYPNOTIC'], ['EIC', 'AGAPEIC'], ['HYS', 'MACROPHYSICS'], ['EID', 'BEIDERBECKE'], ['EIG', 'MAKEWEIGHT'], ['EIF', 'SEIFERT'], ['EIK', 'WEIKERT'], ['EIJ', 'BEIJING'], ['EIL', 'MARSEILLAISE'], ['EIN', 'AGEING'], ['OKA', 'SPOKANE'], ['FAX', 'HALIFAX'], ['FAY', 'LAFAYETTE'], ['OWI', 'BELLOWING'], ['FAR', 'SAFAR'], ['FAS', 'SITFAST'], ['FAQ', 'SULFAQUINOXALINE'], ['FAW', 'GUFFAW'], ['FAT', 'MARROWFAT'], ['FAU', 'AVIFAUNA'], ['FAK', 'MIRFAK'], ['FAH', 'LOOFAH'], ['FAI', 'MAYFAIR'], ['FAN', 'PROFANATION'], ['FAL', 'BEFALL'], ['FAM', 'MATERFAMILIAS'], ['FAB', 'AFFABILITY'], ['FAC', 'MALEFACTION'], ['FAG', 'WHARFAGE'], ['FAD', 'SULFADIAZINE'], ['FAE', 'RAFAEL'], ['YON', 'KYONGSONG'], ['YOL', 'PAYOLA'], ['YOK', 'HOLYOKE'], ['YOI', 'KAYOING'], ['YOG', 'KARYOGAMY'], ['YOD', 'POLYPHYODONT'], ['OKI', 'SPOKING'], ['TSE', 'BESTSELLER'], ['OKH', 'MOKHA'], ['YOU', 'JOYOUS'], ['SVA', 'SUNDSVALL'], ['YOS', 'KARYOSOME'], ['YOR', 'NYORO'], ['YVE', 'WYVERN'], ['POY', 'CHARPOY'], ['OKL', 'BROOKLET'], ['POW', 'MANPOWER'], ['OAF', 'LOAFED'], ['OAK', 'HOLYOAKE'], ['OAT', 'MAILBOAT'], ['OAS', 'IMMUNOASSAY'], ['OAR', 'SPLASHBOARD'], ['OAX', \"HOAX'S\"], ['MYX', 'POLYMYXIN'], ['PIK', 'SPIKE'], ['PIL', 'GRUMPILY'], ['PIM', 'ORPIMENT'], ['PIN', 'AGRIPPINA'], ['PIO', 'TOMPION'], ['ADZ', 'TADZHIKI'], ['PIA', 'NYCTALOPIA'], ['MYS', 'SEMIMYSTICAL'], ['GLO', 'AGLOW'], ['PID', 'SPIDER'], ['MYT', 'STICHOMYTHIA'], ['PIF', 'SPIFFIER'], ['PIG', 'MALPIGHI'], ['MYI', 'STEGOMYIA'], ['DOB', 'BUNDOBUST'], ['PIZ', 'LIPPIZANER'], ['MYL', 'CHROMYL'], ['MYO', 'RHABDOMYOMA'], ['GLA', 'AGLAIA'], ['MYA', 'HOLOMYARIAN'], ['MYC', 'SACCHAROMYCES'], ['PIS', 'NYCTITROPISM'], ['MYE', 'SPHINGOMYELIN'], ['MYD', 'CHLAMYDATE'], ['PIV', 'SPIVAKOV'], ['POI', 'SPOIL'], ['GLE', 'AGLEAM'], ['DOD', 'VADODARA'], ['DOE', 'EVILDOER'], ['DOZ', 'PRIVATDOZENT'], ['DOX', 'MADDOX'], ['POC', 'SPOCK'], ['KOH', 'YOKOHAMA'], ['UBA', 'JUBAL'], ['UBB', 'JUBBAH'], ['ZHD', 'ROZHDESTVENSKY'], ['POA', 'HYPOACIDITY'], ['UBI', 'JUBILANT'], ['DEX', 'SUBINDEX'], ['DEZ', 'RENDEZVOUS'], ['DEP', 'SUBDEPOT'], ['DEQ', 'ADEQUACIES'], ['DER', 'BYSTANDER'], ['DES', 'SPORADES'], ['DET', 'BERNADETTE'], ['DEU', 'MASTOIDEUS'], ['DEV', 'MALDEVELOPMENT'], ['DEW', 'BEDEW'], ['DEH', 'BENZALDEHYDE'], ['DEI', 'MADEIRA'], ['DEK', 'BAEDEKER'], ['DEL', 'SNIDELY'], ['DEM', 'MADEMOISELLE'], ['DEN', 'SPLENDENT'], ['DOS', 'GRANADOS'], ['DEA', 'NONEUCLIDEAN'], ['DEB', 'MAGDEBURG'], ['DEC', 'OCTADECYL'], ['DED', 'SPUDDED'], ['DEE', 'SPONDEE'], ['DEF', 'NONDEFENSE'], ['DEG', 'NONDEGENERATE'], ['AMI', 'AGAMIC'], ['AMH', 'HAMHUNG'], ['AMM', 'MAMMA'], ['AMO', 'AGAMOGENESIS'], ['AMN', 'MARIEHAMN'], ['AMA', 'AGAMA'], ['PSH', 'SNAPSHOOT'], ['AMB', 'MAMBA'], ['AME', 'AGAMEMNON'], ['AMD', 'CAMDEN'], ['GLU', 'AGGLUTINABILITY'], ['AMY', 'BELLAMY'], ['DOT', 'BERNADOTTE'], ['AMP', 'MAMPARA'], ['AMS', 'MARCONIGRAMS'], ['AMR', 'STEAMROLL'], ['AMU', 'MALAMUD'], ['AMT', 'DREAMT'], ['UPO', 'MARIUPOL'], ['UPL', 'OCTUPLE'], ['UPM', 'ONEUPMANSHIP'], ['UPH', 'EUPHAUSIID'], ['UPF', 'TEACUPFUL'], ['UPE', 'MAUPERTUIS'], ['UPB', 'CUPBEARER'], ['UPC', 'CUPCAKE'], ['UPA', 'MAUPASSANT'], ['UPW', 'GROUPWORK'], ['UPT', 'UNINTERRUPTABLE'], ['PRA', 'MALPRACTICE'], ['UPS', 'MARKUPS'], ['UPP', 'NONSUPPORT'], ['IVE', 'AGITATIVE'], ['IVA', 'MARIVAUX'], ['IVO', 'VLADIVOSTOK'], ['IVI', 'AGGRESSIVITY'], ['IVY', 'PRIVY'], ['ACC', 'IXTACCIHUATL'], ['NEO', 'SPONTANEOUS'], ['ACA', 'NYMPHOMANIACAL'], ['NEM', 'BENEMPT'], ['KUZ', 'NOVOKUZNETSK'], ['ACE', 'NYMPHAEACEOUS'], ['NEI', 'SPONTANEITY'], ['ACK', 'SPLASHBACK'], ['NEG', 'MANEGE'], ['ACI', 'MACING'], ['ACH', 'KREPLACH'], ['ACO', 'MACACO'], ['ACN', 'MACNEICE'], ['ACL', 'MACLE'], ['KUO', 'MANCHUKUO'], ['ACR', 'MASSACRE'], ['ACQ', 'SACQUE'], ['KUL', 'UKULELE'], ['KUK', 'KIRKUK'], ['ACU', 'MACULA'], ['ACT', 'MALEFACTION'], ['NEV', 'BENEVENTO'], ['ACY', 'MAGISTRACY'], ['KUD', 'FUKUDA'], ['KUC', 'LEBKUCHEN'], ['SJA', 'CROSSJACK'], ['DOC', 'SPATTERDOCK'], ['MEE', 'MAMMEE'], ['MED', 'MAIMED'], ['MEG', 'SPLENOMEGALY'], ['MEA', 'BESMEAR'], ['MEC', 'MAGNETOFLUIDMECHANIC'], ['MEM', 'AGAMEMNON'], ['MEO', 'UNTIMEOUS'], ['MEN', 'AGNOMEN'], ['MEI', 'MOULMEIN'], ['MEH', 'SOMEHOW'], ['MEK', 'LIMEKILN'], ['MEU', 'CHARMEUSE'], ['MET', 'AGAMETE'], ['MEW', 'HOMEWARD'], ['MEP', 'FLAMEPROOF'], ['MES', 'SPUMESCENT'], ['MER', 'AGLIMMER'], ['MEY', 'HOMEY'], ['MEX', 'REMEX'], ['MEZ', 'GOMEZ'], ['WAX', 'BEESWAX'], ['ROI', 'SPHEROID'], ['DOG', 'ONDOGRAPH'], ['PSK', 'CHEAPSKATE'], ['JIV', 'RAJIVE'], ['XTE', 'OXTER'], ['NKO', 'MANKOWSKI'], ['NKR', 'PINKROOT'], ['ROA', 'BYROAD'], ['EZE', 'BEEZER'], ['ROB', 'AGROBIOLOGICAL'], ['ROC', 'SPOROCARP'], ['KOP', 'MAIKOP'], ['ROE', 'MACROECONOMIC'], ['CAV', 'PECCAVI'], ['CPU', 'SIGXCPU'], ['ROX', 'PROPAROXYTONE'], ['ROY', 'GROYNE'], ['OSM', 'MACROCOSM'], ['WRE', 'ENWREATH'], ['EHR', 'BEHRENS'], ['WRA', 'BEWRAY'], ['WRO', 'REWROTE'], ['WRI', 'SPORTSWRITE'], ['ROP', 'AGITPROP'], ['OSC', 'MACROSCALE'], ['WRY', 'LOWRY'], ['LAL', 'ECHOLALIA'], ['LAM', 'MALAM'], ['LAN', 'NYASALAND'], ['LAO', 'PORTLAOISE'], ['LAH', 'BELAH'], ['LAI', 'AGLAIA'], ['LAK', 'SPLAKE'], ['LAD', 'MARMALADE'], ['LAE', 'MAXILLAE'], ['LAF', 'HALAFIAN'], ['LAG', 'SPOILAGE'], ['LAA', 'VLAARDINGEN'], ['LAB', 'SPOILABLE'], ['LAC', 'KREPLACH'], ['OVA', 'MARKOVA'], ['LAX', 'MALAXATE'], ['LAY', 'SPLAY'], ['LAZ', 'CHALAZA'], ['OVE', 'MALGOVERNMENT'], ['LAT', 'SPLAT'], ['LAU', 'MANSLAUGHTER'], ['LAV', 'YUGOSLAV'], ['LAW', 'BYLAW'], ['LAP', 'MALAPERT'], ['OVO', 'BYELOVO'], ['LAR', 'AGLARE'], ['LAS', 'SPYGLASS'], ['ZIA', 'LORENTZIAN'], ['PAI', 'MACPAINT'], ['KOS', 'MAKOS'], ['IUL', 'FRIULI'], ['PSY', 'NYMPHOLEPSY'], ['PAM', 'MARZIPAM'], ['IGU', 'NONCONTIGUOUS'], ['IGR', 'MARCONIGRAM'], [\"O'S\", \"MARCELLO'S\"], ['IGF', 'SIGFPE'], ['IGO', 'MASTIGOPHORAN'], ['IGN', 'MALIGN'], ['IGL', 'AIGLET'], ['PEU', 'CLYPEUS'], ['KOI', 'LYSENKOISM'], ['ERU', 'SPHERULE'], ['SMU', 'MARASMUS'], ['SMS', 'MARXISMS'], ['ERV', 'MAIDSERVANT'], ['SMO', 'MACHISMO'], ['ERW', 'MASTERWORK'], ['SMI', 'MARASMIC'], ['KOM', 'TURKOMAN'], ['SME', 'SPOKESMEN'], ['SMA', 'SPOILSMAN'], ['KOL', 'NIKOLAI'], ['XYS', 'PAROXYSM'], ['BAP', 'SUBAPICAL'], ['KON', 'YUKON'], ['KOR', 'KWASHIORKOR'], ['TOP', 'NYCTOPHOBIA'], ['JER', 'TEARJERKER'], ['JES', 'MAJESTIC'], ['JEP', 'CAJEPUT'], ['JEV', 'SERAJEVO'], ['JEW', 'BEJEWEL'], ['JET', 'PROJET'], ['JEU', 'DEJEUNER'], ['KOE', 'BUCKOES'], ['KOD', 'HAKODATE'], ['JEB', 'DJEBEL'], ['JEA', 'SERJEANT'], ['BAX', 'SUBAXILLARY'], ['JEE', 'DARJEELING'], ['JEK', 'RIJEKA'], ['KOF', 'PROKOFIEFF'], ['JEN', 'KHOJENT'], ['JEM', 'BETJEMAN'], ['ALN', 'MATERIALNESS'], ['ALO', 'NYCTALOPIA'], ['ALL', 'AGONISTICALLY'], ['ALM', 'MALMSEY'], ['ALK', 'MALKIN'], ['ALH', 'MALHERBE'], ['ALI', 'NYMPHALID'], ['ALF', 'MALFEASANCE'], ['ALG', 'MALGOVERNMENT'], ['ALD', 'MACDONALD'], ['ALE', 'AGENDALESS'], ['ALB', 'HALBERD'], ['ALC', 'MARSHALCY'], ['ALA', 'AGARTALA'], ['ERG', 'BERGAMA'], ['ALY', 'SPLENOMEGALY'], ['ALV', 'MALVACEOUS'], ['ALW', 'MALWA'], ['ALT', 'MAYORALTY'], ['ALU', 'MAKALU'], ['ALR', 'MALRAUX'], ['ALS', 'OCTALS'], ['ALP', 'MALPIGHI'], ['ERA', 'AGGLOMERATE'], ['TOX', 'PROTOXIDE'], ['TOY', 'CHATOYANCE'], ['TOR', 'AGITATOR'], ['TOS', 'AGRANULOCYTOSIS'], ['KRY', 'CONAKRY'], ['TOV', 'MANTOVA'], ['TOW', 'MANITOWOC'], ['TOT', 'NOTOTHERIUM'], ['TOU', 'MANITOULIN'], ['BAN', 'MARTABAN'], ['TOH', 'MAGNETOHYDRODYNAMIC'], ['TOI', 'MASTOID'], ['TON', 'OCTONARY'], ['TOO', 'SPONTOON'], ['TOL', 'AGROSTOLOGY'], ['BAO', 'SABAOTH'], ['TOB', 'OCTOBER'], ['TOC', 'OCTOCENTENARY'], ['KOU', 'WORKOUT'], ['TOA', 'PROTOACTINIUM'], ['TOF', 'MAGNETOFLUIDMECHANIC'], ['BAL', 'JUBAL'], ['TOD', 'OCTODECILLION'], ['TOE', 'MAGNETOELECTRIC'], ['HIP', 'SPONSORSHIP'], ['HIR', 'BEDFORDSHIRE'], ['ERO', 'SITOSTEROL'], ['HIT', 'MALACHITE'], ['HIV', 'BEEHIVE'], ['ERH', 'MATTERHORN'], ['WED', 'BELLOWED'], ['ERI', 'SPHALERITE'], ['HIA', 'AGRAPHIA'], ['HIB', 'UNINHIBITED'], ['HIC', 'SPHYGMOGRAPHIC'], ['HID', 'WHIDAH'], ['HIE', 'SPLASHIER'], ['HIF', 'MAKESHIFT'], ['HIG', 'WHIGMALEERIE'], ['KOT', 'SUKKOTH'], ['HIK', 'WHIKEHART'], ['HIL', 'SPLASHILY'], ['HIM', \"WHIM'S\"], ['HIN', 'SPHINCTER'], ['ABA', 'MASTABA'], ['ABB', 'BEDABBLE'], ['ABC', 'BABCOCK'], ['ABD', 'RHABDOM'], ['ABE', 'MATABELE'], ['ABF', 'GABFEST'], ['ABH', 'MAHABHARATA'], ['ABI', 'AGGLUTINABILITY'], ['ABL', 'AGREEABLE'], ['ABN', 'DRABNESS'], ['ABO', 'MARABOU'], ['ABR', 'MACABRE'], ['ABS', 'GRABS'], ['ABU', 'MARABUNTA'], ['ABW', 'ZIMBABWE'], ['ABY', 'GIGABYTE'], ['BHO', 'JOBHOLDER'], ['BHA', 'MAHABHARATA'], ['TAK', 'BETAKE'], ['KOV', 'MARKOV'], ['BHU', 'SUBHUMAN'], ['ZUR', 'ERZURUM'], ['EGY', 'PANEGYRIC'], ['EGR', 'AGEGROUP'], ['EGH', 'BEGHARD'], ['EGO', 'MACGREGOR'], ['EGM', 'APOPHTHEGM'], ['EGL', 'PREGLACIAL'], ['EGB', 'PEGBOARD'], ['EGA', 'AGGREGATE'], ['EGG', 'BEGGAR'], ['EGE', 'MANEGE'], ['RAF', 'AGRAFFE'], ['RAG', 'SPHRAGISTICS'], ['RAD', 'AGGRADATION'], ['RAE', 'GRAEAE'], ['RAB', 'MARABOU'], ['RAC', 'MARACA'], ['RAN', 'AGRANULOCYTOSIS'], ['RAO', 'PARAOXON'], ['RAL', 'AGRICULTURAL'], ['RAM', 'AGRAM'], ['RAJ', 'MAHARAJA'], ['RAK', 'MARRAKECH'], ['RAH', 'GRAHAM'], ['RAI', 'MADURAI'], ['RAV', 'AGGRAVATE'], ['RAW', 'MACDRAW'], ['RAT', 'AGGLOMERATE'], ['RAU', 'MARAUD'], ['RAR', 'AGRARIAN'], ['RAS', 'MASCARAS'], ['RAP', 'AGORAPHOBIA'], ['RAZ', 'GRAZABLE'], ['RAY', 'BEWRAY'], ['OZA', 'SPINOZA'], ['EYE', 'MAKEYEVKA'], ['EYI', 'GREYING'], ['VET', 'GRAVETTIAN'], ['EYO', 'BEYOND'], ['EYS', 'SPURREYS'], ['EYR', 'BEYROUTH'], ['ZAK', 'KAZAKH'], ['TYL', 'OCTYLPHENYLETHER'], ['TYM', 'SAFETYMAN'], ['TYN', 'COURANTYNE'], ['VIA', 'OCTAVIA'], ['TYI', 'SAFETYING'], ['VID', 'EVIDENCE'], ['TYK', 'STYKA'], ['VIK', 'NARVIK'], ['VIH', 'PHOMVIHANE'], ['PHL', 'PROTOPHLOEM'], ['VIN', 'AGGRIEVING'], ['VIO', 'BEHAVIORIST'], ['TYC', 'POLYPTYCH'], ['VIR', 'PROVIRAL'], ['VIS', 'MAVIS'], ['VIP', 'PREOVIPOSITION'], ['VIV', 'SURVIVABILITY'], ['VIT', 'AGGRESSIVITY'], ['VIZ', 'AVIZANDUM'], ['TYU', 'AKTYUBINSK'], ['VIX', 'CERVIX'], ['TYP', 'PROTOTYPAL'], ['TYR', 'MARTYR'], ['TYS', 'SURETYSHIP'], ['OCH', 'AGALLOCH'], ['FUT', 'REFUTABLE'], ['FUR', 'ERFURT'], ['FUS', 'PROFUSE'], ['OCO', 'MACROCOSM'], ['YPS', 'CHYMOTRYPSIN'], ['OCA', 'SPOROCARP'], ['OCC', 'MALOCCLUSION'], ['FUG', 'REFUGE'], ['FUD', 'BEFUDDLE'], ['FUE', 'MONOFUEL'], ['FUC', 'MOTHERFUCKER'], ['FUN', 'MALFUNCTION'], ['FUL', 'SPLEENFUL'], ['FUM', 'SUFFUMIGATE'], ['CEE', 'PROCEED'], ['CED', 'SPLICED'], ['CEC', 'SPACECRAFT'], ['CEA', 'MARCEAU'], ['CEO', 'NYMPHAEACEOUS'], ['CEN', 'SPUMESCENT'], ['CEM', 'SPACEMAN'], ['CEL', 'MARCEL'], ['CEI', 'ORCEIN'], ['CEU', 'BERCEUSE'], ['CET', 'OXALACETATE'], ['CES', 'SPLICES'], ['CER', 'SPLICER'], ['CEP', 'MACROCEPHALIC'], ['CEY', 'PRICEY'], ['PIC', 'MACROSCOPIC'], ['WOU', 'REWOUND'], ['WOT', 'SWOTS'], ['WOW', 'BOWWOW'], ['WOV', 'INTERWOVEN'], ['OZO', 'SPOROZOAN'], ['WOM', 'SPOKESWOMAN'], ['WOL', 'GRISWOLD'], ['WOO', 'MATCHWOOD'], ['WON', 'MORWONG'], ['WOK', 'AWOKE'], ['PHR', 'SPHRAGISTICS'], ['WOE', 'VERWOERD'], ['WOG', 'HORNSWOGGLE'], ['WOB', 'COLLYWOBBLES'], ['NEX', 'NONEXECUTABLE'], ['KOW', 'MANKOWSKI'], ['PHT', 'APHTHA'], ['MUU', 'MUUMUU'], ['MUT', 'MALAMUTE'], ['MUS', 'NYSTAGMUS'], ['MUR', 'CHEMURGY'], [\"IT'\", \"SPLIT'S\"], ['MUZ', 'ORMUZ'], ['MUE', 'SAMUEL'], ['MUD', 'MALAMUD'], ['MUG', 'HUGGERMUGGER'], ['MUF', 'UNMUFFLE'], ['MUC', 'MALLEMUCK'], ['MUM', 'MAXIMUM'], ['MUL', 'MACROSIMULATION'], ['MUN', 'EDMUND'], ['MUK', 'KALMUK'], ['ASS', 'SPYGLASS'], ['ASQ', 'MASQAT'], ['ASP', 'GRASP'], ['ASW', 'GLASWEGIAN'], ['ASU', 'MASURIA'], ['AST', 'AGHAST'], ['ASY', 'MALAGASY'], ['NUR', 'MANURE'], ['NUP', 'GROWNUP'], ['ASC', 'AGUASCALIENTES'], ['ASB', 'MASBATE'], ['ASA', 'NYASA'], ['NUM', 'SPHAGNUM'], ['ASG', 'PELASGIAN'], ['NUK', 'MANUKA'], ['ASE', 'OXIDASE'], ['ASD', 'MAGNETOGASDYNAMIC'], ['ASK', 'MASKABLE'], ['NUG', 'MANUGUERRA'], ['ASI', 'OXIDASIC'], ['ASH', 'SPLASH'], ['ASO', 'MASOCHISM'], ['NUC', 'MACRONUCLEUS'], ['ASM', 'MARASMIC'], ['ASL', 'BASLE'], ['DUI', 'BEDUIN'], ['UNR', 'BUNRAKU'], ['DUK', 'MARDUK'], ['DUL', 'SPONDULIX'], ['DUM', 'AGENDUM'], ['DUN', 'GRANDUNCLE'], ['DUO', 'DECIDUOUS'], ['DUA', 'GRADUAL'], ['DUB', 'PARDUBICE'], ['DUC', 'BYPRODUCT'], ['DUD', 'LLANDUDNO'], ['DUE', 'SUBDUE'], ['DUF', 'SHADUF'], ['DUG', 'MAIDUGURI'], ['UNB', 'TUNBRIDGE'], ['UNC', 'MALFUNCTION'], ['UND', 'AGROUND'], ['UNE', 'BEAUNE'], ['UNF', 'SUNFAST'], ['UNG', 'MAUNGY'], ['DUP', 'BUILDUP'], ['DUQ', 'MARINDUQUE'], ['DUR', 'MADURA'], ['DUS', 'GRADUS'], ['DUT', 'UNDUTIFUL'], ['DUU', 'TRIDUUM'], ['DUV', 'REDUVIID'], ['UNO', 'IMMUNOASSAY'], ['WAD', 'BEZWADA'], ['ITO', 'SITOLOGY'], ['OMA', 'NYMPHOMANIA'], ['ITH', 'SITHOLE'], ['ITI', 'SITING'], ['OMI', 'AGRONOMIC'], ['ITE', 'KYANITE'], ['OMO', 'OCULOMOTOR'], ['ITC', 'SITCOM'], ['OMM', 'GROMMET'], ['ITA', 'AGITATE'], ['OXY', 'ORTHODOXY'], ['OMP', 'NONCOMPLIANCE'], ['ZIN', 'MATOZINHOS'], ['OMU', 'PROMULGATE'], ['ITS', 'SITSANG'], ['AAC', 'ISAAC'], ['AAL', 'KURSAAL'], ['CUT', 'NONEXECUTABLE'], ['AAR', 'MAARIANHAMINA'], ['FEB', 'AFEBRILE'], ['YAL', 'NYALA'], ['CUR', 'MANICURE'], ['BIN', 'BEBINGTON'], ['BIO', 'AGROBIOLOGICAL'], ['BIL', 'AGGLUTINABILITY'], ['BIM', 'CHERUBIM'], ['BIJ', 'SRBIJA'], ['BIK', 'MOTORBIKE'], ['BIH', 'MORBIHAN'], ['BII', 'ZOMBIISM'], ['BIF', 'TUBIFEX'], ['BIG', 'TOMBIGBEE'], ['BID', 'CHICKABIDDY'], ['BIE', 'BERBIE'], ['BIB', 'IMBIBE'], ['BIC', 'AGORAPHOBIC'], ['NEF', 'BENEFACTION'], ['BIA', 'AGORAPHOBIA'], ['BIZ', 'BARBIZON'], ['BIV', 'HERBIVORE'], ['BIT', 'UNINHABITED'], ['BIR', 'BELLBIRD'], ['BIS', 'SNOBBISH'], ['BIQ', 'MOZAMBIQUE'], ['IZA', 'MANIZALES'], ['SLY', 'AGELESSLY'], ['IZH', 'NIZHNI'], ['SLU', 'SEMITRANSLUCENT'], ['IZM', 'WEIZMANN'], ['JUA', 'MARIJUANA'], ['SLI', 'GRASSLIKE'], ['SLE', 'KREISLER'], ['IZZ', 'GRIZZLE'], ['SLA', 'MANSLAUGHTER'], ['MCI', 'TRIAMCINOLONE'], ['CUF', 'SCUFF'], ['MCE', 'EMCEE'], ['CUE', 'EVACUEE'], ['MCA', 'WORMCAST'], ['FEU', 'CHAUFFEUR'], ['JUK', 'SELJUK'], ['CUC', 'AYACUCHO'], ['SOX', 'SULPHISOXAZOLE'], ['CUB', 'SCUBA'], ['EXF', 'WEXFORD'], ['EXE', 'NONEXECUTABLE'], ['EXC', 'INEXCUSABLE'], ['EXA', 'CYCLOHEXANE'], ['NEE', 'MATINEE'], ['EXO', 'REFLEXOLOGY'], ['EXH', 'INEXHAUSTIBILITY'], ['EXI', 'NONEXISTENCE'], ['EXT', 'NONEXTENSIBLE'], ['EXU', 'UNISEXUAL'], ['EXP', 'SUBEXPRESSION'], ['JUR', 'NONJURING'], ['NEB', 'TENEBRAE'], ['JUS', 'MAJUSCULAR'], ['JUP', 'CAJUPUT'], ['TZA', 'KAZANTZAKIS'], ['TZE', 'KREUTZER'], ['USA', 'SPOUSAL'], ['TZI', 'CHINTZIER'], ['JUV', 'ADJUVANT'], ['NEC', 'SPLENECTOMY'], ['JUT', 'JIUJUTSU'], ['THY', 'WORTHY'], ['THW', 'WORTHWHILE'], ['THU', 'AGAPANTHUS'], ['THR', 'BETHRAL'], ['THO', 'SITHOLE'], ['THI', 'MARATHI'], ['THE', 'KYTHERA'], ['THA', 'AGATHA'], ['NIJ', 'UNIJUGATE'], ['NIH', 'BAYANIHAN'], ['NII', 'SATURNIID'], ['NIN', 'AGGLUTININ'], ['NIO', 'MANIOC'], ['NIL', 'MAGNILOQUENCE'], ['NIM', 'MAGNANIMITY'], ['KIS', 'SPOOKISH'], ['KIR', 'BASHKIR'], ['KIP', 'SKIPJACK'], ['KIW', 'AZIKIWE'], ['NIG', 'MARCONIGRAM'], ['KIU', 'KWAKIUTL'], ['KIT', 'GREENOCKITE'], ['KIK', 'WAIKIKI'], ['NIX', \"UNIX'S\"], ['KIN', 'SPUNKINESS'], ['KIM', 'YAKIMA'], ['KIL', 'SPUNKILY'], ['KIC', 'TURKIC'], ['KIB', 'SKIBOB'], ['KIA', 'CHEKIANG'], ['KIE', 'SPUNKIE'], ['KID', 'GRANDKID'], ['CRU', 'MACRURAN'], ['CRY', 'PROCRYPTIC'], ['WIJ', 'RIJSWIJK'], ['CRA', 'MACRAME'], ['CRE', 'OCREA'], ['CRI', 'MASSACRING'], ['CRO', 'MACRO'], ['EFT', 'BEREFT'], ['ZOM', 'PIEZOMETER'], ['EFF', 'NONEFFECTIVE'], ['OPT', 'MACROPTEROUS'], ['OPU', 'OCTOPUS'], ['OPP', 'BEBOPPER'], ['OPS', 'SPHENOPSID'], ['OPE', 'SNIPERSCOPE'], ['OPA', 'MACROPATHOLOGICAL'], ['OPC', 'STOPCOCK'], ['OPO', 'SPOROPOLLENIN'], ['OPH', 'NYCTOPHOBIA'], ['OPI', 'NYCTALOPIA'], ['YAR', 'MAGYAR'], ['UMT', 'GUMTREE'], ['DVO', 'ADVOCACY'], ['DVI', 'UNADVISED'], ['UMP', 'GRUMP'], ['UMR', 'DRUMROLL'], ['DVA', 'ADVANCE'], ['UMA', 'BEAUMARCHAIS'], ['UMB', 'MACUMBA'], ['SAG', 'MASSAGE'], ['UML', 'MAXIMUMLY'], ['UMI', 'SPUMING'], ['OLA', 'AGRICOLA'], ['OLC', 'SCHOOLCHILD'], ['OLD', 'MARIGOLD'], ['OLE', 'NYMPHOLEPSY'], ['OLF', 'WEREWOLF'], ['OLI', 'SPOLIATE'], ['OLO', 'AGRIOLOGY'], ['OLS', 'SPOOLS'], ['OXH', 'HOXHA'], ['IKE', 'SPORTSMANLIKE'], ['USN', 'SPURIOUSNESS'], ['OLY', 'NONELECTROLYTE'], ['IKH', \"SIKH'S\"], ['OSG', 'GROSGRAIN'], ['OBO', 'NOBODIES'], ['OBL', 'SPONGIOBLAST'], ['OBJ', 'NONOBJECTIVE'], ['OBI', 'AGORAPHOBIA'], ['OBF', 'BOBFLOAT'], ['IEP', 'DNIEPER'], ['OBD', 'HOBDAY'], ['OBE', 'OCTOBER'], ['OBB', 'NOBBIER'], ['OBC', 'JOBCENTRE'], ['OBA', 'MANITOBA'], ['CUP', 'NUNCUPATE'], ['PSI', 'SPHENOPSID'], ['OBT', 'BOBTAIL'], ['OBR', 'OCTOBRIST'], ['OBS', 'NONOBSERVANCE'], ['PLU', 'SPLURGE'], ['PLY', 'CHEAPLY'], ['PLE', 'SPLEEN'], ['UST', 'MALADJUST'], ['PLA', 'SPHEROPLAST'], ['PLO', 'SPLODGE'], ['PLI', 'SPLICE'], ['TOK', 'BYELOSTOK'], ['IYE', 'KADIYEVKA'], ['PSA', 'MAINTOPSAIL'], ['PSE', 'PROLAPSE'], ['SOA', 'ISOAGGLUTINATION'], ['SOC', 'MASOCHISM'], ['SOB', 'PROSOBRANCH'], ['SOE', 'WHENCESOEVER'], ['GAZ', 'AGAZE'], ['GAY', 'MARGAY'], ['MOJ', 'THERMOJUNCTION'], ['GAW', 'GIGAWATT'], ['GAV', 'AGAVE'], ['GAU', 'MARGAUX'], ['GAT', 'AGGREGATE'], ['GAS', 'MADAGASCAR'], ['GAR', 'AGARIC'], ['SOO', 'ISOOCTANE'], ['GAP', 'AGAPANTHUS'], ['GAN', 'MAHOGANY'], ['GAM', 'AGAMA'], ['GAL', 'AGALLOCH'], ['SOU', 'BESOUGHT'], ['SOT', 'MASSOTHERAPY'], ['GAI', 'AGAIN'], ['GAH', 'GIGAHERTZ'], ['GAG', 'GREENGAGE'], ['GAF', 'SHANDYGAFF'], ['GAE', 'BELGAE'], ['GAD', 'AGADIR'], ['GAB', 'MANGABEY'], ['AQU', 'MAQUETTE'], ['NET', 'SPLENETIC'], ['UZI', 'GAUZILY'], ['ARP', 'SPOROCARP'], ['ARQ', 'MARQUAND'], ['ARR', 'MARRAKECH'], ['ARS', 'MARSALA'], ['ART', 'AGARTALA'], ['ARU', 'PARULIS'], ['ARY', 'OCTOCENTENARY'], ['ARA', 'MASCARA'], ['ARB', 'MASHARBRUM'], ['ARC', 'OCTARCHY'], ['ARD', 'SPLASHBOARD'], ['ARE', 'AGLARE'], ['ARG', 'MARGARET'], ['ARH', 'CHANDIGARH'], ['ARI', 'AGARIC'], ['ARJ', 'MARJORAM'], ['ARK', 'SITZMARK'], ['ARL', 'MARLBOROUGH'], ['ARM', 'MARMALADE'], ['ARN', 'BEAUHARNAIS'], ['ARO', 'OCTAROON'], ['VYS', 'HEAVYSET'], ['TIZ', 'PARTIZAN'], ['TIT', 'NYCTITROPISM'], [\"O'L\", \"WHO'LL\"], ['TIV', 'AGITATIVE'], ['TIP', 'NONMULTIPLE'], ['TIR', 'BESTIR'], ['TIS', 'SPLENITIS'], ['TIL', 'SPORTILY'], ['TIM', 'MARITIME'], ['TIN', 'AGOSTINI'], ['TIO', 'AGNATION'], ['TIH', 'PANTIHOSE'], ['TIJ', 'STIJL'], ['TIK', 'REALPOLITIK'], ['TID', 'BETIDE'], ['TIE', 'SPORTIER'], ['TIF', 'MASTIFF'], ['TIG', 'MASTIGOPHORAN'], ['TIA', 'MARTIAL'], ['TIB', 'NONDEDUCTIBILITY'], ['TIC', 'AGONISTIC'], ['KHY', 'SANKHYA'], ['KHU', 'PANKHURST'], ['KHI', 'NAKHICHEVAN'], ['KHM', 'AKHMATOVA'], ['KHO', 'MARKHOR'], ['AQA', 'ZAQAZIQ'], ['KHE', 'WEAKHEARTED'], ['QIS', 'IRAQIS'], ['RHY', 'ORNITHORHYNCHUS'], ['OCE', 'OCTOCENTENARY'], ['VIC', 'MALEVICH'], ['XAV', 'HEXAVALENT'], ['XAN', 'CYCLOHEXANE'], ['VIG', 'AVIGATION'], ['VIE', 'BEVIES'], ['SAH', 'TUSSAH'], ['VII', 'XCVII'], ['RHU', 'SCIRRHUS'], ['EER', 'AGREER'], ['EEL', 'MANCHINEEL'], ['ULY', 'UNTRULY'], ['VIL', 'MANDEVILLE'], ['VIM', 'GRAVIMETER'], ['RHI', 'SCIRRHI'], ['ROJ', 'PROJECT'], ['ROL', 'AGROLOGIC'], ['ROM', 'SPHEROMETER'], ['RON', 'AGRONOMIC'], ['ROO', 'OCTAROON'], ['OSP', 'MACROSPORANGIUM'], ['OSS', 'MACROFOSSIL'], ['ROD', 'BYPRODUCT'], ['OST', 'AGOSTINI'], ['OSW', 'BOSWELL'], ['ROG', 'SPOROGENESIS'], ['OSI', 'AGRANULOCYTOSIS'], ['OSH', 'MACINTOSH'], ['ROZ', 'SPOROZOAN'], ['LLO', 'AGALLOCH'], ['OSN', 'POSNER'], ['OSA', 'SPOSATO'], ['ROQ', 'MAROQUIN'], ['LLA', 'SITELLA'], ['OSB', 'GROSBEAK'], ['ROT', 'SPOROTRICHOSIS'], ['ROU', 'AGEGROUP'], ['LLE', 'SPOROPOLLENIN'], ['BDE', 'MOLYBDENITE'], ['EWI', 'BEWICK'], ['RHO', 'MATTERHORN'], ['EWE', 'AGUEWEED'], ['YCL', 'NONCYCLIC'], ['SQU', 'MASQUE'], ['VOD', 'SARVODAYA'], ['VOE', 'BRAVOED'], ['VOG', 'AVOGADRO'], ['ZLO', 'LASZLO'], ['VOC', 'EVOCABLE'], ['VOL', 'MACROEVOLUTION'], ['VOM', 'SERVOMECHANISM'], ['VOO', 'PARLEYVOO'], ['HIS', 'MASOCHISM'], ['VOT', 'NONVOTER'], ['VOU', 'MAVOURNEEN'], ['VOW', 'AVOWAL'], ['UNU', 'EUNUCH'], ['VOS', 'VLADIVOSTOK'], ['VOY', 'SAVOY'], ['SAO', 'ESSAOUIRA'], ['IDY', 'OCTOPLOIDY'], ['ULM', 'MAULMAIN'], ['OCK', 'SPOCK'], ['IDO', 'ISIDORE'], ['IDL', 'SPLENDIDLY'], ['IDI', 'SPHEROIDICITY'], ['IDE', 'SPORICIDE'], ['IDA', 'SPHENOIDAL'], ['ULA', 'OCULAR'], ['UNW', 'SUNWARD'], ['CNI', 'PYCNIDIUM'], ['FED', 'SNIFFED'], ['FEE', 'BREASTFEED'], ['CUS', 'MARCUS'], ['FEC', 'NONEFFECTIVE'], ['FEA', 'MALFEASANCE'], ['FEN', 'NONDEFENSE'], ['FEO', 'ENFEOFF'], ['FEL', 'KREFELD'], ['FEM', 'LIFEMANSHIP'], ['FEI', 'SURFEIT'], ['FEV', 'ENFEVER'], ['FEW', 'LIFEWAY'], ['FET', 'SAFETIED'], ['CUD', 'SCUDDED'], ['FER', 'SPLENDIFEROUS'], ['FES', 'MANIFEST'], ['CUN', 'MANCUNIAN'], ['CUM', 'MACUMBA'], ['CUL', 'AGRICULTURAL'], ['CUI', 'PROMISCUITY'], ['FEY', 'CHAFFEY'], ['WIG', 'BEWIGGED'], ['WIF', 'BROADWIFE'], ['WIE', 'CHEWIE'], ['WID', 'WORLDWIDE'], ['WIC', 'BERWICK'], ['WIN', 'BELLOWING'], ['WIM', 'KUSKOKWIM'], ['WIL', 'BEWILDER'], ['IFF', 'MASTIFF'], ['UNY', 'BUNYAN'], ['WIV', 'SWIVEL'], ['WIT', 'BERKOWITZ'], ['WIS', 'MARKETWISE'], ['WIR', 'REWIRE'], ['WIP', 'SWIPE'], ['WIZ', 'SWIZZLE'], ['WIX', 'BETWIXT'], ['CIC', 'NOCICEPTIVE'], ['CIB', 'EVINCIBLE'], ['CIG', 'TEGUCIGALPA'], ['CIE', 'AGENCIES'], ['CID', 'SPORICIDAL'], ['UNZ', 'KUNZITE'], ['CIN', 'SPLICING'], ['CIM', 'OCTODECIMO'], ['CIL', 'OCTODECILLION'], ['CIS', 'AGNOSTICISM'], ['CIR', 'RECIRCULATE'], ['CIP', 'MANCIPATION'], ['CIV', 'INCIVILITY'], ['CIU', 'PROSCIUTTO'], ['CIT', 'SPHERICITY'], ['ZHI', 'DNEPRODZERZHINSK'], ['SAN', 'SITSANG'], ['DAD', 'GRANDAD'], ['DAE', 'MANDAEAN'], ['DAF', 'MADAFU'], ['DAG', 'MADAGASCAR'], ['NDO', 'SPLENDOROUS'], ['DAB', 'BENDABLE'], ['DAC', 'BERBERIDACEOUS'], ['DAL', 'AGENDALESS'], ['DAM', 'MACADAM'], ['DAN', 'OCTOPODAN'], ['DAH', 'WHIDAH'], ['DAI', 'SPONDAIC'], ['DAK', 'KODAK'], ['DAT', 'AGGRADATION'], ['DAU', 'BEDAUB'], ['DAV', 'AFFIDAVIT'], ['DAW', 'JACDAW'], ['DAP', 'MALADAPT'], ['DAR', 'MANDARIN'], ['DAS', 'AGENDAS'], ['DAY', 'MAYDAY'], ['DAZ', 'BEDAZZLE'], ['SRI', 'USRIO'], ['ULS', 'SPOONFULS'], ['ULP', 'JUBBULPORE'], ['DWY', \"O'DWYER\"], ['ULT', 'AGRICULTURAL'], ['ULU', 'SPICULUM'], ['UKR', 'KUKRI'], ['DWA', 'BEDWARMER'], ['ULN', 'SPORTFULNESS'], ['ULO', 'AGRANULOCYTOSIS'], ['ULL', 'SPORTFULLY'], ['DWE', 'BEDWETTING'], ['ULB', \"BULB'S\"], ['ULC', 'EDULCORATE'], ['DWI', 'WORLDWIDE'], ['ULF', 'KYNEWULF'], ['ULD', 'SPAULDING'], ['ULE', 'SPHERULE'], ['VYA', 'VYVYAN'], ['OOD', 'MATCHWOOD'], ['OOG', 'CHATTANOOGA'], ['IJS', 'RIJSWIJK'], ['OOC', 'CHATTAHOOCHEE'], ['OOM', 'BEDROOM'], ['OOL', 'SPOOL'], ['OOT', 'SPLAYFOOT'], ['KRI', 'SITZKRIEG'], ['OOP', 'MAGNETOOPTIC'], ['OOS', 'NOOSE'], ['OOZ', 'SNOOZE'], ['KRO', 'WORKROOM']]\n"
     ]
    }
   ],
   "source": [
    "%time contContra, LC = buscadorContraejemplo(keys, values)\n",
    "print (\"Número de tripletas que no cumplen lo especificado: \"+str(contContra))\n",
    "print LC"
   ]
  },
  {
   "cell_type": "code",
   "execution_count": 83,
   "metadata": {},
   "outputs": [
    {
     "name": "stdout",
     "output_type": "stream",
     "text": [
      "El número de keys es igual a la suma de las tripletas que lo cumplen más las que no?:\n",
      "\n",
      "Número de tripletas que lo cumplen: 292\n",
      "\n",
      "Número de tripletas que no lo cumplen: 3133\n",
      "\n",
      "Suma = 3425\n",
      "\n",
      "Número de tripletas totales: 3425\n",
      "\n",
      "True\n"
     ]
    }
   ],
   "source": [
    "print(\"El número de keys es igual a la suma de las tripletas que lo cumplen más las que no?:\\n\")\n",
    "print(\"Número de tripletas que lo cumplen: \"+str(cont)+\"\\n\")\n",
    "print(\"Número de tripletas que no lo cumplen: \"+str(contContra)+\"\\n\")\n",
    "print(\"Suma = \"+str(cont+contContra)+\"\\n\")\n",
    "print(\"Número de tripletas totales: \"+str(len(keys))+\"\\n\")\n",
    "print(len(keys) == (cont + contContra))\n"
   ]
  },
  {
   "cell_type": "markdown",
   "metadata": {},
   "source": [
    "Esto creo que es suficiente para convencerte."
   ]
  },
  {
   "cell_type": "markdown",
   "metadata": {},
   "source": [
    "<h4>Ejercicio 2</h4>\n",
    "<p>(3 puntos) En este ejercicio hay que programar funciones para <span style=\"color: #ff0000;\">encriptar y desencriptar</span> <span style=\"color: #ff0000;\">(no se excluye</span> que la funci&oacute;n que sirve para encriptar tambi&eacute;n sirva para desencriptar) un texto usando el siguiente sistema cl&aacute;sico:&nbsp; La clave es un entero $d$ y una permutaci&oacute;n $\\pi$ del conjunto $X_d:=\\{1,2,\\dots,d\\}$ (i.e. una funci&oacute;n biyectiva de $X_d$ en $X_d$).&nbsp; Encriptamos dividiendo el texto en bloques de longitud $d$ y encriptando cada bloque colocando la letra que ocupa la posici&oacute;n $i$ en el lugar $\\pi(i)$. <span style=\"color: #ff0000;\">Debes comprobar</span> que funciona utilizando el texto suministrado. <span style=\"color: #ff0000;\">Observa</span> que la longitud del texto debe ser un m&uacute;ltiplo de $d$, y si no lo es debemos poner al final basura hasta que la longitud sea &nbsp;un m&uacute;ltiplo de $d$.&nbsp;</p>\n",
    "<p>En este sistema las frecuencias de las letras en el texto original y en el encriptado son iguales, de forma que no se puede atacar en la misma forma que la cifra de C&eacute;sar o la cifra de permutaci&oacute;n. &iquest;<span style=\"color: #ff0000;\">Qu&eacute; opinas</span> de la seguridad de este m&eacute;todo?</p>"
   ]
  },
  {
   "cell_type": "code",
   "execution_count": 30,
   "metadata": {
    "collapsed": true
   },
   "outputs": [],
   "source": [
    "texto = 'THROUGHTHEUSEOFABSTRACTIONANDLOGICALREASONINGMATHEMATICSDEVELOPEDFROMCO\\\n",
    "UNTINGCALCULATIONMEASUREMENTANDTHESYSTEMATICSTUDYOFTHESHAPESANDMOTIONSOF\\\n",
    "PHYSICALOBJECTSPRACTICALMATHEMATICSHASBEENAHUMANACTIVITYFORASFARBACKASWR\\\n",
    "ITTENRECORDSEXISTRIGOROUSARGUMENTSFIRSTAPPEAREDINGREEKMATHEMATICSMOSTNOT\\\n",
    "ABLYINEUCLIDSELEMENTSMATHEMATICSDEVELOPEDATARELATIVELYSLOWPACEUNTILTHERE\\\n",
    "NAISSANCEWHENMATHEMATICALINNOVATIONSINTERACTINGWITHNEWSCIENTIFICDISCOVER\\\n",
    "IESLEDTOARAPIDINCREASEINTHERATEOFMATHEMATICALDISCOVERYTHATCONTINUESTOTHE\\\n",
    "PRESENTDAYZ'"
   ]
  },
  {
   "cell_type": "code",
   "execution_count": 31,
   "metadata": {
    "collapsed": true
   },
   "outputs": [],
   "source": [
    "alfb = \"ABCDEFGHIJKLMNOPQRSTUVWXYZ.\" # el punto es la basura introducida"
   ]
  },
  {
   "cell_type": "code",
   "execution_count": 32,
   "metadata": {},
   "outputs": [
    {
     "name": "stdout",
     "output_type": "stream",
     "text": [
      "27\n"
     ]
    }
   ],
   "source": [
    "L_alfb = list(alfb)\n",
    "print(len(L_alfb))"
   ]
  },
  {
   "cell_type": "code",
   "execution_count": 33,
   "metadata": {
    "collapsed": true
   },
   "outputs": [],
   "source": [
    "def ord2(c):\n",
    "    return L_alfb.index(c)"
   ]
  },
  {
   "cell_type": "code",
   "execution_count": 34,
   "metadata": {
    "collapsed": true
   },
   "outputs": [],
   "source": [
    "def chr2(n):\n",
    "    return L_alfb[n]"
   ]
  },
  {
   "cell_type": "code",
   "execution_count": 35,
   "metadata": {},
   "outputs": [
    {
     "data": {
      "text/plain": [
       "514"
      ]
     },
     "execution_count": 35,
     "metadata": {},
     "output_type": "execute_result"
    }
   ],
   "source": [
    "l = len(texto)\n",
    "l"
   ]
  },
  {
   "cell_type": "code",
   "execution_count": 36,
   "metadata": {},
   "outputs": [
    {
     "data": {
      "text/plain": [
       "6"
      ]
     },
     "execution_count": 36,
     "metadata": {},
     "output_type": "execute_result"
    }
   ],
   "source": [
    "d = randint(5,27)\n",
    "d"
   ]
  },
  {
   "cell_type": "code",
   "execution_count": 37,
   "metadata": {
    "collapsed": true
   },
   "outputs": [],
   "source": [
    "def permutacion(d): # crea una permutacion de {1, ..., d} elementos\n",
    "    L = []\n",
    "    while(len(L)<d):\n",
    "        a = randint(0, d)\n",
    "        if a not in L:\n",
    "            L.append(a)\n",
    "    return L\n",
    "\n",
    "def esPermutacionCorrecta(L, d): # comprueba que la permutacion creada arriba es correcta\n",
    "    for i in xsrange(0, d):\n",
    "        if i not in L:\n",
    "            return False\n",
    "    return True"
   ]
  },
  {
   "cell_type": "code",
   "execution_count": 38,
   "metadata": {},
   "outputs": [
    {
     "name": "stdout",
     "output_type": "stream",
     "text": [
      "True\n",
      "[4, 3, 2, 5, 1, 0]\n"
     ]
    }
   ],
   "source": [
    "PERM = permutacion(d)\n",
    "print esPermutacionCorrecta(PERM, d)\n",
    "print PERM"
   ]
  },
  {
   "cell_type": "code",
   "execution_count": 39,
   "metadata": {
    "collapsed": true
   },
   "outputs": [],
   "source": [
    "def prepararTexto(texto, d):\n",
    "    l = len(texto)\n",
    "    L = list(texto)\n",
    "    \n",
    "    while(len(L)%d != 0):\n",
    "        L.append(\".\")\n",
    "        \n",
    "    textoPreparado = \"\".join(L)\n",
    "    return textoPreparado"
   ]
  },
  {
   "cell_type": "code",
   "execution_count": 40,
   "metadata": {},
   "outputs": [
    {
     "name": "stdout",
     "output_type": "stream",
     "text": [
      "516\n",
      "THROUGHTHEUSEOFABSTRACTIONANDLOGICALREASONINGMATHEMATICSDEVELOPEDFROMCOUNTINGCALCULATIONMEASUREMENTANDTHESYSTEMATICSTUDYOFTHESHAPESANDMOTIONSOFPHYSICALOBJECTSPRACTICALMATHEMATICSHASBEENAHUMANACTIVITYFORASFARBACKASWRITTENRECORDSEXISTRIGOROUSARGUMENTSFIRSTAPPEAREDINGREEKMATHEMATICSMOSTNOTABLYINEUCLIDSELEMENTSMATHEMATICSDEVELOPEDATARELATIVELYSLOWPACEUNTILTHERENAISSANCEWHENMATHEMATICALINNOVATIONSINTERACTINGWITHNEWSCIENTIFICDISCOVERIESLEDTOARAPIDINCREASEINTHERATEOFMATHEMATICALDISCOVERYTHATCONTINUESTOTHEPRESENTDAYZ..\n"
     ]
    }
   ],
   "source": [
    "texto2 = prepararTexto(texto, d)\n",
    "print len(texto2)\n",
    "print texto2"
   ]
  },
  {
   "cell_type": "code",
   "execution_count": 43,
   "metadata": {
    "collapsed": true
   },
   "outputs": [],
   "source": [
    "def encriptar(texto, d, perm):\n",
    "    L = list(texto)\n",
    "    M = list()\n",
    "    for i in xsrange(0, len(L)):\n",
    "        M.append(\"a\")\n",
    "    \n",
    "    for i in xsrange (0, len(L)):\n",
    "        indice = i%d\n",
    "        bloque = floor(i/d)\n",
    "        nuevo = perm[indice]\n",
    "        M[(bloque*d) + nuevo] = L[i]\n",
    "    cad = \"\".join(M)\n",
    "    return cad"
   ]
  },
  {
   "cell_type": "code",
   "execution_count": 44,
   "metadata": {},
   "outputs": [
    {
     "name": "stdout",
     "output_type": "stream",
     "text": [
      "GURHTOSUHTHESBFOEAITARTCLDANONLAIGOCNOAERSTAGNIMITMEHAEVDSCEFDPOLEUOMORCCGITNNALCLAUEMOITNMEUSARDNTNEASYEHTSITMETAYDTSCUSETFOHASPAHEITMDNOPFSNOOACSYHICEBOLJCAPSTRMLCITAAMHTAEAHCITSANEBSEANMUHATIITCVSAOFYRCARAFBIRSAKWERETTNESROCDIRSIXTSUROGOEMGRAURISTNFEPATSPNIERADMKERGEAMHTAEOMCITSATNTSOENYLBISDLCUINEELEMHTMSTACIAMETLEEDSVTAEPODTAERALSYEVILCAWOLPLINUETNEEHTRNASIASNEWECHMETAMHLAITACAVNNIOISOITNCAETNRIWNITGSWNHTEITEICNSICIFDIRVOCETDLSEEIPRAOAERNIDCTNESAIETREHAHTMFOACIAMETCSDLAITYEVORNOTAHCSENITUPETOTHTNSERE..YADZ\n"
     ]
    }
   ],
   "source": [
    "encrip = encriptar(texto2, d, PERM)\n",
    "print encrip"
   ]
  },
  {
   "cell_type": "code",
   "execution_count": 45,
   "metadata": {
    "collapsed": true
   },
   "outputs": [],
   "source": [
    "def desencriptar(texto, d, PERM):\n",
    "    L = list(texto)\n",
    "    M = list()\n",
    "    for i in xsrange(0, len(L)):\n",
    "        M.append(\"a\")\n",
    "        \n",
    "    for i in xsrange (0, len(L)):\n",
    "        indice = i%d\n",
    "        bloque = floor(i/d)\n",
    "        nuevo = PERM.index(indice)\n",
    "        M[(bloque*d)+nuevo] = L[i]\n",
    "    cad = \"\".join(M)\n",
    "    return cad"
   ]
  },
  {
   "cell_type": "code",
   "execution_count": 46,
   "metadata": {},
   "outputs": [
    {
     "name": "stdout",
     "output_type": "stream",
     "text": [
      "THROUGHTHEUSEOFABSTRACTIONANDLOGICALREASONINGMATHEMATICSDEVELOPEDFROMCOUNTINGCALCULATIONMEASUREMENTANDTHESYSTEMATICSTUDYOFTHESHAPESANDMOTIONSOFPHYSICALOBJECTSPRACTICALMATHEMATICSHASBEENAHUMANACTIVITYFORASFARBACKASWRITTENRECORDSEXISTRIGOROUSARGUMENTSFIRSTAPPEAREDINGREEKMATHEMATICSMOSTNOTABLYINEUCLIDSELEMENTSMATHEMATICSDEVELOPEDATARELATIVELYSLOWPACEUNTILTHERENAISSANCEWHENMATHEMATICALINNOVATIONSINTERACTINGWITHNEWSCIENTIFICDISCOVERIESLEDTOARAPIDINCREASEINTHERATEOFMATHEMATICALDISCOVERYTHATCONTINUESTOTHEPRESENTDAYZ..\n"
     ]
    }
   ],
   "source": [
    "desen = desencriptar(encrip, d, PERM)\n",
    "print desen"
   ]
  },
  {
   "cell_type": "code",
   "execution_count": 59,
   "metadata": {
    "collapsed": true
   },
   "outputs": [],
   "source": [
    "def limpiarTexto(texto):\n",
    "    L = list(texto)\n",
    "    \n",
    "    i = len(L)-1\n",
    "    while(1):\n",
    "        if L[i] == \".\":\n",
    "            L.pop(i)\n",
    "            i = i - 1\n",
    "        else:\n",
    "            break\n",
    "    cad = \"\".join(L)\n",
    "    return cad"
   ]
  },
  {
   "cell_type": "code",
   "execution_count": 60,
   "metadata": {},
   "outputs": [
    {
     "name": "stdout",
     "output_type": "stream",
     "text": [
      "THROUGHTHEUSEOFABSTRACTIONANDLOGICALREASONINGMATHEMATICSDEVELOPEDFROMCOUNTINGCALCULATIONMEASUREMENTANDTHESYSTEMATICSTUDYOFTHESHAPESANDMOTIONSOFPHYSICALOBJECTSPRACTICALMATHEMATICSHASBEENAHUMANACTIVITYFORASFARBACKASWRITTENRECORDSEXISTRIGOROUSARGUMENTSFIRSTAPPEAREDINGREEKMATHEMATICSMOSTNOTABLYINEUCLIDSELEMENTSMATHEMATICSDEVELOPEDATARELATIVELYSLOWPACEUNTILTHERENAISSANCEWHENMATHEMATICALINNOVATIONSINTERACTINGWITHNEWSCIENTIFICDISCOVERIESLEDTOARAPIDINCREASEINTHERATEOFMATHEMATICALDISCOVERYTHATCONTINUESTOTHEPRESENTDAYZ\n"
     ]
    }
   ],
   "source": [
    "textoLimpio = limpiarTexto(desen)\n",
    "print textoLimpio"
   ]
  },
  {
   "cell_type": "code",
   "execution_count": 61,
   "metadata": {},
   "outputs": [
    {
     "name": "stdout",
     "output_type": "stream",
     "text": [
      "True\n"
     ]
    }
   ],
   "source": [
    "print texto == textoLimpio"
   ]
  },
  {
   "cell_type": "markdown",
   "metadata": {},
   "source": [
    "<h4>Ejercicio 3</h4>\n",
    "<p>(3 puntos) En este otro ejercicio hay que encriptar, y desencriptar,&nbsp; un texto corto usando una variante de RSA que se explica a continuaci&oacute;n.&nbsp;</p>\n",
    "<ol>\n",
    "<li>En primer lugar <span style=\"color: #ff0000;\">necesitamos una funci&oacute;n, $raiz(c,p)$,</span> que reciba como argumentos un primo $p$ y un entero $0<c<p$ y devuelva una lista con las dos ra&iacute;ces cuadradas de $c$ en $\\mathbb{Z}_p$ si existen o bien una lista vac&iacute;a. Como sabemos, las dos ra&iacute;ces son opuestas una de la otra, es decir, se pueden representar mediante dos enteros positivos que suman $p$.&nbsp; <span style=\"color: #ff0000;\">Programa</span> una tal funci&oacute;n mediante un <span style=\"color: #ff0000;\">m&eacute;todo de fuerza bruta</span>.</li>\n",
    "<li><span style=\"color: #ff0000;\">Necesitamos una segunda funci&oacute;n, $chinodelresto(a,b,p,q)$,&nbsp;</span> que reciba como argumentos dos enteros positivos $a$ y $b$ y dos primos $p$ y $q$, y devuelva un entero $n$ tal que su resto m&oacute;dulo $p$ es igual al de $a$ y su resto m&oacute;dulo $q$ es igual al de $b$ .&nbsp; <span style=\"color: #ff0000;\">Programa</span> una tal funci&oacute;n mediante un <span style=\"color: #ff0000;\">m&eacute;todo de fuerza bruta</span>.</li>\n",
    "<li>Las funciones anteriores se usar&iacute;an para desencriptar, pero para valores grandes de $p$ y $q$ no servir&iacute;an. Sage dispone de funciones eficientes para hacer esto: para calcular las ra&iacute;ces cuadradas de $c$&nbsp; en $\\mathbb{Z}_p$ <span style=\"color: #ff0000;\">usamos la combinaci&oacute;n $R = Integers(p);Lp = R(c).sqrt(all=True)$</span> y $Lp$ ser&iacute;a la misma lista que nos devuelve <span style=\"color: #ff0000;\">$raiz(c,p)$</span>, y para calcular el $n$ que devuelve la funci&oacute;n <span style=\"color: #ff0000;\">$chinodelresto(a,b,p,q)$</span> basta usar la <span style=\"color: #ff0000;\">funci&oacute;n de Sage $crt(a,b,p,q)$ (teorema chino del resto)</span>.<span style=\"color: #ff0000;\"> OBSERVACI&Oacute;N IMPORTANTE: la primera funci&oacute;n devuelve un par de clases de restos y la segunda necesita que sus argumentos sean enteros. Para que la segunda funcione sobre lo que devuelve la primera hay que forzar las clases de restos al anillo de los enteros.&nbsp;</span></li>\n",
    "<li>Convertimos el texto en un entero&nbsp; (codificaci&oacute;n) con el mismo procedimiento que en RSA, con alfabeto de $26$ letras.</li>\n",
    "<li>Elegimos un entero suficientemente grande $n$ que sea el producto de dos primos distintos y bastante distantes. <span style=\"color: #ff0000;\">Este $n$ ser&aacute; la clave p&uacute;blica.</span> &iquest;Cu&aacute;n grande debe ser $n$? Igual que en RSA tiene que ser suficientemente grande para que todos los mensajes posibles de la longitud del que queremos encriptar, supongamos que es $N$,&nbsp; se puedan representar, mediante el paso 3,&nbsp; como un entero $m$ menor que $n$. <span style=\"color: #ff0000;\">No es necesario</span> definir funciones que generen los primos $p$ y $q$ aleatoriamente dentro de rangos grandes (&eacute;sto servir&iacute;a para generar claves seguras) sino que basta con encontrar primos que cumplan las condiciones requeridas en el punto 6.&nbsp;</li>\n",
    "<li><span style=\"color: #ff0000;\">Encriptamos $m$ elev&aacute;ndolo al cuadrado m&oacute;dulo $N$.</span> De la misma forma que en RSA, podemos convertir&nbsp; el entero resultante en texto (descodificaci&oacute;n)&nbsp; de $N+1$ caracteres si hemos tenido cuidado de elegir $n$ entre $26^N$ y $26^{N+1}.$ El texto resultante ser&aacute; el mensaje encriptado.</li>\n",
    "<li>La clave privada est&aacute; formada por los dos factores $(p,q)$ de $n$. Conocidos los dos primos y el mensaje encriptado $m_e:=m^2$, podemos <span style=\"color: #ff0000;\"><span><span style=\"color: #000000;\">calcular las ra&iacute;ces cuadradas</span><span style=\"color: #000000;\"> $a$ y $b$&nbsp;</span> <span style=\"color: #000000;\">de $m_e$ m&oacute;dulo $p$ y $q$ y aplicando la funci&oacute;n del teorema chino del resto recuperar $m$.&nbsp; Hay que tener en cuenta que como $m_e$ tiene dos ra&iacute;ces m&oacute;dulo $p$ y otras dos m&oacute;dulo $q$, en total hay cuatro pares de combinaciones de una ra&iacute;z m&oacute;dulo $p$ y otra m&oacute;dulo $q$, y s&oacute;lo uno de los cuatro posibles $m$ obtenidos es el correcto. &nbsp; Finalmente hay que descodificar los cuatro posibles $m$, como en RSA, para obtener cuatro textos y el que sea legible debe ser el correcto.&nbsp; </span></span></span></li>\n",
    "</ol>"
   ]
  },
  {
   "cell_type": "code",
   "execution_count": 135,
   "metadata": {
    "collapsed": true
   },
   "outputs": [],
   "source": [
    "texto = 'ESTEEXAMENESINHUMANOYSILOSENOVENGO'"
   ]
  },
  {
   "cell_type": "code",
   "execution_count": 136,
   "metadata": {
    "collapsed": true
   },
   "outputs": [],
   "source": [
    "def raiz(c, p):\n",
    "    L = list()\n",
    "    for i in xsrange (-p, p):\n",
    "        a = i%p\n",
    "        for j in xsrange(-p, p):\n",
    "            b = j%p\n",
    "            if(a+b == p and (power_mod(a, 2, p)==c or power_mod(b, 2, p)==c)):\n",
    "                L = [a,b]\n",
    "                return L\n",
    "    return L"
   ]
  },
  {
   "cell_type": "code",
   "execution_count": 137,
   "metadata": {
    "collapsed": true
   },
   "outputs": [],
   "source": [
    "def chinodelresto(a, b, p, q):\n",
    "    n = 1\n",
    "    while(1):\n",
    "        if((n%p == a%p) and (n%q == b%q)):\n",
    "            return n\n",
    "        n += 1"
   ]
  },
  {
   "cell_type": "code",
   "execution_count": 138,
   "metadata": {
    "collapsed": true
   },
   "outputs": [],
   "source": [
    "p = 19\n",
    "c = 5"
   ]
  },
  {
   "cell_type": "code",
   "execution_count": 139,
   "metadata": {},
   "outputs": [
    {
     "data": {
      "text/plain": [
       "[9, 10]"
      ]
     },
     "execution_count": 139,
     "metadata": {},
     "output_type": "execute_result"
    }
   ],
   "source": [
    "raiz(c, p)"
   ]
  },
  {
   "cell_type": "code",
   "execution_count": 140,
   "metadata": {},
   "outputs": [
    {
     "name": "stdout",
     "output_type": "stream",
     "text": [
      "[9, 10]\n"
     ]
    }
   ],
   "source": [
    "R = Integers(p)\n",
    "Lp = R(c).sqrt(all=True)\n",
    "print Lp"
   ]
  },
  {
   "cell_type": "markdown",
   "metadata": {},
   "source": [
    "Podemos observar que nuestra funcion consigue respuestas correctas (poco eficientes al ser con fuerza bruta)."
   ]
  },
  {
   "cell_type": "code",
   "execution_count": 141,
   "metadata": {},
   "outputs": [
    {
     "data": {
      "text/plain": [
       "13077"
      ]
     },
     "execution_count": 141,
     "metadata": {},
     "output_type": "execute_result"
    }
   ],
   "source": [
    "a=randint(1, 100)\n",
    "b=randint(1,100)\n",
    "p=nth_prime(randint(1, 100))\n",
    "q=nth_prime(randint(1, 100))\n",
    "chinodelresto(a, b, p, q)"
   ]
  },
  {
   "cell_type": "code",
   "execution_count": 142,
   "metadata": {},
   "outputs": [
    {
     "data": {
      "text/plain": [
       "13077"
      ]
     },
     "execution_count": 142,
     "metadata": {},
     "output_type": "execute_result"
    }
   ],
   "source": [
    "crt(a, b, p, q)"
   ]
  },
  {
   "cell_type": "markdown",
   "metadata": {},
   "source": [
    "Parece que nuestra segunda función también trabaja bien"
   ]
  },
  {
   "cell_type": "code",
   "execution_count": 165,
   "metadata": {
    "collapsed": true
   },
   "outputs": [],
   "source": [
    "alfb = \"ABCDEFGHIJKLMNOPQRSTUVWXYZ\""
   ]
  },
  {
   "cell_type": "code",
   "execution_count": 166,
   "metadata": {
    "collapsed": true
   },
   "outputs": [],
   "source": [
    "L_alfb = list(alfb)"
   ]
  },
  {
   "cell_type": "code",
   "execution_count": 167,
   "metadata": {
    "collapsed": true
   },
   "outputs": [],
   "source": [
    "def ord2(c):\n",
    "    return L_alfb.index(c)"
   ]
  },
  {
   "cell_type": "code",
   "execution_count": 168,
   "metadata": {
    "collapsed": true
   },
   "outputs": [],
   "source": [
    "def chr2(n):\n",
    "    return L_alfb[n]"
   ]
  },
  {
   "cell_type": "code",
   "execution_count": 169,
   "metadata": {},
   "outputs": [
    {
     "name": "stdout",
     "output_type": "stream",
     "text": [
      "[4, 18, 19, 4, 4, 23, 0, 12, 4, 13, 4, 18, 8, 13, 7, 20, 12, 0, 13, 14, 24, 18, 8, 11, 14, 18, 4, 13, 14, 21, 4, 13, 6, 14]\n"
     ]
    }
   ],
   "source": [
    "COD = [ord2(c) for c in texto]\n",
    "print COD"
   ]
  },
  {
   "cell_type": "code",
   "execution_count": 170,
   "metadata": {},
   "outputs": [
    {
     "name": "stdout",
     "output_type": "stream",
     "text": [
      "34\n"
     ]
    }
   ],
   "source": [
    "N = len(texto)\n",
    "print N"
   ]
  },
  {
   "cell_type": "code",
   "execution_count": 171,
   "metadata": {},
   "outputs": [
    {
     "name": "stdout",
     "output_type": "stream",
     "text": [
      "1133827315385150725554227\n",
      "29479510200013918864408739\n"
     ]
    }
   ],
   "source": [
    "p = next_prime(26^(N//2)+32)\n",
    "q = next_prime(26^((N//2)+1)+123)\n",
    "print p\n",
    "print q"
   ]
  },
  {
   "cell_type": "code",
   "execution_count": 172,
   "metadata": {},
   "outputs": [
    {
     "data": {
      "text/plain": [
       "33424673908950949331179005963247101732650437189753"
      ]
     },
     "execution_count": 172,
     "metadata": {},
     "output_type": "execute_result"
    }
   ],
   "source": [
    "n = p*q\n",
    "n"
   ]
  },
  {
   "cell_type": "code",
   "execution_count": 173,
   "metadata": {},
   "outputs": [
    {
     "name": "stdout",
     "output_type": "stream",
     "text": [
      "704601755783994605038376672032337899044472564292\n"
     ]
    }
   ],
   "source": [
    "m = ZZ(COD, 26)\n",
    "print m"
   ]
  },
  {
   "cell_type": "code",
   "execution_count": 174,
   "metadata": {},
   "outputs": [
    {
     "data": {
      "text/plain": [
       "32582865167192486272984763523348811229422217628802"
      ]
     },
     "execution_count": 174,
     "metadata": {},
     "output_type": "execute_result"
    }
   ],
   "source": [
    "m2 = power_mod(m, 2, n)\n",
    "m2"
   ]
  },
  {
   "cell_type": "code",
   "execution_count": 175,
   "metadata": {},
   "outputs": [
    {
     "name": "stdout",
     "output_type": "stream",
     "text": [
      "[14, 12, 23, 0, 2, 15, 12, 12, 19, 17, 14, 12, 18, 12, 6, 20, 1, 4, 1, 25, 17, 19, 20, 10, 8, 15, 9, 5, 5, 15, 24, 8, 25, 8, 25]\n"
     ]
    }
   ],
   "source": [
    "DIG = m2.digits(base=26)\n",
    "print DIG"
   ]
  },
  {
   "cell_type": "code",
   "execution_count": 176,
   "metadata": {},
   "outputs": [
    {
     "data": {
      "text/plain": [
       "'OMXACPMMTROMSMGUBEBZRTUKIPJFFPYIZIZ'"
      ]
     },
     "execution_count": 176,
     "metadata": {},
     "output_type": "execute_result"
    }
   ],
   "source": [
    "from string import *\n",
    "M_ENC = join([chr2(item) for item in DIG],sep=\"\");M_ENC"
   ]
  },
  {
   "cell_type": "code",
   "execution_count": 177,
   "metadata": {},
   "outputs": [
    {
     "name": "stdout",
     "output_type": "stream",
     "text": [
      "[14, 12, 23, 0, 2, 15, 12, 12, 19, 17, 14, 12, 18, 12, 6, 20, 1, 4, 1, 25, 17, 19, 20, 10, 8, 15, 9, 5, 5, 15, 24, 8, 25, 8, 25]\n"
     ]
    }
   ],
   "source": [
    "M_ENC2 = [ord2(c) for c in M_ENC];\n",
    "print M_ENC2"
   ]
  },
  {
   "cell_type": "code",
   "execution_count": 178,
   "metadata": {},
   "outputs": [
    {
     "data": {
      "text/plain": [
       "32582865167192486272984763523348811229422217628802"
      ]
     },
     "execution_count": 178,
     "metadata": {},
     "output_type": "execute_result"
    }
   ],
   "source": [
    "m2 = ZZ(M_ENC2,26); m2"
   ]
  },
  {
   "cell_type": "code",
   "execution_count": 179,
   "metadata": {},
   "outputs": [
    {
     "name": "stdout",
     "output_type": "stream",
     "text": [
      "[522592705301392592738297, 611234610083758132815930]\n",
      "[3338594497788796631597559, 26140915702225122232811180]\n"
     ]
    }
   ],
   "source": [
    "R = Integers(p)\n",
    "Lp = R(m2).sqrt(all=True)\n",
    "R = Integers(q)\n",
    "Lq = R(m2).sqrt(all=True)\n",
    "print Lp\n",
    "print Lq"
   ]
  },
  {
   "cell_type": "code",
   "execution_count": 185,
   "metadata": {},
   "outputs": [
    {
     "ename": "TypeError",
     "evalue": "unsupported operand parent(s) for -: 'Ring of integers modulo 29479510200013918864408739' and 'Ring of integers modulo 1133827315385150725554227'",
     "output_type": "error",
     "traceback": [
      "\u001b[0;31m---------------------------------------------------------------------------\u001b[0m",
      "\u001b[0;31mTypeError\u001b[0m                                 Traceback (most recent call last)",
      "\u001b[0;32m<ipython-input-185-a6ac0b4a479d>\u001b[0m in \u001b[0;36m<module>\u001b[0;34m()\u001b[0m\n\u001b[0;32m----> 1\u001b[0;31m \u001b[0mresto1\u001b[0m \u001b[0;34m=\u001b[0m \u001b[0mcrt\u001b[0m\u001b[0;34m(\u001b[0m\u001b[0mLp\u001b[0m\u001b[0;34m[\u001b[0m\u001b[0mInteger\u001b[0m\u001b[0;34m(\u001b[0m\u001b[0;36m0\u001b[0m\u001b[0;34m)\u001b[0m\u001b[0;34m]\u001b[0m\u001b[0;34m,\u001b[0m \u001b[0mLq\u001b[0m\u001b[0;34m[\u001b[0m\u001b[0mInteger\u001b[0m\u001b[0;34m(\u001b[0m\u001b[0;36m0\u001b[0m\u001b[0;34m)\u001b[0m\u001b[0;34m]\u001b[0m\u001b[0;34m,\u001b[0m \u001b[0mp\u001b[0m\u001b[0;34m,\u001b[0m \u001b[0mq\u001b[0m\u001b[0;34m)\u001b[0m\u001b[0;34m\u001b[0m\u001b[0m\n\u001b[0m\u001b[1;32m      2\u001b[0m \u001b[0mresto2\u001b[0m \u001b[0;34m=\u001b[0m \u001b[0mcrt\u001b[0m\u001b[0;34m(\u001b[0m\u001b[0mLp\u001b[0m\u001b[0;34m[\u001b[0m\u001b[0mInteger\u001b[0m\u001b[0;34m(\u001b[0m\u001b[0;36m0\u001b[0m\u001b[0;34m)\u001b[0m\u001b[0;34m]\u001b[0m\u001b[0;34m,\u001b[0m \u001b[0mLq\u001b[0m\u001b[0;34m[\u001b[0m\u001b[0mInteger\u001b[0m\u001b[0;34m(\u001b[0m\u001b[0;36m1\u001b[0m\u001b[0;34m)\u001b[0m\u001b[0;34m]\u001b[0m\u001b[0;34m,\u001b[0m \u001b[0mp\u001b[0m\u001b[0;34m,\u001b[0m \u001b[0mq\u001b[0m\u001b[0;34m)\u001b[0m\u001b[0;34m\u001b[0m\u001b[0m\n\u001b[1;32m      3\u001b[0m \u001b[0mresto3\u001b[0m \u001b[0;34m=\u001b[0m \u001b[0mcrt\u001b[0m\u001b[0;34m(\u001b[0m\u001b[0mLp\u001b[0m\u001b[0;34m[\u001b[0m\u001b[0mInteger\u001b[0m\u001b[0;34m(\u001b[0m\u001b[0;36m1\u001b[0m\u001b[0;34m)\u001b[0m\u001b[0;34m]\u001b[0m\u001b[0;34m,\u001b[0m \u001b[0mLq\u001b[0m\u001b[0;34m[\u001b[0m\u001b[0mInteger\u001b[0m\u001b[0;34m(\u001b[0m\u001b[0;36m0\u001b[0m\u001b[0;34m)\u001b[0m\u001b[0;34m]\u001b[0m\u001b[0;34m,\u001b[0m \u001b[0mp\u001b[0m\u001b[0;34m,\u001b[0m \u001b[0mq\u001b[0m\u001b[0;34m)\u001b[0m\u001b[0;34m\u001b[0m\u001b[0m\n\u001b[1;32m      4\u001b[0m \u001b[0mresto4\u001b[0m \u001b[0;34m=\u001b[0m \u001b[0mcrt\u001b[0m\u001b[0;34m(\u001b[0m\u001b[0mLp\u001b[0m\u001b[0;34m[\u001b[0m\u001b[0mInteger\u001b[0m\u001b[0;34m(\u001b[0m\u001b[0;36m1\u001b[0m\u001b[0;34m)\u001b[0m\u001b[0;34m]\u001b[0m\u001b[0;34m,\u001b[0m \u001b[0mLq\u001b[0m\u001b[0;34m[\u001b[0m\u001b[0mInteger\u001b[0m\u001b[0;34m(\u001b[0m\u001b[0;36m1\u001b[0m\u001b[0;34m)\u001b[0m\u001b[0;34m]\u001b[0m\u001b[0;34m,\u001b[0m \u001b[0mp\u001b[0m\u001b[0;34m,\u001b[0m \u001b[0mq\u001b[0m\u001b[0;34m)\u001b[0m\u001b[0;34m\u001b[0m\u001b[0m\n",
      "\u001b[0;32m/usr/local/SageMath/local/lib/python2.7/site-packages/sage/arith/misc.pyc\u001b[0m in \u001b[0;36mcrt\u001b[0;34m(a, b, m, n)\u001b[0m\n\u001b[1;32m   2760\u001b[0m         \u001b[0ma\u001b[0m \u001b[0;34m=\u001b[0m \u001b[0mInteger\u001b[0m\u001b[0;34m(\u001b[0m\u001b[0ma\u001b[0m\u001b[0;34m)\u001b[0m \u001b[0;31m# otherwise we get an error at (b-a).quo_rem(g)\u001b[0m\u001b[0;34m\u001b[0m\u001b[0m\n\u001b[1;32m   2761\u001b[0m     \u001b[0mg\u001b[0m\u001b[0;34m,\u001b[0m \u001b[0malpha\u001b[0m\u001b[0;34m,\u001b[0m \u001b[0mbeta\u001b[0m \u001b[0;34m=\u001b[0m \u001b[0mXGCD\u001b[0m\u001b[0;34m(\u001b[0m\u001b[0mm\u001b[0m\u001b[0;34m,\u001b[0m \u001b[0mn\u001b[0m\u001b[0;34m)\u001b[0m\u001b[0;34m\u001b[0m\u001b[0m\n\u001b[0;32m-> 2762\u001b[0;31m     \u001b[0mq\u001b[0m\u001b[0;34m,\u001b[0m \u001b[0mr\u001b[0m \u001b[0;34m=\u001b[0m \u001b[0;34m(\u001b[0m\u001b[0mb\u001b[0m \u001b[0;34m-\u001b[0m \u001b[0ma\u001b[0m\u001b[0;34m)\u001b[0m\u001b[0;34m.\u001b[0m\u001b[0mquo_rem\u001b[0m\u001b[0;34m(\u001b[0m\u001b[0mg\u001b[0m\u001b[0;34m)\u001b[0m\u001b[0;34m\u001b[0m\u001b[0m\n\u001b[0m\u001b[1;32m   2763\u001b[0m     \u001b[0;32mif\u001b[0m \u001b[0mr\u001b[0m \u001b[0;34m!=\u001b[0m \u001b[0;36m0\u001b[0m\u001b[0;34m:\u001b[0m\u001b[0;34m\u001b[0m\u001b[0m\n\u001b[1;32m   2764\u001b[0m         \u001b[0;32mraise\u001b[0m \u001b[0mValueError\u001b[0m\u001b[0;34m(\u001b[0m\u001b[0;34m\"No solution to crt problem since gcd(%s,%s) does not divide %s-%s\"\u001b[0m \u001b[0;34m%\u001b[0m \u001b[0;34m(\u001b[0m\u001b[0mm\u001b[0m\u001b[0;34m,\u001b[0m \u001b[0mn\u001b[0m\u001b[0;34m,\u001b[0m \u001b[0ma\u001b[0m\u001b[0;34m,\u001b[0m \u001b[0mb\u001b[0m\u001b[0;34m)\u001b[0m\u001b[0;34m)\u001b[0m\u001b[0;34m\u001b[0m\u001b[0m\n",
      "\u001b[0;32m/usr/local/SageMath/src/sage/structure/element.pyx\u001b[0m in \u001b[0;36msage.structure.element.Element.__sub__ (/usr/local/SageMath/src/build/cythonized/sage/structure/element.c:11242)\u001b[0;34m()\u001b[0m\n\u001b[1;32m   1314\u001b[0m             \u001b[0;32mreturn\u001b[0m \u001b[0;34m(\u001b[0m\u001b[0;34m<\u001b[0m\u001b[0mElement\u001b[0m\u001b[0;34m>\u001b[0m\u001b[0mleft\u001b[0m\u001b[0;34m)\u001b[0m\u001b[0;34m.\u001b[0m\u001b[0m_sub_\u001b[0m\u001b[0;34m(\u001b[0m\u001b[0mright\u001b[0m\u001b[0;34m)\u001b[0m\u001b[0;34m\u001b[0m\u001b[0m\n\u001b[1;32m   1315\u001b[0m         \u001b[0;32mif\u001b[0m \u001b[0mBOTH_ARE_ELEMENT\u001b[0m\u001b[0;34m(\u001b[0m\u001b[0mcl\u001b[0m\u001b[0;34m)\u001b[0m\u001b[0;34m:\u001b[0m\u001b[0;34m\u001b[0m\u001b[0m\n\u001b[0;32m-> 1316\u001b[0;31m             \u001b[0;32mreturn\u001b[0m \u001b[0mcoercion_model\u001b[0m\u001b[0;34m.\u001b[0m\u001b[0mbin_op\u001b[0m\u001b[0;34m(\u001b[0m\u001b[0mleft\u001b[0m\u001b[0;34m,\u001b[0m \u001b[0mright\u001b[0m\u001b[0;34m,\u001b[0m \u001b[0msub\u001b[0m\u001b[0;34m)\u001b[0m\u001b[0;34m\u001b[0m\u001b[0m\n\u001b[0m\u001b[1;32m   1317\u001b[0m \u001b[0;34m\u001b[0m\u001b[0m\n\u001b[1;32m   1318\u001b[0m         \u001b[0;32mtry\u001b[0m\u001b[0;34m:\u001b[0m\u001b[0;34m\u001b[0m\u001b[0m\n",
      "\u001b[0;32m/usr/local/SageMath/src/sage/structure/coerce.pyx\u001b[0m in \u001b[0;36msage.structure.coerce.CoercionModel_cache_maps.bin_op (/usr/local/SageMath/src/build/cythonized/sage/structure/coerce.c:10448)\u001b[0;34m()\u001b[0m\n\u001b[1;32m   1102\u001b[0m         \u001b[0;31m# We should really include the underlying error.\u001b[0m\u001b[0;34m\u001b[0m\u001b[0;34m\u001b[0m\u001b[0m\n\u001b[1;32m   1103\u001b[0m         \u001b[0;31m# This causes so much headache.\u001b[0m\u001b[0;34m\u001b[0m\u001b[0;34m\u001b[0m\u001b[0m\n\u001b[0;32m-> 1104\u001b[0;31m         \u001b[0;32mraise\u001b[0m \u001b[0mbin_op_exception\u001b[0m\u001b[0;34m(\u001b[0m\u001b[0mop\u001b[0m\u001b[0;34m,\u001b[0m \u001b[0mx\u001b[0m\u001b[0;34m,\u001b[0m \u001b[0my\u001b[0m\u001b[0;34m)\u001b[0m\u001b[0;34m\u001b[0m\u001b[0m\n\u001b[0m\u001b[1;32m   1105\u001b[0m \u001b[0;34m\u001b[0m\u001b[0m\n\u001b[1;32m   1106\u001b[0m     \u001b[0mcpdef\u001b[0m \u001b[0mcanonical_coercion\u001b[0m\u001b[0;34m(\u001b[0m\u001b[0mself\u001b[0m\u001b[0;34m,\u001b[0m \u001b[0mx\u001b[0m\u001b[0;34m,\u001b[0m \u001b[0my\u001b[0m\u001b[0;34m)\u001b[0m\u001b[0;34m:\u001b[0m\u001b[0;34m\u001b[0m\u001b[0m\n",
      "\u001b[0;31mTypeError\u001b[0m: unsupported operand parent(s) for -: 'Ring of integers modulo 29479510200013918864408739' and 'Ring of integers modulo 1133827315385150725554227'"
     ]
    }
   ],
   "source": [
    "resto1 = crt(Lp[0], Lq[0], p, q)\n",
    "resto2 = crt(Lp[0], Lq[1], p, q)\n",
    "resto3 = crt(Lp[1], Lq[0], p, q)\n",
    "resto4 = crt(Lp[1], Lq[1], p, q)"
   ]
  },
  {
   "cell_type": "markdown",
   "metadata": {},
   "source": [
    "Ni idea como solucionar esto"
   ]
  },
  {
   "cell_type": "code",
   "execution_count": null,
   "metadata": {
    "collapsed": true
   },
   "outputs": [],
   "source": []
  }
 ],
 "metadata": {
  "kernelspec": {
   "display_name": "SageMath 8.0",
   "language": "",
   "name": "sagemath"
  },
  "language_info": {
   "codemirror_mode": {
    "name": "ipython",
    "version": 2
   },
   "file_extension": ".py",
   "mimetype": "text/x-python",
   "name": "python",
   "nbconvert_exporter": "python",
   "pygments_lexer": "ipython2",
   "version": "2.7.13"
  }
 },
 "nbformat": 4,
 "nbformat_minor": 1
}
