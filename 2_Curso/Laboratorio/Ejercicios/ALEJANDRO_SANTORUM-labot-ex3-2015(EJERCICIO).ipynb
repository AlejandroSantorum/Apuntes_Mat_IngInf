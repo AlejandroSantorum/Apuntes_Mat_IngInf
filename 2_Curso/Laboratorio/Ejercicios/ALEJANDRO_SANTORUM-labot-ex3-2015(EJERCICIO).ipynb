{
 "cells": [
  {
   "cell_type": "markdown",
   "metadata": {},
   "source": [
    "<p><span>CALIFICACI&Oacute;N:&nbsp;<br /></span></p>\n",
    "<p><span style=\"color: #ff0000;\">1) Por favor, empieza cambiando $nombre.apellido$ en el nombre de esta hoja por los tuyos, tal como aparecen en tu direcci&oacute;n de correo eletr&oacute;nico de la UAM, y deja el resto del nombre del archivo como est&aacute;.&nbsp;</span></p>\n",
    "<p><span style=\"color: #ff0000;\">2) Recuerda que debes entregar esta hoja de SAGE, con tus respuestas, en la carpeta $ENTREGA\\_examen\\_nombre.apellido-labot-ex3$ que est&aacute; en el escritorio de la cuenta que utilizas para el examen. Para guardar la hoja, una vez terminado el examen, utiliza el men&uacute; \"FILE&gt;Save worksheet to a File....\" dentro de la hoja. Comprueba que la hoja que has guardado en la carpeta de entrega se llama \"nombre.apellido-labot-ex3.sws\", con nombre.apellido los tuyos.</span></p>\n",
    "<p><span style=\"color: #ff0000;\">3) En principio es posible resolver un apartado sin haber resuelto apartados previos de los que depende. Quiz&aacute; no podr&aacute;s comprobar que el c&oacute;digo funciona bien, pero cada apartado se valorar&aacute; por s&iacute; mismo.</span></p>\n",
    "<p><span style=\"color: #ff0000;\">4) Para elevar un entero $a$ a un exponente $n$ &nbsp;m&oacute;dulo otro entero $p$ conviene usar la funci&oacute;n de SAGE $power\\_mod(a,n,p)$, que realiza el c&aacute;lculo de manera eficiente.&nbsp;</span></p>\n",
    "\n",
    "<h4>Ejercicio 1</h4>\n",
    "<p>Sea $p$ un n&uacute;mero primo. Las clases de restos no nulas m&oacute;dulo $p$ se pueden multiplicar entre ellas y decimos que $g \\in\\{1,2,\\dots,p-1\\}$ es un <strong>generador</strong> si todas las potencias de $g$, m&oacute;dulo $p$, con exponente &nbsp;en $srange(1,p)$ son distintas entre s&iacute;. Podr&iacute;amos buscar un generador mediante fuerza bruta probando con los posibles generadores hasta que encontr&aacute;ramos uno que cumpliera la condici&oacute;n. Sin embargo, hay una manera de reducir esta b&uacute;squeda:</p>\n",
    "<ol>\n",
    "<li>Factoriza el entero $p-1$, y sean $p_1,p_2,\\dots,p_k$ sus factores primos.&nbsp;</li>\n",
    "<li>Para cada posible generador,&nbsp;&nbsp;$a \\in\\{2,3,\\dots,p-1\\}$ calcula las potencias de $a$ m&oacute;dulo $p$ con exponentes $(p-1)/p_i$ mientras no se obtiene una potencia igual a $1$. Si se obtiene una potencia igual a $1$ &nbsp;el elemento $a$ no es un generador y hay que probar con otro valor de $a$.</li>\n",
    "<li>Si se obtienen $k$ potencias todas diferentes de $1$ se demuestra (no hay que demostrarlo) que $a$ es un generador.</li>\n",
    "</ol>\n",
    "<p><span style=\"color: #ff0000;\">(A) (1 punto) &nbsp;Programa,usando la b&uacute;squeda reducida, &nbsp;una funci&oacute;n</span> $generador0(p)$ que devuelva el generador m&oacute;dulo $p$ m&aacute;s peque&ntilde;o.</p>\n",
    "<p>(B) &nbsp;<span>(1 punto)&nbsp;</span><span style=\"color: #ff0000;\">&nbsp;Modifica la funci&oacute;n anterior</span>, para obtener otra a la que debes llamar $generador(p)$, &nbsp;que devuelva un generador encontrado aleatoriamente.&nbsp;</p>\n",
    "<p>(C) <span>(1 punto)&nbsp;</span><span style=\"color: #ff0000;\">Escribe una funci&oacute;n</span> $comprobar(g,p)$ &nbsp;que devuelva $True $ si $g$ verifica la definici&oacute;n de generador m&oacute;dulo $p$, y $False$ si no la verifica. &nbsp;Utiliza esta funci&oacute;n para comprobar que el entero &nbsp;que devuelve $generador(nth\\_prime(33333))$ es realmente un generador m&oacute;dulo $nth\\_prime(33333)$.</p>"
   ]
  },
  {
   "cell_type": "code",
   "execution_count": 20,
   "metadata": {
    "collapsed": true
   },
   "outputs": [],
   "source": [
    "def generador0(p):\n",
    "    if not is_prime(p): #comprobacion de errrores\n",
    "        print 'Error, p no es primo'\n",
    "        return\n",
    "    \n",
    "    if p==2: #caso base especial\n",
    "        return 1\n",
    "    \n",
    "    LF = list(factor(p-1)) #resto del algoritmo\n",
    "    l = len(LF)\n",
    "    flag = 1\n",
    "    for a in xsrange(2, p):\n",
    "        flag = 1\n",
    "        for k in xsrange(0, l):\n",
    "            ex = ((p-1)//LF[k][0])\n",
    "            if power_mod(a, ex, p) == 1:\n",
    "                flag=0\n",
    "                break\n",
    "        if flag == 1:\n",
    "            return a\n",
    "    return -1"
   ]
  },
  {
   "cell_type": "code",
   "execution_count": 21,
   "metadata": {},
   "outputs": [
    {
     "name": "stdout",
     "output_type": "stream",
     "text": [
      "Error, p no es primo\n"
     ]
    }
   ],
   "source": [
    "generador0(6)"
   ]
  },
  {
   "cell_type": "code",
   "execution_count": 22,
   "metadata": {},
   "outputs": [
    {
     "name": "stdout",
     "output_type": "stream",
     "text": [
      "(2, 1)\n",
      "(3, 2)\n",
      "(5, 2)\n",
      "(7, 3)\n",
      "(11, 2)\n",
      "(13, 2)\n",
      "(17, 3)\n",
      "(19, 2)\n",
      "(23, 5)\n",
      "(29, 2)\n",
      "(31, 3)\n",
      "(37, 2)\n",
      "(41, 6)\n",
      "(43, 3)\n",
      "(47, 5)\n"
     ]
    }
   ],
   "source": [
    "for k in xsrange(2, 50):\n",
    "    if is_prime(k):\n",
    "        print (k, generador0(k))"
   ]
  },
  {
   "cell_type": "code",
   "execution_count": 23,
   "metadata": {
    "collapsed": true
   },
   "outputs": [],
   "source": [
    "def generador(p):\n",
    "    if not is_prime(p): #comprobacion de errrores\n",
    "        print 'Error, p no es primo'\n",
    "        return -1\n",
    "    \n",
    "    if p==2: #caso base especial\n",
    "        return 1\n",
    "    \n",
    "    LF = list(factor(p-1)) #resto del algoritmo\n",
    "    l = len(LF)\n",
    "    flag = 1\n",
    "    while(1):\n",
    "        a = randint(1, p-1)\n",
    "        flag = 1\n",
    "        for k in xsrange(0, l):\n",
    "            ex = ((p-1)//LF[k][0])\n",
    "            if power_mod(a, ex, p) == 1:\n",
    "                flag=0\n",
    "                break\n",
    "        if flag == 1:\n",
    "            return a\n",
    "    return -1"
   ]
  },
  {
   "cell_type": "code",
   "execution_count": 24,
   "metadata": {},
   "outputs": [
    {
     "name": "stdout",
     "output_type": "stream",
     "text": [
      "(2, 1)\n",
      "(3, 2)\n",
      "(5, 3)\n",
      "(7, 3)\n",
      "(11, 8)\n",
      "(13, 6)\n",
      "(17, 14)\n",
      "(19, 14)\n",
      "(23, 11)\n",
      "(29, 26)\n",
      "(31, 17)\n",
      "(37, 24)\n",
      "(41, 35)\n",
      "(43, 34)\n",
      "(47, 19)\n"
     ]
    }
   ],
   "source": [
    "for k in xsrange(2, 50):\n",
    "    if is_prime(k):\n",
    "        print (k, generador(k))"
   ]
  },
  {
   "cell_type": "code",
   "execution_count": 25,
   "metadata": {
    "collapsed": true
   },
   "outputs": [],
   "source": [
    "def comprobar(g, p):\n",
    "    L = list()\n",
    "    for ex in xsrange(1, p):\n",
    "        a = power_mod(g, ex, p)\n",
    "        if a in L:\n",
    "            return False\n",
    "        else:\n",
    "            L.append(a)\n",
    "    return True"
   ]
  },
  {
   "cell_type": "code",
   "execution_count": 26,
   "metadata": {},
   "outputs": [
    {
     "name": "stdout",
     "output_type": "stream",
     "text": [
      "(1, False)\n",
      "(2, True)\n",
      "(3, False)\n",
      "(4, False)\n",
      "(5, False)\n",
      "(6, True)\n",
      "(7, True)\n",
      "(8, True)\n",
      "(9, False)\n",
      "(10, False)\n"
     ]
    }
   ],
   "source": [
    "for k in xsrange(1, 11):\n",
    "    print(k, comprobar(k, 11))"
   ]
  },
  {
   "cell_type": "code",
   "execution_count": 27,
   "metadata": {},
   "outputs": [
    {
     "data": {
      "text/plain": [
       "393191"
      ]
     },
     "execution_count": 27,
     "metadata": {},
     "output_type": "execute_result"
    }
   ],
   "source": [
    "a = nth_prime(33333)\n",
    "a"
   ]
  },
  {
   "cell_type": "code",
   "execution_count": 14,
   "metadata": {},
   "outputs": [
    {
     "data": {
      "text/plain": [
       "387373"
      ]
     },
     "execution_count": 14,
     "metadata": {},
     "output_type": "execute_result"
    }
   ],
   "source": [
    "g = generador(a)\n",
    "g"
   ]
  },
  {
   "cell_type": "code",
   "execution_count": null,
   "metadata": {
    "collapsed": true
   },
   "outputs": [],
   "source": [
    "comprobar(g, a)"
   ]
  },
  {
   "cell_type": "markdown",
   "metadata": {},
   "source": [
    "No acaba en la vida porque puede estar repitiendo muchos números debido a la elección de aleatorio."
   ]
  },
  {
   "cell_type": "markdown",
   "metadata": {},
   "source": [
    "<h4>Ejercicio 2</h4>\n",
    "<p>Un sistema de intercambio de claves permite a dos usuarios $A$ y $B$ comunicarse &nbsp;claves de manera segura de forma que ambos dispongan de la misma clave. &nbsp;Uno de los existentes funciona de la siguiente manera:</p>\n",
    "<ol>\n",
    "<li>Los usuarios eligen un primo $p$ muy grande y un generador $g$ m&oacute;dulo $p$ . No hay ningun problema en que $p$ y $g$ se transmitan sin encriptar.</li>\n",
    "<li>Cada usuario elige una clave privada ($e_A$ es la clave privada de $A$, $e_B$&nbsp;es la clave privada de $B$), que mantendr&aacute;n en secreto, y transmite al otro usuario $g$ elevado a su clave privada m&oacute;dulo $p$. Las claves privadas son mayores que $1$ y menores que $p-1$ y se eligen aleatoriamente.&nbsp;</li>\n",
    "<li>Cada usuario, al recibir el entero transmitido en el punto $2$ lo eleva a su propia clave privada m&oacute;dulo $p$ y el resultado $K$ es la clave com&uacute;n. &nbsp;Es claro que $$(g^{e_A})^{e_B}=(g^{e_B})^{e_A}$$ de forma que la clave es realmente la misma.&nbsp;</li>\n",
    "</ol>\n",
    "<p>La seguridad del sistema reside en que conociendo $g,p$ y $g^{e_A}$ no es posible, en un tiempo razonable, obtener el exponente secreto $e_A$. Se conoce este problema como el del <em>c&aacute;lculo del logaritmo discreto</em>, y no se conoce una soluci&oacute;n.</p>\n",
    "<p>(D) (2 puntos) Vamos a utilizar como primo $p=next\\_prime(26^{128})$. &nbsp;<span style=\"color: #ff0000;\">Define una funci&oacute;n</span> $clavesA()$ que devuelva un $g$ calculado usando $generador(p)$, la clave privada $e_A$ de $A$ y la potencia $g^{e_A}$ m&oacute;dulo $p$. De forma similar <span style=\"color: #ff0000;\">define una funci&oacute;n</span>&nbsp;$clavesB(g)$, que devuelva la clave privada de $B$ y la potencia&nbsp;$g^{e_B}$ m&oacute;dulo $p$ &nbsp;usando el generador $g$ que recibe como argumento (el usuario $B$ no calcula un generador porque debe usar el mismo que $A$).&nbsp;</p>\n",
    "<p>(E) (1 punto)&nbsp;<span style=\"color: #ff0000;\">Define una funci&oacute;n</span> $clave()$ que, utilizando las dos anteriores, devuelva la clave com&uacute;n $K$.&nbsp;</p>"
   ]
  },
  {
   "cell_type": "code",
   "execution_count": 1,
   "metadata": {},
   "outputs": [
    {
     "data": {
      "text/plain": [
       "13079421638632078538609985886760523574926223260449315332780141613109448755835972767166862958721190041422043896326261700101811115130162354414853265170521645989511987615710527751193549"
      ]
     },
     "execution_count": 1,
     "metadata": {},
     "output_type": "execute_result"
    }
   ],
   "source": [
    "p = next_prime(26^128)\n",
    "p"
   ]
  },
  {
   "cell_type": "code",
   "execution_count": 2,
   "metadata": {
    "collapsed": true
   },
   "outputs": [],
   "source": [
    "def clavesA(p):\n",
    "    g = generador(p)\n",
    "    Ea = randint(1, p-1)\n",
    "    pot = power_mod(g, Ea, p)\n",
    "    return g, Ea, pot"
   ]
  },
  {
   "cell_type": "code",
   "execution_count": 3,
   "metadata": {
    "collapsed": true
   },
   "outputs": [],
   "source": [
    "def clavesB(g, p):\n",
    "    Eb = randint(1, p-1)\n",
    "    pot = power_mod(g, Eb, p)\n",
    "    return Eb, pot"
   ]
  },
  {
   "cell_type": "code",
   "execution_count": 70,
   "metadata": {
    "collapsed": true
   },
   "outputs": [],
   "source": [
    "def clave(p):\n",
    "    g, Ea, potA = clavesA(p)\n",
    "    Eb, potB = clavesB(g, p)\n",
    "    K1 = power_mod(potA, Eb, p)\n",
    "    K2 = power_mod(potB, Ea, p)\n",
    "    if K1 != K2:\n",
    "        print(\"Error. Las claves no coinciden.\\n\")\n",
    "        return -1\n",
    "    return K1"
   ]
  },
  {
   "cell_type": "code",
   "execution_count": 67,
   "metadata": {},
   "outputs": [
    {
     "name": "stdout",
     "output_type": "stream",
     "text": [
      "g=generador de A: 6363741632242612642173134713416004451226688121880892951249458151676572018834100364496095532195230602671059301680579933985192299312871169561654933615779259416418561878055514974491775\n",
      "\n",
      "Ea=clave privada de A: 7738697090372033347696662655592185671466736224453403623536942927235076166046619182055115248461674178204360238506477993401321812880045298924867349031131694855143346384164553103274878\n",
      "\n",
      "potA=potencia g^Ea mod p: 3498376666462030389268735044822070333301977459282612397095985396840374488047342077316247287048347334445166920760366171420864500300552757901940306913901248970376856195958568584587044\n"
     ]
    }
   ],
   "source": [
    "A = clavesA(p)\n",
    "print(\"g=generador de A: \"+str(A[0])+\"\\n\")\n",
    "print(\"Ea=clave privada de A: \"+str(A[1])+\"\\n\")\n",
    "print(\"potA=potencia g^Ea mod p: \"+str(A[2]))"
   ]
  },
  {
   "cell_type": "code",
   "execution_count": 68,
   "metadata": {},
   "outputs": [
    {
     "name": "stdout",
     "output_type": "stream",
     "text": [
      "Eb=clave privada de B: 5101338697927494543568947986602618507515488850894261040474137793476782940119794191791903079602578436351016159508374776196515197250329342447132703013591700790743161036204239231057277\n",
      "\n",
      "potB=potencia g^Eb mop p: 1737467572205411141526711234725977756755613170211407511198011377527082197947135307711294377026003913283628229239609815538915580062231468015300985348934427993159985805875631855119234\n"
     ]
    }
   ],
   "source": [
    "B = clavesB(A[0], p)\n",
    "print(\"Eb=clave privada de B: \"+str(B[0])+\"\\n\")\n",
    "print(\"potB=potencia g^Eb mop p: \"+str(B[1]))"
   ]
  },
  {
   "cell_type": "code",
   "execution_count": 72,
   "metadata": {},
   "outputs": [
    {
     "name": "stdout",
     "output_type": "stream",
     "text": [
      "1613522809971672289616421249112769460093111078243800226726914236507828471368003991712256847874215483147330548283223692238321216533585129181466272869126411827393709978399800978797037\n"
     ]
    }
   ],
   "source": [
    "K = clave(p) #OBSERVACION, la clave no se ha calculado con los numeros anteriores\n",
    "             # ya que en la funcion clave(p) se calculan de nuevo aleatoriamente las claves privadas y el generador \n",
    "print K"
   ]
  },
  {
   "cell_type": "markdown",
   "metadata": {},
   "source": [
    "<h3>Ejercicio 3</h3>\n",
    "<p>Una <strong><span style=\"color: #000000;\">permutaci&oacute;n</span></strong> de la lista $[0,1,2,\\dots,25]$ es una reordenaci&oacute;n de los elementos de la lista en otra con los mismos elementos en distinto orden. Si llamamos $L$ a la lista reordenada, podemos ver la permutaci&oacute;n como una funci&oacute;n biyectiva ${\\sigma}$ definida por&nbsp;&nbsp;$${\\sigma}(i):=L[i].$$</p>\n",
    "<p>&nbsp;</p>\n",
    "<p>Dos usuarios, $A$ y $B$, se intercambian claves seg&uacute;n el procedimiento del ejercicio anterior y las van a usar de la siguiente manera:</p>\n",
    "<ol>\n",
    "<li>&nbsp;Dada la clave com&uacute;n $K$ la escriben en el sistema de numeraci&oacute;n de base $26$ en forma de una lista $L$ de enteros &nbsp;$\\ge 0$ y $\\le 25$. &nbsp; Manteniendo el orden suprime las repeticiones en $L$ , de forma que ontengas una lista $L1$ sin repeticiones.</li>\n",
    "<li>Si la longitud de la nueva lista $L1$, una vez suprimidas las repeticiones, es $26$, la lista es una permutaci&oacute;n $\\sigma$ de $srange(26)$ y la podemos usar como clave en el sistema (<em>cifrado de permutaci&oacute;n</em>) &nbsp;en que encriptamos la letra que ocupa el lugar $i$-&eacute;simo &nbsp;en el alfabeto mediante la letra que ocupa el lugar $\\sigma(i)$ en el alfabeto.&nbsp;</li>\n",
    "<li>Si&nbsp;&nbsp;la longitud de la nueva lista $L1$, una vez suprimidas las repeticiones, es menor que $26$ (esto es muy poco probable), no hemos obtenido una permutaci&oacute;n y volvemos a generar una clave com&uacute;n.&nbsp;</li>\n",
    "</ol>\n",
    "<p><span style=\"color: #ff0000;\">(F) (2 puntos) Define una funci&oacute;n &nbsp;$claveperm(K)$&nbsp;<span style=\"color: #000000;\">que implemente el sistema descrito en &nbsp;los puntos 1), 2) y 3) de este ejercicio.</span></span></p>\n",
    "<p><span style=\"color: #ff0000;\">(G</span>) (1 punto)&nbsp;<span style=\"color: #ff0000;\">Encripta</span> el texto suministrado m&aacute;s abajo usando una clave com&uacute;n $K$ generada usando el Ejercicio 2 y la funci&oacute;n &nbsp;<span>$claveperm(K)$</span>.</p>\n",
    "<p><span style=\"color: #ff0000;\">(H) (1 punto) &nbsp;Desencripta</span> el texto encriptado para obtener otra vez el texto original.&nbsp;</p>"
   ]
  },
  {
   "cell_type": "code",
   "execution_count": 8,
   "metadata": {
    "collapsed": true
   },
   "outputs": [],
   "source": [
    "alfb = \"ABCDEFGHIJKLMNOPQRSTUVWXYZ\""
   ]
  },
  {
   "cell_type": "code",
   "execution_count": 9,
   "metadata": {
    "collapsed": true
   },
   "outputs": [],
   "source": [
    "L_alfb = list(alfb)"
   ]
  },
  {
   "cell_type": "code",
   "execution_count": 10,
   "metadata": {
    "collapsed": true
   },
   "outputs": [],
   "source": [
    "texto='THROUGHTHEUSEOFABSTRACTIONANDLOGICALREASONINGMATHEMATICSDEVELOPED\\\n",
    "FROMCOUNTINGCALCULATIONMEASUREMENTANDTHESYSTEMATICSTUDYOFTHESHAPESANDMOT\\\n",
    "IONSOFPHYSICALOBJECTSPRACTICALMATHEMATICSHASBEENAHUMANACTIVITYFORASFARBA\\\n",
    "CKASWRITTENRECORDSEXISTRIGOROUSARGUMENTSFIRSTAPPEAREDINGREEKMATHEMATICSM\\\n",
    "OSTNOTABLYINEUCLIDSELEMENTSMATHEMATICSDEVELOPEDATARELATIVELYSLOWPACEUNTI\\\n",
    "LTHERENAISSANCEWHENMATHEMATICALINNOVATIONSINTERACTINGWITHNEWSCIENTIFICDI\\\n",
    "SCOVERIESLEDTOARAPIDINCREASEINTHERATEOFMATHEMATICALDISCOVERYTHATCONTINUE\\\n",
    "STOTHEPRESENTDAY'"
   ]
  },
  {
   "cell_type": "code",
   "execution_count": 11,
   "metadata": {
    "collapsed": true
   },
   "outputs": [],
   "source": [
    "def ord2(c):\n",
    "    return L_alfb.index(c)"
   ]
  },
  {
   "cell_type": "code",
   "execution_count": 12,
   "metadata": {
    "collapsed": true
   },
   "outputs": [],
   "source": [
    "def chr2(n):\n",
    "    return L_alfb[n]"
   ]
  },
  {
   "cell_type": "code",
   "execution_count": 74,
   "metadata": {},
   "outputs": [
    {
     "data": {
      "text/plain": [
       "9790796330826662441643213922888374465446904366245378515817369683940603628719490621880440541786905928163881516474491419862767330262340349019164049607144544911275346379375015884279462"
      ]
     },
     "execution_count": 74,
     "metadata": {},
     "output_type": "execute_result"
    }
   ],
   "source": [
    "K = clave(p)\n",
    "K"
   ]
  },
  {
   "cell_type": "code",
   "execution_count": 89,
   "metadata": {
    "collapsed": true
   },
   "outputs": [],
   "source": [
    "def clavePerm(K):\n",
    "    L = list(K.digits(base=26))\n",
    "    while(1):\n",
    "        L1 = []\n",
    "        for elem in L:\n",
    "            if elem in L1:\n",
    "                continue\n",
    "            else:\n",
    "                L1.append(elem)\n",
    "        if len(L1) == 26:\n",
    "            return L1"
   ]
  },
  {
   "cell_type": "code",
   "execution_count": 90,
   "metadata": {},
   "outputs": [
    {
     "name": "stdout",
     "output_type": "stream",
     "text": [
      "[24, 5, 13, 19, 10, 1, 8, 22, 12, 17, 14, 6, 20, 18, 3, 15, 2, 0, 7, 25, 23, 16, 9, 21, 11, 4]\n"
     ]
    }
   ],
   "source": [
    "S = clavePerm(K)\n",
    "print S"
   ]
  },
  {
   "cell_type": "code",
   "execution_count": 93,
   "metadata": {
    "collapsed": true
   },
   "outputs": [],
   "source": [
    "def encriptacion(texto, S):\n",
    "    LT = list(texto)\n",
    "    for j in xsrange(0, len(LT)):\n",
    "        indice = ord2(LT[j])\n",
    "        nuevoIndice = S[indice]\n",
    "        LT[j] = chr2(nuevoIndice)\n",
    "    cad = \"\".join(LT)\n",
    "    return cad"
   ]
  },
  {
   "cell_type": "code",
   "execution_count": 95,
   "metadata": {
    "collapsed": true
   },
   "outputs": [],
   "source": [
    "cad = encriptacion(texto, S)"
   ]
  },
  {
   "cell_type": "code",
   "execution_count": 104,
   "metadata": {
    "collapsed": true
   },
   "outputs": [],
   "source": [
    "def desencriptacion(texto, S):\n",
    "    LT = list(texto)\n",
    "    for j in xsrange(0, len(LT)):\n",
    "        indice = ord2(LT[j])\n",
    "        nuevoIndice = S.index(indice)\n",
    "        LT[j] = chr2(nuevoIndice)\n",
    "    cad = \"\".join(LT)\n",
    "    return cad"
   ]
  },
  {
   "cell_type": "code",
   "execution_count": 105,
   "metadata": {},
   "outputs": [
    {
     "data": {
      "text/plain": [
       "'THROUGHTHEUSEOFABSTRACTIONANDLOGICALREASONINGMATHEMATICSDEVELOPEDFROMCOUNTINGCALCULATIONMEASUREMENTANDTHESYSTEMATICSTUDYOFTHESHAPESANDMOTIONSOFPHYSICALOBJECTSPRACTICALMATHEMATICSHASBEENAHUMANACTIVITYFORASFARBACKASWRITTENRECORDSEXISTRIGOROUSARGUMENTSFIRSTAPPEAREDINGREEKMATHEMATICSMOSTNOTABLYINEUCLIDSELEMENTSMATHEMATICSDEVELOPEDATARELATIVELYSLOWPACEUNTILTHERENAISSANCEWHENMATHEMATICALINNOVATIONSINTERACTINGWITHNEWSCIENTIFICDISCOVERIESLEDTOARAPIDINCREASEINTHERATEOFMATHEMATICALDISCOVERYTHATCONTINUESTOTHEPRESENTDAY'"
      ]
     },
     "execution_count": 105,
     "metadata": {},
     "output_type": "execute_result"
    }
   ],
   "source": [
    "desencriptacion(cad, S)"
   ]
  },
  {
   "cell_type": "code",
   "execution_count": null,
   "metadata": {
    "collapsed": true
   },
   "outputs": [],
   "source": []
  }
 ],
 "metadata": {
  "kernelspec": {
   "display_name": "SageMath 8.0",
   "language": "",
   "name": "sagemath"
  },
  "language_info": {
   "codemirror_mode": {
    "name": "ipython",
    "version": 2
   },
   "file_extension": ".py",
   "mimetype": "text/x-python",
   "name": "python",
   "nbconvert_exporter": "python",
   "pygments_lexer": "ipython2",
   "version": "2.7.13"
  }
 },
 "nbformat": 4,
 "nbformat_minor": 1
}
