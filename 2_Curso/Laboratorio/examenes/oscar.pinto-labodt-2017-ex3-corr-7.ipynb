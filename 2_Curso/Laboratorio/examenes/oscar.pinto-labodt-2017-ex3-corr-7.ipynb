{
 "cells": [
  {
   "cell_type": "markdown",
   "metadata": {},
   "source": [
    "1) Antes que nada, lee cuidadosamente estas instrucciones y las que aparecen en la hoja con la contraseña. \n",
    "\n",
    "2) Cambia el nombre de este archivo sustituyendo \"nombre.apellido\" por los tuyos, tal como aparecen en tu dirección de correo electrónico de la UAM.\n",
    "\n",
    "3) Este archivo debe quedar en la carpeta \"ENTREGA...\" que está en el escritorio de tu cuenta de examen. Lo mejor es que esté en esa carpeta desde el comienzo del examen.\n",
    "\n",
    "4) El examen resuelto debe quedar en este único archivo. No se puede usar un archivo para cada pregunta.\n",
    "\n",
    "5) Recuerda que hay que deshabilitar el salvapantallas al comenzar el examen, tal como está indicado en la hoja con la contraseña. \n",
    "\n",
    "\n",
    "CALIFICACIÓN:\n"
   ]
  },
  {
   "cell_type": "code",
   "execution_count": 1,
   "metadata": {
    "collapsed": false
   },
   "outputs": [
    {
     "data": {
      "text/plain": [
       "7"
      ]
     },
     "execution_count": 1,
     "metadata": {},
     "output_type": "execute_result"
    }
   ],
   "source": [
    "2+3+2"
   ]
  },
  {
   "cell_type": "markdown",
   "metadata": {},
   "source": [
    "COMENTARIOS:\n",
    "\n",
    "1)"
   ]
  },
  {
   "cell_type": "markdown",
   "metadata": {},
   "source": [
    "## Ejercicio 1\n",
    "\n",
    "(3 puntos) Los elementos invertibles para el producto en $\\mathbb{Z}_n$ forman un grupo  que habitualmente se denota por $\\mathbb{Z}_n^*$. Su cardinal es $\\phi(n)$, con $\\phi$ la función de Euler, y sus elementos son las clases de restos con un representante primo con $n$. Supongamos que $n$ es un primo $p$, de forma que  $\\phi(p)=p-1$, y se sabe que, en este caso,  $\\mathbb{Z}_p^*$ es un grupo cíclico. Este ejercicio trata de encontrar generadores de $\\mathbb{Z}_p^*$, mediante *fuerza bruta*, es decir, no usamos un algoritmo específico, sino que probamos distintos elementos, elegidos aleatoriamente, hasta que encontramos uno que es un generador.\n",
    "\n",
    "1) Define una función $generador(p)$ que primero compruebe si $p$ es primo, y si lo es devuelva un generador del grupo $\\mathbb{Z}_p^*$. Por supuesto, **NO** sirve usar una función predefinida en Sage  que ella misma calcule generadores. \n",
    "\n",
    "2) Define una función $es\\_generador(g,n)$ que devuelva *True* si $g$ es un generador de $\\mathbb{Z}_n^*$ y *False* si no lo es. En este apartado,  y los siguientes, $n$ es un entero no necesariamente primo. \n",
    "\n",
    "3) Define una función $es\\_ciclico(n)$ que devuelva *True* si $\\mathbb{Z}_n^*$ tiene algún generador, es decir, *es cíclico*, y *False* si no existe generador. \n",
    "\n",
    "4) Finalmente, ejecuta la función  $es\\_ciclico(n)$ para $2\\le n\\le 200$, y **enuncia** la regla,  que puedas deducir del experimento,  sobre **los valores de $n$, aparte de $n$ primo, para los que  $\\mathbb{Z}_n^*$ tiene un generador**.\n",
    "\n"
   ]
  },
  {
   "cell_type": "code",
   "execution_count": 185,
   "metadata": {
    "collapsed": true
   },
   "outputs": [],
   "source": [
    "def is_in(L, R):\n",
    "    for i in xsrange(0, len(R)):\n",
    "        if(R[i] in L)==False:\n",
    "            return False\n",
    "    return True"
   ]
  },
  {
   "cell_type": "code",
   "execution_count": 186,
   "metadata": {
    "collapsed": false
   },
   "outputs": [],
   "source": [
    "def generador(p): #Con generacion aleatoria\n",
    "    if(is_prime(p)==False):\n",
    "        return 'Error, p no es primo'\n",
    "    modules = Zmod(p).list()\n",
    "    iterable = modules\n",
    "    for item in modules:\n",
    "        R = []\n",
    "        j = 0\n",
    "        rand = randint(0, len(iterable))\n",
    "        while 1:\n",
    "            a = (iterable[rand])**j\n",
    "            j+=1\n",
    "            if a in R:\n",
    "                break\n",
    "            R.append(a)\n",
    "            if(j)>=p:\n",
    "                break\n",
    "        if (is_in(R, modules[1:]))==True:\n",
    "            return iterable[rand]\n",
    "        iterable.pop(rand)\n",
    "    return []"
   ]
  },
  {
   "cell_type": "code",
   "execution_count": 187,
   "metadata": {
    "collapsed": true
   },
   "outputs": [],
   "source": [
    "def generador_lin(p): #Con generacion lineal\n",
    "    if(is_prime(p)==False):\n",
    "        return 'Error, p no es primo'\n",
    "    modules = Zmod(p).list()\n",
    "    iterable = modules\n",
    "    flag = 0\n",
    "    \n",
    "    for i in iterable:\n",
    "        R = []\n",
    "        j = 0\n",
    "        while 1:\n",
    "            a = i**j\n",
    "            j+=1\n",
    "            if a in R:\n",
    "                break\n",
    "            R.append(a)\n",
    "            if(j)>=p:\n",
    "                break\n",
    "        if (is_in(R, modules[1:]))==True:\n",
    "            return i\n",
    "    return []"
   ]
  },
  {
   "cell_type": "code",
   "execution_count": 192,
   "metadata": {
    "collapsed": false
   },
   "outputs": [
    {
     "name": "stdout",
     "output_type": "stream",
     "text": [
      "2\n"
     ]
    }
   ],
   "source": [
    "print generador(3)"
   ]
  },
  {
   "cell_type": "code",
   "execution_count": 193,
   "metadata": {
    "collapsed": false
   },
   "outputs": [
    {
     "name": "stdout",
     "output_type": "stream",
     "text": [
      "2\n"
     ]
    }
   ],
   "source": [
    "print generador_lin(3)"
   ]
  },
  {
   "cell_type": "markdown",
   "metadata": {},
   "source": [
    "2) Es fácil modificar generador lin para que haga una lista de generadores e implementar es_generador"
   ]
  },
  {
   "cell_type": "code",
   "execution_count": 214,
   "metadata": {
    "collapsed": true
   },
   "outputs": [],
   "source": [
    "def generador_lin2(p): #Con generacion lineal\n",
    "    modules = Zmod(p).list()\n",
    "    iterable = modules\n",
    "    flag = 0\n",
    "    Gens =[]\n",
    "    for i in iterable:\n",
    "        R = []\n",
    "        j = 0\n",
    "        while 1:\n",
    "            a = i**j\n",
    "            j+=1\n",
    "            if a in R:\n",
    "                break\n",
    "            R.append(a)\n",
    "            if(j)>=p:\n",
    "                break\n",
    "        if (is_in(R, modules[1:]))==True:\n",
    "            Gens.append(i)\n",
    "    return Gens"
   ]
  },
  {
   "cell_type": "code",
   "execution_count": 218,
   "metadata": {
    "collapsed": false
   },
   "outputs": [
    {
     "name": "stdout",
     "output_type": "stream",
     "text": [
      "[3, 11, 12, 13, 17, 21, 22, 24]\n"
     ]
    }
   ],
   "source": [
    "print generador_lin2(31)"
   ]
  },
  {
   "cell_type": "code",
   "execution_count": 220,
   "metadata": {
    "collapsed": false
   },
   "outputs": [],
   "source": [
    "def es_generador(g, n):\n",
    "    L = generador_lin2(n)\n",
    "    if (g in L)==True:\n",
    "        return True\n",
    "    return False"
   ]
  },
  {
   "cell_type": "code",
   "execution_count": 221,
   "metadata": {
    "collapsed": false
   },
   "outputs": [
    {
     "name": "stdout",
     "output_type": "stream",
     "text": [
      "True\n"
     ]
    }
   ],
   "source": [
    "print es_generador(11, 31)"
   ]
  },
  {
   "cell_type": "markdown",
   "metadata": {},
   "source": [
    "3) Es también simple usando la lista generada"
   ]
  },
  {
   "cell_type": "code",
   "execution_count": 222,
   "metadata": {
    "collapsed": true
   },
   "outputs": [],
   "source": [
    "def es_ciclico(n):\n",
    "    L = generador_lin2(n)\n",
    "    if len(L) > 0:\n",
    "        return True\n",
    "    return False"
   ]
  },
  {
   "cell_type": "code",
   "execution_count": 224,
   "metadata": {
    "collapsed": false
   },
   "outputs": [
    {
     "name": "stdout",
     "output_type": "stream",
     "text": [
      "True\n",
      "False\n"
     ]
    }
   ],
   "source": [
    "print es_ciclico(7); print es_ciclico(6)"
   ]
  },
  {
   "cell_type": "code",
   "execution_count": 232,
   "metadata": {
    "collapsed": true
   },
   "outputs": [],
   "source": [
    "def comprobar():\n",
    "    L = []\n",
    "    for n in xsrange(2, 200):\n",
    "        if(es_ciclico(n)):\n",
    "            L.append(n)\n",
    "    return L"
   ]
  },
  {
   "cell_type": "code",
   "execution_count": 234,
   "metadata": {
    "collapsed": false
   },
   "outputs": [
    {
     "name": "stdout",
     "output_type": "stream",
     "text": [
      "[2, 3, 5, 7, 11, 13, 17, 19, 23, 29, 31, 37, 41, 43, 47, 53, 59, 61, 67, 71, 73, 79, 83, 89, 97, 101, 103, 107, 109, 113, 127, 131, 137, 139, 149, 151, 157, 163, 167, 173, 179, 181, 191, 193, 197, 199]\n",
      "True\n"
     ]
    }
   ],
   "source": [
    "print comprobar(); print prime_range(0, 200)==comprobar()"
   ]
  },
  {
   "cell_type": "markdown",
   "metadata": {},
   "source": [
    "Parece que no hay grupos cíclicos si p no es primo"
   ]
  },
  {
   "cell_type": "markdown",
   "metadata": {},
   "source": [
    "## Ejercicio 2\n",
    "\n",
    "(3 puntos) En este ejercicio construimos el sistema criptográfico de clave pública  **El Gamal**, que utiliza de manera esencial  el ejercicio anterior. Para simplificar el ejercicio prescindimos de la fase de codificación y nos centramos en el encriptado y desencriptado. Los mensajes codificados van a ser enteros, o más bien clases de restos, y la codificación y descodificación serían similares a las utilizadas en RSA. \n",
    "\n",
    "1) **CLAVES**: La clave pública de *Alice*  está formada por tres enteros $(p,g,A)$ con $p$ un primo muy grande, g un generador de $\\mathbb{Z}_p^*$ y $A:=g^a\\  mod\\  p$,  con el exponente $1\\le a\\le p-2$ la clave privada de *Alice*, que ella elige, con algo de cabeza,  y mantiene en secreto. \n",
    "\n",
    "2) **ENCRIPTADO**: *Bob*, que quiere encriptar un mensaje para Alice, codifica su mensaje como un entero $m$ módulo $p$, elige un exponente aleatorio $1\\le b\\le p-2$ y calcula $B:=g^b\\  mod\\  p$ y también $c:=A^b\\cdot m \\  mod\\  p$. El mensaje encriptado es el par $(B,c).$ \n",
    "\n",
    "3) **DESENCRIPTADO**: Alice recibe $(B,c)$ y define $x:=p-1-a$, lo que le permite recuperar $m$ como $B^x\\cdot c \\ mod\\ p$.\n",
    "\n",
    "A) Usaremos $p= nth\\_prime(1000)$. Elige claves para Alice. Define una función $encripta(p,g,A,m)$ que devuelva $(B,c)$.\n",
    "\n",
    "B) Define una función $desencripta(p,a,B,c)$, que devuelva el mensaje descifrado $m$, y comprueba que si se encripta el mensaje $m=randint(p//2,p-2)$ se recupera el mensaje $m$ al desencriptar.\n",
    "\n",
    "C) El exponente $a$ no cambia, mientras Alice no cambie sus claves tiene que usar siempre $a$ como clave privada, pero el exponente $b$  debe ser elegido aleatoriamente cada vez que Bob quiere encriptar un mensaje para Alice. Supongamos que  Bob encripta $m$ usando como exponente $b$, pero *el malo* consigue acceder a $m$ y a $c$. Posteriormente Bob encripta $m^{\\prime}$ usando el mismo exponente $b$. Demuestra, mediante cálculos en $\\mathbb{Z}_p$,  que si *el malo* intercepta $c^{\\prime}$ puede calcular $m^{\\prime}$ sin conocer $a$. "
   ]
  },
  {
   "cell_type": "code",
   "execution_count": 235,
   "metadata": {
    "collapsed": false
   },
   "outputs": [
    {
     "name": "stdout",
     "output_type": "stream",
     "text": [
      "7919\n"
     ]
    }
   ],
   "source": [
    "p = nth_prime(1000); print p"
   ]
  },
  {
   "cell_type": "code",
   "execution_count": 236,
   "metadata": {
    "collapsed": false
   },
   "outputs": [
    {
     "name": "stdout",
     "output_type": "stream",
     "text": [
      "3298\n"
     ]
    }
   ],
   "source": [
    "g = generador(p); print g"
   ]
  },
  {
   "cell_type": "markdown",
   "metadata": {},
   "source": [
    "Elegimos un a aleatorio que tenga sentido"
   ]
  },
  {
   "cell_type": "code",
   "execution_count": 241,
   "metadata": {
    "collapsed": false
   },
   "outputs": [
    {
     "name": "stdout",
     "output_type": "stream",
     "text": [
      "5224\n",
      "3641\n"
     ]
    }
   ],
   "source": [
    "a = randint(2, p-2); print a; A = (g**a)%p; print A"
   ]
  },
  {
   "cell_type": "code",
   "execution_count": 246,
   "metadata": {
    "collapsed": false
   },
   "outputs": [
    {
     "name": "stdout",
     "output_type": "stream",
     "text": [
      "5006\n"
     ]
    }
   ],
   "source": [
    "m = randint(p//2, p-2); print m"
   ]
  },
  {
   "cell_type": "code",
   "execution_count": 274,
   "metadata": {
    "collapsed": true
   },
   "outputs": [],
   "source": [
    "def encripta(p, g, A, m):\n",
    "    b = randint(1, p-2)\n",
    "    print b\n",
    "    B = (g**b)%p\n",
    "    c = ((A**b)*m)%p\n",
    "    return (B, c)"
   ]
  },
  {
   "cell_type": "code",
   "execution_count": 275,
   "metadata": {
    "collapsed": false
   },
   "outputs": [
    {
     "name": "stdout",
     "output_type": "stream",
     "text": [
      "4773\n",
      "(448, 381)\n"
     ]
    }
   ],
   "source": [
    "crypt = encripta(p, g, A, m); print crypt"
   ]
  },
  {
   "cell_type": "code",
   "execution_count": 276,
   "metadata": {
    "collapsed": true
   },
   "outputs": [],
   "source": [
    "def desencripta(p, a, B, c):\n",
    "    x = p-1-a\n",
    "    m = ((B**x)*c)%p\n",
    "    return m"
   ]
  },
  {
   "cell_type": "code",
   "execution_count": 277,
   "metadata": {
    "collapsed": false
   },
   "outputs": [
    {
     "name": "stdout",
     "output_type": "stream",
     "text": [
      "True\n"
     ]
    }
   ],
   "source": [
    "print desencripta(p, a, crypt[0], crypt[1])==m"
   ]
  },
  {
   "cell_type": "code",
   "execution_count": 278,
   "metadata": {
    "collapsed": true
   },
   "outputs": [],
   "source": [
    "def inverso_mult(x, p):\n",
    "    for int in Zmod(p).list():\n",
    "        if (x*int)%p==1:\n",
    "            return int"
   ]
  },
  {
   "cell_type": "code",
   "execution_count": 290,
   "metadata": {
    "collapsed": true
   },
   "outputs": [],
   "source": [
    "def soymalomuymalo(p, g, A, m, c, c1):\n",
    "    Bx = (m*inverso_mult(c, p))%p ##Jugando con el inverso multiplicativo de c en m = Bx*c mod p se encuentra fácilmente Bx \n",
    "    m1 = (Bx*c1)%p\n",
    "    return m1"
   ]
  },
  {
   "cell_type": "code",
   "execution_count": 280,
   "metadata": {
    "collapsed": false
   },
   "outputs": [
    {
     "name": "stdout",
     "output_type": "stream",
     "text": [
      "5254\n"
     ]
    }
   ],
   "source": [
    "m2 = randint(p//2, p-2); print m2"
   ]
  },
  {
   "cell_type": "code",
   "execution_count": 281,
   "metadata": {
    "collapsed": true
   },
   "outputs": [],
   "source": [
    "def encripta2(p, g, A, m):\n",
    "    b = 4773\n",
    "    print b\n",
    "    B = (g**b)%p\n",
    "    c = ((A**b)*m)%p \n",
    "    return (B, c)"
   ]
  },
  {
   "cell_type": "code",
   "execution_count": 288,
   "metadata": {
    "collapsed": false
   },
   "outputs": [
    {
     "name": "stdout",
     "output_type": "stream",
     "text": [
      "4773\n",
      "(448, 381)\n"
     ]
    }
   ],
   "source": [
    "crypt2 = encripta2(p, g, A, m2); print crypt"
   ]
  },
  {
   "cell_type": "code",
   "execution_count": 291,
   "metadata": {
    "collapsed": false
   },
   "outputs": [
    {
     "name": "stdout",
     "output_type": "stream",
     "text": [
      "5254\n",
      "True\n"
     ]
    }
   ],
   "source": [
    "print soymalomuymalo(p, g, A, m, crypt[1], crypt2[1]); print m2 == soymalomuymalo(p, g, A, m, crypt[1], crypt2[1])"
   ]
  },
  {
   "cell_type": "markdown",
   "metadata": {},
   "source": [
    "Con lo cual hemos roto el código"
   ]
  },
  {
   "cell_type": "markdown",
   "metadata": {},
   "source": [
    "## Ejercicio 3\n",
    "\n",
    "(4 puntos) El sistema **One time pad** es criptográficamente perfecto siempre que: \n",
    "\n",
    "1) No se reutilicen trozos de clave ya utilizados.\n",
    "\n",
    "2) La clave sea una cadena binaria aleatoria, con igual probabilidad para el cero que para el uno.\n",
    "\n",
    "En clase se mencionó que **``si utilizamos el mismo trozo de clave repetidas veces el One time pad termina convertido en Vigenere, y, por tanto, es vulnerable''**. Esta afirmación es intuitivamente clara debido a la manera en que se definen los dos sistemas criptográficos, sin embargo, en este ejercicio **queremos comprobarlo sobre un ejemplo concreto.**\n",
    "\n",
    "Las funciones necesarias para efectuar esta comprobación ya están **casi** preparadas por nuestro trabajo previo con los ejercicios del curso, pero **será necesario efectuar algunos pequeños cambios** porque unas están adaptadas a *Vigenere* y otras a *One time pad*.  \n",
    "\n",
    "Resumiendo: hay que comprobar que si usamos para *One time pad* una clave $C$ de 100 bits, definida en una celda más abajo, y encriptamos el texto indicado, repitiendo la misma clave todas las veces que haga falta (es decir, usando como clave la concatenación de $C$ tantas veces como necesitemos), **el malo** puede recuperar la clave si intercepta el texto encriptado usando, esencialmente, el mismo método que permite romper *Vigenere*. \n",
    "\n",
    "**IMPORTANTE:** Para simplificar el ejercicio supondremos que **el malo** conoce la longitud del trozo de clave que se repite, es decir, sabe que se va a repetir una clave de $100$ bits. "
   ]
  },
  {
   "cell_type": "code",
   "execution_count": 293,
   "metadata": {
    "collapsed": true
   },
   "outputs": [],
   "source": [
    "## Alfabeto de 32 caracteres que vamos a utilizar\n",
    "alfb = \"ABCDEFGHIJKLMNOPQRSTUVWXYZ123456\""
   ]
  },
  {
   "cell_type": "code",
   "execution_count": 294,
   "metadata": {
    "collapsed": true
   },
   "outputs": [],
   "source": [
    "L_alfb = list(alfb)"
   ]
  },
  {
   "cell_type": "code",
   "execution_count": 295,
   "metadata": {
    "collapsed": true
   },
   "outputs": [],
   "source": [
    "## La clave de 100 bits a repetir\n",
    "C = '1010011001110111111110110110010001011010011010001001101001100011111000000101110011010000000111010101' "
   ]
  },
  {
   "cell_type": "code",
   "execution_count": 296,
   "metadata": {
    "collapsed": true
   },
   "outputs": [],
   "source": [
    "## El texto a encriptar\n",
    "texto = 'TELLMEOMUSEOFTHATINGENIOUSHEROWHOTRAVELLEDFARANDWIDEAFTERHEHADSACKEDTHEFAMOUSTOWNOFTROYMANYCITIESDIDHEVISITANDMANYWERETHENATIONSWITHWHOSEMANNERSANDCUSTOMSHEWASACQUAINTEDMOREOVERHESUFFEREDMUCHBYSEAWHILETRYINGTOSAVEHISOWNLIFEANDBRINGHISMENSAFELYHOMEBUTDOWHATHEMIGHTHECOULDNOTSAVEHISMENFORTHEYPERISHEDTHROUGHTHEIROWNSHEERFOLLYINEATINGTHECATTLEOFTHESUNGODHYPERIONSOTHEGODPREVENTEDTHEMFROMEVERREACHINGHOMETELLMETOOABOUTALLTHESETHINGSOHDAUGHTEROFJOVEFROMWHATSOEVERSOURCEYOUMAYKNOWTHEMSONOWALLWHOESCAPEDDEATHINBATTLEORBYSHIPWRECKHADGOTSAFELYHOMEEXCEPTULYSSESANDHETHOUGHHEWASLONGINGTORETURNTOHISWIFEANDCOUNTRYWASDETAINEDBYTHEGODDESSCALYPSOWHOHADGOTHIMINTOALARGECAVEANDWANTEDTOMARRYHIMBUTASYEARSWENTBYTHERECAMEATIMEWHENTHEGODSSETTLEDTHATHESHOULDGOBACKTOITHACAEVENTHENHOWEVERWHENHEWASAMONGHISOWNPEOPLEHISTROUBLESWERENOTYETOVERNEVERTHELESSALLTHEGODSHADNOWBEGUNTOPITYHIMEXCEPTNEPTUNEWHOSTILLPERSECUTEDHIMWITHOUTCEASINGANDWOULDNOTLETHIMGETHOMENOWNEPTUNEHADGONEOFFTOTHEETHIOPIANSWHOAREATTHEWORLDSENDANDLIEINTWOHALVESTHEONELOOKINGWESTANDTHEOTHEREASTHEHADGONETHERETOACCEPTAHECATOMBOFSHEEPANDOXENANDWASENJOYINGHIMSELFATHISFESTIVALBUTTHEOTHERGODSMETINTHEHOUSEOFOLYMPIANJOVEANDTHESIREOFGODSANDMENSPOKEFIRSTATTHATMOMENTHEWASTHINKINGOFAEGISTHUSWHOHADBEENKILLEDBYAGAMEMNONSSONORESTESSOHESAIDTOTHEOTHERGODSSEENOWHOWMENLAYBLAMEUPONUSGODSFORWHATISAFTERALLNOTHINGBUTTHEIROWNFOLLYLOOKATAEGISTHUSHEMUSTNEEDSMAKELOVETOAGAMEMNONSWIFEUNRIGHTEOUSLYANDTHENKILLAGAMEMNONTHOUGHHEKNEWITWOULDBETHEDEATHOFHIMFORISENTMERCURYTOWARNHIMNOTTODOEITHEROFTHESETHINGSINASMUCHASORESTESWOULDBESURETOTAKEHISREVENGEWHENHEGREWUPANDWANTEDTORETURNHOMEMERCURYTOLDHIMTHISINALLGOODWILLBUTHEWOULDNOTLISTENANDNOWHEHASPAIDFOREVERYTHINGINFULLTHENMINERVASAIDFATHERSONOFSATURNKINGOFKINGSITSERVEDAEGISTHUSRIGHTANDSOITWOULDANYONEELSEWHODOESASHEDIDBUTAEGISTHUSISNEITHERHERENORTHEREITISFORULYSSESTHATMYHEARTBLEEDSWHENITHINKOFHISSUFFERINGSINTHATLONELYSEAGIRTISLANDFARAWAYPOORMANFROMALLHISFRIENDSITISANISLANDCOVEREDWITHFORESTINTHEVERYMIDDLEOFTHESEAANDAGODDESSLIVESTHEREDAUGHTEROFTHEMAGICIANATLASWHOLOOKSAFTERTHEBOTTOMOFTHEOCEANANDCARRIESTHEGREATCOLUMNSTHATKEEPHEAVENANDEARTHASUNDERTHISDAUGHTEROFATLASHASGOTHOLDOFPOORUNHAPPYULYSSESANDKEEPSTRYINGBYEVERYKINDOFBLANDISHMENTTOMAKEHIMFORGETHISHOMESOTHATHEISTIREDOFLIFEANDTHINKSOFNOTHINGBUTHOWHEMAYONCEMORESEETHESMOKEOFHISOWNCHIMNEYSYOUSIRTAKENOHEEDOFTHISANDYETWHENULYSSESWASBEFORETROYDIDHENOTPROPITIATEYOUWITHMANYABURNTSACRIFICEWHYTHENSHOULDYOUKEEPONBEINGSOANGRYWITHHIMANDJOVESAIDMYCHILDWHATAREYOUTALKINGABOUTHOWCANIFORGETULYSSESTHANWHOMTHEREISNOMORECAPABLEMANONEARTHNORMORELIBERALINHISOFFERINGSTOTHEIMMORTALGODSTHATLIVEINHEAVENBEARINMINDHOWEVERTHATNEPTUNEISSTILLFURIOUSWITHULYSSESFORHAVINGBLINDEDANEYEOFPOLYPHEMUSKINGOFTHECYCLOPESPOLYPHEMUSISSONTONEPTUNEBYTHENYMPHTHOOSADAUGHTERTOTHESEAKINGPHORCYSTHEREFORETHOUGHHEWILLNOTKILLULYSSESOUTRIGHTHETORMENTSHIMBYPREVENTINGHIMFROMGETTINGHOMESTILLLETUSLAYOURHEADSTOGETHERANDSEEHOWWECANHELPHIMTORETURNNEPTUNEWILLTHENBEPACIFIEDFORIFWEAREALLOFAMINDHECANHARDLYSTANDOUTAGAINSTUSANDMINERVASAIDFATHERSONOFSATURNKINGOFKINGSIFTHENTHEGODSNOWMEANTHATULYSSESSHOULDGETHOMEWESHOULDFIRSTSENDMERCURYTOTHEOGYGIANISLANDTOTELLCALYPSOTHATWEHAVEMADEUPOURMINDSANDTHATHEISTORETURNINTHEMEANTIMEIWILLGOTOITHACATOPUTHEARTINTOULYSSESSONTELEMACHUSIWILLEMBOLDENHIMTOCALLTHEACHAEANSINASSEMBLYANDSPEAKOUTTOTHESUITORSOFHISMOTHERPENELOPEWHOPERSISTINEATINGUPANYNUMBEROFHISSHEEPANDOXENIWILLALSOCONDUCTHIMTOSPARTAANDTOPYLOSTOSEEIFHECANHEARANYTHINGABOUTTHERETURNOFHISDEARFATHERFORTHISWILLMAKEPEOPLESPEAKWELLOFHIMSOSAYINGSHEBOUNDONHERGLITTERINGGOLDENSANDALSIMPERISHABLEWITHWHICHSHECANFLYLIKETHEWINDOVERLANDORSEASHEGRASPEDTHEREDOUBTABLEBRONZESHODSPEARSOSTOUTANDSTURDYANDSTRONGWHEREWITHSHEQUELLSTHERANKSOFHEROESWHOHAVEDISPLEASEDHERANDDOWNSHEDARTEDFROMTHETOPMOSTSUMMITSOFOLYMPUSWHEREONFORTHWITHSHEWASINITHACAATTHEGATEWAYOFULYSSESHOUSEDISGUISEDASAVISITORMENTESCHIEFOFTHETAPHIANSANDSHEHELDABRONZESPEARINHERHANDTHERESHEFOUNDTHELORDLYSUITORSSEATEDONHIDESOFTHEOXENWHICHTHEYHADKILLEDANDEATENANDPLAYINGDRAUGHTSINFRONTOFTHEHOUSEMENSERVANTSANDPAGESWEREBUSTLINGABOUTTOWAITUPONTHEMSOMEMIXINGWINEWITHWATERINTHEMIXINGBOWLSSOMECLEANINGDOWNTHETABLESWITHWETSPONGESANDLAYINGTHEMOUTAGAINANDSOMECUTTINGUPGREATQUANTITIESOFMEATTELEMACHUSSAWHERLONGBEFOREANYONEELSEDIDHEWASSITTINGMOODILYAMONGTHESUITORSTHINKINGABOUTHISBRAVEFATHERANDHOWHEWOULDSENDTHEMFLYINGOUTOFTHEHOUSEIFHEWERETOCOMETOHISOWNAGAINANDBEHONOUREDASINDAYSGONEBYTHUSBROODINGASHESATAMONGTHEMHECAUGHTSIGHTOFMINERVAANDWENTSTRAIGHTTOTHEGATEFORHEWASVEXEDTHATASTRANGERSHOULDBEKEPTWAITINGFORADMITTANCEHETOOKHERRIGHTHANDINHISOWNANDBADEHERGIVEHIMHERSPEARWELCOMESAIDHETOOURHOUSEANDWHENYOUHAVEPARTAKENOFFOODYOUSHALLTELLUSWHATYOUHAVECOMEFORHELEDTHEWAYASHESPOKEANDMINERVAFOLLOWEDHIMWHENTHEYWEREWITHINHETOOKHERSPEARANDSETITINTHESPEARSTANDAGAINSTASTRONGBEARINGPOSTALONGWITHTHEMANYOTHERSPEARSOFHISUNHAPPYFATHERANDHECONDUCTEDHERTOARICHLYDECORATEDSEATUNDERWHICHHETHREWACLOTHOFDAMASKTHEREWASAFOOTSTOOLALSOFORHERFEETANDHESETANOTHERSEATNEARHERFORHIMSELFAWAYFROMTHESUITORSTHATSHEMIGHTNOTBEANNOYEDWHILEEATINGBYTHEIRNOISEANDINSOLENCEANDTHATHEMIGHTASKHERMOREFREELYABOUTHISFATHERAMAIDSERVANTTHENBROUGHTTHEMWATERINABEAUTIFULGOLDENEWERANDPOUREDITINTOASILVERBASINFORTHEMTOWASHTHEIRHANDSANDSHEDREWACLEANTABLEBESIDETHEMANUPPERSERVANTBROUGHTTHEMBREADANDOFFEREDTHEMMANYGOODTHINGSOFWHATTHEREWASINTHEHOUSETHECARVERFETCHEDTHEMPLATESOFALLMANNEROFMEATSANDSETCUPSOFGOLDBYTHEIRSIDEANDAMANSERVANTBROUGHTTHEMWINEANDPOUREDITOUTFORTHEMTHENTHESUITORSCAMEINANDTOOKTHEIRPLACESONTHEBENCHESANDSEATSFORTHWITHMENSERVANTSPOUREDWATEROVERTHEIRHANDSMAIDSWENTROUNDWITHTHEBREADBASKETSPAGESFILLEDTHEMIXINGBOWLSWITHWINEANDWATERANDTHEYLAIDTHEIRHANDSUPONTHEGOODTHINGSTHATWEREBEFORETHEMASSOONASTHEYHADHADENOUGHTOEATANDDRINKTHEYWANTEDMUSICANDDANCINGWHICHARETHECROWNINGEMBELLISHMENTSOFABANQUETSOASERVANTBROUGHTALYRETOPHEMIUSWHOMTHEYCOMPELLEDPERFORCETOSINGTOTHEMASSOONASHETOUCHEDHISLYREANDBEGANTOSINGTELEMACHUSSPOKELOWTOMINERVAWITHHISHEADCLOSETOHERSTHATNOMANMIGHTHEARIHOPESIRSAIDHETHATYOUWILLNOTBEOFFENDEDWITHWHATIAMGOINGTOSAYSINGINGCOMESCHEAPTOTHOSEWHODONOTPAYFORITANDALLTHISISDONEATTHECOSTOFONEWHOSEBONESLIEROTTINGINSOMEWILDERNESSORGRINDINGTOPOWDERINTHESURFIFTHESEMENWERETOSEEMYFATHERCOMEBACKTOITHACATHEYWOULDPRAYFORLONGERLEGSRATHERTHANALONGERPURSEFORMONEYWOULDNOTSERVETHEMBUTHEALASHASFALLENONANILLFATEANDEVENWHENPEOPLEDOSOMETIMESSAYTHATHEISCOMINGWENOLONGERHEEDTHEMWESHALLNEVERSEEHIMAGAINANDNOWSIRTELLMEANDTELLMETRUEWHOYOUAREANDWHEREYOUCOMEFROMTELLMEOFYOURTOWNANDPARENTSWHATMANNEROFSHIPYOUCAMEINHOWYOURCREWBROUGHTYOUTOITHACAANDOFWHATNATIONTHEYDECLAREDTHEMSELVESTOBEFORYOUCANNOTHAVECOMEBYLANDTELLMEALSOTRULYFORIWANTTOKNOWAREYOUASTRANGERTOTHISHOUSEORHAVEYOUBEENHEREINMYFATHERSTIMEINTHEOLDDAYSWEHADMANYVISITORSFORMYFATHERWENTABOUTMUCHHIMSELFANDMINERVAANSWEREDIWILLTELLYOUTRULYANDPARTICULARLYALLABOUTITIAMMENTESSONOFANCHIALUSANDIAMKINGOFTHETAPHIANSIHAVECOMEHEREWITHMYSHIPANDCREWONAVOYAGETOMENOFAFOREIGNTONGUEBEINGBOUNDFORTEMESAWITHACARGOOFIRONANDISHALLBRINGBACKCOPPERASFORMYSHIPITLIESOVERYONDEROFFTHEOPENCOUNTRYAWAYFROMTHETOWNINTHEHARBOURRHEITHRONUNDERTHEWOODEDMOUNTAINNERITUMOURFATHERSWEREFRIENDSBEFOREUSASOLDLAERTESWILLTELLYOUIFYOUWILLGOANDASKHIMTHEYSAYHOWEVERTHATHENEVERCOMESTOTOWNNOWANDLIVESBYHIMSELFINTHECOUNTRYFARINGHARDLYWITHANOLDWOMANTOLOOKAFTERHIMANDGETHISDINNERFORHIMWHENHECOMESINTIREDFROMPOTTERINGABOUTHISVINEYARDTHEYTOLDMEYOURFATHERWASATHOMEAGAINANDTHATWASWHYICAMEBUTITSEEMSTHEGODSARESTILLKEEPINGHIMBACKFORHEISNOTDEADYETNOTONTHEMAINLANDITISMORELIKELYHEISONSOMESEAGIRTISLANDINMIDOCEANORAPRISONERAMONGSAVAGESWHOAREDETAININGHIMAGAINSTHISWILLIAMNOPROPHETANDKNOWVERYLITTLEABOUTOMENSBUTISPEAKASITISBORNEINUPONMEFROMHEAVENANDASSUREYOUTHATHEWILLNOTBEAWAYMUCHLONGERFORHEISAMANOFSUCHRESOURCETHATEVENTHOUGHHEWEREINCHAINSOFIRONHEWOULDFINDSOMEMEANSOFGETTINGHOMEAGAINBUTTELLMEANDTELLMETRUECANULYSSESREALLYHAVESUCHAFINELOOKINGFELLOWFORASONYOUAREINDEEDWONDERFULLYLIKEHIMABOUTTHEHEADANDEYESFORWEWERECLOSEFRIENDSBEFOREHESETSAILFORTROYWHERETHEFLOWEROFALLTHEARGIVESWENTALSOSINCETHATTIMEWEHAVENEVEREITHEROFUSSEENTHEOTHERMYMOTHERANSWEREDTELEMACHUSTELLSMEIAMSONTOULYSSESBUTITISAWISECHILDTHATKNOWSHISOWNFATHERWOULDTHATIWERESONTOONEWHOHADGROWNOLDUPONHISOWNESTATESFORSINCEYOUASKMETHEREISNOMOREILLSTARREDMANUNDERHEAVENTHANHEWHOTHEYTELLMEISMYFATHERANDMINERVASAIDTHEREISNOFEAROFYOURRACEDYINGOUTYETWHILEPENELOPEHASSUCHAFINESONASYOUAREBUTTELLMEANDTELLMETRUEWHATISTHEMEANINGOFALLTHISFEASTINGANDWHOARETHESEPEOPLEWHATISITALLABOUTHAVEYOUSOMEBANQUETORISTHEREAWEDDINGINTHEFAMILYFORNOONESEEMSTOBEBRINGINGANYPROVISIONSOFHISOWNANDTHEGUESTSHOWATROCIOUSLYTHEYAREBEHAVINGWHATRIOTTHEYMAKEOVERTHEWHOLEHOUSEITISENOUGHTODISGUSTANYRESPECTABLEPERSONWHOCOMESNEARTHEMSIRSAIDTELEMACHUSASREGARDSYOURQUESTIONSOLONGASMYFATHERWASHEREITWASWELLWITHUSANDWITHTHEHOUSEBUTTHEGODSINTHEIRDISPLEASUREHAVEWILLEDITOTHERWISEANDHAVEHIDDENHIMAWAYMORECLOSELYTHANMORTALMANWASEVERYETHIDDENICOULDHAVEBORNEITBETTEREVENTHOUGHHEWEREDEADIFHEHADFALLENWITHHISMENBEFORETROYORHADDIEDWITHFRIENDSAROUNDHIMWHENTHEDAYSOFHISFIGHTINGWEREDONEFORTHENTHEACHAEANSWOULDHAVEBUILTAMOUNDOVERHISASHESANDISHOULDMYSELFHAVEBEENHEIRTOHISRENOWNBUTNOWTHESTORMWINDSHAVESPIRITEDHIMAWAYWEKNOWNOTWHITHERHEISGONEWITHOUTLEAVINGSOMUCHASATRACEBEHINDHIMANDIINHERITNOTHINGBUTDISMAYNORDOESTHEMATTERENDSIMPLYWITHGRIEFFORTHELOSSOFMYFATHERHEAVENHASLAIDSORROWSUPONMEOFYETANOTHERKINDFORTHECHIEFSFROMALLOURISLANDSDULICHIUMSAMEANDTHEWOODLANDISLANDOFZACYNTHUSASALSOALLTHEPRINCIPALMENOFITHACAITSELFAREEATINGUPMYHOUSEUNDERTHEPRETEXTOFPAYINGTHEIRCOURTTOMYMOTHERWHOWILLNEITHERPOINTBLANKSAYTHATSHEWILLNOTMARRYNORYETBRINGMATTERSTOANENDSOTHEYAREMAKINGHAVOCOFMYESTATEANDBEFORELONGWILLDOSOALSOWITHMYSELFISTHATSOEXCLAIMEDMINERVATHENYOUDOINDEEDWANTULYSSESHOMEAGAINGIVEHIMHISHELMETSHIELDANDACOUPLEOFLANCESANDIFHEISTHEMANHEWASWHENIFIRSTKNEWHIMINOURHOUSEDRINKINGANDMAKINGMERRYHEWOULDSOONLAYHISHANDSABOUTTHESERASCALLYSUITORSWEREHETOSTANDONCEMOREUPONHISOWNTHRESHOLDHEWASTHENCOMINGFROMEPHYRAWHEREHEHADBEENTOBEGPOISONFORHISARROWSFROMILUSSONOFMERMERUSILUSFEAREDTHEEVERLIVINGGODSANDWOULDNOTGIVEHIMANYBUTMYFATHERLETHIMHAVESOMEFORHEWASVERYFONDOFHIMIFULYSSESISTHEMANHETHENWASTHESESUITORSWILLHAVEASHORTSHRIFTANDASORRYWEDDINGBUTTHEREITRESTSWITHHEAVENTODETERMINEWHETHERHEISTORETURNANDTAKEHISREVENGEINHISOWNHOUSEORNOIWOULDHOWEVERURGEYOUTOSETABOUTTRYINGTOGETRIDOFTHESESUITORSATONCETAKEMYADVICECALLTHEACHAEANHEROESINASSEMBLYTOMORROWMORNINGLAYYOURCASEBEFORETHEMANDCALLHEAVENTOBEARYOUWITNESSBIDTHESUITORSTAKETHEMSELVESOFFEACHTOHISOWNPLACEANDIFYOURMOTHERSMINDISSETONMARRYINGAGAINLETHERGOBACKTOHERFATHERWHOWILLFINDHERAHUSBANDANDPROVIDEHERWITHALLTHEMARRIAGEGIFTSTHATSODEARADAUGHTERMAYEXPECTASFORYOURSELFLETMEPREVAILUPONYOUTOTAKETHEBESTSHIPYOUCANGETWITHACREWOFTWENTYMENANDGOINQUESTOFYOURFATHERWHOHASSOLONGBEENMISSINGSOMEONEMAYTELLYOUSOMETHINGORANDPEOPLEOFTENHEARTHINGSINTHISWAYSOMEHEAVENSENTMESSAGEMAYDIRECTYOUFIRSTGOTOPYLOSANDASKNESTORTHENCEGOONTOSPARTAANDVISITMENELAUSFORHEGOTHOMELASTOFALLTHEACHAEANSIFYOUHEARTHATYOURFATHERISALIVEANDONHISWAYHOMEYOUCANPUTUPWITHTHEWASTETHESESUITORSWILLMAKEFORYETANOTHERTWELVEMONTHSIFONTHEOTHERHANDYOUHEAROFHISDEATHCOMEHOMEATONCECELEBRATEHISFUNERALRITESWITHALLDUEPOMPBUILDABARROWTOHISMEMORYANDMAKEYOURMOTHERMARRYAGAINTHENHAVINGDONEALLTHISTHINKITWELLOVERINYOURMINDHOWBYFAIRMEANSORFOULYOUMAYKILLTHESESUITORSINYOUROWNHOUSEYOUARETOOOLDTOPLEADINFANCYANYLONGERHAVEYOUNOTHEARDHOWPEOPLEARESINGINGORESTESPRAISESFORHAVINGKILLEDHISFATHERSMURDERERAEGISTHUSYOUAREAFINESMARTLOOKINGFELLOWSHOWYOURMETTLETHENANDMAKEYOURSELFANAMEINSTORYNOWHOWEVERIMUSTGOBACKTOMYSHIPANDTOMYCREWWHOWILLBEIMPATIENTIFIKEEPTHEMWAITINGLONGERTHINKTHEMATTEROVERFORYOURSELFANDREMEMBERWHATIHAVESAIDTOYOUSIRANSWEREDTELEMACHUSITHASBEENVERYKINDOFYOUTOTALKTOMEINTHISWAYASTHOUGHIWEREYOUROWNSONANDIWILLDOALLYOUTELLMEIKNOWYOUWANTTOBEGETTINGONWITHYOURVOYAGEBUTSTAYALITTLELONGERTILLYOUHAVETAKENABATHANDREFRESHEDYOURSELFIWILLTHENGIVEYOUAPRESENTANDYOUSHALLGOONYOURWAYREJOICINGIWILLGIVEYOUONEOFGREATBEAUTYANDVALUEAKEEPSAKESUCHASONLYDEARFRIENDSGIVETOONEANOTHERMINERVAANSWEREDDONOTTRYTOKEEPMEFORIWOULDBEONMYWAYATONCEASFORANYPRESENTYOUMAYBEDISPOSEDTOMAKEMEKEEPITTILLICOMEAGAINANDIWILLTAKEITHOMEWITHMEYOUSHALLGIVEMEAVERYGOODONEANDIWILLGIVEYOUONEOFNOLESSVALUEINRETURNWITHTHESEWORDSSHEFLEWAWAYLIKEABIRDINTOTHEAIRBUTSHEHADGIVENTELEMACHUSCOURAGEANDHADMADEHIMTHINKMORETHANEVERABOUTHISFATHERHEFELTTHECHANGEWONDEREDATITANDKNEWTHATTHESTRANGERHADBEENAGODSOHEWENTSTRAIGHTTOWHERETHESUITORSWERESITTINGPHEMIUSWASSTILLSINGINGANDHISHEARERSSATRAPTINSILENCEASHETOLDTHESADTALEOFTHERETURNFROMTROYANDTHEILLSMINERVAHADLAIDUPONTHEACHAEANSPENELOPEDAUGHTEROFICARIUSHEARDHISSONGFROMHERROOMUPSTAIRSANDCAMEDOWNBYTHEGREATSTAIRCASENOTALONEBUTATTENDEDBYTWOOFHERHANDMAIDSWHENSHEREACHEDTHESUITORSSHESTOODBYONEOFTHEBEARINGPOSTSTHATSUPPORTEDTHEROOFOFTHECLOISTERSWITHASTAIDMAIDENONEITHERSIDEOFHERSHEHELDAVEILMOREOVERBEFOREHERFACEANDWASWEEPINGBITTERLYPHEMIUSSHECRIEDYOUKNOWMANYANOTHERFEATOFGODSANDHEROESSUCHASPOETSLOVETOCELEBRATESINGTHESUITORSSOMEONEOFTHESEANDLETTHEMDRINKTHEIRWINEINSILENCEBUTCEASETHISSADTALEFORITBREAKSMYSORROWFULHEARTANDREMINDSMEOFMYLOSTHUSBANDWHOMIMOURNEVERWITHOUTCEASINGANDWHOSENAMEWASGREATOVERALLHELLASANDMIDDLEARGOSMOTHERANSWEREDTELEMACHUSLETTHEBARDSINGWHATHEHASAMINDTOBARDSDONOTMAKETHEILLSTHEYSINGOFITISJOVENOTTHEYWHOMAKESTHEMANDWHOSENDSWEALORWOEUPONMANKINDACCORDINGTOHISOWNGOODPLEASURETHISFELLOWMEANSNOHARMBYSINGINGTHEILLFATEDRETURNOFTHEDANAANSFORPEOPLEALWAYSAPPLAUDTHELATESTSONGSMOSTWARMLYMAKEUPYOURMINDTOITANDBEARITULYSSESISNOTTHEONLYMANWHONEVERCAMEBACKFROMTROYBUTMANYANOTHERWENTDOWNASWELLASHEGOTHENWITHINTHEHOUSEANDBUSYYOURSELFWITHYOURDAILYDUTIESYOURLOOMYOURDISTAFFANDTHEORDERINGOFYOURSERVANTSFORSPEECHISMANSMATTERANDMINEABOVEALLOTHERSFORITISIWHOAMMASTERHERESHEWENTWONDERINGBACKINTOTHEHOUSEANDLAIDHERSONSSAYINGINHERHEARTTHENGOINGUPSTAIRSWITHHERHANDMAIDSINTOHERROOMSHEMOURNEDHERDEARHUSBANDTILLMINERVASHEDSWEETSLEEPOVERHEREYESBUTTHESUITORSWERECLAMOROUSTHROUGHOUTTHECOVEREDCLOISTERSANDPRAYEDEACHONETHATHEMIGHTBEHERBEDFELLOWTHENTELEMACHUSSPOKESHAMELESSHECRIEDANDINSOLENTSUITORSLETUSFEASTATOURPLEASURENOWANDLETTHEREBENOBRAWLINGFORITISARARETHINGTOHEARAMANWITHSUCHADIVINEVOICEASPHEMIUSHASBUTINTHEMORNINGMEETMEINFULLASSEMBLYTHATIMAYGIVEYOUFORMALNOTICETODEPARTANDFEASTATONEANOTHERSHOUSESTURNANDTURNABOUTATYOUROWNCOSTIFONTHEOTHERHANDYOUCHOOSETOPERSISTINSPUNGINGUPONONEMANHEAVENHELPMEBUTJOVESHALLRECKONWITHYOUINFULLANDWHENYOUFALLINMYFATHERSHOUSETHERESHALLBENOMANTOAVENGEYOUTHESUITORSBITTHEIRLIPSASTHEYHEARDHIMANDMARVELLEDATTHEBOLDNESSOFHISSPEECHTHENANTINOUSSONOFEUPEITHESSAIDTHEGODSSEEMTOHAVEGIVENYOULESSONSINBLUSTERANDTALLTALKINGMAYJOVENEVERGRANTYOUTOBECHIEFINITHACAASYOURFATHERWASBEFOREYOUTELEMACHUSANSWEREDANTINOUSDONOTCHIDEWITHMEBUTGODWILLINGIWILLBECHIEFTOOIFICANISTHISTHEWORSTFATEYOUCANTHINKOFFORMEITISNOBADTHINGTOBEACHIEFFORITBRINGSBOTHRICHESANDHONOURSTILLNOWTHATULYSSESISDEADTHEREAREMANYGREATMENINITHACABOTHOLDANDYOUNGANDSOMEOTHERMAYTAKETHELEADAMONGTHEMNEVERTHELESSIWILLBECHIEFINMYOWNHOUSEANDWILLRULETHOSEWHOMULYSSESHASWONFORMETHENEURYMACHUSSONOFPOLYBUSANSWEREDITRESTSWITHHEAVENTODECIDEWHOSHALLBECHIEFAMONGUSBUTYOUSHALLBEMASTERINYOUROWNHOUSEANDOVERYOUROWNPOSSESSIONSNOONEWHILETHEREISAMANINITHACASHALLDOYOUVIOLENCENORROBYOUANDNOWMYGOODFELLOWIWANTTOKNOWABOUTTHISSTRANGERWHATCOUNTRYDOESHECOMEFROMOFWHATFAMILYISHEANDWHEREISHISESTATEHASHEBROUGHTYOUNEWSABOUTTHERETURNOFYOURFATHERORWASHEONBUSINESSOFHISOWNHESEEMEDAWELLTODOMANBUTHEHURRIEDOFFSOSUDDENLYTHATHEWASGONEINAMOMENTBEFOREWECOULDGETTOKNOWHIMMYFATHERISDEADANDGONEANSWEREDTELEMACHUSANDEVENIFSOMERUMOURREACHESMEIPUTNOMOREFAITHINITNOWMYMOTHERDOESINDEEDSOMETIMESSENDFORASOOTHSAYERANDQUESTIONHIMBUTIGIVEHISPROPHECYINGSNOHEEDASFORTHESTRANGERHEWASMENTESSONOFANCHIALUSCHIEFOFTHETAPHIANSANOLDFRIENDOFMYFATHERSBUTINHISHEARTHEKNEWTHATITHADBEENTHEGODDESSTHESUITORSTHENRETURNEDTOTHEIRSINGINGANDDANCINGUNTILTHEEVENINGBUTWHENNIGHTFELLUPONTHEIRPLEASURINGTHEYWENTHOMETOBEDEACHINHISOWNABODETELEMACHUSSROOMWASHIGHUPINATOWERTHATLOOKEDONTOTHEOUTERCOURTHITHERTHENHEHIEDBROODINGANDFULLOFTHOUGHTAGOODOLDWOMANEURYCLEADAUGHTEROFOPSTHESONOFPISENORWENTBEFOREHIMWITHACOUPLEOFBLAZINGTORCHESLAERTESHADBOUGHTHERWITHHISOWNMONEYWHENSHEWASQUITEYOUNGHEGAVETHEWORTHOFTWENTYOXENFORHERANDSHEWEDASMUCHRESPECTTOHERINHISHOUSEHOLDASHEDIDTOHISOWNWEDDEDWIFEBUTHEDIDNOTTAKEHERTOHISBEDFORHEFEAREDHISWIFESRESENTMENTSHEITWASWHONOWLIGHTEDTELEMACHUSTOHISROOMANDSHELOVEDHIMBETTERTHANANYOFTHEOTHERWOMENINTHEHOUSEDIDFORSHEHADNURSEDHIMWHENHEWASABABYHEOPENEDTHEDOOROFHISBEDROOMANDSATDOWNUPONTHEBEDASHETOOKOFFHISSHIRTHEGAVEITTOTHEGOODOLDWOMANWHOFOLDEDITTIDILYUPANDHUNGITFORHIMOVERAPEGBYHISBEDSIDEAFTERWHICHSHEWENTOUTPULLEDTHEDOORTOBYASILVERCATCHANDDREWTHEBOLTHOMEBYMEANSOFTHESTRAPBUTTELEMACHUSASHELAYCOVEREDWITHAWOOLLENFLEECEKEPTTHINKINGALLNIGHTTHROUGHOFHISINTENDEDVOYAGEANDOFTHECOUNSELTHATMINERVAHADGIVENHI'"
   ]
  },
  {
   "cell_type": "code",
   "execution_count": 297,
   "metadata": {
    "collapsed": false
   },
   "outputs": [
    {
     "data": {
      "text/plain": [
       "16560"
      ]
     },
     "execution_count": 297,
     "metadata": {},
     "output_type": "execute_result"
    }
   ],
   "source": [
    "len(texto)"
   ]
  },
  {
   "cell_type": "markdown",
   "metadata": {
    "collapsed": true
   },
   "source": [
    "Una compañera vuestra ha detectado una errata en la función $cortar\\_texto$ que propuse en clase. La que hay que usar es:"
   ]
  },
  {
   "cell_type": "code",
   "execution_count": 298,
   "metadata": {
    "collapsed": true
   },
   "outputs": [],
   "source": [
    "def cortar_texto(texto,nclave):\n",
    "    '''Almacenamos en C una lista con nclave cadenas de caracteres, cada una\n",
    "    contiene la parte del texto que se ha encriptado con la misma clave'''\n",
    "    C=[item for item in texto[:nclave]]\n",
    "    for i in srange(nclave):\n",
    "        for j in srange(nclave, len(texto)):\n",
    "            if j%nclave==i:\n",
    "                C[i] += texto[j]\n",
    "            else:\n",
    "                continue\n",
    "    return C\n"
   ]
  },
  {
   "cell_type": "code",
   "execution_count": 299,
   "metadata": {
    "collapsed": true
   },
   "outputs": [],
   "source": [
    "def find_pos(L, C):\n",
    "    for j in xsrange(0, len(L)):\n",
    "            if(L[j]==C):\n",
    "                return j"
   ]
  },
  {
   "cell_type": "code",
   "execution_count": 300,
   "metadata": {
    "collapsed": true
   },
   "outputs": [],
   "source": [
    "def cortar(texto, d): #Función cortar propia para partir el texto en trozos de tamaño d\n",
    "    text = list(texto)\n",
    "    i = 0\n",
    "    R = []\n",
    "    lim = len(text)\n",
    "    while i+d<lim:\n",
    "        R.append(text[:d])\n",
    "        text = text[d:]\n",
    "        i+=d\n",
    "    if(i == lim - d):\n",
    "        R.append(text)\n",
    "        return R\n",
    "    while len(text)<d:\n",
    "        text.append('Z')\n",
    "    R.append(text)\n",
    "    return R"
   ]
  },
  {
   "cell_type": "code",
   "execution_count": 301,
   "metadata": {
    "collapsed": true
   },
   "outputs": [],
   "source": [
    "def codificar_otp(texto):\n",
    "    text_l = list(texto)\n",
    "    text_n = ''\n",
    "    for i in xsrange(0, len(text_l)):\n",
    "        D = (find_pos(alfb, text_l[i]).str(base=2))\n",
    "        while len(D) < 5:\n",
    "            D = '0' + D\n",
    "        text_n += D\n",
    "    return text_n"
   ]
  },
  {
   "cell_type": "code",
   "execution_count": 302,
   "metadata": {
    "collapsed": true
   },
   "outputs": [],
   "source": [
    "def decod_otp(texto):\n",
    "    i = 0\n",
    "    L = []\n",
    "    while i<len(texto):\n",
    "        L.append(alfb[(int(texto[i:i+5], base = 2))%(len(alfb))])\n",
    "        i+=5\n",
    "    return ''.join(L)"
   ]
  },
  {
   "cell_type": "code",
   "execution_count": 303,
   "metadata": {
    "collapsed": true
   },
   "outputs": [],
   "source": [
    "def encriptar_otp(texto_bin, clave):\n",
    "    result = []\n",
    "    binary = list(texto_bin)\n",
    "    key = list(clave)\n",
    "    for i in xsrange(0, len(binary)):\n",
    "        if(binary[i]==key[i]=='1' or binary[i]==key[i]=='0'):\n",
    "            result.append('1')\n",
    "        else:\n",
    "            result.append('0')\n",
    "    return ''.join(result)"
   ]
  },
  {
   "cell_type": "code",
   "execution_count": 304,
   "metadata": {
    "collapsed": true
   },
   "outputs": [],
   "source": [
    "def encriptar_trozos(texto_bin, clave):\n",
    "    tam = len(clave)\n",
    "    final = ''\n",
    "    cluster = cortar(texto_bin, tam)\n",
    "    for string in cluster:\n",
    "        newstr = encriptar_otp(string, clave)\n",
    "        final += newstr\n",
    "    return final"
   ]
  },
  {
   "cell_type": "code",
   "execution_count": 305,
   "metadata": {
    "collapsed": false
   },
   "outputs": [
    {
     "name": "stdout",
     "output_type": "stream",
     "text": [
      "1001100100010110101101100001000111001100101001001000100011100010110011001110000010011010000110100110\n"
     ]
    }
   ],
   "source": [
    "textocod = codificar_otp(texto); print textocod[:100]"
   ]
  },
  {
   "cell_type": "code",
   "execution_count": 306,
   "metadata": {
    "collapsed": false
   },
   "outputs": [
    {
     "name": "stdout",
     "output_type": "stream",
     "text": [
      "1100000010011110101100101000101001101001001100111110110101111110110100110100001110110101111110001100\n"
     ]
    }
   ],
   "source": [
    "textocrypt = encriptar_trozos(textocod, C); print textocrypt[:100]"
   ]
  },
  {
   "cell_type": "markdown",
   "metadata": {},
   "source": [
    "Comprobamos que la encriptación permite volver al texto original"
   ]
  },
  {
   "cell_type": "code",
   "execution_count": 307,
   "metadata": {
    "collapsed": false
   },
   "outputs": [
    {
     "name": "stdout",
     "output_type": "stream",
     "text": [
      "True\n",
      "TELLMEOMUSEOFTHATINGENIOUSHEROWHOTRAVELLEDFARANDWIDEAFTERHEHADSACKEDTHEFAMOUSTOWNOFTROYMANYCITIESDIDHEVISITANDMANYWERETHENATIONSWITHWHOSEMANNERSANDCUSTOMSHEWASACQUAINTEDMOREOVERHESUFFEREDMUCHBYSEAWHIL\n"
     ]
    }
   ],
   "source": [
    "print textocod == encriptar_trozos(textocrypt, C); print decod_otp(encriptar_trozos(textocrypt, C)[:1000])"
   ]
  },
  {
   "cell_type": "markdown",
   "metadata": {},
   "source": [
    "Ahora intentemos descodificar el texto usando las funciones de ataque por frecuencias. Tal vez podemos escribir la clave como una palabra en nuestro alfabeto y usar el análisis de Vigenere con las funciones que dimos en clase"
   ]
  },
  {
   "cell_type": "code",
   "execution_count": 340,
   "metadata": {
    "collapsed": false
   },
   "outputs": [
    {
     "name": "stdout",
     "output_type": "stream",
     "text": [
      "UZ26WZC1NCNGHYC31AOV\n",
      "20\n"
     ]
    }
   ],
   "source": [
    "key = decod_otp(C); print key; print len(key)"
   ]
  },
  {
   "cell_type": "markdown",
   "metadata": {},
   "source": [
    "Asimismo codificamos el texto a letras y suponemos que estamos en Vigenere"
   ]
  },
  {
   "cell_type": "code",
   "execution_count": 341,
   "metadata": {
    "collapsed": false
   },
   "outputs": [
    {
     "name": "stdout",
     "output_type": "stream",
     "text": [
      "YCPLFCTJGPWX4U1DWX3MPLMO4U1BDTE5WUMDQ21BPFBAYGQGEVR4YCOHUYVNLFWALMZGB1W3YLTXXM63GIBTYIFJSQK2QUVHX3ZJMCRI2OOF655ZV6LHU2CNPLETBIQXEVB5OATRBTRHGCVSJL5HGPBXUV1HT6DKJWQABLOBRR3I3JIHUYVY6DBEYC5JG6VYAVZDTYZBPVVYBL2W3PSM3AVRLJ3BDDAAEF3U1QU5QVRHINRPPN3HHKZEGORXOA4QC24CNBXHNETRZ56XLV4WBYZYHCJFHXOCWF44JPPEB3CN1IQGOV1B1M3PVV1HBOUEAN3IEC4W1QUK6D6DWM1OFDXHNUJIUTR5AIZSNR3YFVDEPI5KDZH4VUZAWYVGOXKMNTZUDZS26PQFCR4OYCPLFCOL34TXMU4IOMWOZCXHBL2X31RZMB1QBO6PCIREMXTJE1SKKJZWBODE6XGERIJJSFYUWROEBTDEGISACNLC3ZA2YIZAG2RZMOJBJVOOWTDYAV1LKJAOJMDAKATWA4X4T61NJ2V4JCLT4NFXAZAZVE1HWY65NBDE6GPO3QURVBONU2C51LXOOOPT1YWZVE6NRSC2TQESKCOF1QW1Z6OEBZ6JICWSLGW44P3P6J1DGZ6ZMOIIEVTFZ4D63F4WB63J4GJTNFOL54DIAAVPELCKZ5AAYULB6OTBLAZSB4RGPGXIFCLCWQB53BTAXNVZYNAD1B4WVZA5WTWADRQKJMXOBV1FQ4WM3KOEBSWE4CREYQ1B61WPYV4PLSXNDUKWEJZL4WW5QVOSLLQBPUSEYCQLBFWKWSZSI2EO1VDECCPXSWZK6D2NGNWKILKWIC2R6O3WQUFENTV4JCLTECSWGQWP6JPQNU1FPXWELSOBR11VOPOELLCIPGWIEA4IRL3NTEQNWUVZMOIGNV1L5Z6XOKZMWL3OMGHGHLZLXYBXLAZHWYZEEOEN2Q1LSMWZLU1HTRABIUANKGQGZVWRVULNC616\n"
     ]
    }
   ],
   "source": [
    "text = decod_otp(textocrypt); print text[:1000]"
   ]
  },
  {
   "cell_type": "code",
   "execution_count": 342,
   "metadata": {
    "collapsed": true
   },
   "outputs": [],
   "source": [
    "def ord2(c):\n",
    "    return L_alfb.index(c)\n",
    "def chr2(n):\n",
    "    return L_alfb[n]"
   ]
  },
  {
   "cell_type": "code",
   "execution_count": 343,
   "metadata": {
    "collapsed": true
   },
   "outputs": [],
   "source": [
    "def encriptar_vig(T,C):\n",
    "    '''T y C son cadenas de caracteres, T el texto y C la clave'''\n",
    "    L1 = map(ord2,list(C))\n",
    "    L2 = map(ord2,list(T))\n",
    "    L3 = []\n",
    "    for int in srange(len(L2)):\n",
    "        n = int%len(C)\n",
    "        L3.append(chr2((L2[int]+L1[n])%26))\n",
    "    return join(L3,sep=\"\")"
   ]
  },
  {
   "cell_type": "code",
   "execution_count": 344,
   "metadata": {
    "collapsed": true
   },
   "outputs": [],
   "source": [
    "def complementaria(C):\n",
    "    L1 = map(ord2,list(C))\n",
    "    return join(map(chr2,[(26-n)%26 for n in L1]),sep=\"\")"
   ]
  },
  {
   "cell_type": "code",
   "execution_count": 345,
   "metadata": {
    "collapsed": true
   },
   "outputs": [],
   "source": [
    "def analisis_frec(T):\n",
    "    frecuencias = {}\n",
    "    N = len(T)\n",
    "    for letra in T:\n",
    "        if letra in frecuencias:\n",
    "            frecuencias[letra] += (1/N).n()\n",
    "        else:\n",
    "            frecuencias[letra]=(1/N).n()\n",
    "    return frecuencias"
   ]
  },
  {
   "cell_type": "code",
   "execution_count": 346,
   "metadata": {
    "collapsed": true
   },
   "outputs": [],
   "source": [
    "def invertir(dicc):\n",
    "    dict_inv = {}\n",
    "    for key in dicc:\n",
    "        dict_inv[dicc[key]] = ord2(key)\n",
    "    return dict_inv"
   ]
  },
  {
   "cell_type": "code",
   "execution_count": 347,
   "metadata": {
    "collapsed": true
   },
   "outputs": [],
   "source": [
    "def analisis_frec_compl(T):\n",
    "    dicc = analisis_frec(T)\n",
    "    dicc2 = invertir(dicc)\n",
    "    L = dicc2.items()\n",
    "    L.sort(reverse=True)\n",
    "    return L"
   ]
  },
  {
   "cell_type": "code",
   "execution_count": 348,
   "metadata": {
    "collapsed": true
   },
   "outputs": [],
   "source": [
    "def analisis_frec2(T):\n",
    "    dicc = analisis_frec(T)\n",
    "    dicc2 = invertir(dicc)\n",
    "    L = dicc2.items()\n",
    "    L.sort(reverse=True)\n",
    "    return chr2(L[0][1]-4)"
   ]
  },
  {
   "cell_type": "code",
   "execution_count": 349,
   "metadata": {
    "collapsed": true
   },
   "outputs": [],
   "source": [
    "def buscar_clave(texto_e,nclave):\n",
    "    cortado = cortar_texto(texto_e,nclave)\n",
    "    clave = ''\n",
    "    for i in srange(nclave):\n",
    "        clave += analisis_frec2(cortado[i])\n",
    "    return clave"
   ]
  },
  {
   "cell_type": "code",
   "execution_count": 353,
   "metadata": {
    "collapsed": false
   },
   "outputs": [
    {
     "name": "stdout",
     "output_type": "stream",
     "text": [
      "L53AJ5V4SVSZY6VD4XRK\n"
     ]
    }
   ],
   "source": [
    "print buscar_clave(text, 20)"
   ]
  },
  {
   "cell_type": "markdown",
   "metadata": {},
   "source": [
    "Lamentablemente parece no funcionar y no queda muchi tiempo en el examen, asi que no creo que sea posible tomar otra aproximación al problema"
   ]
  },
  {
   "cell_type": "code",
   "execution_count": null,
   "metadata": {
    "collapsed": true
   },
   "outputs": [],
   "source": []
  }
 ],
 "metadata": {
  "kernelspec": {
   "display_name": "SageMath 7.3",
   "language": "",
   "name": "sagemath"
  },
  "language_info": {
   "codemirror_mode": {
    "name": "ipython",
    "version": 2
   },
   "file_extension": ".py",
   "mimetype": "text/x-python",
   "name": "python",
   "nbconvert_exporter": "python",
   "pygments_lexer": "ipython2",
   "version": "2.7.10"
  }
 },
 "nbformat": 4,
 "nbformat_minor": 0
}
