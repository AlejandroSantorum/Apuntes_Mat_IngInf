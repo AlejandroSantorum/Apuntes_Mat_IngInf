{
 "cells": [
  {
   "cell_type": "markdown",
   "metadata": {},
   "source": [
    "1) <span style=\"color:red\"> Antes que nada, lee cuidadosamente estas instrucciones y las que aparecen en la hoja con la contraseña. </span>\n",
    "\n",
    "2) Cambia el nombre de este archivo sustituyendo \"nombre.apellido\" por los tuyos, tal como aparecen en tu dirección de correo electrónico de la UAM.\n",
    "\n",
    "3) Este archivo debe quedar en la carpeta \"ENTREGA...\" que está en el escritorio de tu cuenta de examen. Lo mejor es que esté en esa carpeta desde el comienzo del examen.\n",
    "\n",
    "4) El examen resuelto debe quedar en este único archivo. No se puede usar un archivo para cada pregunta.\n",
    "\n",
    "5) Recuerda que hay que deshabilitar el salvapantallas al comenzar el examen, tal como está indicado en la hoja con la contraseña. \n",
    "\n",
    "\n",
    "\n",
    "\n",
    "CALIFICACIÓN:\n"
   ]
  },
  {
   "cell_type": "code",
   "execution_count": null,
   "metadata": {
    "collapsed": true
   },
   "outputs": [],
   "source": []
  },
  {
   "cell_type": "markdown",
   "metadata": {},
   "source": [
    "COMENTARIOS:\n",
    "\n",
    "1)"
   ]
  },
  {
   "cell_type": "markdown",
   "metadata": {},
   "source": [
    "## Ejercicio 1\n",
    "\n",
    "Consideramos el siguiente 'juego': inicialmente hay $n$ jugadores  y en cada fase del juego cada jugador vivo elige **al azar** otro jugador vivo, distinto de sí mismo,  y lo mata.  El juego se repite hasta que queda un único jugador, *el elegido del destino*, o bien ninguno. En principio, es perfectamente posible que el juego se juegue una única vez.\n",
    "\n",
    "1) Estima, con dos cifras decimales 'correctas',  la probabilidad de que, partiendo de  $n=100$ jugadores, haya un superviviente. Como se indicó en clase, entendemos que que son cifras decimales 'correctas' las que no cambian cuando se incrementa suficientemente el número $N$ de 'casos posibles'.\n",
    "\n",
    "2) ¿Qué probabilidad tengo, si decido jugar con otros $99$ jugadores,  de ser yo el *elegido del destino*? Modifica el programa del apartado anterior para estimar la probabilidad y explica el resultado obtenido.\n",
    "\n",
    "3) Ahora queremos estudiar la duración del juego. Para eso debemos  calcular *promedios* de la duración. Define una función *promedio(n,N)* que calcule el promedio y la desviación estándar de la duración con $n$ jugadores iniciales y $N$ repeticiones del juego. Evalúa *promedio(100,10^5)* y comenta los resultados obtenidos.\n",
    "\n",
    "4) Finalmente, estudia la variación de los promedios al variar $n$ entre $10$ y $200$ saltando de $10$ en $10$. Realiza un gráfico de los resultados y analiza la dependencia funcional (el promedio como función de $n$). En este cuarto apartado probablemente tendrás que **elegir con más cuidado un $N$** (el número de repeticiones del juego utilizadas para calcular cada promedio) **adecuado**  dadas las capacidades bastante limitadas de la máquina. "
   ]
  },
  {
   "cell_type": "code",
   "execution_count": 1,
   "metadata": {
    "collapsed": false
   },
   "outputs": [
    {
     "name": "stdout",
     "output_type": "stream",
     "text": [
      "[4, 5, 6, 8, 9, 11, 13, 15, 17, 24, 32, 34, 38, 41, 42, 44, 45, 46, 49, 51, 53, 55, 60, 61, 62, 63, 65, 66, 68, 75, 78, 84, 87, 90, 93, 97]\n"
     ]
    }
   ],
   "source": [
    "def matar(vivos):\n",
    "    if len(vivos) == 1:\n",
    "        return vivos\n",
    "    long = len(vivos)\n",
    "    muertos = []\n",
    "    for item in vivos:\n",
    "        L2 = copy(vivos)\n",
    "        L2.remove(item)\n",
    "        n = randint(0,long-2)\n",
    "        muertos.append(L2[n])\n",
    "    sobreviven = list(set(vivos)-set(muertos))\n",
    "    return sobreviven\n",
    "\n",
    "print matar(srange(100))\n"
   ]
  },
  {
   "cell_type": "code",
   "execution_count": 2,
   "metadata": {
    "collapsed": false
   },
   "outputs": [
    {
     "name": "stdout",
     "output_type": "stream",
     "text": [
      "CPU times: user 1min 54s, sys: 748 ms, total: 1min 54s\n",
      "Wall time: 1min 54s\n",
      "[0.544000000000000, 0.513200000000000, 0.518960000000000]\n"
     ]
    }
   ],
   "source": [
    "def probabilidad(n,N):\n",
    "    favorables = 0\n",
    "    for muda in xsrange(N):\n",
    "        vivos = srange(n)\n",
    "        sobreviven = copy(vivos)\n",
    "        while len(sobreviven) > 1:\n",
    "            sobreviven = matar(sobreviven)\n",
    "        if len(sobreviven) == 1:\n",
    "            favorables += 1\n",
    "    return (favorables/N).n()\n",
    "\n",
    "%time L = [probabilidad(100,10^k) for k in srange(3,6)]\n",
    "print L"
   ]
  },
  {
   "cell_type": "markdown",
   "metadata": {},
   "source": [
    "Debemos considerar que las dos primeras cifras decimales, que ya obtenemos con $10^4$ iteraciones son correctas porque se mantienen al pasar a $10^5$ iteraciones."
   ]
  },
  {
   "cell_type": "code",
   "execution_count": 3,
   "metadata": {
    "collapsed": false
   },
   "outputs": [
    {
     "name": "stdout",
     "output_type": "stream",
     "text": [
      "CPU times: user 1min 52s, sys: 532 ms, total: 1min 52s\n",
      "Wall time: 1min 52s\n",
      "[0.00500000000000000, 0.00540000000000000, 0.00471000000000000]\n"
     ]
    }
   ],
   "source": [
    "def probabilidad2(n,N):\n",
    "    favorables = 0\n",
    "    for muda in xsrange(N):\n",
    "        vivos = srange(n)\n",
    "        sobreviven = copy(vivos)\n",
    "        while len(sobreviven) > 1:\n",
    "            sobreviven = matar(sobreviven)\n",
    "        if len(sobreviven) == 1 and sobreviven == [0]:\n",
    "            favorables += 1\n",
    "    return (favorables/N).n()\n",
    "\n",
    "%time L1 = [probabilidad2(100,10^k) for k in srange(3,6)]\n",
    "print L1"
   ]
  },
  {
   "cell_type": "markdown",
   "metadata": {},
   "source": [
    "La probabilidad obtenida, del orden de $0.005$ es la centésima parte de la obtenida en el apartado anterior. Es lo esperable porque no hay nada en el problema que me distinga de los otros $99$ jugadores, de forma que la probabilidad de que sobreviva alguno se debería  repartir equitativamente entre los $100$ jugadores. "
   ]
  },
  {
   "cell_type": "code",
   "execution_count": 4,
   "metadata": {
    "collapsed": false
   },
   "outputs": [
    {
     "name": "stdout",
     "output_type": "stream",
     "text": [
      "CPU times: user 1min 44s, sys: 452 ms, total: 1min 44s\n",
      "Wall time: 1min 44s\n",
      "(4.43459000000000, 0.514183017749281)\n"
     ]
    }
   ],
   "source": [
    "def promedio(n,N):\n",
    "    L = []\n",
    "    for muda in xsrange(N):\n",
    "        jugadas = 0\n",
    "        vivos = srange(n)\n",
    "        sobreviven = copy(vivos)\n",
    "        while len(sobreviven) > 1:\n",
    "            jugadas += 1\n",
    "            sobreviven = matar(sobreviven)\n",
    "        L.append(jugadas)\n",
    "    return (sum(L)/N).n(),sage.stats.basic_stats.std(L).n()\n",
    "\n",
    "%time P = promedio(100,10^5)\n",
    "print P"
   ]
  },
  {
   "cell_type": "markdown",
   "metadata": {},
   "source": [
    "La desviación estándar es bastante baja, y debemos esperar que el número de jugadas sea casi siempre menor a $6$."
   ]
  },
  {
   "cell_type": "code",
   "execution_count": 5,
   "metadata": {
    "collapsed": true
   },
   "outputs": [],
   "source": [
    "def promedios(n,N):\n",
    "    L = []\n",
    "    for int in srange(10,n,10):\n",
    "        L.append((int,promedio(int,N)[0]))\n",
    "    return L"
   ]
  },
  {
   "cell_type": "code",
   "execution_count": 6,
   "metadata": {
    "collapsed": false
   },
   "outputs": [
    {
     "name": "stdout",
     "output_type": "stream",
     "text": [
      "CPU times: user 20.1 s, sys: 172 ms, total: 20.2 s\n",
      "Wall time: 20.1 s\n"
     ]
    }
   ],
   "source": [
    "%time L2 = promedios(200,10**3)"
   ]
  },
  {
   "cell_type": "code",
   "execution_count": 7,
   "metadata": {
    "collapsed": false
   },
   "outputs": [
    {
     "data": {
      "image/png": "[encoded data removed]",
      "text/plain": [
       "Graphics object consisting of 1 graphics primitive"
      ]
     },
     "execution_count": 7,
     "metadata": {},
     "output_type": "execute_result"
    }
   ],
   "source": [
    "points(L2)"
   ]
  },
  {
   "cell_type": "code",
   "execution_count": 8,
   "metadata": {
    "collapsed": false
   },
   "outputs": [
    {
     "name": "stdout",
     "output_type": "stream",
     "text": [
      "CPU times: user 2min 49s, sys: 1.32 s, total: 2min 50s\n",
      "Wall time: 2min 49s\n"
     ]
    }
   ],
   "source": [
    "%time L3 = promedios(500,10**3)"
   ]
  },
  {
   "cell_type": "code",
   "execution_count": 9,
   "metadata": {
    "collapsed": false
   },
   "outputs": [
    {
     "data": {
      "image/png": "[encoded data removed]",
      "text/plain": [
       "Graphics object consisting of 1 graphics primitive"
      ]
     },
     "execution_count": 9,
     "metadata": {},
     "output_type": "execute_result"
    }
   ],
   "source": [
    "points(L3)"
   ]
  },
  {
   "cell_type": "code",
   "execution_count": 10,
   "metadata": {
    "collapsed": true
   },
   "outputs": [],
   "source": [
    "var('A B'); model(x)=A*x^(B)"
   ]
  },
  {
   "cell_type": "code",
   "execution_count": 11,
   "metadata": {
    "collapsed": false
   },
   "outputs": [
    {
     "name": "stdout",
     "output_type": "stream",
     "text": [
      "{A: 1.6130102902552235, B: 0.21582369215357156}\n"
     ]
    }
   ],
   "source": [
    "diccionario = find_fit(L3,model,solution_dict=True); print diccionario"
   ]
  },
  {
   "cell_type": "code",
   "execution_count": 12,
   "metadata": {
    "collapsed": false
   },
   "outputs": [
    {
     "data": {
      "image/png": "[encoded data removed]",
      "text/plain": [
       "Graphics object consisting of 2 graphics primitives"
      ]
     },
     "execution_count": 12,
     "metadata": {},
     "output_type": "execute_result"
    }
   ],
   "source": [
    "points(L3)+plot(diccionario[A]*x^(diccionario[B]),x,0,500)"
   ]
  },
  {
   "cell_type": "code",
   "execution_count": 13,
   "metadata": {
    "collapsed": false
   },
   "outputs": [],
   "source": [
    "var('C D'); model2(x)=C+D*log(x)"
   ]
  },
  {
   "cell_type": "code",
   "execution_count": 14,
   "metadata": {
    "collapsed": false
   },
   "outputs": [
    {
     "name": "stdout",
     "output_type": "stream",
     "text": [
      "{C: -0.12150578157342573, D: 0.992751805764356}\n"
     ]
    }
   ],
   "source": [
    "diccionario2 = find_fit(L3,model2,solution_dict=True); print diccionario2"
   ]
  },
  {
   "cell_type": "code",
   "execution_count": 15,
   "metadata": {
    "collapsed": false
   },
   "outputs": [
    {
     "data": {
      "image/png": "[encoded data removed]",
      "text/plain": [
       "Graphics object consisting of 2 graphics primitives"
      ]
     },
     "execution_count": 15,
     "metadata": {},
     "output_type": "execute_result"
    }
   ],
   "source": [
    "points(L3)+plot(diccionario2[C]+diccionario2[D]*log(x),x,0,500)"
   ]
  },
  {
   "cell_type": "markdown",
   "metadata": {},
   "source": [
    "Aunque el primer modelo no es muy malo, parece claro que es mejor el segundo."
   ]
  },
  {
   "cell_type": "markdown",
   "metadata": {},
   "source": [
    "## Ejercicio 2\n",
    "\n",
    "Hemos visto que es posible estimar el área de un disco unidad *lanzando dardos al cuadrado unidad y contando los que caen dentro del disco*. El mismo procedimiento permite, en principio,  estimar el volumen de la hiperesfera $\\mathbb{B}_n$  de radio $1$ en $\\mathbb{R}^n$ (i.e. el conjunto de puntos de coordenadas $(x_1,x_2,\\dots,x_n)\\in \\mathbb{R}^n$ tales que $x_1^2+x_2^2+\\dots+x_n^2\\le 1$), pero los volúmenes que vamos obteniendo al incrementar $n$ son cada vez más pequeños y bastante pronto obtenemos cero como respuesta. \n",
    "\n",
    "Ésto se debe a que, cuando $n$ es grande, muy pocos dardos caen dentro de la hiperesfera debido a que ocupa muy poco volumen con respecto al volumen, $2^n$,  del hipercubo unidad $[-1,1]^n$. En este ejercicio vemos una manera distinta de *lanzar dardos*, que nos va a asegurar que suficientes caen dentro de la hiperesfera. Denotemos por $V(n)$ el volumen de $\\mathbb{B}_n$, que es lo que  queremos calcular. \n",
    "\n",
    "### Descripción del método\n",
    "\n",
    "1) El *truco básico* consiste en considerar la hiperesfera de dimensión $n$  dentro del hipercilindro $\\mathbb{C}_n:=\\mathbb{B}_{n-1}\\times [-1,1]$, en lugar de dentro del hipercubo $[-1,1]^n$.  El volumen del hipercilindro es, gracias al teorema de Fubini del cálculo integral, igual al volumen de $\\mathbb{B}_{n-1}$ multiplicado por dos. \n",
    "\n",
    "2) En segundo lugar  observamos que para  obtener puntos aleatorios en el hipercilindro $\\mathbb{C}_n$ basta generar puntos aleatorios $(x_1,x_2,\\dots,x_{n-1})\\in \\mathbb{B}_{n-1}$ en la hiperesfera de dimensión $n-1$ y para cada uno producir un real aleatorio $x_n$ en el intervalo $[-1,1]$. \n",
    "\n",
    "3) Para que esto funcione debemos encontrar una **manera eficiente** de generar puntos aleatorios en la hiperesfera $\\mathbb{B}_{n-1}$,  y el método que vamos a usar se llama de  *cadena de Markov* (una especie de *paseo aleatorio generalizado*):\n",
    "\n",
    "A) El primer punto de la cadena $\\mathbf{x}_0$ es, por ejemplo,  el origen de coordenadas.\n",
    "    \n",
    "B) Para cada punto $\\mathbf{x}_t=(x_1,x_2,\\dots,x_{n-1})\\in \\mathbb{B}_{n-1}$  obtenemos un nuevo punto $\\mathbf{x}_{t+1}$ eligiendo una coordenada al azar, supongamos que hemos obtenido $x_i$,  y un real aleatorio $\\Delta$ en el  intervalo $[-\\delta,\\delta]$. Entonces, cambiamos $x_i$ por $x_i+\\Delta$ en $\\mathbf{x}$ y si todavía estamos dentro de la hiperesfera ese es el nuevo punto $\\mathbf{x}_{t+1}$ en la cadena. Si al hacer el cambio nos vamos fuera de la hiperesfera dejamos $\\mathbf{x}_{t+1}:=\\mathbf{x}_{t}$. \n",
    "\n",
    "C) La cadena $\\{\\mathbf{x}_0,\\mathbf{x}_1,\\dots,\\mathbf{x}_t,\\dots,\\mathbf{x}_N\\}$ es entonces un conjunto de $N+1$ puntos, todos en la hiperesfera $\\mathbb{B}_{n-1}$, y se puede demostrar que, para $N$ suficientemente grande,  están uniformemente distribuidos en la hiperesfera. \n",
    "\n",
    "4) Después de estos preparativos podemos ya plantear el cálculo del volumen  $V(n)$ de la hiperesfera $\\mathbb{B}_n$: \n",
    "\n",
    "Generamos un número muy grande $N$ de puntos en la hiperesfera de dimensión $n-1$, usando el apartado 3),  y para cada uno de ellos vamos calculando un punto en el hipercilindro, como en el apartado 2). Si el punto obtenido en el hipercilindro cae dentro de la hiperesfera  de dimensión $n$, $\\mathbb{B}_n$,  incrementamos un contador, al que por ejemplo hemos llamado *dentro*. \n",
    "\n",
    "La fracción $dentro/N$, calculada después de haber generado $N$ puntos del hipercilindro,   es aproximadamente igual al cociente de volúmenes $V(n)/(2V(n-1))$ (volumen de la hiperesfera dividido por volumen del hipercilindro). \n",
    "\n",
    "Entonces, podemos reducir el cálculo  de $V(n)$ al de $V(n-1)$, el de $V(n-1)$ al de $V(n-2)$, etc., hasta llegar al volumen de la hiperesfera en dimensión $1$ que es igual a dos. \n",
    "\n",
    "\n",
    "\n",
    "### Ejercicios\n",
    "\n",
    "2.1) Define las funciones necesarias para implementar esta forma, *Monte Carlo con cadenas de Markov*,  de calcular $V(n).$\n",
    "\n",
    "2.2) El volumen exacto de una hiperesfera se puede calcular mediante integrales, y se obtiene una fórmula que se indica en la celda siguiente:\n"
   ]
  },
  {
   "cell_type": "code",
   "execution_count": 1,
   "metadata": {
    "collapsed": false
   },
   "outputs": [],
   "source": [
    "def Vol_exacto(dim):\n",
    "    return (pi**(dim/2.0)/gamma(dim/2.0+1.0)).n()"
   ]
  },
  {
   "cell_type": "code",
   "execution_count": 2,
   "metadata": {
    "collapsed": false
   },
   "outputs": [
    {
     "name": "stdout",
     "output_type": "stream",
     "text": [
      "2.00000000000000\n",
      "3.14159265358979\n",
      "4.18879020478639\n",
      "2.36820210188283e-40\n"
     ]
    }
   ],
   "source": [
    "print Vol_exacto(1);print Vol_exacto(2); print Vol_exacto(3); print Vol_exacto(100)"
   ]
  },
  {
   "cell_type": "markdown",
   "metadata": {},
   "source": [
    "¿Para qué queremos estimar esos mismos volúmenes mediante Monte Carlo? Los resultados exactos sirven como control de las estimaciones, y,  en particular,  permiten ajustar de forma óptima los parámetros $N$ y $\\delta$. \n",
    "\n",
    "El parámetro $N$ debe ser suficientemente grande para obtener una precisión aceptable, pero no tan grande que tengamos que esperar una eternidad por el resultado, y el parámetro $\\delta$, un real que podemos esperar que esté entre cero y uno,  no puede ser muy pequeño,  porque entonces todos los puntos de la cadena están muy próximos entre sí y no rellenan bien la hiperesfera, ni muy grande porque entonces la cadena repite muchas veces sus valores. \n",
    "\n",
    "Queremos elegir los parámetros, $N$ y $\\delta$,  para calcular,  mediante Monte Carlo,  el volumen de la hiperesfera de dimensión $50$  de forma que al menos sea correcta la primera cifra decimal no nula (por supuesto, cuantas más cifras correctas obtengamos mejor). Tomamos $N=10^5$ y elegimos un $\\delta$ óptimo, dentro del intervalo $(0,1)$,   mediante experimentos adecuados. \n",
    "\n"
   ]
  },
  {
   "cell_type": "code",
   "execution_count": 3,
   "metadata": {
    "collapsed": false
   },
   "outputs": [
    {
     "name": "stdout",
     "output_type": "stream",
     "text": [
      "CPU times: user 3.05 s, sys: 68 ms, total: 3.12 s\n",
      "Wall time: 3.04 s\n",
      "0.123980000000000\n"
     ]
    }
   ],
   "source": [
    "def Q_d(dim,N,delta):\n",
    "    dentro = 0\n",
    "    L = [0]*(dim-1)\n",
    "    r = 0\n",
    "    for j in xsrange(N):\n",
    "        k = randint(0,dim-2)\n",
    "        x_original = L[k]\n",
    "        x_nueva = x_original+2*delta*random()-delta\n",
    "        if abs(x_nueva)<1 :\n",
    "            radio_nuevo = r+x_nueva**2-x_original**2\n",
    "            if radio_nuevo<1:\n",
    "                    L[k] = x_nueva\n",
    "                    r = radio_nuevo\n",
    "        t = 2*random()-1\n",
    "        if r+t**2<1:\n",
    "            dentro += 1\n",
    "    return (dentro/N).n()\n",
    "\n",
    "%time Q = Q_d(100,10**5,0.3)\n",
    "print Q"
   ]
  },
  {
   "cell_type": "code",
   "execution_count": 4,
   "metadata": {
    "collapsed": true
   },
   "outputs": [],
   "source": [
    "def vol_d(dim,N,delta):\n",
    "    vol = 2 \n",
    "    for m in srange(2,dim+1):\n",
    "        Q = 2*Q_d(m,N,delta)\n",
    "        vol *= Q\n",
    "    return vol\n"
   ]
  },
  {
   "cell_type": "code",
   "execution_count": 5,
   "metadata": {
    "collapsed": false
   },
   "outputs": [
    {
     "name": "stdout",
     "output_type": "stream",
     "text": [
      "CPU times: user 2.94 s, sys: 192 ms, total: 3.14 s\n",
      "Wall time: 2.94 s\n",
      "3.14820000000000\n"
     ]
    }
   ],
   "source": [
    "%time V1 = vol_d(2,10^5,0.3)\n",
    "print V1"
   ]
  },
  {
   "cell_type": "code",
   "execution_count": 6,
   "metadata": {
    "collapsed": false
   },
   "outputs": [
    {
     "name": "stdout",
     "output_type": "stream",
     "text": [
      "CPU times: user 44.3 s, sys: 636 ms, total: 44.9 s\n",
      "Wall time: 44.3 s\n",
      "[0.0493259552136092, 0.0527224536136091, -0.0329712071863915, 0.0178240720136085, 0.0200514768136086, 0.00537714401360834, -0.00351814878639178, -0.0243911831863919]\n"
     ]
    }
   ],
   "source": [
    "%time L4=[vol_d(3,10^5,0.1*k)-Vol_exacto(3) for k in srange(1,9)]\n",
    "print L4"
   ]
  },
  {
   "cell_type": "code",
   "execution_count": 7,
   "metadata": {
    "collapsed": false
   },
   "outputs": [
    {
     "name": "stdout",
     "output_type": "stream",
     "text": [
      "CPU times: user 3min 19s, sys: 2.31 s, total: 3min 21s\n",
      "Wall time: 3min 19s\n",
      "[-0.00341646412148799, 0.0275678534926831, -0.0396129263678873, 0.0142789624172353, -0.00547400984151336, -0.0276043266061099, 0.0305001005562033, -0.0388503461844008]\n"
     ]
    }
   ],
   "source": [
    "%time L5 = [vol_d(10,10^5,0.1*k)-Vol_exacto(10) for k in srange(1,9)]\n",
    "print L5"
   ]
  },
  {
   "cell_type": "markdown",
   "metadata": {},
   "source": [
    "Parece que el delta óptimo puede ser $\\delta=0.1$ o quizá $\\delta=0.5$, pero hagamos una prueba más:"
   ]
  },
  {
   "cell_type": "code",
   "execution_count": 8,
   "metadata": {
    "collapsed": false
   },
   "outputs": [
    {
     "name": "stdout",
     "output_type": "stream",
     "text": [
      "CPU times: user 30 s, sys: 412 ms, total: 30.4 s\n",
      "Wall time: 30 s\n",
      "[(0.00139714239327815, 8), (0.00211714239327815, 9), (0.00274285760672183, 4), (0.00310285760672185, 7), (0.00365714239327813, 3), (0.00406285760672181, 1), (0.00448285760672185, 6), (0.00521714239327814, 5), (0.00679714239327817, 2)]\n"
     ]
    }
   ],
   "source": [
    "%time L6 = [(abs(2*Q_d(50,10^5,0.1*k)-(Vol_exacto(50)/Vol_exacto(49))),k) for k in srange(1,10)]\n",
    "L6.sort()\n",
    "print L6"
   ]
  },
  {
   "cell_type": "code",
   "execution_count": 9,
   "metadata": {
    "collapsed": false
   },
   "outputs": [
    {
     "name": "stdout",
     "output_type": "stream",
     "text": [
      "CPU times: user 4min 17s, sys: 2.75 s, total: 4min 20s\n",
      "Wall time: 4min 18s\n",
      "[(0.0000508576067218547, 8), (0.0000971423932781823, 3), (0.000145142393278175, 5), (0.000148857606721842, 7), (0.000364857606721836, 4), (0.000425142393278177, 6), (0.000821142393278185, 9), (0.00124114239327816, 1), (0.00152314239327817, 2)]\n"
     ]
    }
   ],
   "source": [
    "%time L7 = [(abs(2*Q_d(50,10^6,0.1*k)-(Vol_exacto(50)/Vol_exacto(49))),k) for k in srange(1,10)]\n",
    "L7.sort()\n",
    "print L7"
   ]
  },
  {
   "cell_type": "markdown",
   "metadata": {},
   "source": [
    "En los dos casos hemos obtenido  $\\delta=0.8$ como óptimo, pero para asegurarnos deberíamos repetir estos cálculos más veces. Probamos a calcular el volumen usando $N=10^5$ y $\\delta=0.8$."
   ]
  },
  {
   "cell_type": "code",
   "execution_count": 12,
   "metadata": {
    "collapsed": false
   },
   "outputs": [
    {
     "name": "stdout",
     "output_type": "stream",
     "text": [
      "CPU times: user 2min 13s, sys: 1.3 s, total: 2min 14s\n",
      "Wall time: 2min 13s\n",
      "1.73476593458007e-13\n"
     ]
    }
   ],
   "source": [
    "%time V2 = vol_d(50,10^5,0.8)\n",
    "print V2"
   ]
  },
  {
   "cell_type": "code",
   "execution_count": 11,
   "metadata": {
    "collapsed": false
   },
   "outputs": [
    {
     "data": {
      "text/plain": [
       "1.73021924583611e-13"
      ]
     },
     "execution_count": 11,
     "metadata": {},
     "output_type": "execute_result"
    }
   ],
   "source": [
    "Vol_exacto(50)"
   ]
  },
  {
   "cell_type": "code",
   "execution_count": null,
   "metadata": {
    "collapsed": true
   },
   "outputs": [],
   "source": []
  }
 ],
 "metadata": {
  "kernelspec": {
   "display_name": "SageMath 7.3",
   "language": "",
   "name": "sagemath"
  },
  "language_info": {
   "codemirror_mode": {
    "name": "ipython",
    "version": 2
   },
   "file_extension": ".py",
   "mimetype": "text/x-python",
   "name": "python",
   "nbconvert_exporter": "python",
   "pygments_lexer": "ipython2",
   "version": "2.7.13"
  }
 },
 "nbformat": 4,
 "nbformat_minor": 0
}
