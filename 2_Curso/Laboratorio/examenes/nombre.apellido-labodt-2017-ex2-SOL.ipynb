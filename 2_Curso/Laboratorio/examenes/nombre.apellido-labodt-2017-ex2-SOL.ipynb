{
 "cells": [
  {
   "cell_type": "markdown",
   "metadata": {},
   "source": [
    "1) Antes que nada, lee cuidadosamente estas instrucciones y las que aparecen en la hoja con la contraseña. .\n",
    "\n",
    "2) Cambia el nombre de este archivo sustituyendo \"nombre.apellido\" por los tuyos, tal como aparecen en tu dirección de correo electrónico de la UAM.\n",
    "\n",
    "3) Este archivo debe quedar en la carpeta \"ENTREGA...\" que está en el escritorio de tu cuenta de examen. Lo mejor es que esté en esa carpeta desde el comienzo del examen.\n",
    "\n",
    "4) El examen resuelto debe quedar en este único archivo. No se puede usar un archivo para cada pregunta.\n",
    "\n",
    "5) Recuerda que hay que deshabilitar el salvapantallas al comenzar el examen, tal como está indicado en la hoja con la contraseña. \n",
    "\n",
    "\n",
    "CALIFICACIÓN:\n"
   ]
  },
  {
   "cell_type": "code",
   "execution_count": null,
   "metadata": {
    "collapsed": true
   },
   "outputs": [],
   "source": []
  },
  {
   "cell_type": "markdown",
   "metadata": {},
   "source": [
    "COMENTARIOS:\n",
    "\n",
    "1)"
   ]
  },
  {
   "cell_type": "markdown",
   "metadata": {},
   "source": [
    "## Ejercicio 1\n",
    "\n",
    "Podemos estimar el valor de $\\alpha(x):=\\sqrt{1+x}$ como $\\beta(x):=1+(x/2)$ cuando $x$ es,  en valor absoluto,  suficientement próximo a cero. Consideramos que la estimación *es aceptable* cuando  el error relativo $$E(x):=\\frac{abs(\\alpha(x)-\\beta(x))}{\\alpha(x)}$$ que cometemos es menor que $0.01$. \n",
    "\n",
    "1) Determina, experimentalmente,  una cota $\\vert x\\vert < A$ tal que la estimación es aceptable para los $x$ que la cumplen, y deja de serlo para $\\vert x\\vert \\ge A$. \n",
    "\n",
    "2) ¿Qué podemos hacer para mejorar la estimación? Postula una nueva estimación $\\beta_1(x)$ y demuestra que con ella se obtienen resultados bastante más precisos."
   ]
  },
  {
   "cell_type": "code",
   "execution_count": 1,
   "metadata": {
    "collapsed": true
   },
   "outputs": [],
   "source": [
    "def aprox(x,precis):\n",
    "    NR = RealField(prec=precis)\n",
    "    return NR(1+(x/2))"
   ]
  },
  {
   "cell_type": "code",
   "execution_count": 2,
   "metadata": {
    "collapsed": true
   },
   "outputs": [],
   "source": [
    "def raiz(x,precis):\n",
    "    NR = RealField(prec=precis)\n",
    "    return(NR(sqrt(1+x)))"
   ]
  },
  {
   "cell_type": "code",
   "execution_count": 3,
   "metadata": {
    "collapsed": true
   },
   "outputs": [],
   "source": [
    "def error(x,y):\n",
    "    return abs(x-y)/x"
   ]
  },
  {
   "cell_type": "code",
   "execution_count": 13,
   "metadata": {
    "collapsed": false
   },
   "outputs": [
    {
     "name": "stdout",
     "output_type": "stream",
     "text": [
      "[(-24, 0.00942922903047183), (-23, 0.00855110166779582), (-22, 0.00772656038869023), (-21, 0.00695367132879138), (-20, 0.00623058987490541), (-19, 0.00555555555555556), (-18, 0.00492688728110351), (-17, 0.00434297890566669), (-16, 0.00380229508556501), (-15, 0.00330336741128482), (-14, 0.00284479079197723), (-13, 0.00242522007333828), (-12, 0.00204336687136895), (-11, 0.00169799660601015), (-10, 0.00138792571998677), (-9, 0.00111201906943192), (-8, 0.000869187473958797), (-7, 0.000658385414860405), (-6, 0.000478608871029625), (-5, 0.000328893283025279), (-4, 0.000208311636464415), (-3, 0.000115972656614735), (-2, 0.0000510191066885868), (-1, 0.0000126261829160001), (0, 0.000000000000000), (1, 0.0000123761610390518), (2, 0.0000490184064410268), (3, 0.000109217336757443), (4, 0.000192289204738516), (5, 0.000297574772246332), (6, 0.000424438227982171), (7, 0.000572266162261745), (8, 0.000740466595351246), (9, 0.000928468056103090), (10, 0.00113571870787189), (11, 0.00136168551888643), (12, 0.00160585347445211), (13, 0.00186772482853118), (14, 0.00214681839241260), (15, 0.00244266885833722), (16, 0.00275482615608018), (17, 0.00308285484062276), (18, 0.00342633350917265), (19, 0.00378485424589132), (20, 0.00415802209280469), (21, 0.00454545454545445), (22, 0.00494678107195579), (23, 0.00536164265418707), (24, 0.00578969134993949), (25, 0.00623058987490531), (26, 0.00668401120346506), (27, 0.00714963818728921), (28, 0.00762716319083034), (29, 0.00811628774283937), (30, 0.00861672220308345), (31, 0.00912818544349884), (32, 0.00965040454304744)]\n"
     ]
    }
   ],
   "source": [
    "print [(k,error(raiz(0.01*k,53),aprox(0.01*k,53))) for k in srange(-100,100) if error(raiz(0.01*k,53),aprox(0.01*k,53))<0.01]"
   ]
  },
  {
   "cell_type": "markdown",
   "metadata": {},
   "source": [
    "La precisión no afecta al resultado, no era necesario usar precisión arbitraria, y esto parece indicar que el $A$ buscado es del orden de $0.01*24=0.24$. Se podrían obtener resultados más finos usando $0.001$ en lugar de $0.01$ comop separación entre los $x$ probados. \n",
    "\n",
    "Para mejorar la estimación basta observar que $\\beta(x)$ es el desarrollo de Taylor de primer orden en $x=0$ de $\\alpha(x)$, y entonces pasar al segundo orden.\n"
   ]
  },
  {
   "cell_type": "code",
   "execution_count": 14,
   "metadata": {
    "collapsed": false
   },
   "outputs": [
    {
     "data": {
      "text/plain": [
       "-1/8*x^2 + 1/2*x + 1"
      ]
     },
     "execution_count": 14,
     "metadata": {},
     "output_type": "execute_result"
    }
   ],
   "source": [
    "taylor(sqrt(1+x),x,0,2)"
   ]
  },
  {
   "cell_type": "code",
   "execution_count": 15,
   "metadata": {
    "collapsed": true
   },
   "outputs": [],
   "source": [
    "def aprox2(x,precis):\n",
    "    NR = RealField(prec=precis)\n",
    "    return NR(1+(x/2)-(x**2/8))"
   ]
  },
  {
   "cell_type": "code",
   "execution_count": 16,
   "metadata": {
    "collapsed": false
   },
   "outputs": [
    {
     "name": "stdout",
     "output_type": "stream",
     "text": [
      "[(-44, 0.00998023318705171), (-43, 0.00914464619339355), (-42, 0.00836775114623932), (-41, 0.00764589737770401), (-40, 0.00697567001392839), (-39, 0.00635387166257070), (-38, 0.00577750577800868), (-37, 0.00524376152716591), (-36, 0.00475000000000003), (-35, 0.00429374162699729), (-34, 0.00387265468194809), (-33, 0.00348454476214655), (-32, 0.00312734515027320), (-31, 0.00279910797282176), (-30, 0.00249799607922264), (-29, 0.00222227557398173), (-28, 0.00197030894133780), (-27, 0.00174054870828202), (-26, 0.00153153159737509), (-25, 0.00134187312575724), (-24, 0.00117026261113163), (-23, 0.00101545854940224), (-22, 0.000876284332115430), (-21, 0.000751624274936642), (-20, 0.000640419931155935), (-19, 0.000541666666666638), (-18, 0.000454410475072229), (-17, 0.000377745013539105), (-16, 0.000310808841789155), (-15, 0.000252782848209973), (-14, 0.000202887848493037), (-13, 0.000160382343493479), (-12, 0.000124560424168427), (-11, 0.0000947498125005015), (-10, 0.0000703100282499783), (-9, 0.0000506306722510075), (-8, 0.0000351298177304744), (-7, 0.0000232525018380028), (-6, 0.0000144693102132187), (-5, 8.27504799861771e-6), (-4, 4.18749123250615e-6), (-3, 1.74621303724334e-6), (-2, 5.11479460981778e-7), (-1, 6.32102252892593e-8), (0, 0.000000000000000), (1, 6.18038385441174e-8), (2, 4.88970707911376e-7), (3, 1.63220703599998e-6), (4, 3.82693039964647e-6), (5, 7.39400055002378e-6), (6, 0.0000126404100786573), (7, 0.0000198599372786316), (8, 0.0000293337635681699), (9, 0.0000413310576834053), (10, 0.0000561095286850713), (11, 0.0000739159496892486), (12, 0.0000949866540894320), (13, 0.000119548005929133), (14, 0.000147816845962609), (15, 0.000180000914838759), (16, 0.000216299254752734), (17, 0.000256902590816659), (18, 0.000301993693315664), (19, 0.000351747721948409), (20, 0.000406332553071593), (21, 0.000465909090909216), (22, 0.000530631563616483), (23, 0.000600647805051247), (24, 0.000676099523024489), (25, 0.000757122554781528), (26, 0.000843847110401618), (27, 0.000936398004765194), (28, 0.00103489487870489), (29, 0.00113945240990869), (30, 0.00125018051412061), (31, 0.00136718453714186), (32, 0.00149056543811716), (33, 0.00162041996454735), (34, 0.00175684081945953), (35, 0.00189991682113032), (36, 0.00204973305574102), (37, 0.00220637102331634), (38, 0.00236990877728458), (39, 0.00254042105797526), (40, 0.00271797942035047), (41, 0.00290265235625488), (42, 0.00309450541144804), (43, 0.00329360129767367), (44, 0.00349999999999998), (45, 0.00371375887966336), (46, 0.00393493277262020), (47, 0.00416357408401532), (48, 0.00439973287875612), (49, 0.00464345696837223), (50, 0.00489479199433381), (51, 0.00515378150799228), (52, 0.00542046704729492), (53, 0.00569488821042349), (54, 0.00597708272649226), (55, 0.00626708652343973), (56, 0.00656493379323934), (57, 0.00687065705454663), (58, 0.00718428721289767), (59, 0.00750585361856411), (60, 0.00783538412217092), (61, 0.00817290512816976), (62, 0.00851844164626246), (63, 0.00887201734086371), (64, 0.00923365457868305), (65, 0.00960337447451247), (66, 0.00998119693528720)]\n"
     ]
    }
   ],
   "source": [
    "print [(k,error(raiz(0.01*k,53),aprox2(0.01*k,53))) for k in srange(-100,100) if error(raiz(0.01*k,53),aprox2(0.01*k,53))<0.01]"
   ]
  },
  {
   "cell_type": "markdown",
   "metadata": {},
   "source": [
    "## Ejercicio 2\n",
    "\n",
    "John Napier publicó su invención de los logaritmos en 1614, mucho antes de la invención del cálculo diferencial. El punto esencial para que los logaritmos fueran útiles era la existencia de *tablas de logaritmos* en las que uno encontraba los logaritmos de los factores, que sumaba a mano, y volvía a usar para encontrar el número cuyo logaritmo era la suma obtenida, es decir,  el producto de los números de partida. \n",
    "Henry Briggs colaboró con Napier para producir las primeras tablas de logaritmos mediante el siguiente procedimiento:\n",
    "\n",
    "1) Queremos calcular el logaritmo de un entero $n>1$. Calculamos $n^{1/2^K}$ para $K=1,2,3,\\dots$ hasta que el resultado difiera *muy poco* de $1$. Esto es lo mismo que iterar la extracción de raíces cuadradas hasta llegar casi a $1$. Escribimos \n",
    "$$n^{1/2^K}=1+x.$$\n",
    "\n",
    "2) Ahora tomamos logaritmos para obtener \n",
    "$$log(n)=2^Klog(1+x).$$\n",
    "\n",
    "3) Finalmente, Briggs observó que para $x$ suficientemente pequeño en valor absoluto, podía sustituir $log(1+x)$ por $x$, y quedaba $log(n)$ aproximadamente igual a  $2^Kx.$ \n",
    "\n",
    "Es claro que lo que necesitamos es saber *cómo de pequeño tiene que ser $x$ para obtener un número prefijado $k$ de cifras decimales exactas del logaritmo de $n$.*\n",
    "\n",
    "A) Define una función $buscar(n,k,precis)$ que debe efectuar el procedimiento de Briggs hasta que la estimación obtenida tenga el número $k$ de cifras correctas de $log(n)$, y en ese momento debe devolver $x$. La precisión arbitraria en los cálculos hace falta porque sin ella un cierto bucle $while$ puede hacerse infinito cuando $n$ o $k$ son *grandes*. \n",
    "\n",
    "B) Experimenta con la función del primer apartado y, como consecuencia,  enuncia y comprueba la regla que indica cómo de pequeño tiene que ser $x$ para obtener $k$ cifras correctas del logaritmo de $n$."
   ]
  },
  {
   "cell_type": "code",
   "execution_count": 26,
   "metadata": {
    "collapsed": true
   },
   "outputs": [],
   "source": [
    "def buscar(n,k,precis):\n",
    "    NR = RealField(prec=precis)\n",
    "    x = NR(log(n))\n",
    "    y = NR(sqrt(n))\n",
    "    K = 1\n",
    "    while abs(x-2^K*(y-1))>10^(-k-1):\n",
    "        y = NR(sqrt(y))\n",
    "        K +=1\n",
    "    return y-1,x,2^K*(y-1)"
   ]
  },
  {
   "cell_type": "code",
   "execution_count": 32,
   "metadata": {
    "collapsed": false
   },
   "outputs": [
    {
     "data": {
      "text/plain": [
       "(0.00004784498938254953305572878658889541899810043073681904205333013548304411975223885969260481179156892393251071734074091599202551502853212958629215664048913505930637852929163575518825822672936952649190038665727495687075539859297087836334178274088745271412520224783314903941523229726368937360502751095610251898648068617589021559415786996353026492004354444196085572216293681065608587268468063178387899883711435754722269231886836056075845259569424553550969356277415820639427408797009673808798830316332281249195203982754201147740880559050050625580625564941897301133209643736231879393925751782016441938356120420318228824445068,\n",
       " 3.135494215929149690806752831810196118442380314840435741998635377482993245984798298198401092152994814354197213571330136895858728635036337804575496957964275329850741826314718808606985956506130514549412068185053963760315120597403561855070045138079269943927302392184035755913025110337467096480630389938322126499866148762024203761283173896204942328141178079319253247724290175815110151876473257768079087667700653256303440776567054170587704747673740246607342778831185164047733718625741363041564960961214104279384491669382856958876834628810674668609304005138970007846153775929627094481984701589723193556410177404161262473764,\n",
       " 3.135569224174766198340241757889850179459509828768172740007043759016779432082725908814548945572260998841022371642796670453384152909881644567242777591095955246702823295656640852017691146935961288173183739971171573481825802188939484419967073706800101072909254513993255447116663833473146788579082958019134684297998249223141169178730165929919441799973728548346640607670226823157243752263229884588294067789126536214786363809356877709865949311418075415163277329967232214255146629208259827334401436111523839472568882137793264183463483179041177980518770240321815270660272118976924479603180687862295388721067078659754442388320)"
      ]
     },
     "execution_count": 32,
     "metadata": {},
     "output_type": "execute_result"
    }
   ],
   "source": [
    "buscar(23,3,2048)"
   ]
  },
  {
   "cell_type": "markdown",
   "metadata": {},
   "source": [
    "Parece que para obtener $k$ cifras decimales correctas hay que imponer que $x$ sea menor que $10^{-k-1}$, ya que si sólo se impone menor que $10^{-k}$ en ocasiones sólo se obtienen $k-1$ cifras decimales correctas. "
   ]
  },
  {
   "cell_type": "code",
   "execution_count": 33,
   "metadata": {
    "collapsed": true
   },
   "outputs": [],
   "source": [
    "def estimacion(n,k,precis):\n",
    "    NR = RealField(prec=precis)\n",
    "    y = NR(sqrt(n))\n",
    "    K= 1\n",
    "    x = y-1\n",
    "    while x>10^(-k-1):\n",
    "        y= NR(sqrt(y))\n",
    "        x = y-1\n",
    "        K += 1 \n",
    "    return 2^K*x"
   ]
  },
  {
   "cell_type": "code",
   "execution_count": 34,
   "metadata": {
    "collapsed": false
   },
   "outputs": [
    {
     "data": {
      "text/plain": [
       "3.135644234812885643722946323526275964123895345794215994649002701737308812465729822352234572508881220078392825083791458874876736069611405737788605479717344891991226828999209248480401433726283107070124074902565910290955052962718306031801726681081076438626677859302151579533186320272996145503811304616679944932325690842435660718622793300530188801857257291688290778771746680850000468708332764046933310292783114264405275831468478853389067985059619963458853049300417926408279576332811979733661740648521930924928312232949185659559105587395202196482489873830202078326825898532266129400982260824638175438340138965808276904700"
      ]
     },
     "execution_count": 34,
     "metadata": {},
     "output_type": "execute_result"
    }
   ],
   "source": [
    "estimacion(23,3,2048)"
   ]
  },
  {
   "cell_type": "code",
   "execution_count": 35,
   "metadata": {
    "collapsed": false
   },
   "outputs": [
    {
     "data": {
      "text/plain": [
       "3.135494215938091227876287805612887966005780073329466532528538449956483685400361011000894442174054541607399402056289122441710286536602133346731131447222057384309766803796221441951696301288632899141740984441359395947342968038685809327986554100416747493866668118287310582627969156254734306749751072426472439943020231955763483674104159974115231374467517678722122461832233661462622970389060729500509975255663052127633659501653132975980982757141090085200439595536494592925191268941209607335409259969737645424104858869532695112465625170035094408308711836975803763553190946684446569885561909191799187545266505658182526530133"
      ]
     },
     "execution_count": 35,
     "metadata": {},
     "output_type": "execute_result"
    }
   ],
   "source": [
    "estimacion(23,10,2048)"
   ]
  },
  {
   "cell_type": "markdown",
   "metadata": {},
   "source": [
    "## Ejercicio 3\n",
    "\n",
    "El método BBP que permite calcular una cifra determinada de $\\pi$, la $n$-ésima, sin calcular las anteriores se puede aplicar a algunas otras constantes. Por ejemplo, para $log(2)$ se puede usar la serie\n",
    "$$log(2)=\\sum_{k=1}^{\\infty}\\frac{1}{2^kk}.$$\n",
    "\n",
    "1) En la primera celda se reproduce el código BPP para $\\pi$, y lo primero que debes hacer es modificarlo para que funcione para $log(2)$ mediante la serie indicada. La última función, la que devuelve cifras binarias de $log(2)$, debe llamarse $cifra\\_log2(n)$. \n",
    "\n",
    "2) Modifica el código del apartado 1) para haga todos los cálculos con una precisión (en bits) arbitraria, es decir, la nueva función debe llamarse $cifra\\_log2(n,precis)$.\n",
    "\n",
    "3) Define una función $compara(C1,C2)$ que, dadas dos cadenas de caracteres,  cuente, hasta la primera discrepancia,  el número de caracteres de $C1$ que ocupan el mismo lugar en $C2$. Es decir, si el primer caracter es diferente debe devolver cero, si el primero es igual pero el segundo es diferente debe devolver uno, etc.\n",
    "\n",
    "4) Jugando con la función  $cifra\\_log2(n,precis)$ se observa que cuanto mayor es la precisión más cifras correctas de $log(2)$, a partir de la $n$-ésima,  devuelve, y que fijada la precisión el número de cifras correctas no depende mucho de $n$ y es del orden de la precisión. \n",
    "La parte final del ejercicio consiste en comprobar sistemáticamente  estas afirmaciones, para lo que debemos comparar  cadenas $C1$ generadas por $cifra\\_log2(n,precis)$ con la parte relevante de  cadenas $C2$  $$(log(2).n(prec=precis)).str(base=2,no\\_sci=2)$$\n",
    "que nos dan las cifras correctas de $log(2).$ El parámetro $no\\_sci=2$ sirve para que no se devuelva el resultado en notación científica estándar (i.e. parte entera de un único dígito, decimales,  y exponente de una potencia de $10$).\n"
   ]
  },
  {
   "cell_type": "code",
   "execution_count": null,
   "metadata": {
    "collapsed": true
   },
   "outputs": [],
   "source": [
    "####Codigo para las cifras de pi\n",
    "\n",
    "def F0(j,n):\n",
    "    S =RR(0.0)\n",
    "    k =0 \n",
    "    while k <= n:\n",
    "        r = 8*k+j\n",
    "        S += RR(power_mod(16,n-k,r)/r)-floor(RR(power_mod(16,n-k,r)/r))\n",
    "        k += 1\n",
    "    return RR(S)\n",
    "\n",
    "def F1(j,n):\n",
    "    S =RR(0.0)\n",
    "    k =n+1\n",
    "    while 1:\n",
    "        r = 8*k+j\n",
    "        nS = S+ RR(16^(n-k)/r)\n",
    "        if S == nS:\n",
    "            break\n",
    "        else:\n",
    "            S = nS\n",
    "        k += 1\n",
    "    return RR(S)\n",
    "\n",
    "def S(j,n):\n",
    "    return RR(F0(j,n)+F1(j,n))\n",
    "\n",
    "def cifra_pi(n):\n",
    "    n -= 1\n",
    "    x = (4*RR(S(1,n))-2*RR(S(4,n))-RR(S(5,n))-RR(S(6,n)))\n",
    "    return (x-floor(x)).str(base=16,no_sci=2)"
   ]
  },
  {
   "cell_type": "code",
   "execution_count": 39,
   "metadata": {
    "collapsed": true
   },
   "outputs": [],
   "source": [
    "def F0(n,precis):\n",
    "    NR = RealField(prec=precis)\n",
    "    S =NR(0.0)\n",
    "    k = 1 \n",
    "    while k <= n:\n",
    "        S += NR(power_mod(2,n-k,k)/k)-floor(NR(power_mod(2,n-k,k)/k))\n",
    "        k += 1\n",
    "    return NR(S)\n",
    "\n",
    "def F1(n,precis):\n",
    "    NR = RealField(prec=precis)\n",
    "    S =NR(0.0)\n",
    "    k =n+1\n",
    "    while 1:\n",
    "        nS = S+ NR(2^(n-k)/k)\n",
    "        if S == nS:\n",
    "            break\n",
    "        else:\n",
    "            S = nS\n",
    "        k += 1\n",
    "    return NR(S)\n",
    "\n",
    "def S(n,precis):\n",
    "    NR = RealField(prec=precis)\n",
    "    return NR(F0(n,precis)+F1(n,precis))\n",
    "\n",
    "def cifra_log2(n,precis):\n",
    "    NR = RealField(prec=precis,sci_not=False)\n",
    "    n -= 1\n",
    "    x = NR(S(n,precis))\n",
    "    return (x-(floor(x))).str(base=2,no_sci=2)"
   ]
  },
  {
   "cell_type": "code",
   "execution_count": 40,
   "metadata": {
    "collapsed": true
   },
   "outputs": [],
   "source": [
    "def compara(C1,C2):\n",
    "    k = 0\n",
    "    l = len(C1)\n",
    "    for j in xsrange(l):\n",
    "        if C2[j]==C1[j]:\n",
    "            k += 1\n",
    "        else:\n",
    "            break\n",
    "    return k"
   ]
  },
  {
   "cell_type": "code",
   "execution_count": 42,
   "metadata": {
    "collapsed": false
   },
   "outputs": [
    {
     "data": {
      "text/plain": [
       "2035"
      ]
     },
     "execution_count": 42,
     "metadata": {},
     "output_type": "execute_result"
    }
   ],
   "source": [
    "C1 = cifra_log2(1000,2048); C2 = (log(2).n(prec=3048)).str(base=2); compara(C1[2:],C2[1001:])"
   ]
  },
  {
   "cell_type": "code",
   "execution_count": 43,
   "metadata": {
    "collapsed": true
   },
   "outputs": [],
   "source": [
    "def primera():\n",
    "    for k in srange(3,10):\n",
    "        precis= 2**k\n",
    "        C1 = cifra_log2(1000,precis)\n",
    "        C2 = (log(2).n(prec=1000+precis)).str(base=2,no_sci=2)\n",
    "        print compara(C1[2:],C2[1001:])"
   ]
  },
  {
   "cell_type": "code",
   "execution_count": 44,
   "metadata": {
    "collapsed": false
   },
   "outputs": [
    {
     "name": "stdout",
     "output_type": "stream",
     "text": [
      "0\n",
      "6\n",
      "23\n",
      "51\n",
      "116\n",
      "243\n",
      "495\n"
     ]
    }
   ],
   "source": [
    "primera()"
   ]
  },
  {
   "cell_type": "code",
   "execution_count": 49,
   "metadata": {
    "collapsed": true
   },
   "outputs": [],
   "source": [
    "def segunda():\n",
    "    L = []\n",
    "    for j in srange(1,30):\n",
    "        C1 = cifra_log2(1000*j,1024)\n",
    "        C2 = (log(2).n(prec=1024+1000*j)).str(base=2);\n",
    "        c = compara(C1[2:],C2[1000*j+1:])\n",
    "        #print j,c\n",
    "        L.append(c)\n",
    "    return L"
   ]
  },
  {
   "cell_type": "code",
   "execution_count": 50,
   "metadata": {
    "collapsed": false
   },
   "outputs": [
    {
     "name": "stdout",
     "output_type": "stream",
     "text": [
      "[1014, 1007, 1009, 1007, 1001, 1006, 1007, 1004, 1007, 1008, 1006, 1004, 999, 1004, 1004, 1006, 1005, 1004, 1009, 1002, 998, 1003, 1005, 1003, 1004, 1007, 1004, 1003, 1003]\n"
     ]
    }
   ],
   "source": [
    "print segunda()"
   ]
  },
  {
   "cell_type": "markdown",
   "metadata": {},
   "source": [
    "Estas dos últimas funciones comprueban las dos afirmaciones que se hacen en el enunciado."
   ]
  },
  {
   "cell_type": "code",
   "execution_count": null,
   "metadata": {
    "collapsed": true
   },
   "outputs": [],
   "source": []
  }
 ],
 "metadata": {
  "kernelspec": {
   "display_name": "SageMath 7.3",
   "language": "",
   "name": "sagemath"
  },
  "language_info": {
   "codemirror_mode": {
    "name": "ipython",
    "version": 2
   },
   "file_extension": ".py",
   "mimetype": "text/x-python",
   "name": "python",
   "nbconvert_exporter": "python",
   "pygments_lexer": "ipython2",
   "version": "2.7.10"
  }
 },
 "nbformat": 4,
 "nbformat_minor": 0
}
