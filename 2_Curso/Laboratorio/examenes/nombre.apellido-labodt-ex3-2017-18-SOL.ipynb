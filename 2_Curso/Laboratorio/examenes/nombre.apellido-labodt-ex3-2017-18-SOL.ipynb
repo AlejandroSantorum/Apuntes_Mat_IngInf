{
 "cells": [
  {
   "cell_type": "markdown",
   "metadata": {
    "deletable": true,
    "editable": true
   },
   "source": [
    "1) Antes que nada, lee cuidadosamente estas instrucciones y las que aparecen en la hoja con la contraseña. \n",
    "\n",
    "2) Cambia el nombre de este archivo sustituyendo \"nombre.apellido\" por los tuyos, tal como aparecen en tu dirección de correo electrónico de la UAM.\n",
    "\n",
    "3) Este archivo debe quedar en la carpeta \"ENTREGA...\" que está en el escritorio de tu cuenta de examen. Lo mejor es que esté en esa carpeta desde el comienzo del examen. \n",
    "\n",
    "4) <FONT color=\"red\">El examen resuelto debe quedar en este único archivo. No se puede usar un archivo para cada pregunta.</FONT>\n",
    "\n",
    "5) Recuerda que hay que deshabilitar el salvapantallas al comenzar el examen, tal como está indicado en la hoja con la contraseña. \n",
    "\n",
    "\n",
    "CALIFICACIÓN:\n"
   ]
  },
  {
   "cell_type": "code",
   "execution_count": null,
   "metadata": {
    "collapsed": true,
    "deletable": true,
    "editable": true
   },
   "outputs": [],
   "source": []
  },
  {
   "cell_type": "markdown",
   "metadata": {
    "deletable": true,
    "editable": true
   },
   "source": [
    "COMENTARIOS:\n",
    "\n",
    "1)"
   ]
  },
  {
   "cell_type": "markdown",
   "metadata": {
    "deletable": true,
    "editable": true
   },
   "source": [
    "### Ejercicio 1\n",
    "\n",
    "(3 puntos) Si un entero $n$ es un producto de dos primos relativamente próximos no es muy difícil factorizarlo: buscamos factores alrededor de $\\sqrt{n}$ y como están en esa zona los encontramos. Pierre de Fermat (1601-1665) propuso un método simple para factorizar enteros que funciona bien en la situación indicada. "
   ]
  },
  {
   "cell_type": "code",
   "execution_count": 1,
   "metadata": {
    "collapsed": true,
    "deletable": true,
    "editable": true
   },
   "outputs": [],
   "source": [
    "def fermat(n):\n",
    "    x = ceil(sqrt(n))\n",
    "    while not is_square(x^2-n):\n",
    "        x = x+1\n",
    "    y = sqrt(x^2-n)\n",
    "    return (x+y, x-y)"
   ]
  },
  {
   "cell_type": "markdown",
   "metadata": {
    "deletable": true,
    "editable": true
   },
   "source": [
    "Ya en el siglo XX Kraitchik propuso una variante basada en intentar que un múltiplo $k\\cdot n$  de $n$ fuera una diferencia de cuadrados. Concretamente,\n",
    "\n",
    "1. Empezamos con $x$ el menor entero mayor que  $\\sqrt{n}$ y $k=1$.\n",
    "\n",
    "2. Si $x^2-k\\cdot n$ es un cuadrado, sea $y$ su raíz cuadrada. Si  $x+y$ no es  múltiplo de $n$ y $x-y$ tampoco, vemos que los factores primos de $n$ deben repartirse entre $x+y$ y $x-y$, y si $n$ sólo tiene dos factores primos $p$ y $q$ los habríamos encontrado: $p$ sería el máximo común divisor de $x+y$ y $n$ y $q$ el de $x-y$ y $n$. \n",
    "\n",
    "3. Fijado $x$, $k$ debe incrementarse de unidad en unidad  mientras sea posible que $x^2-k\\cdot n$ sea un cuadrado, hasta que encontramos una factorización,  y si no encontramos la factorización debemos incrementar $x$ en una unidad y repetir la búsqueda del $k$ adecuado. \n",
    "\n",
    "\n",
    "Queremos estudiar si esta variante del método de Fermat es mejor, igual,  o peor que el método original. \n",
    "\n",
    "1. Programa una función $kraitchik(n)$ que implemente este método. Comprueba que funciona correctamente  para productos de dos primos grandes pero no muy distantes. \n",
    "\n",
    "2. Calcula el tiempo total que tarda cada uno de los métodos para factorizar todos los productos de dos primos, $p$ y $q$,  en los rangos $10^8 \\le p \\le 10^8+10^4$,  $p<q\\le  10^8+10^4$.\n",
    "\n",
    "3. Repite el cálculo pero ahora $p$ verifica $10^8 \\le p \\le 10^8+10^4$ y $q$ es un primo que difiere de $p$ en aproximadamente $10^7.$\n",
    "\n",
    "4. ¿Cuáles son tus conclusiones después los cálculos en 2. y 3.?"
   ]
  },
  {
   "cell_type": "code",
   "execution_count": 2,
   "metadata": {
    "collapsed": true,
    "deletable": true,
    "editable": true
   },
   "outputs": [],
   "source": [
    "def kraitchik(n):\n",
    "    x = ceil(sqrt(n))\n",
    "    while True:\n",
    "        k = 1\n",
    "        while x^2 - k*n >= 0:\n",
    "            if is_square(x^2-k*n):\n",
    "                y = sqrt(x^2-k*n)\n",
    "                if (x+y) % n != 0 and (x-y) % n != 0:\n",
    "                    a = gcd(x+y, n)\n",
    "                    b = gcd(x-y, n)\n",
    "                    return a,b\n",
    "            k = k+1\n",
    "        x = x+1"
   ]
  },
  {
   "cell_type": "code",
   "execution_count": 3,
   "metadata": {
    "collapsed": false,
    "deletable": true,
    "editable": true
   },
   "outputs": [
    {
     "name": "stdout",
     "output_type": "stream",
     "text": [
      "CPU times: user 0 ns, sys: 4 ms, total: 4 ms\n",
      "Wall time: 3.13 ms\n"
     ]
    },
    {
     "data": {
      "text/plain": [
       "(18313, 10079)"
      ]
     },
     "execution_count": 3,
     "metadata": {},
     "output_type": "execute_result"
    }
   ],
   "source": [
    "%time kraitchik(nth_prime(1237)*nth_prime(2100))"
   ]
  },
  {
   "cell_type": "code",
   "execution_count": 4,
   "metadata": {
    "collapsed": false,
    "deletable": true,
    "editable": true
   },
   "outputs": [
    {
     "name": "stdout",
     "output_type": "stream",
     "text": [
      "CPU times: user 4 ms, sys: 0 ns, total: 4 ms\n",
      "Wall time: 1.07 ms\n"
     ]
    },
    {
     "data": {
      "text/plain": [
       "(18313, 10079)"
      ]
     },
     "execution_count": 4,
     "metadata": {},
     "output_type": "execute_result"
    }
   ],
   "source": [
    "%time fermat(nth_prime(1237)*nth_prime(2100))"
   ]
  },
  {
   "cell_type": "code",
   "execution_count": 5,
   "metadata": {
    "collapsed": false,
    "deletable": true,
    "editable": true
   },
   "outputs": [
    {
     "name": "stdout",
     "output_type": "stream",
     "text": [
      "CPU times: user 0 ns, sys: 0 ns, total: 0 ns\n",
      "Wall time: 544 µs\n"
     ]
    },
    {
     "data": {
      "text/plain": [
       "10079 * 18313"
      ]
     },
     "execution_count": 5,
     "metadata": {},
     "output_type": "execute_result"
    }
   ],
   "source": [
    "%time factor(nth_prime(1237)*nth_prime(2100))"
   ]
  },
  {
   "cell_type": "markdown",
   "metadata": {
    "deletable": true,
    "editable": true
   },
   "source": [
    "#### Apartado 2"
   ]
  },
  {
   "cell_type": "code",
   "execution_count": 6,
   "metadata": {
    "collapsed": false,
    "deletable": true,
    "editable": true
   },
   "outputs": [
    {
     "name": "stdout",
     "output_type": "stream",
     "text": [
      "CPU times: user 31.7 s, sys: 1.08 s, total: 32.8 s\n",
      "Wall time: 29.3 s\n"
     ]
    }
   ],
   "source": [
    "def pruebaf(N1,N2):\n",
    "    for p in prime_range(N1,N2):\n",
    "        for q in prime_range(p,N2):\n",
    "            x = fermat(p*q)\n",
    "            \n",
    "%time pruebaf(10^8,10^8+10^4)\n"
   ]
  },
  {
   "cell_type": "code",
   "execution_count": 7,
   "metadata": {
    "collapsed": false,
    "deletable": true,
    "editable": true
   },
   "outputs": [
    {
     "name": "stdout",
     "output_type": "stream",
     "text": [
      "CPU times: user 32.8 s, sys: 1 s, total: 33.8 s\n",
      "Wall time: 29.6 s\n"
     ]
    }
   ],
   "source": [
    "def pruebak(N1,N2):            \n",
    "    for p in prime_range(N1,N2):\n",
    "        for q in prime_range(p,N2):\n",
    "            x = kraitchik(p*q)\n",
    "\n",
    "%time pruebak(10^8,10^8+10^4)\n"
   ]
  },
  {
   "cell_type": "markdown",
   "metadata": {
    "deletable": true,
    "editable": true
   },
   "source": [
    "#### Apartado 3"
   ]
  },
  {
   "cell_type": "code",
   "execution_count": 8,
   "metadata": {
    "collapsed": false,
    "deletable": true,
    "editable": true
   },
   "outputs": [
    {
     "name": "stdout",
     "output_type": "stream",
     "text": [
      "CPU times: user 1min 9s, sys: 636 ms, total: 1min 10s\n",
      "Wall time: 1min 9s\n"
     ]
    }
   ],
   "source": [
    "def pruebaf2(N1,N2):\n",
    "    for p in prime_range(N1,N2):\n",
    "        q = next_prime(p+10^7)\n",
    "        x = fermat(p*q)\n",
    "            \n",
    "%time pruebaf2(10^8,10^8+10^4)"
   ]
  },
  {
   "cell_type": "code",
   "execution_count": 9,
   "metadata": {
    "collapsed": false,
    "deletable": true,
    "editable": true
   },
   "outputs": [
    {
     "name": "stdout",
     "output_type": "stream",
     "text": [
      "CPU times: user 2min 41s, sys: 1.68 s, total: 2min 43s\n",
      "Wall time: 2min 41s\n"
     ]
    }
   ],
   "source": [
    "def pruebak2(N1,N2):            \n",
    "    for p in prime_range(N1,N2):\n",
    "        q = next_prime(p+10^7)\n",
    "        x = kraitchik(p*q)\n",
    "\n",
    "%time pruebak2(10^8,10^8+10^4)"
   ]
  },
  {
   "cell_type": "markdown",
   "metadata": {
    "deletable": true,
    "editable": true
   },
   "source": [
    "#### Apartado 4\n",
    "\n",
    "El resultado de 2. nos dice que los tiempos de los dos algoritmos deben ser esencialmente iguales, en promedio,  cuando se aplican a valores de $n$ iguales. Para comprobar esto bien habría que comparar uno a uno. Los resultados de 3. no se deben comparar con los de 2. porque se aplican a valores de $n$ bastante dfiferentes.\n",
    "\n",
    "Los resultados de 3. prueban que cuando la diferencia entre $p$ y $q$ es grande *kraitchik* no es una mejora de Fermat. "
   ]
  },
  {
   "cell_type": "markdown",
   "metadata": {
    "deletable": true,
    "editable": true
   },
   "source": [
    "###  Ejercicio 2\n",
    "\n",
    "(3 puntos) Comenzamos describiendo, mediante un ejemplo,  un sistema criptográfico de clave pública. La clave pública es un entero primo muy grande y  los mensajes son enteros $2\\le m < p$.  Supongamos que $A$ quiere enviar el mensaje $m:=11111$ a $B$ y la clave pública que han acordado  es $p=32611$.\n",
    "\n",
    "1. En primer lugar $A$ elige un entero aleatorio $a$, digamos entre $2$ y $p$, eleva $m$ al exponente $a$ módulo $p$ y envía el resultado $u$ a $B$. Supongamos que $a$ es $3589$, y entonces $u=15950$.\n",
    "\n",
    "2. $B$ elige un entero aleatorio $b=4037$, entre $2$ y $p$,  eleva $u$ a $b$, módulo $p$,  y el resultado $v=15422$ se lo envía a $A$.\n",
    "\n",
    "3. Ahora $A$ eleva, módulo $p$,  $v$ a un exponente $a^{\\prime}$, que ya no es aleatorio sino que $A$ lo ha calculado y resulta ser $a^{\\prime}=15619$, y el resultado $w=27259$ se lo envía a $B$.\n",
    "\n",
    "4. Cuando lo recibe, $B$ eleva $w$, módulo $p$,  a un exponente $b^{\\prime}$, que no es aleatorio sino que $B$ lo ha calculado y resulta ser $b^{\\prime}=31883$, y obtiene como resultado el mensaje $11111.$\n",
    "\n",
    "\n",
    "PREGUNTAS:\n",
    "\n",
    "1. ¿Cuál es la relación entre $a$ y  $a^{\\prime}$, $b$ y $b^{\\prime}$? Es decir, ¿cómo calculan $A$ y $B$ la segunda parte de su clave privada?\n",
    "\n",
    "2. Programa una función $cifrar\\_descifrar(m,p)$ que reciba como parámetros un mensaje $m$ y la clave pública $p$ y devuelva la tupla $(a,a^{\\prime},b,b^{\\prime},u,v,w,w^{b^{\\prime}}\\%p)$. Como $a$ y $b$ son aleatorios, cada vez que se ejecute con el mismo $m$ y el mismo $p$ la respuesta será, en parte, distinta.\n",
    "\n",
    "3. Comprueba que el método funciona en varios ejemplos. ¿Qué codificación usarías para implementar en la práctica este sistema? Explica detalladamente.\n"
   ]
  },
  {
   "cell_type": "code",
   "execution_count": 10,
   "metadata": {
    "collapsed": false,
    "deletable": true,
    "editable": true
   },
   "outputs": [
    {
     "data": {
      "text/plain": [
       "15950"
      ]
     },
     "execution_count": 10,
     "metadata": {},
     "output_type": "execute_result"
    }
   ],
   "source": [
    "power_mod(11111,3589,32611)"
   ]
  },
  {
   "cell_type": "code",
   "execution_count": 11,
   "metadata": {
    "collapsed": false,
    "deletable": true,
    "editable": true
   },
   "outputs": [
    {
     "data": {
      "text/plain": [
       "15422"
      ]
     },
     "execution_count": 11,
     "metadata": {},
     "output_type": "execute_result"
    }
   ],
   "source": [
    "power_mod(15950,4037,32611)"
   ]
  },
  {
   "cell_type": "code",
   "execution_count": 12,
   "metadata": {
    "collapsed": false,
    "deletable": true,
    "editable": true
   },
   "outputs": [
    {
     "data": {
      "text/plain": [
       "27257"
      ]
     },
     "execution_count": 12,
     "metadata": {},
     "output_type": "execute_result"
    }
   ],
   "source": [
    "power_mod(15422,15619,32611)"
   ]
  },
  {
   "cell_type": "code",
   "execution_count": 13,
   "metadata": {
    "collapsed": false,
    "deletable": true,
    "editable": true
   },
   "outputs": [
    {
     "data": {
      "text/plain": [
       "11111"
      ]
     },
     "execution_count": 13,
     "metadata": {},
     "output_type": "execute_result"
    }
   ],
   "source": [
    "power_mod(27257,31883,32611)"
   ]
  },
  {
   "cell_type": "markdown",
   "metadata": {
    "deletable": true,
    "editable": true
   },
   "source": [
    "El resumen del ejemplo es que $(((m^a)^b)^{a^\\prime})^{b^\\prime}=m$ en $\\mathbb{Z}_p$. Como $(((m^a)^b)^{a^\\prime})^{b^\\prime}=\n",
    "(((m^a)^{a^\\prime})^b)^{b^\\prime}$ debemos sospechar, gracias al teorema pequeño de Fermat,  que $a^\\prime$ es el inverso de $a$ módulo $p-1$ y $b^\\prime$ el de $b$. Comprobamos "
   ]
  },
  {
   "cell_type": "code",
   "execution_count": 14,
   "metadata": {
    "collapsed": false,
    "deletable": true,
    "editable": true
   },
   "outputs": [
    {
     "name": "stdout",
     "output_type": "stream",
     "text": [
      "(1, 15619, -1719)\n",
      "1\n"
     ]
    }
   ],
   "source": [
    "print xgcd(3589,32611-1); print (3589*15619)%32610"
   ]
  },
  {
   "cell_type": "code",
   "execution_count": 15,
   "metadata": {
    "collapsed": false,
    "deletable": true,
    "editable": true
   },
   "outputs": [
    {
     "name": "stdout",
     "output_type": "stream",
     "text": [
      "(1, -727, 90)\n",
      "1\n",
      "32610\n"
     ]
    }
   ],
   "source": [
    "print xgcd(4037,32611-1); print (4037*-727)%32610;print 31883+727"
   ]
  },
  {
   "cell_type": "code",
   "execution_count": 16,
   "metadata": {
    "collapsed": false,
    "deletable": true,
    "editable": true
   },
   "outputs": [
    {
     "data": {
      "text/plain": [
       "(12383, 9857, 16603, 32227, 7069, 11474, 1598, 11111)"
      ]
     },
     "execution_count": 16,
     "metadata": {},
     "output_type": "execute_result"
    }
   ],
   "source": [
    "def cifrar_descifrar(m,p):\n",
    "    a,b = 2,2\n",
    "    while gcd(a,p-1) != 1:\n",
    "        a = randint(2,p)\n",
    "        a += 1\n",
    "    a1 = xgcd(a,p-1)[1]%(p-1)\n",
    "    if (a*a1)%(p-1) != 1:\n",
    "        print \"ERROR al calcular a1\"\n",
    "    while gcd(b,p-1) != 1:\n",
    "        b= randint(2,p)\n",
    "    b1 = xgcd(b,p-1)[1]%(p-1)\n",
    "    if (b*b1)%(p-1) != 1:\n",
    "        print \"ERROR al calcular b1\"\n",
    "    u = power_mod(m,a,p)\n",
    "    v = power_mod(u,b,p)\n",
    "    w = power_mod(v,a1,p)\n",
    "    z = power_mod(w,b1,p)\n",
    "    return a,a1,b,b1,u,v,w,z\n",
    "\n",
    "cifrar_descifrar(11111,32611)"
   ]
  },
  {
   "cell_type": "code",
   "execution_count": 17,
   "metadata": {
    "collapsed": false,
    "deletable": true,
    "editable": true
   },
   "outputs": [
    {
     "name": "stdout",
     "output_type": "stream",
     "text": [
      "7918255 11677531\n"
     ]
    },
    {
     "data": {
      "text/plain": [
       "(2134553, 3872117, 5720117, 7594853, 7988997, 1420734, 5237039, 7918255)"
      ]
     },
     "execution_count": 17,
     "metadata": {},
     "output_type": "execute_result"
    }
   ],
   "source": [
    "p = nth_prime(768245)\n",
    "m = randint(2,p)\n",
    "print m,p\n",
    "cifrar_descifrar(m,p)"
   ]
  },
  {
   "cell_type": "markdown",
   "metadata": {
    "deletable": true,
    "editable": true
   },
   "source": [
    "Podemos usar la misma codificación que para RSA, es decir, ..."
   ]
  },
  {
   "cell_type": "markdown",
   "metadata": {
    "deletable": true,
    "editable": true
   },
   "source": [
    "### Ejercicio 3\n",
    "\n",
    "Estudiamos un sistema criptográfico que tiene como clave secreta un entero $k$ grande, que no sea un cuadrado perfecto,  y otro entero $d$.  Funciona en la siguiente manera:\n",
    "\n",
    "1. Los mensajes $m$ son enteros no negativos de $d$ dígitos.\n",
    "\n",
    "2. Para encriptar calculamos la raíz cuadrada de $k$ con $d$ dígitos a la derecha del punto decimal y llamamos $\\alpha$ a su parte decimal,  que supondremos que no tiene un cero a la izquierda. Entonces sumamos el mensaje con $\\alpha$ módulo $10^d$ y el resultado es el mensaje encriptado $c$. \n",
    "\n",
    "3. Para desencriptar restamos $\\alpha$ a $c$, módulo $10^d$ y recuperamos $m$.\n",
    "\n",
    "4. Para mayor seguridad, $A$ y $B$, que comparten la clave secreta $(k,d)$ acuerdan, usar en sucesivos mensajes  los trozos sucesivos de longitud $d$ de la parte decimal de $\\sqrt{k}$ como alfas. \n",
    "\n",
    "Supongamos que ahora el malo consigue el primer par $(m,c)$, lo que le permitiría calcular el primer valor de $\\alpha$, módulo $10^d$, y también conocería $d$. Suponiendo que $k$ es grande, ¿podría el malo obtener $k$ a partir de la información que conoce? Si consiguiera el valor de $k$ a partir del primer par $(m,c)$ podría desencriptar toda la comunicación posterior que usara la misma clave secreta $k$.\n",
    "\n",
    "1. (2 puntos) Programa una función que busque $k$ conocido $\\alpha$, un entero de $d$ dígitos. Pruébala con $k=87$ y $d=8.$ \n",
    "\n",
    "2. (2 puntos) Programa una función que, para $k$ en un rango $[N1,N2]$ y $d$ fijado, calcule el $\\alpha$ correspondiente a $k$ y trate de recuperar $k$ usando la función del apartado 1.  ¿Parece que siempre se va a poder recuperar $k$ a partir de $\\alpha$? Experimenta con diversos valores de los parámetros. \n"
   ]
  },
  {
   "cell_type": "code",
   "execution_count": 8,
   "metadata": {
    "collapsed": false,
    "deletable": true,
    "editable": true
   },
   "outputs": [
    {
     "name": "stdout",
     "output_type": "stream",
     "text": [
      "CPU times: user 228 ms, sys: 0 ns, total: 228 ms\n",
      "Wall time: 207 ms\n"
     ]
    },
    {
     "data": {
      "text/plain": [
       "[87]"
      ]
     },
     "execution_count": 8,
     "metadata": {},
     "output_type": "execute_result"
    }
   ],
   "source": [
    "def clave(n,N):\n",
    "    d = len(n.digits())\n",
    "    R = RealField(prec=10*d)\n",
    "    L = []\n",
    "    for k in xsrange(1,N):\n",
    "        x = R(sqrt(k))-floor(R(sqrt(k)))\n",
    "        if str(x)[2:d+2]==str(n):\n",
    "            L.append(k)\n",
    "    return L\n",
    "\n",
    "%time clave(32737905,10**3)"
   ]
  },
  {
   "cell_type": "code",
   "execution_count": 9,
   "metadata": {
    "collapsed": false,
    "deletable": true,
    "editable": true
   },
   "outputs": [
    {
     "name": "stdout",
     "output_type": "stream",
     "text": [
      "CPU times: user 2.22 s, sys: 60 ms, total: 2.28 s\n",
      "Wall time: 2.11 s\n"
     ]
    },
    {
     "data": {
      "text/plain": [
       "[87]"
      ]
     },
     "execution_count": 9,
     "metadata": {},
     "output_type": "execute_result"
    }
   ],
   "source": [
    "%time clave(32737905,10**4)"
   ]
  },
  {
   "cell_type": "code",
   "execution_count": 10,
   "metadata": {
    "collapsed": false,
    "deletable": true,
    "editable": true
   },
   "outputs": [
    {
     "name": "stdout",
     "output_type": "stream",
     "text": [
      "CPU times: user 21 s, sys: 508 ms, total: 21.5 s\n",
      "Wall time: 19.9 s\n"
     ]
    },
    {
     "data": {
      "text/plain": [
       "[87]"
      ]
     },
     "execution_count": 10,
     "metadata": {},
     "output_type": "execute_result"
    }
   ],
   "source": [
    "%time clave(32737905,10**5)"
   ]
  },
  {
   "cell_type": "code",
   "execution_count": 14,
   "metadata": {
    "collapsed": false,
    "deletable": true,
    "editable": true
   },
   "outputs": [
    {
     "name": "stdout",
     "output_type": "stream",
     "text": [
      "47213595 20 [20]\n",
      "58257569 21 [21]\n",
      "69041575 22 [22]\n",
      "79583152 23 [23]\n",
      "89897948 24 [24]\n",
      "19615242 27 [27]\n",
      "29150262 28 [28]\n",
      "38516480 29 [29]\n",
      "47722557 30 [30]\n",
      "56776436 31 [31]\n",
      "65685424 32 [32]\n",
      "74456264 33 [33]\n",
      "83095189 34 [34]\n",
      "91607978 35 [35]\n",
      "16441400 38 [38]\n",
      "24499799 39 [39]\n",
      "32455532 40 [40]\n",
      "40312423 41 [41]\n",
      "48074069 42 [42]\n",
      "55743852 43 [43]\n",
      "63324958 44 [44]\n",
      "70820393 45 [45]\n",
      "78232998 46 [46]\n",
      "85565460 47 [47]\n",
      "92820323 48 [48]\n",
      "14142842 51 [51]\n",
      "21110255 52 [52]\n",
      "28010988 53 [53]\n",
      "34846922 54 [54]\n",
      "41619848 55 [55]\n",
      "48331477 56 [56]\n",
      "54983443 57 [57]\n",
      "61577310 58 [58]\n",
      "68114574 59 [59]\n",
      "74596669 60 [60]\n",
      "81024967 61 [61]\n",
      "87400787 62 [62]\n",
      "93725393 63 [63]\n",
      "12403840 66 [66]\n",
      "18535277 67 [67]\n",
      "24621125 68 [68]\n",
      "30662386 69 [69]\n",
      "36660026 70 [70]\n",
      "42614977 71 [71]\n",
      "48528137 72 [72]\n",
      "54400374 73 [73]\n",
      "60232526 74 [74]\n",
      "66025403 75 [75]\n",
      "71779788 76 [76]\n",
      "77496438 77 [77]\n",
      "83176086 78 [78]\n",
      "88819441 79 [79]\n",
      "94427190 80 [80]\n",
      "11043357 83 [83]\n",
      "16515138 84 [84]\n",
      "21954445 85 [85]\n",
      "27361849 86 [86]\n",
      "32737905 87 [87]\n",
      "38083151 88 [88]\n",
      "43398113 89 [89]\n",
      "48683298 90 [90]\n",
      "53939201 91 [91]\n",
      "59166304 92 [92]\n",
      "64365076 93 [93]\n",
      "69535971 94 [94]\n",
      "74679434 95 [95]\n",
      "79795897 96 [96]\n",
      "84885780 97 [97]\n",
      "89949493 98 [98]\n",
      "94987437 99 [99]\n",
      "CPU times: user 14.9 s, sys: 360 ms, total: 15.2 s\n",
      "Wall time: 14.3 s\n"
     ]
    }
   ],
   "source": [
    "def clave2(d,N1,N2,N3):\n",
    "    R = RealField(prec=10*d)\n",
    "    for k in xsrange(N1,N2):\n",
    "        x = R(sqrt(k))-floor(R(sqrt(k)))\n",
    "        #print x\n",
    "        C = str(x)[2:d+2]\n",
    "        n = ZZ(C,base=10)\n",
    "        if n != 0 and C[0] != '0':\n",
    "            L = clave(n,N3)\n",
    "            print n,k,L\n",
    "    \n",
    "    \n",
    "%time clave2(8,20,100,10**3)"
   ]
  },
  {
   "cell_type": "markdown",
   "metadata": {
    "deletable": true,
    "editable": true
   },
   "source": [
    "Ciertamente parece que el malo podría salirse con la suya, aunque debemos hacer más pruebas. "
   ]
  },
  {
   "cell_type": "code",
   "execution_count": 15,
   "metadata": {
    "collapsed": false,
    "deletable": true,
    "editable": true
   },
   "outputs": [
    {
     "name": "stdout",
     "output_type": "stream",
     "text": [
      "360679774997 500 [500]\n",
      "383029285599 501 [501]\n",
      "405356502408 502 [502]\n",
      "427661492005 503 [503]\n",
      "449944320643 504 [504]\n",
      "472205054244 505 [505]\n",
      "494443758403 506 [506]\n",
      "516660498395 507 [507]\n",
      "538855339169 508 [508]\n",
      "561028345356 509 [509]\n",
      "583179581272 510 [510]\n",
      "605309110914 511 [511]\n",
      "627416997969 512 [512]\n",
      "649503305812 513 [513]\n",
      "671568097509 514 [514]\n",
      "693611435820 515 [515]\n",
      "715633383201 516 [516]\n",
      "737634001804 517 [517]\n",
      "759613353482 518 [518]\n",
      "781571499789 519 [519]\n",
      "803508501982 520 [520]\n",
      "825424421026 521 [521]\n",
      "847319317591 522 [522]\n",
      "869193252058 523 [523]\n",
      "891046284519 524 [524]\n",
      "912878474779 525 [525]\n",
      "934689882359 526 [526]\n",
      "956480566497 527 [527]\n",
      "978250586152 528 [528]\n",
      "CPU times: user 1min 1s, sys: 1.26 s, total: 1min 2s\n",
      "Wall time: 58.1 s\n"
     ]
    }
   ],
   "source": [
    "%time clave2(12,500,530,10**4)"
   ]
  },
  {
   "cell_type": "code",
   "execution_count": 16,
   "metadata": {
    "collapsed": false
   },
   "outputs": [
    {
     "name": "stdout",
     "output_type": "stream",
     "text": [
      "17101079013794849340 1237 [1237]\n",
      "18522417151836194905 1238 [1238]\n",
      "CPU times: user 48.1 s, sys: 1.2 s, total: 49.3 s\n",
      "Wall time: 46.1 s\n"
     ]
    }
   ],
   "source": [
    "%time clave2(20,1237,1239,10**5)"
   ]
  },
  {
   "cell_type": "code",
   "execution_count": 18,
   "metadata": {
    "collapsed": false
   },
   "outputs": [
    {
     "name": "stdout",
     "output_type": "stream",
     "text": [
      "36711960552250693676 5237 [5237]\n",
      "37402849088891224230 5238 [5238]\n",
      "CPU times: user 45.9 s, sys: 1.11 s, total: 47 s\n",
      "Wall time: 43.5 s\n"
     ]
    }
   ],
   "source": [
    "%time clave2(20,5237,5239,10**5)"
   ]
  },
  {
   "cell_type": "code",
   "execution_count": null,
   "metadata": {
    "collapsed": true
   },
   "outputs": [],
   "source": []
  }
 ],
 "metadata": {
  "kernelspec": {
   "display_name": "SageMath 8.0",
   "language": "",
   "name": "sagemath"
  },
  "language_info": {
   "codemirror_mode": {
    "name": "ipython",
    "version": 2
   },
   "file_extension": ".py",
   "mimetype": "text/x-python",
   "name": "python",
   "nbconvert_exporter": "python",
   "pygments_lexer": "ipython2",
   "version": "2.7.13"
  }
 },
 "nbformat": 4,
 "nbformat_minor": 0
}
