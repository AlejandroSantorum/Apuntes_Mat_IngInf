{
 "cells": [
  {
   "cell_type": "markdown",
   "metadata": {},
   "source": [
    "1) <span style=\"color:red\"> Antes que nada, lee cuidadosamente estas instrucciones y las que aparecen en la hoja con la contraseña. </span>\n",
    "\n",
    "2) Cambia el nombre de este archivo sustituyendo \"nombre.apellido\" por los tuyos, tal como aparecen en tu dirección de correo electrónico de la UAM.\n",
    "\n",
    "3) Este archivo debe quedar en la carpeta \"ENTREGA...\" que está en el escritorio de tu cuenta de examen. Lo mejor es que esté en esa carpeta desde el comienzo del examen.\n",
    "\n",
    "4) El examen resuelto debe quedar en este único archivo. No se puede usar un archivo para cada pregunta.\n",
    "\n",
    "5) Recuerda que hay que deshabilitar el salvapantallas al comenzar el examen, tal como está indicado en la hoja con la contraseña. \n",
    "\n",
    "\n",
    "\n",
    "\n",
    "CALIFICACIÓN:\n"
   ]
  },
  {
   "cell_type": "code",
   "execution_count": 1,
   "metadata": {
    "collapsed": false
   },
   "outputs": [
    {
     "data": {
      "text/plain": [
       "9"
      ]
     },
     "execution_count": 1,
     "metadata": {},
     "output_type": "execute_result"
    }
   ],
   "source": [
    "5+4"
   ]
  },
  {
   "cell_type": "markdown",
   "metadata": {},
   "source": [
    "COMENTARIOS:\n",
    "\n",
    "1)"
   ]
  },
  {
   "cell_type": "markdown",
   "metadata": {},
   "source": [
    "\n",
    "## Ejercicio 1\n",
    "\n",
    "Consideramos el siguiente 'juego': inicialmente hay $n$ jugadores  y en cada fase del juego cada jugador vivo elige **al azar** otro jugador vivo, distinto de sí mismo,  y lo mata.  El juego se repite hasta que queda un único jugador, *el elegido del destino*, o bien ninguno. En principio, es perfectamente posible que el juego se juegue una única vez.\n",
    "\n",
    "1) Estima, con dos cifras decimales 'correctas',  la probabilidad de que, partiendo de  $n=100$ jugadores, haya un superviviente. Como se indicó en clase, entendemos que que son cifras decimales 'correctas' las que no cambian cuando se incrementa suficientemente el número $N$ de 'casos posibles'.\n",
    "\n",
    "2) ¿Qué probabilidad tengo, si decido jugar con otros $99$ jugadores,  de ser yo el *elegido del destino*? Modifica el programa del apartado anterior para estimar la probabilidad y explica el resultado obtenido.\n",
    "\n",
    "3) Ahora queremos estudiar la duración del juego. Para eso debemos  calcular *promedios* de la duración. Define una función *promedio(n,N)* que calcule el promedio y la desviación estándar de la duración con $n$ jugadores iniciales y $N$ repeticiones del juego. Evalúa *promedio(100,10^5)* y comenta los resultados obtenidos.\n",
    "\n",
    "4) Finalmente, estudia la variación de los promedios al variar $n$ entre $10$ y $200$ saltando de $10$ en $10$. Realiza un gráfico de los resultados y analiza la dependencia funcional (el promedio como función de $n$). En este cuarto apartado probablemente tendrás que **elegir con más cuidado un $N$** (el número de repeticiones del juego utilizadas para calcular cada promedio) **adecuado**  dadas las capacidades bastante limitadas de la máquina. "
   ]
  },
  {
   "cell_type": "code",
   "execution_count": 23,
   "metadata": {
    "collapsed": true
   },
   "outputs": [],
   "source": [
    "def find_pos(L, C):\n",
    "    for j in xsrange(0, len(L)):\n",
    "            if(L[j]==C):\n",
    "                return j"
   ]
  },
  {
   "cell_type": "markdown",
   "metadata": {},
   "source": [
    "Primero programamos una función que simule el juego asesino"
   ]
  },
  {
   "cell_type": "code",
   "execution_count": 63,
   "metadata": {
    "collapsed": true
   },
   "outputs": [],
   "source": [
    "def juego_sadico(N):\n",
    "    Jugadores = list(Zmod(N)) #Los jugadores se identifican con numeros\n",
    "    while(len(Jugadores)>1): #Se juegan mientras queden vivos\n",
    "        Homicidios=[0]*len(Jugadores) #Cada uno elige otro a quien matar\n",
    "        for j in xsrange(len(Jugadores)):\n",
    "            a =randint(0, len(Jugadores)-1)\n",
    "            while(a==j): #No puede matarse a sí mismo\n",
    "                a = randint(0, len(Jugadores)-1)\n",
    "            Homicidios[j]= a\n",
    "        for item in Homicidios:\n",
    "            x = find_pos(Jugadores, item)\n",
    "            if(x == None):\n",
    "                continue\n",
    "            del(Jugadores[x])\n",
    "    return len(Jugadores)\n",
    "            \n",
    "            \n",
    "        "
   ]
  },
  {
   "cell_type": "code",
   "execution_count": 68,
   "metadata": {
    "collapsed": false
   },
   "outputs": [
    {
     "name": "stdout",
     "output_type": "stream",
     "text": [
      "0\n"
     ]
    }
   ],
   "source": [
    "print juego_sadico(5)"
   ]
  },
  {
   "cell_type": "markdown",
   "metadata": {},
   "source": [
    "Esta función es muy lenta (usa muchos bucles) así que intentaremos optimizarla para poder hallar fácilmente N=100"
   ]
  },
  {
   "cell_type": "code",
   "execution_count": 79,
   "metadata": {
    "collapsed": false
   },
   "outputs": [],
   "source": [
    "def elemento_aleatorio(A):\n",
    "    B = list(A)\n",
    "    n = len(B)-1\n",
    "    return B[randint(0, n)]\n"
   ]
  },
  {
   "cell_type": "code",
   "execution_count": 283,
   "metadata": {
    "collapsed": false
   },
   "outputs": [],
   "source": [
    "def juego_rapido(N):\n",
    "    Jugadores = list(Zmod(N))\n",
    "    while(len(Jugadores)>1):\n",
    "        Homicidios = []\n",
    "        for jugador in Jugadores:\n",
    "            m = elemento_aleatorio(Jugadores);\n",
    "            while(m == jugador):\n",
    "                m = elemento_aleatorio(Jugadores)\n",
    "            \n",
    "            Homicidios.append(m)\n",
    "        for muerto in Homicidios:\n",
    "            if(muerto in Jugadores):\n",
    "                del(Jugadores[find_pos(Jugadores, muerto)])\n",
    "    return len(Jugadores)\n",
    "        "
   ]
  },
  {
   "cell_type": "code",
   "execution_count": 284,
   "metadata": {
    "collapsed": false
   },
   "outputs": [
    {
     "name": "stdout",
     "output_type": "stream",
     "text": [
      "0\n"
     ]
    }
   ],
   "source": [
    "print juego_rapido(100)"
   ]
  },
  {
   "cell_type": "markdown",
   "metadata": {},
   "source": [
    "1) Creamos la función que calcula la probabilidad iterando"
   ]
  },
  {
   "cell_type": "code",
   "execution_count": 285,
   "metadata": {
    "collapsed": false
   },
   "outputs": [],
   "source": [
    "def prob_elegido(N, digs):\n",
    "    prob = 100\n",
    "    count = 0\n",
    "    k = 0\n",
    "    while(1):\n",
    "        if(juego_rapido(N)==1):\n",
    "            count += 1\n",
    "        k += 1\n",
    "        prob2 = count/k\n",
    "        if(abs(prob-prob2)<=10**(-digs-1) and prob !=0 and prob!=1):\n",
    "            return (prob.N(digits=3), prob2.n(digits=3))\n",
    "        prob = prob2"
   ]
  },
  {
   "cell_type": "code",
   "execution_count": 287,
   "metadata": {
    "collapsed": false
   },
   "outputs": [
    {
     "name": "stdout",
     "output_type": "stream",
     "text": [
      "0.473\n"
     ]
    }
   ],
   "source": [
    "print prob_elegido(100, 2)[1]"
   ]
  },
  {
   "cell_type": "markdown",
   "metadata": {},
   "source": [
    "Para estimarlo mejor hacemos la media de varias iteraciones de esto"
   ]
  },
  {
   "cell_type": "code",
   "execution_count": 288,
   "metadata": {
    "collapsed": true
   },
   "outputs": [],
   "source": [
    "def prob_media_elegido(N, digs, num):\n",
    "    media = 0\n",
    "    for i in xsrange(num):\n",
    "        media += prob_elegido(N, digs)[1]\n",
    "    return media/num"
   ]
  },
  {
   "cell_type": "code",
   "execution_count": 289,
   "metadata": {
    "collapsed": false
   },
   "outputs": [
    {
     "name": "stdout",
     "output_type": "stream",
     "text": [
      "0.509\n",
      "CPU times: user 12 s, sys: 76 ms, total: 12.1 s\n",
      "Wall time: 11.9 s\n"
     ]
    }
   ],
   "source": [
    "%%time\n",
    "estimacion = prob_media_elegido(100, 2, 10)\n",
    "print estimacion"
   ]
  },
  {
   "cell_type": "markdown",
   "metadata": {},
   "source": [
    "La probabilidad parece ser casi 1/2"
   ]
  },
  {
   "cell_type": "markdown",
   "metadata": {},
   "source": [
    "2) Veamos ahora la prob de que un jugador concreto (tomemos el 0) sea el elegido"
   ]
  },
  {
   "cell_type": "code",
   "execution_count": 298,
   "metadata": {
    "collapsed": true
   },
   "outputs": [],
   "source": [
    "def juego_rapido2(N):\n",
    "    Jugadores = list(Zmod(N))\n",
    "    while(len(Jugadores)>1):\n",
    "        Homicidios = []\n",
    "        for jugador in Jugadores:\n",
    "            m = elemento_aleatorio(Jugadores);\n",
    "            while(m == jugador):\n",
    "                m = elemento_aleatorio(Jugadores)\n",
    "            \n",
    "            Homicidios.append(m)\n",
    "        for muerto in Homicidios:\n",
    "            if(muerto in Jugadores):\n",
    "                del(Jugadores[find_pos(Jugadores, muerto)])\n",
    "    return Jugadores"
   ]
  },
  {
   "cell_type": "code",
   "execution_count": 299,
   "metadata": {
    "collapsed": true
   },
   "outputs": [],
   "source": [
    "def prob_yo_elegido(N, digs):\n",
    "    prob = 100\n",
    "    count = 0\n",
    "    k = 0\n",
    "    yo = randint(0, N-1)\n",
    "    while(1):\n",
    "        x = juego_rapido2(N)\n",
    "        if(len(x)== 1):\n",
    "            if(x[0] == yo):\n",
    "                count += 1\n",
    "        k += 1\n",
    "        prob2 = count/k\n",
    "        if(abs(prob-prob2)<=10**(-digs-1) and prob !=0 and prob!=1):\n",
    "            return (prob.N(digits=3), prob2.n(digits=3))\n",
    "        prob = prob2"
   ]
  },
  {
   "cell_type": "code",
   "execution_count": 300,
   "metadata": {
    "collapsed": true
   },
   "outputs": [],
   "source": [
    "def prob_media_yo_elegido(N, digs, num):\n",
    "    media = 0\n",
    "    for i in xsrange(num):\n",
    "        media += prob_yo_elegido(N, digs)[1]\n",
    "    return media/num"
   ]
  },
  {
   "cell_type": "code",
   "execution_count": 301,
   "metadata": {
    "collapsed": false
   },
   "outputs": [
    {
     "name": "stdout",
     "output_type": "stream",
     "text": [
      "0.00240\n"
     ]
    }
   ],
   "source": [
    "print prob_yo_elegido(100, 2)[1]"
   ]
  },
  {
   "cell_type": "code",
   "execution_count": 304,
   "metadata": {
    "collapsed": false
   },
   "outputs": [
    {
     "name": "stdout",
     "output_type": "stream",
     "text": [
      "0.00849\n"
     ]
    }
   ],
   "source": [
    "print prob_media_yo_elegido(100, 2, 10)"
   ]
  },
  {
   "cell_type": "code",
   "execution_count": 297,
   "metadata": {
    "collapsed": false
   },
   "outputs": [
    {
     "name": "stdout",
     "output_type": "stream",
     "text": [
      "0.00500000000000000\n"
     ]
    }
   ],
   "source": [
    "print 0.5/100"
   ]
  },
  {
   "cell_type": "markdown",
   "metadata": {},
   "source": [
    "Parece que la probabilidad de que el jugador elegido sea el 0 (y por tanto la de que sea uno concreto) vale 0.041. debería de corresponderse con la probabilidad de que el juego acabe con un elegido y ese elegido sea yo(regla del producto)."
   ]
  },
  {
   "cell_type": "markdown",
   "metadata": {},
   "source": [
    "3) Hagamos la función que devolverá ambos resultados"
   ]
  },
  {
   "cell_type": "code",
   "execution_count": 305,
   "metadata": {
    "collapsed": true
   },
   "outputs": [],
   "source": [
    "def juego_rapido3(N):\n",
    "    Jugadores = list(Zmod(N))\n",
    "    k = 0\n",
    "    while(len(Jugadores)>1):\n",
    "        Homicidios = []\n",
    "        for jugador in Jugadores:\n",
    "            m = elemento_aleatorio(Jugadores);\n",
    "            while(m == jugador):\n",
    "                m = elemento_aleatorio(Jugadores)\n",
    "            \n",
    "            Homicidios.append(m)\n",
    "        for muerto in Homicidios:\n",
    "            if(muerto in Jugadores):\n",
    "                del(Jugadores[find_pos(Jugadores, muerto)])\n",
    "        k += 1\n",
    "    return k"
   ]
  },
  {
   "cell_type": "code",
   "execution_count": 310,
   "metadata": {
    "collapsed": true
   },
   "outputs": [],
   "source": [
    "def promedio(n, N):\n",
    "    L = []\n",
    "    for i in xsrange(N):\n",
    "        L.append(juego_rapido3(n))\n",
    "    return ((sum(L)/N.N(), sage.stats.basic_stats.std(L).N()))\n",
    "    "
   ]
  },
  {
   "cell_type": "code",
   "execution_count": 329,
   "metadata": {
    "collapsed": false
   },
   "outputs": [
    {
     "name": "stdout",
     "output_type": "stream",
     "text": [
      "(4.43620000000000, 0.513766440705852)\n"
     ]
    }
   ],
   "source": [
    "print promedio(100, 10000)"
   ]
  },
  {
   "cell_type": "markdown",
   "metadata": {},
   "source": [
    "Comentario sobre resultados"
   ]
  },
  {
   "cell_type": "code",
   "execution_count": 325,
   "metadata": {
    "collapsed": true
   },
   "outputs": [],
   "source": [
    "def variar_promedios():\n",
    "    L = []\n",
    "    for i in xsrange(1, 20):\n",
    "        L.append((i,promedio(10*i, 1000)[0]))\n",
    "    return L"
   ]
  },
  {
   "cell_type": "code",
   "execution_count": 326,
   "metadata": {
    "collapsed": false
   },
   "outputs": [
    {
     "data": {
      "image/png": "[encoded data removed]",
      "text/plain": [
       "Graphics object consisting of 1 graphics primitive"
      ]
     },
     "execution_count": 326,
     "metadata": {},
     "output_type": "execute_result"
    }
   ],
   "source": [
    "List = variar_promedios()\n",
    "points(List)"
   ]
  },
  {
   "cell_type": "markdown",
   "metadata": {},
   "source": [
    "La dependencia parece ser claramente una correlación logarítmica"
   ]
  },
  {
   "cell_type": "markdown",
   "metadata": {},
   "source": [
    "## Ejercicio 2\n",
    "\n",
    "Hemos visto que es posible estimar el área de un disco unidad *lanzando dardos al cuadrado unidad y contando los que caen dentro del disco*. El mismo procedimiento permite, en principio,  estimar el volumen de la hiperesfera $\\mathbb{B}_n$  de radio $1$ en $\\mathbb{R}^n$ (i.e. el conjunto de puntos de coordenadas $(x_1,x_2,\\dots,x_n)\\in \\mathbb{R}^n$ tales que $x_1^2+x_2^2+\\dots+x_n^2\\le 1$), pero los volúmenes que vamos obteniendo al incrementar $n$ son cada vez más pequeños y bastante pronto obtenemos cero como respuesta. \n",
    "\n",
    "Ésto se debe a que, cuando $n$ es grande, muy pocos dardos caen dentro de la hiperesfera debido a que ocupa muy poco volumen con respecto al volumen, $2^n$,  del hipercubo unidad $[-1,1]^n$. En este ejercicio vemos una manera distinta de *lanzar dardos*, que nos va a asegurar que suficientes caen dentro de la hiperesfera. Denotemos por $V(n)$ el volumen de $\\mathbb{B}_n$, que es lo que  queremos calcular. \n",
    "\n",
    "### Descripción del método\n",
    "\n",
    "1) El *truco básico* consiste en considerar la hiperesfera de dimensión $n$  dentro del hipercilindro $\\mathbb{C}_n:=\\mathbb{B}_{n-1}\\times [-1,1]$, en lugar de dentro del hipercubo $[-1,1]^n$.  El volumen del hipercilindro es, gracias al teorema de Fubini del cálculo integral, igual al volumen de $\\mathbb{B}_{n-1}$ multiplicado por dos. \n",
    "\n",
    "2) En segundo lugar  observamos que para  obtener puntos aleatorios en el hipercilindro $\\mathbb{C}_n$ basta generar puntos aleatorios $(x_1,x_2,\\dots,x_{n-1})\\in \\mathbb{B}_{n-1}$ en la hiperesfera de dimensión $n-1$ y para cada uno producir un real aleatorio $x_n$ en el intervalo $[-1,1]$. \n",
    "\n",
    "3) Para que esto funcione debemos encontrar una **manera eficiente** de generar puntos aleatorios en la hiperesfera $\\mathbb{B}_{n-1}$,  y el método que vamos a usar se llama de  *cadena de Markov* (una especie de *paseo aleatorio generalizado*):\n",
    "\n",
    "A) El primer punto de la cadena $\\mathbf{x}_0$ es, por ejemplo,  el origen de coordenadas.\n",
    "    \n",
    "B) Para cada punto $\\mathbf{x}_t=(x_1,x_2,\\dots,x_{n-1})\\in \\mathbb{B}_{n-1}$  obtenemos un nuevo punto $\\mathbf{x}_{t+1}$ eligiendo una coordenada al azar, supongamos que hemos obtenido $x_i$,  y un real aleatorio $\\Delta$ en el  intervalo $[-\\delta,\\delta]$. Entonces, cambiamos $x_i$ por $x_i+\\Delta$ en $\\mathbf{x}$ y si todavía estamos dentro de la hiperesfera ese es el nuevo punto $\\mathbf{x}_{t+1}$ en la cadena. Si al hacer el cambio nos vamos fuera de la hiperesfera dejamos $\\mathbf{x}_{t+1}:=\\mathbf{x}_{t}$. \n",
    "\n",
    "C) La cadena $\\{\\mathbf{x}_0,\\mathbf{x}_1,\\dots,\\mathbf{x}_t,\\dots,\\mathbf{x}_N\\}$ es entonces un conjunto de $N+1$ puntos, todos en la hiperesfera $\\mathbb{B}_{n-1}$, y se puede demostrar que, para $N$ suficientemente grande,  están uniformemente distribuidos en la hiperesfera. \n",
    "\n",
    "4) Después de estos preparativos podemos ya plantear el cálculo del volumen  $V(n)$ de la hiperesfera $\\mathbb{B}_n$: \n",
    "\n",
    "Generamos un número muy grande $N$ de puntos en la hiperesfera de dimensión $n-1$, usando el apartado 3),  y para cada uno de ellos vamos calculando un punto en el hipercilindro, como en el apartado 2). Si el punto obtenido en el hipercilindro cae dentro de la hiperesfera  de dimensión $n$, $\\mathbb{B}_n$,  incrementamos un contador, al que por ejemplo hemos llamado *dentro*. \n",
    "\n",
    "La fracción $dentro/N$, calculada después de haber generado $N$ puntos del hipercilindro,   es aproximadamente igual al cociente de volúmenes $V(n)/(2V(n-1))$ (volumen de la hiperesfera dividido por volumen del hipercilindro). \n",
    "\n",
    "Entonces, podemos reducir el cálculo  de $V(n)$ al de $V(n-1)$, el de $V(n-1)$ al de $V(n-2)$, etc., hasta llegar al volumen de la hiperesfera en dimensión $1$ que es igual a dos. \n",
    "\n",
    "### Ejercicios\n",
    "\n",
    "2.1) Define las funciones necesarias para implementar esta forma, *Monte Carlo con cadenas de Markov*,  de calcular $V(n).$\n",
    "\n",
    "2.2) El volumen exacto de una hiperesfera se puede calcular mediante integrales, y se obtiene una fórmula que se indica en la celda siguiente:\n"
   ]
  },
  {
   "cell_type": "code",
   "execution_count": 2,
   "metadata": {
    "collapsed": false
   },
   "outputs": [],
   "source": [
    "def Vol_exacto(dim):\n",
    "    return (pi**(dim/2.0)/gamma(dim/2.0+1.0)).n()"
   ]
  },
  {
   "cell_type": "code",
   "execution_count": 4,
   "metadata": {
    "collapsed": false
   },
   "outputs": [
    {
     "name": "stdout",
     "output_type": "stream",
     "text": [
      "2.00000000000000\n",
      "3.14159265358979\n",
      "4.18879020478639\n",
      "2.36820210188283e-40\n"
     ]
    }
   ],
   "source": [
    "print Vol_exacto(1);print Vol_exacto(2); print Vol_exacto(3); print Vol_exacto(100)"
   ]
  },
  {
   "cell_type": "markdown",
   "metadata": {},
   "source": [
    "¿Para qué queremos estimar esos mismos volúmenes mediante Monte Carlo? Los resultados exactos sirven como control de las estimaciones, y,  en particular,  permiten ajustar de forma óptima los parámetros $N$ y $\\delta$. \n",
    "\n",
    "El parámetro $N$ debe ser suficientemente grande para obtener una precisión aceptable, pero no tan grande que tengamos que esperar una eternidad por el resultado, y el parámetro $\\delta$, un real que podemos esperar que esté entre cero y uno,  no puede ser muy pequeño,  porque entonces todos los puntos de la cadena están muy próximos entre sí y no rellenan bien la hiperesfera, ni muy grande porque entonces la cadena repite muchas veces sus valores. \n",
    "\n",
    " Queremos elegir los parámetros, $N$ y $\\delta$,  para calcular,  mediante Monte Carlo,  el volumen de la hiperesfera de dimensión $50$  de forma que al menos sea correcta la primera cifra decimal no nula (por supuesto, cuantas más cifras correctas obtengamos mejor). Tomamos $N=10^5$ y elegimos un $\\delta$ óptimo, dentro del intervalo $(0,1)$,   mediante experimentos adecuados. \n",
    "\n",
    "\n"
   ]
  },
  {
   "cell_type": "code",
   "execution_count": 3,
   "metadata": {
    "collapsed": true
   },
   "outputs": [],
   "source": [
    "def dentro(L):\n",
    "    suma = 0\n",
    "    for item in L:\n",
    "        suma += item**2\n",
    "    if(sqrt(suma)<=1):\n",
    "        return true\n",
    "    return false"
   ]
  },
  {
   "cell_type": "code",
   "execution_count": 4,
   "metadata": {
    "collapsed": true
   },
   "outputs": [],
   "source": [
    "def copy(L):\n",
    "    R = []\n",
    "    for item in L:\n",
    "        R.append(item)\n",
    "    return R"
   ]
  },
  {
   "cell_type": "code",
   "execution_count": 5,
   "metadata": {
    "collapsed": true
   },
   "outputs": [],
   "source": [
    "def puntos_Markov(dim, N, delta):\n",
    "    L = [0]*dim\n",
    "    Res = [L]\n",
    "    for k in xsrange(1, N+1):\n",
    "        H = copy(Res[k-1])\n",
    "        R = copy(Res[k-1])\n",
    "        aleat = -delta + 2*delta*random() #numero aleatorio en [-delta, delta]\n",
    "        elid = randint(0, dim-1)\n",
    "        element = R[elid]\n",
    "        element += aleat\n",
    "        R[elid]=element\n",
    "        if(dentro(R)):\n",
    "            Res.append(R)\n",
    "        else:\n",
    "            Res.append(H)\n",
    "    return Res\n",
    "    "
   ]
  },
  {
   "cell_type": "code",
   "execution_count": 6,
   "metadata": {
    "collapsed": false
   },
   "outputs": [
    {
     "name": "stdout",
     "output_type": "stream",
     "text": [
      "[[0, 0, 0], [0, 0, -0.486668848826150], [-0.377103220863474, 0, -0.486668848826150], [-0.377103220863474, -0.418611487718869, -0.486668848826150], [-0.211158984150431, -0.418611487718869, -0.486668848826150], [-0.211158984150431, -0.206958530294391, -0.486668848826150], [-0.211158984150431, -0.206958530294391, -0.0544597262684525], [-0.211158984150431, -0.206958530294391, 0.296066530162648], [-0.211158984150431, -0.206958530294391, -0.106544548433307], [-0.211158984150431, -0.468261426428534, -0.106544548433307], [-0.211158984150431, -0.468261426428534, 0.239297444246078]]\n"
     ]
    }
   ],
   "source": [
    "print puntos_Markov(3, 10, 0.5)"
   ]
  },
  {
   "cell_type": "code",
   "execution_count": 7,
   "metadata": {
    "collapsed": false
   },
   "outputs": [
    {
     "name": "stdout",
     "output_type": "stream",
     "text": [
      "True\n"
     ]
    }
   ],
   "source": [
    "L = []\n",
    "R = puntos_Markov(3, 10, 0.5) #Probamos que todos los puntos generados están dentro de la esfera\n",
    "for p in R:\n",
    "    L.append(dentro(p))\n",
    "print all(L)"
   ]
  },
  {
   "cell_type": "code",
   "execution_count": 19,
   "metadata": {
    "collapsed": true
   },
   "outputs": [],
   "source": [
    "def V(n, N, delta):\n",
    "    if(n==1):\n",
    "        return 2\n",
    "    count = 0\n",
    "    L = puntos_Markov(n, N, delta)\n",
    "    for R in L:\n",
    "        R.append(-1 + 2*random())\n",
    "        if(dentro(R)):\n",
    "            count += 1\n",
    "    prob = count/N\n",
    "    print prob\n",
    "    anterior = V(n-1, N, delta)\n",
    "    Vol = 2*(anterior)*prob\n",
    "    return Vol.N()\n",
    "    "
   ]
  },
  {
   "cell_type": "code",
   "execution_count": 20,
   "metadata": {
    "collapsed": false
   },
   "outputs": [
    {
     "name": "stdout",
     "output_type": "stream",
     "text": [
      "5919/10000\n",
      "643/1000\n",
      "3.04473360000000\n",
      "4.18879020478639\n"
     ]
    }
   ],
   "source": [
    "print V(3, 10**4, 0.5)\n",
    "print 4/3*pi.N()"
   ]
  },
  {
   "cell_type": "markdown",
   "metadata": {},
   "source": [
    "Se puede apreciar que hay algún error en la codificación pues el valor no coincide a pesar de aproximarse. No consigo apreciar donde se encuentra y no queda tiempo. Mi suposición es que menos puntos de los que deben caen dentro de la esfera pues el resultado es menor de lo esperado. Puede tener que ver con mi elección de los números aleatorios"
   ]
  },
  {
   "cell_type": "markdown",
   "metadata": {},
   "source": [
    "La aproximación de delta se podría hacer haciendo una lista con las diferencias de el cálculo de V(n) con cada delta respecto del valor real, tomando un  número k de deltas a intervalos regulares entre 0 y 1. En esta lista se puede tomar el intervalo entre los valores con menos error, y repetir, haciendo una forma de bisección que nos aproxima a un delta con el error mínimo si este existe"
   ]
  },
  {
   "cell_type": "code",
   "execution_count": 23,
   "metadata": {
    "collapsed": false
   },
   "outputs": [
    {
     "data": {
      "text/plain": [
       "4.04008815251647"
      ]
     },
     "execution_count": 23,
     "metadata": {},
     "output_type": "execute_result"
    }
   ],
   "source": [
    "643/1000*pi.N()*2"
   ]
  },
  {
   "cell_type": "markdown",
   "metadata": {},
   "source": [
    "Curiosamente se ve en esta casilla que con la probabilidad obtenida en la dimensión k+1 se halla el valor de k, por lo que ahí debe estar el fallo"
   ]
  },
  {
   "cell_type": "code",
   "execution_count": null,
   "metadata": {
    "collapsed": true
   },
   "outputs": [],
   "source": []
  }
 ],
 "metadata": {
  "kernelspec": {
   "display_name": "SageMath 7.3",
   "language": "",
   "name": "sagemath"
  },
  "language_info": {
   "codemirror_mode": {
    "name": "ipython",
    "version": 2
   },
   "file_extension": ".py",
   "mimetype": "text/x-python",
   "name": "python",
   "nbconvert_exporter": "python",
   "pygments_lexer": "ipython2",
   "version": "2.7.13"
  }
 },
 "nbformat": 4,
 "nbformat_minor": 0
}
