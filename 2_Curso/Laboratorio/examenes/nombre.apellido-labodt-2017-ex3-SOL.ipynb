{
 "cells": [
  {
   "cell_type": "markdown",
   "metadata": {},
   "source": [
    "1) Antes que nada, lee cuidadosamente estas instrucciones y las que aparecen en la hoja con la contraseña. .\n",
    "\n",
    "2) Cambia el nombre de este archivo sustituyendo \"nombre.apellido\" por los tuyos, tal como aparecen en tu dirección de correo electrónico de la UAM.\n",
    "\n",
    "3) Este archivo debe quedar en la carpeta \"ENTREGA...\" que está en el escritorio de tu cuenta de examen. Lo mejor es que esté en esa carpeta desde el comienzo del examen.\n",
    "\n",
    "4) El examen resuelto debe quedar en este único archivo. No se puede usar un archivo para cada pregunta.\n",
    "\n",
    "5) Recuerda que hay que deshabilitar el salvapantallas al comenzar el examen, tal como está indicado en la hoja con la contraseña. \n",
    "\n",
    "\n",
    "CALIFICACIÓN:\n"
   ]
  },
  {
   "cell_type": "code",
   "execution_count": null,
   "metadata": {
    "collapsed": true
   },
   "outputs": [],
   "source": []
  },
  {
   "cell_type": "markdown",
   "metadata": {},
   "source": [
    "COMENTARIOS:\n",
    "\n",
    "1)"
   ]
  },
  {
   "cell_type": "markdown",
   "metadata": {},
   "source": [
    "## Ejercicio 1\n",
    "\n",
    "(3 puntos) Los elementos invertibles para el producto en $\\mathbb{Z}_n$ forman un grupo  que habitualmente se denota por $\\mathbb{Z}_n^*$. Su cardinal es $\\phi(n)$, con $\\phi$ la función de Euler, y sus elementos son las clases de restos con un representante primo con $n$. Supongamos que $n$ es un primo $p$, de forma que  $\\phi(p)=p-1$, y se sabe que, en este caso,  $\\mathbb{Z}_p^*$ es un grupo cíclico. Este ejercicio trata de encontrar generadores de $\\mathbb{Z}_p^*$, mediante *fuerza bruta*, es decir, no usamos un algoritmo específico, sino que probamos distintos elementos, elegidos aleatoriamente, hasta que encontramos uno que es un generador.\n",
    "\n",
    "1) Define una función $generador(p)$ que primero compruebe si $p$ es primo, y si lo es devuelva un generador del grupo $\\mathbb{Z}_p^*$. Por supuesto, **NO** sirve usar una función predefinida en Sage  que ella misma calcule generadores. \n",
    "\n",
    "2) Define una función $es\\_generador(g,n)$ que devuelva *True* si $g$ es un generador de $\\mathbb{Z}_n^*$ y *False* si no lo es. En este apartado,  y los siguientes, $n$ es un entero no necesariamente primo. \n",
    "\n",
    "3) Define una función $es\\_ciclico(n)$ que devuelva *True* si $\\mathbb{Z}_n^*$ tiene algún generador, es decir, *es cíclico*, y *False* si no existe generador. \n",
    "\n",
    "4) Finalmente, ejecuta la función  $es\\_ciclico(n)$ para $2\\le n\\le 100$, y **enuncia** la regla,  que puedas deducir del experimento,  sobre **los valores de $n$, aparte de $n$ primo, para los que  $\\mathbb{Z}_n^*$ tiene un generador**.\n",
    "\n"
   ]
  },
  {
   "cell_type": "code",
   "execution_count": 1,
   "metadata": {
    "collapsed": true
   },
   "outputs": [],
   "source": [
    "def orbita(g,n):\n",
    "    L = [g]\n",
    "    #print L\n",
    "    phi = euler_phi(n)\n",
    "    for j in xsrange(2,phi):\n",
    "        k = power_mod(g,j,n)\n",
    "        #print k\n",
    "        if k in L:\n",
    "            return L\n",
    "        else:\n",
    "            L.append(k)\n",
    "            continue\n",
    "    return L"
   ]
  },
  {
   "cell_type": "code",
   "execution_count": 2,
   "metadata": {
    "collapsed": false
   },
   "outputs": [
    {
     "name": "stdout",
     "output_type": "stream",
     "text": [
      "[2, 4, 8, 16, 32, 5, 10, 20, 40, 21, 42, 25, 50, 41, 23, 46, 33, 7, 14, 28, 56, 53, 47, 35, 11, 22, 44, 29, 58, 57, 55, 51, 43, 27, 54, 49, 39, 19, 38, 17, 34, 9, 18, 36, 13, 26, 52, 45, 31, 3, 6, 12, 24, 48, 37, 15, 30]\n"
     ]
    }
   ],
   "source": [
    "print orbita(2,nth_prime(17))"
   ]
  },
  {
   "cell_type": "code",
   "execution_count": 3,
   "metadata": {
    "collapsed": true
   },
   "outputs": [],
   "source": [
    "def generador(n):\n",
    "    if not is_prime(n):\n",
    "        return \"ERROR: n debe ser primo\"\n",
    "    g = randint(2,n-1)\n",
    "    while len(orbita(g,n)) != euler_phi(n)-1:\n",
    "           g = randint(2,n-1)\n",
    "    return g"
   ]
  },
  {
   "cell_type": "code",
   "execution_count": 4,
   "metadata": {
    "collapsed": false
   },
   "outputs": [
    {
     "data": {
      "text/plain": [
       "23"
      ]
     },
     "execution_count": 4,
     "metadata": {},
     "output_type": "execute_result"
    }
   ],
   "source": [
    "generador(nth_prime(17))"
   ]
  },
  {
   "cell_type": "code",
   "execution_count": 5,
   "metadata": {
    "collapsed": true
   },
   "outputs": [],
   "source": [
    "def es_generador(g,n):\n",
    "    if len(orbita(g,n))== euler_phi(n)-1 and gcd(g,n) == 1:\n",
    "        return True\n",
    "    else:\n",
    "        return False"
   ]
  },
  {
   "cell_type": "code",
   "execution_count": 6,
   "metadata": {
    "collapsed": false
   },
   "outputs": [
    {
     "data": {
      "text/plain": [
       "True"
      ]
     },
     "execution_count": 6,
     "metadata": {},
     "output_type": "execute_result"
    }
   ],
   "source": [
    "es_generador(30,nth_prime(17))"
   ]
  },
  {
   "cell_type": "code",
   "execution_count": 7,
   "metadata": {
    "collapsed": true
   },
   "outputs": [],
   "source": [
    "def es_ciclico(n):\n",
    "    for g in xsrange(3,n):\n",
    "        if es_generador(g,n) and gcd(g,n) == 1:\n",
    "            return True\n",
    "    return False"
   ]
  },
  {
   "cell_type": "code",
   "execution_count": 8,
   "metadata": {
    "collapsed": false
   },
   "outputs": [
    {
     "name": "stdout",
     "output_type": "stream",
     "text": [
      "CPU times: user 1.38 s, sys: 84 ms, total: 1.47 s\n",
      "Wall time: 1.42 s\n"
     ]
    }
   ],
   "source": [
    "%time L = [(n,list(factor(n)),es_ciclico(n)) for n in srange(2,201) if not is_prime(n) and es_ciclico(n)==True]"
   ]
  },
  {
   "cell_type": "code",
   "execution_count": 9,
   "metadata": {
    "collapsed": false
   },
   "outputs": [
    {
     "name": "stdout",
     "output_type": "stream",
     "text": [
      "[(4, [(2, 2)], True), (6, [(2, 1), (3, 1)], True), (9, [(3, 2)], True), (10, [(2, 1), (5, 1)], True), (14, [(2, 1), (7, 1)], True), (18, [(2, 1), (3, 2)], True), (22, [(2, 1), (11, 1)], True), (25, [(5, 2)], True), (26, [(2, 1), (13, 1)], True), (27, [(3, 3)], True), (34, [(2, 1), (17, 1)], True), (38, [(2, 1), (19, 1)], True), (46, [(2, 1), (23, 1)], True), (49, [(7, 2)], True), (50, [(2, 1), (5, 2)], True), (54, [(2, 1), (3, 3)], True), (58, [(2, 1), (29, 1)], True), (62, [(2, 1), (31, 1)], True), (74, [(2, 1), (37, 1)], True), (81, [(3, 4)], True), (82, [(2, 1), (41, 1)], True), (86, [(2, 1), (43, 1)], True), (94, [(2, 1), (47, 1)], True), (98, [(2, 1), (7, 2)], True), (106, [(2, 1), (53, 1)], True), (118, [(2, 1), (59, 1)], True), (121, [(11, 2)], True), (122, [(2, 1), (61, 1)], True), (125, [(5, 3)], True), (134, [(2, 1), (67, 1)], True), (142, [(2, 1), (71, 1)], True), (146, [(2, 1), (73, 1)], True), (158, [(2, 1), (79, 1)], True), (162, [(2, 1), (3, 4)], True), (166, [(2, 1), (83, 1)], True), (169, [(13, 2)], True), (178, [(2, 1), (89, 1)], True), (194, [(2, 1), (97, 1)], True)]\n"
     ]
    }
   ],
   "source": [
    "print L"
   ]
  },
  {
   "cell_type": "markdown",
   "metadata": {},
   "source": [
    "Observando esta lista vemos:\n",
    "\n",
    "1) La única potencia de $2$ que aparece es $4$. Las potencias de primos $p\\ne 2$ aparecen todas.\n",
    "\n",
    "2) Los dobles de una potencia de un primo, $\\ne 2$, aparecen todos, y son los únicos enteros con dos factores primos distintos. \n",
    "\n",
    "3) No parece que haya enteros en la lista con tres factores primos distintos. \n",
    "\n",
    "Comprobamos estas afirmaciones."
   ]
  },
  {
   "cell_type": "code",
   "execution_count": 10,
   "metadata": {
    "collapsed": false
   },
   "outputs": [
    {
     "name": "stdout",
     "output_type": "stream",
     "text": [
      "CPU times: user 21 s, sys: 264 ms, total: 21.3 s\n",
      "Wall time: 21 s\n"
     ]
    }
   ],
   "source": [
    "%time L1 = [(n,list(factor(n)),es_ciclico(n)) for n in srange(2,501) \\\n",
    "           if not is_prime(n) and es_ciclico(n)==True and len(list(factor(n)))<2]"
   ]
  },
  {
   "cell_type": "code",
   "execution_count": 11,
   "metadata": {
    "collapsed": false
   },
   "outputs": [
    {
     "name": "stdout",
     "output_type": "stream",
     "text": [
      "[(4, [(2, 2)], True), (9, [(3, 2)], True), (25, [(5, 2)], True), (27, [(3, 3)], True), (49, [(7, 2)], True), (81, [(3, 4)], True), (121, [(11, 2)], True), (125, [(5, 3)], True), (169, [(13, 2)], True), (243, [(3, 5)], True), (289, [(17, 2)], True), (343, [(7, 3)], True), (361, [(19, 2)], True)]\n"
     ]
    }
   ],
   "source": [
    "print L1"
   ]
  },
  {
   "cell_type": "markdown",
   "metadata": {},
   "source": [
    "Esto comprueba la afirmación 1)."
   ]
  },
  {
   "cell_type": "code",
   "execution_count": 12,
   "metadata": {
    "collapsed": false
   },
   "outputs": [
    {
     "name": "stdout",
     "output_type": "stream",
     "text": [
      "CPU times: user 21.4 s, sys: 192 ms, total: 21.6 s\n",
      "Wall time: 21.4 s\n"
     ]
    }
   ],
   "source": [
    "%time L2 = [(n,list(factor(n)),es_ciclico(n)) for n in srange(2,501) \\\n",
    "           if not is_prime(n) and es_ciclico(n)==True and len(list(factor(n)))==2]"
   ]
  },
  {
   "cell_type": "code",
   "execution_count": 13,
   "metadata": {
    "collapsed": false
   },
   "outputs": [
    {
     "name": "stdout",
     "output_type": "stream",
     "text": [
      "[(6, [(2, 1), (3, 1)], True), (10, [(2, 1), (5, 1)], True), (14, [(2, 1), (7, 1)], True), (18, [(2, 1), (3, 2)], True), (22, [(2, 1), (11, 1)], True), (26, [(2, 1), (13, 1)], True), (34, [(2, 1), (17, 1)], True), (38, [(2, 1), (19, 1)], True), (46, [(2, 1), (23, 1)], True), (50, [(2, 1), (5, 2)], True), (54, [(2, 1), (3, 3)], True), (58, [(2, 1), (29, 1)], True), (62, [(2, 1), (31, 1)], True), (74, [(2, 1), (37, 1)], True), (82, [(2, 1), (41, 1)], True), (86, [(2, 1), (43, 1)], True), (94, [(2, 1), (47, 1)], True), (98, [(2, 1), (7, 2)], True), (106, [(2, 1), (53, 1)], True), (118, [(2, 1), (59, 1)], True), (122, [(2, 1), (61, 1)], True), (134, [(2, 1), (67, 1)], True), (142, [(2, 1), (71, 1)], True), (146, [(2, 1), (73, 1)], True), (158, [(2, 1), (79, 1)], True), (162, [(2, 1), (3, 4)], True), (166, [(2, 1), (83, 1)], True), (178, [(2, 1), (89, 1)], True), (194, [(2, 1), (97, 1)], True), (202, [(2, 1), (101, 1)], True), (206, [(2, 1), (103, 1)], True), (214, [(2, 1), (107, 1)], True), (218, [(2, 1), (109, 1)], True), (226, [(2, 1), (113, 1)], True), (242, [(2, 1), (11, 2)], True), (250, [(2, 1), (5, 3)], True), (254, [(2, 1), (127, 1)], True), (262, [(2, 1), (131, 1)], True), (274, [(2, 1), (137, 1)], True), (278, [(2, 1), (139, 1)], True), (298, [(2, 1), (149, 1)], True), (302, [(2, 1), (151, 1)], True), (314, [(2, 1), (157, 1)], True), (326, [(2, 1), (163, 1)], True), (334, [(2, 1), (167, 1)], True), (338, [(2, 1), (13, 2)], True), (346, [(2, 1), (173, 1)], True), (358, [(2, 1), (179, 1)], True), (362, [(2, 1), (181, 1)], True), (382, [(2, 1), (191, 1)], True), (386, [(2, 1), (193, 1)], True), (394, [(2, 1), (197, 1)], True), (398, [(2, 1), (199, 1)], True), (422, [(2, 1), (211, 1)], True), (446, [(2, 1), (223, 1)], True), (454, [(2, 1), (227, 1)], True), (458, [(2, 1), (229, 1)], True), (466, [(2, 1), (233, 1)], True), (478, [(2, 1), (239, 1)], True), (482, [(2, 1), (241, 1)], True), (486, [(2, 1), (3, 5)], True)]\n"
     ]
    }
   ],
   "source": [
    "print L2"
   ]
  },
  {
   "cell_type": "markdown",
   "metadata": {},
   "source": [
    "Parece cierto, pero conviene comprobarlo de otra manera."
   ]
  },
  {
   "cell_type": "code",
   "execution_count": 14,
   "metadata": {
    "collapsed": true
   },
   "outputs": [],
   "source": [
    "def generar_lista(N,k):\n",
    "    L = []\n",
    "    Lprimos = prime_range(3,N)\n",
    "    for p in Lprimos:\n",
    "        for exp in srange(1,k):\n",
    "            L.append(2*p**exp)\n",
    "    return L"
   ]
  },
  {
   "cell_type": "code",
   "execution_count": 15,
   "metadata": {
    "collapsed": true
   },
   "outputs": [],
   "source": [
    "L3 = generar_lista(25,4) "
   ]
  },
  {
   "cell_type": "code",
   "execution_count": 16,
   "metadata": {
    "collapsed": false
   },
   "outputs": [
    {
     "name": "stdout",
     "output_type": "stream",
     "text": [
      "CPU times: user 3.51 s, sys: 124 ms, total: 3.64 s\n",
      "Wall time: 3.39 s\n"
     ]
    },
    {
     "data": {
      "text/plain": [
       "True"
      ]
     },
     "execution_count": 16,
     "metadata": {},
     "output_type": "execute_result"
    }
   ],
   "source": [
    "%time all([es_ciclico(n) for n in L3])"
   ]
  },
  {
   "cell_type": "code",
   "execution_count": 17,
   "metadata": {
    "collapsed": false
   },
   "outputs": [
    {
     "name": "stdout",
     "output_type": "stream",
     "text": [
      "CPU times: user 21.1 s, sys: 228 ms, total: 21.4 s\n",
      "Wall time: 21.1 s\n"
     ]
    }
   ],
   "source": [
    "%time L4 = [(n,list(factor(n)),es_ciclico(n)) for n in srange(2,501) \\\n",
    "           if not is_prime(n) and es_ciclico(n)==True and len(list(factor(n)))==2 \\\n",
    "           and list(factor(n))[0][0]==2 and  list(factor(n))[0][1]>1]"
   ]
  },
  {
   "cell_type": "code",
   "execution_count": 18,
   "metadata": {
    "collapsed": false
   },
   "outputs": [
    {
     "name": "stdout",
     "output_type": "stream",
     "text": [
      "[]\n"
     ]
    }
   ],
   "source": [
    "print L4"
   ]
  },
  {
   "cell_type": "markdown",
   "metadata": {},
   "source": [
    "Esto comprueba la afirmación 2).\n",
    "\n",
    "Si se aumenta el 4 a 5, en $generar\\_lista(25,4)$, parece que ya tarda mucho en ejecutar todos los $es\\_ciclico$, debido probablemente a que el método de fuerza bruta no es muy eficiente. "
   ]
  },
  {
   "cell_type": "code",
   "execution_count": 19,
   "metadata": {
    "collapsed": false
   },
   "outputs": [
    {
     "name": "stdout",
     "output_type": "stream",
     "text": [
      "CPU times: user 21.2 s, sys: 224 ms, total: 21.4 s\n",
      "Wall time: 21.2 s\n"
     ]
    }
   ],
   "source": [
    "%time L5 = [(n,list(factor(n)),es_ciclico(n)) for n in srange(2,501) \\\n",
    "           if not is_prime(n) and es_ciclico(n)==True and len(list(factor(n)))>2]"
   ]
  },
  {
   "cell_type": "code",
   "execution_count": 20,
   "metadata": {
    "collapsed": false
   },
   "outputs": [
    {
     "name": "stdout",
     "output_type": "stream",
     "text": [
      "[]\n"
     ]
    }
   ],
   "source": [
    "print L5"
   ]
  },
  {
   "cell_type": "markdown",
   "metadata": {},
   "source": [
    "Con esto se ha comprobado, hasta cierto punto, que las afirmaciones son todas ciertas, y se tiene \n",
    "\n",
    "*Los enteros $n>2$ tales que $\\mathbb{Z}_n^*$ es cíclico son  $n=p^k$, $n=2p^k$ con $p$, en los dos casos,  un primo $p\\ne 2$, y $n=4$.*\n",
    "\n",
    "En el enunciado del ejercicio no se pedían estas comprobaciones. "
   ]
  },
  {
   "cell_type": "markdown",
   "metadata": {},
   "source": [
    "## Ejercicio 2\n",
    "\n",
    "(3 puntos) En este ejercicio construimos el sistema criptográfico de clave pública  **El Gamal**, que utiliza de manera esencial  el ejercicio anterior. Para simplificar el ejercicio prescindimos de la fase de codificación y nos centramos en el encriptado y desencriptado. Los mensajes codificados van a ser enteros, o más bien clases de restos, y la codificación y descodificación serían similares a las utilizadas en RSA. \n",
    "\n",
    "1) **CLAVES**: La clave pública de *Alice*  está formada por tres enteros $(p,g,A)$ con $p$ un primo muy grande, g un generador de $\\mathbb{Z}_p^*$ y $A:=g^a\\  mod\\  p$,  con el exponente $1\\le a\\le p-2$ la clave privada de *Alice*, que ella elige, con algo de cabeza,  y mantiene en secreto. \n",
    "\n",
    "2) **ENCRIPTADO**: *Bob*, que quiere encriptar un mensaje para Alice, codifica su mensaje como un entero $m$ módulo $p$, elige un exponente aleatorio $1\\le b\\le p-2$ y calcula $B:=g^b\\  mod\\  p$ y también $c:=A^b\\cdot m \\  mod\\  p$. El mensaje encriptado es el par $(B,c).$ \n",
    "\n",
    "3) **DESENCRIPTADO**: Alice recibe $(B,c)$ y define $x:=p-1-a$, lo que le permite recuperar $m$ como $B^x\\cdot c \\ mod\\ p$.\n",
    "\n",
    "A) Usaremos $p= nth\\_prime(???)$. Elige claves para Alice. Define una función $encripta(p,g,A,m)$ que devuelva $(B,c)$.\n",
    "\n",
    "B) Define una función $desencripta(p,a,B,c)$, que devuelva el mensaje descifrado $m$, y comprueba que si se encripta el mensaje $m=randint(p//2,p-2)$ se recupera el mensaje $m$ al desencriptar.\n",
    "\n",
    "C) El exponente $a$ no cambia, mientras Alice no cambie sus claves tiene que usar siempre $a$ como clave privada, pero el exponente $b$  debe ser elegido aleatoriamente cada vez que Bob quiere encriptar un mensaje para Alice. Supongamos que  Bob encripta $m$ usando como exponente $b$, pero *el malo* consigue acceder a $m$ y a $c$. Posteriormente Bob encripta $m^{\\prime}$ usando el mismo exponente $b$. Demuestra, mediante cálculos en $\\mathbb{Z}_p$,  que si *el malo* intercepta $c^{\\prime}$ puede calcular $m^{\\prime}$ sin conocer $a$. "
   ]
  },
  {
   "cell_type": "code",
   "execution_count": 21,
   "metadata": {
    "collapsed": false
   },
   "outputs": [
    {
     "name": "stdout",
     "output_type": "stream",
     "text": [
      "7919\n"
     ]
    }
   ],
   "source": [
    "p = nth_prime(1000); print p"
   ]
  },
  {
   "cell_type": "code",
   "execution_count": 22,
   "metadata": {
    "collapsed": false
   },
   "outputs": [
    {
     "name": "stdout",
     "output_type": "stream",
     "text": [
      "4849\n",
      "CPU times: user 792 ms, sys: 24 ms, total: 816 ms\n",
      "Wall time: 787 ms\n"
     ]
    }
   ],
   "source": [
    "%time g = generador(p); print g"
   ]
  },
  {
   "cell_type": "code",
   "execution_count": 23,
   "metadata": {
    "collapsed": false
   },
   "outputs": [
    {
     "name": "stdout",
     "output_type": "stream",
     "text": [
      "4206\n"
     ]
    }
   ],
   "source": [
    "a = randint(2000,p-1000);print a"
   ]
  },
  {
   "cell_type": "code",
   "execution_count": 24,
   "metadata": {
    "collapsed": false
   },
   "outputs": [
    {
     "name": "stdout",
     "output_type": "stream",
     "text": [
      "6350\n"
     ]
    }
   ],
   "source": [
    "A = power_mod(g,a,p);print A"
   ]
  },
  {
   "cell_type": "markdown",
   "metadata": {},
   "source": [
    "La clave pública de Alice es $(p,g,A)$."
   ]
  },
  {
   "cell_type": "code",
   "execution_count": 25,
   "metadata": {
    "collapsed": true
   },
   "outputs": [],
   "source": [
    "def encripta(p,g,A,m):\n",
    "    b = randint(1,p-2)\n",
    "    B = power_mod(g,b,p)\n",
    "    c = (power_mod(A,b,p)*m)%p\n",
    "    return B,c"
   ]
  },
  {
   "cell_type": "code",
   "execution_count": 26,
   "metadata": {
    "collapsed": true
   },
   "outputs": [],
   "source": [
    "def desencripta(p,a,B,c):\n",
    "    x = p-1-a\n",
    "    return ((power_mod(B,x,p))*c)%p"
   ]
  },
  {
   "cell_type": "code",
   "execution_count": 27,
   "metadata": {
    "collapsed": false
   },
   "outputs": [
    {
     "data": {
      "text/plain": [
       "True"
      ]
     },
     "execution_count": 27,
     "metadata": {},
     "output_type": "execute_result"
    }
   ],
   "source": [
    "m = randint(p//2,p-2)\n",
    "B,c = encripta(p,g,A,m)\n",
    "desencripta(p,a,B,c) == m"
   ]
  },
  {
   "cell_type": "markdown",
   "metadata": {},
   "source": [
    "Apartado C: Tenemos, en $\\mathbb{Z}_p$,  $c=A^bm; c^{\\prime}=A^bm^{\\prime}$, y podemos despejar $m^{\\prime}=c^{\\prime}c^{-1}m.$"
   ]
  },
  {
   "cell_type": "markdown",
   "metadata": {},
   "source": [
    "## Ejercicio 3\n",
    "\n",
    "(4 puntos) El sistema **One time pad** es criptográficamente perfecto siempre que: \n",
    "\n",
    "1) No se reutilicen trozos de clave ya utilizados.\n",
    "\n",
    "2) La clave sea una cadena binaria aleatoria, con igual probabilidad para el cero que para el uno.\n",
    "\n",
    "En clase se mencionó que **``si utilizamos el mismo trozo de clave repetidas veces el One time pad termina convertido en Vigenere, y, por tanto, es vulnerable''**. Esta afirmación es intuitivamente clara debido a la manera en que se definen los dos sistemas criptográficos, sin embargo, en este ejercicio **queremos comprobarlo sobre un ejemplo concreto.**\n",
    "\n",
    "Las funciones necesarias para efectuar esta comprobación ya están **casi** preparadas por nuestro trabajo previo con los ejercicios del curso, pero **será necesario efectuar algunos pequeños cambios** porque unas están adaptadas a *Vigenere* y otras a *One time pad*.  \n",
    "\n",
    "Resumiendo: hay que comprobar que si usamos para *One time pad* una clave de 100 bits, definida en una celda más abajo, y encriptamos el texto indicado, repitiendo la misma clave todas las veces que haga falta, **el malo** puede recuperar la clave si intercepta el texto encriptado usando, esencialmente, el mismo método que permite romper *Vigenere*. \n",
    "\n",
    "**IMPORTANTE:** Para simplificar el ejercicio supondremos que **el malo** conoce la longitud del trozo de clave que se repite, es decir, sabe que se va a repetir una clave de $100$ bits. "
   ]
  },
  {
   "cell_type": "code",
   "execution_count": 28,
   "metadata": {
    "collapsed": true
   },
   "outputs": [],
   "source": [
    "alfb = \"ABCDEFGHIJKLMNOPQRSTUVWXYZ123456\""
   ]
  },
  {
   "cell_type": "code",
   "execution_count": 29,
   "metadata": {
    "collapsed": true
   },
   "outputs": [],
   "source": [
    "## La clave de 100 bits a repetir\n",
    "C = '1010011001110111111110110110010001011010011010001001101001100011111000000101110011010000000111010101' "
   ]
  },
  {
   "cell_type": "code",
   "execution_count": 30,
   "metadata": {
    "collapsed": false
   },
   "outputs": [
    {
     "data": {
      "text/plain": [
       "16560"
      ]
     },
     "execution_count": 30,
     "metadata": {},
     "output_type": "execute_result"
    }
   ],
   "source": [
    "## El texto a encriptar\n",
    "texto = 'TELLMEOMUSEOFTHATINGENIOUSHEROWHOTRAVELLEDFARANDWIDEAFTERHEHADSACKEDTHEFAMOUSTOWNOFTROYMANYCITIESDIDHEVISITANDMANYWERETHENATIONSWITHWHOSEMANNERSANDCUSTOMSHEWASACQUAINTEDMOREOVERHESUFFEREDMUCHBYSEAWHILETRYINGTOSAVEHISOWNLIFEANDBRINGHISMENSAFELYHOMEBUTDOWHATHEMIGHTHECOULDNOTSAVEHISMENFORTHEYPERISHEDTHROUGHTHEIROWNSHEERFOLLYINEATINGTHECATTLEOFTHESUNGODHYPERIONSOTHEGODPREVENTEDTHEMFROMEVERREACHINGHOMETELLMETOOABOUTALLTHESETHINGSOHDAUGHTEROFJOVEFROMWHATSOEVERSOURCEYOUMAYKNOWTHEMSONOWALLWHOESCAPEDDEATHINBATTLEORBYSHIPWRECKHADGOTSAFELYHOMEEXCEPTULYSSESANDHETHOUGHHEWASLONGINGTORETURNTOHISWIFEANDCOUNTRYWASDETAINEDBYTHEGODDESSCALYPSOWHOHADGOTHIMINTOALARGECAVEANDWANTEDTOMARRYHIMBUTASYEARSWENTBYTHERECAMEATIMEWHENTHEGODSSETTLEDTHATHESHOULDGOBACKTOITHACAEVENTHENHOWEVERWHENHEWASAMONGHISOWNPEOPLEHISTROUBLESWERENOTYETOVERNEVERTHELESSALLTHEGODSHADNOWBEGUNTOPITYHIMEXCEPTNEPTUNEWHOSTILLPERSECUTEDHIMWITHOUTCEASINGANDWOULDNOTLETHIMGETHOMENOWNEPTUNEHADGONEOFFTOTHEETHIOPIANSWHOAREATTHEWORLDSENDANDLIEINTWOHALVESTHEONELOOKINGWESTANDTHEOTHEREASTHEHADGONETHERETOACCEPTAHECATOMBOFSHEEPANDOXENANDWASENJOYINGHIMSELFATHISFESTIVALBUTTHEOTHERGODSMETINTHEHOUSEOFOLYMPIANJOVEANDTHESIREOFGODSANDMENSPOKEFIRSTATTHATMOMENTHEWASTHINKINGOFAEGISTHUSWHOHADBEENKILLEDBYAGAMEMNONSSONORESTESSOHESAIDTOTHEOTHERGODSSEENOWHOWMENLAYBLAMEUPONUSGODSFORWHATISAFTERALLNOTHINGBUTTHEIROWNFOLLYLOOKATAEGISTHUSHEMUSTNEEDSMAKELOVETOAGAMEMNONSWIFEUNRIGHTEOUSLYANDTHENKILLAGAMEMNONTHOUGHHEKNEWITWOULDBETHEDEATHOFHIMFORISENTMERCURYTOWARNHIMNOTTODOEITHEROFTHESETHINGSINASMUCHASORESTESWOULDBESURETOTAKEHISREVENGEWHENHEGREWUPANDWANTEDTORETURNHOMEMERCURYTOLDHIMTHISINALLGOODWILLBUTHEWOULDNOTLISTENANDNOWHEHASPAIDFOREVERYTHINGINFULLTHENMINERVASAIDFATHERSONOFSATURNKINGOFKINGSITSERVEDAEGISTHUSRIGHTANDSOITWOULDANYONEELSEWHODOESASHEDIDBUTAEGISTHUSISNEITHERHERENORTHEREITISFORULYSSESTHATMYHEARTBLEEDSWHENITHINKOFHISSUFFERINGSINTHATLONELYSEAGIRTISLANDFARAWAYPOORMANFROMALLHISFRIENDSITISANISLANDCOVEREDWITHFORESTINTHEVERYMIDDLEOFTHESEAANDAGODDESSLIVESTHEREDAUGHTEROFTHEMAGICIANATLASWHOLOOKSAFTERTHEBOTTOMOFTHEOCEANANDCARRIESTHEGREATCOLUMNSTHATKEEPHEAVENANDEARTHASUNDERTHISDAUGHTEROFATLASHASGOTHOLDOFPOORUNHAPPYULYSSESANDKEEPSTRYINGBYEVERYKINDOFBLANDISHMENTTOMAKEHIMFORGETHISHOMESOTHATHEISTIREDOFLIFEANDTHINKSOFNOTHINGBUTHOWHEMAYONCEMORESEETHESMOKEOFHISOWNCHIMNEYSYOUSIRTAKENOHEEDOFTHISANDYETWHENULYSSESWASBEFORETROYDIDHENOTPROPITIATEYOUWITHMANYABURNTSACRIFICEWHYTHENSHOULDYOUKEEPONBEINGSOANGRYWITHHIMANDJOVESAIDMYCHILDWHATAREYOUTALKINGABOUTHOWCANIFORGETULYSSESTHANWHOMTHEREISNOMORECAPABLEMANONEARTHNORMORELIBERALINHISOFFERINGSTOTHEIMMORTALGODSTHATLIVEINHEAVENBEARINMINDHOWEVERTHATNEPTUNEISSTILLFURIOUSWITHULYSSESFORHAVINGBLINDEDANEYEOFPOLYPHEMUSKINGOFTHECYCLOPESPOLYPHEMUSISSONTONEPTUNEBYTHENYMPHTHOOSADAUGHTERTOTHESEAKINGPHORCYSTHEREFORETHOUGHHEWILLNOTKILLULYSSESOUTRIGHTHETORMENTSHIMBYPREVENTINGHIMFROMGETTINGHOMESTILLLETUSLAYOURHEADSTOGETHERANDSEEHOWWECANHELPHIMTORETURNNEPTUNEWILLTHENBEPACIFIEDFORIFWEAREALLOFAMINDHECANHARDLYSTANDOUTAGAINSTUSANDMINERVASAIDFATHERSONOFSATURNKINGOFKINGSIFTHENTHEGODSNOWMEANTHATULYSSESSHOULDGETHOMEWESHOULDFIRSTSENDMERCURYTOTHEOGYGIANISLANDTOTELLCALYPSOTHATWEHAVEMADEUPOURMINDSANDTHATHEISTORETURNINTHEMEANTIMEIWILLGOTOITHACATOPUTHEARTINTOULYSSESSONTELEMACHUSIWILLEMBOLDENHIMTOCALLTHEACHAEANSINASSEMBLYANDSPEAKOUTTOTHESUITORSOFHISMOTHERPENELOPEWHOPERSISTINEATINGUPANYNUMBEROFHISSHEEPANDOXENIWILLALSOCONDUCTHIMTOSPARTAANDTOPYLOSTOSEEIFHECANHEARANYTHINGABOUTTHERETURNOFHISDEARFATHERFORTHISWILLMAKEPEOPLESPEAKWELLOFHIMSOSAYINGSHEBOUNDONHERGLITTERINGGOLDENSANDALSIMPERISHABLEWITHWHICHSHECANFLYLIKETHEWINDOVERLANDORSEASHEGRASPEDTHEREDOUBTABLEBRONZESHODSPEARSOSTOUTANDSTURDYANDSTRONGWHEREWITHSHEQUELLSTHERANKSOFHEROESWHOHAVEDISPLEASEDHERANDDOWNSHEDARTEDFROMTHETOPMOSTSUMMITSOFOLYMPUSWHEREONFORTHWITHSHEWASINITHACAATTHEGATEWAYOFULYSSESHOUSEDISGUISEDASAVISITORMENTESCHIEFOFTHETAPHIANSANDSHEHELDABRONZESPEARINHERHANDTHERESHEFOUNDTHELORDLYSUITORSSEATEDONHIDESOFTHEOXENWHICHTHEYHADKILLEDANDEATENANDPLAYINGDRAUGHTSINFRONTOFTHEHOUSEMENSERVANTSANDPAGESWEREBUSTLINGABOUTTOWAITUPONTHEMSOMEMIXINGWINEWITHWATERINTHEMIXINGBOWLSSOMECLEANINGDOWNTHETABLESWITHWETSPONGESANDLAYINGTHEMOUTAGAINANDSOMECUTTINGUPGREATQUANTITIESOFMEATTELEMACHUSSAWHERLONGBEFOREANYONEELSEDIDHEWASSITTINGMOODILYAMONGTHESUITORSTHINKINGABOUTHISBRAVEFATHERANDHOWHEWOULDSENDTHEMFLYINGOUTOFTHEHOUSEIFHEWERETOCOMETOHISOWNAGAINANDBEHONOUREDASINDAYSGONEBYTHUSBROODINGASHESATAMONGTHEMHECAUGHTSIGHTOFMINERVAANDWENTSTRAIGHTTOTHEGATEFORHEWASVEXEDTHATASTRANGERSHOULDBEKEPTWAITINGFORADMITTANCEHETOOKHERRIGHTHANDINHISOWNANDBADEHERGIVEHIMHERSPEARWELCOMESAIDHETOOURHOUSEANDWHENYOUHAVEPARTAKENOFFOODYOUSHALLTELLUSWHATYOUHAVECOMEFORHELEDTHEWAYASHESPOKEANDMINERVAFOLLOWEDHIMWHENTHEYWEREWITHINHETOOKHERSPEARANDSETITINTHESPEARSTANDAGAINSTASTRONGBEARINGPOSTALONGWITHTHEMANYOTHERSPEARSOFHISUNHAPPYFATHERANDHECONDUCTEDHERTOARICHLYDECORATEDSEATUNDERWHICHHETHREWACLOTHOFDAMASKTHEREWASAFOOTSTOOLALSOFORHERFEETANDHESETANOTHERSEATNEARHERFORHIMSELFAWAYFROMTHESUITORSTHATSHEMIGHTNOTBEANNOYEDWHILEEATINGBYTHEIRNOISEANDINSOLENCEANDTHATHEMIGHTASKHERMOREFREELYABOUTHISFATHERAMAIDSERVANTTHENBROUGHTTHEMWATERINABEAUTIFULGOLDENEWERANDPOUREDITINTOASILVERBASINFORTHEMTOWASHTHEIRHANDSANDSHEDREWACLEANTABLEBESIDETHEMANUPPERSERVANTBROUGHTTHEMBREADANDOFFEREDTHEMMANYGOODTHINGSOFWHATTHEREWASINTHEHOUSETHECARVERFETCHEDTHEMPLATESOFALLMANNEROFMEATSANDSETCUPSOFGOLDBYTHEIRSIDEANDAMANSERVANTBROUGHTTHEMWINEANDPOUREDITOUTFORTHEMTHENTHESUITORSCAMEINANDTOOKTHEIRPLACESONTHEBENCHESANDSEATSFORTHWITHMENSERVANTSPOUREDWATEROVERTHEIRHANDSMAIDSWENTROUNDWITHTHEBREADBASKETSPAGESFILLEDTHEMIXINGBOWLSWITHWINEANDWATERANDTHEYLAIDTHEIRHANDSUPONTHEGOODTHINGSTHATWEREBEFORETHEMASSOONASTHEYHADHADENOUGHTOEATANDDRINKTHEYWANTEDMUSICANDDANCINGWHICHARETHECROWNINGEMBELLISHMENTSOFABANQUETSOASERVANTBROUGHTALYRETOPHEMIUSWHOMTHEYCOMPELLEDPERFORCETOSINGTOTHEMASSOONASHETOUCHEDHISLYREANDBEGANTOSINGTELEMACHUSSPOKELOWTOMINERVAWITHHISHEADCLOSETOHERSTHATNOMANMIGHTHEARIHOPESIRSAIDHETHATYOUWILLNOTBEOFFENDEDWITHWHATIAMGOINGTOSAYSINGINGCOMESCHEAPTOTHOSEWHODONOTPAYFORITANDALLTHISISDONEATTHECOSTOFONEWHOSEBONESLIEROTTINGINSOMEWILDERNESSORGRINDINGTOPOWDERINTHESURFIFTHESEMENWERETOSEEMYFATHERCOMEBACKTOITHACATHEYWOULDPRAYFORLONGERLEGSRATHERTHANALONGERPURSEFORMONEYWOULDNOTSERVETHEMBUTHEALASHASFALLENONANILLFATEANDEVENWHENPEOPLEDOSOMETIMESSAYTHATHEISCOMINGWENOLONGERHEEDTHEMWESHALLNEVERSEEHIMAGAINANDNOWSIRTELLMEANDTELLMETRUEWHOYOUAREANDWHEREYOUCOMEFROMTELLMEOFYOURTOWNANDPARENTSWHATMANNEROFSHIPYOUCAMEINHOWYOURCREWBROUGHTYOUTOITHACAANDOFWHATNATIONTHEYDECLAREDTHEMSELVESTOBEFORYOUCANNOTHAVECOMEBYLANDTELLMEALSOTRULYFORIWANTTOKNOWAREYOUASTRANGERTOTHISHOUSEORHAVEYOUBEENHEREINMYFATHERSTIMEINTHEOLDDAYSWEHADMANYVISITORSFORMYFATHERWENTABOUTMUCHHIMSELFANDMINERVAANSWEREDIWILLTELLYOUTRULYANDPARTICULARLYALLABOUTITIAMMENTESSONOFANCHIALUSANDIAMKINGOFTHETAPHIANSIHAVECOMEHEREWITHMYSHIPANDCREWONAVOYAGETOMENOFAFOREIGNTONGUEBEINGBOUNDFORTEMESAWITHACARGOOFIRONANDISHALLBRINGBACKCOPPERASFORMYSHIPITLIESOVERYONDEROFFTHEOPENCOUNTRYAWAYFROMTHETOWNINTHEHARBOURRHEITHRONUNDERTHEWOODEDMOUNTAINNERITUMOURFATHERSWEREFRIENDSBEFOREUSASOLDLAERTESWILLTELLYOUIFYOUWILLGOANDASKHIMTHEYSAYHOWEVERTHATHENEVERCOMESTOTOWNNOWANDLIVESBYHIMSELFINTHECOUNTRYFARINGHARDLYWITHANOLDWOMANTOLOOKAFTERHIMANDGETHISDINNERFORHIMWHENHECOMESINTIREDFROMPOTTERINGABOUTHISVINEYARDTHEYTOLDMEYOURFATHERWASATHOMEAGAINANDTHATWASWHYICAMEBUTITSEEMSTHEGODSARESTILLKEEPINGHIMBACKFORHEISNOTDEADYETNOTONTHEMAINLANDITISMORELIKELYHEISONSOMESEAGIRTISLANDINMIDOCEANORAPRISONERAMONGSAVAGESWHOAREDETAININGHIMAGAINSTHISWILLIAMNOPROPHETANDKNOWVERYLITTLEABOUTOMENSBUTISPEAKASITISBORNEINUPONMEFROMHEAVENANDASSUREYOUTHATHEWILLNOTBEAWAYMUCHLONGERFORHEISAMANOFSUCHRESOURCETHATEVENTHOUGHHEWEREINCHAINSOFIRONHEWOULDFINDSOMEMEANSOFGETTINGHOMEAGAINBUTTELLMEANDTELLMETRUECANULYSSESREALLYHAVESUCHAFINELOOKINGFELLOWFORASONYOUAREINDEEDWONDERFULLYLIKEHIMABOUTTHEHEADANDEYESFORWEWERECLOSEFRIENDSBEFOREHESETSAILFORTROYWHERETHEFLOWEROFALLTHEARGIVESWENTALSOSINCETHATTIMEWEHAVENEVEREITHEROFUSSEENTHEOTHERMYMOTHERANSWEREDTELEMACHUSTELLSMEIAMSONTOULYSSESBUTITISAWISECHILDTHATKNOWSHISOWNFATHERWOULDTHATIWERESONTOONEWHOHADGROWNOLDUPONHISOWNESTATESFORSINCEYOUASKMETHEREISNOMOREILLSTARREDMANUNDERHEAVENTHANHEWHOTHEYTELLMEISMYFATHERANDMINERVASAIDTHEREISNOFEAROFYOURRACEDYINGOUTYETWHILEPENELOPEHASSUCHAFINESONASYOUAREBUTTELLMEANDTELLMETRUEWHATISTHEMEANINGOFALLTHISFEASTINGANDWHOARETHESEPEOPLEWHATISITALLABOUTHAVEYOUSOMEBANQUETORISTHEREAWEDDINGINTHEFAMILYFORNOONESEEMSTOBEBRINGINGANYPROVISIONSOFHISOWNANDTHEGUESTSHOWATROCIOUSLYTHEYAREBEHAVINGWHATRIOTTHEYMAKEOVERTHEWHOLEHOUSEITISENOUGHTODISGUSTANYRESPECTABLEPERSONWHOCOMESNEARTHEMSIRSAIDTELEMACHUSASREGARDSYOURQUESTIONSOLONGASMYFATHERWASHEREITWASWELLWITHUSANDWITHTHEHOUSEBUTTHEGODSINTHEIRDISPLEASUREHAVEWILLEDITOTHERWISEANDHAVEHIDDENHIMAWAYMORECLOSELYTHANMORTALMANWASEVERYETHIDDENICOULDHAVEBORNEITBETTEREVENTHOUGHHEWEREDEADIFHEHADFALLENWITHHISMENBEFORETROYORHADDIEDWITHFRIENDSAROUNDHIMWHENTHEDAYSOFHISFIGHTINGWEREDONEFORTHENTHEACHAEANSWOULDHAVEBUILTAMOUNDOVERHISASHESANDISHOULDMYSELFHAVEBEENHEIRTOHISRENOWNBUTNOWTHESTORMWINDSHAVESPIRITEDHIMAWAYWEKNOWNOTWHITHERHEISGONEWITHOUTLEAVINGSOMUCHASATRACEBEHINDHIMANDIINHERITNOTHINGBUTDISMAYNORDOESTHEMATTERENDSIMPLYWITHGRIEFFORTHELOSSOFMYFATHERHEAVENHASLAIDSORROWSUPONMEOFYETANOTHERKINDFORTHECHIEFSFROMALLOURISLANDSDULICHIUMSAMEANDTHEWOODLANDISLANDOFZACYNTHUSASALSOALLTHEPRINCIPALMENOFITHACAITSELFAREEATINGUPMYHOUSEUNDERTHEPRETEXTOFPAYINGTHEIRCOURTTOMYMOTHERWHOWILLNEITHERPOINTBLANKSAYTHATSHEWILLNOTMARRYNORYETBRINGMATTERSTOANENDSOTHEYAREMAKINGHAVOCOFMYESTATEANDBEFORELONGWILLDOSOALSOWITHMYSELFISTHATSOEXCLAIMEDMINERVATHENYOUDOINDEEDWANTULYSSESHOMEAGAINGIVEHIMHISHELMETSHIELDANDACOUPLEOFLANCESANDIFHEISTHEMANHEWASWHENIFIRSTKNEWHIMINOURHOUSEDRINKINGANDMAKINGMERRYHEWOULDSOONLAYHISHANDSABOUTTHESERASCALLYSUITORSWEREHETOSTANDONCEMOREUPONHISOWNTHRESHOLDHEWASTHENCOMINGFROMEPHYRAWHEREHEHADBEENTOBEGPOISONFORHISARROWSFROMILUSSONOFMERMERUSILUSFEAREDTHEEVERLIVINGGODSANDWOULDNOTGIVEHIMANYBUTMYFATHERLETHIMHAVESOMEFORHEWASVERYFONDOFHIMIFULYSSESISTHEMANHETHENWASTHESESUITORSWILLHAVEASHORTSHRIFTANDASORRYWEDDINGBUTTHEREITRESTSWITHHEAVENTODETERMINEWHETHERHEISTORETURNANDTAKEHISREVENGEINHISOWNHOUSEORNOIWOULDHOWEVERURGEYOUTOSETABOUTTRYINGTOGETRIDOFTHESESUITORSATONCETAKEMYADVICECALLTHEACHAEANHEROESINASSEMBLYTOMORROWMORNINGLAYYOURCASEBEFORETHEMANDCALLHEAVENTOBEARYOUWITNESSBIDTHESUITORSTAKETHEMSELVESOFFEACHTOHISOWNPLACEANDIFYOURMOTHERSMINDISSETONMARRYINGAGAINLETHERGOBACKTOHERFATHERWHOWILLFINDHERAHUSBANDANDPROVIDEHERWITHALLTHEMARRIAGEGIFTSTHATSODEARADAUGHTERMAYEXPECTASFORYOURSELFLETMEPREVAILUPONYOUTOTAKETHEBESTSHIPYOUCANGETWITHACREWOFTWENTYMENANDGOINQUESTOFYOURFATHERWHOHASSOLONGBEENMISSINGSOMEONEMAYTELLYOUSOMETHINGORANDPEOPLEOFTENHEARTHINGSINTHISWAYSOMEHEAVENSENTMESSAGEMAYDIRECTYOUFIRSTGOTOPYLOSANDASKNESTORTHENCEGOONTOSPARTAANDVISITMENELAUSFORHEGOTHOMELASTOFALLTHEACHAEANSIFYOUHEARTHATYOURFATHERISALIVEANDONHISWAYHOMEYOUCANPUTUPWITHTHEWASTETHESESUITORSWILLMAKEFORYETANOTHERTWELVEMONTHSIFONTHEOTHERHANDYOUHEAROFHISDEATHCOMEHOMEATONCECELEBRATEHISFUNERALRITESWITHALLDUEPOMPBUILDABARROWTOHISMEMORYANDMAKEYOURMOTHERMARRYAGAINTHENHAVINGDONEALLTHISTHINKITWELLOVERINYOURMINDHOWBYFAIRMEANSORFOULYOUMAYKILLTHESESUITORSINYOUROWNHOUSEYOUARETOOOLDTOPLEADINFANCYANYLONGERHAVEYOUNOTHEARDHOWPEOPLEARESINGINGORESTESPRAISESFORHAVINGKILLEDHISFATHERSMURDERERAEGISTHUSYOUAREAFINESMARTLOOKINGFELLOWSHOWYOURMETTLETHENANDMAKEYOURSELFANAMEINSTORYNOWHOWEVERIMUSTGOBACKTOMYSHIPANDTOMYCREWWHOWILLBEIMPATIENTIFIKEEPTHEMWAITINGLONGERTHINKTHEMATTEROVERFORYOURSELFANDREMEMBERWHATIHAVESAIDTOYOUSIRANSWEREDTELEMACHUSITHASBEENVERYKINDOFYOUTOTALKTOMEINTHISWAYASTHOUGHIWEREYOUROWNSONANDIWILLDOALLYOUTELLMEIKNOWYOUWANTTOBEGETTINGONWITHYOURVOYAGEBUTSTAYALITTLELONGERTILLYOUHAVETAKENABATHANDREFRESHEDYOURSELFIWILLTHENGIVEYOUAPRESENTANDYOUSHALLGOONYOURWAYREJOICINGIWILLGIVEYOUONEOFGREATBEAUTYANDVALUEAKEEPSAKESUCHASONLYDEARFRIENDSGIVETOONEANOTHERMINERVAANSWEREDDONOTTRYTOKEEPMEFORIWOULDBEONMYWAYATONCEASFORANYPRESENTYOUMAYBEDISPOSEDTOMAKEMEKEEPITTILLICOMEAGAINANDIWILLTAKEITHOMEWITHMEYOUSHALLGIVEMEAVERYGOODONEANDIWILLGIVEYOUONEOFNOLESSVALUEINRETURNWITHTHESEWORDSSHEFLEWAWAYLIKEABIRDINTOTHEAIRBUTSHEHADGIVENTELEMACHUSCOURAGEANDHADMADEHIMTHINKMORETHANEVERABOUTHISFATHERHEFELTTHECHANGEWONDEREDATITANDKNEWTHATTHESTRANGERHADBEENAGODSOHEWENTSTRAIGHTTOWHERETHESUITORSWERESITTINGPHEMIUSWASSTILLSINGINGANDHISHEARERSSATRAPTINSILENCEASHETOLDTHESADTALEOFTHERETURNFROMTROYANDTHEILLSMINERVAHADLAIDUPONTHEACHAEANSPENELOPEDAUGHTEROFICARIUSHEARDHISSONGFROMHERROOMUPSTAIRSANDCAMEDOWNBYTHEGREATSTAIRCASENOTALONEBUTATTENDEDBYTWOOFHERHANDMAIDSWHENSHEREACHEDTHESUITORSSHESTOODBYONEOFTHEBEARINGPOSTSTHATSUPPORTEDTHEROOFOFTHECLOISTERSWITHASTAIDMAIDENONEITHERSIDEOFHERSHEHELDAVEILMOREOVERBEFOREHERFACEANDWASWEEPINGBITTERLYPHEMIUSSHECRIEDYOUKNOWMANYANOTHERFEATOFGODSANDHEROESSUCHASPOETSLOVETOCELEBRATESINGTHESUITORSSOMEONEOFTHESEANDLETTHEMDRINKTHEIRWINEINSILENCEBUTCEASETHISSADTALEFORITBREAKSMYSORROWFULHEARTANDREMINDSMEOFMYLOSTHUSBANDWHOMIMOURNEVERWITHOUTCEASINGANDWHOSENAMEWASGREATOVERALLHELLASANDMIDDLEARGOSMOTHERANSWEREDTELEMACHUSLETTHEBARDSINGWHATHEHASAMINDTOBARDSDONOTMAKETHEILLSTHEYSINGOFITISJOVENOTTHEYWHOMAKESTHEMANDWHOSENDSWEALORWOEUPONMANKINDACCORDINGTOHISOWNGOODPLEASURETHISFELLOWMEANSNOHARMBYSINGINGTHEILLFATEDRETURNOFTHEDANAANSFORPEOPLEALWAYSAPPLAUDTHELATESTSONGSMOSTWARMLYMAKEUPYOURMINDTOITANDBEARITULYSSESISNOTTHEONLYMANWHONEVERCAMEBACKFROMTROYBUTMANYANOTHERWENTDOWNASWELLASHEGOTHENWITHINTHEHOUSEANDBUSYYOURSELFWITHYOURDAILYDUTIESYOURLOOMYOURDISTAFFANDTHEORDERINGOFYOURSERVANTSFORSPEECHISMANSMATTERANDMINEABOVEALLOTHERSFORITISIWHOAMMASTERHERESHEWENTWONDERINGBACKINTOTHEHOUSEANDLAIDHERSONSSAYINGINHERHEARTTHENGOINGUPSTAIRSWITHHERHANDMAIDSINTOHERROOMSHEMOURNEDHERDEARHUSBANDTILLMINERVASHEDSWEETSLEEPOVERHEREYESBUTTHESUITORSWERECLAMOROUSTHROUGHOUTTHECOVEREDCLOISTERSANDPRAYEDEACHONETHATHEMIGHTBEHERBEDFELLOWTHENTELEMACHUSSPOKESHAMELESSHECRIEDANDINSOLENTSUITORSLETUSFEASTATOURPLEASURENOWANDLETTHEREBENOBRAWLINGFORITISARARETHINGTOHEARAMANWITHSUCHADIVINEVOICEASPHEMIUSHASBUTINTHEMORNINGMEETMEINFULLASSEMBLYTHATIMAYGIVEYOUFORMALNOTICETODEPARTANDFEASTATONEANOTHERSHOUSESTURNANDTURNABOUTATYOUROWNCOSTIFONTHEOTHERHANDYOUCHOOSETOPERSISTINSPUNGINGUPONONEMANHEAVENHELPMEBUTJOVESHALLRECKONWITHYOUINFULLANDWHENYOUFALLINMYFATHERSHOUSETHERESHALLBENOMANTOAVENGEYOUTHESUITORSBITTHEIRLIPSASTHEYHEARDHIMANDMARVELLEDATTHEBOLDNESSOFHISSPEECHTHENANTINOUSSONOFEUPEITHESSAIDTHEGODSSEEMTOHAVEGIVENYOULESSONSINBLUSTERANDTALLTALKINGMAYJOVENEVERGRANTYOUTOBECHIEFINITHACAASYOURFATHERWASBEFOREYOUTELEMACHUSANSWEREDANTINOUSDONOTCHIDEWITHMEBUTGODWILLINGIWILLBECHIEFTOOIFICANISTHISTHEWORSTFATEYOUCANTHINKOFFORMEITISNOBADTHINGTOBEACHIEFFORITBRINGSBOTHRICHESANDHONOURSTILLNOWTHATULYSSESISDEADTHEREAREMANYGREATMENINITHACABOTHOLDANDYOUNGANDSOMEOTHERMAYTAKETHELEADAMONGTHEMNEVERTHELESSIWILLBECHIEFINMYOWNHOUSEANDWILLRULETHOSEWHOMULYSSESHASWONFORMETHENEURYMACHUSSONOFPOLYBUSANSWEREDITRESTSWITHHEAVENTODECIDEWHOSHALLBECHIEFAMONGUSBUTYOUSHALLBEMASTERINYOUROWNHOUSEANDOVERYOUROWNPOSSESSIONSNOONEWHILETHEREISAMANINITHACASHALLDOYOUVIOLENCENORROBYOUANDNOWMYGOODFELLOWIWANTTOKNOWABOUTTHISSTRANGERWHATCOUNTRYDOESHECOMEFROMOFWHATFAMILYISHEANDWHEREISHISESTATEHASHEBROUGHTYOUNEWSABOUTTHERETURNOFYOURFATHERORWASHEONBUSINESSOFHISOWNHESEEMEDAWELLTODOMANBUTHEHURRIEDOFFSOSUDDENLYTHATHEWASGONEINAMOMENTBEFOREWECOULDGETTOKNOWHIMMYFATHERISDEADANDGONEANSWEREDTELEMACHUSANDEVENIFSOMERUMOURREACHESMEIPUTNOMOREFAITHINITNOWMYMOTHERDOESINDEEDSOMETIMESSENDFORASOOTHSAYERANDQUESTIONHIMBUTIGIVEHISPROPHECYINGSNOHEEDASFORTHESTRANGERHEWASMENTESSONOFANCHIALUSCHIEFOFTHETAPHIANSANOLDFRIENDOFMYFATHERSBUTINHISHEARTHEKNEWTHATITHADBEENTHEGODDESSTHESUITORSTHENRETURNEDTOTHEIRSINGINGANDDANCINGUNTILTHEEVENINGBUTWHENNIGHTFELLUPONTHEIRPLEASURINGTHEYWENTHOMETOBEDEACHINHISOWNABODETELEMACHUSSROOMWASHIGHUPINATOWERTHATLOOKEDONTOTHEOUTERCOURTHITHERTHENHEHIEDBROODINGANDFULLOFTHOUGHTAGOODOLDWOMANEURYCLEADAUGHTEROFOPSTHESONOFPISENORWENTBEFOREHIMWITHACOUPLEOFBLAZINGTORCHESLAERTESHADBOUGHTHERWITHHISOWNMONEYWHENSHEWASQUITEYOUNGHEGAVETHEWORTHOFTWENTYOXENFORHERANDSHEWEDASMUCHRESPECTTOHERINHISHOUSEHOLDASHEDIDTOHISOWNWEDDEDWIFEBUTHEDIDNOTTAKEHERTOHISBEDFORHEFEAREDHISWIFESRESENTMENTSHEITWASWHONOWLIGHTEDTELEMACHUSTOHISROOMANDSHELOVEDHIMBETTERTHANANYOFTHEOTHERWOMENINTHEHOUSEDIDFORSHEHADNURSEDHIMWHENHEWASABABYHEOPENEDTHEDOOROFHISBEDROOMANDSATDOWNUPONTHEBEDASHETOOKOFFHISSHIRTHEGAVEITTOTHEGOODOLDWOMANWHOFOLDEDITTIDILYUPANDHUNGITFORHIMOVERAPEGBYHISBEDSIDEAFTERWHICHSHEWENTOUTPULLEDTHEDOORTOBYASILVERCATCHANDDREWTHEBOLTHOMEBYMEANSOFTHESTRAPBUTTELEMACHUSASHELAYCOVEREDWITHAWOOLLENFLEECEKEPTTHINKINGALLNIGHTTHROUGHOFHISINTENDEDVOYAGEANDOFTHECOUNSELTHATMINERVAHADGIVENHI'\n",
    "len(texto)"
   ]
  },
  {
   "cell_type": "code",
   "execution_count": 31,
   "metadata": {
    "collapsed": false
   },
   "outputs": [],
   "source": [
    "L_alfb = list(alfb)\n",
    "def ord2(c):\n",
    "    return L_alfb.index(c)\n",
    "\n",
    "def chr2(n):\n",
    "    return L_alfb[n]\n",
    "\n",
    "def cadena(L):\n",
    "    C = ''\n",
    "    for item in L:\n",
    "        C += str(item)\n",
    "    return C\n",
    "\n",
    "def codifica(texto):\n",
    "    '''Codifica cada letra como una cadena de 5 bits. Devuelve una cadena de 5N bits'''\n",
    "    texto_c = ''\n",
    "    L = map(ord2,list(texto))\n",
    "    for item in L:\n",
    "        L1 = ZZ(item).digits(base=2,padto=5)\n",
    "        L1.reverse()        ##los digitos estan en el orden contrario al que queremos\n",
    "        texto_c += cadena(L1)\n",
    "    return texto_c\n",
    "\n",
    "def descodifica(texto_c):\n",
    "    '''Descodifica una cadena de 5N bits a N caracteres del alfabeto.\n",
    "    El codigo recursivo mostrado en clase  debemos cambiarlo a iterativo'''\n",
    "    texto_d = ''\n",
    "    if len(texto_c) == 0:\n",
    "        return texto_d\n",
    "    N = len(texto_c)//5\n",
    "    for k in xsrange(N):\n",
    "        texto_d += chr2(ZZ(texto_c[5*k:5*(k+1)],base=2))\n",
    "    return texto_d"
   ]
  },
  {
   "cell_type": "code",
   "execution_count": 32,
   "metadata": {
    "collapsed": false
   },
   "outputs": [
    {
     "data": {
      "text/plain": [
       "True"
      ]
     },
     "execution_count": 32,
     "metadata": {},
     "output_type": "execute_result"
    }
   ],
   "source": [
    "descodifica(codifica(texto))==texto"
   ]
  },
  {
   "cell_type": "code",
   "execution_count": 33,
   "metadata": {
    "collapsed": true
   },
   "outputs": [],
   "source": [
    "def suma_s(c1,c2):\n",
    "    '''Suma de bits'''\n",
    "    if (c1 == '0' and c2 == '0') or (c1 == '1' and c2 == '1'):\n",
    "        return '0'\n",
    "    else:\n",
    "        return '1'\n",
    "\n",
    "def suma_c(C1,C2):\n",
    "    '''Suma de cadenas de bits'''\n",
    "    C3 = ''\n",
    "    if len(C1) != len(C2):\n",
    "        return 'ERROR'\n",
    "    else:\n",
    "        n = len(C1)\n",
    "        for j in srange(n):\n",
    "            C3 += suma_s(C1[j],C2[j])\n",
    "    return C3"
   ]
  },
  {
   "cell_type": "code",
   "execution_count": 34,
   "metadata": {
    "collapsed": true
   },
   "outputs": [],
   "source": [
    "from string import join\n",
    "\n",
    "def encripta(T,C):\n",
    "    '''T y C son cadenas de bits, T el texto y C la clave'''\n",
    "    L1 = list(C)\n",
    "    L2 = list(T)\n",
    "    L3 = []\n",
    "    for int in srange(len(L2)):\n",
    "        n = int%len(C)\n",
    "        L3.append(suma_s(L2[int],L1[n]))\n",
    "    return join(L3,sep=\"\")\n"
   ]
  },
  {
   "cell_type": "code",
   "execution_count": 35,
   "metadata": {
    "collapsed": false
   },
   "outputs": [
    {
     "data": {
      "text/plain": [
       "True"
      ]
     },
     "execution_count": 35,
     "metadata": {},
     "output_type": "execute_result"
    }
   ],
   "source": [
    "T = codifica(texto)\n",
    "encripta(encripta(T,C),C)==T"
   ]
  },
  {
   "cell_type": "code",
   "execution_count": 36,
   "metadata": {
    "collapsed": false
   },
   "outputs": [
    {
     "name": "stdout",
     "output_type": "stream",
     "text": [
      "H4QU14MWZQJICLF3JIDT\n"
     ]
    }
   ],
   "source": [
    "texto_encr=descodifica(encripta(codifica(texto),C))\n",
    "print texto_encr[:20]"
   ]
  },
  {
   "cell_type": "code",
   "execution_count": 37,
   "metadata": {
    "collapsed": true
   },
   "outputs": [],
   "source": [
    "def cortar_texto(C,nclave):\n",
    "    '''Almacenamos en C una lista con nclave cadenas de caracteres, cada una\n",
    "    contiene la parte del texto que se ha encriptado con la misma clave'''\n",
    "    L=[item for item in C[:nclave]]\n",
    "    for i in srange(nclave):\n",
    "       for j in srange(nclave,len(C)):\n",
    "            if j%nclave==i:\n",
    "                L[i] += C[j]\n",
    "            else:\n",
    "                continue\n",
    "    return L\n",
    "\n",
    "Lc = cortar_texto(texto_encr,20)"
   ]
  },
  {
   "cell_type": "code",
   "execution_count": 38,
   "metadata": {
    "collapsed": false
   },
   "outputs": [
    {
     "data": {
      "text/plain": [
       "True"
      ]
     },
     "execution_count": 38,
     "metadata": {},
     "output_type": "execute_result"
    }
   ],
   "source": [
    "def analisis_frec(T):\n",
    "    frecuencias = {}\n",
    "    N = len(T)\n",
    "    for letra in T:\n",
    "        if letra in frecuencias:\n",
    "            frecuencias[letra] += (1/N).n()\n",
    "        else:\n",
    "            frecuencias[letra]=(1/N).n()\n",
    "    return frecuencias\n",
    "\n",
    "def invertir(dicc):\n",
    "    dict_inv = {}\n",
    "    for key in dicc:\n",
    "        dict_inv[dicc[key]] = ord2(key)\n",
    "    return dict_inv\n",
    "\n",
    "def analisis_frec2(T):\n",
    "    '''00100 es la codificacion de la E'''\n",
    "    dicc = analisis_frec(T)\n",
    "    dicc2 = invertir(dicc)\n",
    "    L = dicc2.items()\n",
    "    L.sort(reverse=True)\n",
    "    #print L[0][1]\n",
    "    return suma_c('00100',codifica(chr2(L[0][1])))\n",
    "\n",
    "def buscar_clave(texto_encr,nclave):\n",
    "    cortado = cortar_texto(texto_encr,nclave)\n",
    "    clave = ''\n",
    "    for i in srange(nclave):\n",
    "        clave += analisis_frec2(cortado[i])\n",
    "    return clave\n",
    "\n",
    "C == buscar_clave(texto_encr,20)"
   ]
  },
  {
   "cell_type": "code",
   "execution_count": null,
   "metadata": {
    "collapsed": true
   },
   "outputs": [],
   "source": []
  }
 ],
 "metadata": {
  "kernelspec": {
   "display_name": "SageMath 7.3",
   "language": "",
   "name": "sagemath"
  },
  "language_info": {
   "codemirror_mode": {
    "name": "ipython",
    "version": 2
   },
   "file_extension": ".py",
   "mimetype": "text/x-python",
   "name": "python",
   "nbconvert_exporter": "python",
   "pygments_lexer": "ipython2",
   "version": "2.7.10"
  }
 },
 "nbformat": 4,
 "nbformat_minor": 0
}
