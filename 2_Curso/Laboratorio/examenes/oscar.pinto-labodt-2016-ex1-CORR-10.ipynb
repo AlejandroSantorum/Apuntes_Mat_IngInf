{
 "cells": [
  {
   "cell_type": "markdown",
   "metadata": {
    "deletable": true,
    "editable": true
   },
   "source": [
    "1) Antes que nada, lee cuidadosamente estas instrucciones y las que aparecen en la hoja con la contraseña. \n",
    "\n",
    "2) Cambia el nombre de este archivo sustituyendo \"nombre.apellido\" por los tuyos, tal como aparecen en tu dirección de correo electrónico de la UAM.\n",
    "\n",
    "3) Este archivo debe quedar en la carpeta \"ENTREGA...\" que está en el escritorio de tu cuenta de examen. Lo mejor es que lo muevas a esa carpeta desde el comienzo del examen.\n",
    "\n",
    "4) Recuerda que hay que deshabilitar el salvapantallas al comenzar el examen, tal como está indicado en la hoja con la contraseña. \n",
    "\n",
    "\n",
    "CALIFICACIÓN:\n"
   ]
  },
  {
   "cell_type": "code",
   "execution_count": 2,
   "metadata": {
    "collapsed": false,
    "deletable": true,
    "editable": true
   },
   "outputs": [
    {
     "data": {
      "text/plain": [
       "10"
      ]
     },
     "execution_count": 2,
     "metadata": {},
     "output_type": "execute_result"
    }
   ],
   "source": [
    "4+3+3"
   ]
  },
  {
   "cell_type": "markdown",
   "metadata": {
    "deletable": true,
    "editable": true
   },
   "source": [
    "COMENTARIOS:\n",
    "\n",
    "1)"
   ]
  },
  {
   "cell_type": "markdown",
   "metadata": {
    "deletable": true,
    "editable": true
   },
   "source": [
    "En este examen los tres ejercicios están relacionados, de una forma u otra,  con el *cálculo de factoriales de enteros*. Debe sorprendernos, al menos un poco,  que sea posible calcular estos enteros enormes en tan poco tiempo, y  el tercer ejercicio empieza a indicar cómo podemos mejorar la simple multiplicación de los enteros entre $1$ y $n$.  "
   ]
  },
  {
   "cell_type": "markdown",
   "metadata": {
    "deletable": true,
    "editable": true
   },
   "source": [
    "## Ejercicio 1 (4 puntos)\n",
    "\n",
    "La congruencia de Wilson afirma que para todo número primo $p$ se verifica que el factorial de $p-1$ es congruente con $-1$ módulo $p$. Es interesante que el recíproco también es cierto: si un entero $n$ verifica la congruencia de Wilson entonces es primo, y por tanto la congruencia de Wilson puede servir como un criterio de primalidad.\n",
    "\n",
    "El método más simple, pero no el más eficiente,  para determinar si un número $n$ es primo es la criba de Eratóstenes, es decir,  $n$ es primo si después de cribar la lista de enteros entre $2$ y $n$, ambos inclusive, $n$ está todavía en la lista cribada. Vimos en clase dos formas de implementar la criba, la segunda,  mucho más eficiente que la primera, se reproduce en la siguiente celda. \n",
    "\n",
    "**En este ejercicio debes comparar, en términos de eficiencia,  la criba con el criterio de Wilson como método para decidir si un entero $n$ es primo, es decir, debes producir  evidencia que demuestre, suficientemente, cuál de los dos métodos es mejor. No olvides discutir las consecuencias que obtienes del experimento.**\n",
    "\n",
    "Para medir tiempos puedes usar la función de SAGE $cputime()$, y con los tiempos obtenidos debes generar gráficas que permitan **ver** la diferencia entre los métodos.\n",
    "\n",
    "El número de enteros $n$ para los que medimos los tiempos  no puede ser muy grande, por ejemplo deberíamos conformarnos con unos $100$ enteros, pero los enteros $n$ habría que seleccionarlos, usando la función de SAGE $randint(N1,N2)$,  en rangos $[N1,N2]$ suficientemente grandes. Por ejemplo, puedes usar $[10^4,10^5]$ y también $[10^5,10^6]$. Los parámetros sugeridos son sólo una indicación, y puede ser necesario modificarlos, pero si se aumenta el rango, por ejemplo hasta $10^7$, sería conveniente disminuir el número de enteros para los que medimos los tiempos. \n",
    "\n",
    "**¿Qué buscamos con este experimento? Es muy posible que en cierto rango $[N1,N2]$ uno de los métodos sea sistemáticamente mejor y en otro rango lo sea el otro. Querríamos identificar aproximadamente dónde se produce, si es que se produce,  el cambio.**\n",
    "\n",
    "\n"
   ]
  },
  {
   "cell_type": "code",
   "execution_count": 3,
   "metadata": {
    "collapsed": true,
    "deletable": true,
    "editable": true
   },
   "outputs": [],
   "source": [
    "def criba(n):\n",
    "        aux = [True]*int(n)\n",
    "        aux[0] = False\n",
    "        aux[1] = False\n",
    "        for i in xrange(2,floor(sqrt(n))+1):\n",
    "            if aux[i]:\n",
    "                for j in xrange(i*i,n,i):\n",
    "                    aux[j] = False\n",
    "        return [k for k in xrange(n) if aux[k]==True]"
   ]
  },
  {
   "cell_type": "code",
   "execution_count": 4,
   "metadata": {
    "collapsed": false,
    "deletable": true,
    "editable": true
   },
   "outputs": [],
   "source": [
    "def wilson(x):\n",
    "    f=factorial(x-1)\n",
    "    if (f%x==(x-1)):\n",
    "        return True\n",
    "    else:\n",
    "        return False"
   ]
  },
  {
   "cell_type": "code",
   "execution_count": 5,
   "metadata": {
    "collapsed": false,
    "deletable": true,
    "editable": true
   },
   "outputs": [],
   "source": [
    "C=criba(100)"
   ]
  },
  {
   "cell_type": "code",
   "execution_count": 6,
   "metadata": {
    "collapsed": false,
    "deletable": true,
    "editable": true
   },
   "outputs": [
    {
     "data": {
      "text/plain": [
       "True"
      ]
     },
     "execution_count": 6,
     "metadata": {},
     "output_type": "execute_result"
    }
   ],
   "source": [
    "wilson(11)"
   ]
  },
  {
   "cell_type": "code",
   "execution_count": 7,
   "metadata": {
    "collapsed": false,
    "deletable": true,
    "editable": true
   },
   "outputs": [],
   "source": [
    "def primo_criba(n,L):\n",
    "    if n in L:\n",
    "        return True\n",
    "    return False"
   ]
  },
  {
   "cell_type": "code",
   "execution_count": 8,
   "metadata": {
    "collapsed": false,
    "deletable": true,
    "editable": true
   },
   "outputs": [
    {
     "data": {
      "text/plain": [
       "True"
      ]
     },
     "execution_count": 8,
     "metadata": {},
     "output_type": "execute_result"
    }
   ],
   "source": [
    "primo_criba(11,C)"
   ]
  },
  {
   "cell_type": "code",
   "execution_count": 9,
   "metadata": {
    "collapsed": true,
    "deletable": true,
    "editable": true
   },
   "outputs": [],
   "source": [
    "def primo_rango_criba(N1, N2):\n",
    "    R=[]\n",
    "    L = [randint(N1,N2) for _ in xsrange(100)]\n",
    "    C = criba(N2)\n",
    "    for i in range(0,len(L)-1):\n",
    "        if(primo_criba(L[i],C)==True):\n",
    "            R.append(L[i])\n",
    "    return R\n",
    "        "
   ]
  },
  {
   "cell_type": "code",
   "execution_count": 10,
   "metadata": {
    "collapsed": true,
    "deletable": true,
    "editable": true
   },
   "outputs": [],
   "source": [
    "def primo_rango_wilson(N1, N2):\n",
    "    R=[]\n",
    "    L = [randint(N1,N2) for _ in xsrange(100)]\n",
    "    for i in range(0,len(L)):\n",
    "        if(wilson(L[i])==True):\n",
    "            R.append(L[i])\n",
    "    return R"
   ]
  },
  {
   "cell_type": "code",
   "execution_count": 11,
   "metadata": {
    "collapsed": true,
    "deletable": true,
    "editable": true
   },
   "outputs": [],
   "source": [
    "L=[] #obtengo una lista de rangos para representar\n",
    "for i in range(1,6):\n",
    "    for j in range(1,10):\n",
    "        L.append((1,j*10^i))"
   ]
  },
  {
   "cell_type": "code",
   "execution_count": 12,
   "metadata": {
    "collapsed": false,
    "deletable": true,
    "editable": true
   },
   "outputs": [
    {
     "name": "stdout",
     "output_type": "stream",
     "text": [
      "[(1, 10), (1, 20), (1, 30), (1, 40), (1, 50), (1, 60), (1, 70), (1, 80), (1, 90), (1, 100), (1, 200), (1, 300), (1, 400), (1, 500), (1, 600), (1, 700), (1, 800), (1, 900), (1, 1000), (1, 2000), (1, 3000), (1, 4000), (1, 5000), (1, 6000), (1, 7000), (1, 8000), (1, 9000), (1, 10000), (1, 20000), (1, 30000), (1, 40000), (1, 50000), (1, 60000), (1, 70000), (1, 80000), (1, 90000), (1, 100000), (1, 200000), (1, 300000), (1, 400000), (1, 500000), (1, 600000), (1, 700000), (1, 800000), (1, 900000)]\n"
     ]
    }
   ],
   "source": [
    "print L"
   ]
  },
  {
   "cell_type": "code",
   "execution_count": 13,
   "metadata": {
    "collapsed": false,
    "deletable": true,
    "editable": true
   },
   "outputs": [
    {
     "name": "stdout",
     "output_type": "stream",
     "text": [
      "[(10, 3.8680000000000003), (20, 3.8680000000000003), (30, 3.8680000000000003), (40, 3.872), (50, 3.872), (60, 3.872), (70, 3.8760000000000003), (80, 3.8760000000000003), (90, 3.8760000000000003), (100, 3.88), (200, 3.88), (300, 3.88), (400, 3.88), (500, 3.8840000000000003), (600, 3.8840000000000003), (700, 3.888), (800, 3.888), (900, 3.8920000000000003), (1000, 3.8920000000000003), (2000, 3.896), (3000, 3.9000000000000004), (4000, 3.9080000000000004), (5000, 3.912), (6000, 3.92), (7000, 3.9320000000000004), (8000, 3.944), (9000, 3.96), (10000, 3.976), (20000, 4.0), (30000, 4.06), (40000, 4.18), (50000, 4.328), (60000, 4.548), (70000, 4.824), (80000, 5.156), (90000, 5.5840000000000005), (100000, 6.072), (200000, 6.724), (300000, 8.024), (400000, 10.056000000000001), (500000, 12.896), (600000, 16.348), (700000, 22.072), (800000, 28.096), (900000, 34.980000000000004)]\n"
     ]
    }
   ],
   "source": [
    "R=[]\n",
    "H=[]\n",
    "for i in srange(len(L)):    \n",
    "    R.append((L[i][1],cputime(primo_rango_criba(L[i][0],L[i][1]))))\n",
    "    H.append((L[i][1],cputime(primo_rango_wilson(L[i][0],L[i][1]))))\n",
    "    \n",
    "print R"
   ]
  },
  {
   "cell_type": "code",
   "execution_count": 14,
   "metadata": {
    "collapsed": false,
    "deletable": true,
    "editable": true
   },
   "outputs": [
    {
     "data": {
      "image/png": "[encoded data removed]",
      "text/plain": [
       "Graphics object consisting of 1 graphics primitive"
      ]
     },
     "metadata": {},
     "output_type": "display_data"
    }
   ],
   "source": [
    "linea1=line2d(R)\n",
    "linea1.show()"
   ]
  },
  {
   "cell_type": "code",
   "execution_count": 15,
   "metadata": {
    "collapsed": false,
    "deletable": true,
    "editable": true
   },
   "outputs": [
    {
     "data": {
      "image/png": "[encoded data removed]",
      "text/plain": [
       "Graphics object consisting of 1 graphics primitive"
      ]
     },
     "metadata": {},
     "output_type": "display_data"
    }
   ],
   "source": [
    "linea2=line2d(H)\n",
    "linea2.show()"
   ]
  },
  {
   "cell_type": "markdown",
   "metadata": {
    "deletable": true,
    "editable": true
   },
   "source": [
    "Como se puede apreciar en las gráficas el tiempo que tardan en clasificar los números de primos de una lista de 100 enteros ambas funciones es parabólico (se asemeja a una función polinómica de grado 2) respecto al rango de valores de los enteros de esa lista, y se puede ver como tendencia a incrementar del método que usa el Teorema de Wilson es más pronunciada, y por tanto este método es cada vez peor cuanto más aumenta el rango. Esto se puede deber a la complejidad de calcular el factorial de (p-1) frente a la relativa sencillez de calcular módulos en el método criba. Con valores más grandes la tendencia se debería mantener pero la diferencia entre ambos debería incrementarse."
   ]
  },
  {
   "cell_type": "markdown",
   "metadata": {
    "deletable": true,
    "editable": true
   },
   "source": [
    "## Ejercicio 2 (3 puntos)\n",
    "\n",
    "En este ejercicio **estudiamos diversos métodos para calcular el número binomial $\\binom{n}{m}$**, que,  por definición,  es el entero $$\\binom{n}{m}:=\\frac{n!}{m!(n-m)!},$$ y cuenta el número de subconjuntos con $m$ elementos de un conjunto de $n$ elementos. \n",
    "\n",
    "1) Un primer método,  que usaremos como base para nuestras comparaciones, consiste en usar la definición anterior\n",
    "directamente, es decir, calculando los factoriales y realizando las operaciones indicadas. Define una función de SAGE de nombre $binomial\\_1(n,m)$ y que devuelva el factorial calculado de esta manera. \n",
    "\n",
    "2) El cálculo anterior se puede organizar mejor: simplificamos $(n-m)!$ con parte de $n!$ y utilizamos que queda el mismo número de factores en el numerador que en el denominador para calcular el binomial más eficientemente. Define una función de SAGE de nombre $binomial\\_2(n,m)$ y que devuelva el factorial calculado de esta manera. \n",
    "\n",
    "3) Otra manera de calcular el binomial es la base del *triángulo de Tartaglia*, es decir, las relaciones \n",
    "$$\\binom{n}{0}=\\binom{n}{n}=1;\\binom{n}{m}=\\binom{n-1}{m-1}+\\binom{n-1}{m},$$\n",
    "que permitirían una definición recursiva del binomial. NO se pide esta solución recursiva, que no sería nada eficiente,  sino una iterativa equivalente. Define una función de SAGE de nombre $binomial\\_3(n,m)$ que utilice bucles y las relaciones anteriores para calcular el binomial. En cierto sentido este programa haría  lo mismo que cuando calculamos el triángulo de Tartaglia a mano. \n",
    "\n",
    "4) **Ejecuta las celdas incluidas al final de este ejercicio para comprobar que las funciones son correctas. ¿Algún comentario acerca de estos resultados?**\n",
    "\n"
   ]
  },
  {
   "cell_type": "code",
   "execution_count": 16,
   "metadata": {
    "collapsed": true,
    "deletable": true,
    "editable": true
   },
   "outputs": [],
   "source": [
    "def binomial_1(n,m):\n",
    "    denom = factorial(m)*factorial(n-m)\n",
    "    res = factorial(n)/denom\n",
    "    return res"
   ]
  },
  {
   "cell_type": "code",
   "execution_count": 17,
   "metadata": {
    "collapsed": true,
    "deletable": true,
    "editable": true
   },
   "outputs": [],
   "source": [
    "def binomial_2(n,m):\n",
    "    fact=1\n",
    "    for i in range (1, m+1):\n",
    "        fact*=(n-m+i)/(i)\n",
    "    return fact"
   ]
  },
  {
   "cell_type": "code",
   "execution_count": 18,
   "metadata": {
    "collapsed": true,
    "deletable": true,
    "editable": true
   },
   "outputs": [],
   "source": [
    "def binomial_3(n,m):\n",
    "    L=[1]\n",
    "    i=1\n",
    "    while i<n+1:\n",
    "        R=[]\n",
    "        R.append(1)\n",
    "        for j in range(1, i):\n",
    "            R.append(L[j-1]+L[j])\n",
    "        R.append(1)\n",
    "        L=R\n",
    "        i+=1\n",
    "    return L[m]\n",
    "    \n",
    "        "
   ]
  },
  {
   "cell_type": "code",
   "execution_count": 19,
   "metadata": {
    "collapsed": false,
    "deletable": true,
    "editable": true
   },
   "outputs": [
    {
     "name": "stdout",
     "output_type": "stream",
     "text": [
      "CPU times: user 472 ms, sys: 0 ns, total: 472 ms\n",
      "Wall time: 471 ms\n"
     ]
    }
   ],
   "source": [
    "%time N = binomial(12456758,65293) ##Binomial de SAGE"
   ]
  },
  {
   "cell_type": "code",
   "execution_count": 20,
   "metadata": {
    "collapsed": false,
    "deletable": true,
    "editable": true
   },
   "outputs": [
    {
     "name": "stdout",
     "output_type": "stream",
     "text": [
      "CPU times: user 15.5 s, sys: 420 ms, total: 15.9 s\n",
      "Wall time: 15.9 s\n"
     ]
    },
    {
     "data": {
      "text/plain": [
       "True"
      ]
     },
     "execution_count": 20,
     "metadata": {},
     "output_type": "execute_result"
    }
   ],
   "source": [
    "%time N == binomial_1(12456758,65293)"
   ]
  },
  {
   "cell_type": "code",
   "execution_count": null,
   "metadata": {
    "collapsed": false,
    "deletable": true,
    "editable": true
   },
   "outputs": [
    {
     "name": "stdout",
     "output_type": "stream",
     "text": [
      "CPU times: user 2.42 s, sys: 16 ms, total: 2.44 s\n",
      "Wall time: 2.41 s\n"
     ]
    },
    {
     "data": {
      "text/plain": [
       "True"
      ]
     },
     "execution_count": 21,
     "metadata": {},
     "output_type": "execute_result"
    }
   ],
   "source": [
    "%time N == binomial_2(12456758,65293)"
   ]
  },
  {
   "cell_type": "code",
   "execution_count": null,
   "metadata": {
    "collapsed": false,
    "deletable": true,
    "editable": true
   },
   "outputs": [],
   "source": [
    "%time binomial_3(12456758,65293)"
   ]
  },
  {
   "cell_type": "code",
   "execution_count": null,
   "metadata": {
    "collapsed": false,
    "deletable": true,
    "editable": true
   },
   "outputs": [],
   "source": [
    "%time binomial(27,9)==binomial_3(27,9)"
   ]
  },
  {
   "cell_type": "markdown",
   "metadata": {
    "deletable": true,
    "editable": true
   },
   "source": [
    "El algoritmo realizado para binomial_3 ahora mismo calcula todas las filas del triángulo de Tartaglia/Pascal, cuando se podría optimizar para que elija tan solo las secciones que son pertinentes para encontrar el valor de binomial(n,m) sin tener en cuenta el resto. Si diera tiempo en el examen se realizará a continuación."
   ]
  },
  {
   "cell_type": "code",
   "execution_count": null,
   "metadata": {
    "collapsed": true,
    "deletable": true,
    "editable": true
   },
   "outputs": [],
   "source": [
    "def binomial_3_mejorado(n,m):\n",
    "    L=[1]\n",
    "    i=1\n",
    "    while i<n+1:\n",
    "        R=[]\n",
    "        R.append(1)\n",
    "        for j in range(1, i):\n",
    "            R.append(L[j-1]+L[j])\n",
    "        R.append(1)\n",
    "        L=R\n",
    "        if(m<i/2): #idea sin probar de elección dicotómica de la lista\n",
    "            L=R[:floor(i/2)]\n",
    "        if(m>i/2):\n",
    "            L=R[floor(i/2):]\n",
    "        i+=1\n",
    "    return L[m]\n",
    "    "
   ]
  },
  {
   "cell_type": "markdown",
   "metadata": {
    "deletable": true,
    "editable": true
   },
   "source": [
    "## Ejercicio 3 (3 puntos)\n",
    "\n",
    "Finalmente, estudiamos un **algoritmo para calcular factoriales** basado en el siguiente teorema:\n",
    "\n",
    "*Dados un entero $n$ y un primo $p\\le n$ el exponente de $p$ en la factorización de $n!$ en producto de primos es el entero $$exponente(p):=\\sum_{i=1}^{i=\\infty} floor(n/p^i).$$*\n",
    "\n",
    "Observa que la suma es en realidad finita, ya que en cuanto $p^i$ supera a $n$ los sumandos son todos cero, y para todos los primos $p\\le n$ el exponente correspondiente es al menos $1$. \n",
    "\n",
    "1) Define una función que reciba el entero $n$ como argumento y devuelva una lista de pares con el primer elemento de cada par uno de los primos $p\\le n$  y el segundo el exponente que corresponde a $p$ de acuerdo al teorema mencionado. \n",
    "Para generar la lista de primos menores o iguales a $n$ puedes usar la función de SAGE $prime\\_range$ o bien la función $criba$ del Ejercicio $1$. \n",
    "\n",
    "2) Define una función de nombre $factorial\\_n(n)$ que en primer lugar llame a la función del apartado anterior, y luego calcule el producto de todos los primos elevado cada uno a su exponente. El resultado debe ser el factorial de $n$. Para elevar cada primo a su exponente debería usarse el algoritmo recursivo, bastante eficiente,  visto en clase. \n",
    "\n",
    "3) **Ejecuta las celdas al final de este ejercicio para comprobar que la función definida es correcta.**\n",
    "\n",
    "4) **¿Se te ocurre alguna manera de mejorar la eficiencia de $factorial\\_n(n)$? Explica.**\n"
   ]
  },
  {
   "cell_type": "code",
   "execution_count": null,
   "metadata": {
    "collapsed": false,
    "deletable": true,
    "editable": true
   },
   "outputs": [],
   "source": [
    "L=[(1,2)]\n",
    "print L[0][1]"
   ]
  },
  {
   "cell_type": "code",
   "execution_count": null,
   "metadata": {
    "collapsed": false,
    "deletable": true,
    "editable": true
   },
   "outputs": [],
   "source": [
    "def pares_primos(n):\n",
    "    L = prime_range(2,n)\n",
    "    R = []\n",
    "    for i in range (0, len(L)):\n",
    "        sum=0\n",
    "        j=1\n",
    "        a=1\n",
    "        while a!=0:\n",
    "            a=floor(n/(L[i]**j))\n",
    "            sum+=a\n",
    "            j+=1\n",
    "        R.append([L[i],sum])\n",
    "    return R\n",
    "        "
   ]
  },
  {
   "cell_type": "code",
   "execution_count": null,
   "metadata": {
    "collapsed": false,
    "deletable": true,
    "editable": true
   },
   "outputs": [],
   "source": [
    "pares_primos(17)"
   ]
  },
  {
   "cell_type": "code",
   "execution_count": null,
   "metadata": {
    "collapsed": false,
    "deletable": true,
    "editable": true
   },
   "outputs": [],
   "source": [
    "factor(factorial(17))"
   ]
  },
  {
   "cell_type": "code",
   "execution_count": null,
   "metadata": {
    "collapsed": true,
    "deletable": true,
    "editable": true
   },
   "outputs": [],
   "source": [
    "def potencia(a,k):\n",
    "    if k==0:\n",
    "        return 1\n",
    "    elif k %2 == 0:\n",
    "        b = potencia(a,k/2)\n",
    "        return (b*b)\n",
    "    else:\n",
    "        b = potencia(a,(k-1)/2)\n",
    "        return (a*b*b)"
   ]
  },
  {
   "cell_type": "code",
   "execution_count": null,
   "metadata": {
    "collapsed": true,
    "deletable": true,
    "editable": true
   },
   "outputs": [],
   "source": [
    "def factorial_n(n):\n",
    "    L = pares_primos(n)\n",
    "    prod=1\n",
    "    for i in range(0, len(L)):\n",
    "        prod*=potencia(L[i][0],L[i][1])\n",
    "    return prod"
   ]
  },
  {
   "cell_type": "code",
   "execution_count": null,
   "metadata": {
    "collapsed": false,
    "deletable": true,
    "editable": true
   },
   "outputs": [],
   "source": [
    "%time N1=factorial(657975) ##Factorial de SAGE"
   ]
  },
  {
   "cell_type": "code",
   "execution_count": null,
   "metadata": {
    "collapsed": false,
    "deletable": true,
    "editable": true
   },
   "outputs": [],
   "source": [
    "%time N1==factorial_n(657975)"
   ]
  },
  {
   "cell_type": "code",
   "execution_count": null,
   "metadata": {
    "collapsed": false,
    "deletable": true,
    "editable": true
   },
   "outputs": [],
   "source": [
    "def factorial_n(n):\n",
    "    L = pares_primos(n)\n",
    "    prod=1\n",
    "    for i in range(0, len(L)):\n",
    "        prod*=power(L[i][0],L[i][1])\n",
    "    return prod"
   ]
  },
  {
   "cell_type": "code",
   "execution_count": null,
   "metadata": {
    "collapsed": false,
    "deletable": true,
    "editable": true
   },
   "outputs": [],
   "source": [
    "%time N1==factorial_n(657975)"
   ]
  },
  {
   "cell_type": "markdown",
   "metadata": {
    "deletable": true,
    "editable": true
   },
   "source": [
    "Curiosamente como se puede ver la función recursiva es del mismo orden de complejidad que la normal de sage, incluso levemente peor"
   ]
  },
  {
   "cell_type": "markdown",
   "metadata": {
    "deletable": true,
    "editable": true
   },
   "source": [
    "Como se puede ver la ejecución de las celdas es correcta. Sin embargo, los tiempos de ejecución del algoritmo son mucho mayores que los de el algoritmo de sage, del orden de 15 s frente a 90 ms. Tal vez una forma de mejorar esto sería ir calculando el producto ya en la función pares primos y simplemente multiplicar para aprovechar el bucle ya hecho."
   ]
  },
  {
   "cell_type": "code",
   "execution_count": null,
   "metadata": {
    "collapsed": false,
    "deletable": true,
    "editable": true
   },
   "outputs": [],
   "source": [
    "def pares_primos_2(n):\n",
    "    L = prime_range(2,n)\n",
    "    R = []\n",
    "    for i in range (0, len(L)):\n",
    "        sum=0\n",
    "        j=1\n",
    "        a=1\n",
    "        while a!=0:\n",
    "            a=floor(n/(L[i]**j))\n",
    "            sum+=a\n",
    "            j+=1\n",
    "        R.append(power(L[i],sum))\n",
    "    return R\n",
    "        "
   ]
  },
  {
   "cell_type": "code",
   "execution_count": null,
   "metadata": {
    "collapsed": true,
    "deletable": true,
    "editable": true
   },
   "outputs": [],
   "source": [
    "def factorial_n_2(n):\n",
    "    L = pares_primos_2(n)\n",
    "    return prod(L)"
   ]
  },
  {
   "cell_type": "code",
   "execution_count": null,
   "metadata": {
    "collapsed": false,
    "deletable": true,
    "editable": true
   },
   "outputs": [],
   "source": [
    "%time N2==factorial_n_2(657975)"
   ]
  },
  {
   "cell_type": "markdown",
   "metadata": {
    "deletable": true,
    "editable": true
   },
   "source": [
    "Como podemos ver este sencillo aprovechamiento del bucle ya realizado nos permite rebajar el orden de ejecución desde 15s a 509 ms manteniendo un resultado correcto. Con esto resulta ser un mejor método que binomial_1 y binomial_2 por un margen amplio, aunque sigue siendo 5 veces más lento que el algoritmo de sage."
   ]
  }
 ],
 "metadata": {
  "kernelspec": {
   "display_name": "SageMath 8.0",
   "language": "",
   "name": "sagemath"
  },
  "language_info": {
   "codemirror_mode": {
    "name": "ipython",
    "version": 2
   },
   "file_extension": ".py",
   "mimetype": "text/x-python",
   "name": "python",
   "nbconvert_exporter": "python",
   "pygments_lexer": "ipython2",
   "version": "2.7.13"
  }
 },
 "nbformat": 4,
 "nbformat_minor": 0
}
